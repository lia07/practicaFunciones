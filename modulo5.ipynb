{
  "nbformat": 4,
  "nbformat_minor": 0,
  "metadata": {
    "colab": {
      "provenance": [],
      "include_colab_link": true
    },
    "kernelspec": {
      "name": "python3",
      "display_name": "Python 3"
    }
  },
  "cells": [
    {
      "cell_type": "markdown",
      "metadata": {
        "id": "view-in-github",
        "colab_type": "text"
      },
      "source": [
        "<a href=\"https://colab.research.google.com/github/lia07/practicaFunciones/blob/master/modulo5.ipynb\" target=\"_parent\"><img src=\"https://colab.research.google.com/assets/colab-badge.svg\" alt=\"Open In Colab\"/></a>"
      ]
    },
    {
      "cell_type": "markdown",
      "metadata": {
        "id": "yAqHL2olVDkL"
      },
      "source": [
        "MODULO 5, PAQUETES, CADENAS, METODOS DE LISTAS Y EXCEPCIONES"
      ]
    },
    {
      "cell_type": "markdown",
      "metadata": {
        "id": "dy4VMwbHo_HH"
      },
      "source": [
        "Importando un modulo"
      ]
    },
    {
      "cell_type": "code",
      "metadata": {
        "id": "vK8O80bkoyk4",
        "colab": {
          "base_uri": "https://localhost:8080/"
        },
        "outputId": "54671a1f-9e99-44fa-ce93-eeb5c7d504d1"
      },
      "source": [
        "import math\n",
        "print(math.sin(math.pi/2))"
      ],
      "execution_count": null,
      "outputs": [
        {
          "output_type": "stream",
          "text": [
            "1.0\n"
          ],
          "name": "stdout"
        }
      ]
    },
    {
      "cell_type": "code",
      "metadata": {
        "id": "ivbcAMREVPDJ"
      },
      "source": [
        "#IMPORTANDO UN MODULLO: \n",
        "import math\n",
        "def sin(x):\n",
        "  if 2 * x == pi:\n",
        "    return 0.99999999\n",
        "  else:\n",
        "    return None\n",
        "pi = 3.14\n",
        "print(sin(pi/2))\n",
        "print(math.sin(math.pi/2))"
      ],
      "execution_count": null,
      "outputs": []
    },
    {
      "cell_type": "code",
      "metadata": {
        "id": "sRDESObzfHwk"
      },
      "source": [
        "#segundo metodo de importar\n",
        "from math import sin, pi\n",
        "print(sin(pi/2))"
      ],
      "execution_count": null,
      "outputs": []
    },
    {
      "cell_type": "code",
      "metadata": {
        "id": "hgK_QE3lnOiy"
      },
      "source": [
        "from math import sin, pi \n",
        "print(sin(pi/2))\n",
        "pi = 3.14\n",
        "def sin(x):\n",
        "  if 2*x == pi:\n",
        "    return 0.99999999\n",
        "  else:\n",
        "    return None\n",
        "print(sin(pi/2))"
      ],
      "execution_count": null,
      "outputs": []
    },
    {
      "cell_type": "markdown",
      "metadata": {
        "id": "UUwcc_el8uan"
      },
      "source": [
        "Importando un módulo"
      ]
    },
    {
      "cell_type": "code",
      "metadata": {
        "id": "ov9z7K767_36"
      },
      "source": [
        "pi = 3.14\n",
        "def sin(x):\n",
        "  if 2 * x == pi:\n",
        "    return 0.99999999\n",
        "  else:\n",
        "    return None\n",
        "print(sin(pi/2))\n",
        "from math import sin, pi\n",
        "print(sin(pi/2))"
      ],
      "execution_count": null,
      "outputs": []
    },
    {
      "cell_type": "code",
      "metadata": {
        "id": "OqymT66boHZ0"
      },
      "source": [
        "#importando un modulo: * tercer metodo\n",
        "from module import *"
      ],
      "execution_count": null,
      "outputs": []
    },
    {
      "cell_type": "markdown",
      "metadata": {
        "id": "90QqjHCv_dZ9"
      },
      "source": [
        "Importando un Modulo: continuacion se necesita cambiar la palabra math, puedes introducir tu propio nombre, como en el ejemplo."
      ]
    },
    {
      "cell_type": "code",
      "metadata": {
        "id": "BW0qm_y8_cBZ"
      },
      "source": [
        "import math as m\n",
        "print(m.sin(m.pi/2))"
      ],
      "execution_count": null,
      "outputs": []
    },
    {
      "cell_type": "markdown",
      "metadata": {
        "id": "5oj2Wu6ECadP"
      },
      "source": [
        "Funciones seleccionadas del módulo math"
      ]
    },
    {
      "cell_type": "code",
      "metadata": {
        "id": "5Q9KEREwCh3o"
      },
      "source": [
        "from math import pi, radians, degrees, sin, cos, tan, asin\n",
        "\n",
        "ad = 90\n",
        "ar = radians(ad)\n",
        "ad = degrees(ar)\n",
        "\n",
        "print(ad == 90.)\n",
        "print(ar == pi / 2.)\n",
        "print(sin(ar) / cos(ar) == tan(ar))\n",
        "print(asin(sin(ar)) == ar)"
      ],
      "execution_count": null,
      "outputs": []
    },
    {
      "cell_type": "markdown",
      "metadata": {
        "id": "8GnLzgG7ObJI"
      },
      "source": [
        "Funciones seleccionadas del módulo math:"
      ]
    },
    {
      "cell_type": "code",
      "metadata": {
        "id": "TW6NjdTOOif2"
      },
      "source": [
        "#Exixte otro grupo de las funciones math \n",
        "#relacionadas con la exponenciacion:\n",
        "from math import e, exp, log\n",
        "\n",
        "print(pow(e, 1) == exp(log(e)))\n",
        "print(pow(2, 2) == exp(2 * log(2)))\n",
        "print(log(e, e) == exp(0))"
      ],
      "execution_count": null,
      "outputs": []
    },
    {
      "cell_type": "markdown",
      "metadata": {
        "id": "BFCVcN3dSP-f"
      },
      "source": [
        "Grupo de proposito general"
      ]
    },
    {
      "cell_type": "code",
      "metadata": {
        "id": "SiB46ML1SEom"
      },
      "source": [
        "from math import ceil, floor, trunc\n",
        "\n",
        "x = 1.4\n",
        "y = 2.6\n",
        "\n",
        "print(floor(x), floor(y))\n",
        "print(floor(-x), floor(-y))\n",
        "print(ceil(x), ceil(y))\n",
        "print(ceil(-x), ceil(-y))\n",
        "print(trunc(x), trunc(y))\n",
        "print(trunc(-x), trunc(-y))"
      ],
      "execution_count": null,
      "outputs": []
    },
    {
      "cell_type": "markdown",
      "metadata": {
        "id": "O6jEl3HfOa6s"
      },
      "source": []
    },
    {
      "cell_type": "markdown",
      "metadata": {
        "id": "jC6UmRpTV4S2"
      },
      "source": [
        "Funciones seleccionadas del modulo random"
      ]
    },
    {
      "cell_type": "code",
      "metadata": {
        "id": "ItUPGWYZV9U_"
      },
      "source": [
        "from random import random\n",
        "\n",
        "for i in range(5):\n",
        "    print(random())"
      ],
      "execution_count": null,
      "outputs": []
    },
    {
      "cell_type": "code",
      "metadata": {
        "id": "1rpOjPwPYjog"
      },
      "source": [
        "from random import randrange, randint\n",
        "\n",
        "print(randrange(1), end=' ')\n",
        "print(randrange(0, 1), end=' ')\n",
        "print(randrange(0, 1, 1), end=' ')\n",
        "print(randint(0, 1))"
      ],
      "execution_count": null,
      "outputs": []
    },
    {
      "cell_type": "code",
      "metadata": {
        "id": "xJFOeD6winlW"
      },
      "source": [
        "from random import randint\n",
        "\n",
        "for i in range(10):\n",
        "    print(randint(1, 10), end=',')"
      ],
      "execution_count": null,
      "outputs": []
    },
    {
      "cell_type": "code",
      "metadata": {
        "id": "dvClpboRM-_Y"
      },
      "source": [
        "import math\n",
        "print(dir(math))"
      ],
      "execution_count": null,
      "outputs": []
    },
    {
      "cell_type": "code",
      "metadata": {
        "id": "vXqWU5BAIUZu"
      },
      "source": [
        "# Tu primer modulo\n",
        "modulo.py"
      ],
      "execution_count": null,
      "outputs": []
    },
    {
      "cell_type": "code",
      "metadata": {
        "id": "sanLILWmLent",
        "colab": {
          "base_uri": "https://localhost:8080/",
          "height": 35
        },
        "outputId": "09d2975c-f509-43b0-bfe8-574228ee74e4"
      },
      "source": [
        "#module.py\n",
        "counter = 0\n",
        "if __name__ == \"__main__\":\n",
        "  print(\"I prefer to be a module\")\n",
        "else:\n",
        "  print(\"I like to be a module\")"
      ],
      "execution_count": null,
      "outputs": [
        {
          "output_type": "stream",
          "text": [
            "I prefer to be a module\n"
          ],
          "name": "stdout"
        }
      ]
    },
    {
      "cell_type": "markdown",
      "metadata": {
        "id": "-KaRe19qPKwE"
      },
      "source": [
        "EXCEPCIONES"
      ]
    },
    {
      "cell_type": "code",
      "metadata": {
        "id": "eylobHv_PI9_"
      },
      "source": [
        "primerNumero = int(input(\"Ingresa el primer numero: \"))\n",
        "segundoNumero = int(input(\"Ingresa el segundo numero: \"))\n",
        "\n",
        "if segundoNumero != 0:\n",
        "    print(primerNumero / segundoNumero)\n",
        "else:\n",
        "    print(\"Esta operacion no puede ser realizada.\")\n",
        "\n",
        "print(\"FIN.\")"
      ],
      "execution_count": null,
      "outputs": []
    },
    {
      "cell_type": "code",
      "metadata": {
        "id": "tQ8NKRGIQUEH"
      },
      "source": [
        "try:\n",
        "    print(\"1\")\n",
        "    x = 1 / 0\n",
        "    print(\"2\")\n",
        "except:\n",
        "    print(\"Oh cielos, algo salio mal...\")\n",
        "\n",
        "print(\"3\")"
      ],
      "execution_count": null,
      "outputs": []
    },
    {
      "cell_type": "markdown",
      "metadata": {
        "id": "d1iauLgHIG6q"
      },
      "source": [
        "PYTHON INTERMEDIO (EXAMEN PARTE II)"
      ]
    },
    {
      "cell_type": "code",
      "metadata": {
        "id": "hZIy-89J3qbo"
      },
      "source": [
        "#1  Sabiendo que una funcion llamada fun() reside en un modulo llamado \n",
        "#mod, y se importo usando la siguiente sentencia\n",
        "from mod import fun\n"
      ],
      "execution_count": null,
      "outputs": []
    },
    {
      "cell_type": "code",
      "metadata": {
        "id": "ZBQBFEcgYZxe"
      },
      "source": [
        "#2\n",
        "import math\n",
        "print(dir(math))\n",
        "#resp  una lista de todas las entidades"
      ],
      "execution_count": null,
      "outputs": []
    },
    {
      "cell_type": "code",
      "metadata": {
        "id": "pYDW4WhxZE1J"
      },
      "source": [
        "#3\n",
        "# el codigo de bytes compilado de python se almacena\n",
        "# en archivos cuyos nombres terminan en:\n",
        "#resp  pyc"
      ],
      "execution_count": null,
      "outputs": []
    },
    {
      "cell_type": "code",
      "metadata": {
        "id": "N6Uqxa6QZcCO"
      },
      "source": [
        "#4\n",
        "# archivo a.py\n",
        "print(\"a\", end='')\n",
        "\n",
        "print(\"c\", end='')\n",
        "\n",
        "import a\n",
        "import b\n",
        "\n",
        "#resp c\n",
        "# resp cab\n"
      ],
      "execution_count": null,
      "outputs": []
    },
    {
      "cell_type": "code",
      "metadata": {
        "id": "2GqEEGQrZ1N1"
      },
      "source": [
        "#5\n",
        "print(__name__)\n",
        "#resp  __main__"
      ],
      "execution_count": null,
      "outputs": []
    },
    {
      "cell_type": "code",
      "metadata": {
        "id": "q1wR-nzvjO6N"
      },
      "source": [
        "# 6\n",
        "from a.b import c\n",
        "#  resp  entity c from module a from package b\n"
      ],
      "execution_count": null,
      "outputs": []
    },
    {
      "cell_type": "code",
      "metadata": {
        "id": "d2MVAQTTjjEK"
      },
      "source": [
        "# 7\n",
        "# resp  not more than one try: block will be executed"
      ],
      "execution_count": null,
      "outputs": []
    },
    {
      "cell_type": "code",
      "metadata": {
        "id": "_F6ifwo8bVBi",
        "colab": {
          "base_uri": "https://localhost:8080/",
          "height": 35
        },
        "outputId": "02da0ba2-7f1a-45d0-a113-bae742cc2f14"
      },
      "source": [
        "#8\n",
        "try:\n",
        "  raise Exception\n",
        "except BaseException:\n",
        "  print(\"a\")\n",
        "except Exception:\n",
        "  print(\"b\")\n",
        "except:\n",
        "  print(\"c\")\n",
        "# resp  a"
      ],
      "execution_count": null,
      "outputs": [
        {
          "output_type": "stream",
          "text": [
            "a\n"
          ],
          "name": "stdout"
        }
      ]
    },
    {
      "cell_type": "code",
      "metadata": {
        "id": "BwnAXqE8Okmk"
      },
      "source": [
        "# 8\n",
        "try:\n",
        "  raise Excrption\n",
        "except BaseException:\n",
        "  print(\"a\")\n",
        "except Exception:\n",
        "  print(\"b\")\n",
        "except:\n",
        "  print(\"c\")\n",
        "\n",
        "  # res a"
      ],
      "execution_count": null,
      "outputs": []
    },
    {
      "cell_type": "code",
      "metadata": {
        "id": "Xqaec3IOb6cb"
      },
      "source": [
        "# 9\n",
        "for line in open('text.txt', 'rt')\n",
        "\n",
        "# Es válida como abierta devuelve un objeto iterable"
      ],
      "execution_count": null,
      "outputs": []
    },
    {
      "cell_type": "code",
      "metadata": {
        "id": "sNwVxbjePJjs"
      },
      "source": [
        "# 10\n",
        "try:\n",
        "  raise Exception\n",
        "except:\n",
        "  print(\"c\")\n",
        "except BaseException:\n",
        "  print(\"a\")\n",
        "except Exception:\n",
        "  print(\"b\")\n",
        "\n",
        "\n",
        "  # resp  causara un error"
      ],
      "execution_count": null,
      "outputs": []
    },
    {
      "cell_type": "code",
      "metadata": {
        "id": "RrKznewFki7o"
      },
      "source": [
        "# 11\n",
        "#  resp  will stop the program when var != 0"
      ],
      "execution_count": null,
      "outputs": []
    },
    {
      "cell_type": "code",
      "metadata": {
        "id": "dl4B-hhYQo9R",
        "colab": {
          "base_uri": "https://localhost:8080/"
        },
        "outputId": "c3b86d38-4c56-4005-b86a-8205515fd85f"
      },
      "source": [
        "#12\n",
        "x = \"\\\\\\\\\"\n",
        "print(len(x))\n",
        "\n",
        "#resp 2"
      ],
      "execution_count": null,
      "outputs": [
        {
          "output_type": "stream",
          "text": [
            "2\n"
          ],
          "name": "stdout"
        }
      ]
    },
    {
      "cell_type": "code",
      "metadata": {
        "id": "9mlg4a76RDcG"
      },
      "source": [
        "#13\n",
        "x = \"\\\\\\\"\n",
        "print(len(x))\n",
        "\n",
        "#resp causara error"
      ],
      "execution_count": null,
      "outputs": []
    },
    {
      "cell_type": "code",
      "metadata": {
        "id": "Kihz_lAJRPQS",
        "colab": {
          "base_uri": "https://localhost:8080/"
        },
        "outputId": "25ce413c-eade-4679-ae66-f4fae3dbdbd6"
      },
      "source": [
        "# 14\n",
        "print(chr(ord('p') + 2))\n",
        "\n",
        "# resp r"
      ],
      "execution_count": null,
      "outputs": [
        {
          "output_type": "stream",
          "text": [
            "r\n"
          ],
          "name": "stdout"
        }
      ]
    },
    {
      "cell_type": "code",
      "metadata": {
        "id": "y-aXvPS_Rjwx",
        "colab": {
          "base_uri": "https://localhost:8080/"
        },
        "outputId": "cce589ad-34f1-414a-9741-454701f95f9f"
      },
      "source": [
        "#15\n",
        "print(float(\"1.3\"))\n",
        "#resp  1.3"
      ],
      "execution_count": null,
      "outputs": [
        {
          "output_type": "stream",
          "text": [
            "1.3\n"
          ],
          "name": "stdout"
        }
      ]
    },
    {
      "cell_type": "code",
      "metadata": {
        "id": "xgQ4llaXdxyq"
      },
      "source": [
        "# 16\n",
        "class Class:\n",
        "  def __init__(self, val = 0):\n",
        "    pass\n",
        "\n",
        "  # resp  object = Class(1,2)"
      ],
      "execution_count": null,
      "outputs": []
    },
    {
      "cell_type": "code",
      "metadata": {
        "id": "g-496emBSBA4",
        "colab": {
          "base_uri": "https://localhost:8080/"
        },
        "outputId": "194c3a84-f533-40ea-87e3-48c2af565a06"
      },
      "source": [
        "#17\n",
        "class A:\n",
        "  def __init__(self, v=2):\n",
        "    self.v = v\n",
        "  def set(self,  v=1):\n",
        "      self.v += v\n",
        "      return self.v\n",
        "\n",
        "a = A()\n",
        "b = a\n",
        "b.set()\n",
        "print(a.v)\n",
        "\n",
        "#resp 3\n"
      ],
      "execution_count": null,
      "outputs": [
        {
          "output_type": "stream",
          "text": [
            "3\n"
          ],
          "name": "stdout"
        }
      ]
    },
    {
      "cell_type": "code",
      "metadata": {
        "id": "d3jWzuTjTfgX",
        "colab": {
          "base_uri": "https://localhost:8080/"
        },
        "outputId": "7d5a7314-360d-4f07-87b5-51bad634c942"
      },
      "source": [
        "# 18\n",
        "class A:\n",
        "  A = 1\n",
        "  def __init__(self):\n",
        "    self.a = 0\n",
        "print(hasattr(A, 'a'))\n",
        "\n",
        "#resp  False\n"
      ],
      "execution_count": null,
      "outputs": [
        {
          "output_type": "stream",
          "text": [
            "False\n"
          ],
          "name": "stdout"
        }
      ]
    },
    {
      "cell_type": "code",
      "metadata": {
        "id": "dT44Ey_pT5qj",
        "colab": {
          "base_uri": "https://localhost:8080/"
        },
        "outputId": "45691041-96a2-46c4-dc9d-20fc2ae51c9b"
      },
      "source": [
        "# 19\n",
        "class A:\n",
        "  pass\n",
        "class B(A):\n",
        "  pass\n",
        "class C(B):\n",
        "  pass\n",
        "\n",
        "print(issubclass(A, C))\n",
        "# False"
      ],
      "execution_count": null,
      "outputs": [
        {
          "output_type": "stream",
          "text": [
            "False\n"
          ],
          "name": "stdout"
        }
      ]
    },
    {
      "cell_type": "code",
      "metadata": {
        "id": "T1nGn0fOeQrS"
      },
      "source": [
        "#20\n",
        "# el stream sys.stderr normalmente esta asociado con:\n",
        "\n",
        "# resp  the screen"
      ],
      "execution_count": null,
      "outputs": []
    },
    {
      "cell_type": "code",
      "metadata": {
        "id": "SP0kclDRUc3Q"
      },
      "source": [
        "# 21\n",
        "class A:\n",
        "  def __init__(self, v):\n",
        "    self.__a = v + 1\n",
        "\n",
        "a = A(0)\n",
        "print(a.__a)\n",
        "\n",
        "#resp   AttributeError"
      ],
      "execution_count": null,
      "outputs": []
    },
    {
      "cell_type": "code",
      "metadata": {
        "id": "GA6vX9JJVELn"
      },
      "source": [
        "# 22\n",
        "class A:\n",
        "  def __init__(self):\n",
        "    pass\n",
        "\n",
        "a = A(1)\n",
        "print(hasattr(a, 'A'))\n",
        "\n",
        "#RESP  lanzara una excepcion"
      ],
      "execution_count": null,
      "outputs": []
    },
    {
      "cell_type": "code",
      "metadata": {
        "id": "6wulHum-V_P-",
        "colab": {
          "base_uri": "https://localhost:8080/"
        },
        "outputId": "6a2d3355-fe2a-4b58-dce7-eb6ce8dd2d9f"
      },
      "source": [
        "# 23\n",
        "class A:\n",
        "  def a(self):\n",
        "    print('a')\n",
        "class B:\n",
        "  def a(self):\n",
        "    print('b')\n",
        "\n",
        "class C(B, A):\n",
        "  def c(self):\n",
        "    self.a()\n",
        "\n",
        "o = C()\n",
        "o.c()\n",
        "# resp b"
      ],
      "execution_count": null,
      "outputs": [
        {
          "output_type": "stream",
          "text": [
            "b\n"
          ],
          "name": "stdout"
        }
      ]
    },
    {
      "cell_type": "code",
      "metadata": {
        "id": "igZyRrjsWvYA",
        "colab": {
          "base_uri": "https://localhost:8080/"
        },
        "outputId": "c5f5fced-0c73-4b31-ba34-8f291521452f"
      },
      "source": [
        "#24\n",
        " \n",
        "try:\n",
        "   raise Exception(1, 2, 3)\n",
        "except Exception as e:\n",
        "  print(len(e.args))\n",
        "\n",
        "  #resp 3"
      ],
      "execution_count": null,
      "outputs": [
        {
          "output_type": "stream",
          "text": [
            "3\n"
          ],
          "name": "stdout"
        }
      ]
    },
    {
      "cell_type": "code",
      "metadata": {
        "id": "90G-LJnMXIHR",
        "colab": {
          "base_uri": "https://localhost:8080/"
        },
        "outputId": "07f1b1d4-d5c5-42fb-f59b-bde908cc6f09"
      },
      "source": [
        "#25\n",
        "\n",
        "def I(n):\n",
        "  s = '+'\n",
        "  for i in range(n):\n",
        "    s+= s\n",
        "    yield s\n",
        "\n",
        "for x in I(2):\n",
        "  print(x, end = '')\n",
        "\n",
        "  #resp  ++++++\n",
        "  "
      ],
      "execution_count": null,
      "outputs": [
        {
          "output_type": "stream",
          "text": [
            "++++++"
          ],
          "name": "stdout"
        }
      ]
    },
    {
      "cell_type": "code",
      "metadata": {
        "id": "mdC1oiGPXsAD",
        "colab": {
          "base_uri": "https://localhost:8080/"
        },
        "outputId": "a6fff6ef-9cd1-4b54-d279-da3cf1667ad7"
      },
      "source": [
        "# 26\n",
        "class I:\n",
        "  def __init__(self):\n",
        "    self.s = 'abc'\n",
        "    self.i = 0\n",
        "  def __iter__(self):\n",
        "    return self\n",
        "  def __next__(self):\n",
        "    if self.i == len(self.s):\n",
        "            raise StopIteration\n",
        "    v = self.s[self.i]\n",
        "    self.i += 1\n",
        "    return v\n",
        "\n",
        "for x in I():\n",
        "  print(x, end = '')\n",
        "\n",
        "  #resp abc"
      ],
      "execution_count": null,
      "outputs": [
        {
          "output_type": "stream",
          "text": [
            "abc"
          ],
          "name": "stdout"
        }
      ]
    },
    {
      "cell_type": "code",
      "metadata": {
        "id": "4xRSADBTfSzF",
        "colab": {
          "base_uri": "https://localhost:8080/"
        },
        "outputId": "bf4d0148-e0ab-4b8e-cfc2-1357025f2ec9"
      },
      "source": [
        "# 27\n",
        "def o(p):\n",
        "  def q():\n",
        "    return '*' *p\n",
        "  return q\n",
        "r = o(1)\n",
        "s = o(2)\n",
        "print(r() + s())\n",
        "# resp  ***\n"
      ],
      "execution_count": null,
      "outputs": [
        {
          "output_type": "stream",
          "text": [
            "***\n"
          ],
          "name": "stdout"
        }
      ]
    },
    {
      "cell_type": "code",
      "metadata": {
        "id": "I7yLenQHY88k"
      },
      "source": [
        "# 28\n",
        "\n",
        "#si un stream s es uabierto en modo lectura,\n",
        "# la siguiente linea :\n",
        "q = s.read(1)\n",
        "\n",
        "# read 1 character from the stream"
      ],
      "execution_count": null,
      "outputs": []
    },
    {
      "cell_type": "code",
      "metadata": {
        "id": "vpCJLmHUZjlr",
        "colab": {
          "base_uri": "https://localhost:8080/",
          "height": 231
        },
        "outputId": "a124a315-bd9e-4ed2-d5bf-939e566cd90e"
      },
      "source": [
        "#29\n",
        "\n",
        "for x in open('file', 'rt'):\n",
        "  print(x)\n",
        "\n",
        "  # resp  read the file line by line"
      ],
      "execution_count": null,
      "outputs": [
        {
          "output_type": "error",
          "ename": "FileNotFoundError",
          "evalue": "ignored",
          "traceback": [
            "\u001b[0;31m---------------------------------------------------------------------------\u001b[0m",
            "\u001b[0;31mFileNotFoundError\u001b[0m                         Traceback (most recent call last)",
            "\u001b[0;32m<ipython-input-13-49b700ca0347>\u001b[0m in \u001b[0;36m<module>\u001b[0;34m()\u001b[0m\n\u001b[1;32m      1\u001b[0m \u001b[0;31m#29\u001b[0m\u001b[0;34m\u001b[0m\u001b[0;34m\u001b[0m\u001b[0;34m\u001b[0m\u001b[0m\n\u001b[1;32m      2\u001b[0m \u001b[0;34m\u001b[0m\u001b[0m\n\u001b[0;32m----> 3\u001b[0;31m \u001b[0;32mfor\u001b[0m \u001b[0mx\u001b[0m \u001b[0;32min\u001b[0m \u001b[0mopen\u001b[0m\u001b[0;34m(\u001b[0m\u001b[0;34m'file'\u001b[0m\u001b[0;34m,\u001b[0m \u001b[0;34m'rt'\u001b[0m\u001b[0;34m)\u001b[0m\u001b[0;34m:\u001b[0m\u001b[0;34m\u001b[0m\u001b[0;34m\u001b[0m\u001b[0m\n\u001b[0m\u001b[1;32m      4\u001b[0m   \u001b[0mprint\u001b[0m\u001b[0;34m(\u001b[0m\u001b[0mx\u001b[0m\u001b[0;34m)\u001b[0m\u001b[0;34m\u001b[0m\u001b[0;34m\u001b[0m\u001b[0m\n\u001b[1;32m      5\u001b[0m \u001b[0;34m\u001b[0m\u001b[0m\n",
            "\u001b[0;31mFileNotFoundError\u001b[0m: [Errno 2] No such file or directory: 'file'"
          ]
        }
      ]
    },
    {
      "cell_type": "code",
      "metadata": {
        "id": "27ggnW6YZ57-"
      },
      "source": [
        "#30\n",
        "\n",
        "#si desea llenar un arreglo de bytes con datos\n",
        "# leidos de una stream, puede usar:\n",
        "# resp  el metodo readInto()     the readinto() method"
      ],
      "execution_count": null,
      "outputs": []
    },
    {
      "cell_type": "code",
      "metadata": {
        "id": "8RbYLqfIhnDG"
      },
      "source": [
        "sabiendo que una funcion llamada fun() reside un modulo llamado\n",
        "mod, y se importo usando la siguiente sentencia\n",
        "from mod import fun"
      ],
      "execution_count": null,
      "outputs": []
    },
    {
      "cell_type": "markdown",
      "metadata": {
        "id": "ix8NookivsGG"
      },
      "source": [
        "E. FINAL PYTHON "
      ]
    },
    {
      "cell_type": "code",
      "metadata": {
        "id": "AI3RdYiCvvmA"
      },
      "source": [
        "#1\n",
        "#EL SIGNIFICADO DE UN ARGUMENTO DE\n",
        " #PALABRA CLAVE RESERVADA ESSTA DETERMINADO POR:\n",
        "\n",
        " # RESP  su valor"
      ],
      "execution_count": null,
      "outputs": []
    },
    {
      "cell_type": "code",
      "metadata": {
        "id": "cgyy0PA9-Cub"
      },
      "source": [
        "# 2 Cual de las siguientes enunciados es verdadero?\n",
        "str1 = 'string'\n",
        "str2 = str1[:]"
      ],
      "execution_count": null,
      "outputs": []
    },
    {
      "cell_type": "code",
      "metadata": {
        "id": "I12A0ALs-lTZ"
      },
      "source": [
        "# 3 Un operador capaz de verificar si dos valores son iguales\n"
      ],
      "execution_count": null,
      "outputs": []
    },
    {
      "cell_type": "code",
      "metadata": {
        "id": "Bt_0yvEy0c4N",
        "colab": {
          "base_uri": "https://localhost:8080/",
          "height": 129
        },
        "outputId": "96f46d81-abf7-402f-bf8a-36ecdf5b3dca"
      },
      "source": [
        "# 4\n",
        "def f(par2, par1):\n",
        "  return par2 + par1\n",
        "\n",
        "print(f(par2=1, 2))\n",
        "\n",
        "# resp    "
      ],
      "execution_count": null,
      "outputs": [
        {
          "output_type": "error",
          "ename": "SyntaxError",
          "evalue": "ignored",
          "traceback": [
            "\u001b[0;36m  File \u001b[0;32m\"<ipython-input-9-f5fa46016008>\"\u001b[0;36m, line \u001b[0;32m5\u001b[0m\n\u001b[0;31m    print(f(par2=1, 2))\u001b[0m\n\u001b[0m                   ^\u001b[0m\n\u001b[0;31mSyntaxError\u001b[0m\u001b[0;31m:\u001b[0m positional argument follows keyword argument\n"
          ]
        }
      ]
    },
    {
      "cell_type": "code",
      "metadata": {
        "id": "t5OAbIBM1jDy",
        "colab": {
          "base_uri": "https://localhost:8080/"
        },
        "outputId": "23f28b2e-64ad-4407-8dbd-b21ec7e1b349"
      },
      "source": [
        "#5\n",
        "z=2\n",
        "y=1\n",
        "x=y<z or z>y and y>z or z<y\n",
        "print(x)\n",
        "# resp   true"
      ],
      "execution_count": null,
      "outputs": [
        {
          "output_type": "stream",
          "text": [
            "True\n"
          ],
          "name": "stdout"
        }
      ]
    },
    {
      "cell_type": "code",
      "metadata": {
        "id": "QmjW_4Bx5TdP",
        "colab": {
          "base_uri": "https://localhost:8080/",
          "height": 333
        },
        "outputId": "a444cf16-be3e-45ca-cb28-1c040e5c7ffb"
      },
      "source": [
        "#6\n",
        "str = 'abcdef'\n",
        "def fun(s):\n",
        "  del s[2]\n",
        "  \n",
        "  return s\n",
        "\n",
        "print(fun(str))\n",
        "# resp  \n"
      ],
      "execution_count": null,
      "outputs": [
        {
          "output_type": "error",
          "ename": "TypeError",
          "evalue": "ignored",
          "traceback": [
            "\u001b[0;31m---------------------------------------------------------------------------\u001b[0m",
            "\u001b[0;31mTypeError\u001b[0m                                 Traceback (most recent call last)",
            "\u001b[0;32m<ipython-input-11-1173e4fecf54>\u001b[0m in \u001b[0;36m<module>\u001b[0;34m()\u001b[0m\n\u001b[1;32m      6\u001b[0m   \u001b[0;32mreturn\u001b[0m \u001b[0ms\u001b[0m\u001b[0;34m\u001b[0m\u001b[0;34m\u001b[0m\u001b[0m\n\u001b[1;32m      7\u001b[0m \u001b[0;34m\u001b[0m\u001b[0m\n\u001b[0;32m----> 8\u001b[0;31m \u001b[0mprint\u001b[0m\u001b[0;34m(\u001b[0m\u001b[0mfun\u001b[0m\u001b[0;34m(\u001b[0m\u001b[0mstr\u001b[0m\u001b[0;34m)\u001b[0m\u001b[0;34m)\u001b[0m\u001b[0;34m\u001b[0m\u001b[0;34m\u001b[0m\u001b[0m\n\u001b[0m\u001b[1;32m      9\u001b[0m \u001b[0;31m# resp\u001b[0m\u001b[0;34m\u001b[0m\u001b[0;34m\u001b[0m\u001b[0;34m\u001b[0m\u001b[0m\n",
            "\u001b[0;32m<ipython-input-11-1173e4fecf54>\u001b[0m in \u001b[0;36mfun\u001b[0;34m(s)\u001b[0m\n\u001b[1;32m      2\u001b[0m \u001b[0mstr\u001b[0m \u001b[0;34m=\u001b[0m \u001b[0;34m'abcdef'\u001b[0m\u001b[0;34m\u001b[0m\u001b[0;34m\u001b[0m\u001b[0m\n\u001b[1;32m      3\u001b[0m \u001b[0;32mdef\u001b[0m \u001b[0mfun\u001b[0m\u001b[0;34m(\u001b[0m\u001b[0ms\u001b[0m\u001b[0;34m)\u001b[0m\u001b[0;34m:\u001b[0m\u001b[0;34m\u001b[0m\u001b[0;34m\u001b[0m\u001b[0m\n\u001b[0;32m----> 4\u001b[0;31m   \u001b[0;32mdel\u001b[0m \u001b[0ms\u001b[0m\u001b[0;34m[\u001b[0m\u001b[0;36m2\u001b[0m\u001b[0;34m]\u001b[0m\u001b[0;34m\u001b[0m\u001b[0;34m\u001b[0m\u001b[0m\n\u001b[0m\u001b[1;32m      5\u001b[0m \u001b[0;34m\u001b[0m\u001b[0m\n\u001b[1;32m      6\u001b[0m   \u001b[0;32mreturn\u001b[0m \u001b[0ms\u001b[0m\u001b[0;34m\u001b[0m\u001b[0;34m\u001b[0m\u001b[0m\n",
            "\u001b[0;31mTypeError\u001b[0m: 'str' object doesn't support item deletion"
          ]
        }
      ]
    },
    {
      "cell_type": "code",
      "metadata": {
        "id": "jRIEGnYH6UUt",
        "colab": {
          "base_uri": "https://localhost:8080/"
        },
        "outputId": "43ef5f11-e482-4ec0-faa2-b1b38f716f39"
      },
      "source": [
        "# 7\n",
        "x, y, z = 3,2,1\n",
        "z, y, x = x, y, z\n",
        "print(x, y,z)\n",
        "\n",
        "# resp 123"
      ],
      "execution_count": null,
      "outputs": [
        {
          "output_type": "stream",
          "text": [
            "1 2 3\n"
          ],
          "name": "stdout"
        }
      ]
    },
    {
      "cell_type": "code",
      "metadata": {
        "id": "hKSlDp9J6xcj",
        "colab": {
          "base_uri": "https://localhost:8080/"
        },
        "outputId": "7ff5b8f6-5ece-454a-ef67-1e31db9b9c1f"
      },
      "source": [
        "# 8\n",
        "a = True\n",
        "b = False\n",
        "a = a or b\n",
        "b = a and b\n",
        "a = a or b\n",
        "print(a, b)\n",
        "\n",
        "# resp   True  False"
      ],
      "execution_count": null,
      "outputs": [
        {
          "output_type": "stream",
          "text": [
            "True False\n"
          ],
          "name": "stdout"
        }
      ]
    },
    {
      "cell_type": "code",
      "metadata": {
        "id": "OZROnvB27NKA",
        "colab": {
          "base_uri": "https://localhost:8080/"
        },
        "outputId": "40c77d53-5fdc-4a11-e7b4-676ba7f2e629"
      },
      "source": [
        "# 9\n",
        "def fun(x):\n",
        "  return 1 if x % 2!=0 else 2\n",
        "print(fun(fun(1)))\n",
        "# resp 1"
      ],
      "execution_count": null,
      "outputs": [
        {
          "output_type": "stream",
          "text": [
            "1\n"
          ],
          "name": "stdout"
        }
      ]
    },
    {
      "cell_type": "code",
      "metadata": {
        "id": "lZQEvaOf7fXQ",
        "colab": {
          "base_uri": "https://localhost:8080/"
        },
        "outputId": "d9bd1f3d-22cd-4d07-886d-e9253248224f"
      },
      "source": [
        "# 10\n",
        "print(len((1, )))\n",
        "# resp  1"
      ],
      "execution_count": null,
      "outputs": [
        {
          "output_type": "stream",
          "text": [
            "1\n"
          ],
          "name": "stdout"
        }
      ]
    },
    {
      "cell_type": "code",
      "metadata": {
        "id": "rdWoAZB07t54",
        "colab": {
          "base_uri": "https://localhost:8080/"
        },
        "outputId": "4f59bd62-fd8c-4938-a1b0-82819c480241"
      },
      "source": [
        "#11\n",
        "d = {1:0, 2:1, 3:2, 0:1}\n",
        "x = 0\n",
        "for y in range(len(d)):\n",
        "  x = d[x]\n",
        "print(x)\n",
        "# resp 0"
      ],
      "execution_count": null,
      "outputs": [
        {
          "output_type": "stream",
          "text": [
            "0\n"
          ],
          "name": "stdout"
        }
      ]
    },
    {
      "cell_type": "code",
      "metadata": {
        "id": "YQJ43ULO8JCs",
        "colab": {
          "base_uri": "https://localhost:8080/"
        },
        "outputId": "f9643e5c-54a6-43e6-a682-99fb8fbb2493"
      },
      "source": [
        "#12\n",
        "y= input()\n",
        "x= input()\n",
        "print(x+y)\n",
        "# resp 21"
      ],
      "execution_count": null,
      "outputs": [
        {
          "output_type": "stream",
          "text": [
            "1\n",
            "2\n",
            "21\n"
          ],
          "name": "stdout"
        }
      ]
    },
    {
      "cell_type": "code",
      "metadata": {
        "id": "eb9PaYjc8cLQ"
      },
      "source": [
        "# 13\n",
        "print(\"a\", \"b\", \"c\", sep=\"'\")\n",
        "# resp  a'b'c"
      ],
      "execution_count": null,
      "outputs": []
    },
    {
      "cell_type": "code",
      "metadata": {
        "id": "1oEmLk2T8wlD",
        "colab": {
          "base_uri": "https://localhost:8080/"
        },
        "outputId": "b34a6871-64fc-4bf3-9f5f-8189bc0739f2"
      },
      "source": [
        "# 14\n",
        "v=1+1 // 2+1/2+2\n",
        "print(v)\n",
        "# resp 3.5"
      ],
      "execution_count": null,
      "outputs": [
        {
          "output_type": "stream",
          "text": [
            "3.5\n"
          ],
          "name": "stdout"
        }
      ]
    },
    {
      "cell_type": "code",
      "metadata": {
        "id": "PPbB24Et87R0",
        "colab": {
          "base_uri": "https://localhost:8080/"
        },
        "outputId": "09868d4f-a928-4092-addf-440302e176c1"
      },
      "source": [
        "# 15\n",
        "t = (1, )\n",
        "t = t[0] + t[0]\n",
        "print(t)\n",
        "# resp 2"
      ],
      "execution_count": null,
      "outputs": [
        {
          "output_type": "stream",
          "text": [
            "2\n"
          ],
          "name": "stdout"
        }
      ]
    },
    {
      "cell_type": "code",
      "metadata": {
        "id": "ukR95uAd9SHo",
        "colab": {
          "base_uri": "https://localhost:8080/"
        },
        "outputId": "54b1ca06-72d8-4b71-f822-b653da8a3ec3"
      },
      "source": [
        "# 16\n",
        "x = 16\n",
        "while x>0:\n",
        "  print('*', end='')\n",
        "  x//=2\n",
        "\n",
        "  # resp  *****\n"
      ],
      "execution_count": null,
      "outputs": [
        {
          "output_type": "stream",
          "text": [
            "*****"
          ],
          "name": "stdout"
        }
      ]
    },
    {
      "cell_type": "code",
      "metadata": {
        "id": "I5zhDL769oJP",
        "colab": {
          "base_uri": "https://localhost:8080/"
        },
        "outputId": "fb67658e-5d4c-4f8a-e675-4bb81415084b"
      },
      "source": [
        "# 17\n",
        "d = {'uno':1, 'tres':3, 'dos':2}\n",
        "for k in sorted(d.values()):\n",
        "  print(k, end= '')\n",
        "\n",
        "  # resp  123"
      ],
      "execution_count": null,
      "outputs": [
        {
          "output_type": "stream",
          "text": [
            "123"
          ],
          "name": "stdout"
        }
      ]
    },
    {
      "cell_type": "code",
      "metadata": {
        "id": "6PGHBy6X9oFb",
        "colab": {
          "base_uri": "https://localhost:8080/"
        },
        "outputId": "2992a849-21e6-4f86-b9d8-c4d10d399d9f"
      },
      "source": [
        "# 18\n",
        "print(len([i for i in range(0, -2)]))\n",
        "# resp 0"
      ],
      "execution_count": null,
      "outputs": [
        {
          "output_type": "stream",
          "text": [
            "0\n"
          ],
          "name": "stdout"
        }
      ]
    },
    {
      "cell_type": "code",
      "metadata": {
        "id": "MojQ-SNb-YV4"
      },
      "source": [
        "# 19\n",
        "def fun(a, b, c=0):\n",
        "  fun(a=1,b=0,c=0)"
      ],
      "execution_count": null,
      "outputs": []
    },
    {
      "cell_type": "code",
      "metadata": {
        "id": "MH-Q1x-7-o4i",
        "colab": {
          "base_uri": "https://localhost:8080/",
          "height": 231
        },
        "outputId": "6ad8da90-adf3-4c3e-ae20-f45f4bb70733"
      },
      "source": [
        "#20\n",
        "lt = [1, 2, 3, 4]\n",
        "\n",
        "lt = list(map(lambda x: 2*x, 1))\n",
        "print(lt)\n",
        "# resp error"
      ],
      "execution_count": null,
      "outputs": [
        {
          "output_type": "error",
          "ename": "TypeError",
          "evalue": "ignored",
          "traceback": [
            "\u001b[0;31m---------------------------------------------------------------------------\u001b[0m",
            "\u001b[0;31mTypeError\u001b[0m                                 Traceback (most recent call last)",
            "\u001b[0;32m<ipython-input-23-5f7e5afb1660>\u001b[0m in \u001b[0;36m<module>\u001b[0;34m()\u001b[0m\n\u001b[1;32m      2\u001b[0m \u001b[0mlt\u001b[0m \u001b[0;34m=\u001b[0m \u001b[0;34m[\u001b[0m\u001b[0;36m1\u001b[0m\u001b[0;34m,\u001b[0m \u001b[0;36m2\u001b[0m\u001b[0;34m,\u001b[0m \u001b[0;36m3\u001b[0m\u001b[0;34m,\u001b[0m \u001b[0;36m4\u001b[0m\u001b[0;34m]\u001b[0m\u001b[0;34m\u001b[0m\u001b[0;34m\u001b[0m\u001b[0m\n\u001b[1;32m      3\u001b[0m \u001b[0;34m\u001b[0m\u001b[0m\n\u001b[0;32m----> 4\u001b[0;31m \u001b[0mlt\u001b[0m \u001b[0;34m=\u001b[0m \u001b[0mlist\u001b[0m\u001b[0;34m(\u001b[0m\u001b[0mmap\u001b[0m\u001b[0;34m(\u001b[0m\u001b[0;32mlambda\u001b[0m \u001b[0mx\u001b[0m\u001b[0;34m:\u001b[0m \u001b[0;36m2\u001b[0m\u001b[0;34m*\u001b[0m\u001b[0mx\u001b[0m\u001b[0;34m,\u001b[0m \u001b[0;36m1\u001b[0m\u001b[0;34m)\u001b[0m\u001b[0;34m)\u001b[0m\u001b[0;34m\u001b[0m\u001b[0;34m\u001b[0m\u001b[0m\n\u001b[0m\u001b[1;32m      5\u001b[0m \u001b[0mprint\u001b[0m\u001b[0;34m(\u001b[0m\u001b[0mlt\u001b[0m\u001b[0;34m)\u001b[0m\u001b[0;34m\u001b[0m\u001b[0;34m\u001b[0m\u001b[0m\n\u001b[1;32m      6\u001b[0m \u001b[0;31m# resp error\u001b[0m\u001b[0;34m\u001b[0m\u001b[0;34m\u001b[0m\u001b[0;34m\u001b[0m\u001b[0m\n",
            "\u001b[0;31mTypeError\u001b[0m: 'int' object is not iterable"
          ]
        }
      ]
    },
    {
      "cell_type": "code",
      "metadata": {
        "id": "l1KFx3rL_Ia5",
        "colab": {
          "base_uri": "https://localhost:8080/"
        },
        "outputId": "f00dfdc0-ccf0-441c-e2ad-d76880d57d00"
      },
      "source": [
        "#21\n",
        "i = 4\n",
        "while i>0:\n",
        "   i -= 2\n",
        "   print(\"*\")\n",
        "   if i == 2:\n",
        "     break\n",
        "else:\n",
        "    print(\"*\")\n",
        "# resp  *"
      ],
      "execution_count": null,
      "outputs": [
        {
          "output_type": "stream",
          "text": [
            "*\n"
          ],
          "name": "stdout"
        }
      ]
    },
    {
      "cell_type": "code",
      "metadata": {
        "id": "yV1lQsB7AB7i",
        "colab": {
          "base_uri": "https://localhost:8080/"
        },
        "outputId": "5b520678-8d4e-4121-aa51-7b5e7a329bd5"
      },
      "source": [
        "#22\n",
        "t = (1,2,3,4)\n",
        "t = t[-2:-1]\n",
        "t = t[-1]\n",
        "print(t)\n",
        "# resp  3"
      ],
      "execution_count": null,
      "outputs": [
        {
          "output_type": "stream",
          "text": [
            "3\n"
          ],
          "name": "stdout"
        }
      ]
    },
    {
      "cell_type": "code",
      "metadata": {
        "id": "AnvJ1yv_AXA1",
        "colab": {
          "base_uri": "https://localhost:8080/"
        },
        "outputId": "3a88d9a3-85d4-43bb-cd48-625d9e92ef7b"
      },
      "source": [
        "# 23\n",
        "d = {}\n",
        "d['2']=[1,2]\n",
        "d['1']=[3, 4]\n",
        "\n",
        "for x in d.keys():\n",
        "  print(d[x][1], end=\"\")\n",
        "  # 24"
      ],
      "execution_count": null,
      "outputs": [
        {
          "output_type": "stream",
          "text": [
            "24"
          ],
          "name": "stdout"
        }
      ]
    },
    {
      "cell_type": "code",
      "metadata": {
        "id": "OarLqXGABEDi",
        "colab": {
          "base_uri": "https://localhost:8080/"
        },
        "outputId": "9ce5e338-0f26-4256-ad07-21f4d7d9dd78"
      },
      "source": [
        "#24\n",
        "def fun(d, k, v):\n",
        "  d[k]=v\n",
        "\n",
        "dc={}\n",
        "print(fun(dc, '1', 'v'))\n",
        "\n",
        "#resp  none"
      ],
      "execution_count": null,
      "outputs": [
        {
          "output_type": "stream",
          "text": [
            "None\n"
          ],
          "name": "stdout"
        }
      ]
    },
    {
      "cell_type": "code",
      "metadata": {
        "id": "h0IYTQIYBzTL",
        "colab": {
          "base_uri": "https://localhost:8080/"
        },
        "outputId": "b4541df2-49be-4ac6-98cc-038643ffdce2"
      },
      "source": [
        "#25\n",
        "ls = [[c for c in range(r)] for r in range(3)]\n",
        "for x in ls:\n",
        "  if len(x) < 2:\n",
        "    print()\n",
        "\n",
        "    # resp vacio"
      ],
      "execution_count": null,
      "outputs": [
        {
          "output_type": "stream",
          "text": [
            "\n",
            "\n"
          ],
          "name": "stdout"
        }
      ]
    },
    {
      "cell_type": "code",
      "metadata": {
        "id": "Jxhg4VlREz7x"
      },
      "source": [
        "# 26\n",
        "from f import m\n",
        "# resp f()"
      ],
      "execution_count": null,
      "outputs": []
    },
    {
      "cell_type": "code",
      "metadata": {
        "id": "ZRE3BrwfFEKv"
      },
      "source": [
        "#27 \n",
        "# resp __init__.py    ____verificar"
      ],
      "execution_count": null,
      "outputs": []
    },
    {
      "cell_type": "code",
      "metadata": {
        "id": "p_LhyRttFPBO"
      },
      "source": [
        "# 28\n",
        "  # resp  __pycache__  verificar"
      ],
      "execution_count": null,
      "outputs": []
    },
    {
      "cell_type": "code",
      "metadata": {
        "id": "gUri8Jv_FhUi",
        "colab": {
          "base_uri": "https://localhost:8080/"
        },
        "outputId": "41d5ce88-803d-4d4f-91d4-a0c575f436f7"
      },
      "source": [
        "# 29\n",
        "print(__name__)\n",
        "# resp  __main__"
      ],
      "execution_count": null,
      "outputs": [
        {
          "output_type": "stream",
          "text": [
            "__main__\n"
          ],
          "name": "stdout"
        }
      ]
    },
    {
      "cell_type": "code",
      "metadata": {
        "id": "lRabGrrGBmNm"
      },
      "source": [
        "# 30"
      ],
      "execution_count": null,
      "outputs": []
    },
    {
      "cell_type": "code",
      "metadata": {
        "id": "2D0WTCv9IzCd"
      },
      "source": [
        "# 31\n",
        "# Si hay una rama finally: dentro de un bloque try:\n",
        "# podemos decir que:\n",
        "\n",
        "#resp siempre se ejecutara?"
      ],
      "execution_count": null,
      "outputs": []
    },
    {
      "cell_type": "code",
      "metadata": {
        "id": "fGTx493lFrLK",
        "colab": {
          "base_uri": "https://localhost:8080/"
        },
        "outputId": "10ca0f84-a5a0-436a-c851-160f0c427758"
      },
      "source": [
        "# 32\n",
        "try:\n",
        "  raise Excrption\n",
        "except BaseException:\n",
        "  print(\"a\", end='')\n",
        "else:\n",
        "  print(\"b\", end='')\n",
        "\n",
        "finally:\n",
        "  print(\"c\")\n",
        "  # rest ac"
      ],
      "execution_count": null,
      "outputs": [
        {
          "output_type": "stream",
          "text": [
            "ac\n"
          ],
          "name": "stdout"
        }
      ]
    },
    {
      "cell_type": "code",
      "metadata": {
        "id": "G6jbaEieIfmW",
        "colab": {
          "base_uri": "https://localhost:8080/"
        },
        "outputId": "b16c3560-1ea4-4822-e18a-6002641e1961"
      },
      "source": [
        "#33\n",
        "class A:\n",
        "  def __init__(self, name):\n",
        "    self.name = name\n",
        "a = A(\"class\")\n",
        "print(a)\n",
        "# resp  "
      ],
      "execution_count": null,
      "outputs": [
        {
          "output_type": "stream",
          "text": [
            "<__main__.A object at 0x7ffa41b100b8>\n"
          ],
          "name": "stdout"
        }
      ]
    },
    {
      "cell_type": "code",
      "metadata": {
        "id": "f4OCaNOBLagm",
        "colab": {
          "base_uri": "https://localhost:8080/",
          "height": 129
        },
        "outputId": "5a76907c-f618-4a8c-ef12-6c845e6c3a76"
      },
      "source": [
        "# 34\n",
        "try:\n",
        "    raise Exception\n",
        "except:\n",
        "    print(\"c\")\n",
        "except BaseException:\n",
        "    print(\"a\")\n",
        "except Exception:\n",
        "    print(\"b\")"
      ],
      "execution_count": null,
      "outputs": [
        {
          "output_type": "error",
          "ename": "SyntaxError",
          "evalue": "ignored",
          "traceback": [
            "\u001b[0;36m  File \u001b[0;32m\"<ipython-input-35-d02ceaf71d8f>\"\u001b[0;36m, line \u001b[0;32m3\u001b[0m\n\u001b[0;31m    raise Exception\u001b[0m\n\u001b[0m         ^\u001b[0m\n\u001b[0;31mSyntaxError\u001b[0m\u001b[0;31m:\u001b[0m default 'except:' must be last\n"
          ]
        }
      ]
    },
    {
      "cell_type": "code",
      "metadata": {
        "id": "siHuVeeAMV7O",
        "colab": {
          "base_uri": "https://localhost:8080/"
        },
        "outputId": "ca000318-0ab2-4ac1-b05b-e79b62a8a0de"
      },
      "source": [
        "#35\n",
        "class X:\n",
        "  pass\n",
        "\n",
        "class Y(X):\n",
        "  pass\n",
        "\n",
        "class Z(Y):\n",
        "  pass\n",
        "\n",
        "x = X()\n",
        "z = Z()\n",
        "print(isinstance(x, Z), isinstance(z, X))\n",
        "# RESP False True\n"
      ],
      "execution_count": null,
      "outputs": [
        {
          "output_type": "stream",
          "text": [
            "False True\n"
          ],
          "name": "stdout"
        }
      ]
    },
    {
      "cell_type": "code",
      "metadata": {
        "id": "NvR3zJ5HNLlX",
        "colab": {
          "base_uri": "https://localhost:8080/",
          "height": 129
        },
        "outputId": "8761dabe-a477-47b0-f974-193176586ed3"
      },
      "source": [
        "# 36\n",
        "x = \"\\\"\n",
        "print(len(x))\n"
      ],
      "execution_count": null,
      "outputs": [
        {
          "output_type": "error",
          "ename": "SyntaxError",
          "evalue": "ignored",
          "traceback": [
            "\u001b[0;36m  File \u001b[0;32m\"<ipython-input-37-392add9556b7>\"\u001b[0;36m, line \u001b[0;32m2\u001b[0m\n\u001b[0;31m    x = \"\\\"\u001b[0m\n\u001b[0m           ^\u001b[0m\n\u001b[0;31mSyntaxError\u001b[0m\u001b[0;31m:\u001b[0m EOL while scanning string literal\n"
          ]
        }
      ]
    },
    {
      "cell_type": "code",
      "metadata": {
        "id": "drSsLfEKNcZQ",
        "colab": {
          "base_uri": "https://localhost:8080/"
        },
        "outputId": "e5104549-369e-49b3-da0c-6cf3f531197a"
      },
      "source": [
        "#37\n",
        "x = \"\"\"\n",
        "\"\"\"\n",
        "print(len(x))\n",
        "\n",
        "# resp 1"
      ],
      "execution_count": null,
      "outputs": [
        {
          "output_type": "stream",
          "text": [
            "1\n"
          ],
          "name": "stdout"
        }
      ]
    },
    {
      "cell_type": "code",
      "metadata": {
        "id": "Ou51QzDsN7Mv"
      },
      "source": [
        "#38\n",
        "class Class:\n",
        "  def __init__(self):\n",
        "    pass\n",
        "#resp objeto = Class()"
      ],
      "execution_count": null,
      "outputs": []
    },
    {
      "cell_type": "code",
      "metadata": {
        "id": "BXZC40fiOS_K",
        "colab": {
          "base_uri": "https://localhost:8080/"
        },
        "outputId": "51b5cef3-91c1-4f06-8816-43b7ec4e5011"
      },
      "source": [
        "#39\n",
        "class A:\n",
        "  A = 1\n",
        "  def __init__(self, v=2):\n",
        "    self.v = v+A.A\n",
        "    A.A +=1\n",
        "\n",
        "  def set(self, v):\n",
        "    self.v += v\n",
        "    A.A += 1\n",
        "    return\n",
        "\n",
        "a = A()\n",
        "a.set(2)\n",
        "print(a.v)\n",
        "\n",
        "#resp 5\n"
      ],
      "execution_count": null,
      "outputs": [
        {
          "output_type": "stream",
          "text": [
            "5\n"
          ],
          "name": "stdout"
        }
      ]
    },
    {
      "cell_type": "code",
      "metadata": {
        "id": "7LfmOVE9Phvx",
        "colab": {
          "base_uri": "https://localhost:8080/"
        },
        "outputId": "a2a4bee0-da26-41ba-ce23-8c65f5f0445e"
      },
      "source": [
        "# 40\n",
        "class A:\n",
        "  A = 1\n",
        "  def __init__(self):\n",
        "    self.a = 0\n",
        "\n",
        "  \n",
        "  print(hasattr(A, 'A'))\n",
        "  # RESP False"
      ],
      "execution_count": null,
      "outputs": [
        {
          "output_type": "stream",
          "text": [
            "False\n"
          ],
          "name": "stdout"
        }
      ]
    },
    {
      "cell_type": "code",
      "metadata": {
        "id": "7yYy0etpP5fR",
        "colab": {
          "base_uri": "https://localhost:8080/"
        },
        "outputId": "87105be9-7c1c-44fe-87c4-877fb60bd153"
      },
      "source": [
        "#41\n",
        "class A:\n",
        "  pass\n",
        "\n",
        "class B:\n",
        "  pass\n",
        "\n",
        "class C(A, B):\n",
        "  pass\n",
        "\n",
        "print(issubclass(C, A) and issubclass(C, B))\n",
        "# RESP True"
      ],
      "execution_count": null,
      "outputs": [
        {
          "output_type": "stream",
          "text": [
            "True\n"
          ],
          "name": "stdout"
        }
      ]
    },
    {
      "cell_type": "code",
      "metadata": {
        "id": "GjpWh9IQQX3s"
      },
      "source": [
        "#42\n",
        "# el stream sys.stdout normalmente esta asociado con:\n",
        "# resp  con el teclado"
      ],
      "execution_count": null,
      "outputs": []
    },
    {
      "cell_type": "code",
      "metadata": {
        "id": "5aXYG8quRDRj",
        "colab": {
          "base_uri": "https://localhost:8080/"
        },
        "outputId": "81eb3205-8805-43d1-d358-79fb577bfdae"
      },
      "source": [
        "#43\n",
        "class A:\n",
        "  def __init__(self, v):\n",
        "    self._a = v + 1\n",
        "\n",
        "a = A(0)\n",
        "print(a._a)\n",
        "# resp  1"
      ],
      "execution_count": null,
      "outputs": [
        {
          "output_type": "stream",
          "text": [
            "1\n"
          ],
          "name": "stdout"
        }
      ]
    },
    {
      "cell_type": "code",
      "metadata": {
        "id": "swuh9ZYaRbnB",
        "colab": {
          "base_uri": "https://localhost:8080/",
          "height": 197
        },
        "outputId": "28613b3e-aa44-4fa6-c65c-b40e6adb078a"
      },
      "source": [
        "#44\n",
        "class A:\n",
        "  def __int__(self):\n",
        "    pass\n",
        "  def f(self):\n",
        "    return 1\n",
        "  def g():\n",
        "    return self.f() \n",
        "\n",
        "a = A()\n",
        "print(a.g())"
      ],
      "execution_count": null,
      "outputs": [
        {
          "output_type": "error",
          "ename": "TypeError",
          "evalue": "ignored",
          "traceback": [
            "\u001b[0;31m---------------------------------------------------------------------------\u001b[0m",
            "\u001b[0;31mTypeError\u001b[0m                                 Traceback (most recent call last)",
            "\u001b[0;32m<ipython-input-43-5da616537fa0>\u001b[0m in \u001b[0;36m<module>\u001b[0;34m()\u001b[0m\n\u001b[1;32m      9\u001b[0m \u001b[0;34m\u001b[0m\u001b[0m\n\u001b[1;32m     10\u001b[0m \u001b[0ma\u001b[0m \u001b[0;34m=\u001b[0m \u001b[0mA\u001b[0m\u001b[0;34m(\u001b[0m\u001b[0;34m)\u001b[0m\u001b[0;34m\u001b[0m\u001b[0;34m\u001b[0m\u001b[0m\n\u001b[0;32m---> 11\u001b[0;31m \u001b[0mprint\u001b[0m\u001b[0;34m(\u001b[0m\u001b[0ma\u001b[0m\u001b[0;34m.\u001b[0m\u001b[0mg\u001b[0m\u001b[0;34m(\u001b[0m\u001b[0;34m)\u001b[0m\u001b[0;34m)\u001b[0m\u001b[0;34m\u001b[0m\u001b[0;34m\u001b[0m\u001b[0m\n\u001b[0m",
            "\u001b[0;31mTypeError\u001b[0m: g() takes 0 positional arguments but 1 was given"
          ]
        }
      ]
    },
    {
      "cell_type": "code",
      "metadata": {
        "id": "tYLEXJEVSP8T",
        "colab": {
          "base_uri": "https://localhost:8080/"
        },
        "outputId": "9436d95c-c4f9-4a1b-d55c-22a50ed9d6b0"
      },
      "source": [
        "# 45\n",
        "class A:\n",
        "  def a(self):\n",
        "    print('a')\n",
        "\n",
        "class B:\n",
        "  def a(self):\n",
        "    print('b')\n",
        "\n",
        "class C(A, B):\n",
        "  def c(self):\n",
        "    self.a()\n",
        "\n",
        "o = C()\n",
        "o.c()\n",
        "# RESP a\n"
      ],
      "execution_count": null,
      "outputs": [
        {
          "output_type": "stream",
          "text": [
            "a\n"
          ],
          "name": "stdout"
        }
      ]
    },
    {
      "cell_type": "code",
      "metadata": {
        "id": "tqAD0xZeTXY2"
      },
      "source": [
        "#46\n",
        "# la clase excepcion contiene una propiedad llamada arg, y es una :"
      ],
      "execution_count": null,
      "outputs": []
    },
    {
      "cell_type": "code",
      "metadata": {
        "id": "vb3ZjcHuUDYj",
        "colab": {
          "base_uri": "https://localhost:8080/"
        },
        "outputId": "046625ad-f637-4d97-afcb-a76bf528ec1a"
      },
      "source": [
        "#47\n",
        "def I(n):\n",
        "  s = ''\n",
        "  for i in range(n):\n",
        "    s += '*'\n",
        "    yield s\n",
        "\n",
        "for x in I(3):\n",
        "  print(x, end='')\n",
        "\n",
        "  # resp ******\n"
      ],
      "execution_count": null,
      "outputs": [
        {
          "output_type": "stream",
          "text": [
            "******"
          ],
          "name": "stdout"
        }
      ]
    },
    {
      "cell_type": "code",
      "metadata": {
        "id": "vn9MCJFvUgcw",
        "colab": {
          "base_uri": "https://localhost:8080/"
        },
        "outputId": "f4b4a52f-40ee-43ee-aa09-b875cb16dc43"
      },
      "source": [
        "#48\n",
        "def a(x):\n",
        "  def b():\n",
        "    return x + x\n",
        "  return b\n",
        "\n",
        "x = a('x')\n",
        "y = a('')\n",
        "print(x() + y())\n",
        "\n",
        "# resp xx\n"
      ],
      "execution_count": null,
      "outputs": [
        {
          "output_type": "stream",
          "text": [
            "xx\n"
          ],
          "name": "stdout"
        }
      ]
    },
    {
      "cell_type": "code",
      "metadata": {
        "id": "0kGY7T9zVqMb"
      },
      "source": [
        "# 50\n",
        "# si deseas escribir el diccionario de un arreglo de bytes en un \n",
        "#stream, puedes usar:\n",
        "#write()\n",
        "# resp \n"
      ],
      "execution_count": null,
      "outputs": []
    }
  ]
}