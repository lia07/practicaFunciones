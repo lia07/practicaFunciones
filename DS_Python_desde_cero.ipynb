{
  "nbformat": 4,
  "nbformat_minor": 0,
  "metadata": {
    "colab": {
      "provenance": [],
      "authorship_tag": "ABX9TyNbwMv2pktkIjfT4ZtQc0MV",
      "include_colab_link": true
    },
    "kernelspec": {
      "name": "python3",
      "display_name": "Python 3"
    },
    "language_info": {
      "name": "python"
    }
  },
  "cells": [
    {
      "cell_type": "markdown",
      "metadata": {
        "id": "view-in-github",
        "colab_type": "text"
      },
      "source": [
        "<a href=\"https://colab.research.google.com/github/lia07/practicaFunciones/blob/master/DS_Python_desde_cero.ipynb\" target=\"_parent\"><img src=\"https://colab.research.google.com/assets/colab-badge.svg\" alt=\"Open In Colab\"/></a>"
      ]
    },
    {
      "cell_type": "markdown",
      "source": [],
      "metadata": {
        "id": "D-atUO39s9dd"
      }
    },
    {
      "cell_type": "markdown",
      "source": [
        "# **1. Hello World**"
      ],
      "metadata": {
        "id": "Oc-D879Zs9p6"
      }
    },
    {
      "cell_type": "code",
      "source": [
        "#printing my first code\n",
        "print(\"Hello World!\")"
      ],
      "metadata": {
        "colab": {
          "base_uri": "https://localhost:8080/"
        },
        "id": "IGfDzGh_tBg-",
        "outputId": "e7def732-68a4-402f-8eb3-cf01ee325c04"
      },
      "execution_count": 1,
      "outputs": [
        {
          "output_type": "stream",
          "name": "stdout",
          "text": [
            "Hello World!\n"
          ]
        }
      ]
    },
    {
      "cell_type": "code",
      "source": [
        "#printing my name\n",
        "print(\"Gladys\")"
      ],
      "metadata": {
        "colab": {
          "base_uri": "https://localhost:8080/"
        },
        "id": "-ZtCRp-GtWYW",
        "outputId": "175e2ca1-3f52-43e6-b698-33770833cda4"
      },
      "execution_count": 2,
      "outputs": [
        {
          "output_type": "stream",
          "name": "stdout",
          "text": [
            "Gladys\n"
          ]
        }
      ]
    },
    {
      "cell_type": "code",
      "source": [
        "type(1)"
      ],
      "metadata": {
        "colab": {
          "base_uri": "https://localhost:8080/"
        },
        "id": "qOyct9KNuu3E",
        "outputId": "4f209ad9-36ba-4fb9-cbd3-2abdd47891a1"
      },
      "execution_count": 3,
      "outputs": [
        {
          "output_type": "execute_result",
          "data": {
            "text/plain": [
              "int"
            ]
          },
          "metadata": {},
          "execution_count": 3
        }
      ]
    },
    {
      "cell_type": "code",
      "source": [
        "type(2.5)"
      ],
      "metadata": {
        "colab": {
          "base_uri": "https://localhost:8080/"
        },
        "id": "KL_bAddauycH",
        "outputId": "effa4f99-d001-4fc8-af0d-3ee14fc16600"
      },
      "execution_count": 4,
      "outputs": [
        {
          "output_type": "execute_result",
          "data": {
            "text/plain": [
              "float"
            ]
          },
          "metadata": {},
          "execution_count": 4
        }
      ]
    },
    {
      "cell_type": "code",
      "source": [
        "1+5"
      ],
      "metadata": {
        "colab": {
          "base_uri": "https://localhost:8080/"
        },
        "id": "nzmVQt7Ju2cW",
        "outputId": "db734a08-5406-409c-c9b8-79edc3027718"
      },
      "execution_count": 5,
      "outputs": [
        {
          "output_type": "execute_result",
          "data": {
            "text/plain": [
              "6"
            ]
          },
          "metadata": {},
          "execution_count": 5
        }
      ]
    },
    {
      "cell_type": "code",
      "source": [
        "4-2"
      ],
      "metadata": {
        "colab": {
          "base_uri": "https://localhost:8080/"
        },
        "id": "94KxQakcu7Av",
        "outputId": "f917d666-0bf8-48eb-d354-558b9e610cdb"
      },
      "execution_count": 6,
      "outputs": [
        {
          "output_type": "execute_result",
          "data": {
            "text/plain": [
              "2"
            ]
          },
          "metadata": {},
          "execution_count": 6
        }
      ]
    },
    {
      "cell_type": "code",
      "source": [
        "type(True)"
      ],
      "metadata": {
        "colab": {
          "base_uri": "https://localhost:8080/"
        },
        "id": "ckIexb7xu9It",
        "outputId": "febea15f-ea96-4677-ac02-3783781d502f"
      },
      "execution_count": 7,
      "outputs": [
        {
          "output_type": "execute_result",
          "data": {
            "text/plain": [
              "bool"
            ]
          },
          "metadata": {},
          "execution_count": 7
        }
      ]
    },
    {
      "cell_type": "code",
      "source": [
        "type(False)"
      ],
      "metadata": {
        "colab": {
          "base_uri": "https://localhost:8080/"
        },
        "id": "qySYKjcjvAo0",
        "outputId": "115143ae-6500-40d8-dca1-3b0d4c6d1af3"
      },
      "execution_count": 8,
      "outputs": [
        {
          "output_type": "execute_result",
          "data": {
            "text/plain": [
              "bool"
            ]
          },
          "metadata": {},
          "execution_count": 8
        }
      ]
    },
    {
      "cell_type": "code",
      "source": [
        "type(\"Hello World\")"
      ],
      "metadata": {
        "colab": {
          "base_uri": "https://localhost:8080/"
        },
        "id": "_yQkcGepvEOn",
        "outputId": "96a41892-ee16-4423-cfc0-4e3f1c271ff0"
      },
      "execution_count": 9,
      "outputs": [
        {
          "output_type": "execute_result",
          "data": {
            "text/plain": [
              "str"
            ]
          },
          "metadata": {},
          "execution_count": 9
        }
      ]
    },
    {
      "cell_type": "code",
      "source": [
        "\"Hello World\".upper() #convertir en mayusculas"
      ],
      "metadata": {
        "colab": {
          "base_uri": "https://localhost:8080/",
          "height": 35
        },
        "id": "7hFVvh3lvYOM",
        "outputId": "3cbce4c9-4ebf-4397-f612-98c6b9af61be"
      },
      "execution_count": 10,
      "outputs": [
        {
          "output_type": "execute_result",
          "data": {
            "text/plain": [
              "'HELLO WORLD'"
            ],
            "application/vnd.google.colaboratory.intrinsic+json": {
              "type": "string"
            }
          },
          "metadata": {},
          "execution_count": 10
        }
      ]
    },
    {
      "cell_type": "code",
      "source": [
        "\"Hello World\".lower()#convertir a minusculas"
      ],
      "metadata": {
        "colab": {
          "base_uri": "https://localhost:8080/",
          "height": 35
        },
        "id": "MULuJpCOvjED",
        "outputId": "a1f8a00e-0211-4cdb-98a4-31032f701ce3"
      },
      "execution_count": 11,
      "outputs": [
        {
          "output_type": "execute_result",
          "data": {
            "text/plain": [
              "'hello world'"
            ],
            "application/vnd.google.colaboratory.intrinsic+json": {
              "type": "string"
            }
          },
          "metadata": {},
          "execution_count": 11
        }
      ]
    },
    {
      "cell_type": "code",
      "source": [
        "\"Hello World\".upper()#convertir a mayuscula\n",
        "\"Hello World\".lower()#convertir a minusculas\n",
        "\"Hello World\".title()#convertir a mayuscula la primera letra"
      ],
      "metadata": {
        "colab": {
          "base_uri": "https://localhost:8080/",
          "height": 35
        },
        "id": "0TYT0oNpvsad",
        "outputId": "24936d39-ec5e-43db-f623-3341171143a5"
      },
      "execution_count": 12,
      "outputs": [
        {
          "output_type": "execute_result",
          "data": {
            "text/plain": [
              "'Hello World'"
            ],
            "application/vnd.google.colaboratory.intrinsic+json": {
              "type": "string"
            }
          },
          "metadata": {},
          "execution_count": 12
        }
      ]
    },
    {
      "cell_type": "code",
      "source": [
        "\"Hello World\".count('l')#contar la cantidad"
      ],
      "metadata": {
        "colab": {
          "base_uri": "https://localhost:8080/"
        },
        "id": "zg6K4whZwLl2",
        "outputId": "2c9f1c87-7d7c-4855-c4de-9fa5c0040342"
      },
      "execution_count": 13,
      "outputs": [
        {
          "output_type": "execute_result",
          "data": {
            "text/plain": [
              "3"
            ]
          },
          "metadata": {},
          "execution_count": 13
        }
      ]
    },
    {
      "cell_type": "code",
      "source": [
        "\"Hello World!\".replace('o', 'u') #reemplazar o por letra u"
      ],
      "metadata": {
        "colab": {
          "base_uri": "https://localhost:8080/",
          "height": 35
        },
        "id": "sUW4ynjEwZ8V",
        "outputId": "efddcf2b-4744-400f-b45f-892adef7ee0e"
      },
      "execution_count": 14,
      "outputs": [
        {
          "output_type": "execute_result",
          "data": {
            "text/plain": [
              "'Hellu Wurld!'"
            ],
            "application/vnd.google.colaboratory.intrinsic+json": {
              "type": "string"
            }
          },
          "metadata": {},
          "execution_count": 14
        }
      ]
    },
    {
      "cell_type": "markdown",
      "source": [
        "# **2. Variables**"
      ],
      "metadata": {
        "id": "uK0DfDfk1hid"
      }
    },
    {
      "cell_type": "code",
      "source": [
        "message_1 = \"Estoy aprendiendo Python\"\n",
        "message_1"
      ],
      "metadata": {
        "colab": {
          "base_uri": "https://localhost:8080/",
          "height": 35
        },
        "id": "ufUX0A1v1luc",
        "outputId": "d1c26360-6018-4fef-d728-b07f43cfc0cc"
      },
      "execution_count": 15,
      "outputs": [
        {
          "output_type": "execute_result",
          "data": {
            "text/plain": [
              "'Estoy aprendiendo Python'"
            ],
            "application/vnd.google.colaboratory.intrinsic+json": {
              "type": "string"
            }
          },
          "metadata": {},
          "execution_count": 15
        }
      ]
    },
    {
      "cell_type": "code",
      "source": [
        "message_2 = \"y es divertido\""
      ],
      "metadata": {
        "id": "xpome3uk1zB_"
      },
      "execution_count": 16,
      "outputs": []
    },
    {
      "cell_type": "code",
      "source": [
        "#concatenar variables\n",
        "\n",
        "message_1 + message_2"
      ],
      "metadata": {
        "colab": {
          "base_uri": "https://localhost:8080/",
          "height": 35
        },
        "id": "IQkvzSCp6aQH",
        "outputId": "e481dab2-4ecc-4be2-e6f2-f6784279145f"
      },
      "execution_count": 17,
      "outputs": [
        {
          "output_type": "execute_result",
          "data": {
            "text/plain": [
              "'Estoy aprendiendo Pythony es divertido'"
            ],
            "application/vnd.google.colaboratory.intrinsic+json": {
              "type": "string"
            }
          },
          "metadata": {},
          "execution_count": 17
        }
      ]
    },
    {
      "cell_type": "code",
      "source": [
        "message_1 + \" \" + message_2 "
      ],
      "metadata": {
        "colab": {
          "base_uri": "https://localhost:8080/",
          "height": 35
        },
        "id": "ewaCblM36mn_",
        "outputId": "d38936bd-a903-4e8a-b3a0-0b4c3a2d5a93"
      },
      "execution_count": 18,
      "outputs": [
        {
          "output_type": "execute_result",
          "data": {
            "text/plain": [
              "'Estoy aprendiendo Python y es divertido'"
            ],
            "application/vnd.google.colaboratory.intrinsic+json": {
              "type": "string"
            }
          },
          "metadata": {},
          "execution_count": 18
        }
      ]
    },
    {
      "cell_type": "code",
      "source": [
        "# otro tipo de concatenacion con f\n",
        "f'Estoy aprendiendo python'"
      ],
      "metadata": {
        "colab": {
          "base_uri": "https://localhost:8080/",
          "height": 35
        },
        "id": "qZmPBlRO7EH8",
        "outputId": "4c90c5f0-0f94-403b-b987-f887ea0a3f31"
      },
      "execution_count": 19,
      "outputs": [
        {
          "output_type": "execute_result",
          "data": {
            "text/plain": [
              "'Estoy aprendiendo python'"
            ],
            "application/vnd.google.colaboratory.intrinsic+json": {
              "type": "string"
            }
          },
          "metadata": {},
          "execution_count": 19
        }
      ]
    },
    {
      "cell_type": "code",
      "source": [
        "# otro tipo de concatenacion con f\n",
        "f'{message_1} abc'"
      ],
      "metadata": {
        "colab": {
          "base_uri": "https://localhost:8080/",
          "height": 35
        },
        "id": "ISMXa_-g7sq6",
        "outputId": "a8e9b435-c799-492f-bea7-93f3318cdc5f"
      },
      "execution_count": 20,
      "outputs": [
        {
          "output_type": "execute_result",
          "data": {
            "text/plain": [
              "'Estoy aprendiendo Python abc'"
            ],
            "application/vnd.google.colaboratory.intrinsic+json": {
              "type": "string"
            }
          },
          "metadata": {},
          "execution_count": 20
        }
      ]
    },
    {
      "cell_type": "code",
      "source": [
        "# otro tipo de concatenacion con f\n",
        "f'{message_1} {message_2}'"
      ],
      "metadata": {
        "colab": {
          "base_uri": "https://localhost:8080/",
          "height": 35
        },
        "id": "H5iu4nmJ750x",
        "outputId": "ada7ccb9-35df-4e7d-8791-2a2268a7b1bb"
      },
      "execution_count": 21,
      "outputs": [
        {
          "output_type": "execute_result",
          "data": {
            "text/plain": [
              "'Estoy aprendiendo Python y es divertido'"
            ],
            "application/vnd.google.colaboratory.intrinsic+json": {
              "type": "string"
            }
          },
          "metadata": {},
          "execution_count": 21
        }
      ]
    },
    {
      "cell_type": "code",
      "source": [
        "message = f'{message_1}  {message_2}'\n",
        "message"
      ],
      "metadata": {
        "colab": {
          "base_uri": "https://localhost:8080/",
          "height": 35
        },
        "id": "TNS8Iuxo8CA-",
        "outputId": "7e4dc59f-08d7-428c-dd3b-1f15991b030c"
      },
      "execution_count": 22,
      "outputs": [
        {
          "output_type": "execute_result",
          "data": {
            "text/plain": [
              "'Estoy aprendiendo Python  y es divertido'"
            ],
            "application/vnd.google.colaboratory.intrinsic+json": {
              "type": "string"
            }
          },
          "metadata": {},
          "execution_count": 22
        }
      ]
    },
    {
      "cell_type": "markdown",
      "source": [
        "# **4. Listas**\n",
        "*  ordenadas\n",
        "*  mutables"
      ],
      "metadata": {
        "id": "yRMmgCW88eMA"
      }
    },
    {
      "cell_type": "code",
      "source": [
        "countries = ['United States', 'India', 'China', 'Brazil']\n",
        "countries"
      ],
      "metadata": {
        "colab": {
          "base_uri": "https://localhost:8080/"
        },
        "id": "AvXuU-IV8o90",
        "outputId": "d1a28790-f951-4c98-bd72-18bda43cd892"
      },
      "execution_count": 23,
      "outputs": [
        {
          "output_type": "execute_result",
          "data": {
            "text/plain": [
              "['United States', 'India', 'China', 'Brazil']"
            ]
          },
          "metadata": {},
          "execution_count": 23
        }
      ]
    },
    {
      "cell_type": "code",
      "source": [
        "countries[0]"
      ],
      "metadata": {
        "colab": {
          "base_uri": "https://localhost:8080/",
          "height": 35
        },
        "id": "LdigQNjN9SFK",
        "outputId": "7ab1c687-8c7c-43f2-e92f-1df0bc869f45"
      },
      "execution_count": 24,
      "outputs": [
        {
          "output_type": "execute_result",
          "data": {
            "text/plain": [
              "'United States'"
            ],
            "application/vnd.google.colaboratory.intrinsic+json": {
              "type": "string"
            }
          },
          "metadata": {},
          "execution_count": 24
        }
      ]
    },
    {
      "cell_type": "code",
      "source": [
        "countries[1]"
      ],
      "metadata": {
        "colab": {
          "base_uri": "https://localhost:8080/",
          "height": 35
        },
        "id": "gtkeZ5C59YyK",
        "outputId": "785048dd-4ca3-4b39-e60c-e5824eece7d1"
      },
      "execution_count": 25,
      "outputs": [
        {
          "output_type": "execute_result",
          "data": {
            "text/plain": [
              "'India'"
            ],
            "application/vnd.google.colaboratory.intrinsic+json": {
              "type": "string"
            }
          },
          "metadata": {},
          "execution_count": 25
        }
      ]
    },
    {
      "cell_type": "code",
      "source": [
        "countries[-1]"
      ],
      "metadata": {
        "colab": {
          "base_uri": "https://localhost:8080/",
          "height": 35
        },
        "id": "PILMM-Sa9qo4",
        "outputId": "dc9b4b55-3fce-4fe0-e6c6-5da2e10b782e"
      },
      "execution_count": 26,
      "outputs": [
        {
          "output_type": "execute_result",
          "data": {
            "text/plain": [
              "'Brazil'"
            ],
            "application/vnd.google.colaboratory.intrinsic+json": {
              "type": "string"
            }
          },
          "metadata": {},
          "execution_count": 26
        }
      ]
    },
    {
      "cell_type": "code",
      "source": [
        "countries[-2]"
      ],
      "metadata": {
        "colab": {
          "base_uri": "https://localhost:8080/",
          "height": 35
        },
        "id": "cuLe4iFu9qS4",
        "outputId": "40171f34-dda9-41fa-f59d-6fcbe33c56ca"
      },
      "execution_count": 27,
      "outputs": [
        {
          "output_type": "execute_result",
          "data": {
            "text/plain": [
              "'China'"
            ],
            "application/vnd.google.colaboratory.intrinsic+json": {
              "type": "string"
            }
          },
          "metadata": {},
          "execution_count": 27
        }
      ]
    },
    {
      "cell_type": "code",
      "source": [
        "countries[-3]"
      ],
      "metadata": {
        "colab": {
          "base_uri": "https://localhost:8080/",
          "height": 35
        },
        "id": "aJ3u3bKR9wmn",
        "outputId": "ba841d3f-9ac0-4443-b93f-46ba331fc232"
      },
      "execution_count": 28,
      "outputs": [
        {
          "output_type": "execute_result",
          "data": {
            "text/plain": [
              "'India'"
            ],
            "application/vnd.google.colaboratory.intrinsic+json": {
              "type": "string"
            }
          },
          "metadata": {},
          "execution_count": 28
        }
      ]
    },
    {
      "cell_type": "code",
      "source": [
        "countries[-4]"
      ],
      "metadata": {
        "colab": {
          "base_uri": "https://localhost:8080/",
          "height": 35
        },
        "id": "gESyTKyi9y96",
        "outputId": "6bf3a82d-b7d2-4bd1-8330-0bae01afa8d4"
      },
      "execution_count": 29,
      "outputs": [
        {
          "output_type": "execute_result",
          "data": {
            "text/plain": [
              "'United States'"
            ],
            "application/vnd.google.colaboratory.intrinsic+json": {
              "type": "string"
            }
          },
          "metadata": {},
          "execution_count": 29
        }
      ]
    },
    {
      "cell_type": "code",
      "source": [
        "countries[3]"
      ],
      "metadata": {
        "colab": {
          "base_uri": "https://localhost:8080/",
          "height": 35
        },
        "id": "35O1EOZ9pDXC",
        "outputId": "0dfb52a9-3211-4d9f-8ae1-b133cff29f47"
      },
      "execution_count": 30,
      "outputs": [
        {
          "output_type": "execute_result",
          "data": {
            "text/plain": [
              "'Brazil'"
            ],
            "application/vnd.google.colaboratory.intrinsic+json": {
              "type": "string"
            }
          },
          "metadata": {},
          "execution_count": 30
        }
      ]
    },
    {
      "cell_type": "code",
      "source": [
        "countries[-1]"
      ],
      "metadata": {
        "colab": {
          "base_uri": "https://localhost:8080/",
          "height": 35
        },
        "id": "-vQ_ChMWpzrl",
        "outputId": "00d6b2be-0638-42b2-955a-26ee2c013cb4"
      },
      "execution_count": 31,
      "outputs": [
        {
          "output_type": "execute_result",
          "data": {
            "text/plain": [
              "'Brazil'"
            ],
            "application/vnd.google.colaboratory.intrinsic+json": {
              "type": "string"
            }
          },
          "metadata": {},
          "execution_count": 31
        }
      ]
    },
    {
      "cell_type": "markdown",
      "source": [
        "# **4.1 Rebanadas/Slicing**"
      ],
      "metadata": {
        "id": "OfXSosPio9n-"
      }
    },
    {
      "cell_type": "code",
      "source": [
        "#stop excluyente\n",
        "nombre_lista[start:stop]\n"
      ],
      "metadata": {
        "id": "iI5X1rfsqlSf"
      },
      "execution_count": null,
      "outputs": []
    },
    {
      "cell_type": "code",
      "source": [
        "countries[0:3] #ultimo numero + 1 = 2+1=2"
      ],
      "metadata": {
        "colab": {
          "base_uri": "https://localhost:8080/"
        },
        "id": "5qREM2ZHq9Cj",
        "outputId": "69e3b674-e13e-46dd-a58c-00bc806fc585"
      },
      "execution_count": 33,
      "outputs": [
        {
          "output_type": "execute_result",
          "data": {
            "text/plain": [
              "['United States', 'India', 'China']"
            ]
          },
          "metadata": {},
          "execution_count": 33
        }
      ]
    },
    {
      "cell_type": "code",
      "source": [
        "countries[1:4]"
      ],
      "metadata": {
        "colab": {
          "base_uri": "https://localhost:8080/"
        },
        "id": "p2XRwVu0rmjc",
        "outputId": "67886b31-46fc-42e6-963c-2c134c5684bd"
      },
      "execution_count": 34,
      "outputs": [
        {
          "output_type": "execute_result",
          "data": {
            "text/plain": [
              "['India', 'China', 'Brazil']"
            ]
          },
          "metadata": {},
          "execution_count": 34
        }
      ]
    },
    {
      "cell_type": "code",
      "source": [
        "countries[1:]"
      ],
      "metadata": {
        "colab": {
          "base_uri": "https://localhost:8080/"
        },
        "id": "gGUbIo_frtKY",
        "outputId": "24bc91db-b096-4079-c3ff-be67ee115203"
      },
      "execution_count": 35,
      "outputs": [
        {
          "output_type": "execute_result",
          "data": {
            "text/plain": [
              "['India', 'China', 'Brazil']"
            ]
          },
          "metadata": {},
          "execution_count": 35
        }
      ]
    },
    {
      "cell_type": "code",
      "source": [
        "countries[0:2]"
      ],
      "metadata": {
        "colab": {
          "base_uri": "https://localhost:8080/"
        },
        "id": "pcovn_dQumH9",
        "outputId": "bb0b5a62-922e-49a9-dfe8-292afb821778"
      },
      "execution_count": 36,
      "outputs": [
        {
          "output_type": "execute_result",
          "data": {
            "text/plain": [
              "['United States', 'India']"
            ]
          },
          "metadata": {},
          "execution_count": 36
        }
      ]
    },
    {
      "cell_type": "code",
      "source": [
        "countries[:2]"
      ],
      "metadata": {
        "colab": {
          "base_uri": "https://localhost:8080/"
        },
        "id": "foMo2VPhu2qB",
        "outputId": "a1b7b6ea-0097-4569-9bc5-32172790fe3e"
      },
      "execution_count": 37,
      "outputs": [
        {
          "output_type": "execute_result",
          "data": {
            "text/plain": [
              "['United States', 'India']"
            ]
          },
          "metadata": {},
          "execution_count": 37
        }
      ]
    },
    {
      "cell_type": "markdown",
      "source": [
        "# **4.2 Operaciones y metodos**"
      ],
      "metadata": {
        "id": "juJBzzEtCV97"
      }
    },
    {
      "cell_type": "code",
      "source": [
        "#metodo append\n",
        "countries"
      ],
      "metadata": {
        "colab": {
          "base_uri": "https://localhost:8080/"
        },
        "id": "yRL7L9Pxsdo7",
        "outputId": "11b04e3e-8728-425c-fd74-c93d40d6ab8a"
      },
      "execution_count": 38,
      "outputs": [
        {
          "output_type": "execute_result",
          "data": {
            "text/plain": [
              "['United States', 'India', 'China', 'Brazil']"
            ]
          },
          "metadata": {},
          "execution_count": 38
        }
      ]
    },
    {
      "cell_type": "code",
      "source": [
        "#añadir un elemento('canada)\n",
        "countries.append('Canada')"
      ],
      "metadata": {
        "id": "0Scg2pHBsdkp"
      },
      "execution_count": 39,
      "outputs": []
    },
    {
      "cell_type": "code",
      "source": [
        "countries"
      ],
      "metadata": {
        "colab": {
          "base_uri": "https://localhost:8080/"
        },
        "id": "iT3YghEYsdd7",
        "outputId": "f5034606-433d-4ece-d9f5-f36513a3cc9d"
      },
      "execution_count": 40,
      "outputs": [
        {
          "output_type": "execute_result",
          "data": {
            "text/plain": [
              "['United States', 'India', 'China', 'Brazil', 'Canada']"
            ]
          },
          "metadata": {},
          "execution_count": 40
        }
      ]
    },
    {
      "cell_type": "code",
      "source": [
        "countries.insert(0, 'Argentina')"
      ],
      "metadata": {
        "id": "Qr_AWtAssdOo"
      },
      "execution_count": 41,
      "outputs": []
    },
    {
      "cell_type": "code",
      "source": [
        "countries"
      ],
      "metadata": {
        "colab": {
          "base_uri": "https://localhost:8080/"
        },
        "id": "N_T5p1VFxz0Z",
        "outputId": "a6dab237-66f1-49b4-ff01-1d9d243ca5dd"
      },
      "execution_count": 42,
      "outputs": [
        {
          "output_type": "execute_result",
          "data": {
            "text/plain": [
              "['Argentina', 'United States', 'India', 'China', 'Brazil', 'Canada']"
            ]
          },
          "metadata": {},
          "execution_count": 42
        }
      ]
    },
    {
      "cell_type": "code",
      "source": [
        "countries_2 = ['UK', 'Alemania', 'Australia']"
      ],
      "metadata": {
        "id": "Wy4vYw7-yhWq"
      },
      "execution_count": 43,
      "outputs": []
    },
    {
      "cell_type": "code",
      "source": [
        "countries_2"
      ],
      "metadata": {
        "colab": {
          "base_uri": "https://localhost:8080/"
        },
        "id": "eEMce8cZ4-9c",
        "outputId": "c151d198-36a2-4528-d359-e8e9147533bf"
      },
      "execution_count": 44,
      "outputs": [
        {
          "output_type": "execute_result",
          "data": {
            "text/plain": [
              "['UK', 'Alemania', 'Australia']"
            ]
          },
          "metadata": {},
          "execution_count": 44
        }
      ]
    },
    {
      "cell_type": "code",
      "source": [
        "countries + countries_2"
      ],
      "metadata": {
        "colab": {
          "base_uri": "https://localhost:8080/"
        },
        "id": "F8Zo3dzK5FTa",
        "outputId": "427165d8-27db-440c-8925-28916c27a410"
      },
      "execution_count": 45,
      "outputs": [
        {
          "output_type": "execute_result",
          "data": {
            "text/plain": [
              "['Argentina',\n",
              " 'United States',\n",
              " 'India',\n",
              " 'China',\n",
              " 'Brazil',\n",
              " 'Canada',\n",
              " 'UK',\n",
              " 'Alemania',\n",
              " 'Australia']"
            ]
          },
          "metadata": {},
          "execution_count": 45
        }
      ]
    },
    {
      "cell_type": "code",
      "source": [
        "#Listas anidadas, listas dentro de otra lista\n",
        "nueva_lista = [countries, countries_2]\n"
      ],
      "metadata": {
        "id": "-ccSh5375-HN"
      },
      "execution_count": 46,
      "outputs": []
    },
    {
      "cell_type": "code",
      "source": [
        "nueva_lista"
      ],
      "metadata": {
        "colab": {
          "base_uri": "https://localhost:8080/"
        },
        "id": "iYMgXoiZ6a1l",
        "outputId": "54fe8bfc-8595-477e-f985-5f132bd26ff8"
      },
      "execution_count": 47,
      "outputs": [
        {
          "output_type": "execute_result",
          "data": {
            "text/plain": [
              "[['Argentina', 'United States', 'India', 'China', 'Brazil', 'Canada'],\n",
              " ['UK', 'Alemania', 'Australia']]"
            ]
          },
          "metadata": {},
          "execution_count": 47
        }
      ]
    },
    {
      "cell_type": "code",
      "source": [
        "countries"
      ],
      "metadata": {
        "colab": {
          "base_uri": "https://localhost:8080/"
        },
        "id": "t3OzAX9-6fDg",
        "outputId": "1a429a72-dfa0-4126-f08f-190219c0443e"
      },
      "execution_count": 48,
      "outputs": [
        {
          "output_type": "execute_result",
          "data": {
            "text/plain": [
              "['Argentina', 'United States', 'India', 'China', 'Brazil', 'Canada']"
            ]
          },
          "metadata": {},
          "execution_count": 48
        }
      ]
    },
    {
      "cell_type": "code",
      "source": [
        "#eliminar un elemento\n",
        "countries.remove('Canada')"
      ],
      "metadata": {
        "id": "FNUNr6xh6nHt"
      },
      "execution_count": 49,
      "outputs": []
    },
    {
      "cell_type": "code",
      "source": [
        "countries"
      ],
      "metadata": {
        "colab": {
          "base_uri": "https://localhost:8080/"
        },
        "id": "zTOnFAlT7DeX",
        "outputId": "c3f2ae3f-f320-4c08-fa36-2671a326b53d"
      },
      "execution_count": 50,
      "outputs": [
        {
          "output_type": "execute_result",
          "data": {
            "text/plain": [
              "['Argentina', 'United States', 'India', 'China', 'Brazil']"
            ]
          },
          "metadata": {},
          "execution_count": 50
        }
      ]
    },
    {
      "cell_type": "code",
      "source": [
        "#el metodo poo solamente admite por indices para eleiminar\n",
        "countries.pop(0)"
      ],
      "metadata": {
        "colab": {
          "base_uri": "https://localhost:8080/",
          "height": 35
        },
        "id": "iKUMI99U7Hxm",
        "outputId": "138e078c-0e46-4d32-ceb0-aa18298ac738"
      },
      "execution_count": 51,
      "outputs": [
        {
          "output_type": "execute_result",
          "data": {
            "text/plain": [
              "'Argentina'"
            ],
            "application/vnd.google.colaboratory.intrinsic+json": {
              "type": "string"
            }
          },
          "metadata": {},
          "execution_count": 51
        }
      ]
    },
    {
      "cell_type": "code",
      "source": [
        "countries"
      ],
      "metadata": {
        "colab": {
          "base_uri": "https://localhost:8080/"
        },
        "id": "qGvxvEOE7Hty",
        "outputId": "4cdc58f3-6108-4965-c3b9-4a13c155b416"
      },
      "execution_count": 52,
      "outputs": [
        {
          "output_type": "execute_result",
          "data": {
            "text/plain": [
              "['United States', 'India', 'China', 'Brazil']"
            ]
          },
          "metadata": {},
          "execution_count": 52
        }
      ]
    },
    {
      "cell_type": "code",
      "source": [
        "#del para eliminar elementos\n",
        "del countries[0]"
      ],
      "metadata": {
        "id": "GgNi_gr_6mz2"
      },
      "execution_count": 53,
      "outputs": []
    },
    {
      "cell_type": "code",
      "source": [
        "countries"
      ],
      "metadata": {
        "colab": {
          "base_uri": "https://localhost:8080/"
        },
        "id": "jJ_Xtu3R7vtf",
        "outputId": "d9ae0836-6023-4e39-b690-db0563ec407b"
      },
      "execution_count": 54,
      "outputs": [
        {
          "output_type": "execute_result",
          "data": {
            "text/plain": [
              "['India', 'China', 'Brazil']"
            ]
          },
          "metadata": {},
          "execution_count": 54
        }
      ]
    },
    {
      "cell_type": "markdown",
      "source": [
        "# **4.4 Ordenar una alista**"
      ],
      "metadata": {
        "id": "DQfgiZ8ICAkf"
      }
    },
    {
      "cell_type": "code",
      "source": [
        "numbers = [4,3, 10,7,1,2]"
      ],
      "metadata": {
        "id": "T8tKjPw8CHoz"
      },
      "execution_count": 55,
      "outputs": []
    },
    {
      "cell_type": "code",
      "source": [
        "numbers = [4,3, 10,7,1,2]\n",
        "numbers"
      ],
      "metadata": {
        "id": "CjnJU2hRCcar",
        "outputId": "f3fd0232-9e37-42a1-bbf4-c36c74d80711",
        "colab": {
          "base_uri": "https://localhost:8080/"
        }
      },
      "execution_count": 56,
      "outputs": [
        {
          "output_type": "execute_result",
          "data": {
            "text/plain": [
              "[4, 3, 10, 7, 1, 2]"
            ]
          },
          "metadata": {},
          "execution_count": 56
        }
      ]
    },
    {
      "cell_type": "code",
      "source": [
        "numbers.sort()"
      ],
      "metadata": {
        "id": "O_YSMSx98AUx"
      },
      "execution_count": 57,
      "outputs": []
    },
    {
      "cell_type": "code",
      "source": [
        "numbers"
      ],
      "metadata": {
        "colab": {
          "base_uri": "https://localhost:8080/"
        },
        "id": "ls0kne3y8Dde",
        "outputId": "da61e2cf-13d0-42aa-dc2c-afc1a0d88437"
      },
      "execution_count": 58,
      "outputs": [
        {
          "output_type": "execute_result",
          "data": {
            "text/plain": [
              "[1, 2, 3, 4, 7, 10]"
            ]
          },
          "metadata": {},
          "execution_count": 58
        }
      ]
    },
    {
      "cell_type": "code",
      "source": [
        "numbers.sort(reverse=True)"
      ],
      "metadata": {
        "id": "LawijRc79SdW"
      },
      "execution_count": 59,
      "outputs": []
    },
    {
      "cell_type": "code",
      "source": [
        "numbers"
      ],
      "metadata": {
        "colab": {
          "base_uri": "https://localhost:8080/"
        },
        "id": "E2QNrnwl9aHr",
        "outputId": "5b2479ef-dc2a-42fb-d748-98ccd1482256"
      },
      "execution_count": 60,
      "outputs": [
        {
          "output_type": "execute_result",
          "data": {
            "text/plain": [
              "[10, 7, 4, 3, 2, 1]"
            ]
          },
          "metadata": {},
          "execution_count": 60
        }
      ]
    },
    {
      "cell_type": "code",
      "source": [
        "numbers[0]"
      ],
      "metadata": {
        "colab": {
          "base_uri": "https://localhost:8080/"
        },
        "id": "h8TH0uxr9go7",
        "outputId": "acb2b23f-baa1-42d7-be6c-0c0b2b4aca0c"
      },
      "execution_count": 61,
      "outputs": [
        {
          "output_type": "execute_result",
          "data": {
            "text/plain": [
              "10"
            ]
          },
          "metadata": {},
          "execution_count": 61
        }
      ]
    },
    {
      "cell_type": "markdown",
      "source": [
        "## 4.5 Copiar una lista"
      ],
      "metadata": {
        "id": "ISGJBzNB-NUr"
      }
    },
    {
      "cell_type": "code",
      "source": [
        "countries.append('Argentina')"
      ],
      "metadata": {
        "id": "anPVCVRg_KLg"
      },
      "execution_count": 62,
      "outputs": []
    },
    {
      "cell_type": "code",
      "source": [
        "countries"
      ],
      "metadata": {
        "colab": {
          "base_uri": "https://localhost:8080/"
        },
        "id": "3BsBGQlX_b53",
        "outputId": "20e8a81b-b4b8-461a-80d9-a3b79c5f1fc3"
      },
      "execution_count": 63,
      "outputs": [
        {
          "output_type": "execute_result",
          "data": {
            "text/plain": [
              "['India', 'China', 'Brazil', 'Argentina']"
            ]
          },
          "metadata": {},
          "execution_count": 63
        }
      ]
    },
    {
      "cell_type": "code",
      "source": [
        "nueva_lista_3 = countries"
      ],
      "metadata": {
        "id": "FZ_b3nlj_PzE"
      },
      "execution_count": 64,
      "outputs": []
    },
    {
      "cell_type": "code",
      "source": [
        "nueva_lista = countries.copy()"
      ],
      "metadata": {
        "id": "ERd3DWuw9nrr"
      },
      "execution_count": 65,
      "outputs": []
    },
    {
      "cell_type": "code",
      "source": [
        "nueva_lista"
      ],
      "metadata": {
        "colab": {
          "base_uri": "https://localhost:8080/"
        },
        "id": "hujBGDF8-aer",
        "outputId": "ecdc6e16-f850-4947-c885-4350f0990b04"
      },
      "execution_count": 66,
      "outputs": [
        {
          "output_type": "execute_result",
          "data": {
            "text/plain": [
              "['India', 'China', 'Brazil', 'Argentina']"
            ]
          },
          "metadata": {},
          "execution_count": 66
        }
      ]
    },
    {
      "cell_type": "code",
      "source": [
        "#segunda forma de copiar\n",
        "countries[:]"
      ],
      "metadata": {
        "colab": {
          "base_uri": "https://localhost:8080/"
        },
        "id": "bK4L2Yd1-ku2",
        "outputId": "e8938476-77f5-4707-e47b-583f2e9c9439"
      },
      "execution_count": 67,
      "outputs": [
        {
          "output_type": "execute_result",
          "data": {
            "text/plain": [
              "['India', 'China', 'Brazil', 'Argentina']"
            ]
          },
          "metadata": {},
          "execution_count": 67
        }
      ]
    },
    {
      "cell_type": "code",
      "source": [
        "nueva_lista_2 = countries[:]"
      ],
      "metadata": {
        "id": "mGIN0c84-u5A"
      },
      "execution_count": 68,
      "outputs": []
    },
    {
      "cell_type": "code",
      "source": [
        "nueva_lista_2"
      ],
      "metadata": {
        "colab": {
          "base_uri": "https://localhost:8080/"
        },
        "id": "F6Nv-94i-5UD",
        "outputId": "4801c99a-ba0e-4973-9af5-4613cde2c7b7"
      },
      "execution_count": 69,
      "outputs": [
        {
          "output_type": "execute_result",
          "data": {
            "text/plain": [
              "['India', 'China', 'Brazil', 'Argentina']"
            ]
          },
          "metadata": {},
          "execution_count": 69
        }
      ]
    },
    {
      "cell_type": "code",
      "source": [
        "nueva_lista_3 = countries"
      ],
      "metadata": {
        "id": "opQNA4i6XWuz"
      },
      "execution_count": 70,
      "outputs": []
    },
    {
      "cell_type": "code",
      "source": [
        "countries"
      ],
      "metadata": {
        "colab": {
          "base_uri": "https://localhost:8080/"
        },
        "id": "z4KdAI61XWqM",
        "outputId": "ad9e3cc0-19b1-47f1-851f-f5c244b9989d"
      },
      "execution_count": 71,
      "outputs": [
        {
          "output_type": "execute_result",
          "data": {
            "text/plain": [
              "['India', 'China', 'Brazil', 'Argentina']"
            ]
          },
          "metadata": {},
          "execution_count": 71
        }
      ]
    },
    {
      "cell_type": "code",
      "source": [
        "nueva_lista_3"
      ],
      "metadata": {
        "colab": {
          "base_uri": "https://localhost:8080/"
        },
        "id": "5Ld9ideJXWlj",
        "outputId": "ceee5ffb-cd76-4ae5-bae3-975875382431"
      },
      "execution_count": 72,
      "outputs": [
        {
          "output_type": "execute_result",
          "data": {
            "text/plain": [
              "['India', 'China', 'Brazil', 'Argentina']"
            ]
          },
          "metadata": {},
          "execution_count": 72
        }
      ]
    },
    {
      "cell_type": "code",
      "source": [
        "nueva_lista = countries.copy()"
      ],
      "metadata": {
        "id": "_8hOxBcAXWhH"
      },
      "execution_count": 73,
      "outputs": []
    },
    {
      "cell_type": "code",
      "source": [
        "nueva_lista"
      ],
      "metadata": {
        "colab": {
          "base_uri": "https://localhost:8080/"
        },
        "id": "rRcleMrYXWcE",
        "outputId": "2529d22b-9e43-438e-f307-7dccd0e79596"
      },
      "execution_count": 74,
      "outputs": [
        {
          "output_type": "execute_result",
          "data": {
            "text/plain": [
              "['India', 'China', 'Brazil', 'Argentina']"
            ]
          },
          "metadata": {},
          "execution_count": 74
        }
      ]
    },
    {
      "cell_type": "code",
      "source": [
        "nueva_lista_2"
      ],
      "metadata": {
        "colab": {
          "base_uri": "https://localhost:8080/"
        },
        "id": "vyQcsYmxa_wm",
        "outputId": "1ce6223c-feda-430d-f741-1f7771e10ba2"
      },
      "execution_count": 75,
      "outputs": [
        {
          "output_type": "execute_result",
          "data": {
            "text/plain": [
              "['India', 'China', 'Brazil', 'Argentina']"
            ]
          },
          "metadata": {},
          "execution_count": 75
        }
      ]
    },
    {
      "cell_type": "markdown",
      "source": [
        "# **5. Diccionario**\n",
        "\n",
        "Mutables"
      ],
      "metadata": {
        "id": "1eogvMNaa5h9"
      }
    },
    {
      "cell_type": "code",
      "source": [
        "mi_dictionary = {'key':'value1', 'key2':'value2'}"
      ],
      "metadata": {
        "id": "oCRPpfASXWWg"
      },
      "execution_count": 76,
      "outputs": []
    },
    {
      "cell_type": "code",
      "source": [
        "my_data = {'nombre':'Gladys', 'edad':26}"
      ],
      "metadata": {
        "id": "3BJn6vG3auKP"
      },
      "execution_count": 77,
      "outputs": []
    },
    {
      "cell_type": "code",
      "source": [
        "my_data"
      ],
      "metadata": {
        "colab": {
          "base_uri": "https://localhost:8080/"
        },
        "id": "UpBmcaoIauFy",
        "outputId": "727ce3d5-e2a6-4253-fcaa-894e064b8243"
      },
      "execution_count": 78,
      "outputs": [
        {
          "output_type": "execute_result",
          "data": {
            "text/plain": [
              "{'nombre': 'Gladys', 'edad': 26}"
            ]
          },
          "metadata": {},
          "execution_count": 78
        }
      ]
    },
    {
      "cell_type": "code",
      "source": [
        "my_data['nombre']"
      ],
      "metadata": {
        "colab": {
          "base_uri": "https://localhost:8080/",
          "height": 35
        },
        "id": "xUSYNBAzatyP",
        "outputId": "4938330a-094e-4466-a902-f251465c1a39"
      },
      "execution_count": 79,
      "outputs": [
        {
          "output_type": "execute_result",
          "data": {
            "text/plain": [
              "'Gladys'"
            ],
            "application/vnd.google.colaboratory.intrinsic+json": {
              "type": "string"
            }
          },
          "metadata": {},
          "execution_count": 79
        }
      ]
    },
    {
      "cell_type": "code",
      "source": [
        "my_data.keys() # devolver toos los llaves que tiene el diccionaario"
      ],
      "metadata": {
        "colab": {
          "base_uri": "https://localhost:8080/"
        },
        "id": "jaR3StEjcFwS",
        "outputId": "e4fc9c89-0136-4110-cdcd-681054cafc23"
      },
      "execution_count": 80,
      "outputs": [
        {
          "output_type": "execute_result",
          "data": {
            "text/plain": [
              "dict_keys(['nombre', 'edad'])"
            ]
          },
          "metadata": {},
          "execution_count": 80
        }
      ]
    },
    {
      "cell_type": "code",
      "source": [
        "my_data.values() # devuelve los valores el diccionario"
      ],
      "metadata": {
        "colab": {
          "base_uri": "https://localhost:8080/"
        },
        "id": "j_slTh4ob_6z",
        "outputId": "f10bcfe9-2d45-4edc-b7ac-e91ae5396d04"
      },
      "execution_count": 81,
      "outputs": [
        {
          "output_type": "execute_result",
          "data": {
            "text/plain": [
              "dict_values(['Gladys', 26])"
            ]
          },
          "metadata": {},
          "execution_count": 81
        }
      ]
    },
    {
      "cell_type": "code",
      "source": [
        "my_data.items() # devolver el item, par llave y valor"
      ],
      "metadata": {
        "colab": {
          "base_uri": "https://localhost:8080/"
        },
        "id": "3p5vPUpmb_1D",
        "outputId": "eaf850ba-e0f8-4f65-c529-9103e92bfbce"
      },
      "execution_count": 82,
      "outputs": [
        {
          "output_type": "execute_result",
          "data": {
            "text/plain": [
              "dict_items([('nombre', 'Gladys'), ('edad', 26)])"
            ]
          },
          "metadata": {},
          "execution_count": 82
        }
      ]
    },
    {
      "cell_type": "code",
      "source": [
        "my_data={'nombre':'Gladys', 'edad':26}"
      ],
      "metadata": {
        "id": "dolG91TedTZW"
      },
      "execution_count": 83,
      "outputs": []
    },
    {
      "cell_type": "code",
      "source": [
        "my_data['estatura'] = 1.7  # agregar elemento al diccionario"
      ],
      "metadata": {
        "id": "sGlKXAmCdTTl"
      },
      "execution_count": 84,
      "outputs": []
    },
    {
      "cell_type": "code",
      "source": [
        "my_data"
      ],
      "metadata": {
        "colab": {
          "base_uri": "https://localhost:8080/"
        },
        "id": "fXW3R9TUdTOE",
        "outputId": "1aa84f0d-f1a2-4c9e-a6e3-3b6f4a40b9af"
      },
      "execution_count": 85,
      "outputs": [
        {
          "output_type": "execute_result",
          "data": {
            "text/plain": [
              "{'nombre': 'Gladys', 'edad': 26, 'estatura': 1.7}"
            ]
          },
          "metadata": {},
          "execution_count": 85
        }
      ]
    },
    {
      "cell_type": "code",
      "source": [
        "my_data.update({'estatura':1.8, 'lenguajes':['Ingles', 'Español']})"
      ],
      "metadata": {
        "id": "P786XNmpats6"
      },
      "execution_count": 86,
      "outputs": []
    },
    {
      "cell_type": "code",
      "source": [
        "my_data"
      ],
      "metadata": {
        "colab": {
          "base_uri": "https://localhost:8080/"
        },
        "id": "V3ozEd51eyRc",
        "outputId": "ef2aac41-e83c-4fa7-8c63-d4a5ed155423"
      },
      "execution_count": 87,
      "outputs": [
        {
          "output_type": "execute_result",
          "data": {
            "text/plain": [
              "{'nombre': 'Gladys',\n",
              " 'edad': 26,\n",
              " 'estatura': 1.8,\n",
              " 'lenguajes': ['Ingles', 'Español']}"
            ]
          },
          "metadata": {},
          "execution_count": 87
        }
      ]
    },
    {
      "cell_type": "markdown",
      "source": [
        "# **5.1 Agregar/actualizar elementos**"
      ],
      "metadata": {
        "id": "3KiLuWVUnvjd"
      }
    },
    {
      "cell_type": "code",
      "source": [
        "my_data = {'nombre':'Frank', 'edad':26}"
      ],
      "metadata": {
        "id": "7T0Q-DoDiOgC"
      },
      "execution_count": 88,
      "outputs": []
    },
    {
      "cell_type": "code",
      "source": [
        "my_data['estatura'] = 1.7"
      ],
      "metadata": {
        "id": "o2VruJFliOZ7"
      },
      "execution_count": 89,
      "outputs": []
    },
    {
      "cell_type": "code",
      "source": [
        "my_data"
      ],
      "metadata": {
        "colab": {
          "base_uri": "https://localhost:8080/"
        },
        "id": "9YoHhw_ziMKF",
        "outputId": "1c070ce6-ab66-452f-d8af-921101f96275"
      },
      "execution_count": 90,
      "outputs": [
        {
          "output_type": "execute_result",
          "data": {
            "text/plain": [
              "{'nombre': 'Frank', 'edad': 26, 'estatura': 1.7}"
            ]
          },
          "metadata": {},
          "execution_count": 90
        }
      ]
    },
    {
      "cell_type": "code",
      "source": [
        "my_data.update({'estatura':1.8, 'lenguages':['Ingles', 'Español']})"
      ],
      "metadata": {
        "id": "W8xzlvtGiMCK"
      },
      "execution_count": 91,
      "outputs": []
    },
    {
      "cell_type": "code",
      "source": [
        "my_data"
      ],
      "metadata": {
        "colab": {
          "base_uri": "https://localhost:8080/"
        },
        "id": "_wvDZAUwiL85",
        "outputId": "ca60e1c5-b753-4495-88a1-477e2dffb314"
      },
      "execution_count": 92,
      "outputs": [
        {
          "output_type": "execute_result",
          "data": {
            "text/plain": [
              "{'nombre': 'Frank',\n",
              " 'edad': 26,\n",
              " 'estatura': 1.8,\n",
              " 'lenguages': ['Ingles', 'Español']}"
            ]
          },
          "metadata": {},
          "execution_count": 92
        }
      ]
    },
    {
      "cell_type": "markdown",
      "source": [
        "# **5.2 Copiar un diccionario**"
      ],
      "metadata": {
        "id": "W5huNWA0o3Jv"
      }
    },
    {
      "cell_type": "code",
      "source": [
        "nuevo_diccionario = my_data.copy()"
      ],
      "metadata": {
        "id": "Z7akNqGfiL4e"
      },
      "execution_count": 93,
      "outputs": []
    },
    {
      "cell_type": "code",
      "source": [
        "nuevo_diccionario"
      ],
      "metadata": {
        "colab": {
          "base_uri": "https://localhost:8080/"
        },
        "id": "8paCezLOiLy2",
        "outputId": "74a99f5a-ab22-4567-a7f2-f95c3883c8d4"
      },
      "execution_count": 94,
      "outputs": [
        {
          "output_type": "execute_result",
          "data": {
            "text/plain": [
              "{'nombre': 'Frank',\n",
              " 'edad': 26,\n",
              " 'estatura': 1.8,\n",
              " 'lenguages': ['Ingles', 'Español']}"
            ]
          },
          "metadata": {},
          "execution_count": 94
        }
      ]
    },
    {
      "cell_type": "markdown",
      "source": [
        "# **5.3 Eliminar elementos**"
      ],
      "metadata": {
        "id": "lfycwdTNqOyT"
      }
    },
    {
      "cell_type": "code",
      "source": [
        "my_data"
      ],
      "metadata": {
        "colab": {
          "base_uri": "https://localhost:8080/"
        },
        "id": "oJve1RGUiLs5",
        "outputId": "d7634af0-72e2-4738-b20e-987fb88fe0ce"
      },
      "execution_count": 95,
      "outputs": [
        {
          "output_type": "execute_result",
          "data": {
            "text/plain": [
              "{'nombre': 'Frank',\n",
              " 'edad': 26,\n",
              " 'estatura': 1.8,\n",
              " 'lenguages': ['Ingles', 'Español']}"
            ]
          },
          "metadata": {},
          "execution_count": 95
        }
      ]
    },
    {
      "cell_type": "code",
      "source": [
        "my_data.pop('estatura')"
      ],
      "metadata": {
        "colab": {
          "base_uri": "https://localhost:8080/"
        },
        "id": "erg5_SmrptIU",
        "outputId": "6a012831-0732-46eb-9910-e085c6100f4b"
      },
      "execution_count": 96,
      "outputs": [
        {
          "output_type": "execute_result",
          "data": {
            "text/plain": [
              "1.8"
            ]
          },
          "metadata": {},
          "execution_count": 96
        }
      ]
    },
    {
      "cell_type": "code",
      "source": [
        "my_data"
      ],
      "metadata": {
        "colab": {
          "base_uri": "https://localhost:8080/"
        },
        "id": "1uk93gAQquaD",
        "outputId": "49051193-b11f-427e-eefb-2369a6aaa299"
      },
      "execution_count": 97,
      "outputs": [
        {
          "output_type": "execute_result",
          "data": {
            "text/plain": [
              "{'nombre': 'Frank', 'edad': 26, 'lenguages': ['Ingles', 'Español']}"
            ]
          },
          "metadata": {},
          "execution_count": 97
        }
      ]
    },
    {
      "cell_type": "code",
      "source": [
        "#como eliminar un iten en el diccionario\n",
        "del my_data['lenguajes']"
      ],
      "metadata": {
        "id": "1UTrJGV3quVd"
      },
      "execution_count": null,
      "outputs": []
    },
    {
      "cell_type": "code",
      "source": [
        "my_data"
      ],
      "metadata": {
        "colab": {
          "base_uri": "https://localhost:8080/"
        },
        "id": "MMDzx8AgquRT",
        "outputId": "f71a9fcf-92d7-468d-b217-1e6daf77f2c9"
      },
      "execution_count": 102,
      "outputs": [
        {
          "output_type": "execute_result",
          "data": {
            "text/plain": [
              "{}"
            ]
          },
          "metadata": {},
          "execution_count": 102
        }
      ]
    },
    {
      "cell_type": "code",
      "source": [
        "my_data.clear() #clear eleimina todos los itemn del diccionario"
      ],
      "metadata": {
        "id": "aFRNcgPYpsxK"
      },
      "execution_count": 99,
      "outputs": []
    },
    {
      "cell_type": "code",
      "source": [
        "my_data"
      ],
      "metadata": {
        "colab": {
          "base_uri": "https://localhost:8080/"
        },
        "id": "oDHJG0Weo0y6",
        "outputId": "4d52be98-2ac8-4521-cfd1-71342d305c98"
      },
      "execution_count": 100,
      "outputs": [
        {
          "output_type": "execute_result",
          "data": {
            "text/plain": [
              "{}"
            ]
          },
          "metadata": {},
          "execution_count": 100
        }
      ]
    },
    {
      "cell_type": "markdown",
      "source": [
        "# **Condicionales**\n"
      ],
      "metadata": {
        "id": "M-RPQp9brzTg"
      }
    },
    {
      "cell_type": "markdown",
      "source": [
        "# **6 If**"
      ],
      "metadata": {
        "id": "KC30ljODsFRt"
      }
    },
    {
      "cell_type": "code",
      "source": [
        "\"\"\"if <condition>:\n",
        "  <code>\n",
        "elif <condition>:\n",
        "  <code>\n",
        "...\n",
        "else:\n",
        "  <code>\"\"\"\n"
      ],
      "metadata": {
        "id": "cengeU--rNBS",
        "colab": {
          "base_uri": "https://localhost:8080/",
          "height": 35
        },
        "outputId": "9a32e58b-ffbe-44ec-fdb4-cb8692b00159"
      },
      "execution_count": 104,
      "outputs": [
        {
          "output_type": "execute_result",
          "data": {
            "text/plain": [
              "'if <condition>:\\n  <code>\\nelif <condition>:\\n  <code>\\n...\\nelse:\\n  <code>'"
            ],
            "application/vnd.google.colaboratory.intrinsic+json": {
              "type": "string"
            }
          },
          "metadata": {},
          "execution_count": 104
        }
      ]
    },
    {
      "cell_type": "code",
      "source": [
        "#ejemplo extra\n",
        "rows=int(input(\"Enter number of rows:\"))\n",
        "k = 0\n",
        "for i in range(1, rows+1):\n",
        "  for space in range(1, (rows-i)+1):\n",
        "    print(end=\" \")\n",
        "  while k!=(2*i-1):\n",
        "    print(\"*\", end=\"\")\n",
        "    k+=1\n",
        "  k=0\n",
        "  print()"
      ],
      "metadata": {
        "colab": {
          "base_uri": "https://localhost:8080/"
        },
        "id": "t9xZtMhGrM9O",
        "outputId": "2bc801f3-a48a-49e4-e16f-c3d58d9c6ea9"
      },
      "execution_count": 105,
      "outputs": [
        {
          "output_type": "stream",
          "name": "stdout",
          "text": [
            "Enter number of rows:4\n",
            "   *\n",
            "  ***\n",
            " *****\n",
            "*******\n"
          ]
        }
      ]
    },
    {
      "cell_type": "code",
      "source": [
        "edad = 24\n",
        "if  edad>=18:\n",
        "  print('Eres mayor de edad')\n",
        "elif edad>=13:\n",
        "  print('Eres un adolescente')\n",
        "else:\n",
        "  print('Eres un niño')"
      ],
      "metadata": {
        "colab": {
          "base_uri": "https://localhost:8080/"
        },
        "id": "az0tUXT7rMjf",
        "outputId": "4607347a-5318-4628-c5ca-d9a574a7d876"
      },
      "execution_count": 106,
      "outputs": [
        {
          "output_type": "stream",
          "name": "stdout",
          "text": [
            "Eres mayor de edad\n"
          ]
        }
      ]
    },
    {
      "cell_type": "code",
      "source": [
        "countries"
      ],
      "metadata": {
        "colab": {
          "base_uri": "https://localhost:8080/"
        },
        "id": "q6YcXagtrMe_",
        "outputId": "b14f4fa1-dbfc-49c3-8719-fb7680592605"
      },
      "execution_count": 107,
      "outputs": [
        {
          "output_type": "execute_result",
          "data": {
            "text/plain": [
              "['India', 'China', 'Brazil', 'Argentina']"
            ]
          },
          "metadata": {},
          "execution_count": 107
        }
      ]
    },
    {
      "cell_type": "code",
      "source": [
        "countries=['United States', 'India', 'China', 'Brazil']"
      ],
      "metadata": {
        "id": "e9JxBCDIsKbW"
      },
      "execution_count": 108,
      "outputs": []
    },
    {
      "cell_type": "code",
      "source": [
        "if \"China\" in countries:\n",
        "  print(\"Pais esta en la lista\")\n",
        "else:\n",
        "  print(\"Pais NO esta en la lista\")"
      ],
      "metadata": {
        "colab": {
          "base_uri": "https://localhost:8080/"
        },
        "id": "skoFkMGjsKW_",
        "outputId": "291fe6ea-2513-4ff4-a36f-565de1772e40"
      },
      "execution_count": 109,
      "outputs": [
        {
          "output_type": "stream",
          "name": "stdout",
          "text": [
            "Pais esta en la lista\n"
          ]
        }
      ]
    },
    {
      "cell_type": "code",
      "source": [
        "if \"Colombia\" in countries:\n",
        "  print(\"Pais esta en la lista\")\n",
        "else:\n",
        "  print(\"Pais NO esta en la lista\")"
      ],
      "metadata": {
        "colab": {
          "base_uri": "https://localhost:8080/"
        },
        "id": "dZBlxomAsKST",
        "outputId": "9dc9875f-322b-4caf-8f6c-6c1f96509ce8"
      },
      "execution_count": 110,
      "outputs": [
        {
          "output_type": "stream",
          "name": "stdout",
          "text": [
            "Pais NO esta en la lista\n"
          ]
        }
      ]
    },
    {
      "cell_type": "markdown",
      "source": [
        "# **7 For loop(bucle for)**"
      ],
      "metadata": {
        "id": "SSgWle6jzStW"
      }
    },
    {
      "cell_type": "code",
      "source": [
        "\"\"\"for <variable> in <list>:\n",
        "  <code>\n",
        "\"\"\"\n"
      ],
      "metadata": {
        "id": "TugFQJmmwjMg"
      },
      "execution_count": null,
      "outputs": []
    },
    {
      "cell_type": "code",
      "source": [
        "for pais in countries:\n",
        "  print(pais)"
      ],
      "metadata": {
        "colab": {
          "base_uri": "https://localhost:8080/"
        },
        "id": "ALLGQkSczw-h",
        "outputId": "2ff5e6e7-039d-4f86-8a92-7c3a59fb9a08"
      },
      "execution_count": 111,
      "outputs": [
        {
          "output_type": "stream",
          "name": "stdout",
          "text": [
            "United States\n",
            "India\n",
            "China\n",
            "Brazil\n"
          ]
        }
      ]
    },
    {
      "cell_type": "code",
      "source": [
        "for pais in countries:\n",
        "  if pais == \"United States\":\n",
        "    print(pais)\n"
      ],
      "metadata": {
        "colab": {
          "base_uri": "https://localhost:8080/"
        },
        "id": "Hbu_6M-_zw5c",
        "outputId": "3787f3f2-13cc-44b4-eb2a-eecd1a08c6e5"
      },
      "execution_count": 112,
      "outputs": [
        {
          "output_type": "stream",
          "name": "stdout",
          "text": [
            "United States\n"
          ]
        }
      ]
    },
    {
      "cell_type": "code",
      "source": [
        "for numero, pais in enumerate(countries):\n",
        "  print(numero)\n",
        "  print(pais)"
      ],
      "metadata": {
        "colab": {
          "base_uri": "https://localhost:8080/"
        },
        "id": "ClGm-e-lzw0k",
        "outputId": "5bf3b33a-e595-4c6d-c3b4-ee8083777a09"
      },
      "execution_count": 113,
      "outputs": [
        {
          "output_type": "stream",
          "name": "stdout",
          "text": [
            "0\n",
            "United States\n",
            "1\n",
            "India\n",
            "2\n",
            "China\n",
            "3\n",
            "Brazil\n"
          ]
        }
      ]
    },
    {
      "cell_type": "code",
      "source": [
        "my_data = {'nombre':'Frank', 'edad':26}"
      ],
      "metadata": {
        "id": "4GuDaMUyzwhT"
      },
      "execution_count": 114,
      "outputs": []
    },
    {
      "cell_type": "code",
      "source": [
        "my_data"
      ],
      "metadata": {
        "colab": {
          "base_uri": "https://localhost:8080/"
        },
        "id": "s4PGzz4Z2B4J",
        "outputId": "9269967f-8193-494a-caa5-50fd67ffbad3"
      },
      "execution_count": 115,
      "outputs": [
        {
          "output_type": "execute_result",
          "data": {
            "text/plain": [
              "{'nombre': 'Frank', 'edad': 26}"
            ]
          },
          "metadata": {},
          "execution_count": 115
        }
      ]
    },
    {
      "cell_type": "code",
      "source": [
        "my_data.items()"
      ],
      "metadata": {
        "colab": {
          "base_uri": "https://localhost:8080/"
        },
        "id": "mZprXgPe3NRA",
        "outputId": "c3e09374-b066-420f-d503-7198994349ff"
      },
      "execution_count": 116,
      "outputs": [
        {
          "output_type": "execute_result",
          "data": {
            "text/plain": [
              "dict_items([('nombre', 'Frank'), ('edad', 26)])"
            ]
          },
          "metadata": {},
          "execution_count": 116
        }
      ]
    },
    {
      "cell_type": "code",
      "source": [
        "for key, value in my_data.items():\n",
        "  print(key)\n",
        "  print(value)"
      ],
      "metadata": {
        "colab": {
          "base_uri": "https://localhost:8080/"
        },
        "id": "vWgLn_6U1_q-",
        "outputId": "2028a284-d108-4312-f95d-a020c3306f57"
      },
      "execution_count": 117,
      "outputs": [
        {
          "output_type": "stream",
          "name": "stdout",
          "text": [
            "nombre\n",
            "Frank\n",
            "edad\n",
            "26\n"
          ]
        }
      ]
    },
    {
      "cell_type": "markdown",
      "source": [
        "# **8 Funciones**"
      ],
      "metadata": {
        "id": "XxxJ5SPc3sY3"
      }
    },
    {
      "cell_type": "markdown",
      "source": [
        "# **8.1 Funciones pre-fabricadas**"
      ],
      "metadata": {
        "id": "ipZsktWe30KQ"
      }
    },
    {
      "cell_type": "code",
      "source": [
        "countries"
      ],
      "metadata": {
        "colab": {
          "base_uri": "https://localhost:8080/"
        },
        "id": "L1kLXQvE3yYq",
        "outputId": "96bc3700-e436-43e2-f509-8766db4d7a1e"
      },
      "execution_count": 118,
      "outputs": [
        {
          "output_type": "execute_result",
          "data": {
            "text/plain": [
              "['United States', 'India', 'China', 'Brazil']"
            ]
          },
          "metadata": {},
          "execution_count": 118
        }
      ]
    },
    {
      "cell_type": "code",
      "source": [
        "len(countries)"
      ],
      "metadata": {
        "colab": {
          "base_uri": "https://localhost:8080/"
        },
        "id": "o0LyvpUn4G0A",
        "outputId": "24ef8fb5-c127-4901-a342-75d141ab96c7"
      },
      "execution_count": 119,
      "outputs": [
        {
          "output_type": "execute_result",
          "data": {
            "text/plain": [
              "4"
            ]
          },
          "metadata": {},
          "execution_count": 119
        }
      ]
    },
    {
      "cell_type": "code",
      "source": [
        "max([16, 83, 32, 1, 10])"
      ],
      "metadata": {
        "colab": {
          "base_uri": "https://localhost:8080/"
        },
        "id": "OxVusaDp4K86",
        "outputId": "5b723e2b-8c24-4747-c954-263c59611bd5"
      },
      "execution_count": 120,
      "outputs": [
        {
          "output_type": "execute_result",
          "data": {
            "text/plain": [
              "83"
            ]
          },
          "metadata": {},
          "execution_count": 120
        }
      ]
    },
    {
      "cell_type": "code",
      "source": [
        "min([16, 83, 32, 1, 10])"
      ],
      "metadata": {
        "colab": {
          "base_uri": "https://localhost:8080/"
        },
        "id": "6x86d-pN4ZOj",
        "outputId": "5318a843-60f4-4647-ad45-05f15d98013a"
      },
      "execution_count": 121,
      "outputs": [
        {
          "output_type": "execute_result",
          "data": {
            "text/plain": [
              "1"
            ]
          },
          "metadata": {},
          "execution_count": 121
        }
      ]
    },
    {
      "cell_type": "code",
      "source": [
        "type(countries)"
      ],
      "metadata": {
        "colab": {
          "base_uri": "https://localhost:8080/"
        },
        "id": "EWKrUjm54yzp",
        "outputId": "32fa8ac8-e428-48d6-dc0a-786f0bf017b8"
      },
      "execution_count": 122,
      "outputs": [
        {
          "output_type": "execute_result",
          "data": {
            "text/plain": [
              "list"
            ]
          },
          "metadata": {},
          "execution_count": 122
        }
      ]
    },
    {
      "cell_type": "code",
      "source": [
        "type(my_data)"
      ],
      "metadata": {
        "colab": {
          "base_uri": "https://localhost:8080/"
        },
        "id": "aXnl2gVd4rWW",
        "outputId": "e08c9298-7d00-43e4-92bf-cdb8f1cc23da"
      },
      "execution_count": 123,
      "outputs": [
        {
          "output_type": "execute_result",
          "data": {
            "text/plain": [
              "dict"
            ]
          },
          "metadata": {},
          "execution_count": 123
        }
      ]
    },
    {
      "cell_type": "code",
      "source": [
        "type(my_data)"
      ],
      "metadata": {
        "colab": {
          "base_uri": "https://localhost:8080/"
        },
        "id": "qYu9nU-R0qjP",
        "outputId": "656ed89e-7e96-4562-e411-12c2a04c7276"
      },
      "execution_count": 125,
      "outputs": [
        {
          "output_type": "execute_result",
          "data": {
            "text/plain": [
              "dict"
            ]
          },
          "metadata": {},
          "execution_count": 125
        }
      ]
    },
    {
      "cell_type": "code",
      "source": [
        "my_data"
      ],
      "metadata": {
        "colab": {
          "base_uri": "https://localhost:8080/"
        },
        "id": "NZBR6avzz93y",
        "outputId": "321cebcc-b134-4c15-f79b-206d2e68d3b2"
      },
      "execution_count": 124,
      "outputs": [
        {
          "output_type": "execute_result",
          "data": {
            "text/plain": [
              "{'nombre': 'Frank', 'edad': 26}"
            ]
          },
          "metadata": {},
          "execution_count": 124
        }
      ]
    },
    {
      "cell_type": "code",
      "source": [
        "round(2.333, 2) #el resutado con dos decimal, la funcion round redondea los decimales"
      ],
      "metadata": {
        "colab": {
          "base_uri": "https://localhost:8080/"
        },
        "id": "94VtHXfx0hXt",
        "outputId": "52385a19-7d64-4016-b0ba-e568c9a86294"
      },
      "execution_count": 126,
      "outputs": [
        {
          "output_type": "execute_result",
          "data": {
            "text/plain": [
              "2.33"
            ]
          },
          "metadata": {},
          "execution_count": 126
        }
      ]
    },
    {
      "cell_type": "code",
      "source": [
        "range(1, 10, 2)"
      ],
      "metadata": {
        "colab": {
          "base_uri": "https://localhost:8080/"
        },
        "id": "2fTjT0zd31-g",
        "outputId": "6c9d4138-614a-4d9c-ef8a-49a538550e34"
      },
      "execution_count": 128,
      "outputs": [
        {
          "output_type": "execute_result",
          "data": {
            "text/plain": [
              "range(1, 10, 2)"
            ]
          },
          "metadata": {},
          "execution_count": 128
        }
      ]
    },
    {
      "cell_type": "code",
      "source": [
        "for i in range(1, 10, 2): # se impreso  el incrementa 2 en 2, la secuencia\n",
        "  print(i)"
      ],
      "metadata": {
        "colab": {
          "base_uri": "https://localhost:8080/"
        },
        "id": "3j2LWzph0cdl",
        "outputId": "9414e9e3-285d-4ab5-b86b-4e1c3d499bc2"
      },
      "execution_count": 127,
      "outputs": [
        {
          "output_type": "stream",
          "name": "stdout",
          "text": [
            "1\n",
            "3\n",
            "5\n",
            "7\n",
            "9\n"
          ]
        }
      ]
    },
    {
      "cell_type": "markdown",
      "source": [
        "# **8.2 Crear tu Funcion**"
      ],
      "metadata": {
        "id": "-OD_Bx7M4Onb"
      }
    },
    {
      "cell_type": "code",
      "source": [
        "def function(<params>):\n",
        "  <code>\n",
        "  return <data>"
      ],
      "metadata": {
        "id": "7UcnKCSl0cXP"
      },
      "execution_count": null,
      "outputs": []
    },
    {
      "cell_type": "code",
      "source": [
        "def sumar_numeros(a, b):\n",
        "  suma_final = a+b\n",
        "  return suma_final"
      ],
      "metadata": {
        "id": "bW9RAm-U0cDh"
      },
      "execution_count": 130,
      "outputs": []
    },
    {
      "cell_type": "code",
      "source": [
        "sumar_numeros(1,5)"
      ],
      "metadata": {
        "colab": {
          "base_uri": "https://localhost:8080/"
        },
        "id": "k9pKn_vM0b9G",
        "outputId": "ac1e16a3-92b6-458e-d3ef-3e8c348e9dc0"
      },
      "execution_count": 131,
      "outputs": [
        {
          "output_type": "execute_result",
          "data": {
            "text/plain": [
              "6"
            ]
          },
          "metadata": {},
          "execution_count": 131
        }
      ]
    },
    {
      "cell_type": "code",
      "source": [],
      "metadata": {
        "id": "oLSqAtlN0b1o"
      },
      "execution_count": null,
      "outputs": []
    },
    {
      "cell_type": "code",
      "source": [],
      "metadata": {
        "id": "UpKE5kTY0bw1"
      },
      "execution_count": null,
      "outputs": []
    },
    {
      "cell_type": "code",
      "source": [],
      "metadata": {
        "id": "WBj100O70bpH"
      },
      "execution_count": null,
      "outputs": []
    },
    {
      "cell_type": "code",
      "source": [],
      "metadata": {
        "id": "Mpbn0eeF0bif"
      },
      "execution_count": null,
      "outputs": []
    },
    {
      "cell_type": "code",
      "source": [],
      "metadata": {
        "id": "mSdksUHp0bcw"
      },
      "execution_count": null,
      "outputs": []
    },
    {
      "cell_type": "code",
      "source": [],
      "metadata": {
        "id": "jGJL5meZ0bWV"
      },
      "execution_count": null,
      "outputs": []
    }
  ]
}