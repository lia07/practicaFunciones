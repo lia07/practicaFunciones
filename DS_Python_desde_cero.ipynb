{
  "nbformat": 4,
  "nbformat_minor": 0,
  "metadata": {
    "colab": {
      "provenance": [],
      "authorship_tag": "ABX9TyMtazSMALatPBtyuaQ3IaXf",
      "include_colab_link": true
    },
    "kernelspec": {
      "name": "python3",
      "display_name": "Python 3"
    },
    "language_info": {
      "name": "python"
    }
  },
  "cells": [
    {
      "cell_type": "markdown",
      "metadata": {
        "id": "view-in-github",
        "colab_type": "text"
      },
      "source": [
        "<a href=\"https://colab.research.google.com/github/lia07/practicaFunciones/blob/master/DS_Python_desde_cero.ipynb\" target=\"_parent\"><img src=\"https://colab.research.google.com/assets/colab-badge.svg\" alt=\"Open In Colab\"/></a>"
      ]
    },
    {
      "cell_type": "markdown",
      "source": [],
      "metadata": {
        "id": "D-atUO39s9dd"
      }
    },
    {
      "cell_type": "markdown",
      "source": [
        "# **1. Hello World**"
      ],
      "metadata": {
        "id": "Oc-D879Zs9p6"
      }
    },
    {
      "cell_type": "code",
      "source": [
        "#printing my first code\n",
        "print(\"Hello World!\")"
      ],
      "metadata": {
        "colab": {
          "base_uri": "https://localhost:8080/"
        },
        "id": "IGfDzGh_tBg-",
        "outputId": "dac5c0ac-3209-4a67-b4bf-a8dd6adc0e92"
      },
      "execution_count": 1,
      "outputs": [
        {
          "output_type": "stream",
          "name": "stdout",
          "text": [
            "Hello World!\n"
          ]
        }
      ]
    },
    {
      "cell_type": "code",
      "source": [
        "#printing my name\n",
        "print(\"Gladys\")"
      ],
      "metadata": {
        "colab": {
          "base_uri": "https://localhost:8080/"
        },
        "id": "-ZtCRp-GtWYW",
        "outputId": "2997f3a3-cb3f-4ad7-dc4a-2358bb7dfbfa"
      },
      "execution_count": 2,
      "outputs": [
        {
          "output_type": "stream",
          "name": "stdout",
          "text": [
            "Gladys\n"
          ]
        }
      ]
    },
    {
      "cell_type": "code",
      "source": [
        "type(1)"
      ],
      "metadata": {
        "colab": {
          "base_uri": "https://localhost:8080/"
        },
        "id": "qOyct9KNuu3E",
        "outputId": "b5114be4-16eb-4a36-f406-3f4ac03805db"
      },
      "execution_count": 3,
      "outputs": [
        {
          "output_type": "execute_result",
          "data": {
            "text/plain": [
              "int"
            ]
          },
          "metadata": {},
          "execution_count": 3
        }
      ]
    },
    {
      "cell_type": "code",
      "source": [
        "type(2.5)"
      ],
      "metadata": {
        "colab": {
          "base_uri": "https://localhost:8080/"
        },
        "id": "KL_bAddauycH",
        "outputId": "3997e3ec-552f-4d98-af2d-7c3c6bba5a88"
      },
      "execution_count": 4,
      "outputs": [
        {
          "output_type": "execute_result",
          "data": {
            "text/plain": [
              "float"
            ]
          },
          "metadata": {},
          "execution_count": 4
        }
      ]
    },
    {
      "cell_type": "code",
      "source": [
        "1+5"
      ],
      "metadata": {
        "colab": {
          "base_uri": "https://localhost:8080/"
        },
        "id": "nzmVQt7Ju2cW",
        "outputId": "2a6f128e-0135-4a7d-bd5d-ca1924271b1f"
      },
      "execution_count": 5,
      "outputs": [
        {
          "output_type": "execute_result",
          "data": {
            "text/plain": [
              "6"
            ]
          },
          "metadata": {},
          "execution_count": 5
        }
      ]
    },
    {
      "cell_type": "code",
      "source": [
        "4-2"
      ],
      "metadata": {
        "colab": {
          "base_uri": "https://localhost:8080/"
        },
        "id": "94KxQakcu7Av",
        "outputId": "b04f7bcd-8a8b-4473-83bb-c24c7cf77066"
      },
      "execution_count": 6,
      "outputs": [
        {
          "output_type": "execute_result",
          "data": {
            "text/plain": [
              "2"
            ]
          },
          "metadata": {},
          "execution_count": 6
        }
      ]
    },
    {
      "cell_type": "code",
      "source": [
        "type(True)"
      ],
      "metadata": {
        "colab": {
          "base_uri": "https://localhost:8080/"
        },
        "id": "ckIexb7xu9It",
        "outputId": "f5cbff99-0dbb-4953-a8a3-c5f2e4cb5e86"
      },
      "execution_count": 7,
      "outputs": [
        {
          "output_type": "execute_result",
          "data": {
            "text/plain": [
              "bool"
            ]
          },
          "metadata": {},
          "execution_count": 7
        }
      ]
    },
    {
      "cell_type": "code",
      "source": [
        "type(False)"
      ],
      "metadata": {
        "colab": {
          "base_uri": "https://localhost:8080/"
        },
        "id": "qySYKjcjvAo0",
        "outputId": "c3fd4ea0-b251-4f47-e42a-b6c0526bb756"
      },
      "execution_count": 8,
      "outputs": [
        {
          "output_type": "execute_result",
          "data": {
            "text/plain": [
              "bool"
            ]
          },
          "metadata": {},
          "execution_count": 8
        }
      ]
    },
    {
      "cell_type": "code",
      "source": [
        "type(\"Hello World\")"
      ],
      "metadata": {
        "colab": {
          "base_uri": "https://localhost:8080/"
        },
        "id": "_yQkcGepvEOn",
        "outputId": "3a5288ae-635f-496e-f704-b5531f8891d7"
      },
      "execution_count": 9,
      "outputs": [
        {
          "output_type": "execute_result",
          "data": {
            "text/plain": [
              "str"
            ]
          },
          "metadata": {},
          "execution_count": 9
        }
      ]
    },
    {
      "cell_type": "code",
      "source": [
        "\"Hello World\".upper() #convertir en mayusculas"
      ],
      "metadata": {
        "colab": {
          "base_uri": "https://localhost:8080/",
          "height": 35
        },
        "id": "7hFVvh3lvYOM",
        "outputId": "f1770c0d-50c3-47b3-e771-3b9d9191b6c1"
      },
      "execution_count": 10,
      "outputs": [
        {
          "output_type": "execute_result",
          "data": {
            "text/plain": [
              "'HELLO WORLD'"
            ],
            "application/vnd.google.colaboratory.intrinsic+json": {
              "type": "string"
            }
          },
          "metadata": {},
          "execution_count": 10
        }
      ]
    },
    {
      "cell_type": "code",
      "source": [
        "\"Hello World\".lower()#convertir a minusculas"
      ],
      "metadata": {
        "colab": {
          "base_uri": "https://localhost:8080/",
          "height": 35
        },
        "id": "MULuJpCOvjED",
        "outputId": "c2698a13-027b-4f3d-95a5-70f7de97e3d7"
      },
      "execution_count": 11,
      "outputs": [
        {
          "output_type": "execute_result",
          "data": {
            "text/plain": [
              "'hello world'"
            ],
            "application/vnd.google.colaboratory.intrinsic+json": {
              "type": "string"
            }
          },
          "metadata": {},
          "execution_count": 11
        }
      ]
    },
    {
      "cell_type": "code",
      "source": [
        "\"Hello World\".upper()#convertir a mayuscula\n",
        "\"Hello World\".lower()#convertir a minusculas\n",
        "\"Hello World\".title()#convertir a mayuscula la primera letra"
      ],
      "metadata": {
        "colab": {
          "base_uri": "https://localhost:8080/",
          "height": 35
        },
        "id": "0TYT0oNpvsad",
        "outputId": "fcf8e27a-55a7-4490-cca0-053bb6ea36ce"
      },
      "execution_count": 12,
      "outputs": [
        {
          "output_type": "execute_result",
          "data": {
            "text/plain": [
              "'Hello World'"
            ],
            "application/vnd.google.colaboratory.intrinsic+json": {
              "type": "string"
            }
          },
          "metadata": {},
          "execution_count": 12
        }
      ]
    },
    {
      "cell_type": "code",
      "source": [
        "\"Hello World\".count('l')#contar la cantidad"
      ],
      "metadata": {
        "colab": {
          "base_uri": "https://localhost:8080/"
        },
        "id": "zg6K4whZwLl2",
        "outputId": "e765de84-884b-448a-be4a-ae23632b2545"
      },
      "execution_count": 13,
      "outputs": [
        {
          "output_type": "execute_result",
          "data": {
            "text/plain": [
              "3"
            ]
          },
          "metadata": {},
          "execution_count": 13
        }
      ]
    },
    {
      "cell_type": "code",
      "source": [
        "\"Hello World!\".replace('o', 'u') #reemplazar o por letra u"
      ],
      "metadata": {
        "colab": {
          "base_uri": "https://localhost:8080/",
          "height": 35
        },
        "id": "sUW4ynjEwZ8V",
        "outputId": "6ce59cf2-99f5-45a4-d7dc-23ef7469777e"
      },
      "execution_count": 14,
      "outputs": [
        {
          "output_type": "execute_result",
          "data": {
            "text/plain": [
              "'Hellu Wurld!'"
            ],
            "application/vnd.google.colaboratory.intrinsic+json": {
              "type": "string"
            }
          },
          "metadata": {},
          "execution_count": 14
        }
      ]
    },
    {
      "cell_type": "markdown",
      "source": [
        "# **2. Variables**"
      ],
      "metadata": {
        "id": "uK0DfDfk1hid"
      }
    },
    {
      "cell_type": "code",
      "source": [
        "message_1 = \"Estoy aprendiendo Python\"\n",
        "message_1"
      ],
      "metadata": {
        "colab": {
          "base_uri": "https://localhost:8080/",
          "height": 35
        },
        "id": "ufUX0A1v1luc",
        "outputId": "b55b2c9f-da6c-4df5-d196-e2352f418431"
      },
      "execution_count": 15,
      "outputs": [
        {
          "output_type": "execute_result",
          "data": {
            "text/plain": [
              "'Estoy aprendiendo Python'"
            ],
            "application/vnd.google.colaboratory.intrinsic+json": {
              "type": "string"
            }
          },
          "metadata": {},
          "execution_count": 15
        }
      ]
    },
    {
      "cell_type": "code",
      "source": [
        "message_2 = \"y es divertido\""
      ],
      "metadata": {
        "id": "xpome3uk1zB_"
      },
      "execution_count": 16,
      "outputs": []
    },
    {
      "cell_type": "code",
      "source": [
        "#concatenar variables\n",
        "\n",
        "message_1 + message_2"
      ],
      "metadata": {
        "colab": {
          "base_uri": "https://localhost:8080/",
          "height": 35
        },
        "id": "IQkvzSCp6aQH",
        "outputId": "8d3dc2cf-7395-4a8a-fd4d-dbf7a6f3be95"
      },
      "execution_count": 17,
      "outputs": [
        {
          "output_type": "execute_result",
          "data": {
            "text/plain": [
              "'Estoy aprendiendo Pythony es divertido'"
            ],
            "application/vnd.google.colaboratory.intrinsic+json": {
              "type": "string"
            }
          },
          "metadata": {},
          "execution_count": 17
        }
      ]
    },
    {
      "cell_type": "code",
      "source": [
        "message_1 + \" \" + message_2 "
      ],
      "metadata": {
        "colab": {
          "base_uri": "https://localhost:8080/",
          "height": 35
        },
        "id": "ewaCblM36mn_",
        "outputId": "2f464dd0-b6e8-44c2-b998-e2d500629239"
      },
      "execution_count": 18,
      "outputs": [
        {
          "output_type": "execute_result",
          "data": {
            "text/plain": [
              "'Estoy aprendiendo Python y es divertido'"
            ],
            "application/vnd.google.colaboratory.intrinsic+json": {
              "type": "string"
            }
          },
          "metadata": {},
          "execution_count": 18
        }
      ]
    },
    {
      "cell_type": "code",
      "source": [
        "# otro tipo de concatenacion con f\n",
        "f'Estoy aprendiendo python'"
      ],
      "metadata": {
        "colab": {
          "base_uri": "https://localhost:8080/",
          "height": 35
        },
        "id": "qZmPBlRO7EH8",
        "outputId": "9d852691-7e42-4b53-c85c-6b49bf7bbf0f"
      },
      "execution_count": 19,
      "outputs": [
        {
          "output_type": "execute_result",
          "data": {
            "text/plain": [
              "'Estoy aprendiendo python'"
            ],
            "application/vnd.google.colaboratory.intrinsic+json": {
              "type": "string"
            }
          },
          "metadata": {},
          "execution_count": 19
        }
      ]
    },
    {
      "cell_type": "code",
      "source": [
        "# otro tipo de concatenacion con f\n",
        "f'{message_1} abc'"
      ],
      "metadata": {
        "colab": {
          "base_uri": "https://localhost:8080/",
          "height": 35
        },
        "id": "ISMXa_-g7sq6",
        "outputId": "13b9c387-83a8-49ca-9d5f-5715e80bd28c"
      },
      "execution_count": 20,
      "outputs": [
        {
          "output_type": "execute_result",
          "data": {
            "text/plain": [
              "'Estoy aprendiendo Python abc'"
            ],
            "application/vnd.google.colaboratory.intrinsic+json": {
              "type": "string"
            }
          },
          "metadata": {},
          "execution_count": 20
        }
      ]
    },
    {
      "cell_type": "code",
      "source": [
        "# otro tipo de concatenacion con f\n",
        "f'{message_1} {message_2}'"
      ],
      "metadata": {
        "colab": {
          "base_uri": "https://localhost:8080/",
          "height": 35
        },
        "id": "H5iu4nmJ750x",
        "outputId": "1d3ac48f-a740-4a02-b457-5264edf82bdf"
      },
      "execution_count": 21,
      "outputs": [
        {
          "output_type": "execute_result",
          "data": {
            "text/plain": [
              "'Estoy aprendiendo Python y es divertido'"
            ],
            "application/vnd.google.colaboratory.intrinsic+json": {
              "type": "string"
            }
          },
          "metadata": {},
          "execution_count": 21
        }
      ]
    },
    {
      "cell_type": "code",
      "source": [
        "message = f'{message_1}  {message_2}'\n",
        "message"
      ],
      "metadata": {
        "colab": {
          "base_uri": "https://localhost:8080/",
          "height": 35
        },
        "id": "TNS8Iuxo8CA-",
        "outputId": "bbd07765-5e67-456a-8059-3d3fad45b445"
      },
      "execution_count": 22,
      "outputs": [
        {
          "output_type": "execute_result",
          "data": {
            "text/plain": [
              "'Estoy aprendiendo Python  y es divertido'"
            ],
            "application/vnd.google.colaboratory.intrinsic+json": {
              "type": "string"
            }
          },
          "metadata": {},
          "execution_count": 22
        }
      ]
    },
    {
      "cell_type": "markdown",
      "source": [
        "# **4. Listas**\n",
        "*  ordenadas\n",
        "*  mutables"
      ],
      "metadata": {
        "id": "yRMmgCW88eMA"
      }
    },
    {
      "cell_type": "code",
      "source": [
        "countries = ['United States', 'India', 'China', 'Brazil']\n",
        "countries"
      ],
      "metadata": {
        "colab": {
          "base_uri": "https://localhost:8080/"
        },
        "id": "AvXuU-IV8o90",
        "outputId": "fd55f75f-80c5-4aad-b4b3-db6fa2f350ba"
      },
      "execution_count": 23,
      "outputs": [
        {
          "output_type": "execute_result",
          "data": {
            "text/plain": [
              "['United States', 'India', 'China', 'Brazil']"
            ]
          },
          "metadata": {},
          "execution_count": 23
        }
      ]
    },
    {
      "cell_type": "code",
      "source": [
        "countries[0]"
      ],
      "metadata": {
        "colab": {
          "base_uri": "https://localhost:8080/",
          "height": 35
        },
        "id": "LdigQNjN9SFK",
        "outputId": "8721ecf0-e731-44d4-ab33-dad0b03cee5c"
      },
      "execution_count": 24,
      "outputs": [
        {
          "output_type": "execute_result",
          "data": {
            "text/plain": [
              "'United States'"
            ],
            "application/vnd.google.colaboratory.intrinsic+json": {
              "type": "string"
            }
          },
          "metadata": {},
          "execution_count": 24
        }
      ]
    },
    {
      "cell_type": "code",
      "source": [
        "countries[1]"
      ],
      "metadata": {
        "colab": {
          "base_uri": "https://localhost:8080/",
          "height": 35
        },
        "id": "gtkeZ5C59YyK",
        "outputId": "31872844-a54a-42a1-d124-bc44c4364a9e"
      },
      "execution_count": 25,
      "outputs": [
        {
          "output_type": "execute_result",
          "data": {
            "text/plain": [
              "'India'"
            ],
            "application/vnd.google.colaboratory.intrinsic+json": {
              "type": "string"
            }
          },
          "metadata": {},
          "execution_count": 25
        }
      ]
    },
    {
      "cell_type": "code",
      "source": [
        "countries[-1]"
      ],
      "metadata": {
        "colab": {
          "base_uri": "https://localhost:8080/",
          "height": 35
        },
        "id": "PILMM-Sa9qo4",
        "outputId": "ebd2a8df-aa67-4e38-b870-a949baabc68c"
      },
      "execution_count": 26,
      "outputs": [
        {
          "output_type": "execute_result",
          "data": {
            "text/plain": [
              "'Brazil'"
            ],
            "application/vnd.google.colaboratory.intrinsic+json": {
              "type": "string"
            }
          },
          "metadata": {},
          "execution_count": 26
        }
      ]
    },
    {
      "cell_type": "code",
      "source": [
        "countries[-2]"
      ],
      "metadata": {
        "colab": {
          "base_uri": "https://localhost:8080/",
          "height": 35
        },
        "id": "cuLe4iFu9qS4",
        "outputId": "9e6a64bb-bb5c-44fd-e2ac-8b987032a7c1"
      },
      "execution_count": 27,
      "outputs": [
        {
          "output_type": "execute_result",
          "data": {
            "text/plain": [
              "'China'"
            ],
            "application/vnd.google.colaboratory.intrinsic+json": {
              "type": "string"
            }
          },
          "metadata": {},
          "execution_count": 27
        }
      ]
    },
    {
      "cell_type": "code",
      "source": [
        "countries[-3]"
      ],
      "metadata": {
        "colab": {
          "base_uri": "https://localhost:8080/",
          "height": 35
        },
        "id": "aJ3u3bKR9wmn",
        "outputId": "d80b081f-fbeb-46ca-8541-a7ed35d40041"
      },
      "execution_count": 28,
      "outputs": [
        {
          "output_type": "execute_result",
          "data": {
            "text/plain": [
              "'India'"
            ],
            "application/vnd.google.colaboratory.intrinsic+json": {
              "type": "string"
            }
          },
          "metadata": {},
          "execution_count": 28
        }
      ]
    },
    {
      "cell_type": "code",
      "source": [
        "countries[-4]"
      ],
      "metadata": {
        "colab": {
          "base_uri": "https://localhost:8080/",
          "height": 35
        },
        "id": "gESyTKyi9y96",
        "outputId": "2a3ff571-137f-4ad5-af0a-9f552889993a"
      },
      "execution_count": 29,
      "outputs": [
        {
          "output_type": "execute_result",
          "data": {
            "text/plain": [
              "'United States'"
            ],
            "application/vnd.google.colaboratory.intrinsic+json": {
              "type": "string"
            }
          },
          "metadata": {},
          "execution_count": 29
        }
      ]
    },
    {
      "cell_type": "code",
      "source": [
        "countries[3]"
      ],
      "metadata": {
        "colab": {
          "base_uri": "https://localhost:8080/",
          "height": 35
        },
        "id": "35O1EOZ9pDXC",
        "outputId": "20026b15-b300-4bba-9ad6-cb0f8a37feef"
      },
      "execution_count": 30,
      "outputs": [
        {
          "output_type": "execute_result",
          "data": {
            "text/plain": [
              "'Brazil'"
            ],
            "application/vnd.google.colaboratory.intrinsic+json": {
              "type": "string"
            }
          },
          "metadata": {},
          "execution_count": 30
        }
      ]
    },
    {
      "cell_type": "code",
      "source": [
        "countries[-1]"
      ],
      "metadata": {
        "colab": {
          "base_uri": "https://localhost:8080/",
          "height": 35
        },
        "id": "-vQ_ChMWpzrl",
        "outputId": "ee44861f-efa9-42fb-d380-8f8c49925eac"
      },
      "execution_count": 31,
      "outputs": [
        {
          "output_type": "execute_result",
          "data": {
            "text/plain": [
              "'Brazil'"
            ],
            "application/vnd.google.colaboratory.intrinsic+json": {
              "type": "string"
            }
          },
          "metadata": {},
          "execution_count": 31
        }
      ]
    },
    {
      "cell_type": "markdown",
      "source": [
        "# **4.1 Rebanadas/Slicing**"
      ],
      "metadata": {
        "id": "OfXSosPio9n-"
      }
    },
    {
      "cell_type": "code",
      "source": [
        "#stop excluyente\n",
        "nombre_lista[start:stop]\n"
      ],
      "metadata": {
        "id": "iI5X1rfsqlSf"
      },
      "execution_count": null,
      "outputs": []
    },
    {
      "cell_type": "code",
      "source": [
        "countries[0:3] #ultimo numero + 1 = 2+1=2"
      ],
      "metadata": {
        "colab": {
          "base_uri": "https://localhost:8080/"
        },
        "id": "5qREM2ZHq9Cj",
        "outputId": "e81a9c4a-a7a1-4f0c-babc-d68af97b6564"
      },
      "execution_count": 32,
      "outputs": [
        {
          "output_type": "execute_result",
          "data": {
            "text/plain": [
              "['United States', 'India', 'China']"
            ]
          },
          "metadata": {},
          "execution_count": 32
        }
      ]
    },
    {
      "cell_type": "code",
      "source": [
        "countries[1:4]"
      ],
      "metadata": {
        "colab": {
          "base_uri": "https://localhost:8080/"
        },
        "id": "p2XRwVu0rmjc",
        "outputId": "2c2ede56-ba6c-4a53-b8fd-641f80cae1b1"
      },
      "execution_count": 33,
      "outputs": [
        {
          "output_type": "execute_result",
          "data": {
            "text/plain": [
              "['India', 'China', 'Brazil']"
            ]
          },
          "metadata": {},
          "execution_count": 33
        }
      ]
    },
    {
      "cell_type": "code",
      "source": [
        "countries[1:]"
      ],
      "metadata": {
        "colab": {
          "base_uri": "https://localhost:8080/"
        },
        "id": "gGUbIo_frtKY",
        "outputId": "92f97646-079c-4929-ed82-58c83df9bd6a"
      },
      "execution_count": 34,
      "outputs": [
        {
          "output_type": "execute_result",
          "data": {
            "text/plain": [
              "['India', 'China', 'Brazil']"
            ]
          },
          "metadata": {},
          "execution_count": 34
        }
      ]
    },
    {
      "cell_type": "code",
      "source": [
        "countries[0:2]"
      ],
      "metadata": {
        "colab": {
          "base_uri": "https://localhost:8080/"
        },
        "id": "pcovn_dQumH9",
        "outputId": "794bd094-9035-41af-c3a6-a0f2ba2cd42d"
      },
      "execution_count": 35,
      "outputs": [
        {
          "output_type": "execute_result",
          "data": {
            "text/plain": [
              "['United States', 'India']"
            ]
          },
          "metadata": {},
          "execution_count": 35
        }
      ]
    },
    {
      "cell_type": "code",
      "source": [
        "countries[:2]"
      ],
      "metadata": {
        "colab": {
          "base_uri": "https://localhost:8080/"
        },
        "id": "foMo2VPhu2qB",
        "outputId": "8f947aab-30cb-4d35-f282-bf77d64e2727"
      },
      "execution_count": 36,
      "outputs": [
        {
          "output_type": "execute_result",
          "data": {
            "text/plain": [
              "['United States', 'India']"
            ]
          },
          "metadata": {},
          "execution_count": 36
        }
      ]
    },
    {
      "cell_type": "markdown",
      "source": [
        "# **4.2 Operaciones y metodos**"
      ],
      "metadata": {
        "id": "juJBzzEtCV97"
      }
    },
    {
      "cell_type": "code",
      "source": [
        "#metodo append\n",
        "countries"
      ],
      "metadata": {
        "colab": {
          "base_uri": "https://localhost:8080/"
        },
        "id": "yRL7L9Pxsdo7",
        "outputId": "96863663-4be6-4c0d-ba5d-16641410124a"
      },
      "execution_count": 37,
      "outputs": [
        {
          "output_type": "execute_result",
          "data": {
            "text/plain": [
              "['United States', 'India', 'China', 'Brazil']"
            ]
          },
          "metadata": {},
          "execution_count": 37
        }
      ]
    },
    {
      "cell_type": "code",
      "source": [
        "#añadir un elemento('canada)\n",
        "countries.append('Canada')"
      ],
      "metadata": {
        "id": "0Scg2pHBsdkp"
      },
      "execution_count": 38,
      "outputs": []
    },
    {
      "cell_type": "code",
      "source": [
        "countries"
      ],
      "metadata": {
        "colab": {
          "base_uri": "https://localhost:8080/"
        },
        "id": "iT3YghEYsdd7",
        "outputId": "d09c5d2e-0356-4ad4-9671-766c0e12727a"
      },
      "execution_count": 39,
      "outputs": [
        {
          "output_type": "execute_result",
          "data": {
            "text/plain": [
              "['United States', 'India', 'China', 'Brazil', 'Canada']"
            ]
          },
          "metadata": {},
          "execution_count": 39
        }
      ]
    },
    {
      "cell_type": "code",
      "source": [
        "countries.insert(0, 'Argentina')"
      ],
      "metadata": {
        "id": "Qr_AWtAssdOo"
      },
      "execution_count": 40,
      "outputs": []
    },
    {
      "cell_type": "code",
      "source": [
        "countries"
      ],
      "metadata": {
        "colab": {
          "base_uri": "https://localhost:8080/"
        },
        "id": "N_T5p1VFxz0Z",
        "outputId": "6760b779-4ff3-4120-810d-ad81c31cea39"
      },
      "execution_count": 41,
      "outputs": [
        {
          "output_type": "execute_result",
          "data": {
            "text/plain": [
              "['Argentina', 'United States', 'India', 'China', 'Brazil', 'Canada']"
            ]
          },
          "metadata": {},
          "execution_count": 41
        }
      ]
    },
    {
      "cell_type": "code",
      "source": [
        "countries_2 = ['UK', 'Alemania', 'Australia']"
      ],
      "metadata": {
        "id": "Wy4vYw7-yhWq"
      },
      "execution_count": 42,
      "outputs": []
    },
    {
      "cell_type": "code",
      "source": [
        "countries_2"
      ],
      "metadata": {
        "colab": {
          "base_uri": "https://localhost:8080/"
        },
        "id": "eEMce8cZ4-9c",
        "outputId": "955483be-f984-46fd-c483-dbc8f5b3c7f0"
      },
      "execution_count": 43,
      "outputs": [
        {
          "output_type": "execute_result",
          "data": {
            "text/plain": [
              "['UK', 'Alemania', 'Australia']"
            ]
          },
          "metadata": {},
          "execution_count": 43
        }
      ]
    },
    {
      "cell_type": "code",
      "source": [
        "countries + countries_2"
      ],
      "metadata": {
        "colab": {
          "base_uri": "https://localhost:8080/"
        },
        "id": "F8Zo3dzK5FTa",
        "outputId": "55d8c529-04df-4725-a5e9-fa274162d445"
      },
      "execution_count": 44,
      "outputs": [
        {
          "output_type": "execute_result",
          "data": {
            "text/plain": [
              "['Argentina',\n",
              " 'United States',\n",
              " 'India',\n",
              " 'China',\n",
              " 'Brazil',\n",
              " 'Canada',\n",
              " 'UK',\n",
              " 'Alemania',\n",
              " 'Australia']"
            ]
          },
          "metadata": {},
          "execution_count": 44
        }
      ]
    },
    {
      "cell_type": "code",
      "source": [
        "#Listas anidadas, listas dentro de otra lista\n",
        "nueva_lista = [countries, countries_2]\n"
      ],
      "metadata": {
        "id": "-ccSh5375-HN"
      },
      "execution_count": 45,
      "outputs": []
    },
    {
      "cell_type": "code",
      "source": [
        "nueva_lista"
      ],
      "metadata": {
        "colab": {
          "base_uri": "https://localhost:8080/"
        },
        "id": "iYMgXoiZ6a1l",
        "outputId": "83750a1c-b9b4-4bee-8d67-119a71ce08e3"
      },
      "execution_count": 46,
      "outputs": [
        {
          "output_type": "execute_result",
          "data": {
            "text/plain": [
              "[['Argentina', 'United States', 'India', 'China', 'Brazil', 'Canada'],\n",
              " ['UK', 'Alemania', 'Australia']]"
            ]
          },
          "metadata": {},
          "execution_count": 46
        }
      ]
    },
    {
      "cell_type": "code",
      "source": [
        "countries"
      ],
      "metadata": {
        "colab": {
          "base_uri": "https://localhost:8080/"
        },
        "id": "t3OzAX9-6fDg",
        "outputId": "1b3110bd-4024-4087-d049-53dc06a2664e"
      },
      "execution_count": 47,
      "outputs": [
        {
          "output_type": "execute_result",
          "data": {
            "text/plain": [
              "['Argentina', 'United States', 'India', 'China', 'Brazil', 'Canada']"
            ]
          },
          "metadata": {},
          "execution_count": 47
        }
      ]
    },
    {
      "cell_type": "code",
      "source": [
        "#eliminar un elemento\n",
        "countries.remove('Canada')"
      ],
      "metadata": {
        "id": "FNUNr6xh6nHt"
      },
      "execution_count": 48,
      "outputs": []
    },
    {
      "cell_type": "code",
      "source": [
        "countries"
      ],
      "metadata": {
        "colab": {
          "base_uri": "https://localhost:8080/"
        },
        "id": "zTOnFAlT7DeX",
        "outputId": "f80ae0d4-8ffb-411b-feb6-3f2bd95f3936"
      },
      "execution_count": 49,
      "outputs": [
        {
          "output_type": "execute_result",
          "data": {
            "text/plain": [
              "['Argentina', 'United States', 'India', 'China', 'Brazil']"
            ]
          },
          "metadata": {},
          "execution_count": 49
        }
      ]
    },
    {
      "cell_type": "code",
      "source": [
        "#el metodo poo solamente admite por indices para eleiminar\n",
        "countries.pop(0)"
      ],
      "metadata": {
        "colab": {
          "base_uri": "https://localhost:8080/",
          "height": 35
        },
        "id": "iKUMI99U7Hxm",
        "outputId": "45aba759-c041-43d1-cab1-b7b022f3375c"
      },
      "execution_count": 50,
      "outputs": [
        {
          "output_type": "execute_result",
          "data": {
            "text/plain": [
              "'Argentina'"
            ],
            "application/vnd.google.colaboratory.intrinsic+json": {
              "type": "string"
            }
          },
          "metadata": {},
          "execution_count": 50
        }
      ]
    },
    {
      "cell_type": "code",
      "source": [
        "countries"
      ],
      "metadata": {
        "colab": {
          "base_uri": "https://localhost:8080/"
        },
        "id": "qGvxvEOE7Hty",
        "outputId": "8e3fb790-d077-41c6-e43a-5fd0b29159a1"
      },
      "execution_count": 51,
      "outputs": [
        {
          "output_type": "execute_result",
          "data": {
            "text/plain": [
              "['United States', 'India', 'China', 'Brazil']"
            ]
          },
          "metadata": {},
          "execution_count": 51
        }
      ]
    },
    {
      "cell_type": "code",
      "source": [
        "#del para eliminar elementos\n",
        "del countries[0]"
      ],
      "metadata": {
        "id": "GgNi_gr_6mz2"
      },
      "execution_count": 52,
      "outputs": []
    },
    {
      "cell_type": "code",
      "source": [
        "countries"
      ],
      "metadata": {
        "colab": {
          "base_uri": "https://localhost:8080/"
        },
        "id": "jJ_Xtu3R7vtf",
        "outputId": "70e0463c-15f0-49c7-bd80-71b08d0388a5"
      },
      "execution_count": 53,
      "outputs": [
        {
          "output_type": "execute_result",
          "data": {
            "text/plain": [
              "['India', 'China', 'Brazil']"
            ]
          },
          "metadata": {},
          "execution_count": 53
        }
      ]
    },
    {
      "cell_type": "markdown",
      "source": [
        "# **4.4 Ordenar una alista**"
      ],
      "metadata": {
        "id": "DQfgiZ8ICAkf"
      }
    },
    {
      "cell_type": "code",
      "source": [
        "numbers = [4,3, 10,7,1,2]"
      ],
      "metadata": {
        "id": "T8tKjPw8CHoz"
      },
      "execution_count": 54,
      "outputs": []
    },
    {
      "cell_type": "code",
      "source": [
        "numbers = [4,3, 10,7,1,2]\n",
        "numbers"
      ],
      "metadata": {
        "id": "CjnJU2hRCcar",
        "outputId": "82e21a2f-d8b1-4ca7-935d-0077f00dc24b",
        "colab": {
          "base_uri": "https://localhost:8080/"
        }
      },
      "execution_count": 55,
      "outputs": [
        {
          "output_type": "execute_result",
          "data": {
            "text/plain": [
              "[4, 3, 10, 7, 1, 2]"
            ]
          },
          "metadata": {},
          "execution_count": 55
        }
      ]
    },
    {
      "cell_type": "code",
      "source": [
        "numbers.sort()"
      ],
      "metadata": {
        "id": "O_YSMSx98AUx"
      },
      "execution_count": 56,
      "outputs": []
    },
    {
      "cell_type": "code",
      "source": [
        "numbers"
      ],
      "metadata": {
        "colab": {
          "base_uri": "https://localhost:8080/"
        },
        "id": "ls0kne3y8Dde",
        "outputId": "5f77e64a-d9ba-454b-a5fb-f329729d1968"
      },
      "execution_count": 57,
      "outputs": [
        {
          "output_type": "execute_result",
          "data": {
            "text/plain": [
              "[1, 2, 3, 4, 7, 10]"
            ]
          },
          "metadata": {},
          "execution_count": 57
        }
      ]
    },
    {
      "cell_type": "code",
      "source": [
        "numbers.sort(reverse=True)"
      ],
      "metadata": {
        "id": "LawijRc79SdW"
      },
      "execution_count": 58,
      "outputs": []
    },
    {
      "cell_type": "code",
      "source": [
        "numbers"
      ],
      "metadata": {
        "colab": {
          "base_uri": "https://localhost:8080/"
        },
        "id": "E2QNrnwl9aHr",
        "outputId": "ee3c5462-fd05-4abe-f183-3213849b5199"
      },
      "execution_count": 59,
      "outputs": [
        {
          "output_type": "execute_result",
          "data": {
            "text/plain": [
              "[10, 7, 4, 3, 2, 1]"
            ]
          },
          "metadata": {},
          "execution_count": 59
        }
      ]
    },
    {
      "cell_type": "code",
      "source": [
        "numbers[0]"
      ],
      "metadata": {
        "colab": {
          "base_uri": "https://localhost:8080/"
        },
        "id": "h8TH0uxr9go7",
        "outputId": "7761ae5f-59c7-4486-fd3e-8ad3fdd6dae3"
      },
      "execution_count": 60,
      "outputs": [
        {
          "output_type": "execute_result",
          "data": {
            "text/plain": [
              "10"
            ]
          },
          "metadata": {},
          "execution_count": 60
        }
      ]
    },
    {
      "cell_type": "markdown",
      "source": [
        "## 4.5 Copiar una lista"
      ],
      "metadata": {
        "id": "ISGJBzNB-NUr"
      }
    },
    {
      "cell_type": "code",
      "source": [
        "countries.append('Argentina')"
      ],
      "metadata": {
        "id": "anPVCVRg_KLg"
      },
      "execution_count": 61,
      "outputs": []
    },
    {
      "cell_type": "code",
      "source": [
        "countries"
      ],
      "metadata": {
        "colab": {
          "base_uri": "https://localhost:8080/"
        },
        "id": "3BsBGQlX_b53",
        "outputId": "c5771a82-3048-4df2-f58e-ff3704336c92"
      },
      "execution_count": 62,
      "outputs": [
        {
          "output_type": "execute_result",
          "data": {
            "text/plain": [
              "['India', 'China', 'Brazil', 'Argentina']"
            ]
          },
          "metadata": {},
          "execution_count": 62
        }
      ]
    },
    {
      "cell_type": "code",
      "source": [
        "nueva_lista_3 = countries"
      ],
      "metadata": {
        "id": "FZ_b3nlj_PzE"
      },
      "execution_count": 63,
      "outputs": []
    },
    {
      "cell_type": "code",
      "source": [
        "nueva_lista = countries.copy()"
      ],
      "metadata": {
        "id": "ERd3DWuw9nrr"
      },
      "execution_count": 64,
      "outputs": []
    },
    {
      "cell_type": "code",
      "source": [
        "nueva_lista"
      ],
      "metadata": {
        "colab": {
          "base_uri": "https://localhost:8080/"
        },
        "id": "hujBGDF8-aer",
        "outputId": "ee99a3e1-3658-49ab-bc88-b614208504dc"
      },
      "execution_count": 65,
      "outputs": [
        {
          "output_type": "execute_result",
          "data": {
            "text/plain": [
              "['India', 'China', 'Brazil', 'Argentina']"
            ]
          },
          "metadata": {},
          "execution_count": 65
        }
      ]
    },
    {
      "cell_type": "code",
      "source": [
        "#segunda forma de copiar\n",
        "countries[:]"
      ],
      "metadata": {
        "colab": {
          "base_uri": "https://localhost:8080/"
        },
        "id": "bK4L2Yd1-ku2",
        "outputId": "d31bd05f-7f9d-43e6-985e-a143cbf953a7"
      },
      "execution_count": 66,
      "outputs": [
        {
          "output_type": "execute_result",
          "data": {
            "text/plain": [
              "['India', 'China', 'Brazil', 'Argentina']"
            ]
          },
          "metadata": {},
          "execution_count": 66
        }
      ]
    },
    {
      "cell_type": "code",
      "source": [
        "nueva_lista_2 = countries[:]"
      ],
      "metadata": {
        "id": "mGIN0c84-u5A"
      },
      "execution_count": 67,
      "outputs": []
    },
    {
      "cell_type": "code",
      "source": [
        "nueva_lista_2"
      ],
      "metadata": {
        "colab": {
          "base_uri": "https://localhost:8080/"
        },
        "id": "F6Nv-94i-5UD",
        "outputId": "03549045-4c7f-41bb-8d0f-f401040aa938"
      },
      "execution_count": 68,
      "outputs": [
        {
          "output_type": "execute_result",
          "data": {
            "text/plain": [
              "['India', 'China', 'Brazil', 'Argentina']"
            ]
          },
          "metadata": {},
          "execution_count": 68
        }
      ]
    },
    {
      "cell_type": "code",
      "source": [
        "nueva_lista_3 = countries"
      ],
      "metadata": {
        "id": "opQNA4i6XWuz"
      },
      "execution_count": 69,
      "outputs": []
    },
    {
      "cell_type": "code",
      "source": [
        "countries"
      ],
      "metadata": {
        "colab": {
          "base_uri": "https://localhost:8080/"
        },
        "id": "z4KdAI61XWqM",
        "outputId": "99517eed-35c4-4f85-b920-0d182df9e419"
      },
      "execution_count": 70,
      "outputs": [
        {
          "output_type": "execute_result",
          "data": {
            "text/plain": [
              "['India', 'China', 'Brazil', 'Argentina']"
            ]
          },
          "metadata": {},
          "execution_count": 70
        }
      ]
    },
    {
      "cell_type": "code",
      "source": [
        "nueva_lista_3"
      ],
      "metadata": {
        "colab": {
          "base_uri": "https://localhost:8080/"
        },
        "id": "5Ld9ideJXWlj",
        "outputId": "4d0702f3-760d-4858-bb9c-2d1c9d318169"
      },
      "execution_count": 71,
      "outputs": [
        {
          "output_type": "execute_result",
          "data": {
            "text/plain": [
              "['India', 'China', 'Brazil', 'Argentina']"
            ]
          },
          "metadata": {},
          "execution_count": 71
        }
      ]
    },
    {
      "cell_type": "code",
      "source": [
        "nueva_lista = countries.copy()"
      ],
      "metadata": {
        "id": "_8hOxBcAXWhH"
      },
      "execution_count": 72,
      "outputs": []
    },
    {
      "cell_type": "code",
      "source": [
        "nueva_lista"
      ],
      "metadata": {
        "colab": {
          "base_uri": "https://localhost:8080/"
        },
        "id": "rRcleMrYXWcE",
        "outputId": "8a01c3d4-e277-45ea-ef77-cc9f1f1d7be1"
      },
      "execution_count": 73,
      "outputs": [
        {
          "output_type": "execute_result",
          "data": {
            "text/plain": [
              "['India', 'China', 'Brazil', 'Argentina']"
            ]
          },
          "metadata": {},
          "execution_count": 73
        }
      ]
    },
    {
      "cell_type": "code",
      "source": [
        "nueva_lista_2"
      ],
      "metadata": {
        "colab": {
          "base_uri": "https://localhost:8080/"
        },
        "id": "vyQcsYmxa_wm",
        "outputId": "718aa4af-e6f9-4a8d-850c-fa2534cd2a95"
      },
      "execution_count": 74,
      "outputs": [
        {
          "output_type": "execute_result",
          "data": {
            "text/plain": [
              "['India', 'China', 'Brazil', 'Argentina']"
            ]
          },
          "metadata": {},
          "execution_count": 74
        }
      ]
    },
    {
      "cell_type": "markdown",
      "source": [
        "# **5. Diccionario**\n",
        "\n",
        "Mutables"
      ],
      "metadata": {
        "id": "1eogvMNaa5h9"
      }
    },
    {
      "cell_type": "code",
      "source": [
        "mi_dictionary = {'key':'value1', 'key2':'value2'}"
      ],
      "metadata": {
        "id": "oCRPpfASXWWg"
      },
      "execution_count": 75,
      "outputs": []
    },
    {
      "cell_type": "code",
      "source": [
        "my_data = {'nombre':'Gladys', 'edad':26}"
      ],
      "metadata": {
        "id": "3BJn6vG3auKP"
      },
      "execution_count": 76,
      "outputs": []
    },
    {
      "cell_type": "code",
      "source": [
        "my_data"
      ],
      "metadata": {
        "colab": {
          "base_uri": "https://localhost:8080/"
        },
        "id": "UpBmcaoIauFy",
        "outputId": "c5b71935-8874-4ed3-b779-d49a03c9a194"
      },
      "execution_count": 77,
      "outputs": [
        {
          "output_type": "execute_result",
          "data": {
            "text/plain": [
              "{'nombre': 'Gladys', 'edad': 26}"
            ]
          },
          "metadata": {},
          "execution_count": 77
        }
      ]
    },
    {
      "cell_type": "code",
      "source": [
        "my_data['nombre']"
      ],
      "metadata": {
        "colab": {
          "base_uri": "https://localhost:8080/",
          "height": 35
        },
        "id": "xUSYNBAzatyP",
        "outputId": "2be338ea-2809-4a3a-a62b-96ed0c1046f0"
      },
      "execution_count": 78,
      "outputs": [
        {
          "output_type": "execute_result",
          "data": {
            "text/plain": [
              "'Gladys'"
            ],
            "application/vnd.google.colaboratory.intrinsic+json": {
              "type": "string"
            }
          },
          "metadata": {},
          "execution_count": 78
        }
      ]
    },
    {
      "cell_type": "code",
      "source": [
        "my_data.keys() # devolver toos los llaves que tiene el diccionaario"
      ],
      "metadata": {
        "colab": {
          "base_uri": "https://localhost:8080/"
        },
        "id": "jaR3StEjcFwS",
        "outputId": "e7867cfd-47dc-4d77-ab34-13b9f15c3f0d"
      },
      "execution_count": 79,
      "outputs": [
        {
          "output_type": "execute_result",
          "data": {
            "text/plain": [
              "dict_keys(['nombre', 'edad'])"
            ]
          },
          "metadata": {},
          "execution_count": 79
        }
      ]
    },
    {
      "cell_type": "code",
      "source": [
        "my_data.values() # devuelve los valores el diccionario"
      ],
      "metadata": {
        "colab": {
          "base_uri": "https://localhost:8080/"
        },
        "id": "j_slTh4ob_6z",
        "outputId": "480dcb50-8b2a-485e-f3f4-e25be7a4988d"
      },
      "execution_count": 80,
      "outputs": [
        {
          "output_type": "execute_result",
          "data": {
            "text/plain": [
              "dict_values(['Gladys', 26])"
            ]
          },
          "metadata": {},
          "execution_count": 80
        }
      ]
    },
    {
      "cell_type": "code",
      "source": [
        "my_data.items() # devolver el item, par llave y valor"
      ],
      "metadata": {
        "colab": {
          "base_uri": "https://localhost:8080/"
        },
        "id": "3p5vPUpmb_1D",
        "outputId": "5f020187-e28a-4d6c-83a0-9cc92e326d03"
      },
      "execution_count": 81,
      "outputs": [
        {
          "output_type": "execute_result",
          "data": {
            "text/plain": [
              "dict_items([('nombre', 'Gladys'), ('edad', 26)])"
            ]
          },
          "metadata": {},
          "execution_count": 81
        }
      ]
    },
    {
      "cell_type": "code",
      "source": [
        "my_data={'nombre':'Gladys', 'edad':26}"
      ],
      "metadata": {
        "id": "dolG91TedTZW"
      },
      "execution_count": 82,
      "outputs": []
    },
    {
      "cell_type": "code",
      "source": [
        "my_data['estatura'] = 1.7  # agregar elemento al diccionario"
      ],
      "metadata": {
        "id": "sGlKXAmCdTTl"
      },
      "execution_count": 83,
      "outputs": []
    },
    {
      "cell_type": "code",
      "source": [
        "my_data"
      ],
      "metadata": {
        "colab": {
          "base_uri": "https://localhost:8080/"
        },
        "id": "fXW3R9TUdTOE",
        "outputId": "6d4ef185-de5f-4ebd-b21d-fc666b62bad0"
      },
      "execution_count": 84,
      "outputs": [
        {
          "output_type": "execute_result",
          "data": {
            "text/plain": [
              "{'nombre': 'Gladys', 'edad': 26, 'estatura': 1.7}"
            ]
          },
          "metadata": {},
          "execution_count": 84
        }
      ]
    },
    {
      "cell_type": "code",
      "source": [
        "my_data.update({'estatura':1.8, 'lenguajes':['Ingles', 'Español']})"
      ],
      "metadata": {
        "id": "P786XNmpats6"
      },
      "execution_count": 85,
      "outputs": []
    },
    {
      "cell_type": "code",
      "source": [
        "my_data"
      ],
      "metadata": {
        "colab": {
          "base_uri": "https://localhost:8080/"
        },
        "id": "V3ozEd51eyRc",
        "outputId": "b0b53e68-f6ef-4d96-a3c1-f1b65423385c"
      },
      "execution_count": 86,
      "outputs": [
        {
          "output_type": "execute_result",
          "data": {
            "text/plain": [
              "{'nombre': 'Gladys',\n",
              " 'edad': 26,\n",
              " 'estatura': 1.8,\n",
              " 'lenguajes': ['Ingles', 'Español']}"
            ]
          },
          "metadata": {},
          "execution_count": 86
        }
      ]
    },
    {
      "cell_type": "markdown",
      "source": [
        "# **5.1 Agregar/actualizar elementos**"
      ],
      "metadata": {
        "id": "3KiLuWVUnvjd"
      }
    },
    {
      "cell_type": "code",
      "source": [
        "my_data = {'nombre':'Frank', 'edad':26}"
      ],
      "metadata": {
        "id": "7T0Q-DoDiOgC"
      },
      "execution_count": 87,
      "outputs": []
    },
    {
      "cell_type": "code",
      "source": [
        "my_data['estatura'] = 1.7"
      ],
      "metadata": {
        "id": "o2VruJFliOZ7"
      },
      "execution_count": 88,
      "outputs": []
    },
    {
      "cell_type": "code",
      "source": [
        "my_data"
      ],
      "metadata": {
        "colab": {
          "base_uri": "https://localhost:8080/"
        },
        "id": "9YoHhw_ziMKF",
        "outputId": "fe0f60af-644d-447c-b627-8d893e3dfcef"
      },
      "execution_count": 89,
      "outputs": [
        {
          "output_type": "execute_result",
          "data": {
            "text/plain": [
              "{'nombre': 'Frank', 'edad': 26, 'estatura': 1.7}"
            ]
          },
          "metadata": {},
          "execution_count": 89
        }
      ]
    },
    {
      "cell_type": "code",
      "source": [
        "my_data.update({'estatura':1.8, 'lenguages':['Ingles', 'Español']})"
      ],
      "metadata": {
        "id": "W8xzlvtGiMCK"
      },
      "execution_count": 90,
      "outputs": []
    },
    {
      "cell_type": "code",
      "source": [
        "my_data"
      ],
      "metadata": {
        "colab": {
          "base_uri": "https://localhost:8080/"
        },
        "id": "_wvDZAUwiL85",
        "outputId": "0c5b417d-d6d5-494c-95c3-117cff2e1d33"
      },
      "execution_count": 91,
      "outputs": [
        {
          "output_type": "execute_result",
          "data": {
            "text/plain": [
              "{'nombre': 'Frank',\n",
              " 'edad': 26,\n",
              " 'estatura': 1.8,\n",
              " 'lenguages': ['Ingles', 'Español']}"
            ]
          },
          "metadata": {},
          "execution_count": 91
        }
      ]
    },
    {
      "cell_type": "markdown",
      "source": [
        "# **5.2 Copiar un diccionario**"
      ],
      "metadata": {
        "id": "W5huNWA0o3Jv"
      }
    },
    {
      "cell_type": "code",
      "source": [
        "nuevo_diccionario = my_data.copy()"
      ],
      "metadata": {
        "id": "Z7akNqGfiL4e"
      },
      "execution_count": 137,
      "outputs": []
    },
    {
      "cell_type": "code",
      "source": [
        "nuevo_diccionario"
      ],
      "metadata": {
        "colab": {
          "base_uri": "https://localhost:8080/"
        },
        "id": "8paCezLOiLy2",
        "outputId": "15377d98-f289-41e1-ea3a-53fabbfd9630"
      },
      "execution_count": 136,
      "outputs": [
        {
          "output_type": "execute_result",
          "data": {
            "text/plain": [
              "{'nombre': 'Frank', 'edad': 26}"
            ]
          },
          "metadata": {},
          "execution_count": 136
        }
      ]
    },
    {
      "cell_type": "markdown",
      "source": [
        "# **5.3 Eliminar elementos**"
      ],
      "metadata": {
        "id": "lfycwdTNqOyT"
      }
    },
    {
      "cell_type": "code",
      "source": [
        "my_data"
      ],
      "metadata": {
        "colab": {
          "base_uri": "https://localhost:8080/"
        },
        "id": "oJve1RGUiLs5",
        "outputId": "e22427c1-6c76-46e5-931b-7b021b9d0a4c"
      },
      "execution_count": 133,
      "outputs": [
        {
          "output_type": "execute_result",
          "data": {
            "text/plain": [
              "{'nombre': 'Frank', 'edad': 26}"
            ]
          },
          "metadata": {},
          "execution_count": 133
        }
      ]
    },
    {
      "cell_type": "code",
      "source": [
        "my_data.pop('estatura')"
      ],
      "metadata": {
        "id": "erg5_SmrptIU"
      },
      "execution_count": null,
      "outputs": []
    },
    {
      "cell_type": "code",
      "source": [
        "my_data"
      ],
      "metadata": {
        "colab": {
          "base_uri": "https://localhost:8080/"
        },
        "id": "1uk93gAQquaD",
        "outputId": "4a088daf-95b1-4226-e62e-49ff6b7594d3"
      },
      "execution_count": 131,
      "outputs": [
        {
          "output_type": "execute_result",
          "data": {
            "text/plain": [
              "{'nombre': 'Frank', 'edad': 26}"
            ]
          },
          "metadata": {},
          "execution_count": 131
        }
      ]
    },
    {
      "cell_type": "code",
      "source": [
        "#como eliminar un iten en el diccionario\n",
        "del my_data['lenguages']"
      ],
      "metadata": {
        "id": "1UTrJGV3quVd"
      },
      "execution_count": null,
      "outputs": []
    },
    {
      "cell_type": "code",
      "source": [
        "my_data"
      ],
      "metadata": {
        "colab": {
          "base_uri": "https://localhost:8080/"
        },
        "id": "MMDzx8AgquRT",
        "outputId": "7a0b126c-1289-4e8c-93ac-05dcc66035cc"
      },
      "execution_count": 129,
      "outputs": [
        {
          "output_type": "execute_result",
          "data": {
            "text/plain": [
              "{'nombre': 'Frank', 'edad': 26}"
            ]
          },
          "metadata": {},
          "execution_count": 129
        }
      ]
    },
    {
      "cell_type": "code",
      "source": [
        "my_data.clear() #clear eleimina todos los itemn del diccionario"
      ],
      "metadata": {
        "id": "aFRNcgPYpsxK"
      },
      "execution_count": 100,
      "outputs": []
    },
    {
      "cell_type": "code",
      "source": [
        "my_data"
      ],
      "metadata": {
        "colab": {
          "base_uri": "https://localhost:8080/"
        },
        "id": "oDHJG0Weo0y6",
        "outputId": "a1ed8c19-0f51-4c8b-c1c7-17f0fc7d774e"
      },
      "execution_count": 101,
      "outputs": [
        {
          "output_type": "execute_result",
          "data": {
            "text/plain": [
              "{}"
            ]
          },
          "metadata": {},
          "execution_count": 101
        }
      ]
    },
    {
      "cell_type": "markdown",
      "source": [
        "# **Condicionales**\n"
      ],
      "metadata": {
        "id": "M-RPQp9brzTg"
      }
    },
    {
      "cell_type": "markdown",
      "source": [
        "# **6 If**"
      ],
      "metadata": {
        "id": "KC30ljODsFRt"
      }
    },
    {
      "cell_type": "code",
      "source": [
        "\"\"\"if <condition>:\n",
        "  <code>\n",
        "elif <condition>:\n",
        "  <code>\n",
        "...\n",
        "else:\n",
        "  <code>\"\"\"\n"
      ],
      "metadata": {
        "id": "cengeU--rNBS",
        "colab": {
          "base_uri": "https://localhost:8080/",
          "height": 35
        },
        "outputId": "9a32e58b-ffbe-44ec-fdb4-cb8692b00159"
      },
      "execution_count": null,
      "outputs": [
        {
          "output_type": "execute_result",
          "data": {
            "text/plain": [
              "'if <condition>:\\n  <code>\\nelif <condition>:\\n  <code>\\n...\\nelse:\\n  <code>'"
            ],
            "application/vnd.google.colaboratory.intrinsic+json": {
              "type": "string"
            }
          },
          "metadata": {},
          "execution_count": 104
        }
      ]
    },
    {
      "cell_type": "code",
      "source": [
        "#ejemplo extra\n",
        "rows=int(input(\"Enter number of rows:\"))\n",
        "k = 0\n",
        "for i in range(1, rows+1):\n",
        "  for space in range(1, (rows-i)+1):\n",
        "    print(end=\" \")\n",
        "  while k!=(2*i-1):\n",
        "    print(\"*\", end=\"\")\n",
        "    k+=1\n",
        "  k=0\n",
        "  print()"
      ],
      "metadata": {
        "colab": {
          "base_uri": "https://localhost:8080/"
        },
        "id": "t9xZtMhGrM9O",
        "outputId": "2cd71207-fc15-4915-f5e1-74f9a172dbe7"
      },
      "execution_count": 102,
      "outputs": [
        {
          "output_type": "stream",
          "name": "stdout",
          "text": [
            "Enter number of rows:6\n",
            "     *\n",
            "    ***\n",
            "   *****\n",
            "  *******\n",
            " *********\n",
            "***********\n"
          ]
        }
      ]
    },
    {
      "cell_type": "code",
      "source": [
        "edad = 24\n",
        "if  edad>=18:\n",
        "  print('Eres mayor de edad')\n",
        "elif edad>=13:\n",
        "  print('Eres un adolescente')\n",
        "else:\n",
        "  print('Eres un niño')"
      ],
      "metadata": {
        "colab": {
          "base_uri": "https://localhost:8080/"
        },
        "id": "az0tUXT7rMjf",
        "outputId": "8d0678b1-0efd-4e54-9e35-368b13570ab8"
      },
      "execution_count": 103,
      "outputs": [
        {
          "output_type": "stream",
          "name": "stdout",
          "text": [
            "Eres mayor de edad\n"
          ]
        }
      ]
    },
    {
      "cell_type": "code",
      "source": [
        "countries"
      ],
      "metadata": {
        "colab": {
          "base_uri": "https://localhost:8080/"
        },
        "id": "q6YcXagtrMe_",
        "outputId": "f00e991f-db6a-42df-9022-45446452d597"
      },
      "execution_count": 104,
      "outputs": [
        {
          "output_type": "execute_result",
          "data": {
            "text/plain": [
              "['India', 'China', 'Brazil', 'Argentina']"
            ]
          },
          "metadata": {},
          "execution_count": 104
        }
      ]
    },
    {
      "cell_type": "code",
      "source": [
        "countries=['United States', 'India', 'China', 'Brazil']"
      ],
      "metadata": {
        "id": "e9JxBCDIsKbW"
      },
      "execution_count": 106,
      "outputs": []
    },
    {
      "cell_type": "code",
      "source": [
        "if \"China\" in countries:\n",
        "  print(\"Pais esta en la lista\")\n",
        "else:\n",
        "  print(\"Pais NO esta en la lista\")"
      ],
      "metadata": {
        "colab": {
          "base_uri": "https://localhost:8080/"
        },
        "id": "skoFkMGjsKW_",
        "outputId": "ef9f7a87-c877-4e0f-bd8a-ceb58969e595"
      },
      "execution_count": 105,
      "outputs": [
        {
          "output_type": "stream",
          "name": "stdout",
          "text": [
            "Pais esta en la lista\n"
          ]
        }
      ]
    },
    {
      "cell_type": "code",
      "source": [
        "if \"Colombia\" in countries:\n",
        "  print(\"Pais esta en la lista\")\n",
        "else:\n",
        "  print(\"Pais NO esta en la lista\")"
      ],
      "metadata": {
        "colab": {
          "base_uri": "https://localhost:8080/"
        },
        "id": "dZBlxomAsKST",
        "outputId": "8d1ae1c1-484a-4eb7-927d-f556b0061627"
      },
      "execution_count": 107,
      "outputs": [
        {
          "output_type": "stream",
          "name": "stdout",
          "text": [
            "Pais NO esta en la lista\n"
          ]
        }
      ]
    },
    {
      "cell_type": "markdown",
      "source": [
        "# **7 For loop(bucle for)**"
      ],
      "metadata": {
        "id": "SSgWle6jzStW"
      }
    },
    {
      "cell_type": "code",
      "source": [
        "\"\"\"for <variable> in <list>:\n",
        "  <code>\n",
        "\"\"\"\n"
      ],
      "metadata": {
        "id": "TugFQJmmwjMg"
      },
      "execution_count": null,
      "outputs": []
    },
    {
      "cell_type": "code",
      "source": [
        "for pais in countries:\n",
        "  print(pais)"
      ],
      "metadata": {
        "colab": {
          "base_uri": "https://localhost:8080/"
        },
        "id": "ALLGQkSczw-h",
        "outputId": "08a7e36a-0ad4-48ee-fed8-f3f0cc8a2f39"
      },
      "execution_count": 108,
      "outputs": [
        {
          "output_type": "stream",
          "name": "stdout",
          "text": [
            "United States\n",
            "India\n",
            "China\n",
            "Brazil\n"
          ]
        }
      ]
    },
    {
      "cell_type": "code",
      "source": [
        "for pais in countries:\n",
        "  if pais == \"United States\":\n",
        "    print(pais)\n"
      ],
      "metadata": {
        "colab": {
          "base_uri": "https://localhost:8080/"
        },
        "id": "Hbu_6M-_zw5c",
        "outputId": "995db2eb-fafa-4242-dae6-b830fac7a9f4"
      },
      "execution_count": 109,
      "outputs": [
        {
          "output_type": "stream",
          "name": "stdout",
          "text": [
            "United States\n"
          ]
        }
      ]
    },
    {
      "cell_type": "code",
      "source": [
        "for numero, pais in enumerate(countries):\n",
        "  print(numero)\n",
        "  print(pais)"
      ],
      "metadata": {
        "colab": {
          "base_uri": "https://localhost:8080/"
        },
        "id": "ClGm-e-lzw0k",
        "outputId": "23832b36-0839-4846-bcfa-b0b03e8e2515"
      },
      "execution_count": 110,
      "outputs": [
        {
          "output_type": "stream",
          "name": "stdout",
          "text": [
            "0\n",
            "United States\n",
            "1\n",
            "India\n",
            "2\n",
            "China\n",
            "3\n",
            "Brazil\n"
          ]
        }
      ]
    },
    {
      "cell_type": "code",
      "source": [
        "my_data = {'nombre':'Frank', 'edad':26}"
      ],
      "metadata": {
        "id": "4GuDaMUyzwhT"
      },
      "execution_count": 111,
      "outputs": []
    },
    {
      "cell_type": "code",
      "source": [
        "my_data"
      ],
      "metadata": {
        "colab": {
          "base_uri": "https://localhost:8080/"
        },
        "id": "s4PGzz4Z2B4J",
        "outputId": "8d116df0-e115-4cf0-ad48-ed138c1ebedc"
      },
      "execution_count": 112,
      "outputs": [
        {
          "output_type": "execute_result",
          "data": {
            "text/plain": [
              "{'nombre': 'Frank', 'edad': 26}"
            ]
          },
          "metadata": {},
          "execution_count": 112
        }
      ]
    },
    {
      "cell_type": "code",
      "source": [
        "my_data.items()"
      ],
      "metadata": {
        "colab": {
          "base_uri": "https://localhost:8080/"
        },
        "id": "mZprXgPe3NRA",
        "outputId": "839dd191-935f-49c2-a2e4-23f22e1beaed"
      },
      "execution_count": 113,
      "outputs": [
        {
          "output_type": "execute_result",
          "data": {
            "text/plain": [
              "dict_items([('nombre', 'Frank'), ('edad', 26)])"
            ]
          },
          "metadata": {},
          "execution_count": 113
        }
      ]
    },
    {
      "cell_type": "code",
      "source": [
        "for key, value in my_data.items():\n",
        "  print(key)\n",
        "  print(value)"
      ],
      "metadata": {
        "colab": {
          "base_uri": "https://localhost:8080/"
        },
        "id": "vWgLn_6U1_q-",
        "outputId": "fc8ef977-24f9-4d9c-d9ba-cf0df6fbd053"
      },
      "execution_count": 114,
      "outputs": [
        {
          "output_type": "stream",
          "name": "stdout",
          "text": [
            "nombre\n",
            "Frank\n",
            "edad\n",
            "26\n"
          ]
        }
      ]
    },
    {
      "cell_type": "markdown",
      "source": [
        "# **8 Funciones**"
      ],
      "metadata": {
        "id": "XxxJ5SPc3sY3"
      }
    },
    {
      "cell_type": "markdown",
      "source": [
        "# **8.1 Funciones pre-fabricadas**"
      ],
      "metadata": {
        "id": "ipZsktWe30KQ"
      }
    },
    {
      "cell_type": "code",
      "source": [
        "countries"
      ],
      "metadata": {
        "colab": {
          "base_uri": "https://localhost:8080/"
        },
        "id": "L1kLXQvE3yYq",
        "outputId": "3e90babf-5e9e-4a00-95f4-9dcce49aa66a"
      },
      "execution_count": 116,
      "outputs": [
        {
          "output_type": "execute_result",
          "data": {
            "text/plain": [
              "['United States', 'India', 'China', 'Brazil']"
            ]
          },
          "metadata": {},
          "execution_count": 116
        }
      ]
    },
    {
      "cell_type": "code",
      "source": [
        "len(countries)"
      ],
      "metadata": {
        "colab": {
          "base_uri": "https://localhost:8080/"
        },
        "id": "o0LyvpUn4G0A",
        "outputId": "bd64de2d-5257-4f72-d113-a639f1f4fce4"
      },
      "execution_count": 117,
      "outputs": [
        {
          "output_type": "execute_result",
          "data": {
            "text/plain": [
              "4"
            ]
          },
          "metadata": {},
          "execution_count": 117
        }
      ]
    },
    {
      "cell_type": "code",
      "source": [
        "max([16, 83, 32, 1, 10])"
      ],
      "metadata": {
        "colab": {
          "base_uri": "https://localhost:8080/"
        },
        "id": "OxVusaDp4K86",
        "outputId": "9a8d868a-d300-4ebc-db99-8c0d1657784e"
      },
      "execution_count": 118,
      "outputs": [
        {
          "output_type": "execute_result",
          "data": {
            "text/plain": [
              "83"
            ]
          },
          "metadata": {},
          "execution_count": 118
        }
      ]
    },
    {
      "cell_type": "code",
      "source": [
        "min([16, 83, 32, 1, 10])"
      ],
      "metadata": {
        "colab": {
          "base_uri": "https://localhost:8080/"
        },
        "id": "6x86d-pN4ZOj",
        "outputId": "705850ef-0340-405e-a179-03b26b926a3f"
      },
      "execution_count": 119,
      "outputs": [
        {
          "output_type": "execute_result",
          "data": {
            "text/plain": [
              "1"
            ]
          },
          "metadata": {},
          "execution_count": 119
        }
      ]
    },
    {
      "cell_type": "code",
      "source": [
        "type(countries)"
      ],
      "metadata": {
        "colab": {
          "base_uri": "https://localhost:8080/"
        },
        "id": "EWKrUjm54yzp",
        "outputId": "9b13eccd-d3fb-4ba1-d024-fd0abd335f76"
      },
      "execution_count": 115,
      "outputs": [
        {
          "output_type": "execute_result",
          "data": {
            "text/plain": [
              "list"
            ]
          },
          "metadata": {},
          "execution_count": 115
        }
      ]
    },
    {
      "cell_type": "code",
      "source": [
        "type(my_data)"
      ],
      "metadata": {
        "colab": {
          "base_uri": "https://localhost:8080/"
        },
        "id": "aXnl2gVd4rWW",
        "outputId": "00a80b37-cdd5-4f68-e5d4-79c8413bb4da"
      },
      "execution_count": 120,
      "outputs": [
        {
          "output_type": "execute_result",
          "data": {
            "text/plain": [
              "dict"
            ]
          },
          "metadata": {},
          "execution_count": 120
        }
      ]
    },
    {
      "cell_type": "code",
      "source": [
        "type(my_data)"
      ],
      "metadata": {
        "colab": {
          "base_uri": "https://localhost:8080/"
        },
        "id": "qYu9nU-R0qjP",
        "outputId": "05df7454-f299-4d25-b265-87913bf7bb16"
      },
      "execution_count": 121,
      "outputs": [
        {
          "output_type": "execute_result",
          "data": {
            "text/plain": [
              "dict"
            ]
          },
          "metadata": {},
          "execution_count": 121
        }
      ]
    },
    {
      "cell_type": "code",
      "source": [
        "my_data"
      ],
      "metadata": {
        "colab": {
          "base_uri": "https://localhost:8080/"
        },
        "id": "NZBR6avzz93y",
        "outputId": "e6cb0d70-6eca-492b-96ff-7694a4f8641f"
      },
      "execution_count": 122,
      "outputs": [
        {
          "output_type": "execute_result",
          "data": {
            "text/plain": [
              "{'nombre': 'Frank', 'edad': 26}"
            ]
          },
          "metadata": {},
          "execution_count": 122
        }
      ]
    },
    {
      "cell_type": "code",
      "source": [
        "round(2.333, 2) #el resutado con dos decimal, la funcion round redondea los decimales"
      ],
      "metadata": {
        "colab": {
          "base_uri": "https://localhost:8080/"
        },
        "id": "94VtHXfx0hXt",
        "outputId": "0329cec8-cd84-4473-8524-f2903992aa65"
      },
      "execution_count": 123,
      "outputs": [
        {
          "output_type": "execute_result",
          "data": {
            "text/plain": [
              "2.33"
            ]
          },
          "metadata": {},
          "execution_count": 123
        }
      ]
    },
    {
      "cell_type": "code",
      "source": [
        "range(1, 10, 2)"
      ],
      "metadata": {
        "colab": {
          "base_uri": "https://localhost:8080/"
        },
        "id": "2fTjT0zd31-g",
        "outputId": "6410eebd-44a3-46ca-ad9b-b0ce7599cbb0"
      },
      "execution_count": 124,
      "outputs": [
        {
          "output_type": "execute_result",
          "data": {
            "text/plain": [
              "range(1, 10, 2)"
            ]
          },
          "metadata": {},
          "execution_count": 124
        }
      ]
    },
    {
      "cell_type": "code",
      "source": [
        "for i in range(1, 10, 2): # se impreso  el incrementa 2 en 2, la secuencia\n",
        "  print(i)"
      ],
      "metadata": {
        "colab": {
          "base_uri": "https://localhost:8080/"
        },
        "id": "3j2LWzph0cdl",
        "outputId": "bb152ac5-1997-4ae1-84f9-f54dcf9b6a89"
      },
      "execution_count": 125,
      "outputs": [
        {
          "output_type": "stream",
          "name": "stdout",
          "text": [
            "1\n",
            "3\n",
            "5\n",
            "7\n",
            "9\n"
          ]
        }
      ]
    },
    {
      "cell_type": "markdown",
      "source": [
        "# **8.2 Crear tu Funcion**"
      ],
      "metadata": {
        "id": "-OD_Bx7M4Onb"
      }
    },
    {
      "cell_type": "code",
      "source": [
        "def function(<params>):\n",
        "  <code>\n",
        "  return <data>"
      ],
      "metadata": {
        "id": "7UcnKCSl0cXP"
      },
      "execution_count": null,
      "outputs": []
    },
    {
      "cell_type": "code",
      "source": [
        "def sumar_numeros(a, b):\n",
        "  suma_final = a+b\n",
        "  return suma_final"
      ],
      "metadata": {
        "id": "bW9RAm-U0cDh"
      },
      "execution_count": 126,
      "outputs": []
    },
    {
      "cell_type": "code",
      "source": [
        "sumar_numeros(1,5)"
      ],
      "metadata": {
        "colab": {
          "base_uri": "https://localhost:8080/"
        },
        "id": "k9pKn_vM0b9G",
        "outputId": "ac1e16a3-92b6-458e-d3ef-3e8c348e9dc0"
      },
      "execution_count": null,
      "outputs": [
        {
          "output_type": "execute_result",
          "data": {
            "text/plain": [
              "6"
            ]
          },
          "metadata": {},
          "execution_count": 131
        }
      ]
    },
    {
      "cell_type": "markdown",
      "source": [
        "# **9  Modulos**"
      ],
      "metadata": {
        "id": "3bLqxG6s5si8"
      }
    },
    {
      "cell_type": "code",
      "source": [
        "import"
      ],
      "metadata": {
        "id": "oLSqAtlN0b1o"
      },
      "execution_count": null,
      "outputs": []
    },
    {
      "cell_type": "markdown",
      "source": [
        "# **9.1 Modulos OS**"
      ],
      "metadata": {
        "id": "Zx7-mJeT50lW"
      }
    },
    {
      "cell_type": "code",
      "source": [
        "import os\n"
      ],
      "metadata": {
        "id": "UpKE5kTY0bw1"
      },
      "execution_count": 138,
      "outputs": []
    },
    {
      "cell_type": "code",
      "source": [
        "os.getcwd()"
      ],
      "metadata": {
        "id": "WBj100O70bpH",
        "colab": {
          "base_uri": "https://localhost:8080/",
          "height": 35
        },
        "outputId": "80cacc93-d4f7-4cfc-ab9d-3e2317410418"
      },
      "execution_count": 139,
      "outputs": [
        {
          "output_type": "execute_result",
          "data": {
            "text/plain": [
              "'/content'"
            ],
            "application/vnd.google.colaboratory.intrinsic+json": {
              "type": "string"
            }
          },
          "metadata": {},
          "execution_count": 139
        }
      ]
    },
    {
      "cell_type": "code",
      "source": [
        "'/Users/frankandrade/Udemy'"
      ],
      "metadata": {
        "id": "Mpbn0eeF0bif",
        "colab": {
          "base_uri": "https://localhost:8080/",
          "height": 35
        },
        "outputId": "1ef7f656-9e72-420f-e310-fdaab5175b73"
      },
      "execution_count": 140,
      "outputs": [
        {
          "output_type": "execute_result",
          "data": {
            "text/plain": [
              "'/Users/frankandrade/Udemy'"
            ],
            "application/vnd.google.colaboratory.intrinsic+json": {
              "type": "string"
            }
          },
          "metadata": {},
          "execution_count": 140
        }
      ]
    },
    {
      "cell_type": "code",
      "source": [
        "os.listdir()"
      ],
      "metadata": {
        "id": "mSdksUHp0bcw",
        "colab": {
          "base_uri": "https://localhost:8080/"
        },
        "outputId": "ad0a2bb0-e113-491a-cfcc-4c5f6ae138c8"
      },
      "execution_count": 141,
      "outputs": [
        {
          "output_type": "execute_result",
          "data": {
            "text/plain": [
              "['.config', 'sample_data']"
            ]
          },
          "metadata": {},
          "execution_count": 141
        }
      ]
    },
    {
      "cell_type": "code",
      "source": [
        "os.makedirs(\"Nueva Carpeta\")"
      ],
      "metadata": {
        "id": "jGJL5meZ0bWV"
      },
      "execution_count": 144,
      "outputs": []
    },
    {
      "cell_type": "code",
      "source": [
        "os.listdir()"
      ],
      "metadata": {
        "colab": {
          "base_uri": "https://localhost:8080/"
        },
        "id": "Xg7GwOpDM14I",
        "outputId": "ff765ff8-3b30-46da-9da1-5747411a4198"
      },
      "execution_count": 145,
      "outputs": [
        {
          "output_type": "execute_result",
          "data": {
            "text/plain": [
              "['.config', 'Nueva Carpeta', 'sample_data']"
            ]
          },
          "metadata": {},
          "execution_count": 145
        }
      ]
    },
    {
      "cell_type": "markdown",
      "source": [
        "# **¿QUE ES PANDAS?**\n",
        "Python Pandas vs Excel\n",
        "\n",
        "* Tamaño\n",
        "* Transformacion de data compleja\n",
        "* Automatizacion\n",
        "* Compatibilidad en diferentes plataformas"
      ],
      "metadata": {
        "id": "LkqklOtiPJAL"
      }
    },
    {
      "cell_type": "code",
      "source": [],
      "metadata": {
        "id": "YwqkrrVBM1x9"
      },
      "execution_count": null,
      "outputs": []
    },
    {
      "cell_type": "code",
      "source": [],
      "metadata": {
        "id": "MNeywIlCM1rU"
      },
      "execution_count": null,
      "outputs": []
    },
    {
      "cell_type": "code",
      "source": [],
      "metadata": {
        "id": "SawmazvEOnvZ"
      },
      "execution_count": null,
      "outputs": []
    },
    {
      "cell_type": "code",
      "source": [],
      "metadata": {
        "id": "TM4C5jfLOnif"
      },
      "execution_count": null,
      "outputs": []
    },
    {
      "cell_type": "code",
      "source": [],
      "metadata": {
        "id": "FsxEyTLCOnN9"
      },
      "execution_count": null,
      "outputs": []
    }
  ]
}