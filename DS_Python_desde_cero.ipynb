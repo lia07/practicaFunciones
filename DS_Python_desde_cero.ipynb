{
  "nbformat": 4,
  "nbformat_minor": 0,
  "metadata": {
    "colab": {
      "provenance": [],
      "authorship_tag": "ABX9TyM+5D0rqEDpzMgrB4auTrwf",
      "include_colab_link": true
    },
    "kernelspec": {
      "name": "python3",
      "display_name": "Python 3"
    },
    "language_info": {
      "name": "python"
    }
  },
  "cells": [
    {
      "cell_type": "markdown",
      "metadata": {
        "id": "view-in-github",
        "colab_type": "text"
      },
      "source": [
        "<a href=\"https://colab.research.google.com/github/lia07/practicaFunciones/blob/master/DS_Python_desde_cero.ipynb\" target=\"_parent\"><img src=\"https://colab.research.google.com/assets/colab-badge.svg\" alt=\"Open In Colab\"/></a>"
      ]
    },
    {
      "cell_type": "markdown",
      "source": [],
      "metadata": {
        "id": "D-atUO39s9dd"
      }
    },
    {
      "cell_type": "markdown",
      "source": [
        "# **1. Hello World**"
      ],
      "metadata": {
        "id": "Oc-D879Zs9p6"
      }
    },
    {
      "cell_type": "code",
      "source": [
        "#printing my first code\n",
        "print(\"Hello World!\")"
      ],
      "metadata": {
        "colab": {
          "base_uri": "https://localhost:8080/"
        },
        "id": "IGfDzGh_tBg-",
        "outputId": "6dddd881-fad6-4b23-bc73-d2f760d6a290"
      },
      "execution_count": 1,
      "outputs": [
        {
          "output_type": "stream",
          "name": "stdout",
          "text": [
            "Hello World!\n"
          ]
        }
      ]
    },
    {
      "cell_type": "code",
      "source": [
        "#printing my name\n",
        "print(\"Gladys\")"
      ],
      "metadata": {
        "colab": {
          "base_uri": "https://localhost:8080/"
        },
        "id": "-ZtCRp-GtWYW",
        "outputId": "239178ad-790a-4e5d-b1e3-97a9fde5d669"
      },
      "execution_count": 2,
      "outputs": [
        {
          "output_type": "stream",
          "name": "stdout",
          "text": [
            "Gladys\n"
          ]
        }
      ]
    },
    {
      "cell_type": "code",
      "source": [
        "type(1)"
      ],
      "metadata": {
        "colab": {
          "base_uri": "https://localhost:8080/"
        },
        "id": "qOyct9KNuu3E",
        "outputId": "5eaa8574-108e-410e-85ee-182537a977ef"
      },
      "execution_count": 3,
      "outputs": [
        {
          "output_type": "execute_result",
          "data": {
            "text/plain": [
              "int"
            ]
          },
          "metadata": {},
          "execution_count": 3
        }
      ]
    },
    {
      "cell_type": "code",
      "source": [
        "type(2.5)"
      ],
      "metadata": {
        "colab": {
          "base_uri": "https://localhost:8080/"
        },
        "id": "KL_bAddauycH",
        "outputId": "bf98ac9e-66ab-4145-ab5b-9b224141cd16"
      },
      "execution_count": 4,
      "outputs": [
        {
          "output_type": "execute_result",
          "data": {
            "text/plain": [
              "float"
            ]
          },
          "metadata": {},
          "execution_count": 4
        }
      ]
    },
    {
      "cell_type": "code",
      "source": [
        "1+5"
      ],
      "metadata": {
        "colab": {
          "base_uri": "https://localhost:8080/"
        },
        "id": "nzmVQt7Ju2cW",
        "outputId": "2ad46928-1885-4e12-ab9d-5abf2f18e6c7"
      },
      "execution_count": 5,
      "outputs": [
        {
          "output_type": "execute_result",
          "data": {
            "text/plain": [
              "6"
            ]
          },
          "metadata": {},
          "execution_count": 5
        }
      ]
    },
    {
      "cell_type": "code",
      "source": [
        "4-2"
      ],
      "metadata": {
        "colab": {
          "base_uri": "https://localhost:8080/"
        },
        "id": "94KxQakcu7Av",
        "outputId": "3d9e80e2-b010-43b4-940f-579ab32bc3bf"
      },
      "execution_count": 6,
      "outputs": [
        {
          "output_type": "execute_result",
          "data": {
            "text/plain": [
              "2"
            ]
          },
          "metadata": {},
          "execution_count": 6
        }
      ]
    },
    {
      "cell_type": "code",
      "source": [
        "type(True)"
      ],
      "metadata": {
        "colab": {
          "base_uri": "https://localhost:8080/"
        },
        "id": "ckIexb7xu9It",
        "outputId": "91eb30db-ce0f-497b-f1b8-9506fc91e110"
      },
      "execution_count": 7,
      "outputs": [
        {
          "output_type": "execute_result",
          "data": {
            "text/plain": [
              "bool"
            ]
          },
          "metadata": {},
          "execution_count": 7
        }
      ]
    },
    {
      "cell_type": "code",
      "source": [
        "type(False)"
      ],
      "metadata": {
        "colab": {
          "base_uri": "https://localhost:8080/"
        },
        "id": "qySYKjcjvAo0",
        "outputId": "642dfd37-6205-407b-f712-5bb693b7c0e6"
      },
      "execution_count": 8,
      "outputs": [
        {
          "output_type": "execute_result",
          "data": {
            "text/plain": [
              "bool"
            ]
          },
          "metadata": {},
          "execution_count": 8
        }
      ]
    },
    {
      "cell_type": "code",
      "source": [
        "type(\"Hello World\")"
      ],
      "metadata": {
        "colab": {
          "base_uri": "https://localhost:8080/"
        },
        "id": "_yQkcGepvEOn",
        "outputId": "a22efc94-85d2-4666-e9a0-ca2de7a67bfb"
      },
      "execution_count": 9,
      "outputs": [
        {
          "output_type": "execute_result",
          "data": {
            "text/plain": [
              "str"
            ]
          },
          "metadata": {},
          "execution_count": 9
        }
      ]
    },
    {
      "cell_type": "code",
      "source": [
        "\"Hello World\".upper() #convertir en mayusculas"
      ],
      "metadata": {
        "colab": {
          "base_uri": "https://localhost:8080/",
          "height": 35
        },
        "id": "7hFVvh3lvYOM",
        "outputId": "35d9340d-3834-4603-ce6f-40de28b7bb0c"
      },
      "execution_count": 10,
      "outputs": [
        {
          "output_type": "execute_result",
          "data": {
            "text/plain": [
              "'HELLO WORLD'"
            ],
            "application/vnd.google.colaboratory.intrinsic+json": {
              "type": "string"
            }
          },
          "metadata": {},
          "execution_count": 10
        }
      ]
    },
    {
      "cell_type": "code",
      "source": [
        "\"Hello World\".lower()#convertir a minusculas"
      ],
      "metadata": {
        "colab": {
          "base_uri": "https://localhost:8080/",
          "height": 35
        },
        "id": "MULuJpCOvjED",
        "outputId": "ba4a0180-b06f-4a28-9656-ce007fd6e199"
      },
      "execution_count": 11,
      "outputs": [
        {
          "output_type": "execute_result",
          "data": {
            "text/plain": [
              "'hello world'"
            ],
            "application/vnd.google.colaboratory.intrinsic+json": {
              "type": "string"
            }
          },
          "metadata": {},
          "execution_count": 11
        }
      ]
    },
    {
      "cell_type": "code",
      "source": [
        "\"Hello World\".upper()#convertir a mayuscula\n",
        "\"Hello World\".lower()#convertir a minusculas\n",
        "\"Hello World\".title()#convertir a mayuscula la primera letra"
      ],
      "metadata": {
        "colab": {
          "base_uri": "https://localhost:8080/",
          "height": 35
        },
        "id": "0TYT0oNpvsad",
        "outputId": "955e680e-4ff1-4f1b-c02b-34dba212fd5b"
      },
      "execution_count": 12,
      "outputs": [
        {
          "output_type": "execute_result",
          "data": {
            "text/plain": [
              "'Hello World'"
            ],
            "application/vnd.google.colaboratory.intrinsic+json": {
              "type": "string"
            }
          },
          "metadata": {},
          "execution_count": 12
        }
      ]
    },
    {
      "cell_type": "code",
      "source": [
        "\"Hello World\".count('l')#contar la cantidad"
      ],
      "metadata": {
        "colab": {
          "base_uri": "https://localhost:8080/"
        },
        "id": "zg6K4whZwLl2",
        "outputId": "632b9d16-d61c-4eac-f281-a218c18287ba"
      },
      "execution_count": 13,
      "outputs": [
        {
          "output_type": "execute_result",
          "data": {
            "text/plain": [
              "3"
            ]
          },
          "metadata": {},
          "execution_count": 13
        }
      ]
    },
    {
      "cell_type": "code",
      "source": [
        "\"Hello World!\".replace('o', 'u') #reemplazar o por letra u"
      ],
      "metadata": {
        "colab": {
          "base_uri": "https://localhost:8080/",
          "height": 35
        },
        "id": "sUW4ynjEwZ8V",
        "outputId": "3366d2b6-5f85-4141-d677-9721dd654c63"
      },
      "execution_count": 14,
      "outputs": [
        {
          "output_type": "execute_result",
          "data": {
            "text/plain": [
              "'Hellu Wurld!'"
            ],
            "application/vnd.google.colaboratory.intrinsic+json": {
              "type": "string"
            }
          },
          "metadata": {},
          "execution_count": 14
        }
      ]
    },
    {
      "cell_type": "markdown",
      "source": [
        "# **2. Variables**"
      ],
      "metadata": {
        "id": "uK0DfDfk1hid"
      }
    },
    {
      "cell_type": "code",
      "source": [
        "message_1 = \"Estoy aprendiendo Python\"\n",
        "message_1"
      ],
      "metadata": {
        "colab": {
          "base_uri": "https://localhost:8080/",
          "height": 35
        },
        "id": "ufUX0A1v1luc",
        "outputId": "df1332d3-4205-4242-8321-21b4b88ec35b"
      },
      "execution_count": 15,
      "outputs": [
        {
          "output_type": "execute_result",
          "data": {
            "text/plain": [
              "'Estoy aprendiendo Python'"
            ],
            "application/vnd.google.colaboratory.intrinsic+json": {
              "type": "string"
            }
          },
          "metadata": {},
          "execution_count": 15
        }
      ]
    },
    {
      "cell_type": "code",
      "source": [
        "message_2 = \"y es divertido\""
      ],
      "metadata": {
        "id": "xpome3uk1zB_"
      },
      "execution_count": 16,
      "outputs": []
    },
    {
      "cell_type": "code",
      "source": [
        "#concatenar variables\n",
        "\n",
        "message_1 + message_2"
      ],
      "metadata": {
        "colab": {
          "base_uri": "https://localhost:8080/",
          "height": 35
        },
        "id": "IQkvzSCp6aQH",
        "outputId": "a7a35ecd-72ae-4836-d97c-d263e2430e26"
      },
      "execution_count": 17,
      "outputs": [
        {
          "output_type": "execute_result",
          "data": {
            "text/plain": [
              "'Estoy aprendiendo Pythony es divertido'"
            ],
            "application/vnd.google.colaboratory.intrinsic+json": {
              "type": "string"
            }
          },
          "metadata": {},
          "execution_count": 17
        }
      ]
    },
    {
      "cell_type": "code",
      "source": [
        "message_1 + \" \" + message_2 "
      ],
      "metadata": {
        "colab": {
          "base_uri": "https://localhost:8080/",
          "height": 35
        },
        "id": "ewaCblM36mn_",
        "outputId": "d01f9c47-adb0-4584-83fc-1cf373a19d3e"
      },
      "execution_count": 18,
      "outputs": [
        {
          "output_type": "execute_result",
          "data": {
            "text/plain": [
              "'Estoy aprendiendo Python y es divertido'"
            ],
            "application/vnd.google.colaboratory.intrinsic+json": {
              "type": "string"
            }
          },
          "metadata": {},
          "execution_count": 18
        }
      ]
    },
    {
      "cell_type": "code",
      "source": [
        "# otro tipo de concatenacion con f\n",
        "f'Estoy aprendiendo python'"
      ],
      "metadata": {
        "colab": {
          "base_uri": "https://localhost:8080/",
          "height": 35
        },
        "id": "qZmPBlRO7EH8",
        "outputId": "2e5d7253-b5d9-4adb-bb22-3588b8a5e4e4"
      },
      "execution_count": null,
      "outputs": [
        {
          "output_type": "execute_result",
          "data": {
            "text/plain": [
              "'Estoy aprendiendo python'"
            ],
            "application/vnd.google.colaboratory.intrinsic+json": {
              "type": "string"
            }
          },
          "metadata": {},
          "execution_count": 8
        }
      ]
    },
    {
      "cell_type": "code",
      "source": [
        "# otro tipo de concatenacion con f\n",
        "f'{message_1} abc'"
      ],
      "metadata": {
        "colab": {
          "base_uri": "https://localhost:8080/",
          "height": 35
        },
        "id": "ISMXa_-g7sq6",
        "outputId": "9b350de0-50a7-4432-f911-705697c27e90"
      },
      "execution_count": 19,
      "outputs": [
        {
          "output_type": "execute_result",
          "data": {
            "text/plain": [
              "'Estoy aprendiendo Python abc'"
            ],
            "application/vnd.google.colaboratory.intrinsic+json": {
              "type": "string"
            }
          },
          "metadata": {},
          "execution_count": 19
        }
      ]
    },
    {
      "cell_type": "code",
      "source": [
        "# otro tipo de concatenacion con f\n",
        "f'{message_1} {message_2}'"
      ],
      "metadata": {
        "colab": {
          "base_uri": "https://localhost:8080/",
          "height": 35
        },
        "id": "H5iu4nmJ750x",
        "outputId": "41dbd8c3-eb54-4e70-cfc6-94cd74a84f6e"
      },
      "execution_count": 20,
      "outputs": [
        {
          "output_type": "execute_result",
          "data": {
            "text/plain": [
              "'Estoy aprendiendo Python y es divertido'"
            ],
            "application/vnd.google.colaboratory.intrinsic+json": {
              "type": "string"
            }
          },
          "metadata": {},
          "execution_count": 20
        }
      ]
    },
    {
      "cell_type": "code",
      "source": [
        "message = f'{message_1}  {message_2}'\n",
        "message"
      ],
      "metadata": {
        "colab": {
          "base_uri": "https://localhost:8080/",
          "height": 35
        },
        "id": "TNS8Iuxo8CA-",
        "outputId": "64a5ba88-7f00-4eb0-c402-cb0b5b55ac7e"
      },
      "execution_count": 21,
      "outputs": [
        {
          "output_type": "execute_result",
          "data": {
            "text/plain": [
              "'Estoy aprendiendo Python  y es divertido'"
            ],
            "application/vnd.google.colaboratory.intrinsic+json": {
              "type": "string"
            }
          },
          "metadata": {},
          "execution_count": 21
        }
      ]
    },
    {
      "cell_type": "markdown",
      "source": [
        "# **4. Listas**\n",
        "*  ordenadas\n",
        "*  mutables"
      ],
      "metadata": {
        "id": "yRMmgCW88eMA"
      }
    },
    {
      "cell_type": "code",
      "source": [
        "countries = ['United States', 'India', 'China', 'Brazil']\n",
        "countries"
      ],
      "metadata": {
        "colab": {
          "base_uri": "https://localhost:8080/"
        },
        "id": "AvXuU-IV8o90",
        "outputId": "28878986-5170-4ef5-998e-6a9aebddf872"
      },
      "execution_count": 22,
      "outputs": [
        {
          "output_type": "execute_result",
          "data": {
            "text/plain": [
              "['United States', 'India', 'China', 'Brazil']"
            ]
          },
          "metadata": {},
          "execution_count": 22
        }
      ]
    },
    {
      "cell_type": "code",
      "source": [
        "countries[0]"
      ],
      "metadata": {
        "colab": {
          "base_uri": "https://localhost:8080/",
          "height": 35
        },
        "id": "LdigQNjN9SFK",
        "outputId": "c4e2183d-caa5-49e2-b0f4-dfc2f0a06a50"
      },
      "execution_count": 23,
      "outputs": [
        {
          "output_type": "execute_result",
          "data": {
            "text/plain": [
              "'United States'"
            ],
            "application/vnd.google.colaboratory.intrinsic+json": {
              "type": "string"
            }
          },
          "metadata": {},
          "execution_count": 23
        }
      ]
    },
    {
      "cell_type": "code",
      "source": [
        "countries[1]"
      ],
      "metadata": {
        "colab": {
          "base_uri": "https://localhost:8080/",
          "height": 35
        },
        "id": "gtkeZ5C59YyK",
        "outputId": "5a0d9a4d-e0f0-4514-c62e-34c3bc1beb55"
      },
      "execution_count": 24,
      "outputs": [
        {
          "output_type": "execute_result",
          "data": {
            "text/plain": [
              "'India'"
            ],
            "application/vnd.google.colaboratory.intrinsic+json": {
              "type": "string"
            }
          },
          "metadata": {},
          "execution_count": 24
        }
      ]
    },
    {
      "cell_type": "code",
      "source": [
        "countries[-1]"
      ],
      "metadata": {
        "colab": {
          "base_uri": "https://localhost:8080/",
          "height": 35
        },
        "id": "PILMM-Sa9qo4",
        "outputId": "e866f3bb-a89a-4bb0-f444-e2ad2e1ad50c"
      },
      "execution_count": 25,
      "outputs": [
        {
          "output_type": "execute_result",
          "data": {
            "text/plain": [
              "'Brazil'"
            ],
            "application/vnd.google.colaboratory.intrinsic+json": {
              "type": "string"
            }
          },
          "metadata": {},
          "execution_count": 25
        }
      ]
    },
    {
      "cell_type": "code",
      "source": [
        "countries[-2]"
      ],
      "metadata": {
        "colab": {
          "base_uri": "https://localhost:8080/",
          "height": 35
        },
        "id": "cuLe4iFu9qS4",
        "outputId": "3f37c14a-995d-4f66-ad6b-89b8a60fa9d0"
      },
      "execution_count": 26,
      "outputs": [
        {
          "output_type": "execute_result",
          "data": {
            "text/plain": [
              "'China'"
            ],
            "application/vnd.google.colaboratory.intrinsic+json": {
              "type": "string"
            }
          },
          "metadata": {},
          "execution_count": 26
        }
      ]
    },
    {
      "cell_type": "code",
      "source": [
        "countries[-3]"
      ],
      "metadata": {
        "colab": {
          "base_uri": "https://localhost:8080/",
          "height": 35
        },
        "id": "aJ3u3bKR9wmn",
        "outputId": "682acadc-e305-4135-b17a-d8f8411a9836"
      },
      "execution_count": 27,
      "outputs": [
        {
          "output_type": "execute_result",
          "data": {
            "text/plain": [
              "'India'"
            ],
            "application/vnd.google.colaboratory.intrinsic+json": {
              "type": "string"
            }
          },
          "metadata": {},
          "execution_count": 27
        }
      ]
    },
    {
      "cell_type": "code",
      "source": [
        "countries[-4]"
      ],
      "metadata": {
        "colab": {
          "base_uri": "https://localhost:8080/",
          "height": 35
        },
        "id": "gESyTKyi9y96",
        "outputId": "b451ee0d-67bf-4d72-e102-e2ba363c8a35"
      },
      "execution_count": 28,
      "outputs": [
        {
          "output_type": "execute_result",
          "data": {
            "text/plain": [
              "'United States'"
            ],
            "application/vnd.google.colaboratory.intrinsic+json": {
              "type": "string"
            }
          },
          "metadata": {},
          "execution_count": 28
        }
      ]
    },
    {
      "cell_type": "code",
      "source": [
        "countries[3]"
      ],
      "metadata": {
        "colab": {
          "base_uri": "https://localhost:8080/",
          "height": 35
        },
        "id": "35O1EOZ9pDXC",
        "outputId": "0106e415-e4f4-4289-dd41-f8c77e576828"
      },
      "execution_count": 29,
      "outputs": [
        {
          "output_type": "execute_result",
          "data": {
            "text/plain": [
              "'Brazil'"
            ],
            "application/vnd.google.colaboratory.intrinsic+json": {
              "type": "string"
            }
          },
          "metadata": {},
          "execution_count": 29
        }
      ]
    },
    {
      "cell_type": "code",
      "source": [
        "countries[-1]"
      ],
      "metadata": {
        "colab": {
          "base_uri": "https://localhost:8080/",
          "height": 35
        },
        "id": "-vQ_ChMWpzrl",
        "outputId": "7fd85677-2aaa-4a36-e8c2-7f4e554447fb"
      },
      "execution_count": 30,
      "outputs": [
        {
          "output_type": "execute_result",
          "data": {
            "text/plain": [
              "'Brazil'"
            ],
            "application/vnd.google.colaboratory.intrinsic+json": {
              "type": "string"
            }
          },
          "metadata": {},
          "execution_count": 30
        }
      ]
    },
    {
      "cell_type": "markdown",
      "source": [
        "# **4.1 Rebanadas/Slicing**"
      ],
      "metadata": {
        "id": "OfXSosPio9n-"
      }
    },
    {
      "cell_type": "code",
      "source": [
        "#stop excluyente\n",
        "nombre_lista[start:stop]\n"
      ],
      "metadata": {
        "id": "iI5X1rfsqlSf"
      },
      "execution_count": null,
      "outputs": []
    },
    {
      "cell_type": "code",
      "source": [
        "countries[0:3] #ultimo numero + 1 = 2+1=2"
      ],
      "metadata": {
        "colab": {
          "base_uri": "https://localhost:8080/"
        },
        "id": "5qREM2ZHq9Cj",
        "outputId": "ff121325-b560-4b16-8622-746358e58d2c"
      },
      "execution_count": 31,
      "outputs": [
        {
          "output_type": "execute_result",
          "data": {
            "text/plain": [
              "['United States', 'India', 'China']"
            ]
          },
          "metadata": {},
          "execution_count": 31
        }
      ]
    },
    {
      "cell_type": "code",
      "source": [
        "countries[1:4]"
      ],
      "metadata": {
        "colab": {
          "base_uri": "https://localhost:8080/"
        },
        "id": "p2XRwVu0rmjc",
        "outputId": "e12daecb-e10b-45a8-ff1c-ae07e89101c3"
      },
      "execution_count": 32,
      "outputs": [
        {
          "output_type": "execute_result",
          "data": {
            "text/plain": [
              "['India', 'China', 'Brazil']"
            ]
          },
          "metadata": {},
          "execution_count": 32
        }
      ]
    },
    {
      "cell_type": "code",
      "source": [
        "countries[1:]"
      ],
      "metadata": {
        "colab": {
          "base_uri": "https://localhost:8080/"
        },
        "id": "gGUbIo_frtKY",
        "outputId": "88af5309-7d20-4b65-aace-72f84fc7d82b"
      },
      "execution_count": 33,
      "outputs": [
        {
          "output_type": "execute_result",
          "data": {
            "text/plain": [
              "['India', 'China', 'Brazil']"
            ]
          },
          "metadata": {},
          "execution_count": 33
        }
      ]
    },
    {
      "cell_type": "code",
      "source": [
        "countries[0:2]"
      ],
      "metadata": {
        "colab": {
          "base_uri": "https://localhost:8080/"
        },
        "id": "pcovn_dQumH9",
        "outputId": "3b234b29-5f0a-43f9-bbea-2ded97c355c1"
      },
      "execution_count": 34,
      "outputs": [
        {
          "output_type": "execute_result",
          "data": {
            "text/plain": [
              "['United States', 'India']"
            ]
          },
          "metadata": {},
          "execution_count": 34
        }
      ]
    },
    {
      "cell_type": "code",
      "source": [
        "countries[:2]"
      ],
      "metadata": {
        "colab": {
          "base_uri": "https://localhost:8080/"
        },
        "id": "foMo2VPhu2qB",
        "outputId": "4ba72ce2-0370-440b-f579-64e66b299f8d"
      },
      "execution_count": 35,
      "outputs": [
        {
          "output_type": "execute_result",
          "data": {
            "text/plain": [
              "['United States', 'India']"
            ]
          },
          "metadata": {},
          "execution_count": 35
        }
      ]
    },
    {
      "cell_type": "markdown",
      "source": [
        "# **4.2 Operaciones y metodos**"
      ],
      "metadata": {
        "id": "juJBzzEtCV97"
      }
    },
    {
      "cell_type": "code",
      "source": [
        "#metodo append\n",
        "countries"
      ],
      "metadata": {
        "colab": {
          "base_uri": "https://localhost:8080/"
        },
        "id": "yRL7L9Pxsdo7",
        "outputId": "2ae366ad-cfd1-4acb-a392-b9e4018a88d0"
      },
      "execution_count": 36,
      "outputs": [
        {
          "output_type": "execute_result",
          "data": {
            "text/plain": [
              "['United States', 'India', 'China', 'Brazil']"
            ]
          },
          "metadata": {},
          "execution_count": 36
        }
      ]
    },
    {
      "cell_type": "code",
      "source": [
        "#añadir un elemento('canada)\n",
        "countries.append('Canada')"
      ],
      "metadata": {
        "id": "0Scg2pHBsdkp"
      },
      "execution_count": 37,
      "outputs": []
    },
    {
      "cell_type": "code",
      "source": [
        "countries"
      ],
      "metadata": {
        "colab": {
          "base_uri": "https://localhost:8080/"
        },
        "id": "iT3YghEYsdd7",
        "outputId": "e6b5b27d-2eaf-41e5-dccc-2ba4fc9998df"
      },
      "execution_count": 38,
      "outputs": [
        {
          "output_type": "execute_result",
          "data": {
            "text/plain": [
              "['United States', 'India', 'China', 'Brazil', 'Canada']"
            ]
          },
          "metadata": {},
          "execution_count": 38
        }
      ]
    },
    {
      "cell_type": "code",
      "source": [
        "countries.insert(0, 'Argentina')"
      ],
      "metadata": {
        "id": "Qr_AWtAssdOo"
      },
      "execution_count": 39,
      "outputs": []
    },
    {
      "cell_type": "code",
      "source": [
        "countries"
      ],
      "metadata": {
        "colab": {
          "base_uri": "https://localhost:8080/"
        },
        "id": "N_T5p1VFxz0Z",
        "outputId": "a2d13a47-dc70-42f7-aab3-f7d638158943"
      },
      "execution_count": 40,
      "outputs": [
        {
          "output_type": "execute_result",
          "data": {
            "text/plain": [
              "['Argentina', 'United States', 'India', 'China', 'Brazil', 'Canada']"
            ]
          },
          "metadata": {},
          "execution_count": 40
        }
      ]
    },
    {
      "cell_type": "code",
      "source": [
        "countries_2 = ['UK', 'Alemania', 'Australia']"
      ],
      "metadata": {
        "id": "Wy4vYw7-yhWq"
      },
      "execution_count": 41,
      "outputs": []
    },
    {
      "cell_type": "code",
      "source": [
        "countries_2"
      ],
      "metadata": {
        "colab": {
          "base_uri": "https://localhost:8080/"
        },
        "id": "eEMce8cZ4-9c",
        "outputId": "2908c642-0320-4c18-d703-80ce7d04b694"
      },
      "execution_count": 42,
      "outputs": [
        {
          "output_type": "execute_result",
          "data": {
            "text/plain": [
              "['UK', 'Alemania', 'Australia']"
            ]
          },
          "metadata": {},
          "execution_count": 42
        }
      ]
    },
    {
      "cell_type": "code",
      "source": [
        "countries + countries_2"
      ],
      "metadata": {
        "colab": {
          "base_uri": "https://localhost:8080/"
        },
        "id": "F8Zo3dzK5FTa",
        "outputId": "39743944-1bf9-4473-893a-7a8edddc0570"
      },
      "execution_count": 43,
      "outputs": [
        {
          "output_type": "execute_result",
          "data": {
            "text/plain": [
              "['Argentina',\n",
              " 'United States',\n",
              " 'India',\n",
              " 'China',\n",
              " 'Brazil',\n",
              " 'Canada',\n",
              " 'UK',\n",
              " 'Alemania',\n",
              " 'Australia']"
            ]
          },
          "metadata": {},
          "execution_count": 43
        }
      ]
    },
    {
      "cell_type": "code",
      "source": [
        "#Listas anidadas, listas dentro de otra lista\n",
        "nueva_lista = [countries, countries_2]\n"
      ],
      "metadata": {
        "id": "-ccSh5375-HN"
      },
      "execution_count": 44,
      "outputs": []
    },
    {
      "cell_type": "code",
      "source": [
        "nueva_lista"
      ],
      "metadata": {
        "colab": {
          "base_uri": "https://localhost:8080/"
        },
        "id": "iYMgXoiZ6a1l",
        "outputId": "d6e36838-66ff-4d3b-f40a-016c80268530"
      },
      "execution_count": 45,
      "outputs": [
        {
          "output_type": "execute_result",
          "data": {
            "text/plain": [
              "[['Argentina', 'United States', 'India', 'China', 'Brazil', 'Canada'],\n",
              " ['UK', 'Alemania', 'Australia']]"
            ]
          },
          "metadata": {},
          "execution_count": 45
        }
      ]
    },
    {
      "cell_type": "code",
      "source": [
        "countries"
      ],
      "metadata": {
        "colab": {
          "base_uri": "https://localhost:8080/"
        },
        "id": "t3OzAX9-6fDg",
        "outputId": "717906b0-e7ad-48f3-cb87-203113409fd1"
      },
      "execution_count": 46,
      "outputs": [
        {
          "output_type": "execute_result",
          "data": {
            "text/plain": [
              "['Argentina', 'United States', 'India', 'China', 'Brazil', 'Canada']"
            ]
          },
          "metadata": {},
          "execution_count": 46
        }
      ]
    },
    {
      "cell_type": "code",
      "source": [
        "#eliminar un elemento\n",
        "countries.remove('Canada')"
      ],
      "metadata": {
        "id": "FNUNr6xh6nHt"
      },
      "execution_count": 47,
      "outputs": []
    },
    {
      "cell_type": "code",
      "source": [
        "countries"
      ],
      "metadata": {
        "colab": {
          "base_uri": "https://localhost:8080/"
        },
        "id": "zTOnFAlT7DeX",
        "outputId": "3a29109c-9345-412d-f7dc-5b85f91293c3"
      },
      "execution_count": 48,
      "outputs": [
        {
          "output_type": "execute_result",
          "data": {
            "text/plain": [
              "['Argentina', 'United States', 'India', 'China', 'Brazil']"
            ]
          },
          "metadata": {},
          "execution_count": 48
        }
      ]
    },
    {
      "cell_type": "code",
      "source": [
        "#el metodo poo solamente admite por indices para eleiminar\n",
        "countries.pop(0)"
      ],
      "metadata": {
        "colab": {
          "base_uri": "https://localhost:8080/",
          "height": 35
        },
        "id": "iKUMI99U7Hxm",
        "outputId": "8ec03122-785a-4270-9f77-26fc4382badb"
      },
      "execution_count": 49,
      "outputs": [
        {
          "output_type": "execute_result",
          "data": {
            "text/plain": [
              "'Argentina'"
            ],
            "application/vnd.google.colaboratory.intrinsic+json": {
              "type": "string"
            }
          },
          "metadata": {},
          "execution_count": 49
        }
      ]
    },
    {
      "cell_type": "code",
      "source": [
        "countries"
      ],
      "metadata": {
        "colab": {
          "base_uri": "https://localhost:8080/"
        },
        "id": "qGvxvEOE7Hty",
        "outputId": "620155d9-8ee7-44d7-d995-a846286a101d"
      },
      "execution_count": 50,
      "outputs": [
        {
          "output_type": "execute_result",
          "data": {
            "text/plain": [
              "['United States', 'India', 'China', 'Brazil']"
            ]
          },
          "metadata": {},
          "execution_count": 50
        }
      ]
    },
    {
      "cell_type": "code",
      "source": [
        "#del para eliminar elementos\n",
        "del countries[0]"
      ],
      "metadata": {
        "id": "GgNi_gr_6mz2"
      },
      "execution_count": 51,
      "outputs": []
    },
    {
      "cell_type": "code",
      "source": [
        "countries"
      ],
      "metadata": {
        "colab": {
          "base_uri": "https://localhost:8080/"
        },
        "id": "jJ_Xtu3R7vtf",
        "outputId": "241397dd-56ac-4e84-ebcb-2e4607b248d5"
      },
      "execution_count": 52,
      "outputs": [
        {
          "output_type": "execute_result",
          "data": {
            "text/plain": [
              "['India', 'China', 'Brazil']"
            ]
          },
          "metadata": {},
          "execution_count": 52
        }
      ]
    },
    {
      "cell_type": "markdown",
      "source": [
        "# **4.4 Ordenar una alista**"
      ],
      "metadata": {
        "id": "DQfgiZ8ICAkf"
      }
    },
    {
      "cell_type": "code",
      "source": [
        "numbers = [4,3, 10,7,1,2]"
      ],
      "metadata": {
        "id": "T8tKjPw8CHoz"
      },
      "execution_count": 53,
      "outputs": []
    },
    {
      "cell_type": "code",
      "source": [
        "numbers = [4,3, 10,7,1,2]\n",
        "numbers"
      ],
      "metadata": {
        "id": "CjnJU2hRCcar",
        "outputId": "2d0fcb4d-10e8-4740-d09b-67c5442a5c8c",
        "colab": {
          "base_uri": "https://localhost:8080/"
        }
      },
      "execution_count": 54,
      "outputs": [
        {
          "output_type": "execute_result",
          "data": {
            "text/plain": [
              "[4, 3, 10, 7, 1, 2]"
            ]
          },
          "metadata": {},
          "execution_count": 54
        }
      ]
    },
    {
      "cell_type": "code",
      "source": [
        "numbers.sort()"
      ],
      "metadata": {
        "id": "O_YSMSx98AUx"
      },
      "execution_count": 55,
      "outputs": []
    },
    {
      "cell_type": "code",
      "source": [
        "numbers"
      ],
      "metadata": {
        "colab": {
          "base_uri": "https://localhost:8080/"
        },
        "id": "ls0kne3y8Dde",
        "outputId": "4cd81ca7-9436-4948-8563-c88b75eda2be"
      },
      "execution_count": 56,
      "outputs": [
        {
          "output_type": "execute_result",
          "data": {
            "text/plain": [
              "[1, 2, 3, 4, 7, 10]"
            ]
          },
          "metadata": {},
          "execution_count": 56
        }
      ]
    },
    {
      "cell_type": "code",
      "source": [
        "numbers.sort(reverse=True)"
      ],
      "metadata": {
        "id": "LawijRc79SdW"
      },
      "execution_count": 57,
      "outputs": []
    },
    {
      "cell_type": "code",
      "source": [
        "numbers"
      ],
      "metadata": {
        "colab": {
          "base_uri": "https://localhost:8080/"
        },
        "id": "E2QNrnwl9aHr",
        "outputId": "1062b6bb-de62-4609-ad86-d3efb95bc6be"
      },
      "execution_count": 58,
      "outputs": [
        {
          "output_type": "execute_result",
          "data": {
            "text/plain": [
              "[10, 7, 4, 3, 2, 1]"
            ]
          },
          "metadata": {},
          "execution_count": 58
        }
      ]
    },
    {
      "cell_type": "code",
      "source": [
        "numbers[0]"
      ],
      "metadata": {
        "colab": {
          "base_uri": "https://localhost:8080/"
        },
        "id": "h8TH0uxr9go7",
        "outputId": "9a851856-7a25-478c-a413-4d7cfb5e922e"
      },
      "execution_count": 59,
      "outputs": [
        {
          "output_type": "execute_result",
          "data": {
            "text/plain": [
              "10"
            ]
          },
          "metadata": {},
          "execution_count": 59
        }
      ]
    },
    {
      "cell_type": "markdown",
      "source": [
        "## 4.5 Copiar una lista"
      ],
      "metadata": {
        "id": "ISGJBzNB-NUr"
      }
    },
    {
      "cell_type": "code",
      "source": [
        "countries.append('Argentina')"
      ],
      "metadata": {
        "id": "anPVCVRg_KLg"
      },
      "execution_count": 60,
      "outputs": []
    },
    {
      "cell_type": "code",
      "source": [
        "countries"
      ],
      "metadata": {
        "colab": {
          "base_uri": "https://localhost:8080/"
        },
        "id": "3BsBGQlX_b53",
        "outputId": "8fbe1482-540c-41c4-95a7-2917455f8c86"
      },
      "execution_count": 61,
      "outputs": [
        {
          "output_type": "execute_result",
          "data": {
            "text/plain": [
              "['India', 'China', 'Brazil', 'Argentina']"
            ]
          },
          "metadata": {},
          "execution_count": 61
        }
      ]
    },
    {
      "cell_type": "code",
      "source": [
        "nueva_lista_3 = countries"
      ],
      "metadata": {
        "id": "FZ_b3nlj_PzE"
      },
      "execution_count": 62,
      "outputs": []
    },
    {
      "cell_type": "code",
      "source": [
        "nueva_lista = countries.copy()"
      ],
      "metadata": {
        "id": "ERd3DWuw9nrr"
      },
      "execution_count": 63,
      "outputs": []
    },
    {
      "cell_type": "code",
      "source": [
        "nueva_lista"
      ],
      "metadata": {
        "colab": {
          "base_uri": "https://localhost:8080/"
        },
        "id": "hujBGDF8-aer",
        "outputId": "70037ef5-f72c-4347-c140-2b034ff7b74b"
      },
      "execution_count": 64,
      "outputs": [
        {
          "output_type": "execute_result",
          "data": {
            "text/plain": [
              "['India', 'China', 'Brazil', 'Argentina']"
            ]
          },
          "metadata": {},
          "execution_count": 64
        }
      ]
    },
    {
      "cell_type": "code",
      "source": [
        "#segunda forma de copiar\n",
        "countries[:]"
      ],
      "metadata": {
        "colab": {
          "base_uri": "https://localhost:8080/"
        },
        "id": "bK4L2Yd1-ku2",
        "outputId": "ce61778e-1c16-495c-ee77-cd7444fd0895"
      },
      "execution_count": 65,
      "outputs": [
        {
          "output_type": "execute_result",
          "data": {
            "text/plain": [
              "['India', 'China', 'Brazil', 'Argentina']"
            ]
          },
          "metadata": {},
          "execution_count": 65
        }
      ]
    },
    {
      "cell_type": "code",
      "source": [
        "nueva_lista_2 = countries[:]"
      ],
      "metadata": {
        "id": "mGIN0c84-u5A"
      },
      "execution_count": 66,
      "outputs": []
    },
    {
      "cell_type": "code",
      "source": [
        "nueva_lista_2"
      ],
      "metadata": {
        "colab": {
          "base_uri": "https://localhost:8080/"
        },
        "id": "F6Nv-94i-5UD",
        "outputId": "cb61bcc3-d3b3-4a34-aebc-326ab20965f7"
      },
      "execution_count": 67,
      "outputs": [
        {
          "output_type": "execute_result",
          "data": {
            "text/plain": [
              "['India', 'China', 'Brazil', 'Argentina']"
            ]
          },
          "metadata": {},
          "execution_count": 67
        }
      ]
    },
    {
      "cell_type": "code",
      "source": [
        "nueva_lista_3 = countries"
      ],
      "metadata": {
        "id": "opQNA4i6XWuz"
      },
      "execution_count": 68,
      "outputs": []
    },
    {
      "cell_type": "code",
      "source": [
        "countries"
      ],
      "metadata": {
        "colab": {
          "base_uri": "https://localhost:8080/"
        },
        "id": "z4KdAI61XWqM",
        "outputId": "d6736727-639f-4066-e6c3-83464e557b0f"
      },
      "execution_count": 69,
      "outputs": [
        {
          "output_type": "execute_result",
          "data": {
            "text/plain": [
              "['India', 'China', 'Brazil', 'Argentina']"
            ]
          },
          "metadata": {},
          "execution_count": 69
        }
      ]
    },
    {
      "cell_type": "code",
      "source": [
        "nueva_lista_3"
      ],
      "metadata": {
        "colab": {
          "base_uri": "https://localhost:8080/"
        },
        "id": "5Ld9ideJXWlj",
        "outputId": "3e1d77d9-bdd3-4d5d-b9e1-6d0900af74c8"
      },
      "execution_count": 70,
      "outputs": [
        {
          "output_type": "execute_result",
          "data": {
            "text/plain": [
              "['India', 'China', 'Brazil', 'Argentina']"
            ]
          },
          "metadata": {},
          "execution_count": 70
        }
      ]
    },
    {
      "cell_type": "code",
      "source": [
        "nueva_lista = countries.copy()"
      ],
      "metadata": {
        "id": "_8hOxBcAXWhH"
      },
      "execution_count": 71,
      "outputs": []
    },
    {
      "cell_type": "code",
      "source": [
        "nueva_lista"
      ],
      "metadata": {
        "colab": {
          "base_uri": "https://localhost:8080/"
        },
        "id": "rRcleMrYXWcE",
        "outputId": "13c12ba8-2c4a-4126-bd78-23f98489898f"
      },
      "execution_count": 72,
      "outputs": [
        {
          "output_type": "execute_result",
          "data": {
            "text/plain": [
              "['India', 'China', 'Brazil', 'Argentina']"
            ]
          },
          "metadata": {},
          "execution_count": 72
        }
      ]
    },
    {
      "cell_type": "code",
      "source": [
        "nueva_lista_2"
      ],
      "metadata": {
        "colab": {
          "base_uri": "https://localhost:8080/"
        },
        "id": "vyQcsYmxa_wm",
        "outputId": "d706b692-b673-4276-f662-c579db96696a"
      },
      "execution_count": 73,
      "outputs": [
        {
          "output_type": "execute_result",
          "data": {
            "text/plain": [
              "['India', 'China', 'Brazil', 'Argentina']"
            ]
          },
          "metadata": {},
          "execution_count": 73
        }
      ]
    },
    {
      "cell_type": "markdown",
      "source": [
        "# **5. Diccionario**\n",
        "\n",
        "Mutables"
      ],
      "metadata": {
        "id": "1eogvMNaa5h9"
      }
    },
    {
      "cell_type": "code",
      "source": [
        "mi_dictionary = {'key':'value1', 'key2':'value2'}"
      ],
      "metadata": {
        "id": "oCRPpfASXWWg"
      },
      "execution_count": 74,
      "outputs": []
    },
    {
      "cell_type": "code",
      "source": [
        "my_data = {'nombre':'Gladys', 'edad':26}"
      ],
      "metadata": {
        "id": "3BJn6vG3auKP"
      },
      "execution_count": 75,
      "outputs": []
    },
    {
      "cell_type": "code",
      "source": [
        "my_data"
      ],
      "metadata": {
        "colab": {
          "base_uri": "https://localhost:8080/"
        },
        "id": "UpBmcaoIauFy",
        "outputId": "9a7ff124-82b8-468e-ae44-6bfa9c47e1e3"
      },
      "execution_count": 76,
      "outputs": [
        {
          "output_type": "execute_result",
          "data": {
            "text/plain": [
              "{'nombre': 'Gladys', 'edad': 26}"
            ]
          },
          "metadata": {},
          "execution_count": 76
        }
      ]
    },
    {
      "cell_type": "code",
      "source": [
        "my_data['nombre']"
      ],
      "metadata": {
        "colab": {
          "base_uri": "https://localhost:8080/",
          "height": 35
        },
        "id": "xUSYNBAzatyP",
        "outputId": "70c860d2-2bf4-4d92-8dfa-2fa4b2cd108e"
      },
      "execution_count": 77,
      "outputs": [
        {
          "output_type": "execute_result",
          "data": {
            "text/plain": [
              "'Gladys'"
            ],
            "application/vnd.google.colaboratory.intrinsic+json": {
              "type": "string"
            }
          },
          "metadata": {},
          "execution_count": 77
        }
      ]
    },
    {
      "cell_type": "code",
      "source": [
        "my_data.keys() # devolver toos los llaves que tiene el diccionaario"
      ],
      "metadata": {
        "colab": {
          "base_uri": "https://localhost:8080/"
        },
        "id": "jaR3StEjcFwS",
        "outputId": "198b90ab-b78e-4a9d-93b7-f11cd10abdaf"
      },
      "execution_count": 78,
      "outputs": [
        {
          "output_type": "execute_result",
          "data": {
            "text/plain": [
              "dict_keys(['nombre', 'edad'])"
            ]
          },
          "metadata": {},
          "execution_count": 78
        }
      ]
    },
    {
      "cell_type": "code",
      "source": [
        "my_data.values() # devuelve los valores el diccionario"
      ],
      "metadata": {
        "colab": {
          "base_uri": "https://localhost:8080/"
        },
        "id": "j_slTh4ob_6z",
        "outputId": "abba3bcc-6831-41b7-c8db-441e2c46ba27"
      },
      "execution_count": 79,
      "outputs": [
        {
          "output_type": "execute_result",
          "data": {
            "text/plain": [
              "dict_values(['Gladys', 26])"
            ]
          },
          "metadata": {},
          "execution_count": 79
        }
      ]
    },
    {
      "cell_type": "code",
      "source": [
        "my_data.items() # devolver el item, par llave y valor"
      ],
      "metadata": {
        "colab": {
          "base_uri": "https://localhost:8080/"
        },
        "id": "3p5vPUpmb_1D",
        "outputId": "b7e95ef4-3628-41a0-d411-9e918bc431ec"
      },
      "execution_count": 80,
      "outputs": [
        {
          "output_type": "execute_result",
          "data": {
            "text/plain": [
              "dict_items([('nombre', 'Gladys'), ('edad', 26)])"
            ]
          },
          "metadata": {},
          "execution_count": 80
        }
      ]
    },
    {
      "cell_type": "code",
      "source": [
        "my_data={'nombre':'Gladys', 'edad':26}"
      ],
      "metadata": {
        "id": "dolG91TedTZW"
      },
      "execution_count": 81,
      "outputs": []
    },
    {
      "cell_type": "code",
      "source": [
        "my_data['estatura'] = 1.7  # agregar elemento al diccionario"
      ],
      "metadata": {
        "id": "sGlKXAmCdTTl"
      },
      "execution_count": 82,
      "outputs": []
    },
    {
      "cell_type": "code",
      "source": [
        "my_data"
      ],
      "metadata": {
        "colab": {
          "base_uri": "https://localhost:8080/"
        },
        "id": "fXW3R9TUdTOE",
        "outputId": "00916907-ab06-4576-9a29-3b98bf82e101"
      },
      "execution_count": 83,
      "outputs": [
        {
          "output_type": "execute_result",
          "data": {
            "text/plain": [
              "{'nombre': 'Gladys', 'edad': 26, 'estatura': 1.7}"
            ]
          },
          "metadata": {},
          "execution_count": 83
        }
      ]
    },
    {
      "cell_type": "code",
      "source": [
        "my_data.update({'estatura':1.8, 'lenguajes':['Ingles', 'Español']})"
      ],
      "metadata": {
        "id": "P786XNmpats6"
      },
      "execution_count": 84,
      "outputs": []
    },
    {
      "cell_type": "code",
      "source": [
        "my_data"
      ],
      "metadata": {
        "colab": {
          "base_uri": "https://localhost:8080/"
        },
        "id": "V3ozEd51eyRc",
        "outputId": "e3e43e4a-1acf-496e-f3a9-b244373c229b"
      },
      "execution_count": 85,
      "outputs": [
        {
          "output_type": "execute_result",
          "data": {
            "text/plain": [
              "{'nombre': 'Gladys',\n",
              " 'edad': 26,\n",
              " 'estatura': 1.8,\n",
              " 'lenguajes': ['Ingles', 'Español']}"
            ]
          },
          "metadata": {},
          "execution_count": 85
        }
      ]
    },
    {
      "cell_type": "markdown",
      "source": [
        "# **5.1 Agregar/actualizar elementos**"
      ],
      "metadata": {
        "id": "3KiLuWVUnvjd"
      }
    },
    {
      "cell_type": "code",
      "source": [
        "my_data = {'nombre':'Frank', 'edad':26}"
      ],
      "metadata": {
        "id": "7T0Q-DoDiOgC"
      },
      "execution_count": null,
      "outputs": []
    },
    {
      "cell_type": "code",
      "source": [
        "my_data['estatura'] = 1.7"
      ],
      "metadata": {
        "id": "o2VruJFliOZ7"
      },
      "execution_count": null,
      "outputs": []
    },
    {
      "cell_type": "code",
      "source": [
        "my_data"
      ],
      "metadata": {
        "colab": {
          "base_uri": "https://localhost:8080/"
        },
        "id": "9YoHhw_ziMKF",
        "outputId": "967ff84a-87cc-4d5d-854d-d1ee20199563"
      },
      "execution_count": 86,
      "outputs": [
        {
          "output_type": "execute_result",
          "data": {
            "text/plain": [
              "{'nombre': 'Gladys',\n",
              " 'edad': 26,\n",
              " 'estatura': 1.8,\n",
              " 'lenguajes': ['Ingles', 'Español']}"
            ]
          },
          "metadata": {},
          "execution_count": 86
        }
      ]
    },
    {
      "cell_type": "code",
      "source": [
        "my_data.update({'estatura':1.8, 'lenguages':['Ingles', 'Español']})"
      ],
      "metadata": {
        "id": "W8xzlvtGiMCK"
      },
      "execution_count": null,
      "outputs": []
    },
    {
      "cell_type": "code",
      "source": [
        "my_data"
      ],
      "metadata": {
        "colab": {
          "base_uri": "https://localhost:8080/"
        },
        "id": "_wvDZAUwiL85",
        "outputId": "717a557c-2d28-418a-ea3b-7961f82563a1"
      },
      "execution_count": 87,
      "outputs": [
        {
          "output_type": "execute_result",
          "data": {
            "text/plain": [
              "{'nombre': 'Gladys',\n",
              " 'edad': 26,\n",
              " 'estatura': 1.8,\n",
              " 'lenguajes': ['Ingles', 'Español']}"
            ]
          },
          "metadata": {},
          "execution_count": 87
        }
      ]
    },
    {
      "cell_type": "markdown",
      "source": [
        "# **5.2 Copiar un diccionario**"
      ],
      "metadata": {
        "id": "W5huNWA0o3Jv"
      }
    },
    {
      "cell_type": "code",
      "source": [
        "nuevo_diccionario = my_data.copy()"
      ],
      "metadata": {
        "id": "Z7akNqGfiL4e"
      },
      "execution_count": 89,
      "outputs": []
    },
    {
      "cell_type": "code",
      "source": [
        "nuevo_diccionario"
      ],
      "metadata": {
        "colab": {
          "base_uri": "https://localhost:8080/"
        },
        "id": "8paCezLOiLy2",
        "outputId": "85413a73-1729-4b96-f606-7b5456b009a3"
      },
      "execution_count": 90,
      "outputs": [
        {
          "output_type": "execute_result",
          "data": {
            "text/plain": [
              "{'nombre': 'Gladys',\n",
              " 'edad': 26,\n",
              " 'estatura': 1.8,\n",
              " 'lenguajes': ['Ingles', 'Español']}"
            ]
          },
          "metadata": {},
          "execution_count": 90
        }
      ]
    },
    {
      "cell_type": "markdown",
      "source": [
        "# **5.3 Eliminar elementos**"
      ],
      "metadata": {
        "id": "lfycwdTNqOyT"
      }
    },
    {
      "cell_type": "code",
      "source": [
        "my_data"
      ],
      "metadata": {
        "colab": {
          "base_uri": "https://localhost:8080/"
        },
        "id": "oJve1RGUiLs5",
        "outputId": "3f885c11-43a4-4345-acbd-3199b4497d3a"
      },
      "execution_count": 91,
      "outputs": [
        {
          "output_type": "execute_result",
          "data": {
            "text/plain": [
              "{'nombre': 'Gladys',\n",
              " 'edad': 26,\n",
              " 'estatura': 1.8,\n",
              " 'lenguajes': ['Ingles', 'Español']}"
            ]
          },
          "metadata": {},
          "execution_count": 91
        }
      ]
    },
    {
      "cell_type": "code",
      "source": [
        "my_data.pop('estatura')"
      ],
      "metadata": {
        "colab": {
          "base_uri": "https://localhost:8080/"
        },
        "id": "erg5_SmrptIU",
        "outputId": "fca449dc-0bb4-4dda-c185-e4366e10b37d"
      },
      "execution_count": 92,
      "outputs": [
        {
          "output_type": "execute_result",
          "data": {
            "text/plain": [
              "1.8"
            ]
          },
          "metadata": {},
          "execution_count": 92
        }
      ]
    },
    {
      "cell_type": "code",
      "source": [
        "my_data"
      ],
      "metadata": {
        "colab": {
          "base_uri": "https://localhost:8080/"
        },
        "id": "1uk93gAQquaD",
        "outputId": "82b8a68e-0b19-40a1-958e-4cd05c8e9edd"
      },
      "execution_count": 93,
      "outputs": [
        {
          "output_type": "execute_result",
          "data": {
            "text/plain": [
              "{'nombre': 'Gladys', 'edad': 26, 'lenguajes': ['Ingles', 'Español']}"
            ]
          },
          "metadata": {},
          "execution_count": 93
        }
      ]
    },
    {
      "cell_type": "code",
      "source": [
        "#como eleiminar un iten en ele diccionario\n",
        "del my_data['lenguajes']"
      ],
      "metadata": {
        "id": "1UTrJGV3quVd"
      },
      "execution_count": 94,
      "outputs": []
    },
    {
      "cell_type": "code",
      "source": [
        "my_data"
      ],
      "metadata": {
        "colab": {
          "base_uri": "https://localhost:8080/"
        },
        "id": "MMDzx8AgquRT",
        "outputId": "00303113-bcc9-4057-af73-d598dcd338b2"
      },
      "execution_count": 95,
      "outputs": [
        {
          "output_type": "execute_result",
          "data": {
            "text/plain": [
              "{'nombre': 'Gladys', 'edad': 26}"
            ]
          },
          "metadata": {},
          "execution_count": 95
        }
      ]
    },
    {
      "cell_type": "code",
      "source": [
        "my_data.clear() #clear eleimina todos los itemn del diccionario"
      ],
      "metadata": {
        "id": "aFRNcgPYpsxK"
      },
      "execution_count": 97,
      "outputs": []
    },
    {
      "cell_type": "code",
      "source": [
        "my_data"
      ],
      "metadata": {
        "colab": {
          "base_uri": "https://localhost:8080/"
        },
        "id": "oDHJG0Weo0y6",
        "outputId": "6f0c167b-c0f4-420a-cba9-057faf457c20"
      },
      "execution_count": 98,
      "outputs": [
        {
          "output_type": "execute_result",
          "data": {
            "text/plain": [
              "{}"
            ]
          },
          "metadata": {},
          "execution_count": 98
        }
      ]
    },
    {
      "cell_type": "code",
      "source": [],
      "metadata": {
        "id": "cengeU--rNBS"
      },
      "execution_count": null,
      "outputs": []
    },
    {
      "cell_type": "code",
      "source": [],
      "metadata": {
        "id": "t9xZtMhGrM9O"
      },
      "execution_count": null,
      "outputs": []
    },
    {
      "cell_type": "code",
      "source": [],
      "metadata": {
        "id": "az0tUXT7rMjf"
      },
      "execution_count": null,
      "outputs": []
    },
    {
      "cell_type": "code",
      "source": [],
      "metadata": {
        "id": "q6YcXagtrMe_"
      },
      "execution_count": null,
      "outputs": []
    }
  ]
}