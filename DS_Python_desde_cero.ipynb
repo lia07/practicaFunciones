{
  "nbformat": 4,
  "nbformat_minor": 0,
  "metadata": {
    "colab": {
      "provenance": [],
      "authorship_tag": "ABX9TyPM1D1hB0rdcmFO9o1qWjB7",
      "include_colab_link": true
    },
    "kernelspec": {
      "name": "python3",
      "display_name": "Python 3"
    },
    "language_info": {
      "name": "python"
    }
  },
  "cells": [
    {
      "cell_type": "markdown",
      "metadata": {
        "id": "view-in-github",
        "colab_type": "text"
      },
      "source": [
        "<a href=\"https://colab.research.google.com/github/lia07/practicaFunciones/blob/master/DS_Python_desde_cero.ipynb\" target=\"_parent\"><img src=\"https://colab.research.google.com/assets/colab-badge.svg\" alt=\"Open In Colab\"/></a>"
      ]
    },
    {
      "cell_type": "markdown",
      "source": [],
      "metadata": {
        "id": "D-atUO39s9dd"
      }
    },
    {
      "cell_type": "markdown",
      "source": [
        "# **1. Hello World**"
      ],
      "metadata": {
        "id": "Oc-D879Zs9p6"
      }
    },
    {
      "cell_type": "code",
      "source": [
        "#printing my first code\n",
        "print(\"Hello World!\")"
      ],
      "metadata": {
        "colab": {
          "base_uri": "https://localhost:8080/"
        },
        "id": "IGfDzGh_tBg-",
        "outputId": "c97a5a2a-245a-42c7-8c41-905065d0a168"
      },
      "execution_count": 1,
      "outputs": [
        {
          "output_type": "stream",
          "name": "stdout",
          "text": [
            "Hello World!\n"
          ]
        }
      ]
    },
    {
      "cell_type": "code",
      "source": [
        "#printing my name\n",
        "print(\"Gladys\")"
      ],
      "metadata": {
        "colab": {
          "base_uri": "https://localhost:8080/"
        },
        "id": "-ZtCRp-GtWYW",
        "outputId": "75f2be4c-8539-423c-df1f-dc7784bb81d5"
      },
      "execution_count": 2,
      "outputs": [
        {
          "output_type": "stream",
          "name": "stdout",
          "text": [
            "Gladys\n"
          ]
        }
      ]
    },
    {
      "cell_type": "code",
      "source": [
        "type(1)"
      ],
      "metadata": {
        "colab": {
          "base_uri": "https://localhost:8080/"
        },
        "id": "qOyct9KNuu3E",
        "outputId": "3899b794-e2b7-45fe-94e0-3431f72828f9"
      },
      "execution_count": 3,
      "outputs": [
        {
          "output_type": "execute_result",
          "data": {
            "text/plain": [
              "int"
            ]
          },
          "metadata": {},
          "execution_count": 3
        }
      ]
    },
    {
      "cell_type": "code",
      "source": [
        "type(2.5)"
      ],
      "metadata": {
        "colab": {
          "base_uri": "https://localhost:8080/"
        },
        "id": "KL_bAddauycH",
        "outputId": "8b719569-1fe3-40c3-d5fb-96675169caff"
      },
      "execution_count": 4,
      "outputs": [
        {
          "output_type": "execute_result",
          "data": {
            "text/plain": [
              "float"
            ]
          },
          "metadata": {},
          "execution_count": 4
        }
      ]
    },
    {
      "cell_type": "code",
      "source": [
        "1+5"
      ],
      "metadata": {
        "colab": {
          "base_uri": "https://localhost:8080/"
        },
        "id": "nzmVQt7Ju2cW",
        "outputId": "69ed0df1-497b-49bf-b4b4-2d9c36c37bf8"
      },
      "execution_count": 5,
      "outputs": [
        {
          "output_type": "execute_result",
          "data": {
            "text/plain": [
              "6"
            ]
          },
          "metadata": {},
          "execution_count": 5
        }
      ]
    },
    {
      "cell_type": "code",
      "source": [
        "4-2"
      ],
      "metadata": {
        "colab": {
          "base_uri": "https://localhost:8080/"
        },
        "id": "94KxQakcu7Av",
        "outputId": "5837a08c-58d3-42ec-b100-7152152b59b3"
      },
      "execution_count": 6,
      "outputs": [
        {
          "output_type": "execute_result",
          "data": {
            "text/plain": [
              "2"
            ]
          },
          "metadata": {},
          "execution_count": 6
        }
      ]
    },
    {
      "cell_type": "code",
      "source": [
        "type(True)"
      ],
      "metadata": {
        "colab": {
          "base_uri": "https://localhost:8080/"
        },
        "id": "ckIexb7xu9It",
        "outputId": "d2a28801-f3ae-4676-b36f-6b0d5432b3c5"
      },
      "execution_count": 7,
      "outputs": [
        {
          "output_type": "execute_result",
          "data": {
            "text/plain": [
              "bool"
            ]
          },
          "metadata": {},
          "execution_count": 7
        }
      ]
    },
    {
      "cell_type": "code",
      "source": [
        "type(False)"
      ],
      "metadata": {
        "colab": {
          "base_uri": "https://localhost:8080/"
        },
        "id": "qySYKjcjvAo0",
        "outputId": "8b40414e-3416-484b-802e-0ca9a6b15a1e"
      },
      "execution_count": 8,
      "outputs": [
        {
          "output_type": "execute_result",
          "data": {
            "text/plain": [
              "bool"
            ]
          },
          "metadata": {},
          "execution_count": 8
        }
      ]
    },
    {
      "cell_type": "code",
      "source": [
        "type(\"Hello World\")"
      ],
      "metadata": {
        "colab": {
          "base_uri": "https://localhost:8080/"
        },
        "id": "_yQkcGepvEOn",
        "outputId": "60839cdd-1b91-4c45-da92-c1267a674385"
      },
      "execution_count": 9,
      "outputs": [
        {
          "output_type": "execute_result",
          "data": {
            "text/plain": [
              "str"
            ]
          },
          "metadata": {},
          "execution_count": 9
        }
      ]
    },
    {
      "cell_type": "code",
      "source": [
        "\"Hello World\".upper() #convertir en mayusculas"
      ],
      "metadata": {
        "colab": {
          "base_uri": "https://localhost:8080/",
          "height": 35
        },
        "id": "7hFVvh3lvYOM",
        "outputId": "c6d1c0b9-f981-4f07-8d79-1b59eb76b482"
      },
      "execution_count": 10,
      "outputs": [
        {
          "output_type": "execute_result",
          "data": {
            "text/plain": [
              "'HELLO WORLD'"
            ],
            "application/vnd.google.colaboratory.intrinsic+json": {
              "type": "string"
            }
          },
          "metadata": {},
          "execution_count": 10
        }
      ]
    },
    {
      "cell_type": "code",
      "source": [
        "\"Hello World\".lower()#convertir a minusculas"
      ],
      "metadata": {
        "colab": {
          "base_uri": "https://localhost:8080/",
          "height": 35
        },
        "id": "MULuJpCOvjED",
        "outputId": "71a48e6a-e35c-42a7-cc93-c857bf783879"
      },
      "execution_count": 11,
      "outputs": [
        {
          "output_type": "execute_result",
          "data": {
            "text/plain": [
              "'hello world'"
            ],
            "application/vnd.google.colaboratory.intrinsic+json": {
              "type": "string"
            }
          },
          "metadata": {},
          "execution_count": 11
        }
      ]
    },
    {
      "cell_type": "code",
      "source": [
        "\"Hello World\".upper()#convertir a mayuscula\n",
        "\"Hello World\".lower()#convertir a minusculas\n",
        "\"Hello World\".title()#convertir a mayuscula la primera letra"
      ],
      "metadata": {
        "colab": {
          "base_uri": "https://localhost:8080/",
          "height": 35
        },
        "id": "0TYT0oNpvsad",
        "outputId": "e8762c64-0f1a-40a7-ec76-86332601bb5c"
      },
      "execution_count": 12,
      "outputs": [
        {
          "output_type": "execute_result",
          "data": {
            "text/plain": [
              "'Hello World'"
            ],
            "application/vnd.google.colaboratory.intrinsic+json": {
              "type": "string"
            }
          },
          "metadata": {},
          "execution_count": 12
        }
      ]
    },
    {
      "cell_type": "code",
      "source": [
        "\"Hello World\".count('l')#contar la cantidad"
      ],
      "metadata": {
        "colab": {
          "base_uri": "https://localhost:8080/"
        },
        "id": "zg6K4whZwLl2",
        "outputId": "c9285128-f855-4f12-d6ff-a9f31c7db810"
      },
      "execution_count": 13,
      "outputs": [
        {
          "output_type": "execute_result",
          "data": {
            "text/plain": [
              "3"
            ]
          },
          "metadata": {},
          "execution_count": 13
        }
      ]
    },
    {
      "cell_type": "code",
      "source": [
        "\"Hello World!\".replace('o', 'u') #reemplazar o por letra u"
      ],
      "metadata": {
        "colab": {
          "base_uri": "https://localhost:8080/",
          "height": 35
        },
        "id": "sUW4ynjEwZ8V",
        "outputId": "4f17ee32-beb6-425f-aa01-c93c4a2b112e"
      },
      "execution_count": 14,
      "outputs": [
        {
          "output_type": "execute_result",
          "data": {
            "text/plain": [
              "'Hellu Wurld!'"
            ],
            "application/vnd.google.colaboratory.intrinsic+json": {
              "type": "string"
            }
          },
          "metadata": {},
          "execution_count": 14
        }
      ]
    },
    {
      "cell_type": "markdown",
      "source": [
        "# **2. Variables**"
      ],
      "metadata": {
        "id": "uK0DfDfk1hid"
      }
    },
    {
      "cell_type": "code",
      "source": [
        "message_1 = \"Estoy aprendiendo Python\"\n",
        "message_1"
      ],
      "metadata": {
        "colab": {
          "base_uri": "https://localhost:8080/",
          "height": 35
        },
        "id": "ufUX0A1v1luc",
        "outputId": "e533c719-88b8-40cd-d007-2c886729c8d4"
      },
      "execution_count": 15,
      "outputs": [
        {
          "output_type": "execute_result",
          "data": {
            "text/plain": [
              "'Estoy aprendiendo Python'"
            ],
            "application/vnd.google.colaboratory.intrinsic+json": {
              "type": "string"
            }
          },
          "metadata": {},
          "execution_count": 15
        }
      ]
    },
    {
      "cell_type": "code",
      "source": [
        "message_2 = \"y es divertido\""
      ],
      "metadata": {
        "id": "xpome3uk1zB_"
      },
      "execution_count": 16,
      "outputs": []
    },
    {
      "cell_type": "code",
      "source": [
        "#concatenar variables\n",
        "\n",
        "message_1 + message_2"
      ],
      "metadata": {
        "colab": {
          "base_uri": "https://localhost:8080/",
          "height": 35
        },
        "id": "IQkvzSCp6aQH",
        "outputId": "bdefaf94-2135-477f-9531-40efa1773468"
      },
      "execution_count": 17,
      "outputs": [
        {
          "output_type": "execute_result",
          "data": {
            "text/plain": [
              "'Estoy aprendiendo Pythony es divertido'"
            ],
            "application/vnd.google.colaboratory.intrinsic+json": {
              "type": "string"
            }
          },
          "metadata": {},
          "execution_count": 17
        }
      ]
    },
    {
      "cell_type": "code",
      "source": [
        "message_1 + \" \" + message_2 "
      ],
      "metadata": {
        "colab": {
          "base_uri": "https://localhost:8080/",
          "height": 35
        },
        "id": "ewaCblM36mn_",
        "outputId": "2c59127e-eabd-452f-f09f-fdd9ec66ebd4"
      },
      "execution_count": 18,
      "outputs": [
        {
          "output_type": "execute_result",
          "data": {
            "text/plain": [
              "'Estoy aprendiendo Python y es divertido'"
            ],
            "application/vnd.google.colaboratory.intrinsic+json": {
              "type": "string"
            }
          },
          "metadata": {},
          "execution_count": 18
        }
      ]
    },
    {
      "cell_type": "code",
      "source": [
        "# otro tipo de concatenacion con f\n",
        "f'Estoy aprendiendo python'"
      ],
      "metadata": {
        "colab": {
          "base_uri": "https://localhost:8080/",
          "height": 35
        },
        "id": "qZmPBlRO7EH8",
        "outputId": "8aabd0ff-0c77-47ad-daa8-8b8ea593ffec"
      },
      "execution_count": 19,
      "outputs": [
        {
          "output_type": "execute_result",
          "data": {
            "text/plain": [
              "'Estoy aprendiendo python'"
            ],
            "application/vnd.google.colaboratory.intrinsic+json": {
              "type": "string"
            }
          },
          "metadata": {},
          "execution_count": 19
        }
      ]
    },
    {
      "cell_type": "code",
      "source": [
        "# otro tipo de concatenacion con f\n",
        "f'{message_1} abc'"
      ],
      "metadata": {
        "colab": {
          "base_uri": "https://localhost:8080/",
          "height": 35
        },
        "id": "ISMXa_-g7sq6",
        "outputId": "791822a6-826f-42f3-f823-30d2bc3a5d02"
      },
      "execution_count": 20,
      "outputs": [
        {
          "output_type": "execute_result",
          "data": {
            "text/plain": [
              "'Estoy aprendiendo Python abc'"
            ],
            "application/vnd.google.colaboratory.intrinsic+json": {
              "type": "string"
            }
          },
          "metadata": {},
          "execution_count": 20
        }
      ]
    },
    {
      "cell_type": "code",
      "source": [
        "# otro tipo de concatenacion con f\n",
        "f'{message_1} {message_2}'"
      ],
      "metadata": {
        "colab": {
          "base_uri": "https://localhost:8080/",
          "height": 35
        },
        "id": "H5iu4nmJ750x",
        "outputId": "0bb77488-0a26-456f-96ea-0b3ddd94ef25"
      },
      "execution_count": 21,
      "outputs": [
        {
          "output_type": "execute_result",
          "data": {
            "text/plain": [
              "'Estoy aprendiendo Python y es divertido'"
            ],
            "application/vnd.google.colaboratory.intrinsic+json": {
              "type": "string"
            }
          },
          "metadata": {},
          "execution_count": 21
        }
      ]
    },
    {
      "cell_type": "code",
      "source": [
        "message = f'{message_1}  {message_2}'\n",
        "message"
      ],
      "metadata": {
        "colab": {
          "base_uri": "https://localhost:8080/",
          "height": 35
        },
        "id": "TNS8Iuxo8CA-",
        "outputId": "a38ed749-cc21-4fda-97d1-f419f66a7c93"
      },
      "execution_count": 22,
      "outputs": [
        {
          "output_type": "execute_result",
          "data": {
            "text/plain": [
              "'Estoy aprendiendo Python  y es divertido'"
            ],
            "application/vnd.google.colaboratory.intrinsic+json": {
              "type": "string"
            }
          },
          "metadata": {},
          "execution_count": 22
        }
      ]
    },
    {
      "cell_type": "markdown",
      "source": [
        "# **4. Listas**\n",
        "*  ordenadas\n",
        "*  mutables"
      ],
      "metadata": {
        "id": "yRMmgCW88eMA"
      }
    },
    {
      "cell_type": "code",
      "source": [
        "countries = ['United States', 'India', 'China', 'Brazil']\n",
        "countries"
      ],
      "metadata": {
        "colab": {
          "base_uri": "https://localhost:8080/"
        },
        "id": "AvXuU-IV8o90",
        "outputId": "b353cb71-7c23-44ed-b78a-df542060263b"
      },
      "execution_count": 25,
      "outputs": [
        {
          "output_type": "execute_result",
          "data": {
            "text/plain": [
              "['United States', 'India', 'China', 'Brazil']"
            ]
          },
          "metadata": {},
          "execution_count": 25
        }
      ]
    },
    {
      "cell_type": "code",
      "source": [
        "countries[0]"
      ],
      "metadata": {
        "colab": {
          "base_uri": "https://localhost:8080/",
          "height": 35
        },
        "id": "LdigQNjN9SFK",
        "outputId": "cd71ac96-f9ee-40e5-a3a7-66d9da0d7fe6"
      },
      "execution_count": 26,
      "outputs": [
        {
          "output_type": "execute_result",
          "data": {
            "text/plain": [
              "'United States'"
            ],
            "application/vnd.google.colaboratory.intrinsic+json": {
              "type": "string"
            }
          },
          "metadata": {},
          "execution_count": 26
        }
      ]
    },
    {
      "cell_type": "code",
      "source": [
        "countries[1]"
      ],
      "metadata": {
        "colab": {
          "base_uri": "https://localhost:8080/",
          "height": 35
        },
        "id": "gtkeZ5C59YyK",
        "outputId": "2c2f702e-77e5-42eb-c02d-7f2f3e5fac4f"
      },
      "execution_count": 27,
      "outputs": [
        {
          "output_type": "execute_result",
          "data": {
            "text/plain": [
              "'India'"
            ],
            "application/vnd.google.colaboratory.intrinsic+json": {
              "type": "string"
            }
          },
          "metadata": {},
          "execution_count": 27
        }
      ]
    },
    {
      "cell_type": "code",
      "source": [
        "countries[-1]"
      ],
      "metadata": {
        "colab": {
          "base_uri": "https://localhost:8080/",
          "height": 35
        },
        "id": "PILMM-Sa9qo4",
        "outputId": "b298b9f0-1b4d-443d-c723-c957dc6fec00"
      },
      "execution_count": 28,
      "outputs": [
        {
          "output_type": "execute_result",
          "data": {
            "text/plain": [
              "'Brazil'"
            ],
            "application/vnd.google.colaboratory.intrinsic+json": {
              "type": "string"
            }
          },
          "metadata": {},
          "execution_count": 28
        }
      ]
    },
    {
      "cell_type": "code",
      "source": [
        "countries[-2]"
      ],
      "metadata": {
        "colab": {
          "base_uri": "https://localhost:8080/",
          "height": 35
        },
        "id": "cuLe4iFu9qS4",
        "outputId": "57738f84-6809-45cf-f955-f67e8cc14e2c"
      },
      "execution_count": 29,
      "outputs": [
        {
          "output_type": "execute_result",
          "data": {
            "text/plain": [
              "'China'"
            ],
            "application/vnd.google.colaboratory.intrinsic+json": {
              "type": "string"
            }
          },
          "metadata": {},
          "execution_count": 29
        }
      ]
    },
    {
      "cell_type": "code",
      "source": [
        "countries[-3]"
      ],
      "metadata": {
        "colab": {
          "base_uri": "https://localhost:8080/",
          "height": 35
        },
        "id": "aJ3u3bKR9wmn",
        "outputId": "009a9ad0-7468-4814-cb9a-6d9398babe85"
      },
      "execution_count": 30,
      "outputs": [
        {
          "output_type": "execute_result",
          "data": {
            "text/plain": [
              "'India'"
            ],
            "application/vnd.google.colaboratory.intrinsic+json": {
              "type": "string"
            }
          },
          "metadata": {},
          "execution_count": 30
        }
      ]
    },
    {
      "cell_type": "code",
      "source": [
        "countries[-4]"
      ],
      "metadata": {
        "colab": {
          "base_uri": "https://localhost:8080/",
          "height": 35
        },
        "id": "gESyTKyi9y96",
        "outputId": "f2ecc933-782b-4e7c-bfc7-0f62c6f1ea2c"
      },
      "execution_count": 31,
      "outputs": [
        {
          "output_type": "execute_result",
          "data": {
            "text/plain": [
              "'United States'"
            ],
            "application/vnd.google.colaboratory.intrinsic+json": {
              "type": "string"
            }
          },
          "metadata": {},
          "execution_count": 31
        }
      ]
    },
    {
      "cell_type": "code",
      "source": [
        "countries[3]"
      ],
      "metadata": {
        "colab": {
          "base_uri": "https://localhost:8080/",
          "height": 35
        },
        "id": "35O1EOZ9pDXC",
        "outputId": "0238862c-2a6b-4d64-a1b1-72d0aa0da692"
      },
      "execution_count": 32,
      "outputs": [
        {
          "output_type": "execute_result",
          "data": {
            "text/plain": [
              "'Brazil'"
            ],
            "application/vnd.google.colaboratory.intrinsic+json": {
              "type": "string"
            }
          },
          "metadata": {},
          "execution_count": 32
        }
      ]
    },
    {
      "cell_type": "code",
      "source": [
        "countries[-1]"
      ],
      "metadata": {
        "colab": {
          "base_uri": "https://localhost:8080/",
          "height": 35
        },
        "id": "-vQ_ChMWpzrl",
        "outputId": "e2ca8b56-e1f0-46cf-c474-1f3445888956"
      },
      "execution_count": 33,
      "outputs": [
        {
          "output_type": "execute_result",
          "data": {
            "text/plain": [
              "'Brazil'"
            ],
            "application/vnd.google.colaboratory.intrinsic+json": {
              "type": "string"
            }
          },
          "metadata": {},
          "execution_count": 33
        }
      ]
    },
    {
      "cell_type": "markdown",
      "source": [
        "# **4.1 Rebanadas/Slicing**"
      ],
      "metadata": {
        "id": "OfXSosPio9n-"
      }
    },
    {
      "cell_type": "code",
      "source": [
        "#stop excluyente\n",
        "nombre_lista[start:stop]\n"
      ],
      "metadata": {
        "id": "iI5X1rfsqlSf"
      },
      "execution_count": null,
      "outputs": []
    },
    {
      "cell_type": "code",
      "source": [
        "countries[0:3] #ultimo numero + 1 = 2+1=2"
      ],
      "metadata": {
        "colab": {
          "base_uri": "https://localhost:8080/"
        },
        "id": "5qREM2ZHq9Cj",
        "outputId": "b9767677-dd11-4b93-90fa-258b7142668d"
      },
      "execution_count": 35,
      "outputs": [
        {
          "output_type": "execute_result",
          "data": {
            "text/plain": [
              "['United States', 'India', 'China']"
            ]
          },
          "metadata": {},
          "execution_count": 35
        }
      ]
    },
    {
      "cell_type": "code",
      "source": [
        "countries[1:4]"
      ],
      "metadata": {
        "colab": {
          "base_uri": "https://localhost:8080/"
        },
        "id": "p2XRwVu0rmjc",
        "outputId": "1cda89c9-3c6c-4a3b-fcc9-37387c30fa1f"
      },
      "execution_count": 36,
      "outputs": [
        {
          "output_type": "execute_result",
          "data": {
            "text/plain": [
              "['India', 'China', 'Brazil']"
            ]
          },
          "metadata": {},
          "execution_count": 36
        }
      ]
    },
    {
      "cell_type": "code",
      "source": [
        "countries[1:]"
      ],
      "metadata": {
        "colab": {
          "base_uri": "https://localhost:8080/"
        },
        "id": "gGUbIo_frtKY",
        "outputId": "69f093e2-bdcc-4d4f-f02e-d5ef8420063b"
      },
      "execution_count": 37,
      "outputs": [
        {
          "output_type": "execute_result",
          "data": {
            "text/plain": [
              "['India', 'China', 'Brazil']"
            ]
          },
          "metadata": {},
          "execution_count": 37
        }
      ]
    },
    {
      "cell_type": "code",
      "source": [
        "countries[0:2]"
      ],
      "metadata": {
        "colab": {
          "base_uri": "https://localhost:8080/"
        },
        "id": "pcovn_dQumH9",
        "outputId": "8dbd27f8-387d-4d1e-91b3-fad64cc78efe"
      },
      "execution_count": 38,
      "outputs": [
        {
          "output_type": "execute_result",
          "data": {
            "text/plain": [
              "['United States', 'India']"
            ]
          },
          "metadata": {},
          "execution_count": 38
        }
      ]
    },
    {
      "cell_type": "code",
      "source": [
        "countries[:2]"
      ],
      "metadata": {
        "colab": {
          "base_uri": "https://localhost:8080/"
        },
        "id": "foMo2VPhu2qB",
        "outputId": "624e52f6-6bdc-4f67-feed-64e33835b3ee"
      },
      "execution_count": 39,
      "outputs": [
        {
          "output_type": "execute_result",
          "data": {
            "text/plain": [
              "['United States', 'India']"
            ]
          },
          "metadata": {},
          "execution_count": 39
        }
      ]
    },
    {
      "cell_type": "markdown",
      "source": [
        "# **4.2 Operaciones y metodos**"
      ],
      "metadata": {
        "id": "juJBzzEtCV97"
      }
    },
    {
      "cell_type": "code",
      "source": [
        "#metodo append\n",
        "countries"
      ],
      "metadata": {
        "colab": {
          "base_uri": "https://localhost:8080/"
        },
        "id": "yRL7L9Pxsdo7",
        "outputId": "8d036370-a5d5-4082-d8b8-9cd489a3cca8"
      },
      "execution_count": 40,
      "outputs": [
        {
          "output_type": "execute_result",
          "data": {
            "text/plain": [
              "['United States', 'India', 'China', 'Brazil']"
            ]
          },
          "metadata": {},
          "execution_count": 40
        }
      ]
    },
    {
      "cell_type": "code",
      "source": [
        "#añadir un elemento('canada)\n",
        "countries.append('Canada')"
      ],
      "metadata": {
        "id": "0Scg2pHBsdkp"
      },
      "execution_count": 41,
      "outputs": []
    },
    {
      "cell_type": "code",
      "source": [
        "countries"
      ],
      "metadata": {
        "colab": {
          "base_uri": "https://localhost:8080/"
        },
        "id": "iT3YghEYsdd7",
        "outputId": "fa589b86-5710-4a2a-e676-3ca5baf0b3d7"
      },
      "execution_count": 42,
      "outputs": [
        {
          "output_type": "execute_result",
          "data": {
            "text/plain": [
              "['United States', 'India', 'China', 'Brazil', 'Canada']"
            ]
          },
          "metadata": {},
          "execution_count": 42
        }
      ]
    },
    {
      "cell_type": "code",
      "source": [
        "countries.insert(0, 'Argentina')"
      ],
      "metadata": {
        "id": "Qr_AWtAssdOo"
      },
      "execution_count": 43,
      "outputs": []
    },
    {
      "cell_type": "code",
      "source": [
        "countries"
      ],
      "metadata": {
        "colab": {
          "base_uri": "https://localhost:8080/"
        },
        "id": "N_T5p1VFxz0Z",
        "outputId": "e1642005-320f-4b8d-dfb3-cb37fbb91668"
      },
      "execution_count": 44,
      "outputs": [
        {
          "output_type": "execute_result",
          "data": {
            "text/plain": [
              "['Argentina', 'United States', 'India', 'China', 'Brazil', 'Canada']"
            ]
          },
          "metadata": {},
          "execution_count": 44
        }
      ]
    },
    {
      "cell_type": "code",
      "source": [
        "countries_2 = ['UK', 'Alemania', 'Australia']"
      ],
      "metadata": {
        "id": "Wy4vYw7-yhWq"
      },
      "execution_count": 45,
      "outputs": []
    },
    {
      "cell_type": "code",
      "source": [
        "countries_2"
      ],
      "metadata": {
        "colab": {
          "base_uri": "https://localhost:8080/"
        },
        "id": "eEMce8cZ4-9c",
        "outputId": "06dac9ac-b123-45ef-df8c-4762db1592fe"
      },
      "execution_count": 46,
      "outputs": [
        {
          "output_type": "execute_result",
          "data": {
            "text/plain": [
              "['UK', 'Alemania', 'Australia']"
            ]
          },
          "metadata": {},
          "execution_count": 46
        }
      ]
    },
    {
      "cell_type": "code",
      "source": [
        "countries + countries_2"
      ],
      "metadata": {
        "colab": {
          "base_uri": "https://localhost:8080/"
        },
        "id": "F8Zo3dzK5FTa",
        "outputId": "85293c3b-e9b0-4f3e-a2c1-100321dd123a"
      },
      "execution_count": 47,
      "outputs": [
        {
          "output_type": "execute_result",
          "data": {
            "text/plain": [
              "['Argentina',\n",
              " 'United States',\n",
              " 'India',\n",
              " 'China',\n",
              " 'Brazil',\n",
              " 'Canada',\n",
              " 'UK',\n",
              " 'Alemania',\n",
              " 'Australia']"
            ]
          },
          "metadata": {},
          "execution_count": 47
        }
      ]
    },
    {
      "cell_type": "code",
      "source": [
        "#Listas anidadas, listas dentro de otra lista\n",
        "nueva_lista = [countries, countries_2]\n"
      ],
      "metadata": {
        "id": "-ccSh5375-HN"
      },
      "execution_count": 48,
      "outputs": []
    },
    {
      "cell_type": "code",
      "source": [
        "nueva_lista"
      ],
      "metadata": {
        "colab": {
          "base_uri": "https://localhost:8080/"
        },
        "id": "iYMgXoiZ6a1l",
        "outputId": "7944aaa4-2b85-4e12-f722-75de0f28a0f8"
      },
      "execution_count": 50,
      "outputs": [
        {
          "output_type": "execute_result",
          "data": {
            "text/plain": [
              "[['United States', 'India', 'China', 'Brazil', 'Canada'],\n",
              " ['UK', 'Alemania', 'Australia']]"
            ]
          },
          "metadata": {},
          "execution_count": 50
        }
      ]
    },
    {
      "cell_type": "code",
      "source": [
        "countries"
      ],
      "metadata": {
        "colab": {
          "base_uri": "https://localhost:8080/"
        },
        "id": "t3OzAX9-6fDg",
        "outputId": "db6373e2-1e27-4f89-ab52-1b8617e3d980"
      },
      "execution_count": 51,
      "outputs": [
        {
          "output_type": "execute_result",
          "data": {
            "text/plain": [
              "['United States', 'India', 'China', 'Brazil', 'Canada']"
            ]
          },
          "metadata": {},
          "execution_count": 51
        }
      ]
    },
    {
      "cell_type": "code",
      "source": [
        "#eliminar un elemento\n",
        "countries.remove('Canada')"
      ],
      "metadata": {
        "id": "FNUNr6xh6nHt"
      },
      "execution_count": 52,
      "outputs": []
    },
    {
      "cell_type": "code",
      "source": [
        "countries"
      ],
      "metadata": {
        "colab": {
          "base_uri": "https://localhost:8080/"
        },
        "id": "zTOnFAlT7DeX",
        "outputId": "8d1f9942-b93a-48f5-e327-ab79fd5fb1e2"
      },
      "execution_count": 53,
      "outputs": [
        {
          "output_type": "execute_result",
          "data": {
            "text/plain": [
              "['United States', 'India', 'China', 'Brazil']"
            ]
          },
          "metadata": {},
          "execution_count": 53
        }
      ]
    },
    {
      "cell_type": "code",
      "source": [
        "#el metodo poo solamente admite por indices para eleiminar\n",
        "countries.pop(0)"
      ],
      "metadata": {
        "colab": {
          "base_uri": "https://localhost:8080/",
          "height": 35
        },
        "id": "iKUMI99U7Hxm",
        "outputId": "161d9c5b-2e73-4ef3-cea8-43f332dbdaf7"
      },
      "execution_count": 49,
      "outputs": [
        {
          "output_type": "execute_result",
          "data": {
            "text/plain": [
              "'Argentina'"
            ],
            "application/vnd.google.colaboratory.intrinsic+json": {
              "type": "string"
            }
          },
          "metadata": {},
          "execution_count": 49
        }
      ]
    },
    {
      "cell_type": "code",
      "source": [
        "countries"
      ],
      "metadata": {
        "colab": {
          "base_uri": "https://localhost:8080/"
        },
        "id": "qGvxvEOE7Hty",
        "outputId": "f4b4b0e7-cefc-4526-830f-5a432fd705d8"
      },
      "execution_count": 54,
      "outputs": [
        {
          "output_type": "execute_result",
          "data": {
            "text/plain": [
              "['United States', 'India', 'China', 'Brazil']"
            ]
          },
          "metadata": {},
          "execution_count": 54
        }
      ]
    },
    {
      "cell_type": "code",
      "source": [
        "#del para eliminar elementos\n",
        "del countries[0]"
      ],
      "metadata": {
        "id": "GgNi_gr_6mz2"
      },
      "execution_count": 55,
      "outputs": []
    },
    {
      "cell_type": "code",
      "source": [
        "countries"
      ],
      "metadata": {
        "colab": {
          "base_uri": "https://localhost:8080/"
        },
        "id": "jJ_Xtu3R7vtf",
        "outputId": "925232ca-5a68-48c4-aeb8-50d63bcc0753"
      },
      "execution_count": 56,
      "outputs": [
        {
          "output_type": "execute_result",
          "data": {
            "text/plain": [
              "['India', 'China', 'Brazil']"
            ]
          },
          "metadata": {},
          "execution_count": 56
        }
      ]
    },
    {
      "cell_type": "markdown",
      "source": [
        "# **4.4 Ordenar una alista**"
      ],
      "metadata": {
        "id": "DQfgiZ8ICAkf"
      }
    },
    {
      "cell_type": "code",
      "source": [
        "numbers = [4,3, 10,7,1,2]"
      ],
      "metadata": {
        "id": "T8tKjPw8CHoz"
      },
      "execution_count": 57,
      "outputs": []
    },
    {
      "cell_type": "code",
      "source": [
        "numbers = [4,3, 10,7,1,2]\n",
        "numbers"
      ],
      "metadata": {
        "id": "CjnJU2hRCcar",
        "outputId": "5c02d00a-f83b-43b9-d2ef-06c654d6371c",
        "colab": {
          "base_uri": "https://localhost:8080/"
        }
      },
      "execution_count": 58,
      "outputs": [
        {
          "output_type": "execute_result",
          "data": {
            "text/plain": [
              "[4, 3, 10, 7, 1, 2]"
            ]
          },
          "metadata": {},
          "execution_count": 58
        }
      ]
    },
    {
      "cell_type": "code",
      "source": [
        "numbers.sort()"
      ],
      "metadata": {
        "id": "O_YSMSx98AUx"
      },
      "execution_count": 59,
      "outputs": []
    },
    {
      "cell_type": "code",
      "source": [
        "numbers"
      ],
      "metadata": {
        "colab": {
          "base_uri": "https://localhost:8080/"
        },
        "id": "ls0kne3y8Dde",
        "outputId": "ccff8907-a942-484f-84f2-32208ecc10b4"
      },
      "execution_count": 60,
      "outputs": [
        {
          "output_type": "execute_result",
          "data": {
            "text/plain": [
              "[1, 2, 3, 4, 7, 10]"
            ]
          },
          "metadata": {},
          "execution_count": 60
        }
      ]
    },
    {
      "cell_type": "code",
      "source": [
        "numbers.sort(reverse=True)"
      ],
      "metadata": {
        "id": "LawijRc79SdW"
      },
      "execution_count": 62,
      "outputs": []
    },
    {
      "cell_type": "code",
      "source": [
        "numbers"
      ],
      "metadata": {
        "colab": {
          "base_uri": "https://localhost:8080/"
        },
        "id": "E2QNrnwl9aHr",
        "outputId": "c5a5aab3-b0c1-48ef-b631-85c991b51a5a"
      },
      "execution_count": 61,
      "outputs": [
        {
          "output_type": "execute_result",
          "data": {
            "text/plain": [
              "[1, 2, 3, 4, 7, 10]"
            ]
          },
          "metadata": {},
          "execution_count": 61
        }
      ]
    },
    {
      "cell_type": "code",
      "source": [
        "numbers[0]"
      ],
      "metadata": {
        "colab": {
          "base_uri": "https://localhost:8080/"
        },
        "id": "h8TH0uxr9go7",
        "outputId": "4abb856b-93e9-415a-f367-eb1fffd84321"
      },
      "execution_count": 63,
      "outputs": [
        {
          "output_type": "execute_result",
          "data": {
            "text/plain": [
              "10"
            ]
          },
          "metadata": {},
          "execution_count": 63
        }
      ]
    },
    {
      "cell_type": "markdown",
      "source": [
        "## 4.5 Copiar una lista"
      ],
      "metadata": {
        "id": "ISGJBzNB-NUr"
      }
    },
    {
      "cell_type": "code",
      "source": [
        "countries.append('Argentina')"
      ],
      "metadata": {
        "id": "anPVCVRg_KLg"
      },
      "execution_count": 64,
      "outputs": []
    },
    {
      "cell_type": "code",
      "source": [
        "countries"
      ],
      "metadata": {
        "colab": {
          "base_uri": "https://localhost:8080/"
        },
        "id": "3BsBGQlX_b53",
        "outputId": "c633f697-ac36-4302-9a1b-0767c6ffecb4"
      },
      "execution_count": 65,
      "outputs": [
        {
          "output_type": "execute_result",
          "data": {
            "text/plain": [
              "['India', 'China', 'Brazil', 'Argentina']"
            ]
          },
          "metadata": {},
          "execution_count": 65
        }
      ]
    },
    {
      "cell_type": "code",
      "source": [
        "nueva_lista_3 = countries"
      ],
      "metadata": {
        "id": "FZ_b3nlj_PzE"
      },
      "execution_count": 66,
      "outputs": []
    },
    {
      "cell_type": "code",
      "source": [
        "nueva_lista = countries.copy()"
      ],
      "metadata": {
        "id": "ERd3DWuw9nrr"
      },
      "execution_count": 67,
      "outputs": []
    },
    {
      "cell_type": "code",
      "source": [
        "nueva_lista"
      ],
      "metadata": {
        "colab": {
          "base_uri": "https://localhost:8080/"
        },
        "id": "hujBGDF8-aer",
        "outputId": "f4d4498b-ece6-44df-aa4f-aff1d5224fb9"
      },
      "execution_count": 68,
      "outputs": [
        {
          "output_type": "execute_result",
          "data": {
            "text/plain": [
              "['India', 'China', 'Brazil', 'Argentina']"
            ]
          },
          "metadata": {},
          "execution_count": 68
        }
      ]
    },
    {
      "cell_type": "code",
      "source": [
        "#segunda forma de copiar\n",
        "countries[:]"
      ],
      "metadata": {
        "colab": {
          "base_uri": "https://localhost:8080/"
        },
        "id": "bK4L2Yd1-ku2",
        "outputId": "e6267772-1910-4dcf-8254-d28bc7552256"
      },
      "execution_count": 69,
      "outputs": [
        {
          "output_type": "execute_result",
          "data": {
            "text/plain": [
              "['India', 'China', 'Brazil', 'Argentina']"
            ]
          },
          "metadata": {},
          "execution_count": 69
        }
      ]
    },
    {
      "cell_type": "code",
      "source": [
        "nueva_lista_2 = countries[:]"
      ],
      "metadata": {
        "id": "mGIN0c84-u5A"
      },
      "execution_count": 70,
      "outputs": []
    },
    {
      "cell_type": "code",
      "source": [
        "nueva_lista_2"
      ],
      "metadata": {
        "colab": {
          "base_uri": "https://localhost:8080/"
        },
        "id": "F6Nv-94i-5UD",
        "outputId": "9916797d-dc17-4656-ff74-a9fee2bf8bad"
      },
      "execution_count": 71,
      "outputs": [
        {
          "output_type": "execute_result",
          "data": {
            "text/plain": [
              "['India', 'China', 'Brazil', 'Argentina']"
            ]
          },
          "metadata": {},
          "execution_count": 71
        }
      ]
    },
    {
      "cell_type": "code",
      "source": [
        "nueva_lista_3 = countries"
      ],
      "metadata": {
        "id": "opQNA4i6XWuz"
      },
      "execution_count": 72,
      "outputs": []
    },
    {
      "cell_type": "code",
      "source": [
        "countries"
      ],
      "metadata": {
        "colab": {
          "base_uri": "https://localhost:8080/"
        },
        "id": "z4KdAI61XWqM",
        "outputId": "40f08f4a-84de-49c1-9145-d538a702b131"
      },
      "execution_count": 73,
      "outputs": [
        {
          "output_type": "execute_result",
          "data": {
            "text/plain": [
              "['India', 'China', 'Brazil', 'Argentina']"
            ]
          },
          "metadata": {},
          "execution_count": 73
        }
      ]
    },
    {
      "cell_type": "code",
      "source": [
        "nueva_lista_3"
      ],
      "metadata": {
        "colab": {
          "base_uri": "https://localhost:8080/"
        },
        "id": "5Ld9ideJXWlj",
        "outputId": "4301160e-eb40-42af-97c1-ad5d68df55d5"
      },
      "execution_count": 74,
      "outputs": [
        {
          "output_type": "execute_result",
          "data": {
            "text/plain": [
              "['India', 'China', 'Brazil', 'Argentina']"
            ]
          },
          "metadata": {},
          "execution_count": 74
        }
      ]
    },
    {
      "cell_type": "code",
      "source": [
        "nueva_lista = countries.copy()"
      ],
      "metadata": {
        "id": "_8hOxBcAXWhH"
      },
      "execution_count": 75,
      "outputs": []
    },
    {
      "cell_type": "code",
      "source": [
        "nueva_lista"
      ],
      "metadata": {
        "colab": {
          "base_uri": "https://localhost:8080/"
        },
        "id": "rRcleMrYXWcE",
        "outputId": "d06aae24-6dcd-4891-a552-4e9a92884ed3"
      },
      "execution_count": 76,
      "outputs": [
        {
          "output_type": "execute_result",
          "data": {
            "text/plain": [
              "['India', 'China', 'Brazil', 'Argentina']"
            ]
          },
          "metadata": {},
          "execution_count": 76
        }
      ]
    },
    {
      "cell_type": "code",
      "source": [
        "nueva_lista_2"
      ],
      "metadata": {
        "colab": {
          "base_uri": "https://localhost:8080/"
        },
        "id": "vyQcsYmxa_wm",
        "outputId": "0fd8c723-23e5-4a4c-c066-39c827e3769d"
      },
      "execution_count": 77,
      "outputs": [
        {
          "output_type": "execute_result",
          "data": {
            "text/plain": [
              "['India', 'China', 'Brazil', 'Argentina']"
            ]
          },
          "metadata": {},
          "execution_count": 77
        }
      ]
    },
    {
      "cell_type": "markdown",
      "source": [
        "# **5. Diccionario**\n",
        "\n",
        "Mutables"
      ],
      "metadata": {
        "id": "1eogvMNaa5h9"
      }
    },
    {
      "cell_type": "code",
      "source": [
        "mi_dictionary = {'key':'value1', 'key2':'value2'}"
      ],
      "metadata": {
        "id": "oCRPpfASXWWg"
      },
      "execution_count": 78,
      "outputs": []
    },
    {
      "cell_type": "code",
      "source": [
        "my_data = {'nombre':'Gladys', 'edad':26}"
      ],
      "metadata": {
        "id": "3BJn6vG3auKP"
      },
      "execution_count": 79,
      "outputs": []
    },
    {
      "cell_type": "code",
      "source": [
        "my_data"
      ],
      "metadata": {
        "colab": {
          "base_uri": "https://localhost:8080/"
        },
        "id": "UpBmcaoIauFy",
        "outputId": "ab286f80-45be-456b-dad0-ef4de98eb774"
      },
      "execution_count": 80,
      "outputs": [
        {
          "output_type": "execute_result",
          "data": {
            "text/plain": [
              "{'nombre': 'Gladys', 'edad': 26}"
            ]
          },
          "metadata": {},
          "execution_count": 80
        }
      ]
    },
    {
      "cell_type": "code",
      "source": [
        "my_data['nombre']"
      ],
      "metadata": {
        "colab": {
          "base_uri": "https://localhost:8080/",
          "height": 35
        },
        "id": "xUSYNBAzatyP",
        "outputId": "83ca7f13-ab71-4ec0-ffd0-fe2fc37cc975"
      },
      "execution_count": 81,
      "outputs": [
        {
          "output_type": "execute_result",
          "data": {
            "text/plain": [
              "'Gladys'"
            ],
            "application/vnd.google.colaboratory.intrinsic+json": {
              "type": "string"
            }
          },
          "metadata": {},
          "execution_count": 81
        }
      ]
    },
    {
      "cell_type": "code",
      "source": [
        "my_data.keys() # devolver toos los llaves que tiene el diccionaario"
      ],
      "metadata": {
        "colab": {
          "base_uri": "https://localhost:8080/"
        },
        "id": "jaR3StEjcFwS",
        "outputId": "a911c9dc-8c23-4db5-c2df-34fb6a708781"
      },
      "execution_count": 82,
      "outputs": [
        {
          "output_type": "execute_result",
          "data": {
            "text/plain": [
              "dict_keys(['nombre', 'edad'])"
            ]
          },
          "metadata": {},
          "execution_count": 82
        }
      ]
    },
    {
      "cell_type": "code",
      "source": [
        "my_data.values() # devuelve los valores el diccionario"
      ],
      "metadata": {
        "colab": {
          "base_uri": "https://localhost:8080/"
        },
        "id": "j_slTh4ob_6z",
        "outputId": "e8c95fbc-df12-4ae4-dcef-b06de102fa1c"
      },
      "execution_count": 83,
      "outputs": [
        {
          "output_type": "execute_result",
          "data": {
            "text/plain": [
              "dict_values(['Gladys', 26])"
            ]
          },
          "metadata": {},
          "execution_count": 83
        }
      ]
    },
    {
      "cell_type": "code",
      "source": [
        "#my_data.items() # devolver el item, par llave y valor"
      ],
      "metadata": {
        "colab": {
          "base_uri": "https://localhost:8080/"
        },
        "id": "3p5vPUpmb_1D",
        "outputId": "bcc2e9bc-18db-4734-fd22-977da1a6d8c1"
      },
      "execution_count": 84,
      "outputs": [
        {
          "output_type": "execute_result",
          "data": {
            "text/plain": [
              "dict_items([('nombre', 'Gladys'), ('edad', 26)])"
            ]
          },
          "metadata": {},
          "execution_count": 84
        }
      ]
    },
    {
      "cell_type": "code",
      "source": [
        "my_data={'nombre':'Gladys', 'edad':26}"
      ],
      "metadata": {
        "id": "dolG91TedTZW"
      },
      "execution_count": 85,
      "outputs": []
    },
    {
      "cell_type": "code",
      "source": [
        "my_data['estatura'] = 1.7  # agregar elemento al diccionario"
      ],
      "metadata": {
        "id": "sGlKXAmCdTTl"
      },
      "execution_count": 86,
      "outputs": []
    },
    {
      "cell_type": "code",
      "source": [
        "my_data"
      ],
      "metadata": {
        "colab": {
          "base_uri": "https://localhost:8080/"
        },
        "id": "fXW3R9TUdTOE",
        "outputId": "446ca921-89f7-4f61-ead9-a7fbe0e3418d"
      },
      "execution_count": 87,
      "outputs": [
        {
          "output_type": "execute_result",
          "data": {
            "text/plain": [
              "{'nombre': 'Gladys', 'edad': 26, 'estatura': 1.7}"
            ]
          },
          "metadata": {},
          "execution_count": 87
        }
      ]
    },
    {
      "cell_type": "code",
      "source": [
        "my_data.update({'estatura':1.8, 'lenguajes':['Ingles', 'Español']})"
      ],
      "metadata": {
        "id": "P786XNmpats6"
      },
      "execution_count": 88,
      "outputs": []
    },
    {
      "cell_type": "code",
      "source": [
        "my_data"
      ],
      "metadata": {
        "colab": {
          "base_uri": "https://localhost:8080/"
        },
        "id": "V3ozEd51eyRc",
        "outputId": "ae07b445-6c12-440f-d62d-aee0f528f28f"
      },
      "execution_count": 89,
      "outputs": [
        {
          "output_type": "execute_result",
          "data": {
            "text/plain": [
              "{'nombre': 'Gladys',\n",
              " 'edad': 26,\n",
              " 'estatura': 1.8,\n",
              " 'lenguajes': ['Ingles', 'Español']}"
            ]
          },
          "metadata": {},
          "execution_count": 89
        }
      ]
    },
    {
      "cell_type": "markdown",
      "source": [
        "# **5.1 Agregar/actualizar elementos**"
      ],
      "metadata": {
        "id": "3KiLuWVUnvjd"
      }
    },
    {
      "cell_type": "code",
      "source": [
        "my_data = {'nombre':'Frank', 'edad':26}"
      ],
      "metadata": {
        "id": "7T0Q-DoDiOgC"
      },
      "execution_count": 90,
      "outputs": []
    },
    {
      "cell_type": "code",
      "source": [
        "my_data['estatura'] = 1.7"
      ],
      "metadata": {
        "id": "o2VruJFliOZ7"
      },
      "execution_count": 91,
      "outputs": []
    },
    {
      "cell_type": "code",
      "source": [
        "my_data"
      ],
      "metadata": {
        "colab": {
          "base_uri": "https://localhost:8080/"
        },
        "id": "9YoHhw_ziMKF",
        "outputId": "07dbe046-d208-43b5-898f-877e9aab4921"
      },
      "execution_count": 92,
      "outputs": [
        {
          "output_type": "execute_result",
          "data": {
            "text/plain": [
              "{'nombre': 'Frank', 'edad': 26, 'estatura': 1.7}"
            ]
          },
          "metadata": {},
          "execution_count": 92
        }
      ]
    },
    {
      "cell_type": "code",
      "source": [
        "my_data.update({'estatura':1.8, 'lenguages':['Ingles', 'Español']})"
      ],
      "metadata": {
        "id": "W8xzlvtGiMCK"
      },
      "execution_count": 93,
      "outputs": []
    },
    {
      "cell_type": "code",
      "source": [
        "my_data"
      ],
      "metadata": {
        "colab": {
          "base_uri": "https://localhost:8080/"
        },
        "id": "_wvDZAUwiL85",
        "outputId": "f5a7ea08-a774-416a-96a2-210e38c9efe3"
      },
      "execution_count": 94,
      "outputs": [
        {
          "output_type": "execute_result",
          "data": {
            "text/plain": [
              "{'nombre': 'Frank',\n",
              " 'edad': 26,\n",
              " 'estatura': 1.8,\n",
              " 'lenguages': ['Ingles', 'Español']}"
            ]
          },
          "metadata": {},
          "execution_count": 94
        }
      ]
    },
    {
      "cell_type": "markdown",
      "source": [
        "# **5.2 Copiar un diccionario**"
      ],
      "metadata": {
        "id": "W5huNWA0o3Jv"
      }
    },
    {
      "cell_type": "code",
      "source": [
        "nuevo_diccionario = my_data.copy()"
      ],
      "metadata": {
        "id": "Z7akNqGfiL4e"
      },
      "execution_count": 95,
      "outputs": []
    },
    {
      "cell_type": "code",
      "source": [
        "nuevo_diccionario"
      ],
      "metadata": {
        "colab": {
          "base_uri": "https://localhost:8080/"
        },
        "id": "8paCezLOiLy2",
        "outputId": "2f985a71-e51c-414c-e534-49d02b03d3af"
      },
      "execution_count": 96,
      "outputs": [
        {
          "output_type": "execute_result",
          "data": {
            "text/plain": [
              "{'nombre': 'Frank',\n",
              " 'edad': 26,\n",
              " 'estatura': 1.8,\n",
              " 'lenguages': ['Ingles', 'Español']}"
            ]
          },
          "metadata": {},
          "execution_count": 96
        }
      ]
    },
    {
      "cell_type": "markdown",
      "source": [
        "# **5.3 Eliminar elementos**"
      ],
      "metadata": {
        "id": "lfycwdTNqOyT"
      }
    },
    {
      "cell_type": "code",
      "source": [
        "my_data"
      ],
      "metadata": {
        "colab": {
          "base_uri": "https://localhost:8080/"
        },
        "id": "oJve1RGUiLs5",
        "outputId": "b39292b4-02c1-4b73-9f75-91369c9e10db"
      },
      "execution_count": 97,
      "outputs": [
        {
          "output_type": "execute_result",
          "data": {
            "text/plain": [
              "{'nombre': 'Frank',\n",
              " 'edad': 26,\n",
              " 'estatura': 1.8,\n",
              " 'lenguages': ['Ingles', 'Español']}"
            ]
          },
          "metadata": {},
          "execution_count": 97
        }
      ]
    },
    {
      "cell_type": "code",
      "source": [
        "my_data.pop('estatura')"
      ],
      "metadata": {
        "id": "erg5_SmrptIU",
        "colab": {
          "base_uri": "https://localhost:8080/"
        },
        "outputId": "05588bc5-d5f1-4fa7-bfb6-c4d2d4997483"
      },
      "execution_count": 98,
      "outputs": [
        {
          "output_type": "execute_result",
          "data": {
            "text/plain": [
              "1.8"
            ]
          },
          "metadata": {},
          "execution_count": 98
        }
      ]
    },
    {
      "cell_type": "code",
      "source": [
        "my_data"
      ],
      "metadata": {
        "colab": {
          "base_uri": "https://localhost:8080/"
        },
        "id": "1uk93gAQquaD",
        "outputId": "d2363196-ff37-4ead-9f0d-a41f4a2b20e3"
      },
      "execution_count": 99,
      "outputs": [
        {
          "output_type": "execute_result",
          "data": {
            "text/plain": [
              "{'nombre': 'Frank', 'edad': 26, 'lenguages': ['Ingles', 'Español']}"
            ]
          },
          "metadata": {},
          "execution_count": 99
        }
      ]
    },
    {
      "cell_type": "code",
      "source": [
        "#como eliminar un iten en el diccionario\n",
        "del my_data['lenguages']"
      ],
      "metadata": {
        "id": "1UTrJGV3quVd"
      },
      "execution_count": 100,
      "outputs": []
    },
    {
      "cell_type": "code",
      "source": [
        "my_data"
      ],
      "metadata": {
        "colab": {
          "base_uri": "https://localhost:8080/"
        },
        "id": "MMDzx8AgquRT",
        "outputId": "ad6da27c-be69-4143-d666-3499227100cf"
      },
      "execution_count": 101,
      "outputs": [
        {
          "output_type": "execute_result",
          "data": {
            "text/plain": [
              "{'nombre': 'Frank', 'edad': 26}"
            ]
          },
          "metadata": {},
          "execution_count": 101
        }
      ]
    },
    {
      "cell_type": "code",
      "source": [
        "my_data.clear() #clear eleimina todos los itemn del diccionario"
      ],
      "metadata": {
        "id": "aFRNcgPYpsxK"
      },
      "execution_count": 102,
      "outputs": []
    },
    {
      "cell_type": "code",
      "source": [
        "my_data"
      ],
      "metadata": {
        "colab": {
          "base_uri": "https://localhost:8080/"
        },
        "id": "oDHJG0Weo0y6",
        "outputId": "db9fe6c5-0365-4b9c-b773-bcc295929654"
      },
      "execution_count": 103,
      "outputs": [
        {
          "output_type": "execute_result",
          "data": {
            "text/plain": [
              "{}"
            ]
          },
          "metadata": {},
          "execution_count": 103
        }
      ]
    },
    {
      "cell_type": "markdown",
      "source": [
        "# **Condicionales**\n"
      ],
      "metadata": {
        "id": "M-RPQp9brzTg"
      }
    },
    {
      "cell_type": "markdown",
      "source": [
        "# **6 If**"
      ],
      "metadata": {
        "id": "KC30ljODsFRt"
      }
    },
    {
      "cell_type": "code",
      "source": [
        "\"\"\"if <condition>:\n",
        "  <code>\n",
        "elif <condition>:\n",
        "  <code>\n",
        "...\n",
        "else:\n",
        "  <code>\"\"\"\n"
      ],
      "metadata": {
        "id": "cengeU--rNBS",
        "colab": {
          "base_uri": "https://localhost:8080/",
          "height": 35
        },
        "outputId": "9a32e58b-ffbe-44ec-fdb4-cb8692b00159"
      },
      "execution_count": null,
      "outputs": [
        {
          "output_type": "execute_result",
          "data": {
            "text/plain": [
              "'if <condition>:\\n  <code>\\nelif <condition>:\\n  <code>\\n...\\nelse:\\n  <code>'"
            ],
            "application/vnd.google.colaboratory.intrinsic+json": {
              "type": "string"
            }
          },
          "metadata": {},
          "execution_count": 104
        }
      ]
    },
    {
      "cell_type": "code",
      "source": [
        "#ejemplo extra\n",
        "rows=int(input(\"Enter number of rows:\"))\n",
        "k = 0\n",
        "for i in range(1, rows+1):\n",
        "  for space in range(1, (rows-i)+1):\n",
        "    print(end=\" \")\n",
        "  while k!=(2*i-1):\n",
        "    print(\"*\", end=\"\")\n",
        "    k+=1\n",
        "  k=0\n",
        "  print()"
      ],
      "metadata": {
        "colab": {
          "base_uri": "https://localhost:8080/"
        },
        "id": "t9xZtMhGrM9O",
        "outputId": "83568ed8-51a4-46f1-f063-d2e9f8e01c1d"
      },
      "execution_count": 104,
      "outputs": [
        {
          "output_type": "stream",
          "name": "stdout",
          "text": [
            "Enter number of rows:7\n",
            "      *\n",
            "     ***\n",
            "    *****\n",
            "   *******\n",
            "  *********\n",
            " ***********\n",
            "*************\n"
          ]
        }
      ]
    },
    {
      "cell_type": "code",
      "source": [
        "#ejemplo extra\n",
        "\n",
        "n = int(input())\n",
        "count = count1 = k = 0\n",
        "for i in range(1,n+1):\n",
        "  for j in range(1, n-i+1):\n",
        "    print(\"\", end = \"\")\n",
        "\n",
        "    count = count +1\n",
        "    while(k!=2*i-1):\n",
        "      if(count <= n-1):\n",
        "        print(i+k, end =\" \")\n",
        "        \n",
        "        count = count+1\n",
        "      else:\n",
        "        count1 = count+1\n",
        "        print((i+k-2*count1), end = \" \")\n",
        "        k = k+1\n",
        "        count1 = count = k=0\n",
        "\n",
        "\n",
        "          "
      ],
      "metadata": {
        "colab": {
          "base_uri": "https://localhost:8080/"
        },
        "id": "ASil2kaTfzCB",
        "outputId": "d4da39c5-b673-4d9e-aab7-659b87533ffc"
      },
      "execution_count": null,
      "outputs": [
        {
          "output_type": "stream",
          "name": "stdout",
          "text": [
            "5\n",
            "1 1 1 1 -11 1 1 1 1 1 -11 1 1 1 1 1 -11 1 1 1 1 1 -11 1 1 1 1 1 -11 1 1 1 1 1 -11 1 1 1 1 1 -11 1 1 1 1 1 -11 1 1 1 1 1 -11 1 1 1 1 1 -11 1 1 1 1 1 -11 1 1 1 1 1 -11 1 1 1 1 1 -11 1 1 1 1 1 -11 1 1 1 1 1 -11 1 1 1 1 1 -11 1 1 1 1 1 -11 1 1 1 1 1 -11 1 1 1 1 1 -11 1 1 1 1 1 -11 1 1 1 1 1 -11 1 1 1 1 1 -11 1 1 1 1 1 -11 1 1 1 1 1 -11 1 1 1 1 1 -11 1 1 1 1 1 -11 1 1 1 1 1 -11 1 1 1 1 1 -11 1 1 1 1 1 -11 1 1 1 1 1 -11 1 1 1 1 1 -11 1 1 1 1 1 -11 1 1 1 1 1 -11 1 1 1 1 1 -11 1 1 1 1 1 -11 1 1 1 1 1 -11 1 1 1 1 1 -11 1 1 1 1 1 -11 1 1 1 1 1 -11 1 1 1 1 1 -11 1 1 1 1 1 -11 1 1 1 1 1 -11 1 1 1 1 1 -11 1 1 1 1 1 -11 1 1 1 1 1 -11 1 1 1 1 1 -11 1 1 1 1 1 -11 1 1 1 1 1 -11 1 1 1 1 1 -11 1 1 1 1 1 -11 1 1 1 1 1 -11 1 1 1 1 1 -11 1 1 1 1 1 -11 1 1 1 1 1 -11 1 1 1 1 1 -11 1 1 1 1 1 -11 1 1 1 1 1 -11 1 1 1 1 1 -11 1 1 1 1 1 -11 1 1 1 1 1 -11 1 1 1 1 1 -11 1 1 1 1 1 -11 1 1 1 1 1 -11 1 1 1 1 1 -11 1 1 1 1 1 -11 1 1 1 1 1 -11 1 1 1 1 1 -11 1 1 1 1 1 -11 1 1 1 1 1 -11 1 1 1 1 1 -11 1 1 1 1 1 -11 1 1 1 1 1 -11 1 1 1 1 1 -11 1 1 1 1 1 -11 1 1 1 1 1 -11 1 1 1 1 1 -11 1 1 1 1 1 -11 1 1 1 1 1 -11 1 1 1 1 1 -11 1 1 1 1 1 -11 1 1 1 1 1 -11 1 1 1 1 1 -11 1 1 1 1 1 -11 1 1 1 1 1 -11 1 1 1 1 1 -11 1 1 1 1 1 -11 1 1 1 1 1 -11 1 1 1 1 1 -11 1 1 1 1 1 -11 1 1 1 1 1 -11 1 1 1 1 1 -11 1 1 1 1 1 -11 1 1 1 1 1 -11 1 1 1 1 1 -11 1 1 1 1 1 -11 1 1 1 1 1 -11 1 1 1 1 1 -11 1 1 1 1 1 -11 1 1 1 1 1 -11 1 1 1 1 1 -11 1 1 1 1 1 -11 1 1 1 1 1 -11 1 1 1 1 1 -11 1 1 1 1 1 -11 1 1 1 1 1 -11 1 1 1 1 1 -11 1 1 1 1 1 -11 1 1 1 1 1 -11 1 1 1 1 1 -11 1 1 1 1 1 -11 1 1 1 1 1 -11 1 1 1 1 1 -11 1 1 1 1 1 -11 1 1 1 1 1 -11 1 1 1 1 1 -11 1 1 1 1 1 -11 1 1 1 1 1 -11 1 1 1 1 1 -11 1 1 1 1 1 -11 1 1 1 1 1 -11 1 1 1 1 1 -11 1 1 1 1 1 -11 1 1 1 1 1 -11 1 1 1 1 1 -11 1 1 1 1 1 -11 1 1 1 1 1 -11 1 1 1 1 1 -11 1 1 1 1 1 -11 1 1 1 1 1 -11 1 1 1 1 1 -11 1 1 1 1 1 -11 1 1 1 1 1 -11 1 1 1 1 1 -11 1 1 1 1 1 -11 1 1 1 1 1 -11 1 1 1 1 1 -11 1 1 1 1 1 -11 1 1 1 1 1 -11 1 1 1 1 1 -11 1 1 1 1 1 -11 1 1 1 1 1 -11 1 1 1 1 1 -11 1 1 1 1 1 -11 1 1 1 1 1 -11 1 1 1 1 1 -11 1 1 1 1 1 -11 1 1 1 1 1 -11 1 1 1 1 1 -11 1 1 1 1 1 -11 1 1 1 1 1 -11 1 1 1 1 1 -11 1 1 1 1 1 -11 1 1 1 1 1 -11 1 1 1 1 1 -11 1 1 1 1 1 -11 1 1 1 1 1 -11 1 1 1 1 1 -11 1 1 1 1 1 -11 1 1 1 1 1 -11 1 1 1 1 1 -11 1 1 1 1 1 -11 1 1 1 1 1 -11 1 1 1 1 1 -11 1 1 1 1 1 -11 1 1 1 1 1 -11 1 1 1 1 1 -11 1 1 1 1 1 -11 1 1 1 1 1 -11 1 1 1 1 1 -11 1 1 1 1 1 -11 1 1 1 1 1 -11 1 1 1 1 1 -11 1 1 1 1 1 -11 1 1 1 1 1 -11 1 1 1 1 1 -11 1 1 1 1 1 -11 1 1 1 1 1 -11 1 1 1 1 1 -11 1 1 1 1 1 -11 1 1 1 1 1 -11 1 1 1 1 1 -11 1 1 1 1 1 -11 1 1 1 1 1 -11 1 1 1 1 1 -11 1 1 1 1 1 -11 1 1 1 1 1 -11 1 1 1 1 1 -11 1 1 1 1 1 -11 1 1 1 1 1 -11 1 1 1 1 1 -11 1 1 1 1 1 -11 1 1 1 1 1 -11 1 1 1 1 1 -11 1 1 1 1 1 -11 1 1 1 1 1 -11 1 1 1 1 1 -11 1 1 1 1 1 -11 1 1 1 1 1 -11 1 1 1 1 1 -11 1 1 1 1 1 -11 1 1 1 1 1 -11 1 1 1 1 1 -11 1 1 1 1 1 -11 1 1 1 1 1 -11 1 1 1 1 1 -11 1 1 1 1 1 -11 1 1 1 1 1 -11 1 1 1 1 1 -11 1 1 1 1 1 -11 1 1 1 1 1 -11 1 1 1 1 1 -11 1 1 1 1 1 -11 1 1 1 1 1 -11 1 1 1 1 1 -11 1 1 1 1 1 -11 1 1 1 1 1 -11 1 1 1 1 1 -11 1 1 1 1 1 -11 1 1 1 1 1 -11 1 1 1 1 1 -11 1 1 1 1 1 -11 1 1 1 1 1 -11 1 1 1 1 1 -11 1 1 1 1 1 -11 1 1 1 1 1 -11 1 1 1 1 1 -11 1 1 1 1 1 -11 1 1 1 1 1 -11 1 1 1 1 1 -11 1 1 1 1 1 -11 1 1 1 1 1 -11 1 1 1 1 1 -11 1 1 1 1 1 -11 1 1 1 1 1 -11 1 1 1 1 1 -11 1 1 1 1 1 -11 1 1 1 1 1 -11 1 1 1 1 1 -11 1 1 1 1 1 -11 1 1 1 1 1 -11 1 1 1 1 1 -11 1 1 1 1 1 -11 1 1 1 1 1 -11 1 1 1 1 1 -11 1 1 1 1 1 -11 1 1 1 1 1 -11 1 1 1 1 1 -11 1 1 1 1 1 -11 1 1 1 1 1 -11 1 1 1 1 1 -11 1 1 1 1 1 -11 1 1 1 1 1 -11 1 1 1 1 1 -11 1 1 1 1 1 -11 1 1 1 1 1 -11 1 1 1 1 1 -11 1 1 1 1 1 -11 1 1 1 1 1 -11 1 1 1 1 1 -11 1 1 1 1 1 -11 1 1 1 1 1 -11 1 1 1 1 1 -11 1 1 1 1 1 -11 1 1 1 1 1 -11 1 1 1 1 1 -11 1 1 1 1 1 -11 1 1 1 1 1 -11 1 1 1 1 1 -11 1 1 1 1 1 -11 1 1 1 1 1 -11 1 1 1 1 1 -11 1 1 1 1 1 -11 1 1 1 1 1 -11 1 1 1 1 1 -11 1 1 1 1 1 -11 1 1 1 1 1 -11 1 1 1 1 1 -11 1 1 1 1 1 -11 1 1 1 1 1 -11 1 1 1 1 1 -11 1 1 1 1 1 -11 1 1 1 1 1 -11 1 1 1 1 1 -11 1 1 1 1 1 -11 1 1 1 1 1 -11 1 1 1 1 1 -11 1 1 1 1 1 -11 1 1 1 1 1 -11 1 1 1 1 1 -11 1 1 1 1 1 -11 1 1 1 1 1 -11 1 1 1 1 1 -11 1 1 1 1 1 -11 1 1 1 1 1 -11 1 1 1 1 1 -11 1 1 1 1 1 -11 1 1 1 1 1 -11 1 1 1 1 1 -11 1 1 1 1 1 -11 1 1 1 1 1 -11 1 1 1 1 1 -11 1 1 1 1 1 -11 1 1 1 1 1 -11 1 1 1 1 1 -11 1 1 1 1 1 -11 1 1 1 1 1 -11 1 1 1 1 1 -11 1 1 1 1 1 -11 1 1 1 1 1 -11 1 1 1 1 1 -11 1 1 1 1 1 -11 1 1 1 1 1 -11 1 1 1 1 1 -11 1 1 1 1 1 -11 1 1 1 1 1 -11 1 1 1 1 1 -11 1 1 1 1 1 -11 1 1 1 1 1 -11 1 1 1 1 1 -11 1 1 1 1 1 -11 1 1 1 1 1 -11 1 1 1 1 1 -11 1 1 1 1 1 -11 1 1 1 1 1 -11 1 1 1 1 1 -11 1 1 1 1 1 -11 1 1 1 1 1 -11 1 1 1 1 1 -11 1 1 1 1 1 -11 1 1 1 1 1 -11 1 1 1 1 1 -11 1 1 1 1 1 -11 1 1 1 1 1 -11 1 1 1 1 1 -11 1 1 1 1 1 -11 1 1 1 1 1 -11 1 1 1 1 1 -11 1 1 1 1 1 -11 1 1 1 1 1 -11 1 1 1 1 1 -11 1 1 1 1 1 -11 1 1 1 1 1 -11 1 1 1 1 1 -11 1 1 1 1 1 -11 1 1 1 1 1 -11 1 1 1 1 1 -11 1 1 1 1 1 -11 1 1 1 1 1 -11 1 1 1 1 1 -11 1 1 1 1 1 -11 1 1 1 1 1 -11 1 1 1 1 1 -11 1 1 1 1 1 -11 1 1 1 1 1 -11 1 1 1 1 1 -11 1 1 1 1 1 -11 1 1 1 1 1 -11 1 1 1 1 1 -11 1 1 1 1 1 -11 1 1 1 1 1 -11 1 1 1 1 1 -11 1 1 1 1 1 -11 1 1 1 1 1 -11 1 1 1 1 1 -11 1 1 1 1 1 -11 1 1 1 1 1 -11 1 1 1 1 1 -11 1 1 1 1 1 -11 1 1 1 1 1 -11 1 1 1 1 1 -11 1 1 1 1 1 -11 1 1 1 1 1 -11 1 1 1 1 1 -11 1 1 1 1 1 -11 1 1 1 1 1 -11 1 1 1 1 1 -11 1 1 1 1 1 -11 1 1 1 1 1 -11 1 1 1 1 1 -11 1 1 1 1 1 -11 1 1 1 1 1 -11 1 1 1 1 1 -11 1 1 1 1 1 -11 1 1 1 1 1 -11 1 1 1 1 1 -11 1 1 1 1 1 -11 1 1 1 1 1 -11 1 1 1 1 1 -11 1 1 1 1 1 -11 1 1 1 1 1 -11 1 1 1 1 1 -11 1 1 1 1 1 -11 1 1 1 1 1 -11 1 1 1 1 1 -11 1 1 1 1 1 -11 1 1 1 1 1 -11 1 1 1 1 1 -11 1 1 1 1 1 -11 1 1 1 1 1 -11 1 1 1 1 1 -11 1 1 1 1 1 -11 1 1 1 1 1 -11 1 1 1 1 1 -11 1 1 1 1 1 -11 1 1 1 1 1 -11 1 1 1 1 1 -11 1 1 1 1 1 -11 1 1 1 1 1 -11 1 1 1 1 1 -11 1 1 1 1 1 -11 1 1 1 1 1 -11 1 1 1 1 1 -11 1 1 1 1 1 -11 1 1 1 1 1 -11 1 1 1 1 1 -11 1 1 1 1 1 -11 1 1 1 1 1 -11 1 1 1 1 1 -11 1 1 1 1 1 -11 1 1 1 1 1 -11 1 1 1 1 1 -11 1 1 1 1 1 -11 1 1 1 1 1 -11 1 1 1 1 1 -11 1 1 1 1 1 -11 1 1 1 1 1 -11 1 1 1 1 1 -11 1 1 1 1 1 -11 1 1 1 1 1 -11 1 1 1 1 1 -11 1 1 1 1 1 -11 1 1 1 1 1 -11 1 1 1 1 1 -11 1 1 1 1 1 -11 1 1 1 1 1 -11 1 1 1 1 1 -11 1 1 1 1 1 -11 1 1 1 1 1 -11 1 1 1 1 1 -11 1 1 1 1 1 -11 1 1 1 1 1 -11 1 1 1 1 1 -11 1 1 1 1 1 -11 1 1 1 1 1 -11 1 1 1 1 1 -11 1 1 1 1 1 -11 1 1 1 1 1 -11 1 1 1 1 1 -11 1 1 1 1 1 -11 1 1 1 1 1 -11 1 1 1 1 1 -11 1 1 1 1 1 -11 1 1 1 1 1 -11 1 1 1 1 1 -11 1 1 1 1 1 -11 1 1 1 1 1 -11 1 1 1 1 1 -11 1 1 1 1 1 -11 1 1 1 1 1 -11 1 1 1 1 1 -11 1 1 1 1 1 -11 1 1 1 1 1 -11 1 1 1 1 1 -11 1 1 1 1 1 -11 1 1 1 1 1 -11 1 1 1 1 1 -11 1 1 1 1 1 -11 1 1 1 1 1 -11 1 1 1 1 1 -11 1 1 1 1 1 -11 1 1 1 1 1 -11 1 1 1 1 1 -11 1 1 1 1 1 -11 1 1 1 1 1 -11 1 1 1 1 1 -11 1 1 1 1 1 -11 1 1 1 1 1 -11 1 1 1 1 1 -11 1 1 1 1 1 -11 1 1 1 1 1 -11 1 1 1 1 1 -11 1 1 1 1 1 -11 1 1 1 1 1 -11 1 1 1 1 1 -11 1 1 1 1 1 -11 1 1 1 1 1 -11 1 1 1 1 1 -11 1 1 1 1 1 -11 1 1 1 1 1 -11 1 1 1 1 1 -11 1 1 1 1 1 -11 1 1 1 1 1 -11 1 1 1 1 1 -11 1 1 1 1 1 -11 1 1 1 1 1 -11 1 1 1 1 1 -11 1 1 1 1 1 -11 1 1 1 1 1 -11 1 1 1 1 1 -11 1 1 1 1 1 -11 1 1 1 1 1 -11 1 1 1 1 1 -11 1 1 1 1 1 -11 1 1 1 1 1 -11 1 1 1 1 1 -11 1 1 1 1 1 -11 1 1 1 1 1 -11 1 1 1 1 1 -11 1 1 1 1 1 -11 1 1 1 1 1 -11 1 1 1 1 1 -11 1 1 1 1 1 -11 1 1 1 1 1 -11 1 1 1 1 1 -11 1 1 1 1 1 -11 1 1 1 1 1 -11 1 1 1 1 1 -11 1 1 1 1 1 -11 1 1 1 1 1 -11 1 1 1 1 1 -11 1 1 1 1 1 -11 1 1 1 1 1 -11 1 1 1 1 1 -11 1 1 1 1 1 -11 1 1 1 1 1 -11 1 1 1 1 1 -11 1 1 1 1 1 -11 1 1 1 1 1 -11 1 1 1 1 1 -11 1 1 1 1 1 -11 1 1 1 1 1 -11 1 1 1 1 1 -11 1 1 1 1 1 -11 1 1 1 1 1 -11 1 1 1 1 1 -11 1 1 1 1 1 -11 1 1 1 1 1 -11 1 1 1 1 1 -11 1 1 1 1 1 -11 1 1 1 1 1 -11 1 1 1 1 1 -11 1 1 1 1 1 -11 1 1 1 1 1 -11 1 1 1 1 1 -11 1 1 1 1 1 -11 1 1 1 1 1 -11 1 1 1 1 1 -11 1 1 1 1 1 -11 1 1 1 1 1 -11 1 1 1 1 1 -11 1 1 1 1 1 -11 1 1 1 1 1 -11 1 1 1 1 1 -11 1 1 1 1 1 -11 1 1 1 1 1 -11 1 1 1 1 1 -11 1 1 1 1 1 -11 1 1 1 1 1 -11 1 1 1 1 1 -11 1 1 1 1 1 -11 1 1 1 1 1 -11 1 1 1 1 1 -11 1 1 1 1 1 -11 1 1 1 1 1 -11 1 1 1 1 1 -11 1 1 1 1 1 -11 1 1 1 1 1 -11 1 1 1 1 1 -11 1 1 1 1 1 -11 1 1 1 1 1 -11 1 1 1 1 1 -11 1 1 1 1 1 -11 1 1 1 1 1 -11 1 1 1 1 1 -11 1 1 1 1 1 -11 1 1 1 1 1 -11 1 1 1 1 1 -11 1 1 1 1 1 -11 1 1 1 1 1 -11 1 1 1 1 1 -11 1 1 1 1 1 -11 1 1 1 1 1 -11 1 1 1 1 1 -11 1 1 1 1 1 -11 1 1 1 1 1 -11 1 1 1 1 1 -11 1 1 1 1 1 -11 1 1 1 1 1 -11 1 1 1 1 1 -11 1 1 1 1 1 -11 1 1 1 1 1 -11 1 1 1 1 1 -11 1 1 1 1 1 -11 1 1 1 1 1 -11 1 1 1 1 1 -11 1 1 1 1 1 -11 1 1 1 1 1 -11 1 1 1 1 1 -11 1 1 1 1 1 -11 1 1 1 1 1 -11 1 1 1 1 1 -11 1 1 1 1 1 -11 1 1 1 1 1 -11 1 1 1 1 1 -11 1 1 1 1 1 -11 1 1 1 1 1 -11 1 1 1 1 1 -11 1 1 1 1 1 -11 1 1 1 1 1 -11 1 1 1 1 1 -11 1 1 1 1 1 -11 1 1 1 1 1 -11 1 1 1 1 1 -11 1 1 1 1 1 -11 1 1 1 1 1 -11 1 1 1 1 1 -11 1 1 1 1 1 -11 1 1 1 1 1 -11 1 1 1 1 1 -11 1 1 1 1 1 -11 1 1 1 1 1 -11 1 1 1 1 1 -11 1 1 1 1 1 -11 1 1 1 1 1 -11 1 1 1 1 1 -11 1 1 1 1 1 -11 1 1 1 1 1 -11 1 1 1 1 1 -11 1 1 1 1 1 -11 1 1 1 1 1 -11 1 1 1 1 1 -11 1 1 1 1 1 -11 1 1 1 1 1 -11 1 1 1 1 1 -11 1 1 1 1 1 -11 1 1 1 1 1 -11 1 1 1 1 1 -11 1 1 1 1 1 -11 1 1 1 1 1 -11 1 1 1 1 1 -11 1 1 1 1 1 -11 1 1 1 1 1 -11 1 1 1 1 1 -11 1 1 1 1 1 -11 1 1 1 1 1 -11 1 1 1 1 1 -11 1 1 1 1 1 -11 1 1 1 1 1 -11 1 1 1 1 1 -11 1 1 1 1 1 -11 1 1 1 1 1 -11 1 1 1 1 1 -11 1 1 1 1 1 -11 1 1 1 1 1 -11 1 1 1 1 1 -11 1 1 1 1 1 -11 1 1 1 1 1 -11 1 1 1 1 1 -11 1 1 1 1 1 -11 1 1 1 1 1 -11 1 1 1 1 1 -11 1 1 1 1 1 -11 1 1 1 1 1 -11 1 1 1 1 1 -11 1 1 1 1 1 -11 1 1 1 1 1 -11 1 1 1 1 1 -11 1 1 1 1 1 -11 1 1 1 1 1 -11 1 1 1 1 1 -11 1 1 1 1 1 -11 1 1 1 1 1 -11 1 1 1 1 1 -11 1 1 1 1 1 -11 1 1 1 1 1 -11 1 1 1 1 1 -11 1 1 1 1 1 -11 1 1 1 1 1 -11 1 1 1 1 1 -11 1 1 1 1 1 -11 1 1 1 1 1 -11 1 1 1 1 1 -11 1 1 1 1 1 -11 1 1 1 1 1 -11 1 1 1 1 1 -11 1 1 1 1 1 -11 1 1 1 1 1 -11 1 1 1 1 1 -11 1 1 1 1 1 -11 1 1 1 1 1 -11 1 1 1 1 1 -11 1 1 1 1 1 -11 1 1 1 1 1 -11 1 1 1 1 1 -11 1 1 1 1 1 -11 1 1 1 1 1 -11 1 1 1 1 1 -11 1 1 1 1 1 -11 1 1 1 1 1 -11 1 1 1 1 1 -11 1 1 1 1 1 -11 1 1 1 1 1 -11 1 1 1 1 1 -11 1 1 1 1 1 -11 1 1 1 1 1 -11 1 1 1 1 1 -11 1 1 1 1 1 -11 1 1 1 1 1 -11 1 1 1 1 1 -11 1 1 1 1 1 -11 1 1 1 1 1 -11 1 1 1 1 1 -11 1 1 1 1 1 -11 1 1 1 1 1 -11 1 1 1 1 1 -11 1 1 1 1 1 -11 1 1 1 1 1 -11 1 1 1 1 1 -11 1 1 1 1 1 -11 1 1 1 1 1 -11 1 1 1 1 1 -11 1 1 1 1 1 -11 1 1 1 1 1 -11 1 1 1 1 1 -11 1 1 1 1 1 -11 1 1 1 1 1 -11 1 1 1 1 1 -11 1 1 1 1 1 -11 1 1 1 1 1 -11 1 1 1 1 1 -11 1 1 1 1 1 -11 1 1 1 1 1 -11 1 1 1 1 1 -11 1 1 1 1 1 -11 1 1 1 1 1 -11 1 1 1 1 1 -11 1 1 1 1 1 -11 1 1 1 1 1 -11 1 1 1 1 1 -11 1 1 1 1 1 -11 1 1 1 1 1 -11 1 1 1 1 1 -11 1 1 1 1 1 -11 1 1 1 1 1 -11 1 1 1 1 1 -11 1 1 1 1 1 -11 1 1 1 1 1 -11 1 1 1 1 1 -11 1 1 1 1 1 -11 1 1 1 1 1 -11 1 1 1 1 1 -11 1 1 1 1 1 -11 1 1 1 1 1 -11 1 1 1 1 1 -11 1 1 1 1 1 -11 1 1 1 1 1 -11 1 1 1 1 1 -11 1 1 1 1 1 -11 1 1 1 1 1 -11 1 1 1 1 1 -11 1 1 1 1 1 -11 1 1 1 1 1 -11 1 1 1 1 1 -11 1 1 1 1 1 -11 1 1 1 1 1 -11 1 1 1 1 1 -11 1 1 1 1 1 -11 1 1 1 1 1 -11 1 1 1 1 1 -11 1 1 1 1 1 -11 1 1 1 1 1 -11 1 1 1 1 1 -11 1 1 1 1 1 -11 1 1 1 1 1 -11 1 1 1 1 1 -11 1 1 1 1 1 -11 1 1 1 1 1 -11 1 1 1 1 1 -11 1 1 1 1 1 -11 1 1 1 1 1 -11 1 1 1 1 1 -11 1 1 1 1 1 -11 1 1 1 1 1 -11 1 1 1 1 1 -11 1 1 1 1 1 -11 1 1 1 1 1 -11 1 1 1 1 1 -11 1 1 1 1 1 -11 1 1 1 1 1 -11 1 1 1 1 1 -11 1 1 1 1 1 -11 1 1 1 1 1 -11 1 1 1 1 1 -11 1 1 1 1 1 -11 1 1 1 1 1 -11 1 1 1 1 1 -11 1 1 1 1 1 -11 1 1 1 1 1 -11 1 1 1 1 1 -11 1 1 1 1 1 -11 1 1 1 1 1 -11 1 1 1 1 1 -11 1 1 1 1 1 -11 1 1 1 1 1 -11 1 1 1 1 1 -11 1 1 1 1 1 -11 1 1 1 1 1 -11 1 1 1 1 1 -11 1 1 1 1 1 -11 1 1 1 1 1 -11 1 1 1 1 1 -11 1 1 1 1 1 -11 1 1 1 1 1 -11 1 1 1 1 1 -11 1 1 1 1 1 -11 1 1 1 1 1 -11 1 1 1 1 1 -11 1 1 1 1 1 -11 1 1 1 1 1 -11 1 1 1 1 1 -11 1 1 1 1 1 -11 1 1 1 1 1 -11 1 1 1 1 1 -11 1 1 1 1 1 -11 1 1 1 1 1 -11 1 1 1 1 1 -11 1 1 1 1 1 -11 1 1 1 1 1 -11 1 1 1 1 1 -11 1 1 1 1 1 -11 1 1 1 1 1 -11 1 1 1 1 1 -11 1 1 1 1 1 -11 1 1 1 1 1 -11 1 1 1 1 1 -11 1 1 1 1 1 -11 1 1 1 1 1 -11 1 1 1 1 1 -11 1 1 1 1 1 -11 1 1 1 1 1 -11 1 1 1 1 1 -11 1 1 1 1 1 -11 1 1 1 1 1 -11 1 1 1 1 1 -11 1 1 1 1 1 -11 1 1 1 1 1 -11 1 1 1 1 1 -11 1 1 1 1 1 -11 1 1 1 1 1 -11 1 1 1 1 1 -11 1 1 1 1 1 -11 1 1 1 1 1 -11 1 1 1 1 1 -11 1 1 1 1 1 -11 1 1 1 1 1 -11 1 1 1 1 1 -11 1 1 1 1 1 -11 1 1 1 1 1 -11 1 1 1 1 1 -11 1 1 1 1 1 -11 1 1 1 1 1 -11 1 1 1 1 1 -11 1 1 1 1 1 -11 1 1 1 1 1 -11 1 1 1 1 1 -11 1 1 1 1 1 -11 1 1 1 1 1 -11 1 1 1 1 1 -11 1 1 1 1 1 -11 1 1 1 1 1 -11 1 1 1 1 1 -11 1 1 1 1 1 -11 1 1 1 1 1 -11 1 1 1 1 1 -11 1 1 1 1 1 -11 1 1 1 1 1 -11 1 1 1 1 1 -11 1 1 1 1 1 -11 1 1 1 1 1 -11 1 1 1 1 1 -11 1 1 1 1 1 -11 1 1 1 1 1 -11 1 1 1 1 1 -11 1 1 1 1 1 -11 1 1 1 1 1 -11 1 1 1 1 1 -11 1 1 1 1 1 -11 1 1 1 1 1 -11 1 1 1 1 1 -11 1 1 1 1 1 -11 1 1 1 1 1 -11 1 1 1 1 1 -11 1 1 1 1 1 -11 1 1 1 1 1 -11 1 1 1 1 1 -11 1 1 1 1 1 -11 1 1 1 1 1 -11 1 1 1 1 1 -11 1 1 1 1 1 -11 1 1 1 1 1 -11 1 1 1 1 1 -11 1 1 1 1 1 -11 1 1 1 1 1 -11 1 1 1 1 1 -11 1 1 1 1 1 -11 1 1 1 1 1 -11 1 1 1 1 1 -11 1 1 1 1 1 -11 1 1 1 1 1 -11 1 1 1 1 1 -11 1 1 1 1 1 -11 1 1 1 1 1 -11 1 1 1 1 1 -11 1 1 1 1 1 -11 1 1 1 1 1 -11 1 1 1 1 1 -11 1 1 1 1 1 -11 1 1 1 1 1 -11 1 1 1 1 1 -11 1 1 1 1 1 -11 1 1 1 1 1 -11 1 1 1 1 1 -11 1 1 1 1 1 -11 1 1 1 1 1 -11 1 1 1 1 1 -11 1 1 1 1 1 -11 1 1 1 1 1 -11 1 1 1 1 1 -11 1 1 1 1 1 -11 1 1 1 1 1 -11 1 1 1 1 1 -11 1 1 1 1 1 -11 1 1 1 1 1 -11 1 1 1 1 1 -11 1 1 1 1 1 -11 1 1 1 1 1 -11 1 1 1 1 1 -11 1 1 1 1 1 -11 1 1 1 1 1 -11 1 1 1 1 1 -11 1 1 1 1 1 -11 1 1 1 1 1 -11 1 1 1 1 1 -11 1 1 1 1 1 -11 1 1 1 1 1 -11 1 1 1 1 1 -11 1 1 1 1 1 -11 1 1 1 1 1 -11 1 1 1 1 1 -11 1 1 1 1 1 -11 1 1 1 1 1 -11 1 1 1 1 1 -11 1 1 1 1 1 -11 1 1 1 1 1 -11 1 1 1 1 1 -11 1 1 1 1 1 -11 1 1 1 1 1 -11 1 1 1 1 1 -11 1 1 1 1 1 -11 1 1 1 1 1 -11 1 1 1 1 1 -11 1 1 1 1 1 -11 1 1 1 1 1 -11 1 1 1 1 1 -11 1 1 1 1 1 -11 1 1 1 1 1 -11 1 1 1 1 1 -11 1 1 1 1 1 -11 1 1 1 1 1 -11 1 1 1 1 1 -11 1 1 1 1 1 -11 1 1 1 1 1 -11 1 1 1 1 1 -11 1 1 1 1 1 -11 1 1 1 1 1 -11 1 1 1 1 1 -11 1 1 1 1 1 -11 1 1 1 1 1 -11 1 1 1 1 1 -11 1 1 1 1 1 -11 1 1 1 1 1 -11 1 1 1 1 1 -11 1 1 1 1 1 -11 1 1 1 1 1 -11 1 1 1 1 1 -11 1 1 1 1 1 -11 1 1 1 1 1 -11 1 1 1 1 1 -11 1 1 1 1 1 -11 1 1 1 1 1 -11 1 1 1 1 1 -11 1 1 1 1 1 -11 1 1 1 1 1 -11 1 1 1 1 1 -11 1 1 1 1 1 -11 1 1 1 1 1 -11 1 1 1 1 1 -11 1 1 1 1 1 -11 1 1 1 1 1 -11 1 1 1 1 1 -11 1 1 1 1 1 -11 1 1 1 1 1 -11 1 1 1 1 1 -11 1 1 1 1 1 -11 1 1 1 1 1 -11 1 1 1 1 1 -11 1 1 1 1 1 -11 1 1 1 1 1 -11 1 1 1 1 1 -11 1 1 1 1 1 -11 1 1 1 1 1 -11 1 1 1 1 1 -11 1 1 1 1 1 -11 1 1 1 1 1 -11 1 1 1 1 1 -11 1 1 1 1 1 -11 1 1 1 1 1 -11 1 1 1 1 1 -11 1 1 1 1 1 -11 1 1 1 1 1 -11 1 1 1 1 1 -11 1 1 1 1 1 -11 1 1 1 1 1 -11 1 1 1 1 1 -11 1 1 1 1 1 -11 1 1 1 1 1 -11 1 1 1 1 1 -11 1 1 1 1 1 -11 1 1 1 1 1 -11 1 1 1 1 1 -11 1 1 1 1 1 -11 1 1 1 1 1 -11 1 1 1 1 1 -11 1 1 1 1 1 -11 1 1 1 1 1 -11 1 1 1 1 1 -11 1 1 1 1 1 -11 1 1 1 1 1 -11 1 1 1 1 1 -11 1 1 1 1 1 -11 1 1 1 1 1 -11 1 1 1 1 1 -11 1 1 1 1 1 -11 1 1 1 1 1 -11 1 1 1 1 1 -11 1 1 1 1 1 -11 1 1 1 1 1 -11 1 1 1 1 1 -11 1 1 1 1 1 -11 1 1 1 1 1 -11 1 1 1 1 1 -11 1 1 1 1 1 -11 1 1 1 1 1 -11 1 1 1 1 1 -11 1 1 1 1 1 -11 1 1 1 1 1 -11 1 1 1 1 1 -11 1 1 1 1 1 -11 1 1 1 1 1 -11 1 1 1 1 1 -11 1 1 1 1 1 -11 1 1 1 1 1 -11 1 1 1 1 1 -11 1 1 1 1 1 -11 1 1 1 1 1 -11 1 1 1 1 1 -11 1 1 1 1 1 -11 1 1 1 1 1 -11 1 1 1 1 1 -11 1 1 1 1 1 -11 1 1 1 1 1 -11 1 1 1 1 1 -11 1 1 1 1 1 -11 1 1 1 1 1 -11 1 1 1 1 1 -11 1 1 1 1 1 -11 1 1 1 1 1 -11 1 1 1 1 1 -11 1 1 1 1 1 -11 1 1 1 1 1 -11 1 1 1 1 1 -11 1 1 1 1 1 -11 1 1 1 1 1 -11 1 1 1 1 1 -11 1 1 1 1 1 -11 1 1 1 1 1 -11 1 1 1 1 1 -11 1 1 1 1 1 -11 1 1 1 1 1 -11 1 1 1 1 1 -11 1 1 1 1 1 -11 1 1 1 1 1 -11 1 1 1 1 1 -11 1 1 1 1 1 -11 1 1 1 1 1 -11 1 1 1 1 1 -11 1 1 1 1 1 -11 1 1 1 1 1 -11 1 1 1 1 1 -11 1 1 1 1 1 -11 1 1 1 1 1 -11 1 1 1 1 1 -11 1 1 1 1 1 -11 1 1 1 1 1 -11 1 1 1 1 1 -11 1 1 1 1 1 -11 1 1 1 1 1 -11 1 1 1 1 1 -11 1 1 1 1 1 -11 1 1 1 1 1 -11 1 1 1 1 1 -11 1 1 1 1 1 -11 1 1 1 1 1 -11 1 1 1 1 1 -11 1 1 1 1 1 -11 1 1 1 1 1 -11 1 1 1 1 1 -11 1 1 1 1 1 -11 1 1 1 1 1 -11 1 1 1 1 1 -11 1 1 1 1 1 -11 1 1 1 1 1 -11 1 1 1 1 1 -11 1 1 1 1 1 -11 1 1 1 1 1 -11 1 1 1 1 1 -11 1 1 1 1 1 -11 1 1 1 1 1 -11 1 1 1 1 1 -11 1 1 1 1 1 -11 1 1 1 1 1 -11 1 1 1 1 1 -11 1 1 1 1 1 -11 1 1 1 1 1 -11 1 1 1 1 1 -11 1 1 1 1 1 -11 1 1 1 1 1 -11 1 1 1 1 1 -11 1 1 1 1 1 -11 1 1 1 1 1 -11 1 1 1 1 1 -11 1 1 1 1 1 -11 1 1 1 1 1 -11 1 1 1 1 1 -11 1 1 1 1 1 -11 1 1 1 1 1 -11 1 1 1 1 1 -11 1 1 1 1 1 -11 1 1 1 1 1 -11 1 1 1 1 1 -11 1 1 1 1 1 -11 1 1 1 1 1 -11 1 1 1 1 1 -11 1 1 1 1 1 -11 1 1 1 1 1 -11 1 1 1 1 1 -11 1 1 1 1 1 -11 1 1 1 1 1 -11 1 1 1 1 1 -11 1 1 1 1 1 -11 1 1 1 1 1 -11 1 1 1 1 1 -11 1 1 1 1 1 -11 1 1 1 1 1 -11 1 1 1 1 1 -11 1 1 1 1 1 -11 1 1 1 1 1 -11 1 1 1 1 1 -11 1 1 1 1 1 -11 1 1 1 1 1 -11 1 1 1 1 1 -11 1 1 1 1 1 -11 1 1 1 1 1 -11 1 1 1 1 1 -11 1 1 1 1 1 -11 1 1 1 1 1 -11 1 1 1 1 1 -11 1 1 1 1 1 -11 1 1 1 1 1 -11 1 1 1 1 1 -11 1 1 1 1 1 -11 1 1 1 1 1 -11 1 1 1 1 1 -11 1 1 1 1 1 -11 1 1 1 1 1 -11 1 1 1 1 1 -11 1 1 1 1 1 -11 1 1 1 1 1 -11 1 1 1 1 1 -11 1 1 1 1 1 -11 1 1 1 1 1 -11 1 1 1 1 1 -11 1 1 1 1 1 -11 1 1 1 1 1 -11 1 1 1 1 1 -11 1 1 1 1 1 -11 1 1 1 1 1 -11 1 1 1 1 1 -11 1 1 1 1 1 -11 1 1 1 1 1 -11 1 1 1 1 1 -11 1 1 1 1 1 -11 1 1 1 1 1 -11 1 1 1 1 1 -11 1 1 1 1 1 -11 1 1 1 1 1 -11 1 1 1 1 1 -11 1 1 1 1 1 -11 1 1 1 1 1 -11 1 1 1 1 1 -11 1 1 1 1 1 -11 1 1 1 1 1 -11 1 1 1 1 1 -11 1 1 1 1 1 -11 1 1 1 1 1 -11 1 1 1 1 1 -11 1 1 1 1 1 -11 1 1 1 1 1 -11 1 1 1 1 1 -11 1 1 1 1 1 -11 1 1 1 1 1 -11 1 1 1 1 1 -11 1 1 1 1 1 -11 1 1 1 1 1 -11 1 1 1 1 1 -11 1 1 1 1 1 -11 1 1 1 1 1 -11 1 1 1 1 1 -11 1 1 1 1 1 -11 1 1 1 1 1 -11 1 1 1 1 1 -11 1 1 1 1 1 -11 1 1 1 1 1 -11 1 1 1 1 1 -11 1 1 1 1 1 -11 1 1 1 1 1 -11 1 1 1 1 1 -11 1 1 1 1 1 -11 1 1 1 1 1 -11 1 1 1 1 1 -11 1 1 1 1 1 -11 1 1 1 1 1 -11 1 1 1 1 1 -11 1 1 1 1 1 -11 1 1 1 1 1 -11 1 1 1 1 1 -11 1 1 1 1 1 -11 1 1 1 1 1 -11 1 1 1 1 1 -11 1 1 1 1 1 -11 1 1 1 1 1 -11 1 1 1 1 1 -11 1 1 1 1 1 -11 1 1 1 1 1 -11 1 1 1 1 1 -11 1 1 1 1 1 -11 1 1 1 1 1 -11 1 1 1 1 1 -11 1 1 1 1 1 -11 1 1 1 1 1 -11 1 1 1 1 1 -11 1 1 1 1 1 -11 1 1 1 1 1 -11 1 1 1 1 1 -11 1 1 1 1 1 -11 1 1 1 1 1 -11 1 1 1 1 1 -11 1 1 1 1 1 -11 1 1 1 1 1 -11 1 1 1 1 1 -11 1 1 1 1 1 -11 1 1 1 1 1 -11 1 1 1 1 1 -11 1 1 1 1 1 -11 1 1 1 1 1 -11 1 1 1 1 1 -11 1 1 1 1 1 -11 1 1 1 1 1 -11 1 1 1 1 1 -11 1 1 1 1 1 -11 1 1 1 1 1 -11 1 1 1 1 1 -11 1 1 1 1 1 -11 1 1 1 1 1 -11 1 1 1 1 1 -11 1 1 1 1 1 -11 1 1 1 1 1 -11 1 1 1 1 1 -11 1 1 1 1 1 -11 1 1 1 1 1 -11 1 1 1 1 1 -11 1 1 1 1 1 -11 1 1 1 1 1 -11 1 1 1 1 1 -11 1 1 1 1 1 -11 1 1 1 1 1 -11 1 1 1 1 1 -11 1 1 1 1 1 -11 1 1 1 1 1 -11 1 1 1 1 1 -11 1 1 1 1 1 -11 1 1 1 1 1 -11 1 1 1 1 1 -11 1 1 1 1 1 -11 1 1 1 1 1 -11 1 1 1 1 1 -11 1 1 1 1 1 -11 1 1 1 1 1 -11 1 1 1 1 1 -11 1 1 1 1 1 -11 1 1 1 1 1 -11 1 1 1 1 1 -11 1 1 1 1 1 -11 1 1 1 1 1 -11 1 1 1 1 1 -11 1 1 1 1 1 -11 1 1 1 1 1 -11 1 1 1 1 1 -11 1 1 1 1 1 -11 1 1 1 1 1 -11 1 1 1 1 1 -11 1 1 1 1 1 -11 1 1 1 1 1 -11 1 1 1 1 1 -11 1 1 1 1 1 -11 1 1 1 1 1 -11 1 1 1 1 1 -11 1 1 1 1 1 -11 1 1 1 1 1 -11 1 1 1 1 1 -11 1 1 1 1 1 -11 1 1 1 1 1 -11 1 1 1 1 1 -11 1 1 1 1 1 -11 1 1 1 1 1 -11 1 1 1 1 1 -11 1 1 1 1 1 -11 1 1 1 1 1 -11 1 1 1 1 1 -11 1 1 1 1 1 -11 1 1 1 1 1 -11 1 1 1 1 1 -11 1 1 1 1 1 -11 1 1 1 1 1 -11 1 1 1 1 1 -11 1 1 1 1 1 -11 1 1 1 1 1 -11 1 1 1 1 1 -11 1 1 1 1 1 -11 1 1 1 1 1 -11 1 1 1 1 1 -11 1 1 1 1 1 -11 1 1 1 1 1 -11 1 1 1 1 1 -11 1 1 1 1 1 -11 1 1 1 1 1 -11 1 1 1 1 1 -11 1 1 1 1 1 -11 1 1 1 1 1 -11 1 1 1 1 1 -11 1 1 1 1 1 -11 1 1 1 1 1 -11 1 1 1 1 1 -11 1 1 1 1 1 -11 1 1 1 1 1 -11 1 1 1 1 1 -11 1 1 1 1 1 -11 1 1 1 1 1 -11 1 1 1 1 1 -11 1 1 1 1 1 -11 1 1 1 1 1 -11 1 1 1 1 1 -11 1 1 1 1 1 -11 1 1 1 1 1 -11 1 1 1 1 1 -11 1 1 1 1 1 -11 1 1 1 1 1 -11 1 1 1 1 1 -11 1 1 1 1 1 -11 1 1 1 1 1 -11 1 1 1 1 1 -11 1 1 1 1 1 -11 1 1 1 1 1 -11 1 1 1 1 1 -11 1 1 1 1 1 -11 1 1 1 1 1 -11 1 1 1 1 1 -11 1 1 1 1 1 -11 1 1 1 1 1 -11 1 1 1 1 1 -11 1 1 1 1 1 -11 1 1 1 1 1 -11 1 1 1 1 1 -11 1 1 1 1 1 -11 1 1 1 1 1 -11 1 1 1 1 1 -11 1 1 1 1 1 -11 1 1 1 1 1 -11 1 1 1 1 1 -11 1 1 1 1 1 -11 1 1 1 1 1 -11 1 1 1 1 1 -11 1 1 1 1 1 -11 1 1 1 1 1 -11 1 1 1 1 1 -11 1 1 1 1 1 -11 1 1 1 1 1 -11 1 1 1 1 1 -11 1 1 1 1 1 -11 1 1 1 1 1 -11 1 1 1 1 1 -11 1 1 1 1 1 -11 1 1 1 1 1 -11 1 1 1 1 1 -11 1 1 1 1 1 -11 1 1 1 1 1 -11 1 1 1 1 1 -11 1 1 1 1 1 -11 1 1 1 1 1 -11 1 1 1 1 1 -11 1 1 1 1 1 -11 1 1 1 1 1 -11 1 1 1 1 1 -11 1 1 1 1 1 -11 1 1 1 1 1 -11 1 1 1 1 1 -11 1 1 1 1 1 -11 1 1 1 1 1 -11 1 1 1 1 1 -11 1 1 1 1 1 -11 1 1 1 1 1 -11 1 1 1 1 1 -11 1 1 1 1 1 -11 1 1 1 1 1 -11 1 1 1 1 1 -11 1 1 1 1 1 -11 1 1 1 1 1 -11 1 1 1 1 1 -11 1 1 1 1 1 -11 1 1 1 1 1 -11 1 1 1 1 1 -11 1 1 1 1 1 -11 1 1 1 1 1 -11 1 1 1 1 1 -11 1 1 1 1 1 -11 1 1 1 1 1 -11 1 1 1 1 1 -11 1 1 1 1 1 -11 1 1 1 1 1 -11 1 1 1 1 1 -11 1 1 1 1 1 -11 1 1 1 1 1 -11 1 1 1 1 1 -11 1 1 1 1 1 -11 1 1 1 1 1 -11 1 1 1 1 1 -11 1 1 1 1 1 -11 1 1 1 1 1 -11 1 1 1 1 1 -11 1 1 1 1 1 -11 1 1 1 1 1 -11 1 1 1 1 1 -11 1 1 1 1 1 -11 1 1 1 1 1 -11 1 1 1 1 1 -11 1 1 1 1 1 -11 1 1 1 1 1 -11 1 1 1 1 1 -11 1 1 1 1 1 -11 1 1 1 1 1 -11 1 1 1 1 1 -11 1 1 1 1 1 -11 1 1 1 1 1 -11 1 1 1 1 1 -11 1 1 1 1 1 -11 1 1 1 1 1 -11 1 1 1 1 1 -11 1 1 1 1 1 -11 1 1 1 1 1 -11 1 1 1 1 1 -11 1 1 1 1 1 -11 1 1 1 1 1 -11 1 1 1 1 1 -11 1 1 1 1 1 -11 1 1 1 1 1 -11 1 1 1 1 1 -11 1 1 1 1 1 -11 1 1 1 1 1 -11 1 1 1 1 1 -11 1 1 1 1 1 -11 1 1 1 1 1 -11 1 1 1 1 1 -11 1 1 1 1 1 -11 1 1 1 1 1 -11 1 1 1 1 1 -11 1 1 1 1 1 -11 1 1 1 1 1 -11 1 1 1 1 1 -11 1 1 1 1 1 -11 1 1 1 1 1 -11 1 1 1 1 1 -11 1 1 1 1 1 -11 1 1 1 1 1 -11 1 1 1 1 1 -11 1 1 1 1 1 -11 1 1 1 1 1 -11 1 1 1 1 1 -11 1 1 1 1 1 -11 1 1 1 1 1 -11 1 1 1 1 1 -11 1 1 1 1 1 -11 1 1 1 1 1 -11 1 1 1 1 1 -11 1 1 1 1 1 -11 1 1 1 1 1 -11 1 1 1 1 1 -11 1 1 1 1 1 -11 1 1 1 1 1 -11 1 1 1 1 1 -11 1 1 1 1 1 -11 1 1 1 1 1 -11 1 1 1 1 1 -11 1 1 1 1 1 -11 1 1 1 1 1 -11 1 1 1 1 1 -11 1 1 1 1 1 -11 1 1 1 1 1 -11 1 1 1 1 1 -11 1 1 1 1 1 -11 1 1 1 1 1 -11 1 1 1 1 1 -11 1 1 1 1 1 -11 1 1 1 1 1 -11 1 1 1 1 1 -11 1 1 1 1 1 -11 1 1 1 1 1 -11 1 1 1 1 1 -11 1 1 1 1 1 -11 1 1 1 1 1 -11 1 1 1 1 1 -11 1 1 1 1 1 -11 1 1 1 1 1 -11 1 1 1 1 1 -11 1 1 1 1 1 -11 1 1 1 1 1 -11 1 1 1 1 1 -11 1 1 1 1 1 -11 1 1 1 1 1 -11 1 1 1 1 1 -11 1 1 1 1 1 -11 1 1 1 1 1 -11 1 1 1 1 1 -11 1 1 1 1 1 -11 1 1 1 1 1 -11 1 1 1 1 1 -11 1 1 1 1 1 -11 1 1 1 1 1 -11 1 1 1 1 1 -11 1 1 1 1 1 -11 1 1 1 1 1 -11 1 1 1 1 1 -11 1 1 1 1 1 -11 1 1 1 1 1 -11 1 1 1 1 1 -11 1 1 1 1 1 -11 1 1 1 1 1 -11 1 1 1 1 1 -11 1 1 1 1 1 -11 1 1 1 1 1 -11 1 1 1 1 1 -11 1 1 1 1 1 -11 1 1 1 1 1 -11 1 1 1 1 1 -11 1 1 1 1 1 -11 1 1 1 1 1 -11 1 1 1 1 1 -11 1 1 1 1 1 -11 1 1 1 1 1 -11 1 1 1 1 1 -11 1 1 1 1 1 -11 1 1 1 1 1 -11 1 1 1 1 1 -11 1 1 1 1 1 -11 1 1 1 1 1 -11 1 1 1 1 1 -11 1 1 1 1 1 -11 1 1 1 1 1 -11 1 1 1 1 1 -11 1 1 1 1 1 -11 1 1 1 1 1 -11 1 1 1 1 1 -11 1 1 1 1 1 -11 1 1 1 1 1 -11 1 1 1 1 1 -11 1 1 1 1 1 -11 1 1 1 1 1 -11 1 1 1 1 1 -11 1 1 1 1 1 -11 1 1 1 1 1 -11 1 1 1 1 1 -11 1 1 1 1 1 -11 1 1 1 1 1 -11 1 1 1 1 1 -11 1 1 1 1 1 -11 1 1 1 1 1 -11 1 1 1 1 1 -11 1 1 1 1 1 -11 1 1 1 1 1 -11 1 1 1 1 1 -11 1 1 1 1 1 -11 1 1 1 1 1 -11 1 1 1 1 1 -11 1 1 1 1 1 -11 1 1 1 1 1 -11 1 1 1 1 1 -11 1 1 1 1 1 -11 1 1 1 1 1 -11 1 1 1 1 1 -11 1 1 1 1 1 -11 1 1 1 1 1 -11 1 1 1 1 1 -11 1 1 1 1 1 -11 1 1 1 1 1 -11 1 1 1 1 1 -11 1 1 1 1 1 -11 1 1 1 1 1 -11 1 1 1 1 1 -11 1 1 1 1 1 -11 1 1 1 1 1 -11 1 1 1 1 1 -11 1 1 1 1 1 -11 1 1 1 1 1 -11 1 1 1 1 1 -11 1 1 1 1 1 -11 1 1 1 1 1 -11 1 1 1 1 1 -11 1 1 1 1 1 -11 1 1 1 1 1 -11 1 1 1 1 1 -11 1 1 1 1 1 -11 1 1 1 1 1 -11 1 1 1 1 1 -11 1 1 1 1 1 -11 1 1 1 1 1 -11 1 1 1 1 1 -11 1 1 1 1 1 -11 1 1 1 1 1 -11 1 1 1 1 1 -11 1 1 1 1 1 -11 1 1 1 1 1 -11 1 1 1 1 1 -11 1 1 1 1 1 -11 1 1 1 1 1 -11 1 1 1 1 1 -11 1 1 1 1 1 -11 1 1 1 1 1 -11 1 1 1 1 1 -11 1 1 1 1 1 -11 1 1 1 1 1 -11 1 1 1 1 1 -11 1 1 1 1 1 -11 1 1 1 1 1 -11 1 1 1 1 1 -11 1 1 1 1 1 -11 1 1 1 1 1 -11 1 1 1 1 1 -11 1 1 1 1 1 -11 1 1 1 1 1 -11 1 1 1 1 1 -11 1 1 1 1 1 -11 1 1 1 1 1 -11 1 1 1 1 1 -11 1 1 1 1 1 -11 1 1 1 1 1 -11 1 1 1 1 1 -11 1 1 1 1 1 -11 1 1 1 1 1 -11 1 1 1 1 1 -11 1 1 1 1 1 -11 1 1 1 1 1 -11 1 1 1 1 1 -11 1 1 1 1 1 -11 1 1 1 1 1 -11 1 1 1 1 1 -11 1 1 1 1 1 -11 1 1 1 1 1 -11 1 1 1 1 1 -11 1 1 1 1 1 -11 1 1 1 1 1 -11 1 1 1 1 1 -11 1 1 1 1 1 -11 1 1 1 1 1 -11 1 1 1 1 1 -11 1 1 1 1 1 -11 1 1 1 1 1 -11 1 1 1 1 1 -11 1 1 1 1 1 -11 1 1 1 1 1 -11 1 1 1 1 1 -11 1 1 1 1 1 -11 1 1 1 1 1 -11 1 1 1 1 1 -11 1 1 1 1 1 -11 1 1 1 1 1 -11 1 1 1 1 1 -11 1 1 1 1 1 -11 1 1 1 1 1 -11 1 1 1 1 1 -11 1 1 1 1 1 -11 1 1 1 1 1 -11 1 1 1 1 1 -11 1 1 1 1 1 -11 1 1 1 1 1 -11 1 1 1 1 1 -11 1 1 1 1 1 -11 1 1 1 1 1 -11 1 1 1 1 1 -11 1 1 1 1 1 -11 1 1 1 1 1 -11 1 1 1 1 1 -11 1 1 1 1 1 -11 1 1 1 1 1 -11 1 1 1 1 1 -11 1 1 1 1 1 -11 1 1 1 1 1 -11 1 1 1 1 1 -11 1 1 1 1 1 -11 1 1 1 1 1 -11 1 1 1 1 1 -11 1 1 1 1 1 -11 1 1 1 1 1 -11 1 1 1 1 1 -11 1 1 1 1 1 -11 1 1 1 1 1 -11 1 1 1 1 1 -11 1 1 1 1 1 -11 1 1 1 1 1 -11 1 1 1 1 1 -11 1 1 1 1 1 -11 1 1 1 1 1 -11 1 1 1 1 1 -11 1 1 1 1 1 -11 1 1 1 1 1 -11 1 1 1 1 1 -11 1 1 1 1 1 -11 1 1 1 1 1 -11 1 1 1 1 1 -11 1 1 1 1 1 -11 1 1 1 1 1 -11 1 1 1 1 1 -11 1 1 1 1 1 -11 1 1 1 1 1 -11 1 1 1 1 1 -11 1 1 1 1 1 -11 1 1 1 1 1 -11 1 1 1 1 1 -11 1 1 1 1 1 -11 1 1 1 1 1 -11 1 1 1 1 1 -11 1 1 1 1 1 -11 1 1 1 1 1 -11 1 1 1 1 1 -11 1 1 1 1 1 -11 1 1 1 1 1 -11 1 1 1 1 1 -11 1 1 1 1 1 -11 1 1 1 1 1 -11 1 1 1 1 1 -11 1 1 1 1 1 -11 1 1 1 1 1 -11 1 1 1 1 1 -11 1 1 1 1 1 -11 1 1 1 1 1 -11 1 1 1 1 1 -11 1 1 1 1 1 -11 1 1 1 1 1 -11 1 1 1 1 1 -11 1 1 1 1 1 -11 1 1 1 1 1 -11 1 1 1 1 1 -11 1 1 1 1 1 -11 1 1 1 1 1 -11 1 1 1 1 1 -11 1 1 1 1 1 -11 1 1 1 1 1 -11 1 1 1 1 1 -11 1 1 1 1 1 -11 1 1 1 1 1 -11 1 1 1 1 1 -11 1 1 1 1 1 -11 1 1 1 1 1 -11 1 1 1 1 1 -11 1 1 1 1 1 -11 1 1 1 1 1 -11 1 1 1 1 1 -11 1 1 1 1 1 -11 1 1 1 1 1 -11 1 1 1 1 1 -11 1 1 1 1 1 -11 1 1 1 1 1 -11 1 1 1 1 1 -11 1 1 1 1 1 -11 1 1 1 1 1 -11 1 1 1 1 1 -11 1 1 1 1 1 -11 1 1 1 1 1 -11 1 1 1 1 1 -11 1 1 1 1 1 -11 1 1 1 1 1 -11 1 1 1 1 1 -11 1 1 1 1 1 -11 1 1 1 1 1 -11 1 1 1 1 1 -11 1 1 1 1 1 -11 1 1 1 1 1 -11 1 1 1 1 1 -11 1 1 1 1 1 -11 1 1 1 1 1 -11 1 1 1 1 1 -11 1 1 1 1 1 -11 1 1 1 1 1 -11 1 1 1 1 1 -11 1 1 1 1 1 -11 1 1 1 1 1 -11 1 1 1 1 1 -11 1 1 1 1 1 -11 1 1 1 1 1 -11 1 1 1 1 1 -11 1 1 1 1 1 -11 1 1 1 1 1 -11 1 1 1 1 1 -11 1 1 1 1 1 -11 1 1 1 1 1 -11 1 1 1 1 1 -11 1 1 1 1 1 -11 1 1 1 1 1 -11 1 1 1 1 1 -11 1 1 1 1 1 -11 1 1 1 1 1 -11 1 1 1 1 1 -11 1 1 1 1 1 -11 1 1 1 1 1 -11 1 1 1 1 1 -11 1 1 1 1 1 -11 1 1 1 1 1 -11 1 1 1 1 1 -11 1 1 1 1 1 -11 1 1 1 1 1 -11 1 1 1 1 1 -11 1 1 1 1 1 -11 1 1 1 1 1 -11 1 1 1 1 1 -11 1 1 1 1 1 -11 1 1 1 1 1 -11 1 1 1 1 1 -11 1 1 1 1 1 -11 1 1 1 1 1 -11 1 1 1 1 1 -11 1 1 1 1 1 -11 1 1 1 1 1 -11 1 1 1 1 1 -11 1 1 1 1 1 -11 1 1 1 1 1 -11 1 1 1 1 1 -11 1 1 1 1 1 -11 1 1 1 1 1 -11 1 1 1 1 1 -11 1 1 1 1 1 -11 1 1 1 1 1 -11 1 1 1 1 1 -11 1 1 1 1 1 -11 1 1 1 1 1 -11 1 1 1 1 1 -11 1 1 1 1 1 -11 1 1 1 1 1 -11 1 1 1 1 1 -11 1 1 1 1 1 -11 1 1 1 1 1 -11 1 1 1 1 1 -11 1 1 1 1 1 -11 1 1 1 1 1 -11 1 1 1 1 1 -11 1 1 1 1 1 -11 1 1 1 1 1 -11 1 1 1 1 1 -11 1 1 1 1 1 -11 1 1 1 1 1 -11 1 1 1 1 1 -11 1 1 1 1 1 -11 1 1 1 1 1 -11 1 1 1 1 1 -11 1 1 1 1 1 -11 1 1 1 1 1 -11 1 1 1 1 1 -11 1 1 1 1 1 -11 1 1 1 1 1 -11 1 1 1 1 1 -11 1 1 1 1 1 -11 1 1 1 1 1 -11 1 1 1 1 1 -11 1 1 1 1 1 -11 1 1 1 1 1 -11 1 1 1 1 1 -11 1 1 1 1 1 -11 1 1 1 1 1 -11 1 1 1 1 1 -11 1 1 1 1 1 -11 1 1 1 1 1 -11 1 1 1 1 1 -11 1 1 1 1 1 -11 1 1 1 1 1 -11 1 1 1 1 1 -11 1 1 1 1 1 -11 1 1 1 1 1 -11 1 1 1 1 1 -11 1 1 1 1 1 -11 1 1 1 1 1 -11 1 1 1 1 1 -11 1 1 1 1 1 -11 1 1 1 1 1 -11 1 1 1 1 1 -11 1 1 1 1 1 -11 1 1 1 1 1 -11 1 1 1 1 1 -11 1 1 1 1 1 -11 1 1 1 1 1 -11 1 1 1 1 1 -11 1 1 1 1 1 -11 1 1 1 1 1 -11 1 1 1 1 1 -11 1 1 1 1 1 -11 1 1 1 1 1 -11 1 1 1 1 1 -11 1 1 1 1 1 -11 1 1 1 1 1 -11 1 1 1 1 1 -11 1 1 1 1 1 -11 1 1 1 1 1 -11 1 1 1 1 1 -11 1 1 1 1 1 -11 1 1 1 1 1 -11 1 1 1 1 1 -11 1 1 1 1 1 -11 1 1 1 1 1 -11 1 1 1 1 1 -11 1 1 1 1 1 -11 1 1 1 1 1 -11 1 1 1 1 1 -11 1 1 1 1 1 -11 1 1 1 1 1 -11 1 1 1 1 1 -11 1 1 1 1 1 -11 1 1 1 1 1 -11 1 1 1 1 1 -11 1 1 1 1 1 -11 1 1 1 1 1 -11 1 1 1 1 1 -11 1 1 1 1 1 -11 1 1 1 1 1 -11 1 1 1 1 1 -11 1 1 1 1 1 -11 1 1 1 1 1 -11 1 1 1 1 1 -11 1 1 1 1 1 -11 1 1 1 1 1 -11 1 1 1 1 1 -11 1 1 1 1 1 -11 1 1 1 1 1 -11 1 1 1 1 1 -11 1 1 1 1 1 -11 1 1 1 1 1 -11 1 1 1 1 1 -11 1 1 1 1 1 -11 1 1 1 1 1 -11 1 1 1 1 1 -11 1 1 1 1 1 -11 1 1 1 1 1 -11 1 1 1 1 1 -11 1 1 1 1 1 -11 1 1 1 1 1 -11 1 1 1 1 1 -11 1 1 1 1 1 -11 1 1 1 1 1 -11 1 1 1 1 1 -11 1 1 1 1 1 -11 1 1 1 1 1 -11 1 1 1 1 1 -11 1 1 1 1 1 -11 1 1 1 1 1 -11 1 1 1 1 1 -11 1 1 1 1 1 -11 1 1 1 1 1 -11 1 1 1 1 1 -11 1 1 1 1 1 -11 1 1 1 1 1 -11 1 1 1 1 1 -11 1 1 1 1 1 -11 1 1 1 1 1 -11 1 1 1 1 1 -11 1 1 1 1 1 -11 1 1 1 1 1 -11 1 1 1 1 1 -11 1 1 1 1 1 -11 1 1 1 1 1 -11 1 1 1 1 1 -11 1 1 1 1 1 -11 1 1 1 1 1 -11 1 1 1 1 1 -11 1 1 1 1 1 -11 1 1 1 1 1 -11 1 1 1 1 1 -11 1 1 1 1 1 -11 1 1 1 1 1 -11 1 1 1 1 1 -11 1 1 1 1 1 -11 1 1 1 1 1 -11 1 1 1 1 1 -11 1 1 1 1 1 -11 1 1 1 1 1 -11 1 1 1 1 1 -11 1 1 1 1 1 -11 1 1 1 1 1 -11 1 1 1 1 1 -11 1 1 1 1 1 -11 1 1 1 1 1 -11 1 1 1 1 1 -11 1 1 1 1 1 -11 1 1 1 1 1 -11 1 1 1 1 1 -11 1 1 1 1 1 -11 1 1 1 1 1 -11 1 1 1 1 1 -11 1 1 1 1 1 -11 1 1 1 1 1 -11 1 1 1 1 1 -11 1 1 1 1 1 -11 1 1 1 1 1 -11 1 1 1 1 1 -11 1 1 1 1 1 -11 1 1 1 1 1 -11 1 1 1 1 1 -11 1 1 1 1 1 -11 1 1 1 1 1 -11 1 1 1 1 1 -11 1 1 1 1 1 -11 1 1 1 1 1 -11 1 1 1 1 1 -11 1 1 1 1 1 -11 1 1 1 1 1 -11 1 1 1 1 1 -11 1 1 1 1 1 -11 1 1 1 1 1 -11 1 1 1 1 1 -11 1 1 1 1 1 -11 1 1 1 1 1 -11 1 1 1 1 1 -11 1 1 1 1 1 -11 1 1 1 1 1 -11 1 1 1 1 1 -11 1 1 1 1 1 -11 1 1 1 1 1 -11 1 1 1 1 1 -11 1 1 1 1 1 -11 1 1 1 1 1 -11 1 1 1 1 1 -11 1 1 1 1 1 -11 1 1 1 1 1 -11 1 1 1 1 1 -11 1 1 1 1 1 -11 1 1 1 1 1 -11 1 1 1 1 1 -11 1 1 1 1 1 -11 1 1 1 1 1 -11 1 1 1 1 1 -11 1 1 1 1 1 -11 1 1 1 1 1 -11 1 1 1 1 1 -11 1 1 1 1 1 -11 1 1 1 1 1 -11 1 1 1 1 1 -11 1 1 1 1 1 -11 1 1 1 1 1 -11 1 1 1 1 1 -11 1 1 1 1 1 -11 1 1 1 1 1 -11 1 1 1 1 1 -11 1 1 1 1 1 -11 1 1 1 1 1 -11 1 1 1 1 1 -11 1 1 1 1 1 -11 1 1 1 1 1 -11 1 1 1 1 1 -11 1 1 1 1 1 -11 1 1 1 1 1 -11 1 1 1 1 1 -11 1 1 1 1 1 -11 1 1 1 1 1 -11 1 1 1 1 1 -11 1 1 1 1 1 -11 1 1 1 1 1 -11 1 1 1 1 1 -11 1 1 1 1 1 -11 1 1 1 1 1 -11 1 1 1 1 1 -11 1 1 1 1 1 -11 1 1 1 1 1 -11 1 1 1 1 1 -11 1 1 1 1 1 -11 1 1 1 1 1 -11 1 1 1 1 1 -11 1 1 1 1 1 -11 1 1 1 1 1 -11 1 1 1 1 1 -11 1 1 1 1 1 -11 1 1 1 1 1 -11 1 1 1 1 1 -11 1 1 1 1 1 -11 1 1 1 1 1 -11 1 1 1 1 1 -11 1 1 1 1 1 -11 1 1 1 1 1 -11 1 1 1 1 1 -11 1 1 1 1 1 -11 1 1 1 1 1 -11 1 1 1 1 1 -11 1 1 1 1 1 -11 1 1 1 1 1 -11 1 1 1 1 1 -11 1 1 1 1 1 -11 1 1 1 1 1 -11 1 1 1 1 1 -11 1 1 1 1 1 -11 1 1 1 1 1 -11 1 1 1 1 1 -11 1 1 1 1 1 -11 1 1 1 1 1 -11 1 1 1 1 1 -11 1 1 1 1 1 -11 1 1 1 1 1 -11 1 1 1 1 1 -11 1 1 1 1 1 -11 1 1 1 1 1 -11 1 1 1 1 1 -11 1 1 1 1 1 -11 1 1 1 1 1 -11 1 1 1 1 1 -11 1 1 1 1 1 -11 1 1 1 1 1 -11 1 1 1 1 1 -11 1 1 1 1 1 -11 1 1 1 1 1 -11 1 1 1 1 1 -11 1 1 1 1 1 -11 1 1 1 1 1 -11 1 1 1 1 1 -11 1 1 1 1 1 -11 1 1 1 1 1 -11 1 1 1 1 1 -11 1 1 1 1 1 -11 1 1 1 1 1 -11 1 1 1 1 1 -11 1 1 1 1 1 -11 1 1 1 1 1 -11 1 1 1 1 1 -11 1 1 1 1 1 -11 1 1 1 1 1 -11 1 1 1 1 1 -11 1 1 1 1 1 -11 1 1 1 1 1 -11 1 1 1 1 1 -11 1 1 1 1 1 -11 1 1 1 1 1 -11 1 1 1 1 1 -11 1 1 1 1 1 -11 1 1 1 1 1 -11 1 1 1 1 1 -11 1 1 1 1 1 -11 1 1 1 1 1 -11 1 1 1 1 1 -11 1 1 1 1 1 -11 1 1 1 1 1 -11 1 1 1 1 1 -11 1 1 1 1 1 -11 1 1 1 1 1 -11 1 1 1 1 1 -11 1 1 1 1 1 -11 1 1 1 1 1 -11 1 1 1 1 1 -11 1 1 1 1 1 -11 1 1 1 1 1 -11 1 1 1 1 1 -11 1 1 1 1 1 -11 1 1 1 1 1 -11 1 1 1 1 1 -11 1 1 1 1 1 -11 1 1 1 1 1 -11 1 1 1 1 1 -11 1 1 1 1 1 -11 1 1 1 1 1 -11 1 1 1 1 1 -11 1 1 1 1 1 -11 1 1 1 1 1 -11 1 1 1 1 1 -11 1 1 1 1 1 -11 1 1 1 1 1 -11 1 1 1 1 1 -11 1 1 1 1 1 -11 1 1 1 1 1 -11 1 1 1 1 1 -11 1 1 1 1 1 -11 1 1 1 1 1 -11 1 1 1 1 1 -11 1 1 1 1 1 -11 1 1 1 1 1 -11 1 1 1 1 1 -11 1 1 1 1 1 -11 1 1 1 1 1 -11 1 1 1 1 1 -11 1 1 1 1 1 -11 1 1 1 1 1 -11 1 1 1 1 1 -11 1 1 1 1 1 -11 1 1 1 1 1 -11 1 1 1 1 1 -11 1 1 1 1 1 -11 1 1 1 1 1 -11 1 1 1 1 1 -11 1 1 1 1 1 -11 1 1 1 1 1 -11 1 1 1 1 1 -11 1 1 1 1 1 -11 1 1 1 1 1 -11 1 1 1 1 1 -11 1 1 1 1 1 -11 1 1 1 1 1 -11 1 1 1 1 1 -11 1 1 1 1 1 -11 1 1 1 1 1 -11 1 1 1 1 1 -11 1 1 1 1 1 -11 1 1 1 1 1 -11 1 1 1 1 1 -11 1 1 1 1 1 -11 1 1 1 1 1 -11 1 1 1 1 1 -11 1 1 1 1 1 -11 1 1 1 1 1 -11 1 1 1 1 1 -11 1 1 1 1 1 -11 1 1 1 1 1 -11 1 1 1 1 1 -11 1 1 1 1 1 -11 1 1 1 1 1 -11 1 1 1 1 1 -11 1 1 1 1 1 -11 1 1 1 1 1 -11 1 1 1 1 1 -11 1 1 1 1 1 -11 1 1 1 1 1 -11 1 1 1 1 1 -11 1 1 1 1 1 -11 1 1 1 1 1 -11 1 1 1 1 1 -11 1 1 1 1 1 -11 1 1 1 1 1 -11 1 1 1 1 1 -11 1 1 1 1 1 -11 1 1 1 1 1 -11 1 1 1 1 1 -11 1 1 1 1 1 -11 1 1 1 1 1 -11 1 1 1 1 1 -11 1 1 1 1 1 -11 1 1 1 1 1 -11 1 1 1 1 1 -11 1 1 1 1 1 -11 1 1 1 1 1 -11 1 1 1 1 1 -11 1 1 1 1 1 -11 1 1 1 1 1 -11 1 1 1 1 1 -11 1 1 1 1 1 -11 1 1 1 1 1 -11 1 1 1 1 1 -11 1 1 1 1 1 -11 1 1 1 1 1 -11 1 1 1 1 1 -11 1 1 1 1 1 -11 1 1 1 1 1 -11 1 1 1 1 1 -11 1 1 1 1 1 -11 1 1 1 1 1 -11 1 1 1 1 1 -11 1 1 1 1 1 -11 1 1 1 1 1 -11 1 1 1 1 1 -11 1 1 1 1 1 -11 1 1 1 1 1 -11 1 1 1 1 1 -11 1 1 1 1 1 -11 1 1 1 1 1 -11 1 1 1 1 1 -11 1 1 1 1 1 -11 1 1 1 1 1 -11 1 1 1 1 1 -11 1 1 1 1 1 -11 1 1 1 1 1 -11 1 1 1 1 1 -11 1 1 1 1 1 -11 1 1 1 1 1 -11 1 1 1 1 1 -11 1 1 1 1 1 -11 1 1 1 1 1 -11 1 1 1 1 1 -11 1 1 1 1 1 -11 1 1 1 1 1 -11 1 1 1 1 1 -11 1 1 1 1 1 -11 1 1 1 1 1 -11 1 1 1 1 1 -11 1 1 1 1 1 -11 1 1 1 1 1 -11 1 1 1 1 1 -11 1 1 1 1 1 -11 1 1 1 1 1 -11 1 1 1 1 1 -11 1 1 1 1 1 -11 1 1 1 1 1 -11 1 1 1 1 1 -11 1 1 1 1 1 -11 1 1 1 1 1 -11 1 1 1 1 1 -11 1 1 1 1 1 -11 1 1 1 1 1 -11 1 1 1 1 1 -11 1 1 1 1 1 -11 1 1 1 1 1 -11 1 1 1 1 1 -11 1 1 1 1 1 -11 1 1 1 1 1 -11 1 1 1 1 1 -11 1 1 1 1 1 -11 1 1 1 1 1 -11 1 1 1 1 1 -11 1 1 1 1 1 -11 1 1 1 1 1 -11 1 1 1 1 1 -11 1 1 1 1 1 -11 1 1 1 1 1 -11 1 1 1 1 1 -11 1 1 1 1 1 -11 1 1 1 1 1 -11 1 1 1 1 1 -11 1 1 1 1 1 -11 1 1 1 1 1 -11 1 1 1 1 1 -11 1 1 1 1 1 -11 1 1 1 1 1 -11 1 1 1 1 1 -11 1 1 1 1 1 -11 1 1 1 1 1 -11 1 1 1 1 1 -11 1 1 1 1 1 -11 1 1 1 1 1 -11 1 1 1 1 1 -11 1 1 1 1 1 -11 1 1 1 1 1 -11 1 1 1 1 1 -11 1 1 1 1 1 -11 1 1 1 1 1 -11 1 1 1 1 1 -11 1 1 1 1 1 -11 1 1 1 1 1 -11 1 1 1 1 1 -11 1 1 1 1 1 -11 1 1 1 1 1 -11 1 1 1 1 1 -11 1 1 1 1 1 -11 1 1 1 1 1 -11 1 1 1 1 1 -11 1 1 1 1 1 -11 1 1 1 1 1 -11 1 1 1 1 1 -11 1 1 1 1 1 -11 1 1 1 1 1 -11 1 1 1 1 1 -11 1 1 1 1 1 -11 1 1 1 1 1 -11 1 1 1 1 1 -11 1 1 1 1 1 -11 1 1 1 1 1 -11 1 1 1 1 1 -11 1 1 1 1 1 -11 1 1 1 1 1 -11 1 1 1 1 1 -11 1 1 1 1 1 -11 1 1 1 1 1 -11 1 1 1 1 1 -11 1 1 1 1 1 -11 1 1 1 1 1 -11 1 1 1 1 1 -11 1 1 1 1 1 -11 1 1 1 1 1 -11 1 1 1 1 1 -11 1 1 1 1 1 -11 1 1 1 1 1 -11 1 1 1 1 1 -11 1 1 1 1 1 -11 1 1 1 1 1 -11 1 1 1 1 1 -11 1 1 1 1 1 -11 1 1 1 1 1 -11 1 1 1 1 1 -11 1 1 1 1 1 -11 1 1 1 1 1 -11 1 1 1 1 1 -11 1 1 1 1 1 -11 1 1 1 1 1 -11 1 1 1 1 1 -11 1 1 1 1 1 -11 1 1 1 1 1 -11 1 1 1 1 1 -11 1 1 1 1 1 -11 1 1 1 1 1 -11 1 1 1 1 1 -11 1 1 1 1 1 -11 1 1 1 1 1 -11 1 1 1 1 1 -11 1 1 1 1 1 -11 1 1 1 1 1 -11 1 1 1 1 1 -11 1 1 1 1 1 -11 1 1 1 1 1 -11 1 1 1 1 1 -11 1 1 1 1 1 -11 1 1 1 1 1 -11 1 1 1 1 1 -11 1 1 1 1 1 -11 1 1 1 1 1 -11 1 1 1 1 1 -11 1 1 1 1 1 -11 1 1 1 1 1 -11 1 1 1 1 1 -11 1 1 1 1 1 -11 1 1 1 1 1 -11 1 1 1 1 1 -11 1 1 1 1 1 -11 1 1 1 1 1 -11 1 1 1 1 1 -11 1 1 1 1 1 -11 1 1 1 1 1 -11 1 1 1 1 1 -11 1 1 1 1 1 -11 1 1 1 1 1 -11 1 1 1 1 1 -11 1 1 1 1 1 -11 1 1 1 1 1 -11 1 1 1 1 1 -11 1 1 1 1 1 -11 1 1 1 1 1 -11 1 1 1 1 1 -11 1 1 1 1 1 -11 1 1 1 1 1 -11 1 1 1 1 1 -11 1 1 1 1 1 -11 1 1 1 1 1 -11 1 1 1 1 1 -11 1 1 1 1 1 -11 1 1 1 1 1 -11 1 1 1 1 1 -11 1 1 1 1 1 -11 1 1 1 1 1 -11 1 1 1 1 1 -11 1 1 1 1 1 -11 1 1 1 1 1 -11 1 1 1 1 1 -11 1 1 1 1 1 -11 1 1 1 1 1 -11 1 1 1 1 1 -11 1 1 1 1 1 -11 1 1 1 1 1 -11 1 1 1 1 1 -11 1 1 1 1 1 -11 1 1 1 1 1 -11 1 1 1 1 1 -11 1 1 1 1 1 -11 1 1 1 1 1 -11 1 1 1 1 1 -11 1 1 1 1 1 -11 1 1 1 1 1 -11 1 1 1 1 1 -11 1 1 1 1 1 -11 1 1 1 1 1 -11 1 1 1 1 1 -11 1 1 1 1 1 -11 1 1 1 1 1 -11 1 1 1 1 1 -11 1 1 1 1 1 -11 1 1 1 1 1 -11 1 1 1 1 1 -11 1 1 1 1 1 -11 1 1 1 1 1 -11 1 1 1 1 1 -11 1 1 1 1 1 -11 1 1 1 1 1 -11 1 1 1 1 1 -11 1 1 1 1 1 -11 1 1 1 1 1 -11 1 1 1 1 1 -11 1 1 1 1 1 -11 1 1 1 1 1 -11 1 1 1 1 1 -11 1 1 1 1 1 -11 1 1 1 1 1 -11 1 1 1 1 1 -11 1 1 1 1 1 -11 1 1 1 1 1 -11 1 1 1 1 1 -11 1 1 1 1 1 -11 1 1 1 1 1 -11 1 1 1 1 1 -11 1 1 1 1 1 -11 1 1 1 1 1 -11 1 1 1 1 1 -11 1 1 1 1 1 -11 1 1 1 1 1 -11 1 1 1 1 1 -11 1 1 1 1 1 -11 1 1 1 1 1 -11 1 1 1 1 1 -11 1 1 1 1 1 -11 1 1 1 1 1 -11 1 1 1 1 1 -11 1 1 1 1 1 -11 1 1 1 1 1 -11 1 1 1 1 1 -11 1 1 1 1 1 -11 1 1 1 1 1 -11 1 1 1 1 1 -11 1 1 1 1 1 -11 1 1 1 1 1 -11 1 1 1 1 1 -11 1 1 1 1 1 -11 1 1 1 1 1 -11 1 1 1 1 1 -11 1 1 1 1 1 -11 1 1 1 1 1 -11 1 1 1 1 1 -11 1 1 1 1 1 -11 1 1 1 1 1 -11 1 1 1 1 1 -11 1 1 1 1 1 -11 1 1 1 1 1 -11 1 1 1 1 1 -11 1 1 1 1 1 -11 1 1 1 1 1 -11 1 1 1 1 1 -11 1 1 1 1 1 -11 1 1 1 1 1 -11 1 1 1 1 1 -11 1 1 1 1 1 -11 1 1 1 1 1 -11 1 1 1 1 1 -11 1 1 1 1 1 -11 1 1 1 1 1 -11 1 1 1 1 1 -11 1 1 1 1 1 -11 1 1 1 1 1 -11 1 1 1 1 1 -11 1 1 1 1 1 -11 1 1 1 1 1 -11 1 1 1 1 1 -11 1 1 1 1 1 -11 1 1 1 1 1 -11 1 1 1 1 1 -11 1 1 1 1 1 -11 1 1 1 1 1 -11 1 1 1 1 1 -11 1 1 1 1 1 -11 1 1 1 1 1 -11 1 1 1 1 1 -11 1 1 1 1 1 -11 1 1 1 1 1 -11 1 1 1 1 1 -11 1 1 1 1 1 -11 1 1 1 1 1 -11 1 1 1 1 1 -11 1 1 1 1 1 -11 1 1 1 1 1 -11 1 1 1 1 1 -11 1 1 1 1 1 -11 1 1 1 1 1 -11 1 1 1 1 1 -11 1 1 1 1 1 -11 1 1 1 1 1 -11 1 1 1 1 1 -11 1 1 1 1 1 -11 1 1 1 1 1 -11 1 1 1 1 1 -11 1 1 1 1 1 -11 1 1 1 1 1 -11 1 1 1 1 1 -11 1 1 1 1 1 -11 1 1 1 1 1 -11 1 1 1 1 1 -11 1 1 1 1 1 -11 1 1 1 1 1 -11 1 1 1 1 1 -11 1 1 1 1 1 -11 1 1 1 1 1 -11 1 1 1 1 1 -11 1 1 1 1 1 -11 1 1 1 1 1 -11 1 1 1 1 1 -11 1 1 1 1 1 -11 1 1 1 1 1 -11 1 1 1 1 1 -11 1 1 1 1 1 -11 1 1 1 1 1 -11 1 1 1 1 1 -11 1 1 1 1 1 -11 1 1 1 1 1 -11 1 1 1 1 1 -11 1 1 1 1 1 -11 1 1 1 1 1 -11 1 1 1 1 1 -11 1 1 1 1 1 -11 1 1 1 1 1 -11 1 1 1 1 1 -11 1 1 1 1 1 -11 1 1 1 1 1 -11 1 1 1 1 1 -11 1 1 1 1 1 -11 1 1 1 1 1 -11 1 1 1 1 1 -11 1 1 1 1 1 -11 1 1 1 1 1 -11 1 1 1 1 1 -11 1 1 1 1 1 -11 1 1 1 1 1 -11 1 1 1 1 1 -11 1 1 1 1 1 -11 1 1 1 1 1 -11 1 1 1 1 1 -11 1 1 1 1 1 -11 1 1 1 1 1 -11 1 1 1 1 1 -11 1 1 1 1 1 -11 1 1 1 1 1 -11 1 1 1 1 1 -11 1 1 1 1 1 -11 1 1 1 1 1 -11 1 1 1 1 1 -11 1 1 1 1 1 -11 1 1 1 1 1 -11 1 1 1 1 1 -11 1 1 1 1 1 -11 1 1 1 1 1 -11 1 1 1 1 1 -11 1 1 1 1 1 -11 1 1 1 1 1 -11 1 1 1 1 1 -11 1 1 1 1 1 -11 1 1 1 1 1 -11 1 1 1 1 1 -11 1 1 1 1 1 -11 1 1 1 1 1 -11 1 1 1 1 1 -11 1 1 1 1 1 -11 1 1 1 1 1 -11 1 1 1 1 1 -11 1 1 1 1 1 -11 1 1 1 1 1 -11 1 1 1 1 1 -11 1 1 1 1 1 -11 1 1 1 1 1 -11 1 1 1 1 1 -11 1 1 1 1 1 -11 1 1 1 1 1 -11 1 1 1 1 1 -11 1 1 1 1 1 -11 1 1 1 1 1 -11 1 1 1 1 1 -11 1 1 1 1 1 -11 1 1 1 1 1 -11 1 1 1 1 1 -11 1 1 1 1 1 -11 1 1 1 1 1 -11 1 1 1 1 1 -11 1 1 1 1 1 -11 1 1 1 1 1 -11 1 1 1 1 1 -11 1 1 1 1 1 -11 1 1 1 1 1 -11 1 1 1 1 1 -11 1 1 1 1 1 -11 1 1 1 1 1 -11 1 1 1 1 1 -11 1 1 1 1 1 -11 1 1 1 1 1 -11 1 1 1 1 1 -11 1 1 1 1 1 -11 1 1 1 1 1 -11 1 1 1 1 1 -11 1 1 1 1 1 -11 1 1 1 1 1 -11 1 1 1 1 1 -11 1 1 1 1 1 -11 1 1 1 1 1 -11 1 1 1 1 1 -11 1 1 1 1 1 -11 1 1 1 1 1 -11 1 1 1 1 1 -11 1 1 1 1 1 -11 1 1 1 1 1 -11 1 1 1 1 1 -11 1 1 1 1 1 -11 1 1 1 1 1 -11 1 1 1 1 1 -11 1 1 1 1 1 -11 1 1 1 1 1 -11 1 1 1 1 1 -11 1 1 1 1 1 -11 1 1 1 1 1 -11 1 1 1 1 1 -11 1 1 1 1 1 -11 1 1 1 1 1 -11 1 1 1 1 1 -11 1 1 1 1 1 -11 1 1 1 1 1 -11 1 1 1 1 1 -11 1 1 1 1 1 -11 1 1 1 1 1 -11 1 1 1 1 1 -11 1 1 1 1 1 -11 1 1 1 1 1 -11 1 1 1 1 1 -11 1 1 1 1 1 -11 1 1 1 1 1 -11 1 1 1 1 1 -11 1 1 1 1 1 -11 1 1 1 1 1 -11 1 1 1 1 1 -11 1 1 1 1 1 -11 1 1 1 1 1 -11 1 1 1 1 1 -11 1 1 1 1 1 -11 1 1 1 1 1 -11 1 1 1 1 1 -11 1 1 1 1 1 -11 1 1 1 1 1 -11 1 1 1 1 1 -11 1 1 1 1 1 -11 1 1 1 1 1 -11 1 1 1 1 1 -11 1 1 1 1 1 -11 1 1 1 1 1 -11 1 1 1 1 1 -11 1 1 1 1 1 -11 1 1 1 1 1 -11 1 1 1 1 1 -11 1 1 1 1 1 -11 1 1 1 1 1 -11 1 1 1 1 1 -11 1 1 1 1 1 -11 1 1 1 1 1 -11 1 1 1 1 1 -11 1 1 1 1 1 -11 1 1 1 1 1 -11 1 1 1 1 1 -11 1 1 1 1 1 -11 1 1 1 1 1 -11 1 1 1 1 1 -11 1 1 1 1 1 -11 1 1 1 1 1 -11 1 1 1 1 1 -11 1 1 1 1 1 -11 1 1 1 1 1 -11 1 1 1 1 1 -11 1 1 1 1 1 -11 1 1 1 1 1 -11 1 1 1 1 1 -11 1 1 1 1 1 -11 1 1 1 1 1 -11 1 1 1 1 1 -11 1 1 1 1 1 -11 1 1 1 1 1 -11 1 1 1 1 1 -11 1 1 1 1 1 -11 1 1 1 1 1 -11 1 1 1 1 1 -11 1 1 1 1 1 -11 1 1 1 1 1 -11 1 1 1 1 1 -11 1 1 1 1 1 -11 1 1 1 1 1 -11 1 1 1 1 1 -11 1 1 1 1 1 -11 1 1 1 1 1 -11 1 1 1 1 1 -11 1 1 1 1 1 -11 1 1 1 1 1 -11 1 1 1 1 1 -11 1 1 1 1 1 -11 1 1 1 1 1 -11 1 1 1 1 1 -11 1 1 1 1 1 -11 1 1 1 1 1 -11 1 1 1 1 1 -11 1 1 1 1 1 -11 1 1 1 1 1 -11 1 1 1 1 1 -11 1 1 1 1 1 -11 1 1 1 1 1 -11 1 1 1 1 1 -11 1 1 1 1 1 -11 1 1 1 1 1 -11 1 1 1 1 1 -11 1 1 1 1 1 -11 1 1 1 1 1 -11 1 1 1 1 1 -11 1 1 1 1 1 -11 1 1 1 1 1 -11 1 1 1 1 1 -11 1 1 1 1 1 -11 1 1 1 1 1 -11 1 1 1 1 1 -11 1 1 1 1 1 -11 1 1 1 1 1 -11 1 1 1 1 1 -11 1 1 1 1 1 -11 1 1 1 1 1 -11 1 1 1 1 1 -11 1 1 1 1 1 -11 1 1 1 1 1 -11 1 1 1 1 1 -11 1 1 1 1 1 -11 1 1 1 1 1 -11 1 1 1 1 1 -11 1 1 1 1 1 -11 1 1 1 1 1 -11 1 1 1 1 1 -11 1 1 1 1 1 -11 1 1 1 1 1 -11 1 1 1 1 1 -11 1 1 1 1 1 -11 1 1 1 1 1 -11 1 1 1 1 1 -11 1 1 1 1 1 -11 1 1 1 1 1 -11 1 1 1 1 1 -11 1 1 1 1 1 -11 1 1 1 1 1 -11 1 1 1 1 1 -11 1 1 1 1 1 -11 1 1 1 1 1 -11 1 1 1 1 1 -11 1 1 1 1 1 -11 1 1 1 1 1 -11 1 1 1 1 1 -11 1 1 1 1 1 -11 1 1 1 1 1 -11 1 1 1 1 1 -11 1 1 1 1 1 -11 1 1 1 1 1 -11 1 1 1 1 1 -11 1 1 1 1 1 -11 1 1 1 1 1 -11 1 1 1 1 1 -11 1 1 1 1 1 -11 1 1 1 1 1 -11 1 1 1 1 1 -11 1 1 1 1 1 -11 1 1 1 1 1 -11 1 1 1 1 1 -11 1 1 1 1 1 -11 1 1 1 1 1 -11 1 1 1 1 1 -11 1 1 1 1 1 -11 1 1 1 1 1 -11 1 1 1 1 1 -11 1 1 1 1 1 -11 1 1 1 1 1 -11 1 1 1 1 1 -11 1 1 1 1 1 -11 1 1 1 1 1 -11 1 1 1 1 1 -11 1 1 1 1 1 -11 1 1 1 1 1 -11 1 1 1 1 1 -11 1 1 1 1 1 -11 1 1 1 1 1 -11 1 1 1 1 1 -11 1 1 1 1 1 -11 1 1 1 1 1 -11 1 1 1 1 1 -11 1 1 1 1 1 -11 1 1 1 1 1 -11 1 1 1 1 1 -11 1 1 1 1 1 -11 1 1 1 1 1 -11 1 1 1 1 1 -11 1 1 1 1 1 -11 1 1 1 1 1 -11 1 1 1 1 1 -11 1 1 1 1 1 -11 1 1 1 1 1 -11 1 1 1 1 1 -11 1 1 1 1 1 -11 1 1 1 1 1 -11 1 1 1 1 1 -11 1 1 1 1 1 -11 1 1 1 1 1 -11 1 1 1 1 1 -11 1 1 1 1 1 -11 1 1 1 1 1 -11 1 1 1 1 1 -11 1 1 1 1 1 -11 1 1 1 1 1 -11 1 1 1 1 1 -11 1 1 1 1 1 -11 1 1 1 1 1 -11 1 1 1 1 1 -11 1 1 1 1 1 -11 1 1 1 1 1 -11 1 1 1 1 1 -11 1 1 1 1 1 -11 1 1 1 1 1 -11 1 1 1 1 1 -11 1 1 1 1 1 -11 1 1 1 1 1 -11 1 1 1 1 1 -11 1 1 1 1 1 -11 1 1 1 1 1 -11 1 1 1 1 1 -11 1 1 1 1 1 -11 1 1 1 1 1 -11 1 1 1 1 1 -11 1 1 1 1 1 -11 1 1 1 1 1 -11 1 1 1 1 1 -11 1 1 1 1 1 -11 1 1 1 1 1 -11 1 1 1 1 1 -11 1 1 1 1 1 -11 1 1 1 1 1 -11 1 1 1 1 1 -11 1 1 1 1 1 -11 1 1 1 1 1 -11 1 1 1 1 1 -11 1 1 1 1 1 -11 1 1 1 1 1 -11 1 1 1 1 1 -11 1 1 1 1 1 -11 1 1 1 1 1 -11 1 1 1 1 1 -11 1 1 1 1 1 -11 1 1 1 1 1 -11 1 1 1 1 1 -11 1 1 1 1 1 -11 1 1 1 1 1 -11 1 1 1 1 1 -11 1 1 1 1 1 -11 1 1 1 1 1 -11 1 1 1 1 1 -11 1 1 1 1 1 -11 1 1 1 1 1 -11 1 1 1 1 1 -11 1 1 1 1 1 -11 1 1 1 1 1 -11 1 1 1 1 1 -11 1 1 1 1 1 -11 1 1 1 1 1 -11 1 1 1 1 1 -11 1 1 1 1 1 -11 1 1 1 1 1 -11 1 1 1 1 1 -11 1 1 1 1 1 -11 1 1 1 1 1 -11 1 1 1 1 1 -11 1 1 1 1 1 -11 1 1 1 1 1 -11 1 1 1 1 1 -11 1 1 1 1 1 -11 1 1 1 1 1 -11 1 1 1 1 1 -11 1 1 1 1 1 -11 1 1 1 1 1 -11 1 1 1 1 1 -11 1 1 1 1 1 -11 1 1 1 1 1 -11 1 1 1 1 1 -11 1 1 1 1 1 -11 1 1 1 1 1 -11 1 1 1 1 1 -11 1 1 1 1 1 -11 1 1 1 1 1 -11 1 1 1 1 1 -11 1 1 1 1 1 -11 1 1 1 1 1 -11 1 1 1 1 1 -11 1 1 1 1 1 -11 1 1 1 1 1 -11 1 1 1 1 1 -11 1 1 1 1 1 -11 1 1 1 1 1 -11 1 1 1 1 1 -11 1 1 1 1 1 -11 1 1 1 1 1 -11 1 1 1 1 1 -11 1 1 1 1 1 -11 1 1 1 1 1 -11 1 1 1 1 1 -11 1 1 1 1 1 -11 1 1 1 1 1 -11 1 1 1 1 1 -11 1 1 1 1 1 -11 1 1 1 1 1 -11 1 1 1 1 1 -11 1 1 1 1 1 -11 1 1 1 1 1 -11 1 1 1 1 1 -11 1 1 1 1 1 -11 1 1 1 1 1 -11 1 1 1 1 1 -11 1 1 1 1 1 -11 1 1 1 1 1 -11 1 1 1 1 1 -11 1 1 1 1 1 -11 1 1 1 1 1 -11 1 1 1 1 1 -11 1 1 1 1 1 -11 1 1 1 1 1 -11 1 1 1 1 1 -11 1 1 1 1 1 -11 1 1 1 1 1 -11 1 1 1 1 1 -11 1 1 1 1 1 -11 1 1 1 1 1 -11 1 1 1 1 1 -11 1 1 1 1 1 -11 1 1 1 1 1 -11 1 1 1 1 1 -11 1 1 1 1 1 -11 1 1 1 1 1 -11 1 1 1 1 1 -11 1 1 1 1 1 -11 1 1 1 1 1 -11 1 1 1 1 1 -11 1 1 1 1 1 -11 1 1 1 1 1 -11 1 1 1 1 1 -11 1 1 1 1 1 -11 1 1 1 1 1 -11 1 1 1 1 1 -11 1 1 1 1 1 -11 1 1 1 1 1 -11 1 1 1 1 1 -11 1 1 1 1 1 -11 1 1 1 1 1 -11 1 1 1 1 1 -11 1 1 1 1 1 -11 1 1 1 1 1 -11 1 1 1 1 1 -11 1 1 1 1 1 -11 1 1 1 1 1 -11 1 1 1 1 1 -11 1 1 1 1 1 -11 1 1 1 1 1 -11 1 1 1 1 1 -11 1 1 1 1 1 -11 1 1 1 1 1 -11 1 1 1 1 1 -11 1 1 1 1 1 -11 1 1 1 1 1 -11 1 1 1 1 1 -11 1 1 1 1 1 -11 1 1 1 1 1 -11 1 1 1 1 1 -11 1 1 1 1 1 -11 1 1 1 1 1 -11 1 1 1 1 1 -11 1 1 1 1 1 -11 1 1 1 1 1 -11 1 1 1 1 1 -11 1 1 1 1 1 -11 1 1 1 1 1 -11 1 1 1 1 1 -11 1 1 1 1 1 -11 1 1 1 1 1 -11 1 1 1 1 1 -11 1 1 1 1 1 -11 1 1 1 1 1 -11 1 1 1 1 1 -11 1 1 1 1 1 -11 1 1 1 1 1 -11 1 1 1 1 1 -11 1 1 1 1 1 -11 1 1 1 1 1 -11 1 1 1 1 1 -11 1 1 1 1 1 -11 1 1 1 1 1 -11 1 1 1 1 1 -11 1 1 1 1 1 -11 1 1 1 1 1 -11 1 1 1 1 1 -11 1 1 1 1 1 -11 1 1 1 1 1 -11 1 1 1 1 1 -11 1 1 1 1 1 -11 1 1 1 1 1 -11 1 1 1 1 1 -11 1 1 1 1 1 -11 1 1 1 1 1 -11 1 1 1 1 1 -11 1 1 1 1 1 -11 1 1 1 1 1 -11 1 1 1 1 1 -11 1 1 1 1 1 -11 1 1 1 1 1 -11 1 1 1 1 1 -11 1 1 1 1 1 -11 1 1 1 1 1 -11 1 1 1 1 1 -11 1 1 1 1 1 -11 1 1 1 1 1 -11 1 1 1 1 1 -11 1 1 1 1 1 -11 1 1 1 1 1 -11 1 1 1 1 1 -11 1 1 1 1 1 -11 1 1 1 1 1 -11 1 1 1 1 1 -11 1 1 1 1 1 -11 1 1 1 1 1 -11 1 1 1 1 1 -11 1 1 1 1 1 -11 1 1 1 1 1 -11 1 1 1 1 1 -11 1 1 1 1 1 -11 1 1 1 1 1 -11 1 1 1 1 1 -11 1 1 1 1 1 -11 1 1 1 1 1 -11 1 1 1 1 1 -11 1 1 1 1 1 -11 1 1 1 1 1 -11 1 1 1 1 1 -11 1 1 1 1 1 -11 1 1 1 1 1 -11 1 1 1 1 1 -11 1 1 1 1 1 -11 1 1 1 1 1 -11 1 1 1 1 1 -11 1 1 1 1 1 -11 1 1 1 1 1 -11 1 1 1 1 1 -11 1 1 1 1 1 -11 1 1 1 1 1 -11 1 1 1 1 1 -11 1 1 1 1 1 -11 1 1 1 1 1 -11 1 1 1 1 1 -11 1 1 1 1 1 -11 1 1 1 1 1 -11 1 1 1 1 1 -11 1 1 1 1 1 -11 1 1 1 1 1 -11 1 1 1 1 1 -11 1 1 1 1 1 -11 1 1 1 1 1 -11 1 1 1 1 1 -11 1 1 1 1 1 -11 1 1 1 1 1 -11 1 1 1 1 1 -11 1 1 1 1 1 -11 1 1 1 1 1 -11 1 1 1 1 1 -11 1 1 1 1 1 -11 1 1 1 1 1 -11 1 1 1 1 1 -11 1 1 1 1 1 -11 1 1 1 1 1 -11 1 1 1 1 1 -11 1 1 1 1 1 -11 1 1 1 1 1 -11 1 1 1 1 1 -11 1 1 1 1 1 -11 1 1 1 1 1 -11 1 1 1 1 1 -11 1 1 1 1 1 -11 1 1 1 1 1 -11 1 1 1 1 1 -11 1 1 1 1 1 -11 1 1 1 1 1 -11 1 1 1 1 1 -11 1 1 1 1 1 -11 1 1 1 1 1 -11 1 1 1 1 1 -11 1 1 1 1 1 -11 1 1 1 1 1 -11 1 1 1 1 1 -11 1 1 1 1 1 -11 1 1 1 1 1 -11 1 1 1 1 1 -11 1 1 1 1 1 -11 1 1 1 1 1 -11 1 1 1 1 1 -11 1 1 1 1 1 -11 1 1 1 1 1 -11 1 1 1 1 1 -11 1 1 1 1 1 -11 1 1 1 1 1 -11 1 1 1 1 1 -11 1 1 1 1 1 -11 1 1 1 1 1 -11 1 1 1 1 1 -11 1 1 1 1 1 -11 1 1 1 1 1 -11 1 1 1 1 1 -11 1 1 1 1 1 -11 1 1 1 1 1 -11 1 1 1 1 1 -11 1 1 1 1 1 -11 1 1 1 1 1 -11 1 1 1 1 1 -11 1 1 1 1 1 -11 1 1 1 1 1 -11 1 1 1 1 1 -11 1 1 1 1 1 -11 1 1 1 1 1 -11 1 1 1 1 1 -11 1 1 1 1 1 -11 1 1 1 1 1 -11 1 1 1 1 1 -11 1 1 1 1 1 -11 1 1 1 1 1 -11 1 1 1 1 1 -11 1 1 1 1 1 -11 1 1 1 1 1 -11 1 1 1 1 1 -11 1 1 1 1 1 -11 1 1 1 1 1 -11 1 1 1 1 1 -11 1 1 1 1 1 -11 1 1 1 1 1 -11 1 1 1 1 1 -11 1 1 1 1 1 -11 1 1 1 1 1 -11 1 1 1 1 1 -11 1 1 1 1 1 -11 1 1 1 1 1 -11 1 1 1 1 1 -11 1 1 1 1 1 -11 1 1 1 1 1 -11 1 1 1 1 1 -11 1 1 1 1 1 -11 1 1 1 1 1 -11 1 1 1 1 1 -11 1 1 1 1 1 -11 1 1 1 1 1 -11 1 1 1 1 1 -11 1 1 1 1 1 -11 1 1 1 1 1 -11 1 1 1 1 1 -11 1 1 1 1 1 -11 1 1 1 1 1 -11 1 1 1 1 1 -11 1 1 1 1 1 -11 1 1 1 1 1 -11 1 1 1 1 1 -11 1 1 1 1 1 -11 1 1 1 1 1 -11 1 1 1 1 1 -11 1 1 1 1 1 -11 1 1 1 1 1 -11 1 1 1 1 1 -11 1 1 1 1 1 -11 1 1 1 1 1 -11 1 1 1 1 1 -11 1 1 1 1 1 -11 1 1 1 1 1 -11 1 1 1 1 1 -11 1 1 1 1 1 -11 1 1 1 1 1 -11 1 1 1 1 1 -11 1 1 1 1 1 -11 1 1 1 1 1 -11 1 1 1 1 1 -11 1 1 1 1 1 -11 1 1 1 1 1 -11 1 1 1 1 1 -11 1 1 1 1 1 -11 1 1 1 1 1 -11 1 1 1 1 1 -11 1 1 1 1 1 -11 1 1 1 1 1 -11 1 1 1 1 1 -11 1 1 1 1 1 -11 1 1 1 1 1 -11 1 1 1 1 1 -11 1 1 1 1 1 -11 1 1 1 1 1 -11 1 1 1 1 1 -11 1 1 1 1 1 -11 1 1 1 1 1 -11 1 1 1 1 1 -11 1 1 1 1 1 -11 1 1 1 1 1 -11 1 1 1 1 1 -11 1 1 1 1 1 -11 1 1 1 1 1 -11 1 1 1 1 1 -11 1 1 1 1 1 -11 1 1 1 1 1 -11 1 1 1 1 1 -11 1 1 1 1 1 -11 1 1 1 1 1 -11 1 1 1 1 1 -11 1 1 1 1 1 -11 1 1 1 1 1 -11 1 1 1 1 1 -11 1 1 1 1 1 -11 1 1 1 1 1 -11 1 1 1 1 1 -11 1 1 1 1 1 -11 1 1 1 1 1 -11 1 1 1 1 1 -11 1 1 1 1 1 -11 1 1 1 1 1 -11 1 1 1 1 1 -11 1 1 1 1 1 -11 1 1 1 1 1 -11 1 1 1 1 1 -11 1 1 1 1 1 -11 1 1 1 1 1 -11 1 1 1 1 1 -11 1 1 1 1 1 -11 1 1 1 1 1 -11 1 1 1 1 1 -11 1 1 1 1 1 -11 1 1 1 1 1 -11 1 1 1 1 1 -11 1 1 1 1 1 -11 1 1 1 1 1 -11 1 1 1 1 1 -11 1 1 1 1 1 -11 1 1 1 1 1 -11 1 1 1 1 1 -11 1 1 1 1 1 -11 1 1 1 1 1 -11 1 1 1 1 1 -11 1 1 1 1 1 -11 1 1 1 1 1 -11 1 1 1 1 1 -11 1 1 1 1 1 -11 1 1 1 1 1 -11 1 1 1 1 1 -11 1 1 1 1 1 -11 1 1 1 1 1 -11 1 1 1 1 1 -11 1 1 1 1 1 -11 1 1 1 1 1 -11 1 1 1 1 1 -11 1 1 1 1 1 -11 1 1 1 1 1 -11 1 1 1 1 1 -11 1 1 1 1 1 -11 1 1 1 1 1 -11 1 1 1 1 1 -11 1 1 1 1 1 -11 1 1 1 1 1 -11 1 1 1 1 1 -11 1 1 1 1 1 -11 1 1 1 1 1 -11 1 1 1 1 1 -11 1 1 1 1 1 -11 1 1 1 1 1 -11 1 1 1 1 1 -11 1 1 1 1 1 -11 1 1 1 1 1 -11 1 1 1 1 1 -11 1 1 1 1 1 -11 1 1 1 1 1 -11 1 1 1 1 1 -11 1 1 1 1 1 -11 1 1 1 1 1 -11 1 1 1 1 1 -11 1 1 1 1 1 -11 1 1 1 1 1 -11 1 1 1 1 1 -11 1 1 1 1 1 -11 1 1 1 1 1 -11 1 1 1 1 1 -11 1 1 1 1 1 -11 1 1 1 1 1 -11 1 1 1 1 1 -11 1 1 1 1 1 -11 1 1 1 1 1 -11 1 1 1 1 1 -11 1 1 1 1 1 -11 1 1 1 1 1 -11 1 1 1 1 1 -11 1 1 1 1 1 -11 1 1 1 1 1 -11 1 1 1 1 1 -11 1 1 1 1 1 -11 1 1 1 1 1 -11 1 1 1 1 1 -11 1 1 1 1 1 -11 1 1 1 1 1 -11 1 1 1 1 1 -11 1 1 1 1 1 -11 1 1 1 1 1 -11 1 1 1 1 1 -11 1 1 1 1 1 -11 1 1 1 1 1 -11 1 1 1 1 1 -11 1 1 1 1 1 -11 1 1 1 1 1 -11 1 1 1 1 1 -11 1 1 1 1 1 -11 1 1 1 1 1 -11 1 1 1 1 1 -11 1 1 1 1 1 -11 1 1 1 1 1 -11 1 1 1 1 1 -11 1 1 1 1 1 -11 1 1 1 1 1 -11 1 1 1 1 1 -11 1 1 1 1 1 -11 1 1 1 1 1 -11 1 1 1 1 1 -11 1 1 1 1 1 -11 1 1 1 1 1 -11 1 1 1 1 1 -11 1 1 1 1 1 -11 1 1 1 1 1 -11 1 1 1 1 1 -11 1 1 1 1 1 -11 1 1 1 1 1 -11 1 1 1 1 1 -11 1 1 1 1 1 -11 1 1 1 1 1 -11 1 1 1 1 1 -11 1 1 1 1 1 -11 1 1 1 1 1 -11 1 1 1 1 1 -11 1 1 1 1 1 -11 1 1 1 1 1 -11 1 1 1 1 1 -11 1 1 1 1 1 -11 1 1 1 1 1 -11 1 1 1 1 1 -11 1 1 1 1 1 -11 1 1 1 1 1 -11 1 1 1 1 1 -11 1 1 1 1 1 -11 1 1 1 1 1 -11 1 1 1 1 1 -11 1 1 1 1 1 -11 1 1 1 1 1 -11 1 1 1 1 1 -11 1 1 1 1 1 -11 1 1 1 1 1 -11 1 1 1 1 1 -11 1 1 1 1 1 -11 1 1 1 1 1 -11 1 1 1 1 1 -11 1 1 1 1 1 -11 1 1 1 1 1 -11 1 1 1 1 1 -11 1 1 1 1 1 -11 1 1 1 1 1 -11 1 1 1 1 1 -11 1 1 1 1 1 -11 1 1 1 1 1 -11 1 1 1 1 1 -11 1 1 1 1 1 -11 1 1 1 1 1 -11 1 1 1 1 1 -11 1 1 1 1 1 -11 1 1 1 1 1 -11 1 1 1 1 1 -11 1 1 1 1 1 -11 1 1 1 1 1 -11 1 1 1 1 1 -11 1 1 1 1 1 -11 1 1 1 1 1 -11 1 1 1 1 1 -11 1 1 1 1 1 -11 1 1 1 1 1 -11 1 1 1 1 1 -11 1 1 1 1 1 -11 1 1 1 1 1 -11 1 1 1 1 1 -11 1 1 1 1 1 -11 1 1 1 1 1 -11 1 1 1 1 1 -11 1 1 1 1 1 -11 1 1 1 1 1 -11 1 1 1 1 1 -11 1 1 1 1 1 -11 1 1 1 1 1 -11 1 1 1 1 1 -11 1 1 1 1 1 -11 1 1 1 1 1 -11 1 1 1 1 1 -11 1 1 1 1 1 -11 1 1 1 1 1 -11 1 1 1 1 1 -11 1 1 1 1 1 -11 1 1 1 1 1 -11 1 1 1 1 1 -11 1 1 1 1 1 -11 1 1 1 1 1 -11 1 1 1 1 1 -11 1 1 1 1 1 -11 1 1 1 1 1 -11 1 1 1 1 1 -11 1 1 1 1 1 -11 1 1 1 1 1 -11 1 1 1 1 1 -11 1 1 1 1 1 -11 1 1 1 1 1 -11 1 1 1 1 1 -11 1 1 1 1 1 -11 1 1 1 1 1 -11 1 1 1 1 1 -11 1 1 1 1 1 -11 1 1 1 1 1 -11 1 1 1 1 1 -11 1 1 1 1 1 -11 1 1 1 1 1 -11 1 1 1 1 1 -11 1 1 1 1 1 -11 1 1 1 1 1 -11 1 1 1 1 1 -11 1 1 1 1 1 -11 1 1 1 1 1 -11 1 1 1 1 1 -11 1 1 1 1 1 -11 1 1 1 1 1 -11 1 1 1 1 1 -11 1 1 1 1 1 -11 1 1 1 1 1 -11 1 1 1 1 1 -11 1 1 1 1 1 -11 1 1 1 1 1 -11 1 1 1 1 1 -11 1 1 1 1 1 -11 1 1 1 1 1 -11 1 1 1 1 1 -11 1 1 1 1 1 -11 1 1 1 1 1 -11 1 1 1 1 1 -11 1 1 1 1 1 -11 1 1 1 1 1 -11 1 1 1 1 1 -11 1 1 1 1 1 -11 1 1 1 1 1 -11 1 1 1 1 1 -11 1 1 1 1 1 -11 1 1 1 1 1 -11 1 1 1 1 1 -11 1 1 1 1 1 -11 1 1 1 1 1 -11 1 1 1 1 1 -11 1 1 1 1 1 -11 1 1 1 1 1 -11 1 1 1 1 1 -11 1 1 1 1 1 -11 1 1 1 1 1 -11 1 1 1 1 1 -11 1 1 1 1 1 -11 1 1 1 1 1 -11 1 1 1 1 1 -11 1 1 1 1 1 -11 1 1 1 1 1 -11 1 1 1 1 1 -11 1 1 1 1 1 -11 1 1 1 1 1 -11 1 1 1 1 1 -11 1 1 1 1 1 -11 1 1 1 1 1 -11 1 1 1 1 1 -11 1 1 1 1 1 -11 1 1 1 1 1 -11 1 1 1 1 1 -11 1 1 1 1 1 -11 1 1 1 1 1 -11 1 1 1 1 1 -11 1 1 1 1 1 -11 1 1 1 1 1 -11 1 1 1 1 1 -11 1 1 1 1 1 -11 1 1 1 1 1 -11 1 1 1 1 1 -11 1 1 1 1 1 -11 1 1 1 1 1 -11 1 1 1 1 1 -11 1 1 1 1 1 -11 1 1 1 1 1 -11 1 1 1 1 1 -11 1 1 1 1 1 -11 1 1 1 1 1 -11 1 1 1 1 1 -11 1 1 1 1 1 -11 1 1 1 1 1 -11 1 1 1 1 1 -11 1 1 1 1 1 -11 1 1 1 1 1 -11 1 1 1 1 1 -11 1 1 1 1 1 -11 1 1 1 1 1 -11 1 1 1 1 1 -11 1 1 1 1 1 -11 1 1 1 1 1 -11 1 1 1 1 1 -11 1 1 1 1 1 -11 1 1 1 1 1 -11 1 1 1 1 1 -11 1 1 1 1 1 -11 1 1 1 1 1 -11 1 1 1 1 1 -11 1 1 1 1 1 -11 1 1 1 1 1 -11 1 1 1 1 1 -11 1 1 1 1 1 -11 1 1 1 1 1 -11 1 1 1 1 1 -11 1 1 1 1 1 -11 1 1 1 1 1 -11 1 1 1 1 1 -11 1 1 1 1 1 -11 1 1 1 1 1 -11 1 1 1 1 1 -11 1 1 1 1 1 -11 1 1 1 1 1 -11 1 1 1 1 1 -11 1 1 1 1 1 -11 1 1 1 1 1 -11 1 1 1 1 1 -11 1 1 1 1 1 -11 1 1 1 1 1 -11 1 1 1 1 1 -11 1 1 1 1 1 -11 1 1 1 1 1 -11 1 1 1 1 1 -11 1 1 1 1 1 -11 1 1 1 1 1 -11 1 1 1 1 1 -11 1 1 1 1 1 -11 1 1 1 1 1 -11 1 1 1 1 1 -11 1 1 1 1 1 -11 1 1 1 1 1 -11 1 1 1 1 1 -11 1 1 1 1 1 -11 1 1 1 1 1 -11 1 1 1 1 1 -11 1 1 1 1 1 -11 1 1 1 1 1 -11 1 1 1 1 1 -11 1 1 1 1 1 -11 1 1 1 1 1 -11 1 1 1 1 1 -11 1 1 1 1 1 -11 1 1 1 1 1 -11 1 1 1 1 1 -11 1 1 1 1 1 -11 1 1 1 1 1 -11 1 1 1 1 1 -11 1 1 1 1 1 -11 1 1 1 1 1 -11 1 1 1 1 1 -11 1 1 1 1 1 -11 1 1 1 1 1 -11 1 1 1 1 1 -11 1 1 1 1 1 -11 1 1 1 1 1 -11 1 1 1 1 1 -11 1 1 1 1 1 -11 1 1 1 1 1 -11 1 1 1 1 1 -11 1 1 1 1 1 -11 1 1 1 1 1 -11 1 1 1 1 1 -11 1 1 1 1 1 -11 1 1 1 1 1 -11 1 1 1 1 1 -11 1 1 1 1 1 -11 1 1 1 1 1 -11 1 1 1 1 1 -11 1 1 1 1 1 -11 1 1 1 1 1 -11 1 1 1 1 1 -11 1 1 1 1 1 -11 1 1 1 1 1 -11 1 1 1 1 1 -11 1 1 1 1 1 -11 1 1 1 1 1 -11 1 1 1 1 1 -11 1 1 1 1 1 -11 1 1 1 1 1 -11 1 1 1 1 1 -11 1 1 1 1 1 -11 1 1 1 1 1 -11 1 1 1 1 1 -11 1 1 1 1 1 -11 1 1 1 1 1 -11 1 1 1 1 1 -11 1 1 1 1 1 -11 1 1 1 1 1 -11 1 1 1 1 1 -11 1 1 1 1 1 -11 1 1 1 1 1 -11 1 1 1 1 1 -11 1 1 1 1 1 -11 1 1 1 1 1 -11 1 1 1 1 1 -11 1 1 1 1 1 -11 1 1 1 1 1 -11 1 1 1 1 1 -11 1 1 1 1 1 -11 1 1 1 1 1 -11 1 1 1 1 1 -11 1 1 1 1 1 -11 1 1 1 1 1 -11 1 1 1 1 1 -11 1 1 1 1 1 -11 1 1 1 1 1 -11 1 1 1 1 1 -11 1 1 1 1 1 -11 1 1 1 1 1 -11 1 1 1 1 1 -11 1 1 1 1 1 -11 1 1 1 1 1 -11 1 1 1 1 1 -11 1 1 1 1 1 -11 1 1 1 1 1 -11 1 1 1 1 1 -11 1 1 1 1 1 -11 1 1 1 1 1 -11 1 1 1 1 1 -11 1 1 1 1 1 -11 1 1 1 1 1 -11 1 1 1 1 1 -11 1 1 1 1 1 -11 1 1 1 1 1 -11 1 1 1 1 1 -11 1 1 1 1 1 -11 1 1 1 1 1 -11 1 1 1 1 1 -11 1 1 1 1 1 -11 1 1 1 1 1 -11 1 1 1 1 1 -11 1 1 1 1 1 -11 1 1 1 1 1 -11 1 1 1 1 1 -11 1 1 1 1 1 -11 1 1 1 1 1 -11 1 1 1 1 1 -11 1 1 1 1 1 -11 1 1 1 1 1 -11 1 1 1 1 1 -11 1 1 1 1 1 -11 1 1 1 1 1 -11 1 1 1 1 1 -11 1 1 1 1 1 -11 1 1 1 1 1 -11 1 1 1 1 1 -11 1 1 1 1 1 -11 1 1 1 1 1 -11 1 1 1 1 1 -11 1 1 1 1 1 -11 1 1 1 1 1 -11 1 1 1 1 1 -11 1 1 1 1 1 -11 1 1 1 1 1 -11 1 1 1 1 1 -11 1 1 1 1 1 -11 1 1 1 1 1 -11 1 1 1 1 1 -11 1 1 1 1 1 -11 1 1 1 1 1 -11 1 1 1 1 1 -11 1 1 1 1 1 -11 1 1 1 1 1 -11 1 1 1 1 1 -11 1 1 1 1 1 -11 1 1 1 1 1 -11 1 1 1 1 1 -11 1 1 1 1 1 -11 1 1 1 1 1 -11 1 1 1 1 1 -11 1 1 1 1 1 -11 1 1 1 1 1 -11 1 1 1 1 1 -11 1 1 1 1 1 -11 1 1 1 1 1 -11 1 1 1 1 1 -11 1 1 1 1 1 -11 1 1 1 1 1 -11 1 1 1 1 1 -11 1 1 1 1 1 -11 1 1 1 1 1 -11 1 1 1 1 1 -11 1 1 1 1 1 -11 1 1 1 1 1 -11 1 1 1 1 1 -11 1 1 1 1 1 -11 1 1 1 1 1 -11 1 1 1 1 1 -11 1 1 1 1 1 -11 1 1 1 1 1 -11 1 1 1 1 1 -11 1 1 1 1 1 -11 1 1 1 1 1 -11 1 1 1 1 1 -11 1 1 1 1 1 -11 1 1 1 1 1 -11 1 1 1 1 1 -11 1 1 1 1 1 -11 1 1 1 1 1 -11 1 1 1 1 1 -11 1 1 1 1 1 -11 1 1 1 1 1 -11 1 1 1 1 1 -11 1 1 1 1 1 -11 1 1 1 1 1 -11 1 1 1 1 1 -11 1 1 1 1 1 -11 1 1 1 1 1 -11 1 1 1 1 1 -11 1 1 1 1 1 -11 1 1 1 1 1 -11 1 1 1 1 1 -11 1 1 1 1 1 -11 1 1 1 1 1 -11 1 1 1 1 1 -11 1 1 1 1 1 -11 1 1 1 1 1 -11 1 1 1 1 1 -11 1 1 1 1 1 -11 1 1 1 1 1 -11 1 1 1 1 1 -11 1 1 1 1 1 -11 1 1 1 1 1 -11 1 1 1 1 1 -11 1 1 1 1 1 -11 1 1 1 1 1 -11 1 1 1 1 1 -11 1 1 1 1 1 -11 1 1 1 1 1 -11 1 1 1 1 1 -11 1 1 1 1 1 -11 1 1 1 1 1 -11 1 1 1 1 1 -11 1 1 1 1 1 -11 1 1 1 1 1 -11 1 1 1 1 1 -11 1 1 1 1 1 -11 1 1 1 1 1 -11 1 1 1 1 1 -11 1 1 1 1 1 -11 1 1 1 1 1 -11 1 1 1 1 1 -11 1 1 1 1 1 -11 1 1 1 1 1 -11 1 1 1 1 1 -11 1 1 1 1 1 -11 1 1 1 1 1 -11 1 1 1 1 1 -11 1 1 1 1 1 -11 1 1 1 1 1 -11 1 1 1 1 1 -11 1 1 1 1 1 -11 1 1 1 1 1 -11 1 1 1 1 1 -11 1 1 1 1 1 -11 1 1 1 1 1 -11 1 1 1 1 1 -11 1 1 1 1 1 -11 1 1 1 1 1 -11 1 1 1 1 1 -11 1 1 1 1 1 -11 1 1 1 1 1 -11 1 1 1 1 1 -11 1 1 1 1 1 -11 1 1 1 1 1 -11 1 1 1 1 1 -11 1 1 1 1 1 -11 1 1 1 1 1 -11 1 1 1 1 1 -11 1 1 1 1 1 -11 1 1 1 1 1 -11 1 1 1 1 1 -11 1 1 1 1 1 -11 1 1 1 1 1 -11 1 1 1 1 1 -11 1 1 1 1 1 -11 1 1 1 1 1 -11 1 1 1 1 1 -11 1 1 1 1 1 -11 1 1 1 1 1 -11 1 1 1 1 1 -11 1 1 1 1 1 -11 1 1 1 1 1 -11 1 1 1 1 1 -11 1 1 1 1 1 -11 1 1 1 1 1 -11 1 1 1 1 1 -11 1 1 1 1 1 -11 1 1 1 1 1 -11 1 1 1 1 1 -11 1 1 1 1 1 -11 1 1 1 1 1 -11 1 1 1 1 1 -11 1 1 1 1 1 -11 1 1 1 1 1 -11 1 1 1 1 1 -11 1 1 1 1 1 -11 1 1 1 1 1 -11 1 1 1 1 1 -11 1 1 1 1 1 -11 1 1 1 1 1 -11 1 1 1 1 1 -11 1 1 1 1 1 -11 1 1 1 1 1 -11 1 1 1 1 1 -11 1 1 1 1 1 -11 1 1 1 1 1 -11 1 1 1 1 1 -11 1 1 1 1 1 -11 1 1 1 1 1 -11 1 1 1 1 1 -11 1 1 1 1 1 -11 1 1 1 1 1 -11 1 1 1 1 1 -11 1 1 1 1 1 -11 1 1 1 1 1 -11 1 1 1 1 1 -11 1 1 1 1 1 -11 1 1 1 1 1 -11 1 1 1 1 1 -11 1 1 1 1 1 -11 1 1 1 1 1 -11 1 1 1 1 1 -11 1 1 1 1 1 -11 1 1 1 1 1 -11 1 1 1 1 1 -11 1 1 1 1 1 -11 1 1 1 1 1 -11 1 1 1 1 1 -11 1 1 1 1 1 -11 1 1 1 1 1 -11 1 1 1 1 1 -11 1 1 1 1 1 -11 1 1 1 1 1 -11 1 1 1 1 1 -11 1 1 1 1 1 -11 1 1 1 1 1 -11 1 1 1 1 1 -11 1 1 1 1 1 -11 1 1 1 1 1 -11 1 1 1 1 1 -11 1 1 1 1 1 -11 1 1 1 1 1 -11 1 1 1 1 1 -11 1 1 1 1 1 -11 1 1 1 1 1 -11 1 1 1 1 1 -11 1 1 1 1 1 -11 1 1 1 1 1 -11 1 1 1 1 1 -11 1 1 1 1 1 -11 1 1 1 1 1 -11 1 1 1 1 1 -11 1 1 1 1 1 -11 1 1 1 1 1 -11 1 1 1 1 1 -11 1 1 1 1 1 -11 1 1 1 1 1 -11 1 1 1 1 1 -11 1 1 1 1 1 -11 1 1 1 1 1 -11 1 1 1 1 1 -11 1 1 1 1 1 -11 1 1 1 1 1 -11 1 1 1 1 1 -11 1 1 1 1 1 -11 1 1 1 1 1 -11 1 1 1 1 1 -11 1 1 1 1 1 -11 1 1 1 1 1 -11 1 1 1 1 1 -11 1 1 1 1 1 -11 1 1 1 1 1 -11 1 1 1 1 1 -11 1 1 1 1 1 -11 1 1 1 1 1 -11 1 1 1 1 1 -11 1 1 1 1 1 -11 1 1 1 1 1 -11 1 1 1 1 1 -11 1 1 1 1 1 -11 1 1 1 1 1 -11 1 1 1 1 1 -11 1 1 1 1 1 -11 1 1 1 1 1 -11 1 1 1 1 1 -11 1 1 1 1 1 -11 1 1 1 1 1 -11 1 1 1 1 1 -11 1 1 1 1 1 -11 1 1 1 1 1 -11 1 1 1 1 1 -11 1 1 1 1 1 -11 1 1 1 1 1 -11 1 1 1 1 1 -11 1 1 1 1 1 -11 1 1 1 1 1 -11 1 1 1 1 1 -11 1 1 1 1 1 -11 1 1 1 1 1 -11 1 1 1 1 1 -11 1 1 1 1 1 -11 1 1 1 1 1 -11 1 1 1 1 1 -11 1 1 1 1 1 -11 1 1 1 1 1 -11 1 1 1 1 1 -11 1 1 1 1 1 -11 1 1 1 1 1 -11 1 1 1 1 1 -11 1 1 1 1 1 -11 1 1 1 1 1 -11 1 1 1 1 1 -11 1 1 1 1 1 -11 1 1 1 1 1 -11 1 1 1 1 1 -11 1 1 1 1 1 -11 1 1 1 1 1 -11 1 1 1 1 1 -11 1 1 1 1 1 -11 1 1 1 1 1 -11 1 1 1 1 1 -11 1 1 1 1 1 -11 1 1 1 1 1 -11 1 1 1 1 1 -11 1 1 1 1 1 -11 1 1 1 1 1 -11 1 1 1 1 1 -11 1 1 1 1 1 -11 1 1 1 1 1 -11 1 1 1 1 1 -11 1 1 1 1 1 -11 1 1 1 1 1 -11 1 1 1 1 1 -11 1 1 1 1 1 -11 1 1 1 1 1 -11 1 1 1 1 1 -11 1 1 1 1 1 -11 1 1 1 1 1 -11 1 1 1 1 1 -11 1 1 1 1 1 -11 1 1 1 1 1 -11 1 1 1 1 1 -11 1 1 1 1 1 -11 1 1 1 1 1 -11 1 1 1 1 1 -11 1 1 1 1 1 -11 1 1 1 1 1 -11 1 1 1 1 1 -11 1 1 1 1 1 -11 1 1 1 1 1 -11 1 1 1 1 1 -11 1 1 1 1 1 -11 1 1 1 1 1 -11 1 1 1 1 1 -11 1 1 1 1 1 -11 1 1 1 1 1 -11 1 1 1 1 1 -11 1 1 1 1 1 -11 1 1 1 1 1 -11 1 1 1 1 1 -11 1 1 1 1 1 -11 1 1 1 1 1 -11 1 1 1 1 1 -11 1 1 1 1 1 -11 1 1 1 1 1 -11 1 1 1 1 1 -11 1 1 1 1 1 -11 1 1 1 1 1 -11 1 1 1 1 1 -11 1 1 1 1 1 -11 1 1 1 1 1 -11 1 1 1 1 1 -11 1 1 1 1 1 -11 1 1 1 1 1 -11 1 1 1 1 1 -11 1 1 1 1 1 -11 1 1 1 1 1 -11 1 1 1 1 1 -11 1 1 1 1 1 -11 1 1 1 1 1 -11 1 1 1 1 1 -11 1 1 1 1 1 -11 1 1 1 1 1 -11 1 1 1 1 1 -11 1 1 1 1 1 -11 1 1 1 1 1 -11 1 1 1 1 1 -11 1 1 1 1 1 -11 1 1 1 1 1 -11 1 1 1 1 1 -11 1 1 1 1 1 -11 1 1 1 1 1 -11 1 1 1 1 1 -11 1 1 1 1 1 -11 1 1 1 1 1 -11 1 1 1 1 1 -11 1 1 1 1 1 -11 1 1 1 1 1 -11 1 1 1 1 1 -11 1 1 1 1 1 -11 1 1 1 1 1 -11 1 1 1 1 1 -11 1 1 1 1 1 -11 1 1 1 1 1 -11 1 1 1 1 1 -11 1 1 1 1 1 -11 1 1 1 1 1 -11 1 1 1 1 1 -11 1 1 1 1 1 -11 1 1 1 1 1 -11 1 1 1 1 1 -11 1 1 1 1 1 -11 1 1 1 1 1 -11 1 1 1 1 1 -11 1 1 1 1 1 -11 1 1 1 1 1 -11 1 1 1 1 1 -11 1 1 1 1 1 -11 1 1 1 1 1 -11 1 1 1 1 1 -11 1 1 1 1 1 -11 1 1 1 1 1 -11 1 1 1 1 1 -11 1 1 1 1 1 -11 1 1 1 1 1 -11 1 1 1 1 1 -11 1 1 1 1 1 -11 1 1 1 1 1 -11 1 1 1 1 1 -11 1 1 1 1 1 -11 1 1 1 1 1 -11 1 1 1 1 1 -11 1 1 1 1 1 -11 1 1 1 1 1 -11 1 1 1 1 1 -11 1 1 1 1 1 -11 1 1 1 1 1 -11 1 1 1 1 1 -11 1 1 1 1 1 -11 1 1 1 1 1 -11 1 1 1 1 1 -11 1 1 1 1 1 -11 1 1 1 1 1 -11 1 1 1 1 1 -11 1 1 1 1 1 -11 1 1 1 1 1 -11 1 1 1 1 1 -11 1 1 1 1 1 -11 1 1 1 1 1 -11 1 1 1 1 1 -11 1 1 1 1 1 -11 1 1 1 1 1 -11 1 1 1 1 1 -11 1 1 1 1 1 -11 1 1 1 1 1 -11 1 1 1 1 1 -11 1 1 1 1 1 -11 1 1 1 1 1 -11 1 1 1 1 1 -11 1 1 1 1 1 -11 1 1 1 1 1 -11 1 1 1 1 1 -11 1 1 1 1 1 -11 1 1 1 1 1 -11 1 1 1 1 1 -11 1 1 1 1 1 -11 1 1 1 1 1 -11 1 1 1 1 1 -11 1 1 1 1 1 -11 1 1 1 1 1 -11 1 1 1 1 1 -11 1 1 1 1 1 -11 1 1 1 1 1 -11 1 1 1 1 1 -11 1 1 1 1 1 -11 1 1 1 1 1 -11 1 1 1 1 1 -11 1 1 1 1 1 -11 1 1 1 1 1 -11 1 1 1 1 1 -11 1 1 1 1 1 -11 1 1 1 1 1 -11 1 1 1 1 1 -11 1 1 1 1 1 -11 1 1 1 1 1 -11 1 1 1 1 1 -11 1 1 1 1 1 -11 1 1 1 1 1 -11 1 1 1 1 1 -11 1 1 1 1 1 -11 1 1 1 1 1 -11 1 1 1 1 1 -11 1 1 1 1 1 -11 1 1 1 1 1 -11 1 1 1 1 1 -11 1 1 1 1 1 -11 1 1 1 1 1 -11 1 1 1 1 1 -11 1 1 1 1 1 -11 1 1 1 1 1 -11 1 1 1 1 1 -11 1 1 1 1 1 -11 1 1 1 1 1 -11 1 1 1 1 1 -11 1 1 1 1 1 -11 1 1 1 1 1 -11 1 1 1 1 1 -11 1 1 1 1 1 -11 1 1 1 1 1 -11 1 1 1 1 1 -11 1 1 1 1 1 -11 1 1 1 1 1 -11 1 1 1 1 1 -11 1 1 1 1 1 -11 1 1 1 1 1 -11 1 1 1 1 1 -11 1 1 1 1 1 -11 1 1 1 1 1 -11 1 1 1 1 1 -11 1 1 1 1 1 -11 1 1 1 1 1 -11 1 1 1 1 1 -11 1 1 1 1 1 -11 1 1 1 1 1 -11 1 1 1 1 1 -11 1 1 1 1 1 -11 1 1 1 1 1 -11 1 1 1 1 1 -11 1 1 1 1 1 -11 1 1 1 1 1 -11 1 1 1 1 1 -11 1 1 1 1 1 -11 1 1 1 1 1 -11 1 1 1 1 1 -11 1 1 1 1 1 -11 1 1 1 1 1 -11 1 1 1 1 1 -11 1 1 1 1 1 -11 1 1 1 1 1 -11 1 1 1 1 1 -11 1 1 1 1 1 -11 1 1 1 1 1 -11 1 1 1 1 1 -11 1 1 1 1 1 -11 1 1 1 1 1 -11 1 1 1 1 1 -11 1 1 1 1 1 -11 1 1 1 1 1 -11 1 1 1 1 1 -11 1 1 1 1 1 -11 1 1 1 1 1 -11 1 1 1 1 1 -11 1 1 1 1 1 -11 1 1 1 1 1 -11 1 1 1 1 1 -11 1 1 1 1 1 -11 1 1 1 1 1 -11 1 1 1 1 1 -11 1 1 1 1 1 -11 1 1 1 1 1 -11 1 1 1 1 1 -11 1 1 1 1 1 -11 1 1 1 1 1 -11 1 1 1 1 1 -11 1 1 1 1 1 -11 1 1 1 1 1 -11 1 1 1 1 1 -11 1 1 1 1 1 -11 1 1 1 1 1 -11 1 1 1 1 1 -11 1 1 1 1 1 -11 1 1 1 1 1 -11 1 1 1 1 1 -11 1 1 1 1 1 -11 1 1 1 1 1 -11 1 1 1 1 1 -11 1 1 1 1 1 -11 1 1 1 1 1 -11 1 1 1 1 1 -11 1 1 1 1 1 -11 1 1 1 1 1 -11 1 1 1 1 1 -11 1 1 1 1 1 -11 1 1 1 1 1 -11 1 1 1 1 1 -11 1 1 1 1 1 -11 1 1 1 1 1 -11 1 1 1 1 1 -11 1 1 1 1 1 -11 1 1 1 1 1 -11 1 1 1 1 1 -11 1 1 1 1 1 -11 1 1 1 1 1 -11 1 1 1 1 1 -11 1 1 1 1 1 -11 1 1 1 1 1 -11 1 1 1 1 1 -11 1 1 1 1 1 -11 1 1 1 1 1 -11 1 1 1 1 1 -11 1 1 1 1 1 -11 1 1 1 1 1 -11 1 1 1 1 1 -11 1 1 1 1 1 -11 1 1 1 1 1 -11 1 1 1 1 1 -11 1 1 1 1 1 -11 1 1 1 1 1 -11 1 1 1 1 1 -11 1 1 1 1 1 -11 1 1 1 1 1 -11 1 1 1 1 1 -11 1 1 1 1 1 -11 1 1 1 1 1 -11 1 1 1 1 1 -11 1 1 1 1 1 -11 1 1 1 1 1 -11 1 1 1 1 1 -11 1 1 1 1 1 -11 1 1 1 1 1 -11 1 1 1 1 1 -11 1 1 1 1 1 -11 1 1 1 1 1 -11 1 1 1 1 1 -11 1 1 1 1 1 -11 1 1 1 1 1 -11 1 1 1 1 1 -11 1 1 1 1 1 -11 1 1 1 1 1 -11 1 1 1 1 1 -11 1 1 1 1 1 -11 1 1 1 1 1 -11 1 1 1 1 1 -11 1 1 1 1 1 -11 1 1 1 1 1 -11 1 1 1 1 1 -11 1 1 1 1 1 -11 1 1 1 1 1 -11 1 1 1 1 1 -11 1 1 1 1 1 -11 1 1 1 1 1 -11 1 1 1 1 1 -11 1 1 1 1 1 -11 1 1 1 1 1 -11 1 1 1 1 1 -11 1 1 1 1 1 -11 1 1 1 1 1 -11 1 1 1 1 1 -11 1 1 1 1 1 -11 1 1 1 1 1 -11 1 1 1 1 1 -11 1 1 1 1 1 -11 1 1 1 1 1 -11 1 1 1 1 1 -11 1 1 1 1 1 -11 1 1 1 1 1 -11 1 1 1 1 1 -11 1 1 1 1 1 -11 1 1 1 1 1 -11 1 1 1 1 1 -11 1 1 1 1 1 -11 1 1 1 1 1 -11 1 1 1 1 1 -11 1 1 1 1 1 -11 1 1 1 1 1 -11 1 1 1 1 1 -11 1 1 1 1 1 -11 1 1 1 1 1 -11 1 1 1 1 1 -11 1 1 1 1 1 -11 1 1 1 1 1 -11 1 1 1 1 1 -11 1 1 1 1 1 -11 1 1 1 1 1 -11 1 1 1 1 1 -11 1 1 1 1 1 -11 1 1 1 1 1 -11 1 1 1 1 1 -11 1 1 1 1 1 -11 1 1 1 1 1 -11 1 1 1 1 1 -11 1 1 1 1 1 -11 1 1 1 1 1 -11 1 1 1 1 1 -11 1 1 1 1 1 -11 1 1 1 1 1 -11 1 1 1 1 1 -11 1 1 1 1 1 -11 1 1 1 1 1 -11 1 1 1 1 1 -11 1 1 1 1 1 -11 1 1 1 1 1 -11 1 1 1 1 1 -11 1 1 1 1 1 -11 1 1 1 1 1 -11 1 1 1 1 1 -11 1 1 1 1 1 -11 1 1 1 1 1 -11 1 1 1 1 1 -11 1 1 1 1 1 -11 1 1 1 1 1 -11 1 1 1 1 1 -11 1 1 1 1 1 -11 1 1 1 1 1 -11 1 1 1 1 1 -11 1 1 1 1 1 -11 1 1 1 1 1 -11 1 1 1 1 1 -11 1 1 1 1 1 -11 1 1 1 1 1 -11 1 1 1 1 1 -11 1 1 1 1 1 -11 1 1 1 1 1 -11 1 1 1 1 1 -11 1 1 1 1 1 -11 1 1 1 1 1 -11 1 1 1 1 1 -11 1 1 1 1 1 -11 1 1 1 1 1 -11 1 1 1 1 1 -11 1 1 1 1 1 -11 1 1 1 1 1 -11 1 1 1 1 1 -11 1 1 1 1 1 -11 1 1 1 1 1 -11 1 1 1 1 1 -11 1 1 1 1 1 -11 1 1 1 1 1 -11 1 1 1 1 1 -11 1 1 1 1 1 -11 1 1 1 1 1 -11 1 1 1 1 1 -11 1 1 1 1 1 -11 1 1 1 1 1 -11 1 1 1 1 1 -11 1 1 1 1 1 -11 1 1 1 1 1 -11 1 1 1 1 1 -11 1 1 1 1 1 -11 1 1 1 1 1 -11 1 1 1 1 1 -11 1 1 1 1 1 -11 1 1 1 1 1 -11 1 1 1 1 1 -11 1 1 1 1 1 -11 1 1 1 1 1 -11 1 1 1 1 1 -11 1 1 1 1 1 -11 1 1 1 1 1 -11 1 1 1 1 1 -11 1 1 1 1 1 -11 1 1 1 1 1 -11 1 1 1 1 1 -11 1 1 1 1 1 -11 1 1 1 1 1 -11 1 1 1 1 1 -11 1 1 1 1 1 -11 1 1 1 1 1 -11 1 1 1 1 1 -11 1 1 1 1 1 -11 1 1 1 1 1 -11 1 1 1 1 1 -11 1 1 1 1 1 -11 1 1 1 1 1 -11 1 1 1 1 1 -11 1 1 1 1 1 -11 1 1 1 1 1 -11 1 1 1 1 1 -11 1 1 1 1 1 -11 1 1 1 1 1 -11 1 1 1 1 1 -11 1 1 1 1 1 -11 1 1 1 1 1 -11 1 1 1 1 1 -11 1 1 1 1 1 -11 1 1 1 1 1 -11 1 1 1 1 1 -11 1 1 1 1 1 -11 1 1 1 1 1 -11 1 1 1 1 1 -11 1 1 1 1 1 -11 1 1 1 1 1 -11 1 1 1 1 1 -11 1 1 1 1 1 -11 1 1 1 1 1 -11 1 1 1 1 1 -11 1 1 1 1 1 -11 1 1 1 1 1 -11 1 1 1 1 1 -11 1 1 1 1 1 -11 1 1 1 1 1 -11 1 1 1 1 1 -11 1 1 1 1 1 -11 1 1 1 1 1 -11 1 1 1 1 1 -11 1 1 1 1 1 -11 1 1 1 1 1 -11 1 1 1 1 1 -11 1 1 1 1 1 -11 1 1 1 1 1 -11 1 1 1 1 1 -11 1 1 1 1 1 -11 1 1 1 1 1 -11 1 1 1 1 1 -11 1 1 1 1 1 -11 1 1 1 1 1 -11 1 1 1 1 1 -11 1 1 1 1 1 -11 1 1 1 1 1 -11 1 1 1 1 1 -11 1 1 1 1 1 -11 1 1 1 1 1 -11 1 1 1 1 1 -11 1 1 1 1 1 -11 1 1 1 1 1 -11 1 1 1 1 1 -11 1 1 1 1 1 -11 1 1 1 1 1 -11 1 1 1 1 1 -11 1 1 1 1 1 -11 1 1 1 1 1 -11 1 1 1 1 1 -11 1 1 1 1 1 -11 1 1 1 1 1 -11 1 1 1 1 1 -11 1 1 1 1 1 -11 1 1 1 1 1 -11 1 1 1 1 1 -11 1 1 1 1 1 -11 1 1 1 1 1 -11 1 1 1 1 1 -11 1 1 1 1 1 -11 1 1 1 1 1 -11 1 1 1 1 1 -11 1 1 1 1 1 -11 1 1 1 1 1 -11 1 1 1 1 1 -11 1 1 1 1 1 -11 1 1 1 1 1 -11 1 1 1 1 1 -11 1 1 1 1 1 -11 1 1 1 1 1 -11 1 1 1 1 1 -11 1 1 1 1 1 -11 1 1 1 1 1 -11 1 1 1 1 1 -11 1 1 1 1 1 -11 1 1 1 1 1 -11 1 1 1 1 1 -11 1 1 1 1 1 -11 1 1 1 1 1 -11 1 1 1 1 1 -11 1 1 1 1 1 -11 1 1 1 1 1 -11 1 1 1 1 1 -11 1 1 1 1 1 -11 1 1 1 1 1 -11 1 1 1 1 1 -11 1 1 1 1 1 -11 1 1 1 1 1 -11 1 1 1 1 1 -11 1 1 1 1 1 -11 1 1 1 1 1 -11 1 1 1 1 1 -11 1 1 1 1 1 -11 1 1 1 1 1 -11 1 1 1 1 1 -11 1 1 1 1 1 -11 1 1 1 1 1 -11 1 1 1 1 1 -11 1 1 1 1 1 -11 1 1 1 1 1 -11 1 1 1 1 1 -11 1 1 1 1 1 -11 1 1 1 1 1 -11 1 1 1 1 1 -11 1 1 1 1 1 -11 1 1 1 1 1 -11 1 1 1 1 1 -11 1 1 1 1 1 -11 1 1 1 1 1 -11 1 1 1 1 1 -11 1 1 1 1 1 -11 1 1 1 1 1 -11 1 1 1 1 1 -11 1 1 1 1 1 -11 1 1 1 1 1 -11 1 1 1 1 1 -11 1 1 1 1 1 -11 1 1 1 1 1 -11 1 1 1 1 1 -11 1 1 1 1 1 -11 1 1 1 1 1 -11 1 1 1 1 1 -11 1 1 1 1 1 -11 1 1 1 1 1 -11 1 1 1 1 1 -11 1 1 1 1 1 -11 1 1 1 1 1 -11 1 1 1 1 1 -11 1 1 1 1 1 -11 1 1 1 1 1 -11 1 1 1 1 1 -11 1 1 1 1 1 -11 1 1 1 1 1 -11 1 1 1 1 1 -11 1 1 1 1 1 -11 1 1 1 1 1 -11 1 1 1 1 1 -11 1 1 1 1 1 -11 1 1 1 1 1 -11 1 1 1 1 1 -11 1 1 1 1 1 -11 1 1 1 1 1 -11 1 1 1 1 1 -11 1 1 1 1 1 -11 1 1 1 1 1 -11 1 1 1 1 1 -11 1 1 1 1 1 -11 1 1 1 1 1 -11 1 1 1 1 1 -11 1 1 1 1 1 -11 1 1 1 1 1 -11 1 1 1 1 1 -11 1 1 1 1 1 -11 1 1 1 1 1 -11 1 1 1 1 1 -11 1 1 1 1 1 -11 1 1 1 1 1 -11 1 1 1 1 1 -11 1 1 1 1 1 -11 1 1 1 1 1 -11 1 1 1 1 1 -11 1 1 1 1 1 -11 1 1 1 1 1 -11 1 1 1 1 1 -11 1 1 1 1 1 -11 1 1 1 1 1 -11 1 1 1 1 1 -11 1 1 1 1 1 -11 1 1 1 1 1 -11 1 1 1 1 1 -11 1 1 1 1 1 -11 1 1 1 1 1 -11 1 1 1 1 1 -11 1 1 1 1 1 -11 1 1 1 1 1 -11 1 1 1 1 1 -11 1 1 1 1 1 -11 1 1 1 1 1 -11 1 1 1 1 1 -11 1 1 1 1 1 -11 1 1 1 1 1 -11 1 1 1 1 1 -11 1 1 1 1 1 -11 1 1 1 1 1 -11 1 1 1 1 1 -11 1 1 1 1 1 -11 1 1 1 1 1 -11 1 1 1 1 1 -11 1 1 1 1 1 -11 1 1 1 1 1 -11 1 1 1 1 1 -11 1 1 1 1 1 -11 1 1 1 1 1 -11 1 1 1 1 1 -11 1 1 1 1 1 -11 1 1 1 1 1 -11 1 1 1 1 1 -11 1 1 1 1 1 -11 1 1 1 1 1 -11 1 1 1 1 1 -11 1 1 1 1 1 -11 1 1 1 1 1 -11 1 1 1 1 1 -11 1 1 1 1 1 -11 1 1 1 1 1 -11 1 1 1 1 1 -11 1 1 1 1 1 -11 1 1 1 1 1 -11 1 1 1 1 1 -11 1 1 1 1 1 -11 1 1 1 1 1 -11 1 1 1 1 1 -11 1 1 1 1 1 -11 1 1 1 1 1 -11 1 1 1 1 1 -11 1 1 1 1 1 -11 1 1 1 1 1 -11 1 1 1 1 1 -11 1 1 1 1 1 -11 1 1 1 1 1 -11 1 1 1 1 1 -11 1 1 1 1 1 -11 1 1 1 1 1 -11 1 1 1 1 1 -11 1 1 1 1 1 -11 1 1 1 1 1 -11 1 1 1 1 1 -11 1 1 1 1 1 -11 1 1 1 1 1 -11 1 1 1 1 1 -11 1 1 1 1 1 -11 1 1 1 1 1 -11 1 1 1 1 1 -11 1 1 1 1 1 -11 1 1 1 1 1 -11 1 1 1 1 1 -11 1 1 1 1 1 -11 1 1 1 1 1 -11 1 1 1 1 1 -11 1 1 1 1 1 -11 1 1 1 1 1 -11 1 1 1 1 1 -11 1 1 1 1 1 -11 1 1 1 1 1 -11 1 1 1 1 1 -11 1 1 1 1 1 -11 1 1 1 1 1 -11 1 1 1 1 1 -11 1 1 1 1 1 -11 1 1 1 1 1 -11 1 1 1 1 1 -11 1 1 1 1 1 -11 1 1 1 1 1 -11 1 1 1 1 1 -11 1 1 1 1 1 -11 1 1 1 1 1 -11 1 1 1 1 1 -11 1 1 1 1 1 -11 1 1 1 1 1 -11 1 1 1 1 1 -11 1 1 1 1 1 -11 1 1 1 1 1 -11 1 1 1 1 1 -11 1 1 1 1 1 -11 1 1 1 1 1 -11 1 1 1 1 1 -11 1 1 1 1 1 -11 1 1 1 1 1 -11 1 1 1 1 1 -11 1 1 1 1 1 -11 1 1 1 1 1 -11 1 1 1 1 1 -11 1 1 1 1 1 -11 1 1 1 1 1 -11 1 1 1 1 1 -11 1 1 1 1 1 -11 1 1 1 1 1 -11 1 1 1 1 1 -11 1 1 1 1 1 -11 1 1 1 1 1 -11 1 1 1 1 1 -11 1 1 1 1 1 -11 1 1 1 1 1 -11 1 1 1 1 1 -11 1 1 1 1 1 -11 1 1 1 1 1 -11 1 1 1 1 1 -11 1 1 1 1 1 -11 1 1 1 1 1 -11 1 1 1 1 1 -11 1 1 1 1 1 -11 1 1 1 1 1 -11 1 1 1 1 1 -11 1 1 1 1 1 -11 1 1 1 1 1 -11 1 1 1 1 1 -11 1 1 1 1 1 -11 1 1 1 1 1 -11 1 1 1 1 1 -11 1 1 1 1 1 -11 1 1 1 1 1 -11 1 1 1 1 1 -11 1 1 1 1 1 -11 1 1 1 1 1 -11 1 1 1 1 1 -11 1 1 1 1 1 -11 1 1 1 1 1 -11 1 1 1 1 1 -11 1 1 1 1 1 -11 1 1 1 1 1 -11 1 1 1 1 1 -11 1 1 1 1 1 -11 1 1 1 1 1 -11 1 1 1 1 1 -11 1 1 1 1 1 -11 1 1 1 1 1 -11 1 1 1 1 1 -11 1 1 1 1 1 -11 1 1 1 1 1 -11 1 1 1 1 1 -11 1 1 1 1 1 -11 1 1 1 1 1 -11 1 1 1 1 1 -11 1 1 1 1 1 -11 1 1 1 1 1 -11 1 1 1 1 1 -11 1 1 1 1 1 -11 1 1 1 1 1 -11 1 1 1 1 1 -11 1 1 1 1 1 -11 1 1 1 1 1 -11 1 1 1 1 1 -11 1 1 1 1 1 -11 1 1 1 1 1 -11 1 1 1 1 1 -11 1 1 1 1 1 -11 1 1 1 1 1 -11 1 1 1 1 1 -11 1 1 1 1 1 -11 1 1 1 1 1 -11 1 1 1 1 1 -11 1 1 1 1 1 -11 1 1 1 1 1 -11 1 1 1 1 1 -11 1 1 1 1 1 -11 1 1 1 1 1 -11 1 1 1 1 1 -11 1 1 1 1 1 -11 1 1 1 1 1 -11 1 1 1 1 1 -11 1 1 1 1 1 -11 1 1 1 1 1 -11 1 1 1 1 1 -11 1 1 1 1 1 -11 1 1 1 1 1 -11 1 1 1 1 1 -11 1 1 1 1 1 -11 1 1 1 1 1 -11 1 1 1 1 1 -11 1 1 1 1 1 -11 1 1 1 1 1 -11 1 1 1 1 1 -11 1 1 1 1 1 -11 1 1 1 1 1 -11 1 1 1 1 1 -11 1 1 1 1 1 -11 1 1 1 1 1 -11 1 1 1 1 1 -11 1 1 1 1 1 -11 1 1 1 1 1 -11 1 1 1 1 1 -11 1 1 1 1 1 -11 1 1 1 1 1 -11 1 1 1 1 1 -11 1 1 1 1 1 -11 1 1 1 1 1 -11 1 1 1 1 1 -11 1 1 1 1 1 -11 1 1 1 1 1 -11 1 1 1 1 1 -11 1 1 1 1 1 -11 1 1 1 1 1 -11 1 1 1 1 1 -11 1 1 1 1 1 -11 1 1 1 1 1 -11 1 1 1 1 1 -11 1 1 1 1 1 -11 1 1 1 1 1 -11 1 1 1 1 1 -11 1 1 1 1 1 -11 1 1 1 1 1 -11 1 1 1 1 1 -11 1 1 1 1 1 -11 1 1 1 1 1 -11 1 1 1 1 1 -11 1 1 1 1 1 -11 1 1 1 1 1 -11 1 1 1 1 1 -11 1 1 1 1 1 -11 1 1 1 1 1 -11 1 1 1 1 1 -11 1 1 1 1 1 -11 1 1 1 1 1 -11 1 1 1 1 1 -11 1 1 1 1 1 -11 1 1 1 1 1 -11 1 1 1 1 1 -11 1 1 1 1 1 -11 1 1 1 1 1 -11 1 1 1 1 1 -11 1 1 1 1 1 -11 1 1 1 1 1 -11 1 1 1 1 1 -11 1 1 1 1 1 -11 1 1 1 1 1 -11 1 1 1 1 1 -11 1 1 1 1 1 -11 1 1 1 1 1 -11 1 1 1 1 1 -11 1 1 1 1 1 -11 1 1 1 1 1 -11 1 1 1 1 1 -11 1 1 1 1 1 -11 1 1 1 1 1 -11 1 1 1 1 1 -11 1 1 1 1 1 -11 1 1 1 1 1 -11 1 1 1 1 1 -11 1 1 1 1 1 -11 1 1 1 1 1 -11 1 1 1 1 1 -11 1 1 1 1 1 -11 1 1 1 1 1 -11 1 1 1 1 1 -11 1 1 1 1 1 -11 1 1 1 1 1 -11 1 1 1 1 1 -11 1 1 1 1 1 -11 1 1 1 1 1 -11 1 1 1 1 1 -11 1 1 1 1 1 -11 1 1 1 1 1 -11 1 1 1 1 1 -11 1 1 1 1 1 -11 1 1 1 1 1 -11 1 1 1 1 1 -11 1 1 1 1 1 -11 1 1 1 1 1 -11 1 1 1 1 1 -11 1 1 1 1 1 -11 1 1 1 1 1 -11 1 1 1 1 1 -11 1 1 1 1 1 -11 1 1 1 1 1 -11 1 1 1 1 1 -11 1 1 1 1 1 -11 1 1 1 1 1 -11 1 1 1 1 1 -11 1 1 1 1 1 -11 1 1 1 1 1 -11 1 1 1 1 1 -11 1 1 1 1 1 -11 1 1 1 1 1 -11 1 1 1 1 1 -11 1 1 1 1 1 -11 1 1 1 1 1 -11 1 1 1 1 1 -11 1 1 1 1 1 -11 1 1 1 1 1 -11 1 1 1 1 1 -11 1 1 1 1 1 -11 1 1 1 1 1 -11 1 1 1 1 1 -11 1 1 1 1 1 -11 1 1 1 1 1 -11 1 1 1 1 1 -11 1 1 1 1 1 -11 1 1 1 1 1 -11 1 1 1 1 1 -11 1 1 1 1 1 -11 1 1 1 1 1 -11 1 1 1 1 1 -11 1 1 1 1 1 -11 1 1 1 1 1 -11 1 1 1 1 1 -11 1 1 1 1 1 -11 1 1 1 1 1 -11 1 1 1 1 1 -11 1 1 1 1 1 -11 1 1 1 1 1 -11 1 1 1 1 1 -11 1 1 1 1 1 -11 1 1 1 1 1 -11 1 1 1 1 1 -11 1 1 1 1 1 -11 1 1 1 1 1 -11 1 1 1 1 1 -11 1 1 1 1 1 -11 1 1 1 1 1 -11 1 1 1 1 1 -11 1 1 1 1 1 -11 1 1 1 1 1 -11 1 1 1 1 1 -11 1 1 1 1 1 -11 1 1 1 1 1 -11 1 1 1 1 1 -11 1 1 1 1 1 -11 1 1 1 1 1 -11 1 1 1 1 1 -11 1 1 1 1 1 -11 1 1 1 1 1 -11 1 1 1 1 1 -11 1 1 1 1 1 -11 1 1 1 1 1 -11 1 1 1 1 1 -11 1 1 1 1 1 -11 1 1 1 1 1 -11 1 1 1 1 1 -11 1 1 1 1 1 -11 1 1 1 1 1 -11 1 1 1 1 1 -11 1 1 1 1 1 -11 1 1 1 1 1 -11 1 1 1 1 1 -11 1 1 1 1 1 -11 1 1 1 1 1 -11 1 1 1 1 1 -11 1 1 1 1 1 -11 1 1 1 1 1 -11 1 1 1 1 1 -11 1 1 1 1 1 -11 1 1 1 1 1 -11 1 1 1 1 1 -11 1 1 1 1 1 -11 1 1 1 1 1 -11 1 1 1 1 1 -11 1 1 1 1 1 -11 1 1 1 1 1 -11 1 1 1 1 1 -11 1 1 1 1 1 -11 1 1 1 1 1 -11 1 1 1 1 1 -11 1 1 1 1 1 -11 1 1 1 1 1 -11 1 1 1 1 1 -11 1 1 1 1 1 -11 1 1 1 1 1 -11 1 1 1 1 1 -11 1 1 1 1 1 -11 1 1 1 1 1 -11 1 1 1 1 1 -11 1 1 1 1 1 -11 1 1 1 1 1 -11 1 1 1 1 1 -11 1 1 1 1 1 -11 1 1 1 1 1 -11 1 1 1 1 1 -11 1 1 1 1 1 -11 1 1 1 1 1 -11 1 1 1 1 1 -11 1 1 1 1 1 -11 1 1 1 1 1 -11 1 1 1 1 1 -11 1 1 1 1 1 -11 1 1 1 1 1 -11 1 1 1 1 1 -11 1 1 1 1 1 -11 1 1 1 1 1 -11 1 1 1 1 1 -11 1 1 1 1 1 -11 1 1 1 1 1 -11 1 1 1 1 1 -11 1 1 1 1 1 -11 1 1 1 1 1 -11 1 1 1 1 1 -11 1 1 1 1 1 -11 1 1 1 1 1 -11 1 1 1 1 1 -11 1 1 1 1 1 -11 1 1 1 1 1 -11 1 1 1 1 1 -11 1 1 1 1 1 -11 1 1 1 1 1 -11 1 1 1 1 1 -11 1 1 1 1 1 -11 1 1 1 1 1 -11 1 1 1 1 1 -11 1 1 1 1 1 -11 1 1 1 1 1 -11 1 1 1 1 1 -11 1 1 1 1 1 -11 1 1 1 1 1 -11 1 1 1 1 1 -11 1 1 1 1 1 -11 1 1 1 1 1 -11 1 1 1 1 1 -11 1 1 1 1 1 -11 1 1 1 1 1 -11 1 1 1 1 1 -11 1 1 1 1 1 -11 1 1 1 1 1 -11 1 1 1 1 1 -11 1 1 1 1 1 -11 1 1 1 1 1 -11 1 1 1 1 1 -11 1 1 1 1 1 -11 1 1 1 1 1 -11 1 1 1 1 1 -11 1 1 1 1 1 -11 1 1 1 1 1 -11 1 1 1 1 1 -11 1 1 1 1 1 -11 1 1 1 1 1 -11 1 1 1 1 1 -11 1 1 1 1 1 -11 1 1 1 1 1 -11 1 1 1 1 1 -11 1 1 1 1 1 -11 1 1 1 1 1 -11 1 1 1 1 1 -11 1 1 1 1 1 -11 1 1 1 1 1 -11 1 1 1 1 1 -11 1 1 1 1 1 -11 1 1 1 1 1 -11 1 1 1 1 1 -11 1 1 1 1 1 -11 1 1 1 1 1 -11 1 1 1 1 1 -11 1 1 1 1 1 -11 1 1 1 1 1 -11 1 1 1 1 1 -11 1 1 1 1 1 -11 1 1 1 1 1 -11 1 1 1 1 1 -11 1 1 1 1 1 -11 1 1 1 1 1 -11 1 1 1 1 1 -11 1 1 1 1 1 -11 1 1 1 1 1 -11 1 1 1 1 1 -11 1 1 1 1 1 -11 1 1 1 1 1 -11 1 1 1 1 1 -11 1 1 1 1 1 -11 1 1 1 1 1 -11 1 1 1 1 1 -11 1 1 1 1 1 -11 1 1 1 1 1 -11 1 1 1 1 1 -11 1 1 1 1 1 -11 1 1 1 1 1 -11 1 1 1 1 1 -11 1 1 1 1 1 -11 1 1 1 1 1 -11 1 1 1 1 1 -11 1 1 1 1 1 -11 1 1 1 1 1 -11 1 1 1 1 1 -11 1 1 1 1 1 -11 1 1 1 1 1 -11 1 1 1 1 1 -11 1 1 1 1 1 -11 1 1 1 1 1 -11 1 1 1 1 1 -11 1 1 1 1 1 -11 1 1 1 1 1 -11 1 1 1 1 1 -11 1 1 1 1 1 -11 1 1 1 1 1 -11 1 1 1 1 1 -11 1 1 1 1 1 -11 1 1 1 1 1 -11 1 1 1 1 1 -11 1 1 1 1 1 -11 1 1 1 1 1 -11 1 1 1 1 1 -11 1 1 1 1 1 -11 1 1 1 1 1 -11 1 1 1 1 1 -11 1 1 1 1 1 -11 1 1 1 1 1 -11 1 1 1 1 1 -11 1 1 1 1 1 -11 1 1 1 1 1 -11 1 1 1 1 1 -11 1 1 1 1 1 -11 1 1 1 1 1 -11 1 1 1 1 1 -11 1 1 1 1 1 -11 1 1 1 1 1 -11 1 1 1 1 1 -11 1 1 1 1 1 -11 1 1 1 1 1 -11 1 1 1 1 1 -11 1 1 1 1 1 -11 1 1 1 1 1 -11 1 1 1 1 1 -11 1 1 1 1 1 -11 1 1 1 1 1 -11 1 1 1 1 1 -11 1 1 1 1 1 -11 1 1 1 1 1 -11 1 1 1 1 1 -11 1 1 1 1 1 -11 1 1 1 1 1 -11 1 1 1 1 1 -11 1 1 1 1 1 -11 1 1 1 1 1 -11 1 1 1 1 1 -11 1 1 1 1 1 -11 1 1 1 1 1 -11 1 1 1 1 1 -11 1 1 1 1 1 -11 1 1 1 1 1 -11 1 1 1 1 1 -11 1 1 1 1 1 -11 1 1 1 1 1 -11 1 1 1 1 1 -11 1 1 1 1 1 -11 1 1 1 1 1 -11 1 1 1 1 1 -11 1 1 1 1 1 -11 1 1 1 1 1 -11 1 1 1 1 1 -11 1 1 1 1 1 -11 1 1 1 1 1 -11 1 1 1 1 1 -11 1 1 1 1 1 -11 1 1 1 1 1 -11 1 1 1 1 1 -11 1 1 1 1 1 -11 1 1 1 1 1 -11 1 1 1 1 1 -11 1 1 1 1 1 -11 1 1 1 1 1 -11 1 1 1 1 1 -11 1 1 1 1 1 -11 1 1 1 1 1 -11 1 1 1 1 1 -11 1 1 1 1 1 -11 1 1 1 1 1 -11 1 1 1 1 1 -11 1 1 1 1 1 -11 1 1 1 1 1 -11 1 1 1 1 1 -11 1 1 1 1 1 -11 1 1 1 1 1 -11 1 1 1 1 1 -11 1 1 1 1 1 -11 1 1 1 1 1 -11 1 1 1 1 1 -11 1 1 1 1 1 -11 1 1 1 1 1 -11 1 1 1 1 1 -11 1 1 1 1 1 -11 1 1 1 1 1 -11 1 1 1 1 1 -11 1 1 1 1 1 -11 1 1 1 1 1 -11 1 1 1 1 1 -11 1 1 1 1 1 -11 1 1 1 1 1 -11 1 1 1 1 1 -11 1 1 1 1 1 -11 1 1 1 1 1 -11 1 1 1 1 1 -11 1 1 1 1 1 -11 1 1 1 1 1 -11 1 1 1 1 1 -11 1 1 1 1 1 -11 1 1 1 1 1 -11 1 1 1 1 1 -11 1 1 1 1 1 -11 1 1 1 1 1 -11 1 1 1 1 1 -11 1 1 1 1 1 -11 1 1 1 1 1 -11 1 1 1 1 1 -11 1 1 1 1 1 -11 1 1 1 1 1 -11 1 1 1 1 1 -11 1 1 1 1 1 -11 1 1 1 1 1 -11 1 1 1 1 1 -11 1 1 1 1 1 -11 1 1 1 1 1 -11 1 1 1 1 1 -11 1 1 1 1 1 -11 1 1 1 1 1 -11 1 1 1 1 1 -11 1 1 1 1 1 -11 1 1 1 1 1 -11 1 1 1 1 1 -11 1 1 1 1 1 -11 1 1 1 1 1 -11 1 1 1 1 1 -11 1 1 1 1 1 -11 1 1 1 1 1 -11 1 1 1 1 1 -11 1 1 1 1 1 -11 1 1 1 1 1 -11 1 1 1 1 1 -11 1 1 1 1 1 -11 1 1 1 1 1 -11 1 1 1 1 1 -11 1 1 1 1 1 -11 1 1 1 1 1 -11 1 1 1 1 1 -11 1 1 1 1 1 -11 1 1 1 1 1 -11 1 1 1 1 1 -11 1 1 1 1 1 -11 1 1 1 1 1 -11 1 1 1 1 1 -11 1 1 1 1 1 -11 1 1 1 1 1 -11 1 1 1 1 1 -11 1 1 1 1 1 -11 1 1 1 1 1 -11 1 1 1 1 1 -11 1 1 1 1 1 -11 1 1 1 1 1 -11 1 1 1 1 1 -11 1 1 1 1 1 -11 1 1 1 1 1 -11 1 1 1 1 1 -11 1 1 1 1 1 -11 1 1 1 1 1 -11 1 1 1 1 1 -11 1 1 1 1 1 -11 1 1 1 1 1 -11 1 1 1 1 1 -11 1 1 1 1 1 -11 1 1 1 1 1 -11 1 1 1 1 1 -11 1 1 1 1 1 -11 1 1 1 1 1 -11 1 1 1 1 1 -11 1 1 1 1 1 -11 1 1 1 1 1 -11 1 1 1 1 1 -11 1 1 1 1 1 -11 1 1 1 1 1 -11 1 1 1 1 1 -11 1 1 1 1 1 -11 1 1 1 1 1 -11 1 1 1 1 1 -11 1 1 1 1 1 -11 1 1 1 1 1 -11 1 1 1 1 1 -11 1 1 1 1 1 -11 1 1 1 1 1 -11 1 1 1 1 1 -11 1 1 1 1 1 -11 1 1 1 1 1 -11 1 1 1 1 1 -11 1 1 1 1 1 -11 1 1 1 1 1 -11 1 1 1 1 1 -11 1 1 1 1 1 -11 1 1 1 1 1 -11 1 1 1 1 1 -11 1 1 1 1 1 -11 1 1 1 1 1 -11 1 1 1 1 1 -11 1 1 1 1 1 -11 1 1 1 1 1 -11 1 1 1 1 1 -11 1 1 1 1 1 -11 1 1 1 1 1 -11 1 1 1 1 1 -11 1 1 1 1 1 -11 1 1 1 1 1 -11 1 1 1 1 1 -11 1 1 1 1 1 -11 1 1 1 1 1 -11 1 1 1 1 1 -11 1 1 1 1 1 -11 1 1 1 1 1 -11 1 1 1 1 1 -11 1 1 1 1 1 -11 1 1 1 1 1 -11 1 1 1 1 1 -11 1 1 1 1 1 -11 1 1 1 1 1 -11 1 1 1 1 1 -11 1 1 1 1 1 -11 1 1 1 1 1 -11 1 1 1 1 1 -11 1 1 1 1 1 -11 1 1 1 1 1 -11 1 1 1 1 1 -11 1 1 1 1 1 -11 1 1 1 1 1 -11 1 1 1 1 1 -11 1 1 1 1 1 -11 1 1 1 1 1 -11 1 1 1 1 1 -11 1 1 1 1 1 -11 1 1 1 1 1 -11 1 1 1 1 1 -11 1 1 1 1 1 -11 1 1 1 1 1 -11 1 1 1 1 1 -11 1 1 1 1 1 -11 1 1 1 1 1 -11 1 1 1 1 1 -11 1 1 1 1 1 -11 1 1 1 1 1 -11 1 1 1 1 1 -11 1 1 1 1 1 -11 1 1 1 1 1 -11 1 1 1 1 1 -11 1 1 1 1 1 -11 1 1 1 1 1 -11 1 1 1 1 1 -11 1 1 1 1 1 -11 1 1 1 1 1 -11 1 1 1 1 1 -11 1 1 1 1 1 -11 1 1 1 1 1 -11 1 1 1 1 1 -11 1 1 1 1 1 -11 1 1 1 1 1 -11 1 1 1 1 1 -11 1 1 1 1 1 -11 1 1 1 1 1 -11 1 1 1 1 1 -11 1 1 1 1 1 -11 1 1 1 1 1 -11 1 1 1 1 1 -11 1 1 1 1 1 -11 1 1 1 1 1 -11 1 1 1 1 1 -11 1 1 1 1 1 -11 1 1 1 1 1 -11 1 1 1 1 1 -11 1 1 1 1 1 -11 1 1 1 1 1 -11 1 1 1 1 1 -11 1 1 1 1 1 -11 1 1 1 1 1 -11 1 1 1 1 1 -11 1 1 1 1 1 -11 1 1 1 1 1 -11 1 1 1 1 1 -11 1 1 1 1 1 -11 1 1 1 1 1 -11 1 1 1 1 1 -11 1 1 1 1 1 -11 1 1 1 1 1 -11 1 1 1 1 1 -11 1 1 1 1 1 -11 1 1 1 1 1 -11 1 1 1 1 1 -11 1 1 1 1 1 -11 1 1 1 1 1 -11 1 1 1 1 1 -11 1 1 1 1 1 -11 1 1 1 1 1 -11 1 1 1 1 1 -11 1 1 1 1 1 -11 1 1 1 1 1 -11 1 1 1 1 1 -11 1 1 1 1 1 -11 1 1 1 1 1 -11 1 1 1 1 1 -11 1 1 1 1 1 -11 1 1 1 1 1 -11 1 1 1 1 1 -11 1 1 1 1 1 -11 1 1 1 1 1 -11 1 1 1 1 1 -11 1 1 1 1 1 -11 1 1 1 1 1 -11 1 1 1 1 1 -11 1 1 1 1 1 -11 1 1 1 1 1 -11 1 1 1 1 1 -11 1 1 1 1 1 -11 1 1 1 1 1 -11 1 1 1 1 1 -11 1 1 1 1 1 -11 1 1 1 1 1 -11 1 1 1 1 1 -11 1 1 1 1 1 -11 1 1 1 1 1 -11 1 1 1 1 1 -11 1 1 1 1 1 -11 1 1 1 1 1 -11 1 1 1 1 1 -11 1 1 1 1 1 -11 1 1 1 1 1 -11 1 1 1 1 1 -11 1 1 1 1 1 -11 1 1 1 1 1 -11 1 1 1 1 1 -11 1 1 1 1 1 -11 1 1 1 1 1 -11 1 1 1 1 1 -11 1 1 1 1 1 -11 1 1 1 1 1 -11 1 1 1 1 1 -11 1 1 1 1 1 -11 1 1 1 1 1 -11 1 1 1 1 1 -11 1 1 1 1 1 -11 1 1 1 1 1 -11 1 1 1 1 1 -11 1 1 1 1 1 -11 1 1 1 1 1 -11 1 1 1 1 1 -11 1 1 1 1 1 -11 1 1 1 1 1 -11 1 1 1 1 1 -11 1 1 1 1 1 -11 1 1 1 1 1 -11 1 1 1 1 1 -11 1 1 1 1 1 -11 1 1 1 1 1 -11 1 1 1 1 1 -11 1 1 1 1 1 -11 1 1 1 1 1 -11 1 1 1 1 1 -11 1 1 1 1 1 -11 1 1 1 1 1 -11 1 1 1 1 1 -11 1 1 1 1 1 -11 1 1 1 1 1 -11 1 1 1 1 1 -11 1 1 1 1 1 -11 1 1 1 1 1 -11 1 1 1 1 1 -11 1 1 1 1 1 -11 1 1 1 1 1 -11 1 1 1 1 1 -11 1 1 1 1 1 -11 1 1 1 1 1 -11 1 1 1 1 1 -11 1 1 1 1 1 -11 1 1 1 1 1 -11 1 1 1 1 1 -11 1 1 1 1 1 -11 1 1 1 1 1 -11 1 1 1 1 1 -11 1 1 1 1 1 -11 1 1 1 1 1 -11 1 1 1 1 1 -11 1 1 1 1 1 -11 1 1 1 1 1 -11 1 1 1 1 1 -11 1 1 1 1 1 -11 1 1 1 1 1 -11 1 1 1 1 1 -11 1 1 1 1 1 -11 1 1 1 1 1 -11 1 1 1 1 1 -11 1 1 1 1 1 -11 1 1 1 1 1 -11 1 1 1 1 1 -11 1 1 1 1 1 -11 1 1 1 1 1 -11 1 1 1 1 1 -11 1 1 1 1 1 -11 1 1 1 1 1 -11 1 1 1 1 1 -11 1 1 1 1 1 -11 1 1 1 1 1 -11 1 1 1 1 1 -11 1 1 1 1 1 -11 1 1 1 1 1 -11 1 1 1 1 1 -11 1 1 1 1 1 -11 1 1 1 1 1 -11 1 1 1 1 1 -11 1 1 1 1 1 -11 1 1 1 1 1 -11 1 1 1 1 1 -11 1 1 1 1 1 -11 1 1 1 1 1 -11 1 1 1 1 1 -11 1 1 1 1 1 -11 1 1 1 1 1 -11 1 1 1 1 1 -11 1 1 1 1 1 -11 1 1 1 1 1 -11 1 1 1 1 1 -11 1 1 1 1 1 -11 1 1 1 1 1 -11 1 1 1 1 1 -11 1 1 1 1 1 -11 1 1 1 1 1 -11 1 1 1 1 1 -11 1 1 1 1 1 -11 1 1 1 1 1 -11 1 1 1 1 1 -11 1 1 1 1 1 -11 1 1 1 1 1 -11 1 1 1 1 1 -11 1 1 1 1 1 -11 1 1 1 1 1 -11 1 1 1 1 1 -11 1 1 1 1 1 -11 1 1 1 1 1 -11 1 1 1 1 1 -11 1 1 1 1 1 -11 1 1 1 1 1 -11 1 1 1 1 1 -11 1 1 1 1 1 -11 1 1 1 1 1 -11 1 1 1 1 1 -11 1 1 1 1 1 -11 1 1 1 1 1 -11 1 1 1 1 1 -11 1 1 1 1 1 -11 1 1 1 1 1 -11 1 1 1 1 1 -11 1 1 1 1 1 -11 1 1 1 1 1 -11 1 1 1 1 1 -11 1 1 1 1 1 -11 1 1 1 1 1 -11 1 1 1 1 1 -11 1 1 1 1 1 -11 1 1 1 1 1 -11 1 1 1 1 1 -11 1 1 1 1 1 -11 1 1 1 1 1 -11 1 1 1 1 1 -11 1 1 1 1 1 -11 1 1 1 1 1 -11 1 1 1 1 1 -11 1 1 1 1 1 -11 1 1 1 1 1 -11 1 1 1 1 1 -11 1 1 1 1 1 -11 1 1 1 1 1 -11 1 1 1 1 1 -11 1 1 1 1 1 -11 1 1 1 1 1 -11 1 1 1 1 1 -11 1 1 1 1 1 -11 1 1 1 1 1 -11 1 1 1 1 1 -11 1 1 1 1 1 -11 1 1 1 1 1 -11 1 1 1 1 1 -11 1 1 1 1 1 -11 1 1 1 1 1 -11 1 1 1 1 1 -11 1 1 1 1 1 -11 1 1 1 1 1 -11 1 1 1 1 1 -11 1 1 1 1 1 -11 1 1 1 1 1 -11 1 1 1 1 1 -11 1 1 1 1 1 -11 1 1 1 1 1 -11 1 1 1 1 1 -11 1 1 1 1 1 -11 1 1 1 1 1 -11 1 1 1 1 1 -11 1 1 1 1 1 -11 1 1 1 1 1 -11 1 1 1 1 1 -11 1 1 1 1 1 -11 1 1 1 1 1 -11 1 1 1 1 1 -11 1 1 1 1 1 -11 1 1 1 1 1 -11 1 1 1 1 1 -11 1 1 1 1 1 -11 1 1 1 1 1 -11 1 1 1 1 1 -11 1 1 1 1 1 -11 1 1 1 1 1 -11 1 1 1 1 1 -11 1 1 1 1 1 -11 1 1 1 1 1 -11 1 1 1 1 1 -11 1 1 1 1 1 -11 1 1 1 1 1 -11 1 1 1 1 1 -11 1 1 1 1 1 -11 1 1 1 1 1 -11 1 1 1 1 1 -11 1 1 1 1 1 -11 1 1 1 1 1 -11 1 1 1 1 1 -11 1 1 1 1 1 -11 1 1 1 1 1 -11 1 1 1 1 1 -11 1 1 1 1 1 -11 1 1 1 1 1 -11 1 1 1 1 1 -11 1 1 1 1 1 -11 1 1 1 1 1 -11 1 1 1 1 1 -11 1 1 1 1 1 -11 1 1 1 1 1 -11 1 1 1 1 1 -11 1 1 1 1 1 -11 1 1 1 1 1 -11 1 1 1 1 1 -11 1 1 1 1 1 -11 1 1 1 1 1 -11 1 1 1 1 1 -11 1 1 1 1 1 -11 1 1 1 1 1 -11 1 1 1 1 1 -11 1 1 1 1 1 -11 1 1 1 1 1 -11 1 1 1 1 1 -11 1 1 1 1 1 -11 1 1 1 1 1 -11 1 1 1 1 1 -11 1 1 1 1 1 -11 1 1 1 1 1 -11 1 1 1 1 1 -11 1 1 1 1 1 -11 1 1 1 1 1 -11 1 1 1 1 1 -11 1 1 1 1 1 -11 1 1 1 1 1 -11 1 1 1 1 1 -11 1 1 1 1 1 -11 1 1 1 1 1 -11 1 1 1 1 1 -11 1 1 1 1 1 -11 1 1 1 1 1 -11 1 1 1 1 1 -11 1 1 1 1 1 -11 1 1 1 1 1 -11 1 1 1 1 1 -11 1 1 1 1 1 -11 1 1 1 1 1 -11 1 1 1 1 1 -11 1 1 1 1 1 -11 1 1 1 1 1 -11 1 1 1 1 1 -11 1 1 1 1 1 -11 1 1 1 1 1 -11 1 1 1 1 1 -11 1 1 1 1 1 -11 1 1 1 1 1 -11 1 1 1 1 1 -11 1 1 1 1 1 -11 1 1 1 1 1 -11 1 1 1 1 1 -11 1 1 1 1 1 -11 1 1 1 1 1 -11 1 1 1 1 1 -11 1 1 1 1 1 -11 1 1 1 1 1 -11 1 1 1 1 1 -11 1 1 1 1 1 -11 1 1 1 1 1 -11 1 1 1 1 1 -11 1 1 1 1 1 -11 1 1 1 1 1 -11 1 1 1 1 1 -11 1 1 1 1 1 -11 1 1 1 1 1 -11 1 1 1 1 1 -11 1 1 1 1 1 -11 1 1 1 1 1 -11 1 1 1 1 1 -11 1 1 1 1 1 -11 1 1 1 1 1 -11 1 1 1 1 1 -11 1 1 1 1 1 -11 1 1 1 1 1 -11 1 1 1 1 1 -11 1 1 1 1 1 -11 1 1 1 1 1 -11 1 1 1 1 1 -11 1 1 1 1 1 -11 1 1 1 1 1 -11 1 1 1 1 1 -11 1 1 1 1 1 -11 1 1 1 1 1 -11 1 1 1 1 1 -11 1 1 1 1 1 -11 1 1 1 1 1 -11 1 1 1 1 1 -11 1 1 1 1 1 -11 1 1 1 1 1 -11 1 1 1 1 1 -11 1 1 1 1 1 -11 1 1 1 1 1 -11 1 1 1 1 1 -11 1 1 1 1 1 -11 1 1 1 1 1 -11 1 1 1 1 1 -11 1 1 1 1 1 -11 1 1 1 1 1 -11 1 1 1 1 1 -11 1 1 1 1 1 -11 1 1 1 1 1 -11 1 1 1 1 1 -11 1 1 1 1 1 -11 1 1 1 1 1 -11 1 1 1 1 1 -11 1 1 1 1 1 -11 1 1 1 1 1 -11 1 1 1 1 1 -11 1 1 1 1 1 -11 1 1 1 1 1 -11 1 1 1 1 1 -11 1 1 1 1 1 -11 1 1 1 1 1 -11 1 1 1 1 1 -11 1 1 1 1 1 -11 1 1 1 1 1 -11 1 1 1 1 1 -11 1 1 1 1 1 -11 1 1 1 1 1 -11 1 1 1 1 1 -11 1 1 1 1 1 -11 1 1 1 1 1 -11 1 1 1 1 1 -11 1 1 1 1 1 -11 1 1 1 1 1 -11 1 1 1 1 1 -11 1 1 1 1 1 -11 1 1 1 1 1 -11 1 1 1 1 1 -11 1 1 1 1 1 -11 1 1 1 1 1 -11 1 1 1 1 1 -11 1 1 1 1 1 -11 1 1 1 1 1 -11 1 1 1 1 1 -11 1 1 1 1 1 -11 1 1 1 1 1 -11 1 1 1 1 1 -11 1 1 1 1 1 -11 1 1 1 1 1 -11 1 1 1 1 1 -11 1 1 1 1 1 -11 1 1 1 1 1 -11 1 1 1 1 1 -11 1 1 1 1 1 -11 1 1 1 1 1 -11 1 1 1 1 1 -11 1 1 1 1 1 -11 1 1 1 1 1 -11 1 1 1 1 1 -11 1 1 1 1 1 -11 1 1 1 1 1 -11 1 1 1 1 1 -11 1 1 1 1 1 -11 1 1 1 1 1 -11 1 1 1 1 1 -11 1 1 1 1 1 -11 1 1 1 1 1 -11 1 1 1 1 1 -11 1 1 1 1 1 -11 1 1 1 1 1 -11 1 1 1 1 1 -11 1 1 1 1 1 -11 1 1 1 1 1 -11 1 1 1 1 1 -11 1 1 1 1 1 -11 1 1 1 1 1 -11 1 1 1 1 1 -11 1 1 1 1 1 -11 1 1 1 1 1 -11 1 1 1 1 1 -11 1 1 1 1 1 -11 1 1 1 1 1 -11 1 1 1 1 1 -11 1 1 1 1 1 -11 1 1 1 1 1 -11 1 1 1 1 1 -11 1 1 1 1 1 -11 1 1 1 1 1 -11 1 1 1 1 1 -11 1 1 1 1 1 -11 1 1 1 1 1 -11 1 1 1 1 1 -11 1 1 1 1 1 -11 1 1 1 1 1 -11 1 1 1 1 1 -11 1 1 1 1 1 -11 1 1 1 1 1 -11 1 1 1 1 1 -11 1 1 1 1 1 -11 1 1 1 1 1 -11 1 1 1 1 1 -11 1 1 1 1 1 -11 1 1 1 1 1 -11 1 1 1 1 1 -11 1 1 1 1 1 -11 1 1 1 1 1 -11 1 1 1 1 1 -11 1 1 1 1 1 -11 1 1 1 1 1 -11 1 1 1 1 1 -11 1 1 1 1 1 -11 1 1 1 1 1 -11 1 1 1 1 1 -11 1 1 1 1 1 -11 1 1 1 1 1 -11 1 1 1 1 1 -11 1 1 1 1 1 -11 1 1 1 1 1 -11 1 1 1 1 1 -11 1 1 1 1 1 -11 1 1 1 1 1 -11 1 1 1 1 1 -11 1 1 1 1 1 -11 1 1 1 1 1 -11 1 1 1 1 1 -11 1 1 1 1 1 -11 1 1 1 1 1 -11 1 1 1 1 1 -11 1 1 1 1 1 -11 1 1 1 1 1 -11 1 1 1 1 1 -11 1 1 1 1 1 -11 1 1 1 1 1 -11 1 1 1 1 1 -11 1 1 1 1 1 -11 1 1 1 1 1 -11 1 1 1 1 1 -11 1 1 1 1 1 -11 1 1 1 1 1 -11 1 1 1 1 1 -11 1 1 1 1 1 -11 1 1 1 1 1 -11 1 1 1 1 1 -11 1 1 1 1 1 -11 1 1 1 1 1 -11 1 1 1 1 1 -11 1 1 1 1 1 -11 1 1 1 1 1 -11 1 1 1 1 1 -11 1 1 1 1 1 -11 1 1 1 1 1 -11 1 1 1 1 1 -11 1 1 1 1 1 -11 1 1 1 1 1 -11 1 1 1 1 1 -11 1 1 1 1 1 -11 1 1 1 1 1 -11 1 1 1 1 1 -11 1 1 1 1 1 -11 1 1 1 1 1 -11 1 1 1 1 1 -11 1 1 1 1 1 -11 1 1 1 1 1 -11 1 1 1 1 1 -11 1 1 1 1 1 -11 1 1 1 1 1 -11 1 1 1 1 1 -11 1 1 1 1 1 -11 1 1 1 1 1 -11 1 1 1 1 1 -11 1 1 1 1 1 -11 1 1 1 1 1 -11 1 1 1 1 1 -11 1 1 1 1 1 -11 1 1 1 1 1 -11 1 1 1 1 1 -11 1 1 1 1 1 -11 1 1 1 1 1 -11 1 1 1 1 1 -11 1 1 1 1 1 -11 1 1 1 1 1 -11 1 1 1 1 1 -11 1 1 1 1 1 -11 1 1 1 1 1 -11 1 1 1 1 1 -11 1 1 1 1 1 -11 1 1 1 1 1 -11 1 1 1 1 1 -11 1 1 1 1 1 -11 1 1 1 1 1 -11 1 1 1 1 1 -11 1 1 1 1 1 -11 1 1 1 1 1 -11 1 1 1 1 1 -11 1 1 1 1 1 -11 1 1 1 1 1 -11 1 1 1 1 1 -11 1 1 1 1 1 -11 1 1 1 1 1 -11 1 1 1 1 1 -11 1 1 1 1 1 -11 1 1 1 1 1 -11 1 1 1 1 1 -11 1 1 1 1 1 -11 1 1 1 1 1 -11 1 1 1 1 1 -11 1 1 1 1 1 -11 1 1 1 1 1 -11 1 1 1 1 1 -11 1 1 1 1 1 -11 1 1 1 1 1 -11 1 1 1 1 1 -11 1 1 1 1 1 -11 1 1 1 1 1 -11 1 1 1 1 1 -11 1 1 1 1 1 -11 1 1 1 1 1 -11 1 1 1 1 1 -11 1 1 1 1 1 -11 1 1 1 1 1 -11 1 1 1 1 1 -11 1 1 1 1 1 -11 1 1 1 1 1 -11 1 1 1 1 1 -11 1 1 1 1 1 -11 1 1 1 1 1 -11 1 1 1 1 1 -11 1 1 1 1 1 -11 1 1 1 1 1 -11 1 1 1 1 1 -11 1 1 1 1 1 -11 1 1 1 1 1 -11 1 1 1 1 1 -11 1 1 1 1 1 -11 1 1 1 1 1 -11 1 1 1 1 1 -11 1 1 1 1 1 -11 1 1 1 1 1 -11 1 1 1 1 1 -11 1 1 1 1 1 -11 1 1 1 1 1 -11 1 1 1 1 1 -11 1 1 1 1 1 -11 1 1 1 1 1 -11 1 1 1 1 1 -11 1 1 1 1 1 -11 1 1 1 1 1 -11 1 1 1 1 1 -11 1 1 1 1 1 -11 1 1 1 1 1 -11 1 1 1 1 1 -11 1 1 1 1 1 -11 1 1 1 1 1 -11 1 1 1 1 1 -11 1 1 1 1 1 -11 1 1 1 1 1 -11 1 1 1 1 1 -11 1 1 1 1 1 -11 1 1 1 1 1 -11 1 1 1 1 1 -11 1 1 1 1 1 -11 1 1 1 1 1 -11 1 1 1 1 1 -11 1 1 1 1 1 -11 1 1 1 1 1 -11 1 1 1 1 1 -11 1 1 1 1 1 -11 1 1 1 1 1 -11 1 1 1 1 1 -11 1 1 1 1 1 -11 1 1 1 1 1 -11 1 1 1 1 1 -11 1 1 1 1 1 -11 1 1 1 1 1 -11 1 1 1 1 1 -11 1 1 1 1 1 -11 1 1 1 1 1 -11 1 1 1 1 1 -11 1 1 1 1 1 -11 1 1 1 1 1 -11 1 1 1 1 1 -11 1 1 1 1 1 -11 1 1 1 1 1 -11 1 1 1 1 1 -11 1 1 1 1 1 -11 1 1 1 1 1 -11 1 1 1 1 1 -11 1 1 1 1 1 -11 1 1 1 1 1 -11 1 1 1 1 1 -11 1 1 1 1 1 -11 1 1 1 1 1 -11 1 1 1 1 1 -11 1 1 1 1 1 -11 1 1 1 1 1 -11 1 1 1 1 1 -11 1 1 1 1 1 -11 1 1 1 1 1 -11 1 1 1 1 1 -11 1 1 1 1 1 -11 1 1 1 1 1 -11 1 1 1 1 1 -11 1 1 1 1 1 -11 1 1 1 1 1 -11 1 1 1 1 1 -11 1 1 1 1 1 -11 1 1 1 1 1 -11 1 1 1 1 1 -11 1 1 1 1 1 -11 1 1 1 1 1 -11 1 1 1 1 1 -11 1 1 1 1 1 -11 1 1 1 1 1 -11 1 1 1 1 1 -11 1 1 1 1 1 -11 1 1 1 1 1 -11 1 1 1 1 1 -11 1 1 1 1 1 -11 1 1 1 1 1 -11 1 1 1 1 1 -11 1 1 1 1 1 -11 1 1 1 1 1 -11 1 1 1 1 1 -11 1 1 1 1 1 -11 1 1 1 1 1 -11 1 1 1 1 1 -11 1 1 1 1 1 -11 1 1 1 1 1 -11 1 1 1 1 1 -11 1 1 1 1 1 -11 1 1 1 1 1 -11 1 1 1 1 1 -11 1 1 1 1 1 -11 1 1 1 1 1 -11 1 1 1 1 1 -11 1 1 1 1 1 -11 1 1 1 1 1 -11 1 1 1 1 1 -11 1 1 1 1 1 -11 1 1 1 1 1 -11 1 1 1 1 1 -11 1 1 1 1 1 -11 1 1 1 1 1 -11 1 1 1 1 1 -11 1 1 1 1 1 -11 1 1 1 1 1 -11 1 1 1 1 1 -11 1 1 1 1 1 -11 1 1 1 1 1 -11 1 1 1 1 1 -11 1 1 1 1 1 -11 1 1 1 1 1 -11 1 1 1 1 1 -11 1 1 1 1 1 -11 1 1 1 1 1 -11 1 1 1 1 1 -11 1 1 1 1 1 -11 1 1 1 1 1 -11 1 1 1 1 1 -11 1 1 1 1 1 -11 1 1 1 1 1 -11 1 1 1 1 1 -11 1 1 1 1 1 -11 1 1 1 1 1 -11 1 1 1 1 1 -11 1 1 1 1 1 -11 1 1 1 1 1 -11 1 1 1 1 1 -11 1 1 1 1 1 -11 1 1 1 1 1 -11 1 1 1 1 1 -11 1 1 1 1 1 -11 1 1 1 1 1 -11 1 1 1 1 1 -11 1 1 1 1 1 -11 1 1 1 1 1 -11 1 1 1 1 1 -11 1 1 1 1 1 -11 1 1 1 1 1 -11 1 1 1 1 1 -11 1 1 1 1 1 -11 1 1 1 1 1 -11 1 1 1 1 1 -11 1 1 1 1 1 -11 1 1 1 1 1 -11 1 1 1 1 1 -11 1 1 1 1 1 -11 1 1 1 1 1 -11 1 1 1 1 1 -11 1 1 1 1 1 -11 1 1 1 1 1 -11 1 1 1 1 1 -11 1 1 1 1 1 -11 1 1 1 1 1 -11 1 1 1 1 1 -11 1 1 1 1 1 -11 1 1 1 1 1 -11 1 1 1 1 1 -11 1 1 1 1 1 -11 1 1 1 1 1 -11 1 1 1 1 1 -11 1 1 1 1 1 -11 1 1 1 1 1 -11 1 1 1 1 1 -11 1 1 1 1 1 -11 1 1 1 1 1 -11 1 1 1 1 1 -11 1 1 1 1 1 -11 1 1 1 1 1 -11 1 1 1 1 1 -11 1 1 1 1 1 -11 1 1 1 1 1 -11 1 1 1 1 1 -11 1 1 1 1 1 -11 1 1 1 1 1 -11 1 1 1 1 1 -11 1 1 1 1 1 -11 1 1 1 1 1 -11 1 1 1 1 1 -11 1 1 1 1 1 -11 1 1 1 1 1 -11 1 1 1 1 1 -11 1 1 1 1 1 -11 1 1 1 1 1 -11 1 1 1 1 1 -11 1 1 1 1 1 -11 1 1 1 1 1 -11 1 1 1 1 1 -11 1 1 1 1 1 -11 1 1 1 1 1 -11 1 1 1 1 1 -11 1 1 1 1 1 -11 1 1 1 1 1 -11 1 1 1 1 1 -11 1 1 1 1 1 -11 1 1 1 1 1 -11 1 1 1 1 1 -11 1 1 1 1 1 -11 1 1 1 1 1 -11 1 1 1 1 1 -11 1 1 1 1 1 -11 1 1 1 1 1 -11 1 1 1 1 1 -11 1 1 1 1 1 -11 1 1 1 1 1 -11 1 1 1 1 1 -11 1 1 1 1 1 -11 1 1 1 1 1 -11 1 1 1 1 1 -11 1 1 1 1 1 -11 1 1 1 1 1 -11 1 1 1 1 1 -11 1 1 1 1 1 -11 1 1 1 1 1 -11 1 1 1 1 1 -11 1 1 1 1 1 -11 1 1 1 1 1 -11 1 1 1 1 1 -11 1 1 1 1 1 -11 1 1 1 1 1 -11 1 1 1 1 1 -11 1 1 1 1 1 -11 1 1 1 1 1 -11 1 1 1 1 1 -11 1 1 1 1 1 -11 1 1 1 1 1 -11 1 1 1 1 1 -11 1 1 1 1 1 -11 1 1 1 1 1 -11 1 1 1 1 1 -11 1 1 1 1 1 -11 1 1 1 1 1 -11 1 1 1 1 1 -11 1 1 1 1 1 -11 1 1 1 1 1 -11 1 1 1 1 1 -11 1 1 1 1 1 -11 1 1 1 1 1 -11 1 1 1 1 1 -11 1 1 1 1 1 -11 1 1 1 1 1 -11 1 1 1 1 1 -11 1 1 1 1 1 -11 1 1 1 1 1 -11 1 1 1 1 1 -11 1 1 1 1 1 -11 1 1 1 1 1 -11 1 1 1 1 1 -11 1 1 1 1 1 -11 1 1 1 1 1 -11 1 1 1 1 1 -11 1 1 1 1 1 -11 1 1 1 1 1 -11 1 1 1 1 1 -11 1 1 1 1 1 -11 1 1 1 1 1 -11 1 1 1 1 1 -11 1 1 1 1 1 -11 1 1 1 1 1 -11 1 1 1 1 1 -11 1 1 1 1 1 -11 1 1 1 1 1 -11 1 1 1 1 1 -11 1 1 1 1 1 -11 1 1 1 1 1 -11 1 1 1 1 1 -11 1 1 1 1 1 -11 1 1 1 1 1 -11 1 1 1 1 1 -11 1 1 1 1 1 -11 1 1 1 1 1 -11 1 1 1 1 1 -11 1 1 1 1 1 -11 1 1 1 1 1 -11 1 1 1 1 1 -11 1 1 1 1 1 -11 1 1 1 1 1 -11 1 1 1 1 1 -11 1 1 1 1 1 -11 1 1 1 1 1 -11 1 1 1 1 1 -11 1 1 1 1 1 -11 1 1 1 1 1 -11 1 1 1 1 1 -11 1 1 1 1 1 -11 1 1 1 1 1 -11 1 1 1 1 1 -11 1 1 1 1 1 -11 1 1 1 1 1 -11 1 1 1 1 1 -11 1 1 1 1 1 -11 1 1 1 1 1 -11 1 1 1 1 1 -11 1 1 1 1 1 -11 1 1 1 1 1 -11 1 1 1 1 1 -11 1 1 1 1 1 -11 1 1 1 1 1 -11 1 1 1 1 1 -11 1 1 1 1 1 -11 1 1 1 1 1 -11 1 1 1 1 1 -11 1 1 1 1 1 -11 1 1 1 1 1 -11 1 1 1 1 1 -11 1 1 1 1 1 -11 1 1 1 1 1 -11 1 1 1 1 1 -11 1 1 1 1 1 -11 1 1 1 1 1 -11 1 1 1 1 1 -11 1 1 1 1 1 -11 1 1 1 1 1 -11 1 1 1 1 1 -11 1 1 1 1 1 -11 1 1 1 1 1 -11 1 1 1 1 1 -11 1 1 1 1 1 -11 1 1 1 1 1 -11 1 1 1 1 1 -11 1 1 1 1 1 -11 1 1 1 1 1 -11 1 1 1 1 1 -11 1 1 1 1 1 -11 1 1 1 1 1 -11 1 1 1 1 1 -11 1 1 1 1 1 -11 1 1 1 1 1 -11 1 1 1 1 1 -11 1 1 1 1 1 -11 1 1 1 1 1 -11 1 1 1 1 1 -11 1 1 1 1 1 -11 1 1 1 1 1 -11 1 1 1 1 1 -11 1 1 1 1 1 -11 1 1 1 1 1 -11 1 1 1 1 1 -11 1 1 1 1 1 -11 1 1 1 1 1 -11 1 1 1 1 1 -11 1 1 1 1 1 -11 1 1 1 1 1 -11 1 1 1 1 1 -11 1 1 1 1 1 -11 1 1 1 1 1 -11 1 1 1 1 1 -11 1 1 1 1 1 -11 1 1 1 1 1 -11 1 1 1 1 1 -11 1 1 1 1 1 -11 1 1 1 1 1 -11 1 1 1 1 1 -11 1 1 1 1 1 -11 1 1 1 1 1 -11 1 1 1 1 1 -11 1 1 1 1 1 -11 1 1 1 1 1 -11 1 1 1 1 1 -11 1 1 1 1 1 -11 1 1 1 1 1 -11 1 1 1 1 1 -11 1 1 1 1 1 -11 1 1 1 1 1 -11 1 1 1 1 1 -11 1 1 1 1 1 -11 1 1 1 1 1 -11 1 1 1 1 1 -11 1 1 1 1 1 -11 1 1 1 1 1 -11 1 1 1 1 1 -11 1 1 1 1 1 -11 1 1 1 1 1 -11 1 1 1 1 1 -11 1 1 1 1 1 -11 1 1 1 1 1 -11 1 1 1 1 1 -11 1 1 1 1 1 -11 1 1 1 1 1 -11 1 1 1 1 1 -11 1 1 1 1 1 -11 1 1 1 1 1 -11 1 1 1 1 1 -11 1 1 1 1 1 -11 1 1 1 1 1 -11 1 1 1 1 1 -11 1 1 1 1 1 -11 1 1 1 1 1 -11 1 1 1 1 1 -11 1 1 1 1 1 -11 1 1 1 1 1 -11 1 1 1 1 1 -11 1 1 1 1 1 -11 1 1 1 1 1 -11 1 1 1 1 1 -11 1 1 1 1 1 -11 1 1 1 1 1 -11 1 1 1 1 1 -11 1 1 1 1 1 -11 1 1 1 1 1 -11 1 1 1 1 1 -11 1 1 1 1 1 -11 1 1 1 1 1 -11 1 1 1 1 1 -11 1 1 1 1 1 -11 1 1 1 1 1 -11 1 1 1 1 1 -11 1 1 1 1 1 -11 1 1 1 1 1 -11 1 1 1 1 1 -11 1 1 1 1 1 -11 1 1 1 1 1 -11 1 1 1 1 1 -11 1 1 1 1 1 -11 1 1 1 1 1 -11 1 1 1 1 1 -11 1 1 1 1 1 -11 1 1 1 1 1 -11 1 1 1 1 1 -11 1 1 1 1 1 -11 1 1 1 1 1 -11 1 1 1 1 1 -11 1 1 1 1 1 -11 1 1 1 1 1 -11 1 1 1 1 1 -11 1 1 1 1 1 -11 1 1 1 1 1 -11 1 1 1 1 1 -11 1 1 1 1 1 -11 1 1 1 1 1 -11 1 1 1 1 1 -11 1 1 1 1 1 -11 1 1 1 1 1 -11 1 1 1 1 1 -11 1 1 1 1 1 -11 1 1 1 1 1 -11 1 1 1 1 1 -11 1 1 1 1 1 -11 1 1 1 1 1 -11 1 1 1 1 1 -11 1 1 1 1 1 -11 1 1 1 1 1 -11 1 1 1 1 1 -11 1 1 1 1 1 -11 1 1 1 1 1 -11 1 1 1 1 1 -11 1 1 1 1 1 -11 1 1 1 1 1 -11 1 1 1 1 1 -11 1 1 1 1 1 -11 1 1 1 1 1 -11 1 1 1 1 1 -11 1 1 1 1 1 -11 1 1 1 1 1 -11 1 1 1 1 1 -11 1 1 1 1 1 -11 1 1 1 1 1 -11 1 1 1 1 1 -11 1 1 1 1 1 -11 1 1 1 1 1 -11 1 1 1 1 1 -11 1 1 1 1 1 -11 1 1 1 1 1 -11 1 1 1 1 1 -11 1 1 1 1 1 -11 1 1 1 1 1 -11 1 1 1 1 1 -11 1 1 1 1 1 -11 1 1 1 1 1 -11 1 1 1 1 1 -11 1 1 1 1 1 -11 1 1 1 1 1 -11 1 1 1 1 1 -11 1 1 1 1 1 -11 1 1 1 1 1 -11 1 1 1 1 1 -11 1 1 1 1 1 -11 1 1 1 1 1 -11 1 1 1 1 1 -11 1 1 1 1 1 -11 1 1 1 1 1 -11 1 1 1 1 1 -11 1 1 1 1 1 -11 1 1 1 1 1 -11 1 1 1 1 1 -11 1 1 1 1 1 -11 1 1 1 1 1 -11 1 1 1 1 1 -11 1 1 1 1 1 -11 1 1 1 1 1 -11 1 1 1 1 1 -11 1 1 1 1 1 -11 1 1 1 1 1 -11 1 1 1 1 1 -11 1 1 1 1 1 -11 1 1 1 1 1 -11 1 1 1 1 1 -11 1 1 1 1 1 -11 1 1 1 1 1 -11 1 1 1 1 1 -11 1 1 1 1 1 -11 1 1 1 1 1 -11 1 1 1 1 1 -11 1 1 1 1 1 -11 1 1 1 1 1 -11 1 1 1 1 1 -11 1 1 1 1 1 -11 1 1 1 1 1 -11 1 1 1 1 1 -11 1 1 1 1 1 -11 1 1 1 1 1 -11 1 1 1 1 1 -11 1 1 1 1 1 -11 1 1 1 1 1 -11 1 1 1 1 1 -11 1 1 1 1 1 -11 1 1 1 1 1 -11 1 1 1 1 1 -11 1 1 1 1 1 -11 1 1 1 1 1 -11 1 1 1 1 1 -11 1 1 1 1 1 -11 1 1 1 1 1 -11 1 1 1 1 1 -11 1 1 1 1 1 -11 1 1 1 1 1 -11 1 1 1 1 1 -11 1 1 1 1 1 -11 1 1 1 1 1 -11 1 1 1 1 1 -11 1 1 1 1 1 -11 1 1 1 1 1 -11 1 1 1 1 1 -11 1 1 1 1 1 -11 1 1 1 1 1 -11 1 1 1 1 1 -11 1 1 1 1 1 -11 1 1 1 1 1 -11 1 1 1 1 1 -11 1 1 1 1 1 -11 1 1 1 1 1 -11 1 1 1 1 1 -11 1 1 1 1 1 -11 1 1 1 1 1 -11 1 1 1 1 1 -11 1 1 1 1 1 -11 1 1 1 1 1 -11 1 1 1 1 1 -11 1 1 1 1 1 -11 1 1 1 1 1 -11 1 1 1 1 1 -11 1 1 1 1 1 -11 1 1 1 1 1 -11 1 1 1 1 1 -11 1 1 1 1 1 -11 1 1 1 1 1 -11 1 1 1 1 1 -11 1 1 1 1 1 -11 1 1 1 1 1 -11 1 1 1 1 1 -11 1 1 1 1 1 -11 1 1 1 1 1 -11 1 1 1 1 1 -11 1 1 1 1 1 -11 1 1 1 1 1 -11 1 1 1 1 1 -11 1 1 1 1 1 -11 1 1 1 1 1 -11 1 1 1 1 1 -11 1 1 1 1 1 -11 1 1 1 1 1 -11 1 1 1 1 1 -11 1 1 1 1 1 -11 1 1 1 1 1 -11 1 1 1 1 1 -11 1 1 1 1 1 -11 1 1 1 1 1 -11 1 1 1 1 1 -11 1 1 1 1 1 -11 1 1 1 1 1 -11 1 1 1 1 1 -11 1 1 1 1 1 -11 1 1 1 1 1 -11 1 1 1 1 1 -11 1 1 1 1 1 -11 1 1 1 1 1 -11 1 1 1 1 1 -11 1 1 1 1 1 -11 1 1 1 1 1 -11 1 1 1 1 1 -11 1 1 1 1 1 -11 1 1 1 1 1 -11 1 1 1 1 1 -11 1 1 1 1 1 -11 1 1 1 1 1 -11 1 1 1 1 1 -11 1 1 1 1 1 -11 1 1 1 1 1 -11 1 1 1 1 1 -11 1 1 1 1 1 -11 1 1 1 1 1 -11 1 1 1 1 1 -11 1 1 1 1 1 -11 1 1 1 1 1 -11 1 1 1 1 1 -11 1 1 1 1 1 -11 1 1 1 1 1 -11 1 1 1 1 1 -11 1 1 1 1 1 -11 1 1 1 1 1 -11 1 1 1 1 1 -11 1 1 1 1 1 -11 1 1 1 1 1 -11 1 1 1 1 1 -11 1 1 1 1 1 -11 1 1 1 1 1 -11 1 1 1 1 1 -11 1 1 1 1 1 -11 1 1 1 1 1 -11 1 1 1 1 1 -11 1 1 1 1 1 -11 1 1 1 1 1 -11 1 1 1 1 1 -11 1 1 1 1 1 -11 1 1 1 1 1 -11 1 1 1 1 1 -11 1 1 1 1 1 -11 1 1 1 1 1 -11 1 1 1 1 1 -11 1 1 1 1 1 -11 1 1 1 1 1 -11 1 1 1 1 1 -11 1 1 1 1 1 -11 1 1 1 1 1 -11 1 1 1 1 1 -11 1 1 1 1 1 -11 1 1 1 1 1 -11 1 1 1 1 1 -11 1 1 1 1 1 -11 1 1 1 1 1 -11 1 1 1 1 1 -11 1 1 1 1 1 -11 1 1 1 1 1 -11 1 1 1 1 1 -11 1 1 1 1 1 -11 1 1 1 1 1 -11 1 1 1 1 1 -11 1 1 1 1 1 -11 1 1 1 1 1 -11 1 1 1 1 1 -11 1 1 1 1 1 -11 1 1 1 1 1 -11 1 1 1 1 1 -11 1 1 1 1 1 -11 1 1 1 1 1 -11 1 1 1 1 1 -11 1 1 1 1 1 -11 1 1 1 1 1 -11 1 1 1 1 1 -11 1 1 1 1 1 -11 1 1 1 1 1 -11 1 1 1 1 1 -11 1 1 1 1 1 -11 1 1 1 1 1 -11 1 1 1 1 1 -11 1 1 1 1 1 -11 1 1 1 1 1 -11 1 1 1 1 1 -11 1 1 1 1 1 -11 1 1 1 1 1 -11 1 1 1 1 1 -11 1 1 1 1 1 -11 1 1 1 1 1 -11 1 1 1 1 1 -11 1 1 1 1 1 -11 1 1 1 1 1 -11 1 1 1 1 1 -11 1 1 1 1 1 -11 1 1 1 1 1 -11 1 1 1 1 1 -11 1 1 1 1 1 -11 1 1 1 1 1 -11 1 1 1 1 1 -11 1 1 1 1 1 -11 1 1 1 1 1 -11 1 1 1 1 1 -11 1 1 1 1 1 -11 1 1 1 1 1 -11 1 1 1 1 1 -11 1 1 1 1 1 -11 1 1 1 1 1 -11 1 1 1 1 1 -11 1 1 1 1 1 -11 1 1 1 1 1 -11 1 1 1 1 1 -11 1 1 1 1 1 -11 1 1 1 1 1 -11 1 1 1 1 1 -11 1 1 1 1 1 -11 1 1 1 1 1 -11 1 1 1 1 1 -11 1 1 1 1 1 -11 1 1 1 1 1 -11 1 1 1 1 1 -11 1 1 1 1 1 -11 1 1 1 1 1 -11 1 1 1 1 1 -11 1 1 1 1 1 -11 1 1 1 1 1 -11 1 1 1 1 1 -11 1 1 1 1 1 -11 1 1 1 1 1 -11 1 1 1 1 1 -11 1 1 1 1 1 -11 1 1 1 1 1 -11 1 1 1 1 1 -11 1 1 1 1 1 -11 1 1 1 1 1 -11 1 1 1 1 1 -11 1 1 1 1 1 -11 1 1 1 1 1 -11 1 1 1 1 1 -11 1 1 1 1 1 -11 1 1 1 1 1 -11 1 1 1 1 1 -11 1 1 1 1 1 -11 1 1 1 1 1 -11 1 1 1 1 1 -11 1 1 1 1 1 -11 1 1 1 1 1 -11 1 1 1 1 1 -11 1 1 1 1 1 -11 1 1 1 1 1 -11 1 1 1 1 1 -11 1 1 1 1 1 -11 1 1 1 1 1 -11 1 1 1 1 1 -11 1 1 1 1 1 -11 1 1 1 1 1 -11 1 1 1 1 1 -11 1 1 1 1 1 -11 1 1 1 1 1 -11 1 1 1 1 1 -11 1 1 1 1 1 -11 1 1 1 1 1 -11 1 1 1 1 1 -11 1 1 1 1 1 -11 1 1 1 1 1 -11 1 1 1 1 1 -11 1 1 1 1 1 -11 1 1 1 1 1 -11 1 1 1 1 1 -11 1 1 1 1 1 -11 1 1 1 1 1 -11 1 1 1 1 1 -11 1 1 1 1 1 -11 1 1 1 1 1 -11 1 1 1 1 1 -11 1 1 1 1 1 -11 1 1 1 1 1 -11 1 1 1 1 1 -11 1 1 1 1 1 -11 1 1 1 1 1 -11 1 1 1 1 1 -11 1 1 1 1 1 -11 1 1 1 1 1 -11 1 1 1 1 1 -11 1 1 1 1 1 -11 1 1 1 1 1 -11 1 1 1 1 1 -11 1 1 1 1 1 -11 1 1 1 1 1 -11 1 1 1 1 1 -11 1 1 1 1 1 -11 1 1 1 1 1 -11 1 1 1 1 1 -11 1 1 1 1 1 -11 1 1 1 1 1 -11 1 1 1 1 1 -11 1 1 1 1 1 -11 1 1 1 1 1 -11 1 1 1 1 1 -11 1 1 1 1 1 -11 1 1 1 1 1 -11 1 1 1 1 1 -11 1 1 1 1 1 -11 1 1 1 1 1 -11 1 1 1 1 1 -11 1 1 1 1 1 -11 1 1 1 1 1 -11 1 1 1 1 1 -11 1 1 1 1 1 -11 1 1 1 1 1 -11 1 1 1 1 1 -11 1 1 1 1 1 -11 1 1 1 1 1 -11 1 1 1 1 1 -11 1 1 1 1 1 -11 1 1 1 1 1 -11 1 1 1 1 1 -11 1 1 1 1 1 -11 1 1 1 1 1 -11 1 1 1 1 1 -11 1 1 1 1 1 -11 1 1 1 1 1 -11 1 1 1 1 1 -11 1 1 1 1 1 -11 1 1 1 1 1 -11 1 1 1 1 1 -11 1 1 1 1 1 -11 1 1 1 1 1 -11 1 1 1 1 1 -11 1 1 1 1 1 -11 1 1 1 1 1 -11 1 1 1 1 1 -11 1 1 1 1 1 -11 1 1 1 1 1 -11 1 1 1 1 1 -11 1 1 1 1 1 -11 1 1 1 1 1 -11 1 1 1 1 1 -11 1 1 1 1 1 -11 1 1 1 1 1 -11 1 1 1 1 1 -11 1 1 1 1 1 -11 1 1 1 1 1 -11 1 1 1 1 1 -11 1 1 1 1 1 -11 1 1 1 1 1 -11 1 1 1 1 1 -11 1 1 1 1 1 -11 1 1 1 1 1 -11 1 1 1 1 1 -11 1 1 1 1 1 -11 1 1 1 1 1 -11 1 1 1 1 1 -11 1 1 1 1 1 -11 1 1 1 1 1 -11 1 1 1 1 1 -11 1 1 1 1 1 -11 1 1 1 1 1 -11 1 1 1 1 1 -11 1 1 1 1 1 -11 1 1 1 1 1 -11 1 1 1 1 1 -11 1 1 1 1 1 -11 1 1 1 1 1 -11 1 1 1 1 1 -11 1 1 1 1 1 -11 1 1 1 1 1 -11 1 1 1 1 1 -11 1 1 1 1 1 -11 1 1 1 1 1 -11 1 1 1 1 1 -11 1 1 1 1 1 -11 1 1 1 1 1 -11 1 1 1 1 1 -11 1 1 1 1 1 -11 1 1 1 1 1 -11 1 1 1 1 1 -11 1 1 1 1 1 -11 1 1 1 1 1 -11 1 1 1 1 1 -11 1 1 1 1 1 -11 1 1 1 1 1 -11 1 1 1 1 1 -11 1 1 1 1 1 -11 1 1 1 1 1 -11 1 1 1 1 1 -11 1 1 1 1 1 -11 1 1 1 1 1 -11 1 1 1 1 1 -11 1 1 1 1 1 -11 1 1 1 1 1 -11 1 1 1 1 1 -11 1 1 1 1 1 -11 1 1 1 1 1 -11 1 1 1 1 1 -11 1 1 1 1 1 -11 1 1 1 1 1 -11 1 1 1 1 1 -11 1 1 1 1 1 -11 1 1 1 1 1 -11 1 1 1 1 1 -11 1 1 1 1 1 -11 1 1 1 1 1 -11 1 1 1 1 1 -11 1 1 1 1 1 -11 1 1 1 1 1 -11 1 1 1 1 1 -11 1 1 1 1 1 -11 1 1 1 1 1 -11 1 1 1 1 1 -11 1 1 1 1 1 -11 1 1 1 1 1 -11 1 1 1 1 1 -11 1 1 1 1 1 -11 1 1 1 1 1 -11 1 1 1 1 1 -11 1 1 1 1 1 -11 1 1 1 1 1 -11 1 1 1 1 1 -11 1 1 1 1 1 -11 1 1 1 1 1 -11 1 1 1 1 1 -11 1 1 1 1 1 -11 1 1 1 1 1 -11 1 1 1 1 1 -11 1 1 1 1 1 -11 1 1 1 1 1 -11 1 1 1 1 1 -11 1 1 1 1 1 -11 1 1 1 1 1 -11 1 1 1 1 1 -11 1 1 1 1 1 -11 1 1 1 1 1 -11 1 1 1 1 1 -11 1 1 1 1 1 -11 1 1 1 1 1 -11 1 1 1 1 1 -11 1 1 1 1 1 -11 1 1 1 1 1 -11 1 1 1 1 1 -11 1 1 1 1 1 -11 1 1 1 1 1 -11 1 1 1 1 1 -11 1 1 1 1 1 -11 1 1 1 1 1 -11 1 1 1 1 1 -11 1 1 1 1 1 -11 1 1 1 1 1 -11 1 1 1 1 1 -11 1 1 1 1 1 -11 1 1 1 1 1 -11 1 1 1 1 1 -11 1 1 1 1 1 -11 1 1 1 1 1 -11 1 1 1 1 1 -11 1 1 1 1 1 -11 1 1 1 1 1 -11 1 1 1 1 1 -11 1 1 1 1 1 -11 1 1 1 1 1 -11 1 1 1 1 1 -11 1 1 1 1 1 -11 1 1 1 1 1 -11 1 1 1 1 1 -11 1 1 1 1 1 -11 1 1 1 1 1 -11 1 1 1 1 1 -11 1 1 1 1 1 -11 1 1 1 1 1 -11 1 1 1 1 1 -11 1 1 1 1 1 -11 1 1 1 1 1 -11 1 1 1 1 1 -11 1 1 1 1 1 -11 1 1 1 1 1 -11 1 1 1 1 1 -11 1 1 1 1 1 -11 1 1 1 1 1 -11 1 1 1 1 1 -11 1 1 1 1 1 -11 1 1 1 1 1 -11 1 1 1 1 1 -11 1 1 1 1 1 -11 1 1 1 1 1 -11 1 1 1 1 1 -11 1 1 1 1 1 -11 1 1 1 1 1 -11 1 1 1 1 1 -11 1 1 1 1 1 -11 1 1 1 1 1 -11 1 1 1 1 1 -11 1 1 1 1 1 -11 1 1 1 1 1 -11 1 1 1 1 1 -11 1 1 1 1 1 -11 1 1 1 1 1 -11 1 1 1 1 1 -11 1 1 1 1 1 -11 1 1 1 1 1 -11 1 1 1 1 1 -11 1 1 1 1 1 -11 1 1 1 1 1 -11 1 1 1 1 1 -11 1 1 1 1 1 -11 1 1 1 1 1 -11 1 1 1 1 1 -11 1 1 1 1 1 -11 1 1 1 1 1 -11 1 1 1 1 1 -11 1 1 1 1 1 -11 1 1 1 1 1 -11 1 1 1 1 1 -11 1 1 1 1 1 -11 1 1 1 1 1 -11 1 1 1 1 1 -11 1 1 1 1 1 -11 1 1 1 1 1 -11 1 1 1 1 1 -11 1 1 1 1 1 -11 1 1 1 1 1 -11 1 1 1 1 1 -11 1 1 1 1 1 -11 1 1 1 1 1 -11 1 1 1 1 1 -11 1 1 1 1 1 -11 1 1 1 1 1 -11 1 1 1 1 1 -11 1 1 1 1 1 -11 1 1 1 1 1 -11 1 1 1 1 1 -11 1 1 1 1 1 -11 1 1 1 1 1 -11 1 1 1 1 1 -11 1 1 1 1 1 -11 1 1 1 1 1 -11 1 1 1 1 1 -11 1 1 1 1 1 -11 1 1 1 1 1 -11 1 1 1 1 1 -11 1 1 1 1 1 -11 1 1 1 1 1 -11 1 1 1 1 1 -11 1 1 1 1 1 -11 1 1 1 1 1 -11 1 1 1 1 1 -11 1 1 1 1 1 -11 1 1 1 1 1 -11 1 1 1 1 1 -11 1 1 1 1 1 -11 1 1 1 1 1 -11 1 1 1 1 1 -11 1 1 1 1 1 -11 1 1 1 1 1 -11 1 1 1 1 1 -11 1 1 1 1 1 -11 1 1 1 1 1 -11 1 1 1 1 1 -11 1 1 1 1 1 -11 1 1 1 1 1 -11 1 1 1 1 1 -11 1 1 1 1 1 -11 1 1 1 1 1 -11 1 1 1 1 1 -11 1 1 1 1 1 -11 1 1 1 1 1 -11 1 1 1 1 1 -11 1 1 1 1 1 -11 1 1 1 1 1 -11 1 1 1 1 1 -11 1 1 1 1 1 -11 1 1 1 1 1 -11 1 1 1 1 1 -11 1 1 1 1 1 -11 1 1 1 1 1 -11 1 1 1 1 1 -11 1 1 1 1 1 -11 1 1 1 1 1 -11 1 1 1 1 1 -11 1 1 1 1 1 -11 1 1 1 1 1 -11 1 1 1 1 1 -11 1 1 1 1 1 -11 1 1 1 1 1 -11 1 1 1 1 1 -11 1 1 1 1 1 -11 1 1 1 1 1 -11 1 1 1 1 1 -11 1 1 1 1 1 -11 1 1 1 1 1 -11 1 1 1 1 1 -11 1 1 1 1 1 -11 1 1 1 1 1 -11 1 1 1 1 1 -11 1 1 1 1 1 -11 1 1 1 1 1 -11 1 1 1 1 1 -11 1 1 1 1 1 -11 1 1 1 1 1 -11 1 1 1 1 1 -11 1 1 1 1 1 -11 1 1 1 1 1 -11 1 1 1 1 1 -11 1 1 1 1 1 -11 1 1 1 1 1 -11 1 1 1 1 1 -11 1 1 1 1 1 -11 1 1 1 1 1 -11 1 1 1 1 1 -11 1 1 1 1 1 -11 1 1 1 1 1 -11 1 1 1 1 1 -11 1 1 1 1 1 -11 1 1 1 1 1 -11 1 1 1 1 1 -11 1 1 1 1 1 -11 1 1 1 1 1 -11 1 1 1 1 1 -11 1 1 1 1 1 -11 1 1 1 1 1 -11 1 1 1 1 1 -11 1 1 1 1 1 -11 1 1 1 1 1 -11 1 1 1 1 1 -11 1 1 1 1 1 -11 1 1 1 1 1 -11 1 1 1 1 1 -11 1 1 1 1 1 -11 1 1 1 1 1 -11 1 1 1 1 1 -11 1 1 1 1 1 -11 1 1 1 1 1 -11 1 1 1 1 1 -11 1 1 1 1 1 -11 1 1 1 1 1 -11 1 1 1 1 1 -11 1 1 1 1 1 -11 1 1 1 1 1 -11 1 1 1 1 1 -11 1 1 1 1 1 -11 1 1 1 1 1 -11 1 1 1 1 1 -11 1 1 1 1 1 -11 1 1 1 1 1 -11 1 1 1 1 1 -11 1 1 1 1 1 -11 1 1 1 1 1 -11 1 1 1 1 1 -11 1 1 1 1 1 -11 1 1 1 1 1 -11 1 1 1 1 1 -11 1 1 1 1 1 -11 1 1 1 1 1 -11 1 1 1 1 1 -11 1 1 1 1 1 -11 1 1 1 1 1 -11 1 1 1 1 1 -11 1 1 1 1 1 -11 1 1 1 1 1 -11 1 1 1 1 1 -11 1 1 1 1 1 -11 1 1 1 1 1 -11 1 1 1 1 1 -11 1 1 1 1 1 -11 1 1 1 1 1 -11 1 1 1 1 1 -11 1 1 1 1 1 -11 1 1 1 1 1 -11 1 1 1 1 1 -11 1 1 1 1 1 -11 1 1 1 1 1 -11 1 1 1 1 1 -11 1 1 1 1 1 -11 1 1 1 1 1 -11 1 1 1 1 1 -11 1 1 1 1 1 -11 1 1 1 1 1 -11 1 1 1 1 1 -11 1 1 1 1 1 -11 1 1 1 1 1 -11 1 1 1 1 1 -11 1 1 1 1 1 -11 1 1 1 1 1 -11 1 1 1 1 1 -11 1 1 1 1 1 -11 1 1 1 1 1 -11 1 1 1 1 1 -11 1 1 1 1 1 -11 1 1 1 1 1 -11 1 1 1 1 1 -11 1 1 1 1 1 -11 1 1 1 1 1 -11 1 1 1 1 1 -11 1 1 1 1 1 -11 1 1 1 1 1 -11 1 1 1 1 1 -11 1 1 1 1 1 -11 1 1 1 1 1 -11 1 1 1 1 1 -11 1 1 1 1 1 -11 1 1 1 1 1 -11 1 1 1 1 1 -11 1 1 1 1 1 -11 1 1 1 1 1 -11 1 1 1 1 1 -11 1 1 1 1 1 -11 1 1 1 1 1 -11 1 1 1 1 1 -11 1 1 1 1 1 -11 1 1 1 1 1 -11 1 1 1 1 1 -11 1 1 1 1 1 -11 1 1 1 1 1 -11 1 1 1 1 1 -11 1 1 1 1 1 -11 1 1 1 1 1 -11 1 1 1 1 1 -11 1 1 1 1 1 -11 1 1 1 1 1 -11 1 1 1 1 1 -11 1 1 1 1 1 -11 1 1 1 1 1 -11 1 1 1 1 1 -11 1 1 1 1 1 -11 1 1 1 1 1 -11 1 1 1 1 1 -11 1 1 1 1 1 -11 1 1 1 1 1 -11 1 1 1 1 1 -11 1 1 1 1 1 -11 1 1 1 1 1 -11 1 1 1 1 1 -11 1 1 1 1 1 -11 1 1 1 1 1 -11 1 1 1 1 1 -11 1 1 1 1 1 -11 1 1 1 1 1 -11 1 1 1 1 1 -11 1 1 1 1 1 -11 1 1 1 1 1 -11 1 1 1 1 1 -11 1 1 1 1 1 -11 1 1 1 1 1 -11 1 1 1 1 1 -11 1 1 1 1 1 -11 1 1 1 1 1 -11 1 1 1 1 1 -11 1 1 1 1 1 -11 1 1 1 1 1 -11 1 1 1 1 1 -11 1 1 1 1 1 -11 1 1 1 1 1 -11 1 1 1 1 1 -11 1 1 1 1 1 -11 1 1 1 1 1 -11 1 1 1 1 1 -11 1 1 1 1 1 -11 1 1 1 1 1 -11 1 1 1 1 1 -11 1 1 1 1 1 -11 1 1 1 1 1 -11 1 1 1 1 1 -11 1 1 1 1 1 -11 1 1 1 1 1 -11 1 1 1 1 1 -11 1 1 1 1 1 -11 1 1 1 1 1 -11 1 1 1 1 1 -11 1 1 1 1 1 -11 1 1 1 1 1 -11 1 1 1 1 1 -11 1 1 1 1 1 -11 1 1 1 1 1 -11 1 1 1 1 1 -11 1 1 1 1 1 -11 1 1 1 1 1 -11 1 1 1 1 1 -11 1 1 1 1 1 -11 1 1 1 1 1 -11 1 1 1 1 1 -11 1 1 1 1 1 -11 1 1 1 1 1 -11 1 1 1 1 1 -11 1 1 1 1 1 -11 1 1 1 1 1 -11 1 1 1 1 1 -11 1 1 1 1 1 -11 1 1 1 1 1 -11 1 1 1 1 1 -11 1 1 1 1 1 -11 1 1 1 1 1 -11 1 1 1 1 1 -11 1 1 1 1 1 -11 1 1 1 1 1 -11 1 1 1 1 1 -11 1 1 1 1 1 -11 1 1 1 1 1 -11 1 1 1 1 1 -11 1 1 1 1 1 -11 1 1 1 1 1 -11 1 1 1 1 1 -11 1 1 1 1 1 -11 1 1 1 1 1 -11 1 1 1 1 1 -11 1 1 1 1 1 -11 1 1 1 1 1 -11 1 1 1 1 1 -11 1 1 1 1 1 -11 1 1 1 1 1 -11 1 1 1 1 1 -11 1 1 1 1 1 -11 1 1 1 1 1 -11 1 1 1 1 1 -11 1 1 1 1 1 -11 1 1 1 1 1 -11 1 1 1 1 1 -11 1 1 1 1 1 -11 1 1 1 1 1 -11 1 1 1 1 1 -11 1 1 1 1 1 -11 1 1 1 1 1 -11 1 1 1 1 1 -11 1 1 1 1 1 -11 1 1 1 1 1 -11 1 1 1 1 1 -11 1 1 1 1 1 -11 1 1 1 1 1 -11 1 1 1 1 1 -11 1 1 1 1 1 -11 1 1 1 1 1 -11 1 1 1 1 1 -11 1 1 1 1 1 -11 1 1 1 1 1 -11 1 1 1 1 1 -11 1 1 1 1 1 -11 1 1 1 1 1 -11 1 1 1 1 1 -11 1 1 1 1 1 -11 1 1 1 1 1 -11 1 1 1 1 1 -11 1 1 1 1 1 -11 1 1 1 1 1 -11 1 1 1 1 1 -11 1 1 1 1 1 -11 1 1 1 1 1 -11 1 1 1 1 1 -11 1 1 1 1 1 -11 1 1 1 1 1 -11 1 1 1 1 1 -11 1 1 1 1 1 -11 1 1 1 1 1 -11 1 1 1 1 1 -11 1 1 1 1 1 -11 1 1 1 1 1 -11 1 1 1 1 1 -11 1 1 1 1 1 -11 1 1 1 1 1 -11 1 1 1 1 1 -11 1 1 1 1 1 -11 1 1 1 1 1 -11 1 1 1 1 1 -11 1 1 1 1 1 -11 1 1 1 1 1 -11 1 1 1 1 1 -11 1 1 1 1 1 -11 1 1 1 1 1 -11 1 1 1 1 1 -11 1 1 1 1 1 -11 1 1 1 1 1 -11 1 1 1 1 1 -11 1 1 1 1 1 -11 1 1 1 1 1 -11 1 1 1 1 1 -11 1 1 1 1 1 -11 1 1 1 1 1 -11 1 1 1 1 1 -11 1 1 1 1 1 -11 1 1 1 1 1 -11 1 1 1 1 1 -11 1 1 1 1 1 -11 1 1 1 1 1 -11 1 1 1 1 1 -11 1 1 1 1 1 -11 1 1 1 1 1 -11 1 1 1 1 1 -11 1 1 1 1 1 -11 1 1 1 1 1 -11 1 1 1 1 1 -11 1 1 1 1 1 -11 1 1 1 1 1 -11 1 1 1 1 1 -11 1 1 1 1 1 -11 1 1 1 1 1 -11 1 1 1 1 1 -11 1 1 1 1 1 -11 1 1 1 1 1 -11 1 1 1 1 1 -11 1 1 1 1 1 -11 1 1 1 1 1 -11 1 1 1 1 1 -11 1 1 1 1 1 -11 1 1 1 1 1 -11 1 1 1 1 1 -11 1 1 1 1 1 -11 1 1 1 1 1 -11 1 1 1 1 1 -11 1 1 1 1 1 -11 1 1 1 1 1 -11 1 1 1 1 1 -11 1 1 1 1 1 -11 1 1 1 1 1 -11 1 1 1 1 1 -11 1 1 1 1 1 -11 1 1 1 1 1 -11 1 1 1 1 1 -11 1 1 1 1 1 -11 1 1 1 1 1 -11 1 1 1 1 1 -11 1 1 1 1 1 -11 1 1 1 1 1 -11 1 1 1 1 1 -11 1 1 1 1 1 -11 1 1 1 1 1 -11 1 1 1 1 1 -11 1 1 1 1 1 -11 1 1 1 1 1 -11 1 1 1 1 1 -11 1 1 1 1 1 -11 1 1 1 1 1 -11 1 1 1 1 1 -11 1 1 1 1 1 -11 1 1 1 1 1 -11 1 1 1 1 1 -11 1 1 1 1 1 -11 1 1 1 1 1 -11 1 1 1 1 1 -11 1 1 1 1 1 -11 1 1 1 1 1 -11 1 1 1 1 1 -11 1 1 1 1 1 -11 1 1 1 1 1 -11 1 1 1 1 1 -11 1 1 1 1 1 -11 1 1 1 1 1 -11 1 1 1 1 1 -11 1 1 1 1 1 -11 1 1 1 1 1 -11 1 1 1 1 1 -11 1 1 1 1 1 -11 1 1 1 1 1 -11 1 1 1 1 1 -11 1 1 1 1 1 -11 1 1 1 1 1 -11 1 1 1 1 1 -11 1 1 1 1 1 -11 1 1 1 1 1 -11 1 1 1 1 1 -11 1 1 1 1 1 -11 1 1 1 1 1 -11 1 1 1 1 1 -11 1 1 1 1 1 -11 1 1 1 1 1 -11 1 1 1 1 1 -11 1 1 1 1 1 -11 1 1 1 1 1 -11 1 1 1 1 1 -11 1 1 1 1 1 -11 1 1 1 1 1 -11 1 1 1 1 1 -11 1 1 1 1 1 -11 1 1 1 1 1 -11 1 1 1 1 1 -11 1 1 1 1 1 -11 1 1 1 1 1 -11 1 1 1 1 1 -11 1 1 1 1 1 -11 1 1 1 1 1 -11 1 1 1 1 1 -11 1 1 1 1 1 -11 1 1 1 1 1 -11 1 1 1 1 1 -11 1 1 1 1 1 -11 1 1 1 1 1 -11 1 1 1 1 1 -11 1 1 1 1 1 -11 1 1 1 1 1 -11 1 1 1 1 1 -11 1 1 1 1 1 -11 1 1 1 1 1 -11 1 1 1 1 1 -11 1 1 1 1 1 -11 1 1 1 1 1 -11 1 1 1 1 1 -11 1 1 1 1 1 -11 1 1 1 1 1 -11 1 1 1 1 1 -11 1 1 1 1 1 -11 1 1 1 1 1 -11 1 1 1 1 1 -11 1 1 1 1 1 -11 1 1 1 1 1 -11 1 1 1 1 1 -11 1 1 1 1 1 -11 1 1 1 1 1 -11 1 1 1 1 1 -11 1 1 1 1 1 -11 1 1 1 1 1 -11 1 1 1 1 1 -11 1 1 1 1 1 -11 1 1 1 1 1 -11 1 1 1 1 1 -11 1 1 1 1 1 -11 1 1 1 1 1 -11 1 1 1 1 1 -11 1 1 1 1 1 -11 1 1 1 1 1 -11 1 1 1 1 1 -11 1 1 1 1 1 -11 1 1 1 1 1 -11 1 1 1 1 1 -11 1 1 1 1 1 -11 1 1 1 1 1 -11 1 1 1 1 1 -11 1 1 1 1 1 -11 1 1 1 1 1 -11 1 1 1 1 1 -11 1 1 1 1 1 -11 1 1 1 1 1 -11 1 1 1 1 1 -11 1 1 1 1 1 -11 1 1 1 1 1 -11 1 1 1 1 1 -11 1 1 1 1 1 -11 1 1 1 1 1 -11 1 1 1 1 1 -11 1 1 1 1 1 -11 1 1 1 1 1 -11 1 1 1 1 1 -11 1 1 1 1 1 -11 1 1 1 1 1 -11 1 1 1 1 1 -11 1 1 1 1 1 -11 1 1 1 1 1 -11 1 1 1 1 1 -11 1 1 1 1 1 -11 1 1 1 1 1 -11 1 1 1 1 1 -11 1 1 1 1 1 -11 1 1 1 1 1 -11 1 1 1 1 1 -11 1 1 1 1 1 -11 1 1 1 1 1 -11 1 1 1 1 1 -11 1 1 1 1 1 -11 1 1 1 1 1 -11 1 1 1 1 1 -11 1 1 1 1 1 -11 1 1 1 1 1 -11 1 1 1 1 1 -11 1 1 1 1 1 -11 1 1 1 1 1 -11 1 1 1 1 1 -11 1 1 1 1 1 -11 1 1 1 1 1 -11 1 1 1 1 1 -11 1 1 1 1 1 -11 1 1 1 1 1 -11 1 1 1 1 1 -11 1 1 1 1 1 -11 1 1 1 1 1 -11 1 1 1 1 1 -11 1 1 1 1 1 -11 1 1 1 1 1 -11 1 1 1 1 1 -11 1 1 1 1 1 -11 1 1 1 1 1 -11 1 1 1 1 1 -11 1 1 1 1 1 -11 1 1 1 1 1 -11 1 1 1 1 1 -11 1 1 1 1 1 -11 1 1 1 1 1 -11 1 1 1 1 1 -11 1 1 1 1 1 -11 1 1 1 1 1 -11 1 1 1 1 1 -11 1 1 1 1 1 -11 1 1 1 1 1 -11 1 1 1 1 1 -11 1 1 1 1 1 -11 1 1 1 1 1 -11 1 1 1 1 1 -11 1 1 1 1 1 -11 1 1 1 1 1 -11 1 1 1 1 1 -11 1 1 1 1 1 -11 1 1 1 1 1 -11 1 1 1 1 1 -11 1 1 1 1 1 -11 1 1 1 1 1 -11 1 1 1 1 1 -11 1 1 1 1 1 -11 1 1 1 1 1 -11 1 1 1 1 1 -11 1 1 1 1 1 -11 1 1 1 1 1 -11 1 1 1 1 1 -11 1 1 1 1 1 -11 1 1 1 1 1 -11 1 1 1 1 1 -11 1 1 1 1 1 -11 1 1 1 1 1 -11 1 1 1 1 1 -11 1 1 1 1 1 -11 1 1 1 1 1 -11 1 1 1 1 1 -11 1 1 1 1 1 -11 1 1 1 1 1 -11 1 1 1 1 1 -11 1 1 1 1 1 -11 1 1 1 1 1 -11 1 1 1 1 1 -11 1 1 1 1 1 -11 1 1 1 1 1 -11 1 1 1 1 1 -11 1 1 1 1 1 -11 1 1 1 1 1 -11 1 1 1 1 1 -11 1 1 1 1 1 -11 1 1 1 1 1 -11 1 1 1 1 1 -11 1 1 1 1 1 -11 1 1 1 1 1 -11 1 1 1 1 1 -11 1 1 1 1 1 -11 1 1 1 1 1 -11 1 1 1 1 1 -11 1 1 1 1 1 -11 1 1 1 1 1 -11 1 1 1 1 1 -11 1 1 1 1 1 -11 1 1 1 1 1 -11 1 1 1 1 1 -11 1 1 1 1 1 -11 1 1 1 1 1 -11 1 1 1 1 1 -11 1 1 1 1 1 -11 1 1 1 1 1 -11 1 1 1 1 1 -11 1 1 1 1 1 -11 1 1 1 1 1 -11 1 1 1 1 1 -11 1 1 1 1 1 -11 1 1 1 1 1 -11 1 1 1 1 1 -11 1 1 1 1 1 -11 1 1 1 1 1 -11 1 1 1 1 1 -11 1 1 1 1 1 -11 1 1 1 1 1 -11 1 1 1 1 1 -11 1 1 1 1 1 -11 1 1 1 1 1 -11 1 1 1 1 1 -11 1 1 1 1 1 -11 1 1 1 1 1 -11 1 1 1 1 1 -11 1 1 1 1 1 -11 1 1 1 1 1 -11 1 1 1 1 1 -11 1 1 1 1 1 -11 1 1 1 1 1 -11 1 1 1 1 1 -11 1 1 1 1 1 -11 1 1 1 1 1 -11 1 1 1 1 1 -11 1 1 1 1 1 -11 1 1 1 1 1 -11 1 1 1 1 1 -11 1 1 1 1 1 -11 1 1 1 1 1 -11 1 1 1 1 1 -11 1 1 1 1 1 -11 1 1 1 1 1 -11 1 1 1 1 1 -11 1 1 1 1 1 -11 1 1 1 1 1 -11 1 1 1 1 1 -11 1 1 1 1 1 -11 1 1 1 1 1 -11 1 1 1 1 1 -11 1 1 1 1 1 -11 1 1 1 1 1 -11 1 1 1 1 1 -11 1 1 1 1 1 -11 1 1 1 1 1 -11 1 1 1 1 1 -11 1 1 1 1 1 -11 1 1 1 1 1 -11 1 1 1 1 1 -11 1 1 1 1 1 -11 1 1 1 1 1 -11 1 1 1 1 1 -11 1 1 1 1 1 -11 1 1 1 1 1 -11 1 1 1 1 1 -11 1 1 1 1 1 -11 1 1 1 1 1 -11 1 1 1 1 1 -11 1 1 1 1 1 -11 1 1 1 1 1 -11 1 1 1 1 1 -11 1 1 1 1 1 -11 1 1 1 1 1 -11 1 1 1 1 1 -11 1 1 1 1 1 -11 1 1 1 1 1 -11 1 1 1 1 1 -11 1 1 1 1 1 -11 1 1 1 1 1 -11 1 1 1 1 1 -11 1 1 1 1 1 -11 1 1 1 1 1 -11 1 1 1 1 1 -11 1 1 1 1 1 -11 1 1 1 1 1 -11 1 1 1 1 1 -11 1 1 1 1 1 -11 1 1 1 1 1 -11 1 1 1 1 1 -11 1 1 1 1 1 -11 1 1 1 1 1 -11 1 1 1 1 1 -11 1 1 1 1 1 -11 1 1 1 1 1 -11 1 1 1 1 1 -11 1 1 1 1 1 -11 1 1 1 1 1 -11 1 1 1 1 1 -11 1 1 1 1 1 -11 1 1 1 1 1 -11 1 1 1 1 1 -11 1 1 1 1 1 -11 1 1 1 1 1 -11 1 1 1 1 1 -11 1 1 1 1 1 -11 1 1 1 1 1 -11 1 1 1 1 1 -11 1 1 1 1 1 -11 1 1 1 1 1 -11 1 1 1 1 1 -11 1 1 1 1 1 -11 1 1 1 1 1 -11 1 1 1 1 1 -11 1 1 1 1 1 -11 1 1 1 1 1 -11 1 1 1 1 1 -11 1 1 1 1 1 -11 1 1 1 1 1 -11 1 1 1 1 1 -11 1 1 1 1 1 -11 1 1 1 1 1 -11 1 1 1 1 1 -11 1 1 1 1 1 -11 1 1 1 1 1 -11 1 1 1 1 1 -11 1 1 1 1 1 -11 1 1 1 1 1 -11 1 1 1 1 1 -11 1 1 1 1 1 -11 1 1 1 1 1 -11 1 1 1 1 1 -11 1 1 1 1 1 -11 1 1 1 1 1 -11 1 1 1 1 1 -11 1 1 1 1 1 -11 1 1 1 1 1 -11 1 1 1 1 1 -11 1 1 1 1 1 -11 1 1 1 1 1 -11 1 1 1 1 1 -11 1 1 1 1 1 -11 1 1 1 1 1 -11 1 1 1 1 1 -11 1 1 1 1 1 -11 1 1 1 1 1 -11 1 1 1 1 1 -11 1 1 1 1 1 -11 1 1 1 1 1 -11 1 1 1 1 1 -11 1 1 1 1 1 -11 1 1 1 1 1 -11 1 1 1 1 1 -11 1 1 1 1 1 -11 1 1 1 1 1 -11 1 1 1 1 1 -11 1 1 1 1 1 -11 1 1 1 1 1 -11 1 1 1 1 1 -11 1 1 1 1 1 -11 1 1 1 1 1 -11 1 1 1 1 1 -11 1 1 1 1 1 -11 1 1 1 1 1 -11 1 1 1 1 1 -11 1 1 1 1 1 -11 1 1 1 1 1 -11 1 1 1 1 1 -11 1 1 1 1 1 -11 1 1 1 1 1 -11 1 1 1 1 1 -11 1 1 1 1 1 -11 1 1 1 1 1 -11 1 1 1 1 1 -11 1 1 1 1 1 -11 1 1 1 1 1 -11 1 1 1 1 1 -11 1 1 1 1 1 -11 1 1 1 1 1 -11 1 1 1 1 1 -11 1 1 1 1 1 -11 1 1 1 1 1 -11 1 1 1 1 1 -11 1 1 1 1 1 -11 1 1 1 1 1 -11 1 1 1 1 1 -11 1 1 1 1 1 -11 1 1 1 1 1 -11 1 1 1 1 1 -11 1 1 1 1 1 -11 1 1 1 1 1 -11 1 1 1 1 1 -11 1 1 1 1 1 -11 1 1 1 1 1 -11 1 1 1 1 1 -11 1 1 1 1 1 -11 1 1 1 1 1 -11 1 1 1 1 1 -11 1 1 1 1 1 -11 1 1 1 1 1 -11 1 1 1 1 1 -11 1 1 1 1 1 -11 1 1 1 1 1 -11 1 1 1 1 1 -11 1 1 1 1 1 -11 1 1 1 1 1 -11 1 1 1 1 1 -11 1 1 1 1 1 -11 1 1 1 1 1 -11 1 1 1 1 1 -11 1 1 1 1 1 -11 1 1 1 1 1 -11 1 1 1 1 1 -11 1 1 1 1 1 -11 1 1 1 1 1 -11 1 1 1 1 1 -11 1 1 1 1 1 -11 1 1 1 1 1 -11 1 1 1 1 1 -11 1 1 1 1 1 -11 1 1 1 1 1 -11 1 1 1 1 1 -11 1 1 1 1 1 -11 1 1 1 1 1 -11 1 1 1 1 1 -11 1 1 1 1 1 -11 1 1 1 1 1 -11 1 1 1 1 1 -11 1 1 1 1 1 -11 1 1 1 1 1 -11 1 1 1 1 1 -11 1 1 1 1 1 -11 1 1 1 1 1 -11 1 1 1 1 1 -11 1 1 1 1 1 -11 1 1 1 1 1 -11 1 1 1 1 1 -11 1 1 1 1 1 -11 1 1 1 1 1 -11 1 1 1 1 1 -11 1 1 1 1 1 -11 1 1 1 1 1 -11 1 1 1 1 1 -11 1 1 1 1 1 -11 1 1 1 1 1 -11 1 1 1 1 1 -11 1 1 1 1 1 -11 1 1 1 1 1 -11 1 1 1 1 1 -11 1 1 1 1 1 -11 1 1 1 1 1 -11 1 1 1 1 1 -11 1 1 1 1 1 -11 1 1 1 1 1 -11 1 1 1 1 1 -11 1 1 1 1 1 -11 1 1 1 1 1 -11 1 1 1 1 1 -11 1 1 1 1 1 -11 1 1 1 1 1 -11 1 1 1 1 1 -11 1 1 1 1 1 -11 1 1 1 1 1 -11 1 1 1 1 1 -11 1 1 1 1 1 -11 1 1 1 1 1 -11 1 1 1 1 1 -11 1 1 1 1 1 -11 1 1 1 1 1 -11 1 1 1 1 1 -11 1 1 1 1 1 -11 1 1 1 1 1 -11 1 1 1 1 1 -11 1 1 1 1 1 -11 1 1 1 1 1 -11 1 1 1 1 1 -11 1 1 1 1 1 -11 1 1 1 1 1 -11 1 1 1 1 1 -11 1 1 1 1 1 -11 1 1 1 1 1 -11 1 1 1 1 1 -11 1 1 1 1 1 -11 1 1 1 1 1 -11 1 1 1 1 1 -11 1 1 1 1 1 -11 1 1 1 1 1 -11 1 1 1 1 1 -11 1 1 1 1 1 -11 1 1 1 1 1 -11 1 1 1 1 1 -11 1 1 1 1 1 -11 1 1 1 1 1 -11 1 1 1 1 1 -11 1 1 1 1 1 -11 1 1 1 1 1 -11 1 1 1 1 1 -11 1 1 1 1 1 -11 1 1 1 1 1 -11 1 1 1 1 1 -11 1 1 1 1 1 -11 1 1 1 1 1 -11 1 1 1 1 1 -11 1 1 1 1 1 -11 1 1 1 1 1 -11 1 1 1 1 1 -11 1 1 1 1 1 -11 1 1 1 1 1 -11 1 1 1 1 1 -11 1 1 1 1 1 -11 1 1 1 1 1 -11 1 1 1 1 1 -11 1 1 1 1 1 -11 1 1 1 1 1 -11 1 1 1 1 1 -11 1 1 1 1 1 -11 1 1 1 1 1 -11 1 1 1 1 1 -11 1 1 1 1 1 -11 1 1 1 1 1 -11 1 1 1 1 1 -11 1 1 1 1 1 -11 1 1 1 1 1 -11 1 1 1 1 1 -11 1 1 1 1 1 -11 1 1 1 1 1 -11 1 1 1 1 1 -11 1 1 1 1 1 -11 1 1 1 1 1 -11 1 1 1 1 1 -11 1 1 1 1 1 -11 1 1 1 1 1 -11 1 1 1 1 1 -11 1 1 1 1 1 -11 1 1 1 1 1 -11 1 1 1 1 1 -11 1 1 1 1 1 -11 1 1 1 1 1 -11 1 1 1 1 1 -11 1 1 1 1 1 -11 1 1 1 1 1 -11 1 1 1 1 1 -11 1 1 1 1 1 -11 1 1 1 1 1 -11 1 1 1 1 1 -11 1 1 1 1 1 -11 1 1 1 1 1 -11 1 1 1 1 1 -11 1 1 1 1 1 -11 1 1 1 1 1 -11 1 1 1 1 1 -11 1 1 1 1 1 -11 1 1 1 1 1 -11 1 1 1 1 1 -11 1 1 1 1 1 -11 1 1 1 1 1 -11 1 1 1 1 1 -11 1 1 1 1 1 -11 1 1 1 1 1 -11 1 1 1 1 1 -11 1 1 1 1 1 -11 1 1 1 1 1 -11 1 1 1 1 1 -11 1 1 1 1 1 -11 1 1 1 1 1 -11 1 1 1 1 1 -11 1 1 1 1 1 -11 1 1 1 1 1 -11 1 1 1 1 1 -11 1 1 1 1 1 -11 1 1 1 1 1 -11 1 1 1 1 1 -11 1 1 1 1 1 -11 1 1 1 1 1 -11 1 1 1 1 1 -11 1 1 1 1 1 -11 1 1 1 1 1 -11 1 1 1 1 1 -11 1 1 1 1 1 -11 1 1 1 1 1 -11 1 1 1 1 1 -11 1 1 1 1 1 -11 1 1 1 1 1 -11 1 1 1 1 1 -11 1 1 1 1 1 -11 1 1 1 1 1 -11 1 1 1 1 1 -11 1 1 1 1 1 -11 1 1 1 1 1 -11 1 1 1 1 1 -11 1 1 1 1 1 -11 1 1 1 1 1 -11 1 1 1 1 1 -11 1 1 1 1 1 -11 1 1 1 1 1 -11 1 1 1 1 1 -11 1 1 1 1 1 -11 1 1 1 1 1 -11 1 1 1 1 1 -11 1 1 1 1 1 -11 1 1 1 1 1 -11 1 1 1 1 1 -11 1 1 1 1 1 -11 1 1 1 1 1 -11 1 1 1 1 1 -11 1 1 1 1 1 -11 1 1 1 1 1 -11 1 1 1 1 1 -11 1 1 1 1 1 -11 1 1 1 1 1 -11 1 1 1 1 1 -11 1 1 1 1 1 -11 1 1 1 1 1 -11 1 1 1 1 1 -11 1 1 1 1 1 -11 1 1 1 1 1 -11 1 1 1 1 1 -11 1 1 1 1 1 -11 1 1 1 1 1 -11 1 1 1 1 1 -11 1 1 1 1 1 -11 1 1 1 1 1 -11 1 1 1 1 1 -11 1 1 1 1 1 -11 1 1 1 1 1 -11 1 1 1 1 1 -11 1 1 1 1 1 -11 1 1 1 1 1 -11 1 1 1 1 1 -11 1 1 1 1 1 -11 1 1 1 1 1 -11 1 1 1 1 1 -11 1 1 1 1 1 -11 1 1 1 1 1 -11 1 1 1 1 1 -11 1 1 1 1 1 -11 1 1 1 1 1 -11 1 1 1 1 1 -11 1 1 1 1 1 -11 1 1 1 1 1 -11 1 1 1 1 1 -11 1 1 1 1 1 -11 1 1 1 1 1 -11 1 1 1 1 1 -11 1 1 1 1 1 -11 1 1 1 1 1 -11 1 1 1 1 1 -11 1 1 1 1 1 -11 1 1 1 1 1 -11 1 1 1 1 1 -11 1 1 1 1 1 -11 1 1 1 1 1 -11 1 1 1 1 1 -11 1 1 1 1 1 -11 1 1 1 1 1 -11 1 1 1 1 1 -11 1 1 1 1 1 -11 1 1 1 1 1 -11 1 1 1 1 1 -11 1 1 1 1 1 -11 1 1 1 1 1 -11 1 1 1 1 1 -11 1 1 1 1 1 -11 1 1 1 1 1 -11 1 1 1 1 1 -11 1 1 1 1 1 -11 1 1 1 1 1 -11 1 1 1 1 1 -11 1 1 1 1 1 -11 1 1 1 1 1 -11 1 1 1 1 1 -11 1 1 1 1 1 -11 1 1 1 1 1 -11 1 1 1 1 1 -11 1 1 1 1 1 -11 1 1 1 1 1 -11 1 1 1 1 1 -11 1 1 1 1 1 -11 1 1 1 1 1 -11 1 1 1 1 1 -11 1 1 1 1 1 -11 1 1 1 1 1 -11 1 1 1 1 1 -11 1 1 1 1 1 -11 1 1 1 1 1 -11 1 1 1 1 1 -11 1 1 1 1 1 -11 1 1 1 1 1 -11 1 1 1 1 1 -11 1 1 1 1 1 -11 1 1 1 1 1 -11 1 1 1 1 1 -11 1 1 1 1 1 -11 1 1 1 1 1 -11 1 1 1 1 1 -11 1 1 1 1 1 -11 1 1 1 1 1 -11 1 1 1 1 1 -11 1 1 1 1 1 -11 1 1 1 1 1 -11 1 1 1 1 1 -11 1 1 1 1 1 -11 1 1 1 1 1 -11 1 1 1 1 1 -11 1 1 1 1 1 -11 1 1 1 1 1 -11 1 1 1 1 1 -11 1 1 1 1 1 -11 1 1 1 1 1 -11 1 1 1 1 1 -11 1 1 1 1 1 -11 1 1 1 1 1 -11 1 1 1 1 1 -11 1 1 1 1 1 -11 1 1 1 1 1 -11 1 1 1 1 1 -11 1 1 1 1 1 -11 1 1 1 1 1 -11 1 1 1 1 1 -11 1 1 1 1 1 -11 1 1 1 1 1 -11 1 1 1 1 1 -11 1 1 1 1 1 -11 1 1 1 1 1 -11 1 1 1 1 1 -11 1 1 1 1 1 -11 1 1 1 1 1 -11 1 1 1 1 1 -11 1 1 1 1 1 -11 1 1 1 1 1 -11 1 1 1 1 1 -11 1 1 1 1 1 -11 1 1 1 1 1 -11 1 1 1 1 1 -11 1 1 1 1 1 -11 1 1 1 1 1 -11 1 1 1 1 1 -11 1 1 1 1 1 -11 1 1 1 1 1 -11 1 1 1 1 1 -11 1 1 1 1 1 -11 1 1 1 1 1 -11 1 1 1 1 1 -11 1 1 1 1 1 -11 1 1 1 1 1 -11 1 1 1 1 1 -11 1 1 1 1 1 -11 1 1 1 1 1 -11 1 1 1 1 1 -11 1 1 1 1 1 -11 1 1 1 1 1 -11 1 1 1 1 1 -11 1 1 1 1 1 -11 1 1 1 1 1 -11 1 1 1 1 1 -11 1 1 1 1 1 -11 1 1 1 1 1 -11 1 1 1 1 1 -11 1 1 1 1 1 -11 1 1 1 1 1 -11 1 1 1 1 1 -11 1 1 1 1 1 -11 1 1 1 1 1 -11 1 1 1 1 1 -11 1 1 1 1 1 -11 1 1 1 1 1 -11 1 1 1 1 1 -11 1 1 1 1 1 -11 1 1 1 1 1 -11 1 1 1 1 1 -11 1 1 1 1 1 -11 1 1 1 1 1 -11 1 1 1 1 1 -11 1 1 1 1 1 -11 1 1 1 1 1 -11 1 1 1 1 1 -11 1 1 1 1 1 -11 1 1 1 1 1 -11 1 1 1 1 1 -11 1 1 1 1 1 -11 1 1 1 1 1 -11 1 1 1 1 1 -11 1 1 1 1 1 -11 1 1 1 1 1 -11 1 1 1 1 1 -11 1 1 1 1 1 -11 1 1 1 1 1 -11 1 1 1 1 1 -11 1 1 1 1 1 -11 1 1 1 1 1 -11 1 1 1 1 1 -11 1 1 1 1 1 -11 1 1 1 1 1 -11 1 1 1 1 1 -11 1 1 1 1 1 -11 1 1 1 1 1 -11 1 1 1 1 1 -11 1 1 1 1 1 -11 1 1 1 1 1 -11 1 1 1 1 1 -11 1 1 1 1 1 -11 1 1 1 1 1 -11 1 1 1 1 1 -11 1 1 1 1 1 -11 1 1 1 1 1 -11 1 1 1 1 1 -11 1 1 1 1 1 -11 1 1 1 1 1 -11 1 1 1 1 1 -11 1 1 1 1 1 -11 1 1 1 1 1 -11 1 1 1 1 1 -11 1 1 1 1 1 -11 1 1 1 1 1 -11 1 1 1 1 1 -11 1 1 1 1 1 -11 1 1 1 1 1 -11 1 1 1 1 1 -11 1 1 1 1 1 -11 1 1 1 1 1 -11 1 1 1 1 1 -11 1 1 1 1 1 -11 1 1 1 1 1 -11 1 1 1 1 1 -11 1 1 1 1 1 -11 1 1 1 1 1 -11 1 1 1 1 1 -11 1 1 1 1 1 -11 1 1 1 1 1 -11 1 1 1 1 1 -11 1 1 1 1 1 -11 1 1 1 1 1 -11 1 1 1 1 1 -11 1 1 1 1 1 -11 1 1 1 1 1 -11 1 1 1 1 1 -11 1 1 1 1 1 -11 1 1 1 1 1 -11 1 1 1 1 1 -11 1 1 1 1 1 -11 1 1 1 1 1 -11 1 1 1 1 1 -11 1 1 1 1 1 -11 1 1 1 1 1 -11 1 1 1 1 1 -11 1 1 1 1 1 -11 1 1 1 1 1 -11 1 1 1 1 1 -11 1 1 1 1 1 -11 1 1 1 1 1 -11 1 1 1 1 1 -11 1 1 1 1 1 -11 1 1 1 1 1 -11 1 1 1 1 1 -11 1 1 1 1 1 -11 1 1 1 1 1 -11 1 1 1 1 1 -11 1 1 1 1 1 -11 1 1 1 1 1 -11 1 1 1 1 1 -11 1 1 1 1 1 -11 1 1 1 1 1 -11 1 1 1 1 1 -11 1 1 1 1 1 -11 1 1 1 1 1 -11 1 1 1 1 1 -11 1 1 1 1 1 -11 1 1 1 1 1 -11 1 1 1 1 1 -11 1 1 1 1 1 -11 1 1 1 1 1 -11 1 1 1 1 1 -11 1 1 1 1 1 -11 1 1 1 1 1 -11 1 1 1 1 1 -11 1 1 1 1 1 -11 1 1 1 1 1 -11 1 1 1 1 1 -11 1 1 1 1 1 -11 1 1 1 1 1 -11 1 1 1 1 1 -11 1 1 1 1 1 -11 1 1 1 1 1 -11 1 1 1 1 1 -11 1 1 1 1 1 -11 1 1 1 1 1 -11 1 1 1 1 1 -11 1 1 1 1 1 -11 1 1 1 1 1 -11 1 1 1 1 1 -11 1 1 1 1 1 -11 1 1 1 1 1 -11 1 1 1 1 1 -11 1 1 1 1 1 -11 1 1 1 1 1 -11 1 1 1 1 1 -11 1 1 1 1 1 -11 1 1 1 1 1 -11 1 1 1 1 1 -11 1 1 1 1 1 -11 1 1 1 1 1 -11 1 1 1 1 1 -11 1 1 1 1 1 -11 1 1 1 1 1 -11 1 1 1 1 1 -11 1 1 1 1 1 -11 1 1 1 1 1 -11 1 1 1 1 1 -11 1 1 1 1 1 -11 1 1 1 1 1 -11 1 1 1 1 1 -11 1 1 1 1 1 -11 1 1 1 1 1 -11 1 1 1 1 1 -11 1 1 1 1 1 -11 1 1 1 1 1 -11 1 1 1 1 1 -11 1 1 1 1 1 -11 1 1 1 1 1 -11 1 1 1 1 1 -11 1 1 1 1 1 -11 1 1 1 1 1 -11 1 1 1 1 1 -11 1 1 1 1 1 -11 1 1 1 1 1 -11 1 1 1 1 1 -11 1 1 1 1 1 -11 1 1 1 1 1 -11 1 1 1 1 1 -11 1 1 1 1 1 -11 1 1 1 1 1 -11 1 1 1 1 1 -11 1 1 1 1 1 -11 1 1 1 1 1 -11 1 1 1 1 1 -11 1 1 1 1 1 -11 1 1 1 1 1 -11 1 1 1 1 1 -11 1 1 1 1 1 -11 1 1 1 1 1 -11 1 1 1 1 1 -11 1 1 1 1 1 -11 1 1 1 1 1 -11 1 1 1 1 1 -11 1 1 1 1 1 -11 1 1 1 1 1 -11 1 1 1 1 1 -11 1 1 1 1 1 -11 1 1 1 1 1 -11 1 1 1 1 1 -11 1 1 1 1 1 -11 1 1 1 1 1 -11 1 1 1 1 1 -11 1 1 1 1 1 -11 1 1 1 1 1 -11 1 1 1 1 1 -11 1 1 1 1 1 -11 1 1 1 1 1 -11 1 1 1 1 1 -11 1 1 1 1 1 -11 1 1 1 1 1 -11 1 1 1 1 1 -11 1 1 1 1 1 -11 1 1 1 1 1 -11 1 1 1 1 1 -11 1 1 1 1 1 -11 1 1 1 1 1 -11 1 1 1 1 1 -11 1 1 1 1 1 -11 1 1 1 1 1 -11 1 1 1 1 1 -11 1 1 1 1 1 -11 1 1 1 1 1 -11 1 1 1 1 1 -11 1 1 1 1 1 -11 1 1 1 1 1 -11 1 1 1 1 1 -11 1 1 1 1 1 -11 1 1 1 1 1 -11 1 1 1 1 1 -11 1 1 1 1 1 -11 1 1 1 1 1 -11 1 1 1 1 1 -11 1 1 1 1 1 -11 1 1 1 1 1 -11 1 1 1 1 1 -11 1 1 1 1 1 -11 1 1 1 1 1 -11 1 1 1 1 1 -11 1 1 1 1 1 -11 1 1 1 1 1 -11 1 1 1 1 1 -11 1 1 1 1 1 -11 1 1 1 1 1 -11 1 1 1 1 1 -11 1 1 1 1 1 -11 1 1 1 1 1 -11 1 1 1 1 1 -11 1 1 1 1 1 -11 1 1 1 1 1 -11 1 1 1 1 1 -11 1 1 1 1 1 -11 1 1 1 1 1 -11 1 1 1 1 1 -11 1 1 1 1 1 -11 1 1 1 1 1 -11 1 1 1 1 1 -11 1 1 1 1 1 -11 1 1 1 1 1 -11 1 1 1 1 1 -11 1 1 1 1 1 -11 1 1 1 1 1 -11 1 1 1 1 1 -11 1 1 1 1 1 -11 1 1 1 1 1 -11 1 1 1 1 1 -11 1 1 1 1 1 -11 1 1 1 1 1 -11 1 1 1 1 1 -11 1 1 1 1 1 -11 1 1 1 1 1 -11 1 1 1 1 1 -11 1 1 1 1 1 -11 1 1 1 1 1 -11 1 1 1 1 1 -11 1 1 1 1 1 -11 1 1 1 1 1 -11 1 1 1 1 1 -11 1 1 1 1 1 -11 1 1 1 1 1 -11 1 1 1 1 1 -11 1 1 1 1 1 -11 1 1 1 1 1 -11 1 1 1 1 1 -11 1 1 1 1 1 -11 1 1 1 1 1 -11 1 1 1 1 1 -11 1 1 1 1 1 -11 1 1 1 1 1 -11 1 1 1 1 1 -11 1 1 1 1 1 -11 1 1 1 1 1 -11 1 1 1 1 1 -11 1 1 1 1 1 -11 1 1 1 1 1 -11 1 1 1 1 1 -11 1 1 1 1 1 -11 1 1 1 1 1 -11 1 1 1 1 1 -11 1 1 1 1 1 -11 1 1 1 1 1 -11 1 1 1 1 1 -11 1 1 1 1 1 -11 1 1 1 1 1 -11 1 1 1 1 1 -11 1 1 1 1 1 -11 1 1 1 1 1 -11 1 1 1 1 1 -11 1 1 1 1 1 -11 1 1 1 1 1 -11 1 1 1 1 1 -11 1 1 1 1 1 -11 1 1 1 1 1 -11 1 1 1 1 1 -11 1 1 1 1 1 -11 1 1 1 1 1 -11 1 1 1 1 1 -11 1 1 1 1 1 -11 1 1 1 1 1 -11 1 1 1 1 1 -11 1 1 1 1 1 -11 1 1 1 1 1 -11 1 1 1 1 1 -11 1 1 1 1 1 -11 1 1 1 1 1 -11 1 1 1 1 1 -11 1 1 1 1 1 -11 1 1 1 1 1 -11 1 1 1 1 1 -11 1 1 1 1 1 -11 1 1 1 1 1 -11 1 1 1 1 1 -11 1 1 1 1 1 -11 1 1 1 1 1 -11 1 1 1 1 1 -11 1 1 1 1 1 -11 1 1 1 1 1 -11 1 1 1 1 1 -11 1 1 1 1 1 -11 1 1 1 1 1 -11 1 1 1 1 1 -11 1 1 1 1 1 -11 1 1 1 1 1 -11 1 1 1 1 1 -11 1 1 1 1 1 -11 1 1 1 1 1 -11 1 1 1 1 1 -11 1 1 1 1 1 -11 1 1 1 1 1 -11 1 1 1 1 1 -11 1 1 1 1 1 -11 1 1 1 1 1 -11 1 1 1 1 1 -11 1 1 1 1 1 -11 1 1 1 1 1 -11 1 1 1 1 1 -11 1 1 1 1 1 -11 1 1 1 1 1 -11 1 1 1 1 1 -11 1 1 1 1 1 -11 1 1 1 1 1 -11 1 1 1 1 1 -11 1 1 1 1 1 -11 1 1 1 1 1 -11 1 1 1 1 1 -11 1 1 1 1 1 -11 1 1 1 1 1 -11 1 1 1 1 1 -11 1 1 1 1 1 -11 1 1 1 1 1 -11 1 1 1 1 1 -11 1 1 1 1 1 -11 1 1 1 1 1 -11 1 1 1 1 1 -11 1 1 1 1 1 -11 1 1 1 1 1 -11 1 1 1 1 1 -11 1 1 1 1 1 -11 1 1 1 1 1 -11 1 1 1 1 1 -11 1 1 1 1 1 -11 1 1 1 1 1 -11 1 1 1 1 1 -11 1 1 1 1 1 -11 1 1 1 1 1 -11 1 1 1 1 1 -11 1 1 1 1 1 -11 1 1 1 1 1 -11 1 1 1 1 1 -11 1 1 1 1 1 -11 1 1 1 1 1 -11 1 1 1 1 1 -11 1 1 1 1 1 -11 1 1 1 1 1 -11 1 1 1 1 1 -11 1 1 1 1 1 -11 1 1 1 1 1 -11 1 1 1 1 1 -11 1 1 1 1 1 -11 1 1 1 1 1 -11 1 1 1 1 1 -11 1 1 1 1 1 -11 1 1 1 1 1 -11 1 1 1 1 1 -11 1 1 1 1 1 -11 1 1 1 1 1 -11 1 1 1 1 1 -11 1 1 1 1 1 -11 1 1 1 1 1 -11 1 1 1 1 1 -11 1 1 1 1 1 -11 1 1 1 1 1 -11 1 1 1 1 1 -11 1 1 1 1 1 -11 1 1 1 1 1 -11 1 1 1 1 1 -11 1 1 1 1 1 -11 1 1 1 1 1 -11 1 1 1 1 1 -11 1 1 1 1 1 -11 1 1 1 1 1 -11 1 1 1 1 1 -11 1 1 1 1 1 -11 1 1 1 1 1 -11 1 1 1 1 1 -11 1 1 1 1 1 -11 1 1 1 1 1 -11 1 1 1 1 1 -11 1 1 1 1 1 -11 1 1 1 1 1 -11 1 1 1 1 1 -11 1 1 1 1 1 -11 1 1 1 1 1 -11 1 1 1 1 1 -11 1 1 1 1 1 -11 1 1 1 1 1 -11 1 1 1 1 1 -11 1 1 1 1 1 -11 1 1 1 1 1 -11 1 1 1 1 1 -11 1 1 1 1 1 -11 1 1 1 1 1 -11 1 1 1 1 1 -11 1 1 1 1 1 -11 1 1 1 1 1 -11 1 1 1 1 1 -11 1 1 1 1 1 -11 1 1 1 1 1 -11 1 1 1 1 1 -11 1 1 1 1 1 -11 1 1 1 1 1 -11 1 1 1 1 1 -11 1 1 1 1 1 -11 1 1 1 1 1 -11 1 1 1 1 1 -11 1 1 1 1 1 -11 1 1 1 1 1 -11 1 1 1 1 1 -11 1 1 1 1 1 -11 1 1 1 1 1 -11 1 1 1 1 1 -11 1 1 1 1 1 -11 1 1 1 1 1 -11 1 1 1 1 1 -11 1 1 1 1 1 -11 1 1 1 1 1 -11 1 1 1 1 1 -11 1 1 1 1 1 -11 1 1 1 1 1 -11 1 1 1 1 1 -11 1 1 1 1 1 -11 1 1 1 1 1 -11 1 1 1 1 1 -11 1 1 1 1 1 -11 1 1 1 1 1 -11 1 1 1 1 1 -11 1 1 1 1 1 -11 1 1 1 1 1 -11 1 1 1 1 1 -11 1 1 1 1 1 -11 1 1 1 1 1 -11 1 1 1 1 1 -11 1 1 1 1 1 -11 1 1 1 1 1 -11 1 1 1 1 1 -11 1 1 1 1 1 -11 1 1 1 1 1 -11 1 1 1 1 1 -11 1 1 1 1 1 -11 1 1 1 1 1 -11 1 1 1 1 1 -11 1 1 1 1 1 -11 1 1 1 1 1 -11 1 1 1 1 1 -11 1 1 1 1 1 -11 1 1 1 1 1 -11 1 1 1 1 1 -11 1 1 1 1 1 -11 1 1 1 1 1 -11 1 1 1 1 1 -11 1 1 1 1 1 -11 1 1 1 1 1 -11 1 1 1 1 1 -11 1 1 1 1 1 -11 1 1 1 1 1 -11 1 1 1 1 1 -11 1 1 1 1 1 -11 1 1 1 1 1 -11 1 1 1 1 1 -11 1 1 1 1 1 -11 1 1 1 1 1 -11 1 1 1 1 1 -11 1 1 1 1 1 -11 1 1 1 1 1 -11 1 1 1 1 1 -11 1 1 1 1 1 -11 1 1 1 1 1 -11 1 1 1 1 1 -11 1 1 1 1 1 -11 1 1 1 1 1 -11 1 1 1 1 1 -11 1 1 1 1 1 -11 1 1 1 1 1 -11 1 1 1 1 1 -11 1 1 1 1 1 -11 1 1 1 1 1 -11 1 1 1 1 1 -11 1 1 1 1 1 -11 1 1 1 1 1 -11 1 1 1 1 1 -11 1 1 1 1 1 -11 1 1 1 1 1 -11 1 1 1 1 1 -11 1 1 1 1 1 -11 1 1 1 1 1 -11 1 1 1 1 1 -11 1 1 1 1 1 -11 1 1 1 1 1 -11 1 1 1 1 1 -11 1 1 1 1 1 -11 1 1 1 1 1 -11 1 1 1 1 1 -11 1 1 1 1 1 -11 1 1 1 1 1 -11 1 1 1 1 1 -11 1 1 1 1 1 -11 1 1 1 1 1 -11 1 1 1 1 1 -11 1 1 1 1 1 -11 1 1 1 1 1 -11 1 1 1 1 1 -11 1 1 1 1 1 -11 1 1 1 1 1 -11 1 1 1 1 1 -11 1 1 1 1 1 -11 1 1 1 1 1 -11 1 1 1 1 1 -11 1 1 1 1 1 -11 1 1 1 1 1 -11 1 1 1 1 1 -11 1 1 1 1 1 -11 1 1 1 1 1 -11 1 1 1 1 1 -11 1 1 1 1 1 -11 1 1 1 1 1 -11 1 1 1 1 1 -11 1 1 1 1 1 -11 1 1 1 1 1 -11 1 1 1 1 1 -11 1 1 1 1 1 -11 1 1 1 1 1 -11 1 1 1 1 1 -11 1 1 1 1 1 -11 1 1 1 1 1 -11 1 1 1 1 1 -11 1 1 1 1 1 -11 1 1 1 1 1 -11 1 1 1 1 1 -11 1 1 1 1 1 -11 1 1 1 1 1 -11 1 1 1 1 1 -11 1 1 1 1 1 -11 1 1 1 1 1 -11 1 1 1 1 1 -11 1 1 1 1 1 -11 1 1 1 1 1 -11 1 1 1 1 1 -11 1 1 1 1 1 -11 1 1 1 1 1 -11 1 1 1 1 1 -11 1 1 1 1 1 -11 1 1 1 1 1 -11 1 1 1 1 1 -11 1 1 1 1 1 -11 1 1 1 1 1 -11 1 1 1 1 1 -11 1 1 1 1 1 -11 1 1 1 1 1 -11 1 1 1 1 1 -11 1 1 1 1 1 -11 1 1 1 1 1 -11 1 1 1 1 1 -11 1 1 1 1 1 -11 1 1 1 1 1 -11 1 1 1 1 1 -11 1 1 1 1 1 -11 1 1 1 1 1 -11 1 1 1 1 1 -11 1 1 1 1 1 -11 1 1 1 1 1 -11 1 1 1 1 1 -11 1 1 1 1 1 -11 1 1 1 1 1 -11 1 1 1 1 1 -11 1 1 1 1 1 -11 1 1 1 1 1 -11 1 1 1 1 1 -11 1 1 1 1 1 -11 1 1 1 1 1 -11 1 1 1 1 1 -11 1 1 1 1 1 -11 1 1 1 1 1 -11 1 1 1 1 1 -11 1 1 1 1 1 -11 1 1 1 1 1 -11 1 1 1 1 1 -11 1 1 1 1 1 -11 1 1 1 1 1 -11 1 1 1 1 1 -11 1 1 1 1 1 -11 1 1 1 1 1 -11 1 1 1 1 1 -11 1 1 1 1 1 -11 1 1 1 1 1 -11 1 1 1 1 1 -11 1 1 1 1 1 -11 1 1 1 1 1 -11 1 1 1 1 1 -11 1 1 1 1 1 -11 1 1 1 1 1 -11 1 1 1 1 1 -11 1 1 1 1 1 -11 1 1 1 1 1 -11 1 1 1 1 1 -11 1 1 1 1 1 -11 1 1 1 1 1 -11 1 1 1 1 1 -11 1 1 1 1 1 -11 1 1 1 1 1 -11 1 1 1 1 1 -11 1 1 1 1 1 -11 1 1 1 1 1 -11 1 1 1 1 1 -11 1 1 1 1 1 -11 1 1 1 1 1 -11 1 1 1 1 1 -11 1 1 1 1 1 -11 1 1 1 1 1 -11 1 1 1 1 1 -11 1 1 1 1 1 -11 1 1 1 1 1 -11 1 1 1 1 1 -11 1 1 1 1 1 -11 1 1 1 1 1 -11 1 1 1 1 1 -11 1 1 1 1 1 -11 1 1 1 1 1 -11 1 1 1 1 1 -11 1 1 1 1 1 -11 1 1 1 1 1 -11 1 1 1 1 1 -11 1 1 1 1 1 -11 1 1 1 1 1 -11 1 1 1 1 1 -11 1 1 1 1 1 -11 1 1 1 1 1 -11 1 1 1 1 1 -11 1 1 1 1 1 -11 1 1 1 1 1 -11 1 1 1 1 1 -11 1 1 1 1 1 -11 1 1 1 1 1 -11 1 1 1 1 1 -11 1 1 1 1 1 -11 1 1 1 1 1 -11 1 1 1 1 1 -11 1 1 1 1 1 -11 1 1 1 1 1 -11 1 1 1 1 1 -11 1 1 1 1 1 -11 1 1 1 1 1 -11 1 1 1 1 1 -11 1 1 1 1 1 -11 1 1 1 1 1 -11 1 1 1 1 1 -11 1 1 1 1 1 -11 1 1 1 1 1 -11 1 1 1 1 1 -11 1 1 1 1 1 -11 1 1 1 1 1 -11 1 1 1 1 1 -11 1 1 1 1 1 -11 1 1 1 1 1 -11 1 1 1 1 1 -11 1 1 1 1 1 -11 1 1 1 1 1 -11 1 1 1 1 1 -11 1 1 1 1 1 -11 1 1 1 1 1 -11 1 1 1 1 1 -11 1 1 1 1 1 -11 1 1 1 1 1 -11 1 1 1 1 1 -11 1 1 1 1 1 -11 1 1 1 1 1 -11 1 1 1 1 1 -11 1 1 1 1 1 -11 1 1 1 1 1 -11 1 1 1 1 1 -11 1 1 1 1 1 -11 1 1 1 1 1 -11 1 1 1 1 1 -11 1 1 1 1 1 -11 1 1 1 1 1 -11 1 1 1 1 1 -11 1 1 1 1 1 -11 1 1 1 1 1 -11 1 1 1 1 1 -11 1 1 1 1 1 -11 1 1 1 1 1 -11 1 1 1 1 1 -11 1 1 1 1 1 -11 1 1 1 1 1 -11 1 1 1 1 1 -11 1 1 1 1 1 -11 1 1 1 1 1 -11 1 1 1 1 1 -11 1 1 1 1 1 -11 1 1 1 1 1 -11 1 1 1 1 1 -11 1 1 1 1 1 -11 1 1 1 1 1 -11 1 1 1 1 1 -11 1 1 1 1 1 -11 1 1 1 1 1 -11 1 1 1 1 1 -11 1 1 1 1 1 -11 1 1 1 1 1 -11 1 1 1 1 1 -11 1 1 1 1 1 -11 1 1 1 1 1 -11 1 1 1 1 1 -11 1 1 1 1 1 -11 1 1 1 1 1 -11 1 1 1 1 1 -11 1 1 1 1 1 -11 1 1 1 1 1 -11 1 1 1 1 1 -11 1 1 1 1 1 -11 1 1 1 1 1 -11 1 1 1 1 1 -11 1 1 1 1 1 -11 1 1 1 1 1 -11 1 1 1 1 1 -11 1 1 1 1 1 -11 1 1 1 1 1 -11 1 1 1 1 1 -11 1 1 1 1 1 -11 1 1 1 1 1 -11 1 1 1 1 1 -11 1 1 1 1 1 -11 1 1 1 1 1 -11 1 1 1 1 1 -11 1 1 1 1 1 -11 1 1 1 1 1 -11 1 1 1 1 1 -11 1 1 1 1 1 -11 1 1 1 1 1 -11 1 1 1 1 1 -11 1 1 1 1 1 -11 1 1 1 1 1 -11 1 1 1 1 1 -11 1 1 1 1 1 -11 1 1 1 1 1 -11 1 1 1 1 1 -11 1 1 1 1 1 -11 1 1 1 1 1 -11 1 1 1 1 1 -11 1 1 1 1 1 -11 1 1 1 1 1 -11 1 1 1 1 1 -11 1 1 1 1 1 -11 1 1 1 1 1 -11 1 1 1 1 1 -11 1 1 1 1 1 -11 1 1 1 1 1 -11 1 1 1 1 1 -11 1 1 1 1 1 -11 1 1 1 1 1 -11 1 1 1 1 1 -11 1 1 1 1 1 -11 1 1 1 1 1 -11 1 1 1 1 1 -11 1 1 1 1 1 -11 1 1 1 1 1 -11 1 1 1 1 1 -11 1 1 1 1 1 -11 1 1 1 1 1 -11 1 1 1 1 1 -11 1 1 1 1 1 -11 1 1 1 1 1 -11 1 1 1 1 1 -11 1 1 1 1 1 -11 1 1 1 1 1 -11 1 1 1 1 1 -11 1 1 1 1 1 -11 1 1 1 1 1 -11 1 1 1 1 1 -11 1 1 1 1 1 -11 1 1 1 1 1 -11 1 1 1 1 1 -11 1 1 1 1 1 -11 1 1 1 1 1 -11 1 1 1 1 1 -11 1 1 1 1 1 -11 1 1 1 1 1 -11 1 1 1 1 1 -11 1 1 1 1 1 -11 1 1 1 1 1 -11 1 1 1 1 1 -11 1 1 1 1 1 -11 1 1 1 1 1 -11 1 1 1 1 1 -11 1 1 1 1 1 -11 1 1 1 1 1 -11 1 1 1 1 1 -11 1 1 1 1 1 -11 1 1 1 1 1 -11 1 1 1 1 1 -11 1 1 1 1 1 -11 1 1 1 1 1 -11 1 1 1 1 1 -11 1 1 1 1 1 -11 1 1 1 1 1 -11 1 1 1 1 1 -11 1 1 1 1 1 -11 1 1 1 1 1 -11 1 1 1 1 1 -11 1 1 1 1 1 -11 1 1 1 1 1 -11 1 1 1 1 1 -11 1 1 1 1 1 -11 1 1 1 1 1 -11 1 1 1 1 1 -11 1 1 1 1 1 -11 1 1 1 1 1 -11 1 1 1 1 1 -11 1 1 1 1 1 -11 1 1 1 1 1 -11 1 1 1 1 1 -11 1 1 1 1 1 -11 1 1 1 1 1 -11 1 1 1 1 1 -11 1 1 1 1 1 -11 1 1 1 1 1 -11 1 1 1 1 1 -11 1 1 1 1 1 -11 1 1 1 1 1 -11 1 1 1 1 1 -11 1 1 1 1 1 -11 1 1 1 1 1 -11 1 1 1 1 1 -11 1 1 1 1 1 -11 1 1 1 1 1 -11 1 1 1 1 1 -11 1 1 1 1 1 -11 1 1 1 1 1 -11 1 1 1 1 1 -11 1 1 1 1 1 -11 1 1 1 1 1 -11 1 1 1 1 1 -11 1 1 1 1 1 -11 1 1 1 1 1 -11 1 1 1 1 1 -11 1 1 1 1 1 -11 1 1 1 1 1 -11 1 1 1 1 1 -11 1 1 1 1 1 -11 1 1 1 1 1 -11 1 1 1 1 1 -11 1 1 1 1 1 -11 1 1 1 1 1 -11 1 1 1 1 1 -11 1 1 1 1 1 -11 1 1 1 1 1 -11 1 1 1 1 1 -11 1 1 1 1 1 -11 1 1 1 1 1 -11 1 1 1 1 1 -11 1 1 1 1 1 -11 1 1 1 1 1 -11 1 1 1 1 1 -11 1 1 1 1 1 -11 1 1 1 1 1 -11 1 1 1 1 1 -11 1 1 1 1 1 -11 1 1 1 1 1 -11 1 1 1 1 1 -11 1 1 1 1 1 -11 1 1 1 1 1 -11 1 1 1 1 1 -11 1 1 1 1 1 -11 1 1 1 1 1 -11 1 1 1 1 1 -11 1 1 1 1 1 -11 1 1 1 1 1 -11 1 1 1 1 1 -11 1 1 1 1 1 -11 1 1 1 1 1 -11 1 1 1 1 1 -11 1 1 1 1 1 -11 1 1 1 1 1 -11 1 1 1 1 1 -11 1 1 1 1 1 -11 1 1 1 1 1 -11 1 1 1 1 1 -11 1 1 1 1 1 -11 1 1 1 1 1 -11 1 1 1 1 1 -11 1 1 1 1 1 -11 1 1 1 1 1 -11 1 1 1 1 1 -11 1 1 1 1 1 -11 1 1 1 1 1 -11 1 1 1 1 1 -11 1 1 1 1 1 -11 1 1 1 1 1 -11 1 1 1 1 1 -11 1 1 1 1 1 -11 1 1 1 1 1 -11 1 1 1 1 1 -11 1 1 1 1 1 -11 1 1 1 1 1 -11 1 1 1 1 1 -11 1 1 1 1 1 -11 1 1 1 1 1 -11 1 1 1 1 1 -11 1 1 1 1 1 -11 1 1 1 1 1 -11 1 1 1 1 1 -11 1 1 1 1 1 -11 1 1 1 1 1 -11 1 1 1 1 1 -11 1 1 1 1 1 -11 1 1 1 1 1 -11 1 1 1 1 1 -11 1 1 1 1 1 -11 1 1 1 1 1 -11 1 1 1 1 1 -11 1 1 1 1 1 -11 1 1 1 1 1 -11 1 1 1 1 1 -11 1 1 1 1 1 -11 1 1 1 1 1 -11 1 1 1 1 1 -11 1 1 1 1 1 -11 1 1 1 1 1 -11 1 1 1 1 1 -11 1 1 1 1 1 -11 1 1 1 1 1 -11 1 1 1 1 1 -11 1 1 1 1 1 -11 1 1 1 1 1 -11 1 1 1 1 1 -11 1 1 1 1 1 -11 1 1 1 1 1 -11 1 1 1 1 1 -11 1 1 1 1 1 -11 1 1 1 1 1 -11 1 1 1 1 1 -11 1 1 1 1 1 -11 1 1 1 1 1 -11 1 1 1 1 1 -11 1 1 1 1 1 -11 1 1 1 1 1 -11 1 1 1 1 1 -11 1 1 1 1 1 -11 1 1 1 1 1 -11 1 1 1 1 1 -11 1 1 1 1 1 -11 1 1 1 1 1 -11 1 1 1 1 1 -11 1 1 1 1 1 -11 1 1 1 1 1 -11 1 1 1 1 1 -11 1 1 1 1 1 -11 1 1 1 1 1 -11 1 1 1 1 1 -11 1 1 1 1 1 -11 1 1 1 1 1 -11 1 1 1 1 1 -11 1 1 1 1 1 -11 1 1 1 1 1 -11 1 1 1 1 1 -11 1 1 1 1 1 -11 1 1 1 1 1 -11 1 1 1 1 1 -11 1 1 1 1 1 -11 1 1 1 1 1 -11 1 1 1 1 1 -11 1 1 1 1 1 -11 1 1 1 1 1 -11 1 1 1 1 1 -11 1 1 1 1 1 -11 1 1 1 1 1 -11 1 1 1 1 1 -11 1 1 1 1 1 -11 1 1 1 1 1 -11 1 1 1 1 1 -11 1 1 1 1 1 -11 1 1 1 1 1 -11 1 1 1 1 1 -11 1 1 1 1 1 -11 1 1 1 1 1 -11 1 1 1 1 1 -11 1 1 1 1 1 -11 1 1 1 1 1 -11 1 1 1 1 1 -11 1 1 1 1 1 -11 1 1 1 1 1 -11 1 1 1 1 1 -11 1 1 1 1 1 -11 1 1 1 1 1 -11 1 1 1 1 1 -11 1 1 1 1 1 -11 1 1 1 1 1 -11 1 1 1 1 1 -11 1 1 1 1 1 -11 1 1 1 1 1 -11 1 1 1 1 1 -11 1 1 1 1 1 -11 1 1 1 1 1 -11 1 1 1 1 1 -11 1 1 1 1 1 -11 1 1 1 1 1 -11 1 1 1 1 1 -11 1 1 1 1 1 -11 1 1 1 1 1 -11 1 1 1 1 1 -11 1 1 1 1 1 -11 1 1 1 1 1 -11 1 1 1 1 1 -11 1 1 1 1 1 -11 1 1 1 1 1 -11 1 1 1 1 1 -11 1 1 1 1 1 -11 1 1 1 1 1 -11 1 1 1 1 1 -11 1 1 1 1 1 -11 1 1 1 1 1 -11 1 1 1 1 1 -11 1 1 1 1 1 -11 1 1 1 1 1 -11 1 1 1 1 1 -11 1 1 1 1 1 -11 1 1 1 1 1 -11 1 1 1 1 1 -11 1 1 1 1 1 -11 1 1 1 1 1 -11 1 1 1 1 1 -11 1 1 1 1 1 -11 1 1 1 1 1 -11 1 1 1 1 1 -11 1 1 1 1 1 -11 1 1 1 1 1 -11 1 1 1 1 1 -11 1 1 1 1 1 -11 1 1 1 1 1 -11 1 1 1 1 1 -11 1 1 1 1 1 -11 1 1 1 1 1 -11 1 1 1 1 1 -11 1 1 1 1 1 -11 1 1 1 1 1 -11 1 1 1 1 1 -11 1 1 1 1 1 -11 1 1 1 1 1 -11 1 1 1 1 1 -11 1 1 1 1 1 -11 1 1 1 1 1 -11 1 1 1 1 1 -11 1 1 1 1 1 -11 1 1 1 1 1 -11 1 1 1 1 1 -11 1 1 1 1 1 -11 1 1 1 1 1 -11 1 1 1 1 1 -11 1 1 1 1 1 -11 1 1 1 1 1 -11 1 1 1 1 1 -11 1 1 1 1 1 -11 1 1 1 1 1 -11 1 1 1 1 1 -11 1 1 1 1 1 -11 1 1 1 1 1 -11 1 1 1 1 1 -11 1 1 1 1 1 -11 1 1 1 1 1 -11 1 1 1 1 1 -11 1 1 1 1 1 -11 1 1 1 1 1 -11 1 1 1 1 1 -11 1 1 1 1 1 -11 1 1 1 1 1 -11 1 1 1 1 1 -11 1 1 1 1 1 -11 1 1 1 1 1 -11 1 1 1 1 1 -11 1 1 1 1 1 -11 1 1 1 1 1 -11 1 1 1 1 1 -11 1 1 1 1 1 -11 1 1 1 1 1 -11 1 1 1 1 1 -11 1 1 1 1 1 -11 1 1 1 1 1 -11 1 1 1 1 1 -11 1 1 1 1 1 -11 1 1 1 1 1 -11 1 1 1 1 1 -11 1 1 1 1 1 -11 1 1 1 1 1 -11 1 1 1 1 1 -11 1 1 1 1 1 -11 1 1 1 1 1 -11 1 1 1 1 1 -11 1 1 1 1 1 -11 1 1 1 1 1 -11 1 1 1 1 1 -11 1 1 1 1 1 -11 1 1 1 1 1 -11 1 1 1 1 1 -11 1 1 1 1 1 -11 1 1 1 1 1 -11 1 1 1 1 1 -11 1 1 1 1 1 -11 1 1 1 1 1 -11 1 1 1 1 1 -11 1 1 1 1 1 -11 1 1 1 1 1 -11 1 1 1 1 1 -11 1 1 1 1 1 -11 1 1 1 1 1 -11 1 1 1 1 1 -11 1 1 1 1 1 -11 1 1 1 1 1 -11 1 1 1 1 1 -11 1 1 1 1 1 -11 1 1 1 1 1 -11 1 1 1 1 1 -11 1 1 1 1 1 -11 1 1 1 1 1 -11 1 1 1 1 1 -11 1 1 1 1 1 -11 1 1 1 1 1 -11 1 1 1 1 1 -11 1 1 1 1 1 -11 1 1 1 1 1 -11 1 1 1 1 1 -11 1 1 1 1 1 -11 1 1 1 1 1 -11 1 1 1 1 1 -11 1 1 1 1 1 -11 1 1 1 1 1 -11 1 1 1 1 1 -11 1 1 1 1 1 -11 1 1 1 1 1 -11 1 1 1 1 1 -11 1 1 1 1 1 -11 1 1 1 1 1 -11 1 1 1 1 1 -11 1 1 1 1 1 -11 1 1 1 1 1 -11 1 1 1 1 1 -11 1 1 1 1 1 -11 1 1 1 1 1 -11 1 1 1 1 1 -11 1 1 1 1 1 -11 1 1 1 1 1 -11 1 1 1 1 1 -11 1 1 1 1 1 -11 1 1 1 1 1 -11 1 1 1 1 1 -11 1 1 1 1 1 -11 1 1 1 1 1 -11 1 1 1 1 1 -11 1 1 1 1 1 -11 1 1 1 1 1 -11 1 1 1 1 1 -11 1 1 1 1 1 -11 1 1 1 1 1 -11 1 1 1 1 1 -11 1 1 1 1 1 -11 1 1 1 1 1 -11 1 1 1 1 1 -11 1 1 1 1 1 -11 1 1 1 1 1 -11 1 1 1 1 1 -11 1 1 1 1 1 -11 1 1 1 1 1 -11 1 1 1 1 1 -11 1 1 1 1 1 -11 1 1 1 1 1 -11 1 1 1 1 1 -11 1 1 1 1 1 -11 1 1 1 1 1 -11 1 1 1 1 1 -11 1 1 1 1 1 -11 1 1 1 1 1 -11 1 1 1 1 1 -11 1 1 1 1 1 -11 1 1 1 1 1 -11 1 1 1 1 1 -11 1 1 1 1 1 -11 1 1 1 1 1 -11 1 1 1 1 1 -11 1 1 1 1 1 -11 1 1 1 1 1 -11 1 1 1 1 1 -11 1 1 1 1 1 -11 1 1 1 1 1 -11 1 1 1 1 1 -11 1 1 1 1 1 -11 1 1 1 1 1 -11 1 1 1 1 1 -11 1 1 1 1 1 -11 1 1 1 1 1 -11 1 1 1 1 1 -11 1 1 1 1 1 -11 1 1 1 1 1 -11 1 1 1 1 1 -11 1 1 1 1 1 -11 1 1 1 1 1 -11 1 1 1 1 1 -11 1 1 1 1 1 -11 1 1 1 1 1 -11 1 1 1 1 1 -11 1 1 1 1 1 -11 1 1 1 1 1 -11 1 1 1 1 1 -11 1 1 1 1 1 -11 1 1 1 1 1 -11 1 1 1 1 1 -11 1 1 1 1 1 -11 1 1 1 1 1 -11 1 1 1 1 1 -11 1 1 1 1 1 -11 1 1 1 1 1 -11 1 1 1 1 1 -11 1 1 1 1 1 -11 1 1 1 1 1 -11 1 1 1 1 1 -11 1 1 1 1 1 -11 1 1 1 1 1 -11 1 1 1 1 1 -11 1 1 1 1 1 -11 1 1 1 1 1 -11 1 1 1 1 1 -11 1 1 1 1 1 -11 1 1 1 1 1 -11 1 1 1 1 1 -11 1 1 1 1 1 -11 1 1 1 1 1 -11 1 1 1 1 1 -11 1 1 1 1 1 -11 1 1 1 1 1 -11 1 1 1 1 1 -11 1 1 1 1 1 -11 1 1 1 1 1 -11 1 1 1 1 1 -11 1 1 1 1 1 -11 1 1 1 1 1 -11 1 1 1 1 1 -11 1 1 1 1 1 -11 1 1 1 1 1 -11 1 1 1 1 1 -11 1 1 1 1 1 -11 1 1 1 1 1 -11 1 1 1 1 1 -11 1 1 1 1 1 -11 1 1 1 1 1 -11 1 1 1 1 1 -11 1 1 1 1 1 -11 1 1 1 1 1 -11 1 1 1 1 1 -11 1 1 1 1 1 -11 1 1 1 1 1 -11 1 1 1 1 1 -11 1 1 1 1 1 -11 1 1 1 1 1 -11 1 1 1 1 1 -11 1 1 1 1 1 -11 1 1 1 1 1 -11 1 1 1 1 1 -11 1 1 1 1 1 -11 1 1 1 1 1 -11 1 1 1 1 1 -11 1 1 1 1 1 -11 1 1 1 1 1 -11 1 1 1 1 1 -11 1 1 1 1 1 -11 1 1 1 1 1 -11 1 1 1 1 1 -11 1 1 1 1 1 -11 1 1 1 1 1 -11 1 1 1 1 1 -11 1 1 1 1 1 -11 1 1 1 1 1 -11 1 1 1 1 1 -11 1 1 1 1 1 -11 1 1 1 1 1 -11 1 1 1 1 1 -11 1 1 1 1 1 -11 1 1 1 1 1 -11 1 1 1 1 1 -11 1 1 1 1 1 -11 1 1 1 1 1 -11 1 1 1 1 1 -11 1 1 1 1 1 -11 1 1 1 1 1 -11 1 1 1 1 1 -11 1 1 1 1 1 -11 1 1 1 1 1 -11 1 1 1 1 1 -11 1 1 1 1 1 -11 1 1 1 1 1 -11 1 1 1 1 1 -11 1 1 1 1 1 -11 1 1 1 1 1 -11 1 1 1 1 1 -11 1 1 1 1 1 -11 1 1 1 1 1 -11 1 1 1 1 1 -11 1 1 1 1 1 -11 1 1 1 1 1 -11 1 1 1 1 1 -11 1 1 1 1 1 -11 1 1 1 1 1 -11 1 1 1 1 1 -11 1 1 1 1 1 -11 1 1 1 1 1 -11 1 1 1 1 1 -11 1 1 1 1 1 -11 1 1 1 1 1 -11 1 1 1 1 1 -11 1 1 1 1 1 -11 1 1 1 1 1 -11 1 1 1 1 1 -11 1 1 1 1 1 -11 1 1 1 1 1 -11 1 1 1 1 1 -11 1 1 1 1 1 -11 1 1 1 1 1 -11 1 1 1 1 1 -11 1 1 1 1 1 -11 1 1 1 1 1 -11 1 1 1 1 1 -11 1 1 1 1 1 -11 1 1 1 1 1 -11 1 1 1 1 1 -11 1 1 1 1 1 -11 1 1 1 1 1 -11 1 1 1 1 1 -11 1 1 1 1 1 -11 1 1 1 1 1 -11 1 1 1 1 1 -11 1 1 1 1 1 -11 1 1 1 1 1 -11 1 1 1 1 1 -11 1 1 1 1 1 -11 1 1 1 1 1 -11 1 1 1 1 1 -11 1 1 1 1 1 -11 1 1 1 1 1 -11 1 1 1 1 1 -11 1 1 1 1 1 -11 1 1 1 1 1 -11 1 1 1 1 1 -11 1 1 1 1 1 -11 1 1 1 1 1 -11 1 1 1 1 1 -11 1 1 1 1 1 -11 1 1 1 1 1 -11 1 1 1 1 1 -11 1 1 1 1 1 -11 1 1 1 1 1 -11 1 1 1 1 1 -11 1 1 1 1 1 -11 1 1 1 1 1 -11 1 1 1 1 1 -11 1 1 1 1 1 -11 1 1 1 1 1 -11 1 1 1 1 1 -11 1 1 1 1 1 -11 1 1 1 1 1 -11 1 1 1 1 1 -11 1 1 1 1 1 -11 1 1 1 1 1 -11 1 1 1 1 1 -11 1 1 1 1 1 -11 1 1 1 1 1 -11 1 1 1 1 1 -11 1 1 1 1 1 -11 1 1 1 1 1 -11 1 1 1 1 1 -11 1 1 1 1 1 -11 1 1 1 1 1 -11 1 1 1 1 1 -11 1 1 1 1 1 -11 1 1 1 1 1 -11 1 1 1 1 1 -11 1 1 1 1 1 -11 1 1 1 1 1 -11 1 1 1 1 1 -11 1 1 1 1 1 -11 1 1 1 1 1 -11 1 1 1 1 1 -11 1 1 1 1 1 -11 1 1 1 1 1 -11 1 1 1 1 1 -11 1 1 1 1 1 -11 1 1 1 1 1 -11 1 1 1 1 1 -11 1 1 1 1 1 -11 1 1 1 1 1 -11 1 1 1 1 1 -11 1 1 1 1 1 -11 1 1 1 1 1 -11 1 1 1 1 1 -11 1 1 1 1 1 -11 1 1 1 1 1 -11 1 1 1 1 1 -11 1 1 1 1 1 -11 1 1 1 1 1 -11 1 1 1 1 1 -11 1 1 1 1 1 -11 1 1 1 1 1 -11 1 1 1 1 1 -11 1 1 1 1 1 -11 1 1 1 1 1 -11 1 1 1 1 1 -11 1 1 1 1 1 -11 1 1 1 1 1 -11 1 1 1 1 1 -11 1 1 1 1 1 -11 1 1 1 1 1 -11 1 1 1 1 1 -11 1 1 1 1 1 -11 1 1 1 1 1 -11 1 1 1 1 1 -11 1 1 1 1 1 -11 1 1 1 1 1 -11 1 1 1 1 1 -11 1 1 1 1 1 -11 1 1 1 1 1 -11 1 1 1 1 1 -11 1 1 1 1 1 -11 1 1 1 1 1 -11 1 1 1 1 1 -11 1 1 1 1 1 -11 1 1 1 1 1 -11 1 1 1 1 1 -11 1 1 1 1 1 -11 1 1 1 1 1 -11 1 1 1 1 1 -11 1 1 1 1 1 -11 1 1 1 1 1 -11 1 1 1 1 1 -11 1 1 1 1 1 -11 1 1 1 1 1 -11 1 1 1 1 1 -11 1 1 1 1 1 -11 1 1 1 1 1 -11 1 1 1 1 1 -11 1 1 1 1 1 -11 1 1 1 1 1 -11 1 1 1 1 1 -11 1 1 1 1 1 -11 1 1 1 1 1 -11 1 1 1 1 1 -11 1 1 1 1 1 -11 1 1 1 1 1 -11 1 1 1 1 1 -11 1 1 1 1 1 -11 1 1 1 1 1 -11 1 1 1 1 1 -11 1 1 1 1 1 -11 1 1 1 1 1 -11 1 1 1 1 1 -11 1 1 1 1 1 -11 1 1 1 1 1 -11 1 1 1 1 1 -11 1 1 1 1 1 -11 1 1 1 1 1 -11 1 1 1 1 1 -11 1 1 1 1 1 -11 1 1 1 1 1 -11 1 1 1 1 1 -11 1 1 1 1 1 -11 1 1 1 1 1 -11 1 1 1 1 1 -11 1 1 1 1 1 -11 1 1 1 1 1 -11 1 1 1 1 1 -11 1 1 1 1 1 -11 1 1 1 1 1 -11 1 1 1 1 1 -11 1 1 1 1 1 -11 1 1 1 1 1 -11 1 1 1 1 1 -11 1 1 1 1 1 -11 1 1 1 1 1 -11 1 1 1 1 1 -11 1 1 1 1 1 -11 1 1 1 1 1 -11 1 1 1 1 1 -11 1 1 1 1 1 -11 1 1 1 1 1 -11 1 1 1 1 1 -11 1 1 1 1 1 -11 1 1 1 1 1 -11 1 1 1 1 1 -11 1 1 1 1 1 -11 1 1 1 1 1 -11 1 1 1 1 1 -11 1 1 1 1 1 -11 1 1 1 1 1 -11 1 1 1 1 1 -11 1 1 1 1 1 -11 1 1 1 1 1 -11 1 1 1 1 1 -11 1 1 1 1 1 -11 1 1 1 1 1 -11 1 1 1 1 1 -11 1 1 1 1 1 -11 1 1 1 1 1 -11 1 1 1 1 1 -11 1 1 1 1 1 -11 1 1 1 1 1 -11 1 1 1 1 1 -11 1 1 1 1 1 -11 1 1 1 1 1 -11 1 1 1 1 1 -11 1 1 1 1 1 -11 1 1 1 1 1 -11 1 1 1 1 1 -11 1 1 1 1 1 -11 1 1 1 1 1 -11 1 1 1 1 1 -11 1 1 1 1 1 -11 1 1 1 1 1 -11 1 1 1 1 1 -11 1 1 1 1 1 -11 1 1 1 1 1 -11 1 1 1 1 1 -11 1 1 1 1 1 -11 1 1 1 1 1 -11 1 1 1 1 1 -11 1 1 1 1 1 -11 1 1 1 1 1 -11 1 1 1 1 1 -11 1 1 1 1 1 -11 1 1 1 1 1 -11 1 1 1 1 1 -11 1 1 1 1 1 -11 1 1 1 1 1 -11 1 1 1 1 1 -11 1 1 1 1 1 -11 1 1 1 1 1 -11 1 1 1 1 1 -11 1 1 1 1 1 -11 1 1 1 1 1 -11 1 1 1 1 1 -11 1 1 1 1 1 -11 1 1 1 1 1 -11 1 1 1 1 1 -11 1 1 1 1 1 -11 1 1 1 1 1 -11 1 1 1 1 1 -11 1 1 1 1 1 -11 1 1 1 1 1 -11 1 1 1 1 1 -11 1 1 1 1 1 -11 1 1 1 1 1 -11 1 1 1 1 1 -11 1 1 1 1 1 -11 1 1 1 1 1 -11 1 1 1 1 1 -11 1 1 1 1 1 -11 1 1 1 1 1 -11 1 1 1 1 1 -11 1 1 1 1 1 -11 1 1 1 1 1 -11 1 1 1 1 1 -11 1 1 1 1 1 -11 1 1 1 1 1 -11 1 1 1 1 1 -11 1 1 1 1 1 -11 1 1 1 1 1 -11 1 1 1 1 1 -11 1 1 1 1 1 -11 1 1 1 1 1 -11 1 1 1 1 1 -11 1 1 1 1 1 -11 1 1 1 1 1 -11 1 1 1 1 1 -11 1 1 1 1 1 -11 1 1 1 1 1 -11 1 1 1 1 1 -11 1 1 1 1 1 -11 1 1 1 1 1 -11 1 1 1 1 1 -11 1 1 1 1 1 -11 1 1 1 1 1 -11 1 1 1 1 1 -11 1 1 1 1 1 -11 1 1 1 1 1 -11 1 1 1 1 1 -11 1 1 1 1 1 -11 1 1 1 1 1 -11 1 1 1 1 1 -11 1 1 1 1 1 -11 1 1 1 1 1 -11 1 1 1 1 1 -11 1 1 1 1 1 -11 1 1 1 1 1 -11 1 1 1 1 1 -11 1 1 1 1 1 -11 1 1 1 1 1 -11 1 1 1 1 1 -11 1 1 1 1 1 -11 1 1 1 1 1 -11 1 1 1 1 1 -11 1 1 1 1 1 -11 1 1 1 1 1 -11 1 1 1 1 1 -11 1 1 1 1 1 -11 1 1 1 1 1 -11 1 1 1 1 1 -11 1 1 1 1 1 -11 1 1 1 1 1 -11 1 1 1 1 1 -11 1 1 1 1 1 -11 1 1 1 1 1 -11 1 1 1 1 1 -11 1 1 1 1 1 -11 1 1 1 1 1 -11 1 1 1 1 1 -11 1 1 1 1 1 -11 1 1 1 1 1 -11 1 1 1 1 1 -11 1 1 1 1 1 -11 1 1 1 1 1 -11 1 1 1 1 1 -11 1 1 1 1 1 -11 1 1 1 1 1 -11 1 1 1 1 1 -11 1 1 1 1 1 -11 1 1 1 1 1 -11 1 1 1 1 1 -11 1 1 1 1 1 -11 1 1 1 1 1 -11 1 1 1 1 1 -11 1 1 1 1 1 -11 1 1 1 1 1 -11 1 1 1 1 1 -11 1 1 1 1 1 -11 1 1 1 1 1 -11 1 1 1 1 1 -11 1 1 1 1 1 -11 1 1 1 1 1 -11 1 1 1 1 1 -11 1 1 1 1 1 -11 1 1 1 1 1 -11 1 1 1 1 1 -11 1 1 1 1 1 -11 1 1 1 1 1 -11 1 1 1 1 1 -11 1 1 1 1 1 -11 1 1 1 1 1 -11 1 1 1 1 1 -11 1 1 1 1 1 -11 1 1 1 1 1 -11 1 1 1 1 1 -11 1 1 1 1 1 -11 1 1 1 1 1 -11 1 1 1 1 1 -11 1 1 1 1 1 -11 1 1 1 1 1 -11 1 1 1 1 1 -11 1 1 1 1 1 -11 1 1 1 1 1 -11 1 1 1 1 1 -11 1 1 1 1 1 -11 1 1 1 1 1 -11 1 1 1 1 1 -11 1 1 1 1 1 -11 1 1 1 1 1 -11 1 1 1 1 1 -11 1 1 1 1 1 -11 1 1 1 1 1 -11 1 1 1 1 1 -11 1 1 1 1 1 -11 1 1 1 1 1 -11 1 1 1 1 1 -11 1 1 1 1 1 -11 1 1 1 1 1 -11 1 1 1 1 1 -11 1 1 1 1 1 -11 1 1 1 1 1 -11 1 1 1 1 1 -11 1 1 1 1 1 -11 1 1 1 1 1 -11 1 1 1 1 1 -11 1 1 1 1 1 -11 1 1 1 1 1 -11 1 1 1 1 1 -11 1 1 1 1 1 -11 1 1 1 1 1 -11 1 1 1 1 1 -11 1 1 1 1 1 -11 1 1 1 1 1 -11 1 1 1 1 1 -11 1 1 1 1 1 -11 1 1 1 1 1 -11 1 1 1 1 1 -11 1 1 1 1 1 -11 1 1 1 1 1 -11 1 1 1 1 1 -11 1 1 1 1 1 -11 1 1 1 1 1 -11 1 1 1 1 1 -11 1 1 1 1 1 -11 1 1 1 1 1 -11 1 1 1 1 1 -11 1 1 1 1 1 -11 1 1 1 1 1 -11 1 1 1 1 1 -11 1 1 1 1 1 -11 1 1 1 1 1 -11 1 1 1 1 1 -11 1 1 1 1 1 -11 1 1 1 1 1 -11 1 1 1 1 1 -11 1 1 1 1 1 -11 1 1 1 1 1 -11 1 1 1 1 1 -11 1 1 1 1 1 -11 1 1 1 1 1 -11 1 1 1 1 1 -11 1 1 1 1 1 -11 1 1 1 1 1 -11 1 1 1 1 1 -11 1 1 1 1 1 -11 1 1 1 1 1 -11 1 1 1 1 1 -11 1 1 1 1 1 -11 1 1 1 1 1 -11 1 1 1 1 1 -11 1 1 1 1 1 -11 1 1 1 1 1 -11 1 1 1 1 1 -11 1 1 1 1 1 -11 1 1 1 1 1 -11 1 1 1 1 1 -11 1 1 1 1 1 -11 1 1 1 1 1 -11 1 1 1 1 1 -11 1 1 1 1 1 -11 1 1 1 1 1 -11 1 1 1 1 1 -11 1 1 1 1 1 -11 1 1 1 1 1 -11 1 1 1 1 1 -11 1 1 1 1 1 -11 1 1 1 1 1 -11 1 1 1 1 1 -11 1 1 1 1 1 -11 1 1 1 1 1 -11 1 1 1 1 1 -11 1 1 1 1 1 -11 1 1 1 1 1 -11 1 1 1 1 1 -11 1 1 1 1 1 -11 1 1 1 1 1 -11 1 1 1 1 1 -11 1 1 1 1 1 -11 1 1 1 1 1 -11 1 1 1 1 1 -11 1 1 1 1 1 -11 1 1 1 1 1 -11 1 1 1 1 1 -11 1 1 1 1 1 -11 1 1 1 1 1 -11 1 1 1 1 1 -11 1 1 1 1 1 -11 1 1 1 1 1 -11 1 1 1 1 1 -11 1 1 1 1 1 -11 1 1 1 1 1 -11 1 1 1 1 1 -11 1 1 1 1 1 -11 1 1 1 1 1 -11 1 1 1 1 1 -11 1 1 1 1 1 -11 1 1 1 1 1 -11 1 1 1 1 1 -11 1 1 1 1 1 -11 1 1 1 1 1 -11 1 1 1 1 1 -11 1 1 1 1 1 -11 1 1 1 1 1 -11 1 1 1 1 1 -11 1 1 1 1 1 -11 1 1 1 1 1 -11 1 1 1 1 1 -11 1 1 1 1 1 -11 1 1 1 1 1 -11 1 1 1 1 1 -11 1 1 1 1 1 -11 1 1 1 1 1 -11 1 1 1 1 1 -11 1 1 1 1 1 -11 1 1 1 1 1 -11 1 1 1 1 1 -11 1 1 1 1 1 -11 1 1 1 1 1 -11 1 1 1 1 1 -11 1 1 1 1 1 -11 1 1 1 1 1 -11 1 1 1 1 1 -11 1 1 1 1 1 -11 1 1 1 1 1 -11 1 1 1 1 1 -11 1 1 1 1 1 -11 1 1 1 1 1 -11 1 1 1 1 1 -11 1 1 1 1 1 -11 1 1 1 1 1 -11 1 1 1 1 1 -11 1 1 1 1 1 -11 1 1 1 1 1 -11 1 1 1 1 1 -11 1 1 1 1 1 -11 1 1 1 1 1 -11 1 1 1 1 1 -11 1 1 1 1 1 -11 1 1 1 1 1 -11 1 1 1 1 1 -11 1 1 1 1 1 -11 1 1 1 1 1 -11 1 1 1 1 1 -11 1 1 1 1 1 -11 1 1 1 1 1 -11 1 1 1 1 1 -11 1 1 1 1 1 -11 1 1 1 1 1 -11 1 1 1 1 1 -11 1 1 1 1 1 -11 1 1 1 1 1 -11 1 1 1 1 1 -11 1 1 1 1 1 -11 1 1 1 1 1 -11 1 1 1 1 1 -11 1 1 1 1 1 -11 1 1 1 1 1 -11 1 1 1 1 1 -11 1 1 1 1 1 -11 1 1 1 1 1 -11 1 1 1 1 1 -11 1 1 1 1 1 -11 1 1 1 1 1 -11 1 1 1 1 1 -11 1 1 1 1 1 -11 1 1 1 1 1 -11 1 1 1 1 1 -11 1 1 1 1 1 -11 1 1 1 1 1 -11 1 1 1 1 1 -11 1 1 1 1 1 -11 1 1 1 1 1 -11 1 1 1 1 1 -11 1 1 1 1 1 -11 1 1 1 1 1 -11 1 1 1 1 1 -11 1 1 1 1 1 -11 1 1 1 1 1 -11 1 1 1 1 1 -11 1 1 1 1 1 -11 1 1 1 1 1 -11 1 1 1 1 1 -11 1 1 1 1 1 -11 1 1 1 1 1 -11 1 1 1 1 1 -11 1 1 1 1 1 -11 1 1 1 1 1 -11 1 1 1 1 1 -11 1 1 1 1 1 -11 1 1 1 1 1 -11 1 1 1 1 1 -11 1 1 1 1 1 -11 1 1 1 1 1 -11 1 1 1 1 1 -11 1 1 1 1 1 -11 1 1 1 1 1 -11 1 1 1 1 1 -11 1 1 1 1 1 -11 1 1 1 1 1 -11 1 1 1 1 1 -11 1 1 1 1 1 -11 1 1 1 1 1 -11 1 1 1 1 1 -11 1 1 1 1 1 -11 1 1 1 1 1 -11 1 1 1 1 1 -11 1 1 1 1 1 -11 1 1 1 1 1 -11 1 1 1 1 1 -11 1 1 1 1 1 -11 1 1 1 1 1 -11 1 1 1 1 1 -11 1 1 1 1 1 -11 1 1 1 1 1 -11 1 1 1 1 1 -11 1 1 1 1 1 -11 1 1 1 1 1 -11 1 1 1 1 1 -11 1 1 1 1 1 -11 1 1 1 1 1 -11 1 1 1 1 1 -11 1 1 1 1 1 -11 1 1 1 1 1 -11 1 1 1 1 1 -11 1 1 1 1 1 -11 1 1 1 1 1 -11 1 1 1 1 1 -11 1 1 1 1 1 -11 1 1 1 1 1 -11 1 1 1 1 1 -11 1 1 1 1 1 -11 1 1 1 1 1 -11 1 1 1 1 1 -11 1 1 1 1 1 -11 1 1 1 1 1 -11 1 1 1 1 1 -11 1 1 1 1 1 -11 1 1 1 1 1 -11 1 1 1 1 1 -11 1 1 1 1 1 -11 1 1 1 1 1 -11 1 1 1 1 1 -11 1 1 1 1 1 -11 1 1 1 1 1 -11 1 1 1 1 1 -11 1 1 1 1 1 -11 1 1 1 1 1 -11 1 1 1 1 1 -11 1 1 1 1 1 -11 1 1 1 1 1 -11 1 1 1 1 1 -11 1 1 1 1 1 -11 1 1 1 1 1 -11 1 1 1 1 1 -11 1 1 1 1 1 -11 1 1 1 1 1 -11 1 1 1 1 1 -11 1 1 1 1 1 -11 1 1 1 1 1 -11 1 1 1 1 1 -11 1 1 1 1 1 -11 1 1 1 1 1 -11 1 1 1 1 1 -11 1 1 1 1 1 -11 1 1 1 1 1 -11 1 1 1 1 1 -11 1 1 1 1 1 -11 1 1 1 1 1 -11 1 1 1 1 1 -11 1 1 1 1 1 -11 1 1 1 1 1 -11 1 1 1 1 1 -11 1 1 1 1 1 -11 1 1 1 1 1 -11 1 1 1 1 1 -11 1 1 1 1 1 -11 1 1 1 1 1 -11 1 1 1 1 1 -11 1 1 1 1 1 -11 1 1 1 1 1 -11 1 1 1 1 1 -11 1 1 1 1 1 -11 1 1 1 1 1 -11 1 1 1 1 1 -11 1 1 1 1 1 -11 1 1 1 1 1 -11 1 1 1 1 1 -11 1 1 1 1 1 -11 1 1 1 1 1 -11 1 1 1 1 1 -11 1 1 1 1 1 -11 1 1 1 1 1 -11 1 1 1 1 1 -11 1 1 1 1 1 -11 1 1 1 1 1 -11 1 1 1 1 1 -11 1 1 1 1 1 -11 1 1 1 1 1 -11 1 1 1 1 1 -11 1 1 1 1 1 -11 1 1 1 1 1 -11 1 1 1 1 1 -11 1 1 1 1 1 -11 1 1 1 1 1 -11 1 1 1 1 1 -11 1 1 1 1 1 -11 1 1 1 1 1 -11 1 1 1 1 1 -11 1 1 1 1 1 -11 1 1 1 1 1 -11 1 1 1 1 1 -11 1 1 1 1 1 -11 1 1 1 1 1 -11 1 1 1 1 1 -11 1 1 1 1 1 -11 1 1 1 1 1 -11 1 1 1 1 1 -11 1 1 1 1 1 -11 1 1 1 1 1 -11 1 1 1 1 1 -11 1 1 1 1 1 -11 1 1 1 1 1 -11 1 1 1 1 1 -11 1 1 1 1 1 -11 1 1 1 1 1 -11 1 1 1 1 1 -11 1 1 1 1 1 -11 1 1 1 1 1 -11 1 1 1 1 1 -11 1 1 1 1 1 -11 1 1 1 1 1 -11 1 1 1 1 1 -11 1 1 1 1 1 -11 1 1 1 1 1 -11 1 1 1 1 1 -11 1 1 1 1 1 -11 1 1 1 1 1 -11 1 1 1 1 1 -11 1 1 1 1 1 -11 1 1 1 1 1 -11 1 1 1 1 1 -11 1 1 1 1 1 -11 1 1 1 1 1 -11 1 1 1 1 1 -11 1 1 1 1 1 -11 1 1 1 1 1 -11 1 1 1 1 1 -11 1 1 1 1 1 -11 1 1 1 1 1 -11 1 1 1 1 1 -11 1 1 1 1 1 -11 1 1 1 1 1 -11 1 1 1 1 1 -11 1 1 1 1 1 -11 1 1 1 1 1 -11 1 1 1 1 1 -11 1 1 1 1 1 -11 1 1 1 1 1 -11 1 1 1 1 1 -11 1 1 1 1 1 -11 1 1 1 1 1 -11 1 1 1 1 1 -11 1 1 1 1 1 -11 1 1 1 1 1 -11 1 1 1 1 1 -11 1 1 1 1 1 -11 1 1 1 1 1 -11 1 1 1 1 1 -11 1 1 1 1 1 -11 1 1 1 1 1 -11 1 1 1 1 1 -11 1 1 1 1 1 -11 1 1 1 1 1 -11 1 1 1 1 1 -11 1 1 1 1 1 -11 1 1 1 1 1 -11 1 1 1 1 1 -11 1 1 1 1 1 -11 1 1 1 1 1 -11 1 1 1 1 1 -11 1 1 1 1 1 -11 1 1 1 1 1 -11 1 1 1 1 1 -11 1 1 1 1 1 -11 1 1 1 1 1 -11 1 1 1 1 1 -11 1 1 1 1 1 -11 1 1 1 1 1 -11 1 1 1 1 1 -11 1 1 1 1 1 -11 1 1 1 1 1 -11 1 1 1 1 1 -11 1 1 1 1 1 -11 1 1 1 1 1 -11 1 1 1 1 1 -11 1 1 1 1 1 -11 1 1 1 1 1 -11 1 1 1 1 1 -11 1 1 1 1 1 -11 1 1 1 1 1 -11 1 1 1 1 1 -11 1 1 1 1 1 -11 1 1 1 1 1 -11 1 1 1 1 1 -11 1 1 1 1 1 -11 1 1 1 1 1 -11 1 1 1 1 1 -11 1 1 1 1 1 -11 1 1 1 1 1 -11 1 1 1 1 1 -11 1 1 1 1 1 -11 1 1 1 1 1 -11 1 1 1 1 1 -11 1 1 1 1 1 -11 1 1 1 1 1 -11 1 1 1 1 1 -11 1 1 1 1 1 -11 1 1 1 1 1 -11 1 1 1 1 1 -11 1 1 1 1 1 -11 1 1 1 1 1 -11 1 1 1 1 1 -11 1 1 1 1 1 -11 1 1 1 1 1 -11 1 1 1 1 1 -11 1 1 1 1 1 -11 1 1 1 1 1 -11 1 1 1 1 1 -11 1 1 1 1 1 -11 1 1 1 1 1 -11 1 1 1 1 1 -11 1 1 1 1 1 -11 1 1 1 1 1 -11 1 1 1 1 1 -11 1 1 1 1 1 -11 1 1 1 1 1 -11 1 1 1 1 1 -11 1 1 1 1 1 -11 1 1 1 1 1 -11 1 1 1 1 1 -11 1 1 1 1 1 -11 1 1 1 1 1 -11 1 1 1 1 1 -11 1 1 1 1 1 -11 1 1 1 1 1 -11 1 1 1 1 1 -11 1 1 1 1 1 -11 1 1 1 1 1 -11 1 1 1 1 1 -11 1 1 1 1 1 -11 1 1 1 1 1 -11 1 1 1 1 1 -11 1 1 1 1 1 -11 1 1 1 1 1 -11 1 1 1 1 1 -11 1 1 1 1 1 -11 1 1 1 1 1 -11 1 1 1 1 1 -11 1 1 1 1 1 -11 1 1 1 1 1 -11 1 1 1 1 1 -11 1 1 1 1 1 -11 1 1 1 1 1 -11 1 1 1 1 1 -11 1 1 1 1 1 -11 1 1 1 1 1 -11 1 1 1 1 1 -11 1 1 1 1 1 -11 1 1 1 1 1 -11 1 1 1 1 1 -11 1 1 1 1 1 -11 1 1 1 1 1 -11 1 1 1 1 1 -11 1 1 1 1 1 -11 1 1 1 1 1 -11 1 1 1 1 1 -11 1 1 1 1 1 -11 1 1 1 1 1 -11 1 1 1 1 1 -11 1 1 1 1 1 -11 1 1 1 1 1 -11 1 1 1 1 1 -11 1 1 1 1 1 -11 1 1 1 1 1 -11 1 1 1 1 1 -11 1 1 1 1 1 -11 1 1 1 1 1 -11 1 1 1 1 1 -11 1 1 1 1 1 -11 1 1 1 1 1 -11 1 1 1 1 1 -11 1 1 1 1 1 -11 1 1 1 1 1 -11 1 1 1 1 1 -11 1 1 1 1 1 -11 1 1 1 1 1 -11 1 1 1 1 1 -11 1 1 1 1 1 -11 1 1 1 1 1 -11 1 1 1 1 1 -11 1 1 1 1 1 -11 1 1 1 1 1 -11 1 1 1 1 1 -11 1 1 1 1 1 -11 1 1 1 1 1 -11 1 1 1 1 1 -11 1 1 1 1 1 -11 1 1 1 1 1 -11 1 1 1 1 1 -11 1 1 1 1 1 -11 1 1 1 1 1 -11 1 1 1 1 1 -11 1 1 1 1 1 -11 1 1 1 1 1 -11 1 1 1 1 1 -11 1 1 1 1 1 -11 1 1 1 1 1 -11 1 1 1 1 1 -11 1 1 1 1 1 -11 1 1 1 1 1 -11 1 1 1 1 1 -11 1 1 1 1 1 -11 1 1 1 1 1 -11 1 1 1 1 1 -11 1 1 1 1 1 -11 1 1 1 1 1 -11 1 1 1 1 1 -11 1 1 1 1 1 -11 1 1 1 1 1 -11 1 1 1 1 1 -11 1 1 1 1 1 -11 1 1 1 1 1 -11 1 1 1 1 1 -11 1 1 1 1 1 -11 1 1 1 1 1 -11 1 1 1 1 1 -11 1 1 1 1 1 -11 1 1 1 1 1 -11 1 1 1 1 1 -11 1 1 1 1 1 -11 1 1 1 1 1 -11 1 1 1 1 1 -11 1 1 1 1 1 -11 1 1 1 1 1 -11 1 1 1 1 1 -11 1 1 1 1 1 -11 1 1 1 1 1 -11 1 1 1 1 1 -11 1 1 1 1 1 -11 1 1 1 1 1 -11 1 1 1 1 1 -11 1 1 1 1 1 -11 1 1 1 1 1 -11 1 1 1 1 1 -11 1 1 1 1 1 -11 1 1 1 1 1 -11 1 1 1 1 1 -11 1 1 1 1 1 -11 1 1 1 1 1 -11 1 1 1 1 1 -11 1 1 1 1 1 -11 1 1 1 1 1 -11 1 1 1 1 1 -11 1 1 1 1 1 -11 1 1 1 1 1 -11 1 1 1 1 1 -11 1 1 1 1 1 -11 1 1 1 1 1 -11 1 1 1 1 1 -11 1 1 1 1 1 -11 1 1 1 1 1 -11 1 1 1 1 1 -11 1 1 1 1 1 -11 1 1 1 1 1 -11 1 1 1 1 1 -11 1 1 1 1 1 -11 1 1 1 1 1 -11 1 1 1 1 1 -11 1 1 1 1 1 -11 1 1 1 1 1 -11 1 1 1 1 1 -11 1 1 1 1 1 -11 1 1 1 1 1 -11 1 1 1 1 1 -11 1 1 1 1 1 -11 1 1 1 1 1 -11 1 1 1 1 1 -11 1 1 1 1 1 -11 1 1 1 1 1 -11 1 1 1 1 1 -11 1 1 1 1 1 -11 1 1 1 1 1 -11 1 1 1 1 1 -11 1 1 1 1 1 -11 1 1 1 1 1 -11 1 1 1 1 1 -11 1 1 1 1 1 -11 1 1 1 1 1 -11 1 1 1 1 1 -11 1 1 1 1 1 -11 1 1 1 1 1 -11 1 1 1 1 1 -11 1 1 1 1 1 -11 1 1 1 1 1 -11 1 1 1 1 1 -11 1 1 1 1 1 -11 1 1 1 1 1 -11 1 1 1 1 1 -11 1 1 1 1 1 -11 1 1 1 1 1 -11 1 1 1 1 1 -11 1 1 1 1 1 -11 1 1 1 1 1 -11 1 1 1 1 1 -11 1 1 1 1 1 -11 1 1 1 1 1 -11 1 1 1 1 1 -11 1 1 1 1 1 -11 1 1 1 1 1 -11 1 1 1 1 1 -11 1 1 1 1 1 -11 1 1 1 1 1 -11 1 1 1 1 1 -11 1 1 1 1 1 -11 1 1 1 1 1 -11 1 1 1 1 1 -11 1 1 1 1 1 -11 1 1 1 1 1 -11 1 1 1 1 1 -11 1 1 1 1 1 -11 1 1 1 1 1 -11 1 1 1 1 1 -11 1 1 1 1 1 -11 1 1 1 1 1 -11 1 1 1 1 1 -11 1 1 1 1 1 -11 1 1 1 1 1 -11 1 1 1 1 1 -11 1 1 1 1 1 -11 1 1 1 1 1 -11 1 1 1 1 1 -11 1 1 1 1 1 -11 1 1 1 1 1 -11 1 1 1 1 1 -11 1 1 1 1 1 -11 1 1 1 1 1 -11 1 1 1 1 1 -11 1 1 1 1 1 -11 1 1 1 1 1 -11 1 1 1 1 1 -11 1 1 1 1 1 -11 1 1 1 1 1 -11 1 1 1 1 1 -11 1 1 1 1 1 -11 1 1 1 1 1 -11 1 1 1 1 1 -11 1 1 1 1 1 -11 1 1 1 1 1 -11 1 1 1 1 1 -11 1 1 1 1 1 -11 1 1 1 1 1 -11 1 1 1 1 1 -11 1 1 1 1 1 -11 1 1 1 1 1 -11 1 1 1 1 1 -11 1 1 1 1 1 -11 1 1 1 1 1 -11 1 1 1 1 1 -11 1 1 1 1 1 -11 1 1 1 1 1 -11 1 1 1 1 1 -11 1 1 1 1 1 -11 1 1 1 1 1 -11 1 1 1 1 1 -11 1 1 1 1 1 -11 1 1 1 1 1 -11 1 1 1 1 1 -11 1 1 1 1 1 -11 1 1 1 1 1 -11 1 1 1 1 1 -11 1 1 1 1 1 -11 1 1 1 1 1 -11 1 1 1 1 1 -11 1 1 1 1 1 -11 1 1 1 1 1 -11 1 1 1 1 1 -11 1 1 1 1 1 -11 1 1 1 1 1 -11 1 1 1 1 1 -11 1 1 1 1 1 -11 1 1 1 1 1 -11 1 1 1 1 1 -11 1 1 1 1 1 -11 1 1 1 1 1 -11 1 1 1 1 1 -11 1 1 1 1 1 -11 1 1 1 1 1 -11 1 1 1 1 1 -11 1 1 1 1 1 -11 1 1 1 1 1 -11 1 1 1 1 1 -11 1 1 1 1 1 -11 1 1 1 1 1 -11 1 1 1 1 1 -11 1 1 1 1 1 -11 1 1 1 1 1 -11 1 1 1 1 1 -11 1 1 1 1 1 -11 1 1 1 1 1 -11 1 1 1 1 1 -11 1 1 1 1 1 -11 1 1 1 1 1 -11 1 1 1 1 1 -11 1 1 1 1 1 -11 1 1 1 1 1 -11 1 1 1 1 1 -11 1 1 1 1 1 -11 1 1 1 1 1 -11 1 1 1 1 1 -11 1 1 1 1 1 -11 1 1 1 1 1 -11 1 1 1 1 1 -11 1 1 1 1 1 -11 1 1 1 1 1 -11 1 1 1 1 1 -11 1 1 1 1 1 -11 1 1 1 1 1 -11 1 1 1 1 1 -11 1 1 1 1 1 -11 1 1 1 1 1 -11 1 1 1 1 1 -11 1 1 1 1 1 -11 1 1 1 1 1 -11 1 1 1 1 1 -11 1 1 1 1 1 -11 1 1 1 1 1 -11 1 1 1 1 1 -11 1 1 1 1 1 -11 1 1 1 1 1 -11 1 1 1 1 1 -11 1 1 1 1 1 -11 1 1 1 1 1 -11 1 1 1 1 1 -11 1 1 1 1 1 -11 1 1 1 1 1 -11 1 1 1 1 1 -11 1 1 1 1 1 -11 1 1 1 1 1 -11 1 1 1 1 1 -11 1 1 1 1 1 -11 1 1 1 1 1 -11 1 1 1 1 1 -11 1 1 1 1 1 -11 1 1 1 1 1 -11 1 1 1 1 1 -11 1 1 1 1 1 -11 1 1 1 1 1 -11 1 1 1 1 1 -11 1 1 1 1 1 -11 1 1 1 1 1 -11 1 1 1 1 1 -11 1 1 1 1 1 -11 1 1 1 1 1 -11 1 1 1 1 1 -11 1 1 1 1 1 -11 1 1 1 1 1 -11 1 1 1 1 1 -11 1 1 1 1 1 -11 1 1 1 1 1 -11 1 1 1 1 1 -11 1 1 1 1 1 -11 1 1 1 1 1 -11 1 1 1 1 1 -11 1 1 1 1 1 -11 1 1 1 1 1 -11 1 1 1 1 1 -11 1 1 1 1 1 -11 1 1 1 1 1 -11 1 1 1 1 1 -11 1 1 1 1 1 -11 1 1 1 1 1 -11 1 1 1 1 1 -11 1 1 1 1 1 -11 1 1 1 1 1 -11 1 1 1 1 1 -11 1 1 1 1 1 -11 1 1 1 1 1 -11 1 1 1 1 1 -11 1 1 1 1 1 -11 1 1 1 1 1 -11 1 1 1 1 1 -11 1 1 1 1 1 -11 1 1 1 1 1 -11 1 1 1 1 1 -11 1 1 1 1 1 -11 1 1 1 1 1 -11 1 1 1 1 1 -11 1 1 1 1 1 -11 1 1 1 1 1 -11 1 1 1 1 1 -11 1 1 1 1 1 -11 1 1 1 1 1 -11 1 1 1 1 1 -11 1 1 1 1 1 -11 1 1 1 1 1 -11 1 1 1 1 1 -11 1 1 1 1 1 -11 1 1 1 1 1 -11 1 1 1 1 1 -11 1 1 1 1 1 -11 1 1 1 1 1 -11 1 1 1 1 1 -11 1 1 1 1 1 -11 1 1 1 1 1 -11 1 1 1 1 1 -11 1 1 1 1 1 -11 1 1 1 1 1 -11 1 1 1 1 1 -11 1 1 1 1 1 -11 1 1 1 1 1 -11 1 1 1 1 1 -11 1 1 1 1 1 -11 1 1 1 1 1 -11 1 1 1 1 1 -11 1 1 1 1 1 -11 1 1 1 1 1 -11 1 1 1 1 1 -11 1 1 1 1 1 -11 1 1 1 1 1 -11 1 1 1 1 1 -11 1 1 1 1 1 -11 1 1 1 1 1 -11 1 1 1 1 1 -11 1 1 1 1 1 -11 1 1 1 1 1 -11 1 1 1 1 1 -11 1 1 1 1 1 -11 1 1 1 1 1 -11 1 1 1 1 1 -11 1 1 1 1 1 -11 1 1 1 1 1 -11 1 1 1 1 1 -11 1 1 1 1 1 -11 1 1 1 1 1 -11 1 1 1 1 1 -11 1 1 1 1 1 -11 1 1 1 1 1 -11 1 1 1 1 1 -11 1 1 1 1 1 -11 1 1 1 1 1 -11 1 1 1 1 1 -11 1 1 1 1 1 -11 1 1 1 1 1 -11 1 1 1 1 1 -11 1 1 1 1 1 -11 1 1 1 1 1 -11 1 1 1 1 1 -11 1 1 1 1 1 -11 1 1 1 1 1 -11 1 1 1 1 1 -11 1 1 1 1 1 -11 1 1 1 1 1 -11 1 1 1 1 1 -11 1 1 1 1 1 -11 1 1 1 1 1 -11 1 1 1 1 1 -11 1 1 1 1 1 -11 1 1 1 1 1 -11 1 1 1 1 1 -11 1 1 1 1 1 -11 1 1 1 1 1 -11 1 1 1 1 1 -11 1 1 1 1 1 -11 1 1 1 1 1 -11 1 1 1 1 1 -11 1 1 1 1 1 -11 1 1 1 1 1 -11 1 1 1 1 1 -11 1 1 1 1 1 -11 1 1 1 1 1 -11 1 1 1 1 1 -11 1 1 1 1 1 -11 1 1 1 1 1 -11 1 1 1 1 1 -11 1 1 1 1 1 -11 1 1 1 1 1 -11 1 1 1 1 1 -11 1 1 1 1 1 -11 1 1 1 1 1 -11 1 1 1 1 1 -11 1 1 1 1 1 -11 1 1 1 1 1 -11 1 1 1 1 1 -11 1 1 1 1 1 -11 1 1 1 1 1 -11 1 1 1 1 1 -11 1 1 1 1 1 -11 1 1 1 1 1 -11 1 1 1 1 1 -11 1 1 1 1 1 -11 1 1 1 1 1 -11 1 1 1 1 1 -11 1 1 1 1 1 -11 1 1 1 1 1 -11 1 1 1 1 1 -11 1 1 1 1 1 -11 1 1 1 1 1 -11 1 1 1 1 1 -11 1 1 1 1 1 -11 1 1 1 1 1 -11 1 1 1 1 1 -11 1 1 1 1 1 -11 1 1 1 1 1 -11 1 1 1 1 1 -11 1 1 1 1 1 -11 1 1 1 1 1 -11 1 1 1 1 1 -11 1 1 1 1 1 -11 1 1 1 1 1 -11 1 1 1 1 1 -11 1 1 1 1 1 -11 1 1 1 1 1 -11 1 1 1 1 1 -11 1 1 1 1 1 -11 1 1 1 1 1 -11 1 1 1 1 1 -11 1 1 1 1 1 -11 1 1 1 1 1 -11 1 1 1 1 1 -11 1 1 1 1 1 -11 1 1 1 1 1 -11 1 1 1 1 1 -11 1 1 1 1 1 -11 1 1 1 1 1 -11 1 1 1 1 1 -11 1 1 1 1 1 -11 1 1 1 1 1 -11 1 1 1 1 1 -11 1 1 1 1 1 -11 1 1 1 1 1 -11 1 1 1 1 1 -11 1 1 1 1 1 -11 1 1 1 1 1 -11 1 1 1 1 1 -11 1 1 1 1 1 -11 1 1 1 1 1 -11 1 1 1 1 1 -11 1 1 1 1 1 -11 1 1 1 1 1 -11 1 1 1 1 1 -11 1 1 1 1 1 -11 1 1 1 1 1 -11 1 1 1 1 1 -11 1 1 1 1 1 -11 1 1 1 1 1 -11 1 1 1 1 1 -11 1 1 1 1 1 -11 1 1 1 1 1 -11 1 1 1 1 1 -11 1 1 1 1 1 -11 1 1 1 1 1 -11 1 1 1 1 1 -11 1 1 1 1 1 -11 1 1 1 1 1 -11 1 1 1 1 1 -11 1 1 1 1 1 -11 1 1 1 1 1 -11 1 1 1 1 1 -11 1 1 1 1 1 -11 1 1 1 1 1 -11 1 1 1 1 1 -11 1 1 1 1 1 -11 1 1 1 1 1 -11 1 1 1 1 1 -11 1 1 1 1 1 -11 1 1 1 1 1 -11 1 1 1 1 1 -11 1 1 1 1 1 -11 1 1 1 1 1 -11 1 1 1 1 1 -11 1 1 1 1 1 -11 1 1 1 1 1 -11 1 1 1 1 1 -11 1 1 1 1 1 -11 1 1 1 1 1 -11 1 1 1 1 1 -11 1 1 1 1 1 -11 1 1 1 1 1 -11 1 1 1 1 1 -11 1 1 1 1 1 -11 1 1 1 1 1 -11 1 1 1 1 1 -11 1 1 1 1 1 -11 1 1 1 1 1 -11 1 1 1 1 1 -11 1 1 1 1 1 -11 1 1 1 1 1 -11 1 1 1 1 1 -11 1 1 1 1 1 -11 1 1 1 1 1 -11 1 1 1 1 1 -11 1 1 1 1 1 -11 1 1 1 1 1 -11 1 1 1 1 1 -11 1 1 1 1 1 -11 1 1 1 1 1 -11 1 1 1 1 1 -11 1 1 1 1 1 -11 1 1 1 1 1 -11 1 1 1 1 1 -11 1 1 1 1 1 -11 1 1 1 1 1 -11 1 1 1 1 1 -11 1 1 1 1 1 -11 1 1 1 1 1 -11 1 1 1 1 1 -11 1 1 1 1 1 -11 1 1 1 1 1 -11 1 1 1 1 1 -11 1 1 1 1 1 -11 1 1 1 1 1 -11 1 1 1 1 1 -11 1 1 1 1 1 -11 1 1 1 1 1 -11 1 1 1 1 1 -11 1 1 1 1 1 -11 1 1 1 1 1 -11 1 1 1 1 1 -11 1 1 1 1 1 -11 1 1 1 1 1 -11 1 1 1 1 1 -11 1 1 1 1 1 -11 1 1 1 1 1 -11 1 1 1 1 1 -11 1 1 1 1 1 -11 1 1 1 1 1 -11 1 1 1 1 1 -11 1 1 1 1 1 -11 1 1 1 1 1 -11 1 1 1 1 1 -11 1 1 1 1 1 -11 1 1 1 1 1 -11 1 1 1 1 1 -11 1 1 1 1 1 -11 1 1 1 1 1 -11 1 1 1 1 1 -11 1 1 1 1 1 -11 1 1 1 1 1 -11 1 1 1 1 1 -11 1 1 1 1 1 -11 1 1 1 1 1 -11 1 1 1 1 1 -11 1 1 1 1 1 -11 1 1 1 1 1 -11 1 1 1 1 1 -11 1 1 1 1 1 -11 1 1 1 1 1 -11 1 1 1 1 1 -11 1 1 1 1 1 -11 1 1 1 1 1 -11 1 1 1 1 1 -11 1 1 1 1 1 -11 1 1 1 1 1 -11 1 1 1 1 1 -11 1 1 1 1 1 -11 1 1 1 1 1 -11 1 1 1 1 1 -11 1 1 1 1 1 -11 1 1 1 1 1 -11 1 1 1 1 1 -11 1 1 1 1 1 -11 1 1 1 1 1 -11 1 1 1 1 1 -11 1 1 1 1 1 -11 1 1 1 1 1 -11 1 1 1 1 1 -11 1 1 1 1 1 -11 1 1 1 1 1 -11 1 1 1 1 1 -11 1 1 1 1 1 -11 1 1 1 1 1 -11 1 1 1 1 1 -11 1 1 1 1 1 -11 1 1 1 1 1 -11 1 1 1 1 1 -11 1 1 1 1 1 -11 1 1 1 1 1 -11 1 1 1 1 1 -11 1 1 1 1 1 -11 1 1 1 1 1 -11 1 1 1 1 1 -11 1 1 1 1 1 -11 1 1 1 1 1 -11 1 1 1 1 1 -11 1 1 1 1 1 -11 1 1 1 1 1 -11 1 1 1 1 1 -11 1 1 1 1 1 -11 1 1 1 1 1 -11 1 1 1 1 1 -11 1 1 1 1 1 -11 1 1 1 1 1 -11 1 1 1 1 1 -11 1 1 1 1 1 -11 1 1 1 1 1 -11 1 1 1 1 1 -11 1 1 1 1 1 -11 1 1 1 1 1 -11 1 1 1 1 1 -11 1 1 1 1 1 -11 1 1 1 1 1 -11 1 1 1 1 1 -11 1 1 1 1 1 -11 1 1 1 1 1 -11 1 1 1 1 1 -11 1 1 1 1 1 -11 1 1 1 1 1 -11 1 1 1 1 1 -11 1 1 1 1 1 -11 1 1 1 1 1 -11 1 1 1 1 1 -11 1 1 1 1 1 -11 1 1 1 1 1 -11 1 1 1 1 1 -11 1 1 1 1 1 -11 1 1 1 1 1 -11 1 1 1 1 1 -11 1 1 1 1 1 -11 1 1 1 1 1 -11 1 1 1 1 1 -11 1 1 1 1 1 -11 1 1 1 1 1 -11 1 1 1 1 1 -11 1 1 1 1 1 -11 1 1 1 1 1 -11 1 1 1 1 1 -11 1 1 1 1 1 -11 1 1 1 1 1 -11 1 1 1 1 1 -11 1 1 1 1 1 -11 1 1 1 1 1 -11 1 1 1 1 1 -11 1 1 1 1 1 -11 1 1 1 1 1 -11 1 1 1 1 1 -11 1 1 1 1 1 -11 1 1 1 1 1 -11 1 1 1 1 1 -11 1 1 1 1 1 -11 1 1 1 1 1 -11 1 1 1 1 1 -11 1 1 1 1 1 -11 1 1 1 1 1 -11 1 1 1 1 1 -11 1 1 1 1 1 -11 1 1 1 1 1 -11 1 1 1 1 1 -11 1 1 1 1 1 -11 1 1 1 1 1 -11 1 1 1 1 1 -11 1 1 1 1 1 -11 1 1 1 1 1 -11 1 1 1 1 1 -11 1 1 1 1 1 -11 1 1 1 1 1 -11 1 1 1 1 1 -11 1 1 1 1 1 -11 1 1 1 1 1 -11 1 1 1 1 1 -11 1 1 1 1 1 -11 1 1 1 1 1 -11 1 1 1 1 1 -11 1 1 1 1 1 -11 1 1 1 1 1 -11 1 1 1 1 1 -11 1 1 1 1 1 -11 1 1 1 1 1 -11 1 1 1 1 1 -11 1 1 1 1 1 -11 1 1 1 1 1 -11 1 1 1 1 1 -11 1 1 1 1 1 -11 1 1 1 1 1 -11 1 1 1 1 1 -11 1 1 1 1 1 -11 1 1 1 1 1 -11 1 1 1 1 1 -11 1 1 1 1 1 -11 1 1 1 1 1 -11 1 1 1 1 1 -11 1 1 1 1 1 -11 1 1 1 1 1 -11 1 1 1 1 1 -11 1 1 1 1 1 -11 1 1 1 1 1 -11 1 1 1 1 1 -11 1 1 1 1 1 -11 1 1 1 1 1 -11 1 1 1 1 1 -11 1 1 1 1 1 -11 1 1 1 1 1 -11 1 1 1 1 1 -11 1 1 1 1 1 -11 1 1 1 1 1 -11 1 1 1 1 1 -11 1 1 1 1 1 -11 1 1 1 1 1 -11 1 1 1 1 1 -11 1 1 1 1 1 -11 1 1 1 1 1 -11 1 1 1 1 1 -11 1 1 1 1 1 -11 1 1 1 1 1 -11 1 1 1 1 1 -11 1 1 1 1 1 -11 1 1 1 1 1 -11 1 1 1 1 1 -11 1 1 1 1 1 -11 1 1 1 1 1 -11 1 1 1 1 1 -11 1 1 1 1 1 -11 1 1 1 1 1 -11 1 1 1 1 1 -11 1 1 1 1 1 -11 1 1 1 1 1 -11 1 1 1 1 1 -11 1 1 1 1 1 -11 1 1 1 1 1 -11 1 1 1 1 1 -11 1 1 1 1 1 -11 1 1 1 1 1 -11 1 1 1 1 1 -11 1 1 1 1 1 -11 1 1 1 1 1 -11 1 1 1 1 1 -11 1 1 1 1 1 -11 1 1 1 1 1 -11 1 1 1 1 1 -11 1 1 1 1 1 -11 1 1 1 1 1 -11 1 1 1 1 1 -11 1 1 1 1 1 -11 1 1 1 1 1 -11 1 1 1 1 1 -11 1 1 1 1 1 -11 1 1 1 1 1 -11 1 1 1 1 1 -11 1 1 1 1 1 -11 1 1 1 1 1 -11 1 1 1 1 1 -11 1 1 1 1 1 -11 1 1 1 1 1 -11 1 1 1 1 1 -11 1 1 1 1 1 -11 1 1 1 1 1 -11 1 1 1 1 1 -11 1 1 1 1 1 -11 1 1 1 1 1 -11 1 1 1 1 1 -11 1 1 1 1 1 -11 1 1 1 1 1 -11 1 1 1 1 1 -11 1 1 1 1 1 -11 1 1 1 1 1 -11 1 1 1 1 1 -11 1 1 1 1 1 -11 1 1 1 1 1 -11 1 1 1 1 1 -11 1 1 1 1 1 -11 1 1 1 1 1 -11 1 1 1 1 1 -11 1 1 1 1 1 -11 1 1 1 1 1 -11 1 1 1 1 1 -11 1 1 1 1 1 -11 1 1 1 1 1 -11 1 1 1 1 1 -11 1 1 1 1 1 -11 1 1 1 1 1 -11 1 1 1 1 1 -11 1 1 1 1 1 -11 1 1 1 1 1 -11 1 1 1 1 1 -11 1 1 1 1 1 -11 1 1 1 1 1 -11 1 1 1 1 1 -11 1 1 1 1 1 -11 1 1 1 1 1 -11 1 1 1 1 1 -11 1 1 1 1 1 -11 1 1 1 1 1 -11 1 1 1 1 1 -11 1 1 1 1 1 -11 1 1 1 1 1 -11 1 1 1 1 1 -11 1 1 1 1 1 -11 1 1 1 1 1 -11 1 1 1 1 1 -11 1 1 1 1 1 -11 1 1 1 1 1 -11 1 1 1 1 1 -11 1 1 1 1 1 -11 1 1 1 1 1 -11 1 1 1 1 1 -11 1 1 1 1 1 -11 1 1 1 1 1 -11 1 1 1 1 1 -11 1 1 1 1 1 -11 1 1 1 1 1 -11 1 1 1 1 1 -11 1 1 1 1 1 -11 1 1 1 1 1 -11 1 1 1 1 1 -11 1 1 1 1 1 -11 1 1 1 1 1 -11 1 1 1 1 1 -11 1 1 1 1 1 -11 1 1 1 1 1 -11 1 1 1 1 1 -11 1 1 1 1 1 -11 1 1 1 1 1 -11 1 1 1 1 1 -11 1 1 1 1 1 -11 1 1 1 1 1 -11 1 1 1 1 1 -11 1 1 1 1 1 -11 1 1 1 1 1 -11 1 1 1 1 1 -11 1 1 1 1 1 -11 1 1 1 1 1 -11 1 1 1 1 1 -11 1 1 1 1 1 -11 1 1 1 1 1 -11 1 1 1 1 1 -11 1 1 1 1 1 -11 1 1 1 1 1 -11 1 1 1 1 1 -11 1 1 1 1 1 -11 1 1 1 1 1 -11 1 1 1 1 1 -11 1 1 1 1 1 -11 1 1 1 1 1 -11 1 1 1 1 1 -11 1 1 1 1 1 -11 1 1 1 1 1 -11 1 1 1 1 1 -11 1 1 1 1 1 -11 1 1 1 1 1 -11 1 1 1 1 1 -11 1 1 1 1 1 -11 1 1 1 1 1 -11 1 1 1 1 1 -11 1 1 1 1 1 -11 1 1 1 1 1 -11 1 1 1 1 1 -11 1 1 1 1 1 -11 1 1 1 1 1 -11 1 1 1 1 1 -11 1 1 1 1 1 -11 1 1 1 1 1 -11 1 1 1 1 1 -11 1 1 1 1 1 -11 1 1 1 1 1 -11 1 1 1 1 1 -11 1 1 1 1 1 -11 1 1 1 1 1 -11 1 1 1 1 1 -11 1 1 1 1 1 -11 1 1 1 1 1 -11 1 1 1 1 1 -11 1 1 1 1 1 -11 1 1 1 1 1 -11 1 1 1 1 1 -11 1 1 1 1 1 -11 1 1 1 1 1 -11 1 1 1 1 1 -11 1 1 1 1 1 -11 1 1 1 1 1 -11 1 1 1 1 1 -11 1 1 1 1 1 -11 1 1 1 1 1 -11 1 1 1 1 1 -11 1 1 1 1 1 -11 1 1 1 1 1 -11 1 1 1 1 1 -11 1 1 1 1 1 -11 1 1 1 1 1 -11 1 1 1 1 1 -11 1 1 1 1 1 -11 1 1 1 1 1 -11 1 1 1 1 1 -11 1 1 1 1 1 -11 1 1 1 1 1 -11 1 1 1 1 1 -11 1 1 1 1 1 -11 1 1 1 1 1 -11 1 1 1 1 1 -11 1 1 1 1 1 -11 1 1 1 1 1 -11 1 1 1 1 1 -11 1 1 1 1 1 -11 1 1 1 1 1 -11 1 1 1 1 1 -11 1 1 1 1 1 -11 1 1 1 1 1 -11 1 1 1 1 1 -11 1 1 1 1 1 -11 1 1 1 1 1 -11 1 1 1 1 1 -11 1 1 1 1 1 -11 1 1 1 1 1 -11 1 1 1 1 1 -11 1 1 1 1 1 -11 1 1 1 1 1 -11 1 1 1 1 1 -11 1 1 1 1 1 -11 1 1 1 1 1 -11 1 1 1 1 1 -11 1 1 1 1 1 -11 1 1 1 1 1 -11 1 1 1 1 1 -11 1 1 1 1 1 -11 1 1 1 1 1 -11 1 1 1 1 1 -11 1 1 1 1 1 -11 1 1 1 1 1 -11 1 1 1 1 1 -11 1 1 1 1 1 -11 1 1 1 1 1 -11 1 1 1 1 1 -11 1 1 1 1 1 -11 1 1 1 1 1 -11 1 1 1 1 1 -11 1 1 1 1 1 -11 1 1 1 1 1 -11 1 1 1 1 1 -11 1 1 1 1 1 -11 1 1 1 1 1 -11 1 1 1 1 1 -11 1 1 1 1 1 -11 1 1 1 1 1 -11 1 1 1 1 1 -11 1 1 1 1 1 -11 1 1 1 1 1 -11 1 1 1 1 1 -11 1 1 1 1 1 -11 1 1 1 1 1 -11 1 1 1 1 1 -11 1 1 1 1 1 -11 1 1 1 1 1 -11 1 1 1 1 1 -11 1 1 1 1 1 -11 1 1 1 1 1 -11 1 1 1 1 1 -11 1 1 1 1 1 -11 1 1 1 1 1 -11 1 1 1 1 1 -11 1 1 1 1 1 -11 1 1 1 1 1 -11 1 1 1 1 1 -11 1 1 1 1 1 -11 1 1 1 1 1 -11 1 1 1 1 1 -11 1 1 1 1 1 -11 1 1 1 1 1 -11 1 1 1 1 1 -11 1 1 1 1 1 -11 1 1 1 1 1 -11 1 1 1 1 1 -11 1 1 1 1 1 -11 1 1 1 1 1 -11 1 1 1 1 1 -11 1 1 1 1 1 -11 1 1 1 1 1 -11 1 1 1 1 1 -11 1 1 1 1 1 -11 1 1 1 1 1 -11 1 1 1 1 1 -11 1 1 1 1 1 -11 1 1 1 1 1 -11 1 1 1 1 1 -11 1 1 1 1 1 -11 1 1 1 1 1 -11 1 1 1 1 1 -11 1 1 1 1 1 -11 1 1 1 1 1 -11 1 1 1 1 1 -11 1 1 1 1 1 -11 1 1 1 1 1 -11 1 1 1 1 1 -11 1 1 1 1 1 -11 1 1 1 1 1 -11 1 1 1 1 1 -11 1 1 1 1 1 -11 1 1 1 1 1 -11 1 1 1 1 1 -11 1 1 1 1 1 -11 1 1 1 1 1 -11 1 1 1 1 1 -11 1 1 1 1 1 -11 1 1 1 1 1 -11 1 1 1 1 1 -11 1 1 1 1 1 -11 1 1 1 1 1 -11 1 1 1 1 1 -11 1 1 1 1 1 -11 1 1 1 1 1 -11 1 1 1 1 1 -11 1 1 1 1 1 -11 1 1 1 1 1 -11 1 1 1 1 1 -11 1 1 1 1 1 -11 1 1 1 1 1 -11 1 1 1 1 1 -11 1 1 1 1 1 -11 1 1 1 1 1 -11 1 1 1 1 1 -11 1 1 1 1 1 -11 1 1 1 1 1 -11 1 1 1 1 1 -11 1 1 1 1 1 -11 1 1 1 1 1 -11 1 1 1 1 1 -11 1 1 1 1 1 -11 1 1 1 1 1 -11 1 1 1 1 1 -11 1 1 1 1 1 -11 1 1 1 1 1 -11 1 1 1 1 1 -11 1 1 1 1 1 -11 1 1 1 1 1 -11 1 1 1 1 1 -11 1 1 1 1 1 -11 1 1 1 1 1 -11 1 1 1 1 1 -11 1 1 1 1 1 -11 1 1 1 1 1 -11 1 1 1 1 1 -11 1 1 1 1 1 -11 1 1 1 1 1 -11 1 1 1 1 1 -11 1 1 1 1 1 -11 1 1 1 1 1 -11 1 1 1 1 1 -11 1 1 1 1 1 -11 1 1 1 1 1 -11 1 1 1 1 1 -11 1 1 1 1 1 -11 1 1 1 1 1 -11 1 1 1 1 1 -11 1 1 1 1 1 -11 1 1 1 1 1 -11 1 1 1 1 1 -11 1 1 1 1 1 -11 1 1 1 1 1 -11 1 1 1 1 1 -11 1 1 1 1 1 -11 1 1 1 1 1 -11 1 1 1 1 1 -11 1 1 1 1 1 -11 1 1 1 1 1 -11 1 1 1 1 1 -11 1 1 1 1 1 -11 1 1 1 1 1 -11 1 1 1 1 1 -11 1 1 1 1 1 -11 1 1 1 1 1 -11 1 1 1 1 1 -11 1 1 1 1 1 -11 1 1 1 1 1 -11 1 1 1 1 1 -11 1 1 1 1 1 -11 1 1 1 1 1 -11 1 1 1 1 1 -11 1 1 1 1 1 -11 1 1 1 1 1 -11 1 1 1 1 1 -11 1 1 1 1 1 -11 1 1 1 1 1 -11 1 1 1 1 1 -11 1 1 1 1 1 -11 1 1 1 1 1 -11 1 1 1 1 1 -11 1 1 1 1 1 -11 1 1 1 1 1 -11 1 1 1 1 1 -11 1 1 1 1 1 -11 1 1 1 1 1 -11 1 1 1 1 1 -11 1 1 1 1 1 -11 1 1 1 1 1 -11 1 1 1 1 1 -11 1 1 1 1 1 -11 1 1 1 1 1 -11 1 1 1 1 1 -11 1 1 1 1 1 -11 1 1 1 1 1 -11 1 1 1 1 1 -11 1 1 1 1 1 -11 1 1 1 1 1 -11 1 1 1 1 1 -11 1 1 1 1 1 -11 1 1 1 1 1 -11 1 1 1 1 1 -11 1 1 1 1 1 -11 1 1 1 1 1 -11 1 1 1 1 1 -11 1 1 1 1 1 -11 1 1 1 1 1 -11 1 1 1 1 1 -11 1 1 1 1 1 -11 1 1 1 1 1 -11 1 1 1 1 1 -11 1 1 1 1 1 -11 1 1 1 1 1 -11 1 1 1 1 1 -11 1 1 1 1 1 -11 1 1 1 1 1 -11 1 1 1 1 1 -11 1 1 1 1 1 -11 1 1 1 1 1 -11 1 1 1 1 1 -11 1 1 1 1 1 -11 1 1 1 1 1 -11 1 1 1 1 1 -11 1 1 1 1 1 -11 1 1 1 1 1 -11 1 1 1 1 1 -11 1 1 1 1 1 -11 1 1 1 1 1 -11 1 1 1 1 1 -11 1 1 1 1 1 -11 1 1 1 1 1 -11 1 1 1 1 1 -11 1 1 1 1 1 -11 1 1 1 1 1 -11 1 1 1 1 1 -11 1 1 1 1 1 -11 1 1 1 1 1 -11 1 1 1 1 1 -11 1 1 1 1 1 -11 1 1 1 1 1 -11 1 1 1 1 1 -11 1 1 1 1 1 -11 1 1 1 1 1 -11 1 1 1 1 1 -11 1 1 1 1 1 -11 1 1 1 1 1 -11 1 1 1 1 1 -11 1 1 1 1 1 -11 1 1 1 1 1 -11 1 1 1 1 1 -11 1 1 1 1 1 -11 1 1 1 1 1 -11 1 1 1 1 1 -11 1 1 1 1 1 -11 1 1 1 1 1 -11 1 1 1 1 1 -11 1 1 1 1 1 -11 1 1 1 1 1 -11 1 1 1 1 1 -11 1 1 1 1 1 -11 1 1 1 1 1 -11 1 1 1 1 1 -11 1 1 1 1 1 -11 1 1 1 1 1 -11 1 1 1 1 1 -11 1 1 1 1 1 -11 1 1 1 1 1 -11 1 1 1 1 1 -11 1 1 1 1 1 -11 1 1 1 1 1 -11 1 1 1 1 1 -11 1 1 1 1 1 -11 1 1 1 1 1 -11 1 1 1 1 1 -11 1 1 1 1 1 -11 1 1 1 1 1 -11 1 1 1 1 1 -11 1 1 1 1 1 -11 1 1 1 1 1 -11 1 1 1 1 1 -11 1 1 1 1 1 -11 1 1 1 1 1 -11 1 1 1 1 1 -11 1 1 1 1 1 -11 1 1 1 1 1 -11 1 1 1 1 1 -11 1 1 1 1 1 -11 1 1 1 1 1 -11 1 1 1 1 1 -11 1 1 1 1 1 -11 1 1 1 1 1 -11 1 1 1 1 1 -11 1 1 1 1 1 -11 1 1 1 1 1 -11 1 1 1 1 1 -11 1 1 1 1 1 -11 1 1 1 1 1 -11 1 1 1 1 1 -11 1 1 1 1 1 -11 1 1 1 1 1 -11 1 1 1 1 1 -11 1 1 1 1 1 -11 1 1 1 1 1 -11 1 1 1 1 1 -11 1 1 1 1 1 -11 1 1 1 1 1 -11 1 1 1 1 1 -11 1 1 1 1 1 -11 1 1 1 1 1 -11 1 1 1 1 1 -11 1 1 1 1 1 -11 1 1 1 1 1 -11 1 1 1 1 1 -11 1 1 1 1 1 -11 1 1 1 1 1 -11 1 1 1 1 1 -11 1 1 1 1 1 -11 1 1 1 1 1 -11 1 1 1 1 1 -11 1 1 1 1 1 -11 1 1 1 1 1 -11 1 1 1 1 1 -11 1 1 1 1 1 -11 1 1 1 1 1 -11 1 1 1 1 1 -11 1 1 1 1 1 -11 1 1 1 1 1 -11 1 1 1 1 1 -11 1 1 1 1 1 -11 1 1 1 1 1 -11 1 1 1 1 1 -11 1 1 1 1 1 -11 1 1 1 1 1 -11 1 1 1 1 1 -11 1 1 1 1 1 -11 1 1 1 1 1 -11 1 1 1 1 1 -11 1 1 1 1 1 -11 1 1 1 1 1 -11 1 1 1 1 1 -11 1 1 1 1 1 -11 1 1 1 1 1 -11 1 1 1 1 1 -11 1 1 1 1 1 -11 1 1 1 1 1 -11 1 1 1 1 1 -11 1 1 1 1 1 -11 1 1 1 1 1 -11 1 1 1 1 1 -11 1 1 1 1 1 -11 1 1 1 1 1 -11 1 1 1 1 1 -11 1 1 1 1 1 -11 1 1 1 1 1 -11 1 1 1 1 1 -11 1 1 1 1 1 -11 1 1 1 1 1 -11 1 1 1 1 1 -11 1 1 1 1 1 -11 1 1 1 1 1 -11 1 1 1 1 1 -11 1 1 1 1 1 -11 1 1 1 1 1 -11 1 1 1 1 1 -11 1 1 1 1 1 -11 1 1 1 1 1 -11 1 1 1 1 1 -11 1 1 1 1 1 -11 1 1 1 1 1 -11 1 1 1 1 1 -11 1 1 1 1 1 -11 1 1 1 1 1 -11 1 1 1 1 1 -11 1 1 1 1 1 -11 1 1 1 1 1 -11 1 1 1 1 1 -11 1 1 1 1 1 -11 1 1 1 1 1 -11 1 1 1 1 1 -11 1 1 1 1 1 -11 1 1 1 1 1 -11 1 1 1 1 1 -11 1 1 1 1 1 -11 1 1 1 1 1 -11 1 1 1 1 1 -11 1 1 1 1 1 -11 1 1 1 1 1 -11 1 1 1 1 1 -11 1 1 1 1 1 -11 1 1 1 1 1 -11 1 1 1 1 1 -11 1 1 1 1 1 -11 1 1 1 1 1 -11 1 1 1 1 1 -11 1 1 1 1 1 -11 1 1 1 1 1 -11 1 1 1 1 1 -11 1 1 1 1 1 -11 1 1 1 1 1 -11 1 1 1 1 1 -11 1 1 1 1 1 -11 1 1 1 1 1 -11 1 1 1 1 1 -11 1 1 1 1 1 -11 1 1 1 1 1 -11 1 1 1 1 1 -11 1 1 1 1 1 -11 1 1 1 1 1 -11 1 1 1 1 1 -11 1 1 1 1 1 -11 1 1 1 1 1 -11 1 1 1 1 1 -11 1 1 1 1 1 -11 1 1 1 1 1 -11 1 1 1 1 1 -11 1 1 1 1 1 -11 1 1 1 1 1 -11 1 1 1 1 1 -11 1 1 1 1 1 -11 1 1 1 1 1 -11 1 1 1 1 1 -11 1 1 1 1 1 -11 1 1 1 1 1 -11 1 1 1 1 1 -11 1 1 1 1 1 -11 1 1 1 1 1 -11 1 1 1 1 1 -11 1 1 1 1 1 -11 1 1 1 1 1 -11 1 1 1 1 1 -11 1 1 1 1 1 -11 1 1 1 1 1 -11 1 1 1 1 1 -11 1 1 1 1 1 -11 1 1 1 1 1 -11 1 1 1 1 1 -11 1 1 1 1 1 -11 1 1 1 1 1 -11 1 1 1 1 1 -11 1 1 1 1 1 -11 1 1 1 1 1 -11 1 1 1 1 1 -11 1 1 1 1 1 -11 1 1 1 1 1 -11 1 1 1 1 1 -11 1 1 1 1 1 -11 1 1 1 1 1 -11 1 1 1 1 1 -11 1 1 1 1 1 -11 1 1 1 1 1 -11 1 1 1 1 1 -11 1 1 1 1 1 -11 1 1 1 1 1 -11 1 1 1 1 1 -11 1 1 1 1 1 -11 1 1 1 1 1 -11 1 1 1 1 1 -11 1 1 1 1 1 -11 1 1 1 1 1 -11 1 1 1 1 1 -11 1 1 1 1 1 -11 1 1 1 1 1 -11 1 1 1 1 1 -11 1 1 1 1 1 -11 1 1 1 1 1 -11 1 1 1 1 1 -11 1 1 1 1 1 -11 1 1 1 1 1 -11 1 1 1 1 1 -11 1 1 1 1 1 -11 1 1 1 1 1 -11 1 1 1 1 1 -11 1 1 1 1 1 -11 1 1 1 1 1 -11 1 1 1 1 1 -11 1 1 1 1 1 -11 1 1 1 1 1 -11 1 1 1 1 1 -11 1 1 1 1 1 -11 1 1 1 1 1 -11 1 1 1 1 1 -11 1 1 1 1 1 -11 1 1 1 1 1 -11 1 1 1 1 1 -11 1 1 1 1 1 -11 1 1 1 1 1 -11 1 1 1 1 1 -11 1 1 1 1 1 -11 1 1 1 1 1 -11 1 1 1 1 1 -11 1 1 1 1 1 -11 1 1 1 1 1 -11 1 1 1 1 1 -11 1 1 1 1 1 -11 1 1 1 1 1 -11 1 1 1 1 1 -11 1 1 1 1 1 -11 1 1 1 1 1 -11 1 1 1 1 1 -11 1 1 1 1 1 -11 1 1 1 1 1 -11 1 1 1 1 1 -11 1 1 1 1 1 -11 1 1 1 1 1 -11 1 1 1 1 1 -11 1 1 1 1 1 -11 1 1 1 1 1 -11 1 1 1 1 1 -11 1 1 1 1 1 -11 1 1 1 1 1 -11 1 1 1 1 1 -11 1 1 1 1 1 -11 1 1 1 1 1 -11 1 1 1 1 1 -11 1 1 1 1 1 -11 1 1 1 1 1 -11 1 1 1 1 1 -11 1 1 1 1 1 -11 1 1 1 1 1 -11 1 1 1 1 1 -11 1 1 1 1 1 -11 1 1 1 1 1 -11 1 1 1 1 1 -11 1 1 1 1 1 -11 1 1 1 1 1 -11 1 1 1 1 1 -11 1 1 1 1 1 -11 1 1 1 1 1 -11 1 1 1 1 1 -11 1 1 1 1 1 -11 1 1 1 1 1 -11 1 1 1 1 1 -11 1 1 1 1 1 -11 1 1 1 1 1 -11 1 1 1 1 1 -11 1 1 1 1 1 -11 1 1 1 1 1 -11 1 1 1 1 1 -11 1 1 1 1 1 -11 1 1 1 1 1 -11 1 1 1 1 1 -11 1 1 1 1 1 -11 1 1 1 1 1 -11 1 1 1 1 1 -11 1 1 1 1 1 -11 1 1 1 1 1 -11 1 1 1 1 1 -11 1 1 1 1 1 -11 1 1 1 1 1 -11 1 1 1 1 1 -11 1 1 1 1 1 -11 1 1 1 1 1 -11 1 1 1 1 1 -11 1 1 1 1 1 -11 1 1 1 1 1 -11 1 1 1 1 1 -11 1 1 1 1 1 -11 1 1 1 1 1 -11 1 1 1 1 1 -11 1 1 1 1 1 -11 1 1 1 1 1 -11 1 1 1 1 1 -11 1 1 1 1 1 -11 1 1 1 1 1 -11 1 1 1 1 1 -11 1 1 1 1 1 -11 1 1 1 1 1 -11 1 1 1 1 1 -11 1 1 1 1 1 -11 1 1 1 1 1 -11 1 1 1 1 1 -11 1 1 1 1 1 -11 1 1 1 1 1 -11 1 1 1 1 1 -11 1 1 1 1 1 -11 1 1 1 1 1 -11 1 1 1 1 1 -11 1 1 1 1 1 -11 1 1 1 1 1 -11 1 1 1 1 1 -11 1 1 1 1 1 -11 1 1 1 1 1 -11 1 1 1 1 1 -11 1 1 1 1 1 -11 1 1 1 1 1 -11 1 1 1 1 1 -11 1 1 1 1 1 -11 1 1 1 1 1 -11 1 1 1 1 1 -11 1 1 1 1 1 -11 1 1 1 1 1 -11 1 1 1 1 1 -11 1 1 1 1 1 -11 1 1 1 1 1 -11 1 1 1 1 1 -11 1 1 1 1 1 -11 1 1 1 1 1 -11 1 1 1 1 1 -11 1 1 1 1 1 -11 1 1 1 1 1 -11 1 1 1 1 1 -11 1 1 1 1 1 -11 1 1 1 1 1 -11 1 1 1 1 1 -11 1 1 1 1 1 -11 1 1 1 1 1 -11 1 1 1 1 1 -11 1 1 1 1 1 -11 1 1 1 1 1 -11 1 1 1 1 1 -11 1 1 1 1 1 -11 1 1 1 1 1 -11 1 1 1 1 1 -11 1 1 1 1 1 -11 1 1 1 1 1 -11 1 1 1 1 1 -11 1 1 1 1 1 -11 1 1 1 1 1 -11 1 1 1 1 1 -11 1 1 1 1 1 -11 1 1 1 1 1 -11 1 1 1 1 1 -11 1 1 1 1 1 -11 1 1 1 1 1 -11 1 1 1 1 1 -11 1 1 1 1 1 -11 1 1 1 1 1 -11 1 1 1 1 1 -11 1 1 1 1 1 -11 1 1 1 1 1 -11 1 1 1 1 1 -11 1 1 1 1 1 -11 1 1 1 1 1 -11 1 1 1 1 1 -11 1 1 1 1 1 -11 1 1 1 1 1 -11 1 1 1 1 1 -11 1 1 1 1 1 -11 1 1 1 1 1 -11 1 1 1 1 1 -11 1 1 1 1 1 -11 1 1 1 1 1 -11 1 1 1 1 1 -11 1 1 1 1 1 -11 1 1 1 1 1 -11 1 1 1 1 1 -11 1 1 1 1 1 -11 1 1 1 1 1 -11 1 1 1 1 1 -11 1 1 1 1 1 -11 1 1 1 1 1 -11 1 1 1 1 1 -11 1 1 1 1 1 -11 1 1 1 1 1 -11 1 1 1 1 1 -11 1 1 1 1 1 -11 1 1 1 1 1 -11 1 1 1 1 1 -11 1 1 1 1 1 -11 1 1 1 1 1 -11 1 1 1 1 1 -11 1 1 1 1 1 -11 1 1 1 1 1 -11 1 1 1 1 1 -11 1 1 1 1 1 -11 1 1 1 1 1 -11 1 1 1 1 1 -11 1 1 1 1 1 -11 1 1 1 1 1 -11 1 1 1 1 1 -11 1 1 1 1 1 -11 1 1 1 1 1 -11 1 1 1 1 1 -11 1 1 1 1 1 -11 1 1 1 1 1 -11 1 1 1 1 1 -11 1 1 1 1 1 -11 1 1 1 1 1 -11 1 1 1 1 1 -11 1 1 1 1 1 -11 1 1 1 1 1 -11 1 1 1 1 1 -11 1 1 1 1 1 -11 1 1 1 1 1 -11 1 1 1 1 1 -11 1 1 1 1 1 -11 1 1 1 1 1 -11 1 1 1 1 1 -11 1 1 1 1 1 -11 1 1 1 1 1 -11 1 1 1 1 1 -11 1 1 1 1 1 -11 1 1 1 1 1 -11 1 1 1 1 1 -11 1 1 1 1 1 -11 1 1 1 1 1 -11 1 1 1 1 1 -11 1 1 1 1 1 -11 1 1 1 1 1 -11 1 1 1 1 1 -11 1 1 1 1 1 -11 1 1 1 1 1 -11 1 1 1 1 1 -11 1 1 1 1 1 -11 1 1 1 1 1 -11 1 1 1 1 1 -11 1 1 1 1 1 -11 1 1 1 1 1 -11 1 1 1 1 1 -11 1 1 1 1 1 -11 1 1 1 1 1 -11 1 1 1 1 1 -11 1 1 1 1 1 -11 1 1 1 1 1 -11 1 1 1 1 1 -11 1 1 1 1 1 -11 1 1 1 1 1 -11 1 1 1 1 1 -11 1 1 1 1 1 -11 1 1 1 1 1 -11 1 1 1 1 1 -11 1 1 1 1 1 -11 1 1 1 1 1 -11 1 1 1 1 1 -11 1 1 1 1 1 -11 1 1 1 1 1 -11 1 1 1 1 1 -11 1 1 1 1 1 -11 1 1 1 1 1 -11 1 1 1 1 1 -11 1 1 1 1 1 -11 1 1 1 1 1 -11 1 1 1 1 1 -11 1 1 1 1 1 -11 1 1 1 1 1 -11 1 1 1 1 1 -11 1 1 1 1 1 -11 1 1 1 1 1 -11 1 1 1 1 1 -11 1 1 1 1 1 -11 1 1 1 1 1 -11 1 1 1 1 1 -11 1 1 1 1 1 -11 1 1 1 1 1 -11 1 1 1 1 1 -11 1 1 1 1 1 -11 1 1 1 1 1 -11 1 1 1 1 1 -11 1 1 1 1 1 -11 1 1 1 1 1 -11 1 1 1 1 1 -11 1 1 1 1 1 -11 1 1 1 1 1 -11 1 1 1 1 1 -11 1 1 1 1 1 -11 1 1 1 1 1 -11 1 1 1 1 1 -11 1 1 1 1 1 -11 1 1 1 1 1 -11 1 1 1 1 1 -11 1 1 1 1 1 -11 1 1 1 1 1 -11 1 1 1 1 1 -11 1 1 1 1 1 -11 1 1 1 1 1 -11 1 1 1 1 1 -11 1 1 1 1 1 -11 1 1 1 1 1 -11 1 1 1 1 1 -11 1 1 1 1 1 -11 1 1 1 1 1 -11 1 1 1 1 1 -11 1 1 1 1 1 -11 1 1 1 1 1 -11 1 1 1 1 1 -11 1 1 1 1 1 -11 1 1 1 1 1 -11 1 1 1 1 1 -11 1 1 1 1 1 -11 1 1 1 1 1 -11 1 1 1 1 1 -11 1 1 1 1 1 -11 1 1 1 1 1 -11 1 1 1 1 1 -11 1 1 1 1 1 -11 1 1 1 1 1 -11 1 1 1 1 1 -11 1 1 1 1 1 -11 1 1 1 1 1 -11 1 1 1 1 1 -11 1 1 1 1 1 -11 1 1 1 1 1 -11 1 1 1 1 1 -11 1 1 1 1 1 -11 1 1 1 1 1 -11 1 1 1 1 1 -11 1 1 1 1 1 -11 1 1 1 1 1 -11 1 1 1 1 1 -11 1 1 1 1 1 -11 1 1 1 1 1 -11 1 1 1 1 1 -11 1 1 1 1 1 -11 1 1 1 1 1 -11 1 1 1 1 1 -11 1 1 1 1 1 -11 1 1 1 1 1 -11 1 1 1 1 1 -11 1 1 1 1 1 -11 1 1 1 1 1 -11 1 1 1 1 1 -11 1 1 1 1 1 -11 1 1 1 1 1 -11 1 1 1 1 1 -11 1 1 1 1 1 -11 1 1 1 1 1 -11 1 1 1 1 1 -11 1 1 1 1 1 -11 1 1 1 1 1 -11 1 1 1 1 1 -11 1 1 1 1 1 -11 1 1 1 1 1 -11 1 1 1 1 1 -11 1 1 1 1 1 -11 1 1 1 1 1 -11 1 1 1 1 1 -11 1 1 1 1 1 -11 1 1 1 1 1 -11 1 1 1 1 1 -11 1 1 1 1 1 -11 1 1 1 1 1 -11 1 1 1 1 1 -11 1 1 1 1 1 -11 1 1 1 1 1 -11 1 1 1 1 1 -11 1 1 1 1 1 -11 1 1 1 1 1 -11 1 1 1 1 1 -11 1 1 1 1 1 -11 1 1 1 1 1 -11 1 1 1 1 1 -11 1 1 1 1 1 -11 1 1 1 1 1 -11 1 1 1 1 1 -11 1 1 1 1 1 -11 1 1 1 1 1 -11 1 1 1 1 1 -11 1 1 1 1 1 -11 1 1 1 1 1 -11 1 1 1 1 1 -11 1 1 1 1 1 -11 1 1 1 1 1 -11 1 1 1 1 1 -11 1 1 1 1 1 -11 1 1 1 1 1 -11 1 1 1 1 1 -11 1 1 1 1 1 -11 1 1 1 1 1 -11 1 1 1 1 1 -11 1 1 1 1 1 -11 1 1 1 1 1 -11 1 1 1 1 1 -11 1 1 1 1 1 -11 1 1 1 1 1 -11 1 1 1 1 1 -11 1 1 1 1 1 -11 1 1 1 1 1 -11 1 1 1 1 1 -11 1 1 1 1 1 -11 1 1 1 1 1 -11 1 1 1 1 1 -11 1 1 1 1 1 -11 1 1 1 1 1 -11 1 1 1 1 1 -11 1 1 1 1 1 -11 1 1 1 1 1 -11 1 1 1 1 1 -11 1 1 1 1 1 -11 1 1 1 1 1 -11 1 1 1 1 1 -11 1 1 1 1 1 -11 1 1 1 1 1 -11 1 1 1 1 1 -11 1 1 1 1 1 -11 1 1 1 1 1 -11 1 1 1 1 1 -11 1 1 1 1 1 -11 1 1 1 1 1 -11 1 1 1 1 1 -11 1 1 1 1 1 -11 1 1 1 1 1 -11 1 1 1 1 1 -11 1 1 1 1 1 -11 1 1 1 1 1 -11 1 1 1 1 1 -11 1 1 1 1 1 -11 1 1 1 1 1 -11 1 1 1 1 1 -11 1 1 1 1 1 -11 1 1 1 1 1 -11 1 1 1 1 1 -11 1 1 1 1 1 -11 1 1 1 1 1 -11 1 1 1 1 1 -11 1 1 1 1 1 -11 1 1 1 1 1 -11 1 1 1 1 1 -11 1 1 1 1 1 -11 1 1 1 1 1 -11 1 1 1 1 1 -11 1 1 1 1 1 -11 1 1 1 1 1 -11 1 1 1 1 1 -11 1 1 1 1 1 -11 1 1 1 1 1 -11 1 1 1 1 1 -11 1 1 1 1 1 -11 1 1 1 1 1 -11 1 1 1 1 1 -11 1 1 1 1 1 -11 1 1 1 1 1 -11 1 1 1 1 1 -11 1 1 1 1 1 -11 1 1 1 1 1 -11 1 1 1 1 1 -11 1 1 1 1 1 -11 1 1 1 1 1 -11 1 1 1 1 1 -11 1 1 1 1 1 -11 1 1 1 1 1 -11 1 1 1 1 1 -11 1 1 1 1 1 -11 1 1 1 1 1 -11 1 1 1 1 1 -11 1 1 1 1 1 -11 1 1 1 1 1 -11 1 1 1 1 1 -11 1 1 1 1 1 -11 1 1 1 1 1 -11 1 1 1 1 1 -11 1 1 1 1 1 -11 1 1 1 1 1 -11 1 1 1 1 1 -11 1 1 1 1 1 -11 1 1 1 1 1 -11 1 1 1 1 1 -11 1 1 1 1 1 -11 1 1 1 1 1 -11 1 1 1 1 1 -11 1 1 1 1 1 -11 1 1 1 1 1 -11 1 1 1 1 1 -11 1 1 1 1 1 -11 1 1 1 1 1 -11 1 1 1 1 1 -11 1 1 1 1 1 -11 1 1 1 1 1 -11 1 1 1 1 1 -11 1 1 1 1 1 -11 1 1 1 1 1 -11 1 1 1 1 1 -11 1 1 1 1 1 -11 1 1 1 1 1 -11 1 1 1 1 1 -11 1 1 1 1 1 -11 1 1 1 1 1 -11 1 1 1 1 1 -11 1 1 1 1 1 -11 1 1 1 1 1 -11 1 1 1 1 1 -11 1 1 1 1 1 -11 1 1 1 1 1 -11 1 1 1 1 1 -11 1 1 1 1 1 -11 1 1 1 1 1 -11 1 1 1 1 1 -11 1 1 1 1 1 -11 1 1 1 1 1 -11 1 1 1 1 1 -11 1 1 1 1 1 -11 1 1 1 1 1 -11 1 1 1 1 1 -11 1 1 1 1 1 -11 1 1 1 1 1 -11 1 1 1 1 1 -11 1 1 1 1 1 -11 1 1 1 1 1 -11 1 1 1 1 1 -11 1 1 1 1 1 -11 1 1 1 1 1 -11 1 1 1 1 1 -11 1 1 1 1 1 -11 1 1 1 1 1 -11 1 1 1 1 1 -11 1 1 1 1 1 -11 1 1 1 1 1 -11 1 1 1 1 1 -11 1 1 1 1 1 -11 1 1 1 1 1 -11 1 1 1 1 1 -11 1 1 1 1 1 -11 1 1 1 1 1 -11 1 1 1 1 1 -11 1 1 1 1 1 -11 1 1 1 1 1 -11 1 1 1 1 1 -11 1 1 1 1 1 -11 1 1 1 1 1 -11 1 1 1 1 1 -11 1 1 1 1 1 -11 1 1 1 1 1 -11 1 1 1 1 1 -11 1 1 1 1 1 -11 1 1 1 1 1 -11 1 1 1 1 1 -11 1 1 1 1 1 -11 1 1 1 1 1 -11 1 1 1 1 1 -11 1 1 1 1 1 -11 1 1 1 1 1 -11 1 1 1 1 1 -11 1 1 1 1 1 -11 1 1 1 1 1 -11 1 1 1 1 1 -11 1 1 1 1 1 -11 1 1 1 1 1 -11 1 1 1 1 1 -11 1 1 1 1 1 -11 1 1 1 1 1 -11 1 1 1 1 1 -11 1 1 1 1 1 -11 1 1 1 1 1 -11 1 1 1 1 1 -11 1 1 1 1 1 -11 1 1 1 1 1 -11 1 1 1 1 1 -11 1 1 1 1 1 -11 1 1 1 1 1 -11 1 1 1 1 1 -11 1 1 1 1 1 -11 1 1 1 1 1 -11 1 1 1 1 1 -11 1 1 1 1 1 -11 1 1 1 1 1 -11 1 1 1 1 1 -11 1 1 1 1 1 -11 1 1 1 1 1 -11 1 1 1 1 1 -11 1 1 1 1 1 -11 1 1 1 1 1 -11 1 1 1 1 1 -11 1 1 1 1 1 -11 1 1 1 1 1 -11 1 1 1 1 1 -11 1 1 1 1 1 -11 1 1 1 1 1 -11 1 1 1 1 1 -11 1 1 1 1 1 -11 1 1 1 1 1 -11 1 1 1 1 1 -11 1 1 1 1 1 -11 1 1 1 1 1 -11 1 1 1 1 1 -11 1 1 1 1 1 -11 1 1 1 1 1 -11 1 1 1 1 1 -11 1 1 1 1 1 -11 1 1 1 1 1 -11 1 1 1 1 1 -11 1 1 1 1 1 -11 1 1 1 1 1 -11 1 1 1 1 1 -11 1 1 1 1 1 -11 1 1 1 1 1 -11 1 1 1 1 1 -11 1 1 1 1 1 -11 1 1 1 1 1 -11 1 1 1 1 1 -11 1 1 1 1 1 -11 1 1 1 1 1 -11 1 1 1 1 1 -11 1 1 1 1 1 -11 1 1 1 1 1 -11 1 1 1 1 1 -11 1 1 1 1 1 -11 1 1 1 1 1 -11 1 1 1 1 1 -11 1 1 1 1 1 -11 1 1 1 1 1 -11 1 1 1 1 1 -11 1 1 1 1 1 -11 1 1 1 1 1 -11 1 1 1 1 1 -11 1 1 1 1 1 -11 1 1 1 1 1 -11 1 1 1 1 1 -11 1 1 1 1 1 -11 1 1 1 1 1 -11 1 1 1 1 1 -11 1 1 1 1 1 -11 1 1 1 1 1 -11 1 1 1 1 1 -11 1 1 1 1 1 -11 1 1 1 1 1 -11 1 1 1 1 1 -11 1 1 1 1 1 -11 1 1 1 1 1 -11 1 1 1 1 1 -11 1 1 1 1 1 -11 1 1 1 1 1 -11 1 1 1 1 1 -11 1 1 1 1 1 -11 1 1 1 1 1 -11 1 1 1 1 1 -11 1 1 1 1 1 -11 1 1 1 1 1 -11 1 1 1 1 1 -11 1 1 1 1 1 -11 1 1 1 1 1 -11 1 1 1 1 1 -11 1 1 1 1 1 -11 1 1 1 1 1 -11 1 1 1 1 1 -11 1 1 1 1 1 -11 1 1 1 1 1 -11 1 1 1 1 1 -11 1 1 1 1 1 -11 1 1 1 1 1 -11 1 1 1 1 1 -11 1 1 1 1 1 -11 1 1 1 1 1 -11 1 1 1 1 1 -11 1 1 1 1 1 -11 1 1 1 1 1 -11 1 1 1 1 1 -11 1 1 1 1 1 -11 1 1 1 1 1 -11 1 1 1 1 1 -11 1 1 1 1 1 -11 1 1 1 1 1 -11 1 1 1 1 1 -11 1 1 1 1 1 -11 1 1 1 1 1 -11 1 1 1 1 1 -11 1 1 1 1 1 -11 1 1 1 1 1 -11 1 1 1 1 1 -11 1 1 1 1 1 -11 1 1 1 1 1 -11 1 1 1 1 1 -11 1 1 1 1 1 -11 1 1 1 1 1 -11 1 1 1 1 1 -11 1 1 1 1 1 -11 1 1 1 1 1 -11 1 1 1 1 1 -11 1 1 1 1 1 -11 1 1 1 1 1 -11 1 1 1 1 1 -11 1 1 1 1 1 -11 1 1 1 1 1 -11 1 1 1 1 1 -11 1 1 1 1 1 -11 1 1 1 1 1 -11 1 1 1 1 1 -11 1 1 1 1 1 -11 1 1 1 1 1 -11 1 1 1 1 1 -11 1 1 1 1 1 -11 1 1 1 1 1 -11 1 1 1 1 1 -11 1 1 1 1 1 -11 1 1 1 1 1 -11 1 1 1 1 1 -11 1 1 1 1 1 -11 1 1 1 1 1 -11 1 1 1 1 1 -11 1 1 1 1 1 -11 1 1 1 1 1 -11 1 1 1 1 1 -11 1 1 1 1 1 -11 1 1 1 1 1 -11 1 1 1 1 1 -11 1 1 1 1 1 -11 1 1 1 1 1 -11 1 1 1 1 1 -11 1 1 1 1 1 -11 1 1 1 1 1 -11 1 1 1 1 1 -11 1 1 1 1 1 -11 1 1 1 1 1 -11 1 1 1 1 1 -11 1 1 1 1 1 -11 1 1 1 1 1 -11 1 1 1 1 1 -11 1 1 1 1 1 -11 1 1 1 1 1 -11 1 1 1 1 1 -11 1 1 1 1 1 -11 1 1 1 1 1 -11 1 1 1 1 1 -11 1 1 1 1 1 -11 1 1 1 1 1 -11 1 1 1 1 1 -11 1 1 1 1 1 -11 1 1 1 1 1 -11 1 1 1 1 1 -11 1 1 1 1 1 -11 1 1 1 1 1 -11 1 1 1 1 1 -11 1 1 1 1 1 -11 1 1 1 1 1 -11 1 1 1 1 1 -11 1 1 1 1 1 -11 1 1 1 1 1 -11 1 1 1 1 1 -11 1 1 1 1 1 -11 1 1 1 1 1 -11 1 1 1 1 1 -11 1 1 1 1 1 -11 1 1 1 1 1 -11 1 1 1 1 1 -11 1 1 1 1 1 -11 1 1 1 1 1 -11 1 1 1 1 1 -11 1 1 1 1 1 -11 1 1 1 1 1 -11 1 1 1 1 1 -11 1 1 1 1 1 -11 1 1 1 1 1 -11 1 1 1 1 1 -11 1 1 1 1 1 -11 1 1 1 1 1 -11 1 1 1 1 1 -11 1 1 1 1 1 -11 1 1 1 1 1 -11 1 1 1 1 1 -11 1 1 1 1 1 -11 1 1 1 1 1 -11 1 1 1 1 1 -11 1 1 1 1 1 -11 1 1 1 1 1 -11 1 1 1 1 1 -11 1 1 1 1 1 -11 1 1 1 1 1 -11 1 1 1 1 1 -11 1 1 1 1 1 -11 1 1 1 1 1 -11 1 1 1 1 1 -11 1 1 1 1 1 -11 1 1 1 1 1 -11 1 1 1 1 1 -11 1 1 1 1 1 -11 1 1 1 1 1 -11 1 1 1 1 1 -11 1 1 1 1 1 -11 1 1 1 1 1 -11 1 1 1 1 1 -11 1 1 1 1 1 -11 1 1 1 1 1 -11 1 1 1 1 1 -11 1 1 1 1 1 -11 1 1 1 1 1 -11 1 1 1 1 1 -11 1 1 1 1 1 -11 1 1 1 1 1 -11 1 1 1 1 1 -11 1 1 1 1 1 -11 1 1 1 1 1 -11 1 1 1 1 1 -11 1 1 1 1 1 -11 1 1 1 1 1 -11 1 1 1 1 1 -11 1 1 1 1 1 -11 1 1 1 1 1 -11 1 1 1 1 1 -11 1 1 1 1 1 -11 1 1 1 1 1 -11 1 1 1 1 1 -11 1 1 1 1 1 -11 1 1 1 1 1 -11 1 1 1 1 1 -11 1 1 1 1 1 -11 1 1 1 1 1 -11 1 1 1 1 1 -11 1 1 1 1 1 -11 1 1 1 1 1 -11 1 1 1 1 1 -11 1 1 1 1 1 -11 1 1 1 1 1 -11 1 1 1 1 1 -11 1 1 1 1 1 -11 1 1 1 1 1 -11 1 1 1 1 1 -11 1 1 1 1 1 -11 1 1 1 1 1 -11 1 1 1 1 1 -11 1 1 1 1 1 -11 1 1 1 1 1 -11 1 1 1 1 1 -11 1 1 1 1 1 -11 1 1 1 1 1 -11 1 1 1 1 1 -11 1 1 1 1 1 -11 1 1 1 1 1 -11 1 1 1 1 1 -11 1 1 1 1 1 -11 1 1 1 1 1 -11 1 1 1 1 1 -11 1 1 1 1 1 -11 1 1 1 1 1 -11 1 1 1 1 1 -11 1 1 1 1 1 -11 1 1 1 1 1 -11 1 1 1 1 1 -11 1 1 1 1 1 -11 1 1 1 1 1 -11 1 1 1 1 1 -11 1 1 1 1 1 -11 1 1 1 1 1 -11 1 1 1 1 1 -11 1 1 1 1 1 -11 1 1 1 1 1 -11 1 1 1 1 1 -11 1 1 1 1 1 -11 1 1 1 1 1 -11 1 1 1 1 1 -11 1 1 1 1 1 -11 1 1 1 1 1 -11 1 1 1 1 1 -11 1 1 1 1 1 -11 1 1 1 1 1 -11 1 1 1 1 1 -11 1 1 1 1 1 -11 1 1 1 1 1 -11 1 1 1 1 1 -11 1 1 1 1 1 -11 1 1 1 1 1 -11 1 1 1 1 1 -11 1 1 1 1 1 -11 1 1 1 1 1 -11 1 1 1 1 1 -11 1 1 1 1 1 -11 1 1 1 1 1 -11 1 1 1 1 1 -11 1 1 1 1 1 -11 1 1 1 1 1 -11 1 1 1 1 1 -11 1 1 1 1 1 -11 1 1 1 1 1 -11 1 1 1 1 1 -11 1 1 1 1 1 -11 1 1 1 1 1 -11 1 1 1 1 1 -11 1 1 1 1 1 -11 1 1 1 1 1 -11 1 1 1 1 1 -11 1 1 1 1 1 -11 1 1 1 1 1 -11 1 1 1 1 1 -11 1 1 1 1 1 -11 1 1 1 1 1 -11 1 1 1 1 1 -11 1 1 1 1 1 -11 1 1 1 1 1 -11 1 1 1 1 1 -11 1 1 1 1 1 -11 1 1 1 1 1 -11 1 1 1 1 1 -11 1 1 1 1 1 -11 1 1 1 1 1 -11 1 1 1 1 1 -11 1 1 1 1 1 -11 1 1 1 1 1 -11 1 1 1 1 1 -11 1 1 1 1 1 -11 1 1 1 1 1 -11 1 1 1 1 1 -11 1 1 1 1 1 -11 1 1 1 1 1 -11 1 1 1 1 1 -11 1 1 1 1 1 -11 1 1 1 1 1 -11 1 1 1 1 1 -11 1 1 1 1 1 -11 1 1 1 1 1 -11 1 1 1 1 1 -11 1 1 1 1 1 -11 1 1 1 1 1 -11 1 1 1 1 1 -11 1 1 1 1 1 -11 1 1 1 1 1 -11 1 1 1 1 1 -11 1 1 1 1 1 -11 1 1 1 1 1 -11 1 1 1 1 1 -11 1 1 1 1 1 -11 1 1 1 1 1 -11 1 1 1 1 1 -11 1 1 1 1 1 -11 1 1 1 1 1 -11 1 1 1 1 1 -11 1 1 1 1 1 -11 1 1 1 1 1 -11 1 1 1 1 1 -11 1 1 1 1 1 -11 1 1 1 1 1 -11 1 1 1 1 1 -11 1 1 1 1 1 -11 1 1 1 1 1 -11 1 1 1 1 1 -11 1 1 1 1 1 -11 1 1 1 1 1 -11 1 1 1 1 1 -11 1 1 1 1 1 -11 1 1 1 1 1 -11 1 1 1 1 1 -11 1 1 1 1 1 -11 1 1 1 1 1 -11 1 1 1 1 1 -11 1 1 1 1 1 -11 1 1 1 1 1 -11 1 1 1 1 1 -11 1 1 1 1 1 -11 1 1 1 1 1 -11 1 1 1 1 1 -11 1 1 1 1 1 -11 1 1 1 1 1 -11 1 1 1 1 1 -11 1 1 1 1 1 -11 1 1 1 1 1 -11 1 1 1 1 1 -11 1 1 1 1 1 -11 1 1 1 1 1 -11 1 1 1 1 1 -11 1 1 1 1 1 -11 1 1 1 1 1 -11 1 1 1 1 1 -11 1 1 1 1 1 -11 1 1 1 1 1 -11 1 1 1 1 1 -11 1 1 1 1 1 -11 1 1 1 1 1 -11 1 1 1 1 1 -11 1 1 1 1 1 -11 1 1 1 1 1 -11 1 1 1 1 1 -11 1 1 1 1 1 -11 1 1 1 1 1 -11 1 1 1 1 1 -11 1 1 1 1 1 -11 1 1 1 1 1 -11 1 1 1 1 1 -11 1 1 1 1 1 -11 1 1 1 1 1 -11 1 1 1 1 1 -11 1 1 1 1 1 -11 1 1 1 1 1 -11 1 1 1 1 1 -11 1 1 1 1 1 -11 1 1 1 1 1 -11 1 1 1 1 1 -11 1 1 1 1 1 -11 1 1 1 1 1 -11 1 1 1 1 1 -11 1 1 1 1 1 -11 1 1 1 1 1 -11 1 1 1 1 1 -11 1 1 1 1 1 -11 1 1 1 1 1 -11 1 1 1 1 1 -11 1 1 1 1 1 -11 1 1 1 1 1 -11 1 1 1 1 1 -11 1 1 1 1 1 -11 1 1 1 1 1 -11 1 1 1 1 1 -11 1 1 1 1 1 -11 1 1 1 1 1 -11 1 1 1 1 1 -11 1 1 1 1 1 -11 1 1 1 1 1 -11 1 1 1 1 1 -11 1 1 1 1 1 -11 1 1 1 1 1 -11 1 1 1 1 1 -11 1 1 1 1 1 -11 1 1 1 1 1 -11 1 1 1 1 1 -11 1 1 1 1 1 -11 1 1 1 1 1 -11 1 1 1 1 1 -11 1 1 1 1 1 -11 1 1 1 1 1 -11 1 1 1 1 1 -11 1 1 1 1 1 -11 1 1 1 1 1 -11 1 1 1 1 1 -11 1 1 1 1 1 -11 1 1 1 1 1 -11 1 1 1 1 1 -11 1 1 1 1 1 -11 1 1 1 1 1 -11 1 1 1 1 1 -11 1 1 1 1 1 -11 1 1 1 1 1 -11 1 1 1 1 1 -11 1 1 1 1 1 -11 1 1 1 1 1 -11 1 1 1 1 1 -11 1 1 1 1 1 -11 1 1 1 1 1 -11 1 1 1 1 1 -11 1 1 1 1 1 -11 1 1 1 1 1 -11 1 1 1 1 1 -11 1 1 1 1 1 -11 1 1 1 1 1 -11 1 1 1 1 1 -11 1 1 1 1 1 -11 1 1 1 1 1 -11 1 1 1 1 1 -11 1 1 1 1 1 -11 1 1 1 1 1 -11 1 1 1 1 1 -11 1 1 1 1 1 -11 1 1 1 1 1 -11 1 1 1 1 1 -11 1 1 1 1 1 -11 1 1 1 1 1 -11 1 1 1 1 1 -11 1 1 1 1 1 -11 1 1 1 1 1 -11 1 1 1 1 1 -11 1 1 1 1 1 -11 1 1 1 1 1 -11 1 1 1 1 1 -11 1 1 1 1 1 -11 1 1 1 1 1 -11 1 1 1 1 1 -11 1 1 1 1 1 -11 1 1 1 1 1 -11 1 1 1 1 1 -11 1 1 1 1 1 -11 1 1 1 1 1 -11 1 1 1 1 1 -11 1 1 1 1 1 -11 1 1 1 1 1 -11 1 1 1 1 1 -11 1 1 1 1 1 -11 1 1 1 1 1 -11 1 1 1 1 1 -11 1 1 1 1 1 -11 1 1 1 1 1 -11 1 1 1 1 1 -11 1 1 1 1 1 -11 1 1 1 1 1 -11 1 1 1 1 1 -11 1 1 1 1 1 -11 1 1 1 1 1 -11 1 1 1 1 1 -11 1 1 1 1 1 -11 1 1 1 1 1 -11 1 1 1 1 1 -11 1 1 1 1 1 -11 1 1 1 1 1 -11 1 1 1 1 1 -11 1 1 1 1 1 -11 1 1 1 1 1 -11 1 1 1 1 1 -11 1 1 1 1 1 -11 1 1 1 1 1 -11 1 1 1 1 1 -11 1 1 1 1 1 -11 1 1 1 1 1 -11 1 1 1 1 1 -11 1 1 1 1 1 -11 1 1 1 1 1 -11 1 1 1 1 1 -11 1 1 1 1 1 -11 1 1 1 1 1 -11 1 1 1 1 1 -11 1 1 1 1 1 -11 1 1 1 1 1 -11 1 1 1 1 1 -11 1 1 1 1 1 -11 1 1 1 1 1 -11 1 1 1 1 1 -11 1 1 1 1 1 -11 1 1 1 1 1 -11 1 1 1 1 1 -11 1 1 1 1 1 -11 1 1 1 1 1 -11 1 1 1 1 1 -11 1 1 1 1 1 -11 1 1 1 1 1 -11 1 1 1 1 1 -11 1 1 1 1 1 -11 1 1 1 1 1 -11 1 1 1 1 1 -11 1 1 1 1 1 -11 1 1 1 1 1 -11 1 1 1 1 1 -11 1 1 1 1 1 -11 1 1 1 1 1 -11 1 1 1 1 1 -11 1 1 1 1 1 -11 1 1 1 1 1 -11 1 1 1 1 1 -11 1 1 1 1 1 -11 1 1 1 1 1 -11 1 1 1 1 1 -11 1 1 1 1 1 -11 1 1 1 1 1 -11 1 1 1 1 1 -11 1 1 1 1 1 -11 1 1 1 1 1 -11 1 1 1 1 1 -11 1 1 1 1 1 -11 1 1 1 1 1 -11 1 1 1 1 1 -11 1 1 1 1 1 -11 1 1 1 1 1 -11 1 1 1 1 1 -11 1 1 1 1 1 -11 1 1 1 1 1 -11 1 1 1 1 1 -11 1 1 1 1 1 -11 1 1 1 1 1 -11 1 1 1 1 1 -11 1 1 1 1 1 -11 1 1 1 1 1 -11 1 1 1 1 1 -11 1 1 1 1 1 -11 1 1 1 1 1 -11 1 1 1 1 1 -11 1 1 1 1 1 -11 1 1 1 1 1 -11 1 1 1 1 1 -11 1 1 1 1 1 -11 1 1 1 1 1 -11 1 1 1 1 1 -11 1 1 1 1 1 -11 1 1 1 1 1 -11 1 1 1 1 1 -11 1 1 1 1 1 -11 1 1 1 1 1 -11 1 1 1 1 1 -11 1 1 1 1 1 -11 1 1 1 1 1 -11 1 1 1 1 1 -11 1 1 1 1 1 -11 1 1 1 1 1 -11 1 1 1 1 1 -11 1 1 1 1 1 -11 1 1 1 1 1 -11 1 1 1 1 1 -11 1 1 1 1 1 -11 1 1 1 1 1 -11 1 1 1 1 1 -11 1 1 1 1 1 -11 1 1 1 1 1 -11 1 1 1 1 1 -11 1 1 1 1 1 -11 1 1 1 1 1 -11 1 1 1 1 1 -11 1 1 1 1 1 -11 1 1 1 1 1 -11 1 1 1 1 1 -11 1 1 1 1 1 -11 1 1 1 1 1 -11 1 1 1 1 1 -11 1 1 1 1 1 -11 1 1 1 1 1 -11 1 1 1 1 1 -11 1 1 1 1 1 -11 1 1 1 1 1 -11 1 1 1 1 1 -11 1 1 1 1 1 -11 1 1 1 1 1 -11 1 1 1 1 1 -11 1 1 1 1 1 -11 1 1 1 1 1 -11 1 1 1 1 1 -11 1 1 1 1 1 -11 1 1 1 1 1 -11 1 1 1 1 1 -11 1 1 1 1 1 -11 1 1 1 1 1 -11 1 1 1 1 1 -11 1 1 1 1 1 -11 1 1 1 1 1 -11 1 1 1 1 1 -11 1 1 1 1 1 -11 1 1 1 1 1 -11 1 1 1 1 1 -11 1 1 1 1 1 -11 1 1 1 1 1 -11 1 1 1 1 1 -11 1 1 1 1 1 -11 1 1 1 1 1 -11 1 1 1 1 1 -11 1 1 1 1 1 -11 1 1 1 1 1 -11 1 1 1 1 1 -11 1 1 1 1 1 -11 1 1 1 1 1 -11 1 1 1 1 1 -11 1 1 1 1 1 -11 1 1 1 1 1 -11 1 1 1 1 1 -11 1 1 1 1 1 -11 1 1 1 1 1 -11 1 1 1 1 1 -11 1 1 1 1 1 -11 1 1 1 1 1 -11 1 1 1 1 1 -11 1 1 1 1 1 -11 1 1 1 1 1 -11 1 1 1 1 1 -11 1 1 1 1 1 -11 1 1 1 1 1 -11 1 1 1 1 1 -11 1 1 1 1 1 -11 1 1 1 1 1 -11 1 1 1 1 1 -11 1 1 1 1 1 -11 1 1 1 1 1 -11 1 1 1 1 1 -11 1 1 1 1 1 -11 1 1 1 1 1 -11 1 1 1 1 1 -11 1 1 1 1 1 -11 1 1 1 1 1 -11 1 1 1 1 1 -11 1 1 1 1 1 -11 1 1 1 1 1 -11 1 1 1 1 1 -11 1 1 1 1 1 -11 1 1 1 1 1 -11 1 1 1 1 1 -11 1 1 1 1 1 -11 1 1 1 1 1 -11 1 1 1 1 1 -11 1 1 1 1 1 -11 1 1 1 1 1 -11 1 1 1 1 1 -11 1 1 1 1 1 -11 1 1 1 1 1 -11 1 1 1 1 1 -11 1 1 1 1 1 -11 1 1 1 1 1 -11 1 1 1 1 1 -11 1 1 1 1 1 -11 1 1 1 1 1 -11 1 1 1 1 1 -11 1 1 1 1 1 -11 1 1 1 1 1 -11 1 1 1 1 1 -11 1 1 1 1 1 -11 1 1 1 1 1 -11 1 1 1 1 1 -11 1 1 1 1 1 -11 1 1 1 1 1 -11 1 1 1 1 1 -11 1 1 1 1 1 -11 1 1 1 1 1 -11 1 1 1 1 1 -11 1 1 1 1 1 -11 1 1 1 1 1 -11 1 1 1 1 1 -11 1 1 1 1 1 -11 1 1 1 1 1 -11 1 1 1 1 1 -11 1 1 1 1 1 -11 1 1 1 1 1 -11 1 1 1 1 1 -11 1 1 1 1 1 -11 1 1 1 1 1 -11 1 1 1 1 1 -11 1 1 1 1 1 -11 1 1 1 1 1 -11 1 1 1 1 1 -11 1 1 1 1 1 -11 1 1 1 1 1 -11 1 1 1 1 1 -11 1 1 1 1 1 -11 1 1 1 1 1 -11 1 1 1 1 1 -11 1 1 1 1 1 -11 1 1 1 1 1 -11 1 1 1 1 1 -11 1 1 1 1 1 -11 1 1 1 1 1 -11 1 1 1 1 1 -11 1 1 1 1 1 -11 1 1 1 1 1 -11 1 1 1 1 1 -11 1 1 1 1 1 -11 1 1 1 1 1 -11 1 1 1 1 1 -11 1 1 1 1 1 -11 1 1 1 1 1 -11 1 1 1 1 1 -11 1 1 1 1 1 -11 1 1 1 1 1 -11 1 1 1 1 1 -11 1 1 1 1 1 -11 1 1 1 1 1 -11 1 1 1 1 1 -11 1 1 1 1 1 -11 1 1 1 1 1 -11 1 1 1 1 1 -11 1 1 1 1 1 -11 1 1 1 1 1 -11 1 1 1 1 1 -11 1 1 1 1 1 -11 1 1 1 1 1 -11 1 1 1 1 1 -11 1 1 1 1 1 -11 1 1 1 1 1 -11 1 1 1 1 1 -11 1 1 1 1 1 -11 1 1 1 1 1 -11 1 1 1 1 1 -11 1 1 1 1 1 -11 1 1 1 1 1 -11 1 1 1 1 1 -11 1 1 1 1 1 -11 1 1 1 1 1 -11 1 1 1 1 1 -11 1 1 1 1 1 -11 1 1 1 1 1 -11 1 1 1 1 1 -11 1 1 1 1 1 -11 1 1 1 1 1 -11 1 1 1 1 1 -11 1 1 1 1 1 -11 1 1 1 1 1 -11 1 1 1 1 1 -11 1 1 1 1 1 -11 1 1 1 1 1 -11 1 1 1 1 1 -11 1 1 1 1 1 -11 1 1 1 1 1 -11 1 1 1 1 1 -11 1 1 1 1 1 -11 1 1 1 1 1 -11 1 1 1 1 1 -11 1 1 1 1 1 -11 1 1 1 1 1 -11 1 1 1 1 1 -11 1 1 1 1 1 -11 1 1 1 1 1 -11 1 1 1 1 1 -11 1 1 1 1 1 -11 1 1 1 1 1 -11 1 1 1 1 1 -11 1 1 1 1 1 -11 1 1 1 1 1 -11 1 1 1 1 1 -11 1 1 1 1 1 -11 1 1 1 1 1 -11 1 1 1 1 1 -11 1 1 1 1 1 -11 1 1 1 1 1 -11 1 1 1 1 1 -11 1 1 1 1 1 -11 1 1 1 1 1 -11 1 1 1 1 1 -11 1 1 1 1 1 -11 1 1 1 1 1 -11 1 1 1 1 1 -11 1 1 1 1 1 -11 1 1 1 1 1 -11 1 1 1 1 1 -11 1 1 1 1 1 -11 1 1 1 1 1 -11 1 1 1 1 1 -11 1 1 1 1 1 -11 1 1 1 1 1 -11 1 1 1 1 1 -11 1 1 1 1 1 -11 1 1 1 1 1 -11 1 1 1 1 1 -11 1 1 1 1 1 -11 1 1 1 1 1 -11 1 1 1 1 1 -11 1 1 1 1 1 -11 1 1 1 1 1 -11 1 1 1 1 1 -11 1 1 1 1 1 -11 1 1 1 1 1 -11 1 1 1 1 1 -11 1 1 1 1 1 -11 1 1 1 1 1 -11 1 1 1 1 1 -11 1 1 1 1 1 -11 1 1 1 1 1 -11 1 1 1 1 1 -11 1 1 1 1 1 -11 1 1 1 1 1 -11 1 1 1 1 1 -11 1 1 1 1 1 -11 1 1 1 1 1 -11 1 1 1 1 1 -11 1 1 1 1 1 -11 1 1 1 1 1 -11 1 1 1 1 1 -11 1 1 1 1 1 -11 1 1 1 1 1 -11 1 1 1 1 1 -11 1 1 1 1 1 -11 1 1 1 1 1 -11 1 1 1 1 1 -11 1 1 1 1 1 -11 1 1 1 1 1 -11 1 1 1 1 1 -11 1 1 1 1 1 -11 1 1 1 1 1 -11 1 1 1 1 1 -11 1 1 1 1 1 -11 1 1 1 1 1 -11 1 1 1"
          ]
        }
      ]
    },
    {
      "cell_type": "code",
      "source": [
        "edad = 24\n",
        "if  edad>=18:\n",
        "  print('Eres mayor de edad')\n",
        "elif edad>=13:\n",
        "  print('Eres un adolescente')\n",
        "else:\n",
        "  print('Eres un niño')"
      ],
      "metadata": {
        "colab": {
          "base_uri": "https://localhost:8080/"
        },
        "id": "az0tUXT7rMjf",
        "outputId": "1ce9ff9e-8107-4887-cac4-411b6bc70ca3"
      },
      "execution_count": 105,
      "outputs": [
        {
          "output_type": "stream",
          "name": "stdout",
          "text": [
            "Eres mayor de edad\n"
          ]
        }
      ]
    },
    {
      "cell_type": "code",
      "source": [
        "countries"
      ],
      "metadata": {
        "colab": {
          "base_uri": "https://localhost:8080/"
        },
        "id": "q6YcXagtrMe_",
        "outputId": "f00e991f-db6a-42df-9022-45446452d597"
      },
      "execution_count": null,
      "outputs": [
        {
          "output_type": "execute_result",
          "data": {
            "text/plain": [
              "['India', 'China', 'Brazil', 'Argentina']"
            ]
          },
          "metadata": {},
          "execution_count": 104
        }
      ]
    },
    {
      "cell_type": "code",
      "source": [
        "countries=['United States', 'India', 'China', 'Brazil']"
      ],
      "metadata": {
        "id": "e9JxBCDIsKbW"
      },
      "execution_count": null,
      "outputs": []
    },
    {
      "cell_type": "code",
      "source": [
        "if \"China\" in countries:\n",
        "  print(\"Pais esta en la lista\")\n",
        "else:\n",
        "  print(\"Pais NO esta en la lista\")"
      ],
      "metadata": {
        "colab": {
          "base_uri": "https://localhost:8080/"
        },
        "id": "skoFkMGjsKW_",
        "outputId": "ef9f7a87-c877-4e0f-bd8a-ceb58969e595"
      },
      "execution_count": null,
      "outputs": [
        {
          "output_type": "stream",
          "name": "stdout",
          "text": [
            "Pais esta en la lista\n"
          ]
        }
      ]
    },
    {
      "cell_type": "code",
      "source": [
        "if \"Colombia\" in countries:\n",
        "  print(\"Pais esta en la lista\")\n",
        "else:\n",
        "  print(\"Pais NO esta en la lista\")"
      ],
      "metadata": {
        "colab": {
          "base_uri": "https://localhost:8080/"
        },
        "id": "dZBlxomAsKST",
        "outputId": "8d1ae1c1-484a-4eb7-927d-f556b0061627"
      },
      "execution_count": null,
      "outputs": [
        {
          "output_type": "stream",
          "name": "stdout",
          "text": [
            "Pais NO esta en la lista\n"
          ]
        }
      ]
    },
    {
      "cell_type": "markdown",
      "source": [
        "# **7 For loop(bucle for)**"
      ],
      "metadata": {
        "id": "SSgWle6jzStW"
      }
    },
    {
      "cell_type": "code",
      "source": [
        "\"\"\"for <variable> in <list>:\n",
        "  <code>\n",
        "\"\"\"\n"
      ],
      "metadata": {
        "id": "TugFQJmmwjMg"
      },
      "execution_count": null,
      "outputs": []
    },
    {
      "cell_type": "code",
      "source": [
        "for pais in countries:\n",
        "  print(pais)"
      ],
      "metadata": {
        "colab": {
          "base_uri": "https://localhost:8080/"
        },
        "id": "ALLGQkSczw-h",
        "outputId": "08a7e36a-0ad4-48ee-fed8-f3f0cc8a2f39"
      },
      "execution_count": null,
      "outputs": [
        {
          "output_type": "stream",
          "name": "stdout",
          "text": [
            "United States\n",
            "India\n",
            "China\n",
            "Brazil\n"
          ]
        }
      ]
    },
    {
      "cell_type": "code",
      "source": [
        "for pais in countries:\n",
        "  if pais == \"United States\":\n",
        "    print(pais)\n"
      ],
      "metadata": {
        "colab": {
          "base_uri": "https://localhost:8080/"
        },
        "id": "Hbu_6M-_zw5c",
        "outputId": "995db2eb-fafa-4242-dae6-b830fac7a9f4"
      },
      "execution_count": null,
      "outputs": [
        {
          "output_type": "stream",
          "name": "stdout",
          "text": [
            "United States\n"
          ]
        }
      ]
    },
    {
      "cell_type": "code",
      "source": [
        "for numero, pais in enumerate(countries):\n",
        "  print(numero)\n",
        "  print(pais)"
      ],
      "metadata": {
        "colab": {
          "base_uri": "https://localhost:8080/"
        },
        "id": "ClGm-e-lzw0k",
        "outputId": "23832b36-0839-4846-bcfa-b0b03e8e2515"
      },
      "execution_count": null,
      "outputs": [
        {
          "output_type": "stream",
          "name": "stdout",
          "text": [
            "0\n",
            "United States\n",
            "1\n",
            "India\n",
            "2\n",
            "China\n",
            "3\n",
            "Brazil\n"
          ]
        }
      ]
    },
    {
      "cell_type": "code",
      "source": [
        "my_data = {'nombre':'Frank', 'edad':26}"
      ],
      "metadata": {
        "id": "4GuDaMUyzwhT"
      },
      "execution_count": null,
      "outputs": []
    },
    {
      "cell_type": "code",
      "source": [
        "my_data"
      ],
      "metadata": {
        "colab": {
          "base_uri": "https://localhost:8080/"
        },
        "id": "s4PGzz4Z2B4J",
        "outputId": "8d116df0-e115-4cf0-ad48-ed138c1ebedc"
      },
      "execution_count": null,
      "outputs": [
        {
          "output_type": "execute_result",
          "data": {
            "text/plain": [
              "{'nombre': 'Frank', 'edad': 26}"
            ]
          },
          "metadata": {},
          "execution_count": 112
        }
      ]
    },
    {
      "cell_type": "code",
      "source": [
        "my_data.items()"
      ],
      "metadata": {
        "colab": {
          "base_uri": "https://localhost:8080/"
        },
        "id": "mZprXgPe3NRA",
        "outputId": "839dd191-935f-49c2-a2e4-23f22e1beaed"
      },
      "execution_count": null,
      "outputs": [
        {
          "output_type": "execute_result",
          "data": {
            "text/plain": [
              "dict_items([('nombre', 'Frank'), ('edad', 26)])"
            ]
          },
          "metadata": {},
          "execution_count": 113
        }
      ]
    },
    {
      "cell_type": "code",
      "source": [
        "for key, value in my_data.items():\n",
        "  print(key)\n",
        "  print(value)"
      ],
      "metadata": {
        "colab": {
          "base_uri": "https://localhost:8080/"
        },
        "id": "vWgLn_6U1_q-",
        "outputId": "fc8ef977-24f9-4d9c-d9ba-cf0df6fbd053"
      },
      "execution_count": null,
      "outputs": [
        {
          "output_type": "stream",
          "name": "stdout",
          "text": [
            "nombre\n",
            "Frank\n",
            "edad\n",
            "26\n"
          ]
        }
      ]
    },
    {
      "cell_type": "markdown",
      "source": [
        "# **8 Funciones**"
      ],
      "metadata": {
        "id": "XxxJ5SPc3sY3"
      }
    },
    {
      "cell_type": "markdown",
      "source": [
        "# **8.1 Funciones pre-fabricadas**"
      ],
      "metadata": {
        "id": "ipZsktWe30KQ"
      }
    },
    {
      "cell_type": "code",
      "source": [
        "countries"
      ],
      "metadata": {
        "colab": {
          "base_uri": "https://localhost:8080/"
        },
        "id": "L1kLXQvE3yYq",
        "outputId": "3e90babf-5e9e-4a00-95f4-9dcce49aa66a"
      },
      "execution_count": null,
      "outputs": [
        {
          "output_type": "execute_result",
          "data": {
            "text/plain": [
              "['United States', 'India', 'China', 'Brazil']"
            ]
          },
          "metadata": {},
          "execution_count": 116
        }
      ]
    },
    {
      "cell_type": "code",
      "source": [
        "len(countries)"
      ],
      "metadata": {
        "colab": {
          "base_uri": "https://localhost:8080/"
        },
        "id": "o0LyvpUn4G0A",
        "outputId": "bd64de2d-5257-4f72-d113-a639f1f4fce4"
      },
      "execution_count": null,
      "outputs": [
        {
          "output_type": "execute_result",
          "data": {
            "text/plain": [
              "4"
            ]
          },
          "metadata": {},
          "execution_count": 117
        }
      ]
    },
    {
      "cell_type": "code",
      "source": [
        "max([16, 83, 32, 1, 10])"
      ],
      "metadata": {
        "colab": {
          "base_uri": "https://localhost:8080/"
        },
        "id": "OxVusaDp4K86",
        "outputId": "9a8d868a-d300-4ebc-db99-8c0d1657784e"
      },
      "execution_count": null,
      "outputs": [
        {
          "output_type": "execute_result",
          "data": {
            "text/plain": [
              "83"
            ]
          },
          "metadata": {},
          "execution_count": 118
        }
      ]
    },
    {
      "cell_type": "code",
      "source": [
        "min([16, 83, 32, 1, 10])"
      ],
      "metadata": {
        "colab": {
          "base_uri": "https://localhost:8080/"
        },
        "id": "6x86d-pN4ZOj",
        "outputId": "705850ef-0340-405e-a179-03b26b926a3f"
      },
      "execution_count": null,
      "outputs": [
        {
          "output_type": "execute_result",
          "data": {
            "text/plain": [
              "1"
            ]
          },
          "metadata": {},
          "execution_count": 119
        }
      ]
    },
    {
      "cell_type": "code",
      "source": [
        "type(countries)"
      ],
      "metadata": {
        "colab": {
          "base_uri": "https://localhost:8080/"
        },
        "id": "EWKrUjm54yzp",
        "outputId": "9b13eccd-d3fb-4ba1-d024-fd0abd335f76"
      },
      "execution_count": null,
      "outputs": [
        {
          "output_type": "execute_result",
          "data": {
            "text/plain": [
              "list"
            ]
          },
          "metadata": {},
          "execution_count": 115
        }
      ]
    },
    {
      "cell_type": "code",
      "source": [
        "type(my_data)"
      ],
      "metadata": {
        "colab": {
          "base_uri": "https://localhost:8080/"
        },
        "id": "aXnl2gVd4rWW",
        "outputId": "00a80b37-cdd5-4f68-e5d4-79c8413bb4da"
      },
      "execution_count": null,
      "outputs": [
        {
          "output_type": "execute_result",
          "data": {
            "text/plain": [
              "dict"
            ]
          },
          "metadata": {},
          "execution_count": 120
        }
      ]
    },
    {
      "cell_type": "code",
      "source": [
        "type(my_data)"
      ],
      "metadata": {
        "colab": {
          "base_uri": "https://localhost:8080/"
        },
        "id": "qYu9nU-R0qjP",
        "outputId": "05df7454-f299-4d25-b265-87913bf7bb16"
      },
      "execution_count": null,
      "outputs": [
        {
          "output_type": "execute_result",
          "data": {
            "text/plain": [
              "dict"
            ]
          },
          "metadata": {},
          "execution_count": 121
        }
      ]
    },
    {
      "cell_type": "code",
      "source": [
        "my_data"
      ],
      "metadata": {
        "colab": {
          "base_uri": "https://localhost:8080/"
        },
        "id": "NZBR6avzz93y",
        "outputId": "e6cb0d70-6eca-492b-96ff-7694a4f8641f"
      },
      "execution_count": null,
      "outputs": [
        {
          "output_type": "execute_result",
          "data": {
            "text/plain": [
              "{'nombre': 'Frank', 'edad': 26}"
            ]
          },
          "metadata": {},
          "execution_count": 122
        }
      ]
    },
    {
      "cell_type": "code",
      "source": [
        "round(2.333, 2) #el resutado con dos decimal, la funcion round redondea los decimales"
      ],
      "metadata": {
        "colab": {
          "base_uri": "https://localhost:8080/"
        },
        "id": "94VtHXfx0hXt",
        "outputId": "0329cec8-cd84-4473-8524-f2903992aa65"
      },
      "execution_count": null,
      "outputs": [
        {
          "output_type": "execute_result",
          "data": {
            "text/plain": [
              "2.33"
            ]
          },
          "metadata": {},
          "execution_count": 123
        }
      ]
    },
    {
      "cell_type": "code",
      "source": [
        "range(1, 10, 2)"
      ],
      "metadata": {
        "colab": {
          "base_uri": "https://localhost:8080/"
        },
        "id": "2fTjT0zd31-g",
        "outputId": "6410eebd-44a3-46ca-ad9b-b0ce7599cbb0"
      },
      "execution_count": null,
      "outputs": [
        {
          "output_type": "execute_result",
          "data": {
            "text/plain": [
              "range(1, 10, 2)"
            ]
          },
          "metadata": {},
          "execution_count": 124
        }
      ]
    },
    {
      "cell_type": "code",
      "source": [
        "for i in range(1, 10, 2): # se impreso  el incrementa 2 en 2, la secuencia\n",
        "  print(i)"
      ],
      "metadata": {
        "colab": {
          "base_uri": "https://localhost:8080/"
        },
        "id": "3j2LWzph0cdl",
        "outputId": "bb152ac5-1997-4ae1-84f9-f54dcf9b6a89"
      },
      "execution_count": null,
      "outputs": [
        {
          "output_type": "stream",
          "name": "stdout",
          "text": [
            "1\n",
            "3\n",
            "5\n",
            "7\n",
            "9\n"
          ]
        }
      ]
    },
    {
      "cell_type": "markdown",
      "source": [
        "# **8.2 Crear tu Funcion**"
      ],
      "metadata": {
        "id": "-OD_Bx7M4Onb"
      }
    },
    {
      "cell_type": "code",
      "source": [
        "def function(<params>):\n",
        "  <code>\n",
        "  return <data>"
      ],
      "metadata": {
        "id": "7UcnKCSl0cXP"
      },
      "execution_count": null,
      "outputs": []
    },
    {
      "cell_type": "code",
      "source": [
        "def sumar_numeros(a, b):\n",
        "  suma_final = a+b\n",
        "  return suma_final"
      ],
      "metadata": {
        "id": "bW9RAm-U0cDh"
      },
      "execution_count": null,
      "outputs": []
    },
    {
      "cell_type": "code",
      "source": [
        "sumar_numeros(1,5)"
      ],
      "metadata": {
        "colab": {
          "base_uri": "https://localhost:8080/"
        },
        "id": "k9pKn_vM0b9G",
        "outputId": "ac1e16a3-92b6-458e-d3ef-3e8c348e9dc0"
      },
      "execution_count": null,
      "outputs": [
        {
          "output_type": "execute_result",
          "data": {
            "text/plain": [
              "6"
            ]
          },
          "metadata": {},
          "execution_count": 131
        }
      ]
    },
    {
      "cell_type": "markdown",
      "source": [
        "# **9  Modulos**"
      ],
      "metadata": {
        "id": "3bLqxG6s5si8"
      }
    },
    {
      "cell_type": "code",
      "source": [
        "import"
      ],
      "metadata": {
        "id": "oLSqAtlN0b1o"
      },
      "execution_count": null,
      "outputs": []
    },
    {
      "cell_type": "markdown",
      "source": [
        "# **9.1 Modulos OS**"
      ],
      "metadata": {
        "id": "Zx7-mJeT50lW"
      }
    },
    {
      "cell_type": "code",
      "source": [
        "import os\n"
      ],
      "metadata": {
        "id": "UpKE5kTY0bw1"
      },
      "execution_count": null,
      "outputs": []
    },
    {
      "cell_type": "code",
      "source": [
        "os.getcwd()"
      ],
      "metadata": {
        "id": "WBj100O70bpH",
        "colab": {
          "base_uri": "https://localhost:8080/",
          "height": 35
        },
        "outputId": "80cacc93-d4f7-4cfc-ab9d-3e2317410418"
      },
      "execution_count": null,
      "outputs": [
        {
          "output_type": "execute_result",
          "data": {
            "text/plain": [
              "'/content'"
            ],
            "application/vnd.google.colaboratory.intrinsic+json": {
              "type": "string"
            }
          },
          "metadata": {},
          "execution_count": 139
        }
      ]
    },
    {
      "cell_type": "code",
      "source": [
        "'/Users/frankandrade/Udemy'"
      ],
      "metadata": {
        "id": "Mpbn0eeF0bif",
        "colab": {
          "base_uri": "https://localhost:8080/",
          "height": 35
        },
        "outputId": "1ef7f656-9e72-420f-e310-fdaab5175b73"
      },
      "execution_count": null,
      "outputs": [
        {
          "output_type": "execute_result",
          "data": {
            "text/plain": [
              "'/Users/frankandrade/Udemy'"
            ],
            "application/vnd.google.colaboratory.intrinsic+json": {
              "type": "string"
            }
          },
          "metadata": {},
          "execution_count": 140
        }
      ]
    },
    {
      "cell_type": "code",
      "source": [
        "os.listdir()"
      ],
      "metadata": {
        "id": "mSdksUHp0bcw",
        "colab": {
          "base_uri": "https://localhost:8080/"
        },
        "outputId": "ad0a2bb0-e113-491a-cfcc-4c5f6ae138c8"
      },
      "execution_count": null,
      "outputs": [
        {
          "output_type": "execute_result",
          "data": {
            "text/plain": [
              "['.config', 'sample_data']"
            ]
          },
          "metadata": {},
          "execution_count": 141
        }
      ]
    },
    {
      "cell_type": "code",
      "source": [
        "os.makedirs(\"Nueva Carpeta\")"
      ],
      "metadata": {
        "id": "jGJL5meZ0bWV"
      },
      "execution_count": null,
      "outputs": []
    },
    {
      "cell_type": "code",
      "source": [
        "os.listdir()"
      ],
      "metadata": {
        "colab": {
          "base_uri": "https://localhost:8080/"
        },
        "id": "Xg7GwOpDM14I",
        "outputId": "ff765ff8-3b30-46da-9da1-5747411a4198"
      },
      "execution_count": null,
      "outputs": [
        {
          "output_type": "execute_result",
          "data": {
            "text/plain": [
              "['.config', 'Nueva Carpeta', 'sample_data']"
            ]
          },
          "metadata": {},
          "execution_count": 145
        }
      ]
    },
    {
      "cell_type": "markdown",
      "source": [
        "# **¿QUE ES PANDAS?**\n",
        "Python Pandas vs Excel\n",
        "\n",
        "* Tamaño\n",
        "* Transformacion de data compleja\n",
        "* Automatizacion\n",
        "* Compatibilidad en diferentes plataformas"
      ],
      "metadata": {
        "id": "LkqklOtiPJAL"
      }
    },
    {
      "cell_type": "code",
      "source": [
        "#\n",
        "import pandas as pd\n",
        "import numpy as np"
      ],
      "metadata": {
        "id": "YwqkrrVBM1x9"
      },
      "execution_count": null,
      "outputs": []
    },
    {
      "cell_type": "markdown",
      "source": [
        "# **1. Creando un DataFrame usando arrays**"
      ],
      "metadata": {
        "id": "soksMJqrWyql"
      }
    },
    {
      "cell_type": "markdown",
      "source": [
        " **1.1 Opcion 1**"
      ],
      "metadata": {
        "id": "mToa_OLFW9Ju"
      }
    },
    {
      "cell_type": "code",
      "source": [
        "# creando un array\n",
        "data = np.array([[1,4], [2,5], [3,4]])"
      ],
      "metadata": {
        "id": "MNeywIlCM1rU"
      },
      "execution_count": null,
      "outputs": []
    },
    {
      "cell_type": "code",
      "source": [
        "# creando un dataframe\n",
        "pd.DataFrame(data)"
      ],
      "metadata": {
        "colab": {
          "base_uri": "https://localhost:8080/",
          "height": 143
        },
        "id": "SawmazvEOnvZ",
        "outputId": "3d12e3ad-9cca-4531-b71c-e8b393e5d992"
      },
      "execution_count": null,
      "outputs": [
        {
          "output_type": "execute_result",
          "data": {
            "text/plain": [
              "   0  1\n",
              "0  1  4\n",
              "1  2  5\n",
              "2  3  4"
            ],
            "text/html": [
              "\n",
              "  <div id=\"df-cf7c2c8b-34f1-4a82-aafa-38aa4167c956\">\n",
              "    <div class=\"colab-df-container\">\n",
              "      <div>\n",
              "<style scoped>\n",
              "    .dataframe tbody tr th:only-of-type {\n",
              "        vertical-align: middle;\n",
              "    }\n",
              "\n",
              "    .dataframe tbody tr th {\n",
              "        vertical-align: top;\n",
              "    }\n",
              "\n",
              "    .dataframe thead th {\n",
              "        text-align: right;\n",
              "    }\n",
              "</style>\n",
              "<table border=\"1\" class=\"dataframe\">\n",
              "  <thead>\n",
              "    <tr style=\"text-align: right;\">\n",
              "      <th></th>\n",
              "      <th>0</th>\n",
              "      <th>1</th>\n",
              "    </tr>\n",
              "  </thead>\n",
              "  <tbody>\n",
              "    <tr>\n",
              "      <th>0</th>\n",
              "      <td>1</td>\n",
              "      <td>4</td>\n",
              "    </tr>\n",
              "    <tr>\n",
              "      <th>1</th>\n",
              "      <td>2</td>\n",
              "      <td>5</td>\n",
              "    </tr>\n",
              "    <tr>\n",
              "      <th>2</th>\n",
              "      <td>3</td>\n",
              "      <td>4</td>\n",
              "    </tr>\n",
              "  </tbody>\n",
              "</table>\n",
              "</div>\n",
              "      <button class=\"colab-df-convert\" onclick=\"convertToInteractive('df-cf7c2c8b-34f1-4a82-aafa-38aa4167c956')\"\n",
              "              title=\"Convert this dataframe to an interactive table.\"\n",
              "              style=\"display:none;\">\n",
              "        \n",
              "  <svg xmlns=\"http://www.w3.org/2000/svg\" height=\"24px\"viewBox=\"0 0 24 24\"\n",
              "       width=\"24px\">\n",
              "    <path d=\"M0 0h24v24H0V0z\" fill=\"none\"/>\n",
              "    <path d=\"M18.56 5.44l.94 2.06.94-2.06 2.06-.94-2.06-.94-.94-2.06-.94 2.06-2.06.94zm-11 1L8.5 8.5l.94-2.06 2.06-.94-2.06-.94L8.5 2.5l-.94 2.06-2.06.94zm10 10l.94 2.06.94-2.06 2.06-.94-2.06-.94-.94-2.06-.94 2.06-2.06.94z\"/><path d=\"M17.41 7.96l-1.37-1.37c-.4-.4-.92-.59-1.43-.59-.52 0-1.04.2-1.43.59L10.3 9.45l-7.72 7.72c-.78.78-.78 2.05 0 2.83L4 21.41c.39.39.9.59 1.41.59.51 0 1.02-.2 1.41-.59l7.78-7.78 2.81-2.81c.8-.78.8-2.07 0-2.86zM5.41 20L4 18.59l7.72-7.72 1.47 1.35L5.41 20z\"/>\n",
              "  </svg>\n",
              "      </button>\n",
              "      \n",
              "  <style>\n",
              "    .colab-df-container {\n",
              "      display:flex;\n",
              "      flex-wrap:wrap;\n",
              "      gap: 12px;\n",
              "    }\n",
              "\n",
              "    .colab-df-convert {\n",
              "      background-color: #E8F0FE;\n",
              "      border: none;\n",
              "      border-radius: 50%;\n",
              "      cursor: pointer;\n",
              "      display: none;\n",
              "      fill: #1967D2;\n",
              "      height: 32px;\n",
              "      padding: 0 0 0 0;\n",
              "      width: 32px;\n",
              "    }\n",
              "\n",
              "    .colab-df-convert:hover {\n",
              "      background-color: #E2EBFA;\n",
              "      box-shadow: 0px 1px 2px rgba(60, 64, 67, 0.3), 0px 1px 3px 1px rgba(60, 64, 67, 0.15);\n",
              "      fill: #174EA6;\n",
              "    }\n",
              "\n",
              "    [theme=dark] .colab-df-convert {\n",
              "      background-color: #3B4455;\n",
              "      fill: #D2E3FC;\n",
              "    }\n",
              "\n",
              "    [theme=dark] .colab-df-convert:hover {\n",
              "      background-color: #434B5C;\n",
              "      box-shadow: 0px 1px 3px 1px rgba(0, 0, 0, 0.15);\n",
              "      filter: drop-shadow(0px 1px 2px rgba(0, 0, 0, 0.3));\n",
              "      fill: #FFFFFF;\n",
              "    }\n",
              "  </style>\n",
              "\n",
              "      <script>\n",
              "        const buttonEl =\n",
              "          document.querySelector('#df-cf7c2c8b-34f1-4a82-aafa-38aa4167c956 button.colab-df-convert');\n",
              "        buttonEl.style.display =\n",
              "          google.colab.kernel.accessAllowed ? 'block' : 'none';\n",
              "\n",
              "        async function convertToInteractive(key) {\n",
              "          const element = document.querySelector('#df-cf7c2c8b-34f1-4a82-aafa-38aa4167c956');\n",
              "          const dataTable =\n",
              "            await google.colab.kernel.invokeFunction('convertToInteractive',\n",
              "                                                     [key], {});\n",
              "          if (!dataTable) return;\n",
              "\n",
              "          const docLinkHtml = 'Like what you see? Visit the ' +\n",
              "            '<a target=\"_blank\" href=https://colab.research.google.com/notebooks/data_table.ipynb>data table notebook</a>'\n",
              "            + ' to learn more about interactive tables.';\n",
              "          element.innerHTML = '';\n",
              "          dataTable['output_type'] = 'display_data';\n",
              "          await google.colab.output.renderOutput(dataTable, element);\n",
              "          const docLink = document.createElement('div');\n",
              "          docLink.innerHTML = docLinkHtml;\n",
              "          element.appendChild(docLink);\n",
              "        }\n",
              "      </script>\n",
              "    </div>\n",
              "  </div>\n",
              "  "
            ]
          },
          "metadata": {},
          "execution_count": 150
        }
      ]
    },
    {
      "cell_type": "code",
      "source": [
        "# creando un dataframe\n",
        "#df = pd.DataFrame(data, index = ['row1', 'row2', 'row3'], columns = ['col1', 'col2'])\n",
        "pd.DataFrame(data, index = ['row1', 'row2', 'row3'], columns = ['col1', 'col2'])"
      ],
      "metadata": {
        "colab": {
          "base_uri": "https://localhost:8080/",
          "height": 143
        },
        "id": "_jHyc3GfYaRS",
        "outputId": "3d4b1792-a431-4932-f16c-0730eaa78021"
      },
      "execution_count": null,
      "outputs": [
        {
          "output_type": "execute_result",
          "data": {
            "text/plain": [
              "      col1  col2\n",
              "row1     1     4\n",
              "row2     2     5\n",
              "row3     3     4"
            ],
            "text/html": [
              "\n",
              "  <div id=\"df-c9406b6f-d8b3-460c-ad41-14121bc1bc54\">\n",
              "    <div class=\"colab-df-container\">\n",
              "      <div>\n",
              "<style scoped>\n",
              "    .dataframe tbody tr th:only-of-type {\n",
              "        vertical-align: middle;\n",
              "    }\n",
              "\n",
              "    .dataframe tbody tr th {\n",
              "        vertical-align: top;\n",
              "    }\n",
              "\n",
              "    .dataframe thead th {\n",
              "        text-align: right;\n",
              "    }\n",
              "</style>\n",
              "<table border=\"1\" class=\"dataframe\">\n",
              "  <thead>\n",
              "    <tr style=\"text-align: right;\">\n",
              "      <th></th>\n",
              "      <th>col1</th>\n",
              "      <th>col2</th>\n",
              "    </tr>\n",
              "  </thead>\n",
              "  <tbody>\n",
              "    <tr>\n",
              "      <th>row1</th>\n",
              "      <td>1</td>\n",
              "      <td>4</td>\n",
              "    </tr>\n",
              "    <tr>\n",
              "      <th>row2</th>\n",
              "      <td>2</td>\n",
              "      <td>5</td>\n",
              "    </tr>\n",
              "    <tr>\n",
              "      <th>row3</th>\n",
              "      <td>3</td>\n",
              "      <td>4</td>\n",
              "    </tr>\n",
              "  </tbody>\n",
              "</table>\n",
              "</div>\n",
              "      <button class=\"colab-df-convert\" onclick=\"convertToInteractive('df-c9406b6f-d8b3-460c-ad41-14121bc1bc54')\"\n",
              "              title=\"Convert this dataframe to an interactive table.\"\n",
              "              style=\"display:none;\">\n",
              "        \n",
              "  <svg xmlns=\"http://www.w3.org/2000/svg\" height=\"24px\"viewBox=\"0 0 24 24\"\n",
              "       width=\"24px\">\n",
              "    <path d=\"M0 0h24v24H0V0z\" fill=\"none\"/>\n",
              "    <path d=\"M18.56 5.44l.94 2.06.94-2.06 2.06-.94-2.06-.94-.94-2.06-.94 2.06-2.06.94zm-11 1L8.5 8.5l.94-2.06 2.06-.94-2.06-.94L8.5 2.5l-.94 2.06-2.06.94zm10 10l.94 2.06.94-2.06 2.06-.94-2.06-.94-.94-2.06-.94 2.06-2.06.94z\"/><path d=\"M17.41 7.96l-1.37-1.37c-.4-.4-.92-.59-1.43-.59-.52 0-1.04.2-1.43.59L10.3 9.45l-7.72 7.72c-.78.78-.78 2.05 0 2.83L4 21.41c.39.39.9.59 1.41.59.51 0 1.02-.2 1.41-.59l7.78-7.78 2.81-2.81c.8-.78.8-2.07 0-2.86zM5.41 20L4 18.59l7.72-7.72 1.47 1.35L5.41 20z\"/>\n",
              "  </svg>\n",
              "      </button>\n",
              "      \n",
              "  <style>\n",
              "    .colab-df-container {\n",
              "      display:flex;\n",
              "      flex-wrap:wrap;\n",
              "      gap: 12px;\n",
              "    }\n",
              "\n",
              "    .colab-df-convert {\n",
              "      background-color: #E8F0FE;\n",
              "      border: none;\n",
              "      border-radius: 50%;\n",
              "      cursor: pointer;\n",
              "      display: none;\n",
              "      fill: #1967D2;\n",
              "      height: 32px;\n",
              "      padding: 0 0 0 0;\n",
              "      width: 32px;\n",
              "    }\n",
              "\n",
              "    .colab-df-convert:hover {\n",
              "      background-color: #E2EBFA;\n",
              "      box-shadow: 0px 1px 2px rgba(60, 64, 67, 0.3), 0px 1px 3px 1px rgba(60, 64, 67, 0.15);\n",
              "      fill: #174EA6;\n",
              "    }\n",
              "\n",
              "    [theme=dark] .colab-df-convert {\n",
              "      background-color: #3B4455;\n",
              "      fill: #D2E3FC;\n",
              "    }\n",
              "\n",
              "    [theme=dark] .colab-df-convert:hover {\n",
              "      background-color: #434B5C;\n",
              "      box-shadow: 0px 1px 3px 1px rgba(0, 0, 0, 0.15);\n",
              "      filter: drop-shadow(0px 1px 2px rgba(0, 0, 0, 0.3));\n",
              "      fill: #FFFFFF;\n",
              "    }\n",
              "  </style>\n",
              "\n",
              "      <script>\n",
              "        const buttonEl =\n",
              "          document.querySelector('#df-c9406b6f-d8b3-460c-ad41-14121bc1bc54 button.colab-df-convert');\n",
              "        buttonEl.style.display =\n",
              "          google.colab.kernel.accessAllowed ? 'block' : 'none';\n",
              "\n",
              "        async function convertToInteractive(key) {\n",
              "          const element = document.querySelector('#df-c9406b6f-d8b3-460c-ad41-14121bc1bc54');\n",
              "          const dataTable =\n",
              "            await google.colab.kernel.invokeFunction('convertToInteractive',\n",
              "                                                     [key], {});\n",
              "          if (!dataTable) return;\n",
              "\n",
              "          const docLinkHtml = 'Like what you see? Visit the ' +\n",
              "            '<a target=\"_blank\" href=https://colab.research.google.com/notebooks/data_table.ipynb>data table notebook</a>'\n",
              "            + ' to learn more about interactive tables.';\n",
              "          element.innerHTML = '';\n",
              "          dataTable['output_type'] = 'display_data';\n",
              "          await google.colab.output.renderOutput(dataTable, element);\n",
              "          const docLink = document.createElement('div');\n",
              "          docLink.innerHTML = docLinkHtml;\n",
              "          element.appendChild(docLink);\n",
              "        }\n",
              "      </script>\n",
              "    </div>\n",
              "  </div>\n",
              "  "
            ]
          },
          "metadata": {},
          "execution_count": 156
        }
      ]
    },
    {
      "cell_type": "code",
      "source": [
        "df"
      ],
      "metadata": {
        "colab": {
          "base_uri": "https://localhost:8080/",
          "height": 143
        },
        "id": "vq_DLNmdZ59C",
        "outputId": "360ec5a9-5b55-4d04-b272-4f52f4223b25"
      },
      "execution_count": null,
      "outputs": [
        {
          "output_type": "execute_result",
          "data": {
            "text/plain": [
              "      col1  col2\n",
              "row1     1     4\n",
              "row2     2     5\n",
              "row3     3     4"
            ],
            "text/html": [
              "\n",
              "  <div id=\"df-362b940a-f853-403b-b8cc-96fbfc6a7542\">\n",
              "    <div class=\"colab-df-container\">\n",
              "      <div>\n",
              "<style scoped>\n",
              "    .dataframe tbody tr th:only-of-type {\n",
              "        vertical-align: middle;\n",
              "    }\n",
              "\n",
              "    .dataframe tbody tr th {\n",
              "        vertical-align: top;\n",
              "    }\n",
              "\n",
              "    .dataframe thead th {\n",
              "        text-align: right;\n",
              "    }\n",
              "</style>\n",
              "<table border=\"1\" class=\"dataframe\">\n",
              "  <thead>\n",
              "    <tr style=\"text-align: right;\">\n",
              "      <th></th>\n",
              "      <th>col1</th>\n",
              "      <th>col2</th>\n",
              "    </tr>\n",
              "  </thead>\n",
              "  <tbody>\n",
              "    <tr>\n",
              "      <th>row1</th>\n",
              "      <td>1</td>\n",
              "      <td>4</td>\n",
              "    </tr>\n",
              "    <tr>\n",
              "      <th>row2</th>\n",
              "      <td>2</td>\n",
              "      <td>5</td>\n",
              "    </tr>\n",
              "    <tr>\n",
              "      <th>row3</th>\n",
              "      <td>3</td>\n",
              "      <td>4</td>\n",
              "    </tr>\n",
              "  </tbody>\n",
              "</table>\n",
              "</div>\n",
              "      <button class=\"colab-df-convert\" onclick=\"convertToInteractive('df-362b940a-f853-403b-b8cc-96fbfc6a7542')\"\n",
              "              title=\"Convert this dataframe to an interactive table.\"\n",
              "              style=\"display:none;\">\n",
              "        \n",
              "  <svg xmlns=\"http://www.w3.org/2000/svg\" height=\"24px\"viewBox=\"0 0 24 24\"\n",
              "       width=\"24px\">\n",
              "    <path d=\"M0 0h24v24H0V0z\" fill=\"none\"/>\n",
              "    <path d=\"M18.56 5.44l.94 2.06.94-2.06 2.06-.94-2.06-.94-.94-2.06-.94 2.06-2.06.94zm-11 1L8.5 8.5l.94-2.06 2.06-.94-2.06-.94L8.5 2.5l-.94 2.06-2.06.94zm10 10l.94 2.06.94-2.06 2.06-.94-2.06-.94-.94-2.06-.94 2.06-2.06.94z\"/><path d=\"M17.41 7.96l-1.37-1.37c-.4-.4-.92-.59-1.43-.59-.52 0-1.04.2-1.43.59L10.3 9.45l-7.72 7.72c-.78.78-.78 2.05 0 2.83L4 21.41c.39.39.9.59 1.41.59.51 0 1.02-.2 1.41-.59l7.78-7.78 2.81-2.81c.8-.78.8-2.07 0-2.86zM5.41 20L4 18.59l7.72-7.72 1.47 1.35L5.41 20z\"/>\n",
              "  </svg>\n",
              "      </button>\n",
              "      \n",
              "  <style>\n",
              "    .colab-df-container {\n",
              "      display:flex;\n",
              "      flex-wrap:wrap;\n",
              "      gap: 12px;\n",
              "    }\n",
              "\n",
              "    .colab-df-convert {\n",
              "      background-color: #E8F0FE;\n",
              "      border: none;\n",
              "      border-radius: 50%;\n",
              "      cursor: pointer;\n",
              "      display: none;\n",
              "      fill: #1967D2;\n",
              "      height: 32px;\n",
              "      padding: 0 0 0 0;\n",
              "      width: 32px;\n",
              "    }\n",
              "\n",
              "    .colab-df-convert:hover {\n",
              "      background-color: #E2EBFA;\n",
              "      box-shadow: 0px 1px 2px rgba(60, 64, 67, 0.3), 0px 1px 3px 1px rgba(60, 64, 67, 0.15);\n",
              "      fill: #174EA6;\n",
              "    }\n",
              "\n",
              "    [theme=dark] .colab-df-convert {\n",
              "      background-color: #3B4455;\n",
              "      fill: #D2E3FC;\n",
              "    }\n",
              "\n",
              "    [theme=dark] .colab-df-convert:hover {\n",
              "      background-color: #434B5C;\n",
              "      box-shadow: 0px 1px 3px 1px rgba(0, 0, 0, 0.15);\n",
              "      filter: drop-shadow(0px 1px 2px rgba(0, 0, 0, 0.3));\n",
              "      fill: #FFFFFF;\n",
              "    }\n",
              "  </style>\n",
              "\n",
              "      <script>\n",
              "        const buttonEl =\n",
              "          document.querySelector('#df-362b940a-f853-403b-b8cc-96fbfc6a7542 button.colab-df-convert');\n",
              "        buttonEl.style.display =\n",
              "          google.colab.kernel.accessAllowed ? 'block' : 'none';\n",
              "\n",
              "        async function convertToInteractive(key) {\n",
              "          const element = document.querySelector('#df-362b940a-f853-403b-b8cc-96fbfc6a7542');\n",
              "          const dataTable =\n",
              "            await google.colab.kernel.invokeFunction('convertToInteractive',\n",
              "                                                     [key], {});\n",
              "          if (!dataTable) return;\n",
              "\n",
              "          const docLinkHtml = 'Like what you see? Visit the ' +\n",
              "            '<a target=\"_blank\" href=https://colab.research.google.com/notebooks/data_table.ipynb>data table notebook</a>'\n",
              "            + ' to learn more about interactive tables.';\n",
              "          element.innerHTML = '';\n",
              "          dataTable['output_type'] = 'display_data';\n",
              "          await google.colab.output.renderOutput(dataTable, element);\n",
              "          const docLink = document.createElement('div');\n",
              "          docLink.innerHTML = docLinkHtml;\n",
              "          element.appendChild(docLink);\n",
              "        }\n",
              "      </script>\n",
              "    </div>\n",
              "  </div>\n",
              "  "
            ]
          },
          "metadata": {},
          "execution_count": 158
        }
      ]
    },
    {
      "cell_type": "markdown",
      "source": [
        "**1.2 Opcion 2**"
      ],
      "metadata": {
        "id": "oPIgZoK0Y8be"
      }
    },
    {
      "cell_type": "code",
      "source": [
        "#creando un array en forma de lista\n",
        "data = data = [[1,4], [2,5], [3,4]]"
      ],
      "metadata": {
        "id": "nXcsqG5GaA0x"
      },
      "execution_count": null,
      "outputs": []
    },
    {
      "cell_type": "code",
      "source": [
        "# creando un dataframe\n",
        "df = pd.DataFrame(data, index = ['row1', 'row2', 'row3'], columns = ['col1', 'col2'])"
      ],
      "metadata": {
        "id": "PnddB0rwaAiv"
      },
      "execution_count": null,
      "outputs": []
    },
    {
      "cell_type": "code",
      "source": [
        "#mostrando el dataframe\n",
        "df\n"
      ],
      "metadata": {
        "colab": {
          "base_uri": "https://localhost:8080/",
          "height": 143
        },
        "id": "TM4C5jfLOnif",
        "outputId": "9733947d-3259-4c9b-f6af-5a50d845e0ab"
      },
      "execution_count": null,
      "outputs": [
        {
          "output_type": "execute_result",
          "data": {
            "text/plain": [
              "      col1  col2\n",
              "row1     1     4\n",
              "row2     2     5\n",
              "row3     3     4"
            ],
            "text/html": [
              "\n",
              "  <div id=\"df-b78603d5-de58-4b9f-b77f-1fdf47b69f32\">\n",
              "    <div class=\"colab-df-container\">\n",
              "      <div>\n",
              "<style scoped>\n",
              "    .dataframe tbody tr th:only-of-type {\n",
              "        vertical-align: middle;\n",
              "    }\n",
              "\n",
              "    .dataframe tbody tr th {\n",
              "        vertical-align: top;\n",
              "    }\n",
              "\n",
              "    .dataframe thead th {\n",
              "        text-align: right;\n",
              "    }\n",
              "</style>\n",
              "<table border=\"1\" class=\"dataframe\">\n",
              "  <thead>\n",
              "    <tr style=\"text-align: right;\">\n",
              "      <th></th>\n",
              "      <th>col1</th>\n",
              "      <th>col2</th>\n",
              "    </tr>\n",
              "  </thead>\n",
              "  <tbody>\n",
              "    <tr>\n",
              "      <th>row1</th>\n",
              "      <td>1</td>\n",
              "      <td>4</td>\n",
              "    </tr>\n",
              "    <tr>\n",
              "      <th>row2</th>\n",
              "      <td>2</td>\n",
              "      <td>5</td>\n",
              "    </tr>\n",
              "    <tr>\n",
              "      <th>row3</th>\n",
              "      <td>3</td>\n",
              "      <td>4</td>\n",
              "    </tr>\n",
              "  </tbody>\n",
              "</table>\n",
              "</div>\n",
              "      <button class=\"colab-df-convert\" onclick=\"convertToInteractive('df-b78603d5-de58-4b9f-b77f-1fdf47b69f32')\"\n",
              "              title=\"Convert this dataframe to an interactive table.\"\n",
              "              style=\"display:none;\">\n",
              "        \n",
              "  <svg xmlns=\"http://www.w3.org/2000/svg\" height=\"24px\"viewBox=\"0 0 24 24\"\n",
              "       width=\"24px\">\n",
              "    <path d=\"M0 0h24v24H0V0z\" fill=\"none\"/>\n",
              "    <path d=\"M18.56 5.44l.94 2.06.94-2.06 2.06-.94-2.06-.94-.94-2.06-.94 2.06-2.06.94zm-11 1L8.5 8.5l.94-2.06 2.06-.94-2.06-.94L8.5 2.5l-.94 2.06-2.06.94zm10 10l.94 2.06.94-2.06 2.06-.94-2.06-.94-.94-2.06-.94 2.06-2.06.94z\"/><path d=\"M17.41 7.96l-1.37-1.37c-.4-.4-.92-.59-1.43-.59-.52 0-1.04.2-1.43.59L10.3 9.45l-7.72 7.72c-.78.78-.78 2.05 0 2.83L4 21.41c.39.39.9.59 1.41.59.51 0 1.02-.2 1.41-.59l7.78-7.78 2.81-2.81c.8-.78.8-2.07 0-2.86zM5.41 20L4 18.59l7.72-7.72 1.47 1.35L5.41 20z\"/>\n",
              "  </svg>\n",
              "      </button>\n",
              "      \n",
              "  <style>\n",
              "    .colab-df-container {\n",
              "      display:flex;\n",
              "      flex-wrap:wrap;\n",
              "      gap: 12px;\n",
              "    }\n",
              "\n",
              "    .colab-df-convert {\n",
              "      background-color: #E8F0FE;\n",
              "      border: none;\n",
              "      border-radius: 50%;\n",
              "      cursor: pointer;\n",
              "      display: none;\n",
              "      fill: #1967D2;\n",
              "      height: 32px;\n",
              "      padding: 0 0 0 0;\n",
              "      width: 32px;\n",
              "    }\n",
              "\n",
              "    .colab-df-convert:hover {\n",
              "      background-color: #E2EBFA;\n",
              "      box-shadow: 0px 1px 2px rgba(60, 64, 67, 0.3), 0px 1px 3px 1px rgba(60, 64, 67, 0.15);\n",
              "      fill: #174EA6;\n",
              "    }\n",
              "\n",
              "    [theme=dark] .colab-df-convert {\n",
              "      background-color: #3B4455;\n",
              "      fill: #D2E3FC;\n",
              "    }\n",
              "\n",
              "    [theme=dark] .colab-df-convert:hover {\n",
              "      background-color: #434B5C;\n",
              "      box-shadow: 0px 1px 3px 1px rgba(0, 0, 0, 0.15);\n",
              "      filter: drop-shadow(0px 1px 2px rgba(0, 0, 0, 0.3));\n",
              "      fill: #FFFFFF;\n",
              "    }\n",
              "  </style>\n",
              "\n",
              "      <script>\n",
              "        const buttonEl =\n",
              "          document.querySelector('#df-b78603d5-de58-4b9f-b77f-1fdf47b69f32 button.colab-df-convert');\n",
              "        buttonEl.style.display =\n",
              "          google.colab.kernel.accessAllowed ? 'block' : 'none';\n",
              "\n",
              "        async function convertToInteractive(key) {\n",
              "          const element = document.querySelector('#df-b78603d5-de58-4b9f-b77f-1fdf47b69f32');\n",
              "          const dataTable =\n",
              "            await google.colab.kernel.invokeFunction('convertToInteractive',\n",
              "                                                     [key], {});\n",
              "          if (!dataTable) return;\n",
              "\n",
              "          const docLinkHtml = 'Like what you see? Visit the ' +\n",
              "            '<a target=\"_blank\" href=https://colab.research.google.com/notebooks/data_table.ipynb>data table notebook</a>'\n",
              "            + ' to learn more about interactive tables.';\n",
              "          element.innerHTML = '';\n",
              "          dataTable['output_type'] = 'display_data';\n",
              "          await google.colab.output.renderOutput(dataTable, element);\n",
              "          const docLink = document.createElement('div');\n",
              "          docLink.innerHTML = docLinkHtml;\n",
              "          element.appendChild(docLink);\n",
              "        }\n",
              "      </script>\n",
              "    </div>\n",
              "  </div>\n",
              "  "
            ]
          },
          "metadata": {},
          "execution_count": 161
        }
      ]
    },
    {
      "cell_type": "markdown",
      "source": [
        "**2. Creando un DataFrame usando diccionarios**"
      ],
      "metadata": {
        "id": "zstDF--Faufi"
      }
    },
    {
      "cell_type": "code",
      "source": [
        "# Listas usadas para el ejemplo\n",
        "states = ['California', 'Texas', 'Florida', 'New York']\n",
        "population = [39613493, 29730311, 21944577, 19299981]"
      ],
      "metadata": {
        "id": "FsxEyTLCOnN9"
      },
      "execution_count": null,
      "outputs": []
    },
    {
      "cell_type": "code",
      "source": [
        "#Almacenado listas en un diccionario\n",
        "dict_states = {'States':states, 'Population':population}"
      ],
      "metadata": {
        "id": "PN3ZxFsUa4bv"
      },
      "execution_count": null,
      "outputs": []
    },
    {
      "cell_type": "code",
      "source": [
        "#creando el dataframe\n",
        "pd.DataFrame(dict_states)"
      ],
      "metadata": {
        "colab": {
          "base_uri": "https://localhost:8080/",
          "height": 175
        },
        "id": "PprdNFODa4Wj",
        "outputId": "0f5e79bc-03ae-46a4-efdf-0deff9ba9de6"
      },
      "execution_count": null,
      "outputs": [
        {
          "output_type": "execute_result",
          "data": {
            "text/plain": [
              "       States  Population\n",
              "0  California    39613493\n",
              "1       Texas    29730311\n",
              "2     Florida    21944577\n",
              "3    New York    19299981"
            ],
            "text/html": [
              "\n",
              "  <div id=\"df-7c85d859-2ade-40b8-89bd-0609262490e1\">\n",
              "    <div class=\"colab-df-container\">\n",
              "      <div>\n",
              "<style scoped>\n",
              "    .dataframe tbody tr th:only-of-type {\n",
              "        vertical-align: middle;\n",
              "    }\n",
              "\n",
              "    .dataframe tbody tr th {\n",
              "        vertical-align: top;\n",
              "    }\n",
              "\n",
              "    .dataframe thead th {\n",
              "        text-align: right;\n",
              "    }\n",
              "</style>\n",
              "<table border=\"1\" class=\"dataframe\">\n",
              "  <thead>\n",
              "    <tr style=\"text-align: right;\">\n",
              "      <th></th>\n",
              "      <th>States</th>\n",
              "      <th>Population</th>\n",
              "    </tr>\n",
              "  </thead>\n",
              "  <tbody>\n",
              "    <tr>\n",
              "      <th>0</th>\n",
              "      <td>California</td>\n",
              "      <td>39613493</td>\n",
              "    </tr>\n",
              "    <tr>\n",
              "      <th>1</th>\n",
              "      <td>Texas</td>\n",
              "      <td>29730311</td>\n",
              "    </tr>\n",
              "    <tr>\n",
              "      <th>2</th>\n",
              "      <td>Florida</td>\n",
              "      <td>21944577</td>\n",
              "    </tr>\n",
              "    <tr>\n",
              "      <th>3</th>\n",
              "      <td>New York</td>\n",
              "      <td>19299981</td>\n",
              "    </tr>\n",
              "  </tbody>\n",
              "</table>\n",
              "</div>\n",
              "      <button class=\"colab-df-convert\" onclick=\"convertToInteractive('df-7c85d859-2ade-40b8-89bd-0609262490e1')\"\n",
              "              title=\"Convert this dataframe to an interactive table.\"\n",
              "              style=\"display:none;\">\n",
              "        \n",
              "  <svg xmlns=\"http://www.w3.org/2000/svg\" height=\"24px\"viewBox=\"0 0 24 24\"\n",
              "       width=\"24px\">\n",
              "    <path d=\"M0 0h24v24H0V0z\" fill=\"none\"/>\n",
              "    <path d=\"M18.56 5.44l.94 2.06.94-2.06 2.06-.94-2.06-.94-.94-2.06-.94 2.06-2.06.94zm-11 1L8.5 8.5l.94-2.06 2.06-.94-2.06-.94L8.5 2.5l-.94 2.06-2.06.94zm10 10l.94 2.06.94-2.06 2.06-.94-2.06-.94-.94-2.06-.94 2.06-2.06.94z\"/><path d=\"M17.41 7.96l-1.37-1.37c-.4-.4-.92-.59-1.43-.59-.52 0-1.04.2-1.43.59L10.3 9.45l-7.72 7.72c-.78.78-.78 2.05 0 2.83L4 21.41c.39.39.9.59 1.41.59.51 0 1.02-.2 1.41-.59l7.78-7.78 2.81-2.81c.8-.78.8-2.07 0-2.86zM5.41 20L4 18.59l7.72-7.72 1.47 1.35L5.41 20z\"/>\n",
              "  </svg>\n",
              "      </button>\n",
              "      \n",
              "  <style>\n",
              "    .colab-df-container {\n",
              "      display:flex;\n",
              "      flex-wrap:wrap;\n",
              "      gap: 12px;\n",
              "    }\n",
              "\n",
              "    .colab-df-convert {\n",
              "      background-color: #E8F0FE;\n",
              "      border: none;\n",
              "      border-radius: 50%;\n",
              "      cursor: pointer;\n",
              "      display: none;\n",
              "      fill: #1967D2;\n",
              "      height: 32px;\n",
              "      padding: 0 0 0 0;\n",
              "      width: 32px;\n",
              "    }\n",
              "\n",
              "    .colab-df-convert:hover {\n",
              "      background-color: #E2EBFA;\n",
              "      box-shadow: 0px 1px 2px rgba(60, 64, 67, 0.3), 0px 1px 3px 1px rgba(60, 64, 67, 0.15);\n",
              "      fill: #174EA6;\n",
              "    }\n",
              "\n",
              "    [theme=dark] .colab-df-convert {\n",
              "      background-color: #3B4455;\n",
              "      fill: #D2E3FC;\n",
              "    }\n",
              "\n",
              "    [theme=dark] .colab-df-convert:hover {\n",
              "      background-color: #434B5C;\n",
              "      box-shadow: 0px 1px 3px 1px rgba(0, 0, 0, 0.15);\n",
              "      filter: drop-shadow(0px 1px 2px rgba(0, 0, 0, 0.3));\n",
              "      fill: #FFFFFF;\n",
              "    }\n",
              "  </style>\n",
              "\n",
              "      <script>\n",
              "        const buttonEl =\n",
              "          document.querySelector('#df-7c85d859-2ade-40b8-89bd-0609262490e1 button.colab-df-convert');\n",
              "        buttonEl.style.display =\n",
              "          google.colab.kernel.accessAllowed ? 'block' : 'none';\n",
              "\n",
              "        async function convertToInteractive(key) {\n",
              "          const element = document.querySelector('#df-7c85d859-2ade-40b8-89bd-0609262490e1');\n",
              "          const dataTable =\n",
              "            await google.colab.kernel.invokeFunction('convertToInteractive',\n",
              "                                                     [key], {});\n",
              "          if (!dataTable) return;\n",
              "\n",
              "          const docLinkHtml = 'Like what you see? Visit the ' +\n",
              "            '<a target=\"_blank\" href=https://colab.research.google.com/notebooks/data_table.ipynb>data table notebook</a>'\n",
              "            + ' to learn more about interactive tables.';\n",
              "          element.innerHTML = '';\n",
              "          dataTable['output_type'] = 'display_data';\n",
              "          await google.colab.output.renderOutput(dataTable, element);\n",
              "          const docLink = document.createElement('div');\n",
              "          docLink.innerHTML = docLinkHtml;\n",
              "          element.appendChild(docLink);\n",
              "        }\n",
              "      </script>\n",
              "    </div>\n",
              "  </div>\n",
              "  "
            ]
          },
          "metadata": {},
          "execution_count": 165
        }
      ]
    },
    {
      "cell_type": "code",
      "source": [
        "#creando el dataframe\n",
        "df_population = pd.DataFrame(dict_states)"
      ],
      "metadata": {
        "id": "zJd8dUYxcW03"
      },
      "execution_count": null,
      "outputs": []
    },
    {
      "cell_type": "code",
      "source": [
        "#mostrando el dataframe\n",
        "df_population"
      ],
      "metadata": {
        "colab": {
          "base_uri": "https://localhost:8080/",
          "height": 196
        },
        "id": "HFfYVboHa4QY",
        "outputId": "cb8b0d99-9ba6-4400-87b7-e70f4e657e53"
      },
      "execution_count": null,
      "outputs": [
        {
          "output_type": "execute_result",
          "data": {
            "text/plain": [
              "       States  Population\n",
              "0  California    39613493\n",
              "1       Texas    29730311\n",
              "2     Florida    21944577\n",
              "3    New York    19299981"
            ],
            "text/html": [
              "\n",
              "  <div id=\"df-70a59a06-05bb-43e7-8128-eb202099ad48\">\n",
              "    <div class=\"colab-df-container\">\n",
              "      <div>\n",
              "<style scoped>\n",
              "    .dataframe tbody tr th:only-of-type {\n",
              "        vertical-align: middle;\n",
              "    }\n",
              "\n",
              "    .dataframe tbody tr th {\n",
              "        vertical-align: top;\n",
              "    }\n",
              "\n",
              "    .dataframe thead th {\n",
              "        text-align: right;\n",
              "    }\n",
              "</style>\n",
              "<table border=\"1\" class=\"dataframe\">\n",
              "  <thead>\n",
              "    <tr style=\"text-align: right;\">\n",
              "      <th></th>\n",
              "      <th>States</th>\n",
              "      <th>Population</th>\n",
              "    </tr>\n",
              "  </thead>\n",
              "  <tbody>\n",
              "    <tr>\n",
              "      <th>0</th>\n",
              "      <td>California</td>\n",
              "      <td>39613493</td>\n",
              "    </tr>\n",
              "    <tr>\n",
              "      <th>1</th>\n",
              "      <td>Texas</td>\n",
              "      <td>29730311</td>\n",
              "    </tr>\n",
              "    <tr>\n",
              "      <th>2</th>\n",
              "      <td>Florida</td>\n",
              "      <td>21944577</td>\n",
              "    </tr>\n",
              "    <tr>\n",
              "      <th>3</th>\n",
              "      <td>New York</td>\n",
              "      <td>19299981</td>\n",
              "    </tr>\n",
              "  </tbody>\n",
              "</table>\n",
              "</div>\n",
              "      <button class=\"colab-df-convert\" onclick=\"convertToInteractive('df-70a59a06-05bb-43e7-8128-eb202099ad48')\"\n",
              "              title=\"Convert this dataframe to an interactive table.\"\n",
              "              style=\"display:none;\">\n",
              "        \n",
              "  <svg xmlns=\"http://www.w3.org/2000/svg\" height=\"24px\"viewBox=\"0 0 24 24\"\n",
              "       width=\"24px\">\n",
              "    <path d=\"M0 0h24v24H0V0z\" fill=\"none\"/>\n",
              "    <path d=\"M18.56 5.44l.94 2.06.94-2.06 2.06-.94-2.06-.94-.94-2.06-.94 2.06-2.06.94zm-11 1L8.5 8.5l.94-2.06 2.06-.94-2.06-.94L8.5 2.5l-.94 2.06-2.06.94zm10 10l.94 2.06.94-2.06 2.06-.94-2.06-.94-.94-2.06-.94 2.06-2.06.94z\"/><path d=\"M17.41 7.96l-1.37-1.37c-.4-.4-.92-.59-1.43-.59-.52 0-1.04.2-1.43.59L10.3 9.45l-7.72 7.72c-.78.78-.78 2.05 0 2.83L4 21.41c.39.39.9.59 1.41.59.51 0 1.02-.2 1.41-.59l7.78-7.78 2.81-2.81c.8-.78.8-2.07 0-2.86zM5.41 20L4 18.59l7.72-7.72 1.47 1.35L5.41 20z\"/>\n",
              "  </svg>\n",
              "      </button>\n",
              "      \n",
              "  <style>\n",
              "    .colab-df-container {\n",
              "      display:flex;\n",
              "      flex-wrap:wrap;\n",
              "      gap: 12px;\n",
              "    }\n",
              "\n",
              "    .colab-df-convert {\n",
              "      background-color: #E8F0FE;\n",
              "      border: none;\n",
              "      border-radius: 50%;\n",
              "      cursor: pointer;\n",
              "      display: none;\n",
              "      fill: #1967D2;\n",
              "      height: 32px;\n",
              "      padding: 0 0 0 0;\n",
              "      width: 32px;\n",
              "    }\n",
              "\n",
              "    .colab-df-convert:hover {\n",
              "      background-color: #E2EBFA;\n",
              "      box-shadow: 0px 1px 2px rgba(60, 64, 67, 0.3), 0px 1px 3px 1px rgba(60, 64, 67, 0.15);\n",
              "      fill: #174EA6;\n",
              "    }\n",
              "\n",
              "    [theme=dark] .colab-df-convert {\n",
              "      background-color: #3B4455;\n",
              "      fill: #D2E3FC;\n",
              "    }\n",
              "\n",
              "    [theme=dark] .colab-df-convert:hover {\n",
              "      background-color: #434B5C;\n",
              "      box-shadow: 0px 1px 3px 1px rgba(0, 0, 0, 0.15);\n",
              "      filter: drop-shadow(0px 1px 2px rgba(0, 0, 0, 0.3));\n",
              "      fill: #FFFFFF;\n",
              "    }\n",
              "  </style>\n",
              "\n",
              "      <script>\n",
              "        const buttonEl =\n",
              "          document.querySelector('#df-70a59a06-05bb-43e7-8128-eb202099ad48 button.colab-df-convert');\n",
              "        buttonEl.style.display =\n",
              "          google.colab.kernel.accessAllowed ? 'block' : 'none';\n",
              "\n",
              "        async function convertToInteractive(key) {\n",
              "          const element = document.querySelector('#df-70a59a06-05bb-43e7-8128-eb202099ad48');\n",
              "          const dataTable =\n",
              "            await google.colab.kernel.invokeFunction('convertToInteractive',\n",
              "                                                     [key], {});\n",
              "          if (!dataTable) return;\n",
              "\n",
              "          const docLinkHtml = 'Like what you see? Visit the ' +\n",
              "            '<a target=\"_blank\" href=https://colab.research.google.com/notebooks/data_table.ipynb>data table notebook</a>'\n",
              "            + ' to learn more about interactive tables.';\n",
              "          element.innerHTML = '';\n",
              "          dataTable['output_type'] = 'display_data';\n",
              "          await google.colab.output.renderOutput(dataTable, element);\n",
              "          const docLink = document.createElement('div');\n",
              "          docLink.innerHTML = docLinkHtml;\n",
              "          element.appendChild(docLink);\n",
              "        }\n",
              "      </script>\n",
              "    </div>\n",
              "  </div>\n",
              "  "
            ]
          },
          "metadata": {},
          "execution_count": 168
        }
      ]
    },
    {
      "cell_type": "markdown",
      "source": [
        "**3. Creando un dataframe con archivos csv**"
      ],
      "metadata": {
        "id": "-SXpQwOgdIad"
      }
    },
    {
      "cell_type": "code",
      "source": [
        "# leyendo  el archivo csv\n",
        "df_exams = pd.read_csv('StudentsPerformance.csv')\n"
      ],
      "metadata": {
        "id": "AAUI0UJnbLQW"
      },
      "execution_count": null,
      "outputs": []
    },
    {
      "cell_type": "code",
      "source": [
        "# mostrando el dataframe\n",
        "df_exams\n"
      ],
      "metadata": {
        "id": "VMt6HKG-bLLZ"
      },
      "execution_count": null,
      "outputs": []
    },
    {
      "cell_type": "code",
      "source": [],
      "metadata": {
        "id": "KTaTurLFa4IQ"
      },
      "execution_count": null,
      "outputs": []
    }
  ]
}