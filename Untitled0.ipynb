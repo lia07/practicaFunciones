{
  "nbformat": 4,
  "nbformat_minor": 0,
  "metadata": {
    "colab": {
      "provenance": [],
      "authorship_tag": "ABX9TyMhD4HCVD1cT8oEuUhxm929",
      "include_colab_link": true
    },
    "kernelspec": {
      "name": "python3",
      "display_name": "Python 3"
    },
    "language_info": {
      "name": "python"
    }
  },
  "cells": [
    {
      "cell_type": "markdown",
      "metadata": {
        "id": "view-in-github",
        "colab_type": "text"
      },
      "source": [
        "<a href=\"https://colab.research.google.com/github/lia07/practicaFunciones/blob/master/Untitled0.ipynb\" target=\"_parent\"><img src=\"https://colab.research.google.com/assets/colab-badge.svg\" alt=\"Open In Colab\"/></a>"
      ]
    },
    {
      "cell_type": "code",
      "execution_count": 6,
      "metadata": {
        "colab": {
          "base_uri": "https://localhost:8080/"
        },
        "id": "nn8Lh4b65cvq",
        "outputId": "085f876f-8914-4ae8-fc30-0a0e41f98353"
      },
      "outputs": [
        {
          "output_type": "stream",
          "name": "stdout",
          "text": [
            "Ingrese la primera nota:  4.4\n",
            "Ingrese la segunda nota:  4\n",
            "Ingrese la tercera nota:  4.6\n",
            "La nota final del estudiante es: 4.36\n"
          ]
        }
      ],
      "source": [
        "#EJERCICIOS DE FUNCIONES\n",
        "\"\"\" PROGRAME QUE TOME LAS 3 NOTAS DE UN ESTUDIANTE Y DIG  LA NOTA FINAL DEL CURSO.\n",
        "TENGA ENCUENTA QUE LA PRIMERA Y SEGUNDA NOTA VALEN EL 30% DE LA NOTA FINAL. LA TERCERA NOTA VALE 40%.\n",
        "\"\"\"\n",
        "\n",
        "def calcular_nota(n1, n2, n3):\n",
        "  return(n1*0.3) + (n2*0.3) + (n3*0.4)\n",
        "\n",
        "n1 = float(input(\"Ingrese la primera nota:  \"))\n",
        "n2 = float(input(\"Ingrese la segunda nota:  \"))\n",
        "n3 = float(input(\"Ingrese la tercera nota:  \"))\n",
        "\n",
        "nota_final = calcular_nota(n1, n2, n3)\n",
        "\n",
        "print(\"La nota final del estudiante es:\", round(nota_final, 2))\n"
      ]
    },
    {
      "cell_type": "code",
      "source": [
        "#ejercicio de funciones\n",
        "\n",
        "\"\"\"\n",
        "Realiza una funcion que imprima hola mundo\n",
        "\"\"\"\n",
        "def hola_mundo():\n",
        "  print(\"Hola Mundo\")\n"
      ],
      "metadata": {
        "id": "31RUM8DpPDh7"
      },
      "execution_count": 8,
      "outputs": []
    },
    {
      "cell_type": "code",
      "source": [
        "#Realiza una funcion que sume dos numeros pasados por parametros\n",
        "\n",
        "\n",
        "def suma_numeros(num1, num2):\n",
        "  return num1 + num2"
      ],
      "metadata": {
        "id": "BNhFPmYEQuJg"
      },
      "execution_count": 13,
      "outputs": []
    },
    {
      "cell_type": "code",
      "source": [
        "\n",
        "def es_par(numero):\n",
        "  return (numero%2==0)"
      ],
      "metadata": {
        "id": "SGUns7teS1iF"
      },
      "execution_count": 10,
      "outputs": []
    }
  ]
}