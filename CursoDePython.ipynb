{
  "nbformat": 4,
  "nbformat_minor": 0,
  "metadata": {
    "colab": {
      "provenance": [],
      "authorship_tag": "ABX9TyOlZIJLTQkIqLBoW7qxbbqO",
      "include_colab_link": true
    },
    "kernelspec": {
      "name": "python3",
      "display_name": "Python 3"
    }
  },
  "cells": [
    {
      "cell_type": "markdown",
      "metadata": {
        "id": "view-in-github",
        "colab_type": "text"
      },
      "source": [
        "<a href=\"https://colab.research.google.com/github/lia07/practicaFunciones/blob/master/CursoDePython.ipynb\" target=\"_parent\"><img src=\"https://colab.research.google.com/assets/colab-badge.svg\" alt=\"Open In Colab\"/></a>"
      ]
    },
    {
      "cell_type": "code",
      "metadata": {
        "colab": {
          "base_uri": "https://localhost:8080/"
        },
        "id": "WXbR5jOxCCLl",
        "outputId": "a161e135-c632-4c2c-9e13-cbd0d7e09d96"
      },
      "source": [
        "a = {0,1,2,3,4,4}\n",
        "print(len(a))"
      ],
      "execution_count": null,
      "outputs": [
        {
          "output_type": "stream",
          "text": [
            "5\n"
          ],
          "name": "stdout"
        }
      ]
    },
    {
      "cell_type": "code",
      "metadata": {
        "id": "Sp7qqZlzGh2F"
      },
      "source": [
        "# ordenar listas con la funcion sorted\n",
        "bs = [5,2,6,1,8]\n",
        "cs = sorted(bs)\n",
        "print(cs)"
      ],
      "execution_count": null,
      "outputs": []
    },
    {
      "cell_type": "code",
      "metadata": {
        "colab": {
          "base_uri": "https://localhost:8080/"
        },
        "id": "kXhURkQ0LtxB",
        "outputId": "09203c1e-d8d1-4719-947a-1251e1c40c87"
      },
      "source": [
        "# mantener lista en su orden con la funcion sort\n",
        "bs = [5,2,6,1,8]\n",
        "cs.sort()\n",
        "print(cs)"
      ],
      "execution_count": null,
      "outputs": [
        {
          "output_type": "stream",
          "text": [
            "[1, 2, 5, 6, 8]\n"
          ],
          "name": "stdout"
        }
      ]
    },
    {
      "cell_type": "code",
      "metadata": {
        "id": "fcMMPXh6M8H3"
      },
      "source": [
        "lista=[2,5,0]\n",
        "a,b,c = lista[::-1]\n",
        "print(a)"
      ],
      "execution_count": null,
      "outputs": []
    },
    {
      "cell_type": "code",
      "metadata": {
        "id": "G_Zx4KGCOzXb"
      },
      "source": [
        "tupla=(1,2,3,4)\n",
        "tupla.append([5,6,7])\n",
        "print(len(tupla))"
      ],
      "execution_count": null,
      "outputs": []
    },
    {
      "cell_type": "markdown",
      "metadata": {
        "id": "kE1NYsawQm8Y"
      },
      "source": [
        "PYTHON PARTE I: Programming Essential in Python"
      ]
    },
    {
      "cell_type": "markdown",
      "metadata": {
        "id": "MoG5sRCk5VuT"
      },
      "source": [
        "Clase 1"
      ]
    },
    {
      "cell_type": "code",
      "metadata": {
        "id": "nFCVcTSQQxau"
      },
      "source": [
        "2+2"
      ],
      "execution_count": null,
      "outputs": []
    },
    {
      "cell_type": "markdown",
      "metadata": {
        "id": "l4NIZu255UAS"
      },
      "source": [
        "Clase 2"
      ]
    },
    {
      "cell_type": "code",
      "metadata": {
        "colab": {
          "base_uri": "https://localhost:8080/"
        },
        "id": "PilWoi7f5jtD",
        "outputId": "2845f782-327d-465a-8323-2411364d8530"
      },
      "source": [
        "print(\"Hola mundo\")\n",
        "print('Bienvenidos a la clase 1')"
      ],
      "execution_count": null,
      "outputs": [
        {
          "output_type": "stream",
          "text": [
            "Hola mundo\n",
            "Bienvenidos a la clase 1\n"
          ],
          "name": "stdout"
        }
      ]
    }
  ]
}