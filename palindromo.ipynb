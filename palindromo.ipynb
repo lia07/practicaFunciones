{
  "nbformat": 4,
  "nbformat_minor": 0,
  "metadata": {
    "colab": {
      "provenance": [],
      "authorship_tag": "ABX9TyPLJ+Z90PyKO09+aXnQAJxL",
      "include_colab_link": true
    },
    "kernelspec": {
      "name": "python3",
      "display_name": "Python 3"
    },
    "language_info": {
      "name": "python"
    }
  },
  "cells": [
    {
      "cell_type": "markdown",
      "metadata": {
        "id": "view-in-github",
        "colab_type": "text"
      },
      "source": [
        "<a href=\"https://colab.research.google.com/github/lia07/practicaFunciones/blob/master/palindromo.ipynb\" target=\"_parent\"><img src=\"https://colab.research.google.com/assets/colab-badge.svg\" alt=\"Open In Colab\"/></a>"
      ]
    },
    {
      "cell_type": "markdown",
      "source": [
        "Desafios 01"
      ],
      "metadata": {
        "id": "hTyOgECBstzs"
      }
    },
    {
      "cell_type": "code",
      "source": [
        "#Palindromo\n",
        "\n",
        "def es_palindromo(texto):\n",
        "\n",
        "  texto_minuscula = texto.lower()\n",
        "  texto_sin_espacios = texto_minuscula.replace(\"\", \"\")\n",
        "  return texto_sin_espacios == texto_sin_espacios[::-1]\n",
        "\n",
        "print(es_palindromo(\"Anita lava la tina\"))  #True\n",
        "print(es_palindromo(\"palindromo\"))          #False"
      ],
      "metadata": {
        "colab": {
          "base_uri": "https://localhost:8080/"
        },
        "id": "M1pDfcjetAGB",
        "outputId": "dfabcc7b-7158-4aeb-a333-116ecc55dcf2"
      },
      "execution_count": 7,
      "outputs": [
        {
          "output_type": "stream",
          "name": "stdout",
          "text": [
            "False\n",
            "False\n"
          ]
        }
      ]
    },
    {
      "cell_type": "markdown",
      "source": [
        "primera_letra_repetida #02"
      ],
      "metadata": {
        "id": "q7BIbkEDv5zj"
      }
    },
    {
      "cell_type": "code",
      "source": [
        "#primera_letra_repetida\n",
        "\n",
        "def primera_letra_repetida(texto):\n",
        "\n",
        "  texto_minuscula = texto.lower()\n",
        "  texto_sin_espacios = texto_minuscula.replace(\" \", \"\")\n",
        "  lista_letras = []\n",
        "  for letra in texto_sin_espacios:\n",
        "    if letra in lista_letras:\n",
        "      return letra\n",
        "    else:\n",
        "      lista_letras.append(letra)\n",
        "\n",
        "  return None\n",
        "\n",
        "print(primera_letra_repetida(\"saltar\"))   #a\n",
        "print(primera_letra_repetida(\"me gusta\")) # None"
      ],
      "metadata": {
        "colab": {
          "base_uri": "https://localhost:8080/"
        },
        "id": "AojJJvOetDOk",
        "outputId": "307c8882-1045-4f57-8aa9-5db12ff3b93d"
      },
      "execution_count": 10,
      "outputs": [
        {
          "output_type": "stream",
          "name": "stdout",
          "text": [
            "a\n",
            "None\n"
          ]
        }
      ]
    },
    {
      "cell_type": "markdown",
      "source": [
        "# **desafios_estructuras_datos 03**"
      ],
      "metadata": {
        "id": "peRlQ6_URsBJ"
      }
    },
    {
      "cell_type": "code",
      "source": [
        "#desafios_estructuras_datos 03\n",
        "#03_01_ordenamiento_burbuja.py\n",
        "\n",
        "def ordenamiento_burbuja(lista):\n",
        "  for i in range(len(lista)):\n",
        "    for j in range(0, len(lista) -i -1):\n",
        "\n",
        "      if lista[j] > lista[j+1]:\n",
        "        temporal = lista[j]\n",
        "        lista[j] = lista[j+1]\n",
        "        lista[j+1] = temporal\n",
        "\n",
        "    return lista\n",
        "\n",
        "print(ordenamiento_burbuja([3,8,4,1,2])) #[1,2,3,4,8]"
      ],
      "metadata": {
        "colab": {
          "base_uri": "https://localhost:8080/"
        },
        "id": "F9vN-WmCtDJk",
        "outputId": "f537b5ac-18bc-4a74-9c87-ed94e6e244fd"
      },
      "execution_count": 3,
      "outputs": [
        {
          "output_type": "stream",
          "name": "stdout",
          "text": [
            "[3, 4, 1, 2, 8]\n"
          ]
        }
      ]
    },
    {
      "cell_type": "code",
      "source": [],
      "metadata": {
        "id": "oM0iIicHtDGj"
      },
      "execution_count": null,
      "outputs": []
    },
    {
      "cell_type": "code",
      "source": [],
      "metadata": {
        "id": "LL5fwucPtDCt"
      },
      "execution_count": null,
      "outputs": []
    },
    {
      "cell_type": "code",
      "source": [],
      "metadata": {
        "id": "boi1ZYcCtC_y"
      },
      "execution_count": null,
      "outputs": []
    },
    {
      "cell_type": "code",
      "source": [],
      "metadata": {
        "id": "yPhSDlJ_tC8C"
      },
      "execution_count": null,
      "outputs": []
    },
    {
      "cell_type": "code",
      "source": [],
      "metadata": {
        "id": "h3efb_kFtC4t"
      },
      "execution_count": null,
      "outputs": []
    },
    {
      "cell_type": "code",
      "source": [],
      "metadata": {
        "id": "F5LDEkbItC00"
      },
      "execution_count": null,
      "outputs": []
    },
    {
      "cell_type": "code",
      "source": [],
      "metadata": {
        "id": "SB6A1PxBtCx9"
      },
      "execution_count": null,
      "outputs": []
    }
  ]
}