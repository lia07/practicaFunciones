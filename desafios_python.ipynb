{
  "nbformat": 4,
  "nbformat_minor": 0,
  "metadata": {
    "colab": {
      "provenance": [],
      "authorship_tag": "ABX9TyPHKj2oDYYt99UCeHSIL6YG",
      "include_colab_link": true
    },
    "kernelspec": {
      "name": "python3",
      "display_name": "Python 3"
    },
    "language_info": {
      "name": "python"
    }
  },
  "cells": [
    {
      "cell_type": "markdown",
      "metadata": {
        "id": "view-in-github",
        "colab_type": "text"
      },
      "source": [
        "<a href=\"https://colab.research.google.com/github/lia07/practicaFunciones/blob/master/desafios_python.ipynb\" target=\"_parent\"><img src=\"https://colab.research.google.com/assets/colab-badge.svg\" alt=\"Open In Colab\"/></a>"
      ]
    },
    {
      "cell_type": "markdown",
      "source": [
        "# **Desafios_python 01**"
      ],
      "metadata": {
        "id": "hTyOgECBstzs"
      }
    },
    {
      "cell_type": "code",
      "source": [
        "#Palindromo\n",
        "\n",
        "def es_palindromo(texto):\n",
        "\n",
        "  texto_minuscula = texto.lower()\n",
        "  texto_sin_espacios = texto_minuscula.replace(\"\", \"\")\n",
        "  return texto_sin_espacios == texto_sin_espacios[::-1]\n",
        "\n",
        "print(es_palindromo(\"Anita lava la tina\"))  #True\n",
        "print(es_palindromo(\"palindromo\"))          #False"
      ],
      "metadata": {
        "colab": {
          "base_uri": "https://localhost:8080/"
        },
        "id": "M1pDfcjetAGB",
        "outputId": "dfabcc7b-7158-4aeb-a333-116ecc55dcf2"
      },
      "execution_count": 7,
      "outputs": [
        {
          "output_type": "stream",
          "name": "stdout",
          "text": [
            "False\n",
            "False\n"
          ]
        }
      ]
    },
    {
      "cell_type": "markdown",
      "source": [
        "primera_letra_repetida #02"
      ],
      "metadata": {
        "id": "q7BIbkEDv5zj"
      }
    },
    {
      "cell_type": "code",
      "source": [
        "#primera_letra_repetida\n",
        "\n",
        "def primera_letra_repetida(texto):\n",
        "\n",
        "  texto_minuscula = texto.lower()\n",
        "  texto_sin_espacios = texto_minuscula.replace(\" \", \"\")\n",
        "  lista_letras = []\n",
        "  for letra in texto_sin_espacios:\n",
        "    if letra in lista_letras:\n",
        "      return letra\n",
        "    else:\n",
        "      lista_letras.append(letra)\n",
        "\n",
        "  return None\n",
        "\n",
        "print(primera_letra_repetida(\"saltar\"))   #a\n",
        "print(primera_letra_repetida(\"me gusta\")) # None"
      ],
      "metadata": {
        "colab": {
          "base_uri": "https://localhost:8080/"
        },
        "id": "AojJJvOetDOk",
        "outputId": "307c8882-1045-4f57-8aa9-5db12ff3b93d"
      },
      "execution_count": 10,
      "outputs": [
        {
          "output_type": "stream",
          "name": "stdout",
          "text": [
            "a\n",
            "None\n"
          ]
        }
      ]
    },
    {
      "cell_type": "markdown",
      "source": [
        "# **desafios_estructuras_datos 03**"
      ],
      "metadata": {
        "id": "peRlQ6_URsBJ"
      }
    },
    {
      "cell_type": "code",
      "source": [
        "#desafios_estructuras_datos 03\n",
        "#03_01_ordenamiento_burbuja.py\n",
        "\n",
        "def ordenamiento_burbuja(lista):\n",
        "  for i in range(len(lista)):\n",
        "    for j in range(0, len(lista) -i -1):\n",
        "\n",
        "      if lista[j] > lista[j+1]:\n",
        "        temporal = lista[j]\n",
        "        lista[j] = lista[j+1]\n",
        "        lista[j+1] = temporal\n",
        "\n",
        "  return lista\n",
        "\n",
        "print(ordenamiento_burbuja([3,8,4,1,2])) #[1,2,3,4,8]"
      ],
      "metadata": {
        "colab": {
          "base_uri": "https://localhost:8080/"
        },
        "id": "F9vN-WmCtDJk",
        "outputId": "55bb4c47-eac8-4a55-8524-038ec10e546f"
      },
      "execution_count": 6,
      "outputs": [
        {
          "output_type": "stream",
          "name": "stdout",
          "text": [
            "[1, 2, 3, 4, 8]\n"
          ]
        }
      ]
    },
    {
      "cell_type": "markdown",
      "source": [
        "# **03_02_duplicados_lista.py **"
      ],
      "metadata": {
        "id": "q2jppLbfUR57"
      }
    },
    {
      "cell_type": "code",
      "source": [
        "#03_02_duplicados_lista.py \n",
        "\n",
        "def encontrar_duplicados(lista):\n",
        "\n",
        "  elementos_lista = []\n",
        "  duplicados = []\n",
        "\n",
        "  for elemento in lista:\n",
        "\n",
        "    if elemento in elementos_lista:\n",
        "      duplicados.append(elemento)\n",
        "    \n",
        "    else:\n",
        "      elementos_lista.append(elemento)\n",
        "    \n",
        "  return duplicados\n",
        "\n",
        "print(encontrar_duplicados([\"ana\", \"paco\", \"paco\", \"emilio\", \"javier\", \"ana\"])) #\"paco\", \"ana\"\n"
      ],
      "metadata": {
        "colab": {
          "base_uri": "https://localhost:8080/"
        },
        "id": "oM0iIicHtDGj",
        "outputId": "b4a84eff-6d5f-4a4c-896e-d60545b19def"
      },
      "execution_count": 5,
      "outputs": [
        {
          "output_type": "stream",
          "name": "stdout",
          "text": [
            "['paco', 'ana']\n"
          ]
        }
      ]
    },
    {
      "cell_type": "markdown",
      "source": [
        "## **03_03_aplanar_lista.py**"
      ],
      "metadata": {
        "id": "1V8ks1RRVt1n"
      }
    },
    {
      "cell_type": "code",
      "source": [
        "#03_03_aplanar_lista.py\n",
        "\n",
        "def aplanar_lista(lista):\n",
        "\n",
        "    nueva_lista = []\n",
        "\n",
        "    for elemento in lista:\n",
        "\n",
        "        if type(elemento) is list:\n",
        "            nueva_lista.extend(elemento)\n",
        "        else:\n",
        "            nueva_lista.append(elemento)\n",
        "\n",
        "    return nueva_lista\n",
        "\n",
        "\n",
        "print(aplanar_lista([2, 3, 4, [3, 2]])) # [2, 3, 4, 3, 2]\n",
        "print(aplanar_lista([2, 3, 4, [[2]]])) # [2, 3, 4. [2]]"
      ],
      "metadata": {
        "colab": {
          "base_uri": "https://localhost:8080/"
        },
        "id": "LL5fwucPtDCt",
        "outputId": "6a1660c5-e6b2-4374-b7ac-f6fa633a8a54"
      },
      "execution_count": 7,
      "outputs": [
        {
          "output_type": "stream",
          "name": "stdout",
          "text": [
            "[2, 3, 4, 3, 2]\n",
            "[2, 3, 4, [2]]\n"
          ]
        }
      ]
    },
    {
      "cell_type": "markdown",
      "source": [
        "# **03_04_triangulo_pascal.py**"
      ],
      "metadata": {
        "id": "XZTi-8taW_y7"
      }
    },
    {
      "cell_type": "code",
      "source": [
        "#03_04_triangulo_pascal.py\n",
        "\n",
        "\"\"\" Triangulo de Pascal\n",
        "       1        fila 1 -> triangulo[0]\n",
        "      1 1       fila 2 -> triangulo[1]\n",
        "     1 2 1      fila 3 -> triangulo[2]\n",
        "    1 3 3 1     fila 4 -> triangulo[3]\n",
        "\"\"\"\n",
        "\n",
        "def triangulo_pascal(cantidad_filas):\n",
        "\n",
        "    triangulo = []\n",
        "\n",
        "    for n_fila in range(cantidad_filas):\n",
        "\n",
        "        fila = []\n",
        "\n",
        "        for posicion in range(n_fila+1):\n",
        "\n",
        "            if posicion == 0 or posicion == n_fila:\n",
        "                fila.append(1)\n",
        "            else:\n",
        "                valor = triangulo[n_fila-1][posicion-1] + triangulo[n_fila-1][posicion]\n",
        "                fila.append(valor)\n",
        "\n",
        "        triangulo.append(fila)\n",
        "    return triangulo\n",
        "\n",
        "print(triangulo_pascal(4)) #[[1], [1,1], [1,2,1], [1,3,3,1]]"
      ],
      "metadata": {
        "colab": {
          "base_uri": "https://localhost:8080/"
        },
        "id": "boi1ZYcCtC_y",
        "outputId": "4606ccbf-9dc3-4bfc-d9bf-0df4cb1c6cda"
      },
      "execution_count": 8,
      "outputs": [
        {
          "output_type": "stream",
          "name": "stdout",
          "text": [
            "[[1], [1, 1], [1, 2, 1], [1, 3, 3, 1]]\n"
          ]
        }
      ]
    }
  ]
}