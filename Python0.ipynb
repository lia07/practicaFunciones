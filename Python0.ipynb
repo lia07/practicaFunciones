{
  "nbformat": 4,
  "nbformat_minor": 0,
  "metadata": {
    "colab": {
      "provenance": [],
      "authorship_tag": "ABX9TyNDe0uSpDgDd6Xr0+ozFcgm",
      "include_colab_link": true
    },
    "kernelspec": {
      "name": "python3",
      "display_name": "Python 3"
    }
  },
  "cells": [
    {
      "cell_type": "markdown",
      "metadata": {
        "id": "view-in-github",
        "colab_type": "text"
      },
      "source": [
        "<a href=\"https://colab.research.google.com/github/lia07/practicaFunciones/blob/master/Python0.ipynb\" target=\"_parent\"><img src=\"https://colab.research.google.com/assets/colab-badge.svg\" alt=\"Open In Colab\"/></a>"
      ]
    },
    {
      "cell_type": "code",
      "metadata": {
        "id": "SZxDAWW8Apfz"
      },
      "source": [],
      "execution_count": null,
      "outputs": []
    },
    {
      "cell_type": "markdown",
      "metadata": {
        "id": "RSy5vOG9BCDw"
      },
      "source": [
        "Python - Lenguaje de alto nivel\n",
        "Python es el lenguaje interpretado "
      ]
    },
    {
      "cell_type": "code",
      "metadata": {
        "id": "gqaaYGBJS-El"
      },
      "source": [
        "from google.colab import drive drive.mount('/content/drive')"
      ],
      "execution_count": null,
      "outputs": []
    },
    {
      "cell_type": "code",
      "metadata": {
        "id": "4j9EDy0SRZOL"
      },
      "source": [
        "import scipy.io\n",
        "from sklearn.svm import SVM\n",
        "import numpy as np\n",
        "import matplotlib.pyplot as plt\n",
        "import time\n",
        "\n",
        "ds = scipy.io.loadmat(\"content/dr/drive/My Drive/ex6data3\")\n",
        "print(\"Training load... \")\n",
        "training_X = DS[X]\n",
        "training_r = ds[\"y\"].reshape(len(ds[\"y\"]))\n",
        "val_X = ds[\"Xval\"]\n",
        "val_r = ds[\"yval\"].reshape(len(ds[\"yval\"]))\n",
        "\n",
        "\n"
      ],
      "execution_count": null,
      "outputs": []
    },
    {
      "cell_type": "markdown",
      "metadata": {
        "id": "oQHqrscvVLvA"
      },
      "source": [
        "# **Python Básico** "
      ]
    },
    {
      "cell_type": "code",
      "metadata": {
        "colab": {
          "base_uri": "https://localhost:8080/"
        },
        "id": "8fZ2cNWMVPpd",
        "outputId": "c85bccfd-2f96-47f0-f365-db1f331836f8"
      },
      "source": [
        "#cometario (no sera interpretado)\n",
        "#este codigo imprime por pantalla\n",
        "\n",
        "print(\"¡Bienvenido a Fundamentos de Programación en Python!\")\n",
        "print('Hello Word')\n"
      ],
      "execution_count": null,
      "outputs": [
        {
          "output_type": "stream",
          "text": [
            "¡Bienvenido a Fundamentos de Programación en Python!\n",
            "Hello Word\n"
          ],
          "name": "stdout"
        }
      ]
    },
    {
      "cell_type": "markdown",
      "metadata": {
        "id": "wi8Sw00yYM0-"
      },
      "source": [
        "Tipos de datos"
      ]
    },
    {
      "cell_type": "code",
      "metadata": {
        "id": "lRYPAFSTYQuk"
      },
      "source": [],
      "execution_count": null,
      "outputs": []
    }
  ]
}