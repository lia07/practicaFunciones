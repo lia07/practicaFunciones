{
  "nbformat": 4,
  "nbformat_minor": 0,
  "metadata": {
    "colab": {
      "provenance": [],
      "authorship_tag": "ABX9TyPDh0LA37TmJ4767ixwt0MT",
      "include_colab_link": true
    },
    "kernelspec": {
      "name": "python3",
      "display_name": "Python 3"
    },
    "language_info": {
      "name": "python"
    }
  },
  "cells": [
    {
      "cell_type": "markdown",
      "metadata": {
        "id": "view-in-github",
        "colab_type": "text"
      },
      "source": [
        "<a href=\"https://colab.research.google.com/github/lia07/practicaFunciones/blob/master/practica.ipynb\" target=\"_parent\"><img src=\"https://colab.research.google.com/assets/colab-badge.svg\" alt=\"Open In Colab\"/></a>"
      ]
    },
    {
      "cell_type": "code",
      "execution_count": null,
      "metadata": {
        "id": "T3ZTvid2DSXa",
        "colab": {
          "base_uri": "https://localhost:8080/"
        },
        "outputId": "1ec114c1-457a-42df-b4c9-e22d24e07683"
      },
      "outputs": [
        {
          "output_type": "stream",
          "name": "stdout",
          "text": [
            "3\n"
          ]
        }
      ],
      "source": [
        "def func(x):\n",
        "  res = 0\n",
        "  for i in range(x):\n",
        "     res += i\n",
        "  return res\n",
        "\n",
        "print(func(3))"
      ]
    },
    {
      "cell_type": "code",
      "source": [
        "def seacrh(text,word) :\n",
        "    if word in text :\n",
        "        print ('Word found')\n",
        "    else:\n",
        "        print('Word not found')\n",
        "\n",
        "text = input()\n",
        "word = input()\n",
        "seacrh(text,word)"
      ],
      "metadata": {
        "colab": {
          "base_uri": "https://localhost:8080/"
        },
        "id": "28lSaDdxKO9D",
        "outputId": "7b5f66a9-0079-4cb2-cc9e-7e38bf7144ff"
      },
      "execution_count": null,
      "outputs": [
        {
          "output_type": "stream",
          "name": "stdout",
          "text": [
            "This is awesome\n",
            "t\n",
            "Word not found\n"
          ]
        }
      ]
    },
    {
      "cell_type": "code",
      "source": [
        "cnt = 0\n",
        "for height in heights:\n",
        "  if height > 188:\n",
        "    cnt += 1\n",
        "print(cnt)"
      ],
      "metadata": {
        "id": "rli3EsKCzVMH"
      },
      "execution_count": null,
      "outputs": []
    },
    {
      "cell_type": "code",
      "source": [
        "import numpy as np\n",
        "heights_arr = np.array(heights)\n",
        "print((heights_arr > 188 ).sum())\n"
      ],
      "metadata": {
        "id": "KK09gYcl2Wep"
      },
      "execution_count": null,
      "outputs": []
    },
    {
      "cell_type": "markdown",
      "source": [
        "https://platzi.com/r/lia04123871/"
      ],
      "metadata": {
        "id": "VmrT7FymFAXZ"
      }
    }
  ]
}